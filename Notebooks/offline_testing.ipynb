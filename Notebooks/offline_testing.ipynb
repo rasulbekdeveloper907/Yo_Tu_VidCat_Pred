{
 "cells": [
  {
   "cell_type": "code",
   "execution_count": null,
   "id": "155f903c",
   "metadata": {},
   "outputs": [],
   "source": [
    "import pandas as pd\n",
    "from sklearn.tree import DecisionTreeRegressor\n",
    "from sklearn.preprocessing import OneHotEncoder\n",
    "from sklearn.compose import ColumnTransformer\n",
    "from sklearn.pipeline import Pipeline\n",
    "import joblib"
   ]
  },
  {
   "cell_type": "code",
   "execution_count": null,
   "id": "f72757d0",
   "metadata": {},
   "outputs": [],
   "source": [
    "import pandas as pd\n",
    "df=pd.read_csv(r\"C:\\Users\\davro\\OneDrive\\Desktop\\git_project\\Data\\Raw_Data\\BundesLiga\\metadata_bundesliga_1415.csv\")"
   ]
  },
  {
   "cell_type": "code",
   "execution_count": null,
   "id": "51e6a1a8",
   "metadata": {},
   "outputs": [],
   "source": [
    "df.info()"
   ]
  },
  {
   "cell_type": "code",
   "execution_count": null,
   "id": "3890d0bc",
   "metadata": {},
   "outputs": [],
   "source": [
    "df.tail()"
   ]
  },
  {
   "cell_type": "code",
   "execution_count": null,
   "id": "8a3a277a",
   "metadata": {},
   "outputs": [],
   "source": [
    "df.drop('Size',axis=1,inplace=True)"
   ]
  },
  {
   "cell_type": "code",
   "execution_count": null,
   "id": "3d676745",
   "metadata": {},
   "outputs": [],
   "source": [
    "df.info()"
   ]
  },
  {
   "cell_type": "code",
   "execution_count": null,
   "id": "db6cbcee",
   "metadata": {},
   "outputs": [],
   "source": [
    "target = 'xG'\n",
    "X = df.drop(['player_name', target], axis=1)\n",
    "y = df[target]\n"
   ]
  },
  {
   "cell_type": "code",
   "execution_count": null,
   "id": "0bc225f1",
   "metadata": {},
   "outputs": [],
   "source": [
    "cat_cols = ['position','team_title']\n",
    "num_cols = [col for col in X.columns if col not in cat_cols]"
   ]
  },
  {
   "cell_type": "code",
   "execution_count": null,
   "id": "26bd66f9",
   "metadata": {},
   "outputs": [],
   "source": [
    "preprocessor = ColumnTransformer(\n",
    "    transformers=[\n",
    "        ('cat', OneHotEncoder(handle_unknown='ignore'), cat_cols)\n",
    "    ],\n",
    "    remainder='passthrough'  # numeric columns remain unchanged\n",
    ")"
   ]
  },
  {
   "cell_type": "code",
   "execution_count": null,
   "id": "07b0d352",
   "metadata": {},
   "outputs": [],
   "source": [
    "preprocessor"
   ]
  },
  {
   "cell_type": "code",
   "execution_count": null,
   "id": "a65ad83a",
   "metadata": {},
   "outputs": [],
   "source": [
    "pipeline = Pipeline([\n",
    "    ('preprocess', preprocessor),\n",
    "    ('regressor', DecisionTreeRegressor(random_state=42))\n",
    "])\n"
   ]
  },
  {
   "cell_type": "code",
   "execution_count": null,
   "id": "57e13cfa",
   "metadata": {},
   "outputs": [],
   "source": [
    "pipeline"
   ]
  },
  {
   "cell_type": "code",
   "execution_count": null,
   "id": "51adb273",
   "metadata": {},
   "outputs": [],
   "source": [
    "pipeline.fit(X, y)"
   ]
  },
  {
   "cell_type": "markdown",
   "id": "4736c639",
   "metadata": {},
   "source": [
    "# Qoshimcha ishlar"
   ]
  },
  {
   "cell_type": "code",
   "execution_count": null,
   "id": "1994ec0e",
   "metadata": {},
   "outputs": [],
   "source": [
    "joblib.dump(pipeline, 'decision_tree_xG_pipeline.joblib')"
   ]
  },
  {
   "cell_type": "code",
   "execution_count": null,
   "id": "429fa992",
   "metadata": {},
   "outputs": [],
   "source": [
    "df.info()"
   ]
  },
  {
   "cell_type": "code",
   "execution_count": null,
   "id": "40fcaff9",
   "metadata": {},
   "outputs": [],
   "source": [
    "df['xG']"
   ]
  },
  {
   "cell_type": "code",
   "execution_count": null,
   "id": "3a797344",
   "metadata": {},
   "outputs": [],
   "source": [
    "offline_data = pd.DataFrame({\n",
    "    'id':[43280],\n",
    "    'games':[28],\n",
    "    'time':[2300],\n",
    "    'goals':[14],\n",
    "    'assists':[6],\n",
    "    'xA':[5.0],\n",
    "    'shots':[95],\n",
    "    'key_passes':[38],\n",
    "    'yellow_cards':[1],\n",
    "    'red_cards':[0],\n",
    "    'position':['F M S'],\n",
    "    'team_title':['Borussia Dortmund'],\n",
    "    'npg':[13],\n",
    "    'npxG':[12.5],\n",
    "    'xGChain':[22],\n",
    "    'xGBuildup':[3.5]\n",
    "})"
   ]
  },
  {
   "cell_type": "code",
   "execution_count": null,
   "id": "914fe002",
   "metadata": {},
   "outputs": [],
   "source": [
    "loaded_pipeline = joblib.load('decision_tree_xG_pipeline.joblib')"
   ]
  },
  {
   "cell_type": "code",
   "execution_count": null,
   "id": "4796df7c",
   "metadata": {},
   "outputs": [],
   "source": [
    "pred_xG = loaded_pipeline.predict(offline_data)\n",
    "print(\"Predicted xG for new player:\", pred_xG[0])"
   ]
  },
  {
   "cell_type": "code",
   "execution_count": null,
   "id": "69a04a2a",
   "metadata": {},
   "outputs": [],
   "source": []
  },
  {
   "cell_type": "code",
   "execution_count": null,
   "id": "b2aa43cf",
   "metadata": {},
   "outputs": [],
   "source": []
  }
 ],
 "metadata": {
  "language_info": {
   "name": "python"
  }
 },
 "nbformat": 4,
 "nbformat_minor": 5
}
