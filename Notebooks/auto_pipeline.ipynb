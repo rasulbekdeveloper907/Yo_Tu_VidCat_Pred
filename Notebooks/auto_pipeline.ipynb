{
 "cells": [
  {
   "cell_type": "code",
   "execution_count": 1,
   "id": "6ca6b342",
   "metadata": {},
   "outputs": [],
   "source": [
    "import sys\n",
    "import os\n",
    "import logging\n",
    "\n",
    "# To‘g‘ri yo‘lni sys.path ga qo‘shish\n",
    "sys.path.append(r\"C:\\Users\\Rasulbek907\\Desktop\\Project_MP\\Source\")\n",
    "\n",
    "# Fayl nomi: Auto_Pipeline.py, shuning uchun import ham shunday bo'lishi kerak\n",
    "from pipeline import DataLoader\n",
    "\n",
    "# Log fayl manzili\n",
    "log_path = r\"C:\\Users\\Rasulbek907\\Desktop\\Project_MP\\Log\\auto_pipeline.log\"\n",
    "\n",
    "# Log sozlamalari\n",
    "logging.basicConfig(\n",
    "    filename=log_path,\n",
    "    filemode='a',\n",
    "    format='%(asctime)s - %(levelname)s - %(message)s',\n",
    "    level=logging.INFO\n",
    ")\n",
    "\n",
    "# Ma'lumot faylining manzili\n",
    "data_path = r\"C:\\Users\\Rasulbek907\\Desktop\\Project_MP\\Data\\Feature_Selection\\Filtered_Featuress.csv\"\n",
    "\n",
    "try:\n",
    "    logging.info(\"Ma'lumot fayli yuklanmoqda...\")\n",
    "    df = DataLoader.load_csv(data_path)\n",
    "    logging.info(f\"Fayl muvaffaqiyatli yuklandi. Satrlar soni: {len(df)}, ustunlar soni: {len(df.columns)}\")\n",
    "except Exception as e:\n",
    "    logging.error(f\"Ma'lumot faylini yuklashda xatolik yuz berdi: {e}\")\n"
   ]
  },
  {
   "cell_type": "code",
   "execution_count": 2,
   "id": "bd7a2d95",
   "metadata": {},
   "outputs": [
    {
     "name": "stdout",
     "output_type": "stream",
     "text": [
      "   Unnamed: 0.1  Unnamed: 0  Video ID  Video Title  Channel  Published Date  \\\n",
      "0             0           0        26         4388     2187        0.988754   \n",
      "1             1           1      1447         2374     4507        0.898341   \n",
      "2             2           2      3989         2973     4820        0.910707   \n",
      "3             3           3      7437         7301     3101        0.944730   \n",
      "4             4           4      2123         7961     1298        0.892396   \n",
      "\n",
      "     Views  Likes  Comments  Subscribers  ...  Category_Cluster_x  Year  \\\n",
      "0    34727    686        16      4190000  ...                   2  2025   \n",
      "1    45151   1514        21       188000  ...                   2  2025   \n",
      "2   353713   6485       127        37300  ...                   2  2025   \n",
      "3  2171652  78431       183        43800  ...                   1  2025   \n",
      "4   246429   9321       949      2490000  ...                   0  2025   \n",
      "\n",
      "   Month  Day  DayOfWeek   DayName  Views_per_Sub  Engagement  Like_per_Sub  \\\n",
      "0     10   20          0  0.166667       0.008288    0.020214      0.000164   \n",
      "1     10   16          3  0.666667       0.240164    0.033996      0.008053   \n",
      "2     10   17          4  0.000000       9.482668    0.018693      0.173856   \n",
      "3     10   18          5  0.333333      49.579964    0.036200      1.790621   \n",
      "4     10   16          3  0.666667       0.098967    0.041675      0.003743   \n",
      "\n",
      "   Comment_per_Sub  \n",
      "0         0.000004  \n",
      "1         0.000112  \n",
      "2         0.003405  \n",
      "3         0.004178  \n",
      "4         0.000381  \n",
      "\n",
      "[5 rows x 31 columns]\n"
     ]
    }
   ],
   "source": [
    "import sys\n",
    "import os\n",
    "import importlib\n",
    "\n",
    "# 1. path qo‘shish\n",
    "source_path = r'C:\\Users\\Rasulbek907\\Desktop\\Project_MP\\Source'\n",
    "if source_path not in sys.path:\n",
    "    sys.path.append(source_path)\n",
    "\n",
    "# 2. Import va reload\n",
    "import pipeline\n",
    "importlib.reload(pipeline)  # 🔄 MUHIM: o‘zgargan faylni yangilaydi\n",
    "\n",
    "# 3. DataLoader ni olish\n",
    "from pipeline import DataLoader\n",
    "\n",
    "# 4. Foydalanish\n",
    "data_path = r'C:\\Users\\Rasulbek907\\Desktop\\Project_MP\\Data\\Feature_Selection\\Filtered_Featuress.csv'\n",
    "loader = DataLoader(data_path)\n",
    "\n",
    "# 5. Endi ishlaydi!\n",
    "df = loader.load_dataset()\n",
    "print(df.head()) "
   ]
  },
  {
   "cell_type": "code",
   "execution_count": 3,
   "id": "fb482ca3",
   "metadata": {},
   "outputs": [
    {
     "name": "stdout",
     "output_type": "stream",
     "text": [
      "<class 'pandas.core.frame.DataFrame'>\n",
      "RangeIndex: 8493 entries, 0 to 8492\n",
      "Data columns (total 31 columns):\n",
      " #   Column              Non-Null Count  Dtype  \n",
      "---  ------              --------------  -----  \n",
      " 0   Unnamed: 0.1        8493 non-null   int64  \n",
      " 1   Unnamed: 0          8493 non-null   int64  \n",
      " 2   Video ID            8493 non-null   int64  \n",
      " 3   Video Title         8493 non-null   int64  \n",
      " 4   Channel             8493 non-null   int64  \n",
      " 5   Published Date      8493 non-null   float64\n",
      " 6   Views               8493 non-null   int64  \n",
      " 7   Likes               8493 non-null   int64  \n",
      " 8   Comments            8493 non-null   int64  \n",
      " 9   Subscribers         8493 non-null   int64  \n",
      " 10  Channel Views       8493 non-null   int64  \n",
      " 11  Country             8493 non-null   int64  \n",
      " 12  Region              8493 non-null   int64  \n",
      " 13  CategoryID          8493 non-null   int64  \n",
      " 14  CategoryName        8493 non-null   int64  \n",
      " 15  Cluster             8493 non-null   int64  \n",
      " 16  CategoryID_enc      8493 non-null   int64  \n",
      " 17  VideoCluster        8493 non-null   int64  \n",
      " 18  Channel_Cluster     8493 non-null   int64  \n",
      " 19  Video_Cluster       8493 non-null   int64  \n",
      " 20  Country_Cluster_x   8493 non-null   int64  \n",
      " 21  Category_Cluster_x  8493 non-null   int64  \n",
      " 22  Year                8493 non-null   int64  \n",
      " 23  Month               8493 non-null   int64  \n",
      " 24  Day                 8493 non-null   int64  \n",
      " 25  DayOfWeek           8493 non-null   int64  \n",
      " 26  DayName             8493 non-null   float64\n",
      " 27  Views_per_Sub       8493 non-null   float64\n",
      " 28  Engagement          8493 non-null   float64\n",
      " 29  Like_per_Sub        8493 non-null   float64\n",
      " 30  Comment_per_Sub     8493 non-null   float64\n",
      "dtypes: float64(6), int64(25)\n",
      "memory usage: 2.0 MB\n"
     ]
    }
   ],
   "source": [
    "df.info()"
   ]
  },
  {
   "cell_type": "code",
   "execution_count": 4,
   "id": "a41535b9",
   "metadata": {},
   "outputs": [
    {
     "data": {
      "text/html": [
       "<div>\n",
       "<style scoped>\n",
       "    .dataframe tbody tr th:only-of-type {\n",
       "        vertical-align: middle;\n",
       "    }\n",
       "\n",
       "    .dataframe tbody tr th {\n",
       "        vertical-align: top;\n",
       "    }\n",
       "\n",
       "    .dataframe thead th {\n",
       "        text-align: right;\n",
       "    }\n",
       "</style>\n",
       "<table border=\"1\" class=\"dataframe\">\n",
       "  <thead>\n",
       "    <tr style=\"text-align: right;\">\n",
       "      <th></th>\n",
       "      <th>Unnamed: 0.1</th>\n",
       "      <th>Unnamed: 0</th>\n",
       "      <th>Video ID</th>\n",
       "      <th>Video Title</th>\n",
       "      <th>Channel</th>\n",
       "      <th>Published Date</th>\n",
       "      <th>Views</th>\n",
       "      <th>Likes</th>\n",
       "      <th>Comments</th>\n",
       "      <th>Subscribers</th>\n",
       "      <th>...</th>\n",
       "      <th>Category_Cluster_x</th>\n",
       "      <th>Year</th>\n",
       "      <th>Month</th>\n",
       "      <th>Day</th>\n",
       "      <th>DayOfWeek</th>\n",
       "      <th>DayName</th>\n",
       "      <th>Views_per_Sub</th>\n",
       "      <th>Engagement</th>\n",
       "      <th>Like_per_Sub</th>\n",
       "      <th>Comment_per_Sub</th>\n",
       "    </tr>\n",
       "  </thead>\n",
       "  <tbody>\n",
       "    <tr>\n",
       "      <th>0</th>\n",
       "      <td>0</td>\n",
       "      <td>0</td>\n",
       "      <td>26</td>\n",
       "      <td>4388</td>\n",
       "      <td>2187</td>\n",
       "      <td>0.988754</td>\n",
       "      <td>34727</td>\n",
       "      <td>686</td>\n",
       "      <td>16</td>\n",
       "      <td>4190000</td>\n",
       "      <td>...</td>\n",
       "      <td>2</td>\n",
       "      <td>2025</td>\n",
       "      <td>10</td>\n",
       "      <td>20</td>\n",
       "      <td>0</td>\n",
       "      <td>0.166667</td>\n",
       "      <td>0.008288</td>\n",
       "      <td>0.020214</td>\n",
       "      <td>0.000164</td>\n",
       "      <td>0.000004</td>\n",
       "    </tr>\n",
       "    <tr>\n",
       "      <th>1</th>\n",
       "      <td>1</td>\n",
       "      <td>1</td>\n",
       "      <td>1447</td>\n",
       "      <td>2374</td>\n",
       "      <td>4507</td>\n",
       "      <td>0.898341</td>\n",
       "      <td>45151</td>\n",
       "      <td>1514</td>\n",
       "      <td>21</td>\n",
       "      <td>188000</td>\n",
       "      <td>...</td>\n",
       "      <td>2</td>\n",
       "      <td>2025</td>\n",
       "      <td>10</td>\n",
       "      <td>16</td>\n",
       "      <td>3</td>\n",
       "      <td>0.666667</td>\n",
       "      <td>0.240164</td>\n",
       "      <td>0.033996</td>\n",
       "      <td>0.008053</td>\n",
       "      <td>0.000112</td>\n",
       "    </tr>\n",
       "    <tr>\n",
       "      <th>2</th>\n",
       "      <td>2</td>\n",
       "      <td>2</td>\n",
       "      <td>3989</td>\n",
       "      <td>2973</td>\n",
       "      <td>4820</td>\n",
       "      <td>0.910707</td>\n",
       "      <td>353713</td>\n",
       "      <td>6485</td>\n",
       "      <td>127</td>\n",
       "      <td>37300</td>\n",
       "      <td>...</td>\n",
       "      <td>2</td>\n",
       "      <td>2025</td>\n",
       "      <td>10</td>\n",
       "      <td>17</td>\n",
       "      <td>4</td>\n",
       "      <td>0.000000</td>\n",
       "      <td>9.482668</td>\n",
       "      <td>0.018693</td>\n",
       "      <td>0.173856</td>\n",
       "      <td>0.003405</td>\n",
       "    </tr>\n",
       "    <tr>\n",
       "      <th>3</th>\n",
       "      <td>3</td>\n",
       "      <td>3</td>\n",
       "      <td>7437</td>\n",
       "      <td>7301</td>\n",
       "      <td>3101</td>\n",
       "      <td>0.944730</td>\n",
       "      <td>2171652</td>\n",
       "      <td>78431</td>\n",
       "      <td>183</td>\n",
       "      <td>43800</td>\n",
       "      <td>...</td>\n",
       "      <td>1</td>\n",
       "      <td>2025</td>\n",
       "      <td>10</td>\n",
       "      <td>18</td>\n",
       "      <td>5</td>\n",
       "      <td>0.333333</td>\n",
       "      <td>49.579964</td>\n",
       "      <td>0.036200</td>\n",
       "      <td>1.790621</td>\n",
       "      <td>0.004178</td>\n",
       "    </tr>\n",
       "    <tr>\n",
       "      <th>4</th>\n",
       "      <td>4</td>\n",
       "      <td>4</td>\n",
       "      <td>2123</td>\n",
       "      <td>7961</td>\n",
       "      <td>1298</td>\n",
       "      <td>0.892396</td>\n",
       "      <td>246429</td>\n",
       "      <td>9321</td>\n",
       "      <td>949</td>\n",
       "      <td>2490000</td>\n",
       "      <td>...</td>\n",
       "      <td>0</td>\n",
       "      <td>2025</td>\n",
       "      <td>10</td>\n",
       "      <td>16</td>\n",
       "      <td>3</td>\n",
       "      <td>0.666667</td>\n",
       "      <td>0.098967</td>\n",
       "      <td>0.041675</td>\n",
       "      <td>0.003743</td>\n",
       "      <td>0.000381</td>\n",
       "    </tr>\n",
       "  </tbody>\n",
       "</table>\n",
       "<p>5 rows × 31 columns</p>\n",
       "</div>"
      ],
      "text/plain": [
       "   Unnamed: 0.1  Unnamed: 0  Video ID  Video Title  Channel  Published Date  \\\n",
       "0             0           0        26         4388     2187        0.988754   \n",
       "1             1           1      1447         2374     4507        0.898341   \n",
       "2             2           2      3989         2973     4820        0.910707   \n",
       "3             3           3      7437         7301     3101        0.944730   \n",
       "4             4           4      2123         7961     1298        0.892396   \n",
       "\n",
       "     Views  Likes  Comments  Subscribers  ...  Category_Cluster_x  Year  \\\n",
       "0    34727    686        16      4190000  ...                   2  2025   \n",
       "1    45151   1514        21       188000  ...                   2  2025   \n",
       "2   353713   6485       127        37300  ...                   2  2025   \n",
       "3  2171652  78431       183        43800  ...                   1  2025   \n",
       "4   246429   9321       949      2490000  ...                   0  2025   \n",
       "\n",
       "   Month  Day  DayOfWeek   DayName  Views_per_Sub  Engagement  Like_per_Sub  \\\n",
       "0     10   20          0  0.166667       0.008288    0.020214      0.000164   \n",
       "1     10   16          3  0.666667       0.240164    0.033996      0.008053   \n",
       "2     10   17          4  0.000000       9.482668    0.018693      0.173856   \n",
       "3     10   18          5  0.333333      49.579964    0.036200      1.790621   \n",
       "4     10   16          3  0.666667       0.098967    0.041675      0.003743   \n",
       "\n",
       "   Comment_per_Sub  \n",
       "0         0.000004  \n",
       "1         0.000112  \n",
       "2         0.003405  \n",
       "3         0.004178  \n",
       "4         0.000381  \n",
       "\n",
       "[5 rows x 31 columns]"
      ]
     },
     "execution_count": 4,
     "metadata": {},
     "output_type": "execute_result"
    }
   ],
   "source": [
    "df.head()\n"
   ]
  },
  {
   "cell_type": "code",
   "execution_count": 3,
   "id": "fac61175",
   "metadata": {},
   "outputs": [],
   "source": [
    "from auto_pipeline import PlayerPipeline\n",
    "from sklearn.ensemble import RandomForestClassifier"
   ]
  },
  {
   "cell_type": "markdown",
   "id": "3cc24d08",
   "metadata": {},
   "source": [
    "# Avto Pipeline RandomForestRegressor"
   ]
  },
  {
   "cell_type": "code",
   "execution_count": null,
   "id": "057b3200",
   "metadata": {},
   "outputs": [
    {
     "name": "stdout",
     "output_type": "stream",
     "text": [
      "✅ Accuracy: 1.0\n"
     ]
    }
   ],
   "source": [
    "from sklearn.ensemble import RandomForestClassifier\n",
    "from sklearn.metrics import accuracy_score, classification_report\n",
    "\n",
    "\n",
    "pipeline_rf = PlayerPipeline(df=df, target=\"CategoryName\", model=RandomForestClassifier(n_estimators=100, random_state=42))\n",
    "\n",
    "pipeline_rf.fit()\n",
    "y_pred = pipeline_rf.predict()\n",
    "\n",
    "accuracy = accuracy_score(pipeline_rf.y_test, y_pred)\n",
    "print(\"✅ Accuracy:\", round(accuracy, 4))"
   ]
  },
  {
   "cell_type": "code",
   "execution_count": 5,
   "id": "e2d1c098",
   "metadata": {},
   "outputs": [
    {
     "name": "stdout",
     "output_type": "stream",
     "text": [
      "✅ Model muvaffaqiyatli saqlandi: C:\\Users\\Rasulbek907\\Desktop\\Project_MP\\Models\\Pipeline_Models\\RandomForestClassifier.joblib\n"
     ]
    }
   ],
   "source": [
    "import joblib\n",
    "import os\n",
    "\n",
    "model_path = r\"C:\\Users\\Rasulbek907\\Desktop\\Project_MP\\Models\\Pipeline_Models\\RandomForestClassifier.joblib\"\n",
    "os.makedirs(os.path.dirname(model_path), exist_ok=True)\n",
    "\n",
    "joblib.dump(pipeline_rf, model_path)\n",
    "print(f\"✅ Model muvaffaqiyatli saqlandi: {model_path}\")  "
   ]
  },
  {
   "cell_type": "markdown",
   "id": "a766c0da",
   "metadata": {},
   "source": [
    "# Avto Pipeline DecisionTreeRegressor"
   ]
  },
  {
   "cell_type": "code",
   "execution_count": 6,
   "id": "70be41fe",
   "metadata": {},
   "outputs": [
    {
     "name": "stdout",
     "output_type": "stream",
     "text": [
      "✅ Accuracy: 1.0\n"
     ]
    }
   ],
   "source": [
    "from sklearn.tree import DecisionTreeClassifier\n",
    "from sklearn.metrics import accuracy_score, classification_report\n",
    "\n",
    "pipeline_dt = PlayerPipeline(df=df, target=\"CategoryName\", model=DecisionTreeClassifier(random_state=42))\n",
    "pipeline_dt.fit()\n",
    "\n",
    "y_pred = pipeline_dt.predict()\n",
    "\n",
    "accuracy = accuracy_score(pipeline_dt.y_test, y_pred)\n",
    "print(\"✅ Accuracy:\", round(accuracy, 4))"
   ]
  },
  {
   "cell_type": "code",
   "execution_count": 7,
   "id": "2793fff4",
   "metadata": {},
   "outputs": [
    {
     "name": "stdout",
     "output_type": "stream",
     "text": [
      "✅ Model muvaffaqiyatli saqlandi: C:\\Users\\Rasulbek907\\Desktop\\Project_MP\\Models\\Pipeline_Models\\DecisionTreeClassifier.joblib\n"
     ]
    }
   ],
   "source": [
    "import joblib\n",
    "import os\n",
    "\n",
    "model_path = r\"C:\\Users\\Rasulbek907\\Desktop\\Project_MP\\Models\\Pipeline_Models\\DecisionTreeClassifier.joblib\"\n",
    "os.makedirs(os.path.dirname(model_path), exist_ok=True)\n",
    "\n",
    "joblib.dump(pipeline_dt, model_path)\n",
    "print(f\"✅ Model muvaffaqiyatli saqlandi: {model_path}\")  "
   ]
  },
  {
   "cell_type": "markdown",
   "id": "54fa02e9",
   "metadata": {},
   "source": [
    "# Avto Pipeline LogisticRegression"
   ]
  },
  {
   "cell_type": "code",
   "execution_count": null,
   "id": "74e7a655",
   "metadata": {},
   "outputs": [
    {
     "name": "stdout",
     "output_type": "stream",
     "text": [
      "✅ Logistic Regression Accuracy: 0.9953\n"
     ]
    }
   ],
   "source": [
    "from sklearn.linear_model import LogisticRegression\n",
    "from sklearn.metrics import accuracy_score, classification_report\n",
    "\n",
    "\n",
    "pipeline_lr = PlayerPipeline(df=df, target=\"CategoryName\", model=LogisticRegression(max_iter=1000, random_state=42))\n",
    "pipeline_lr.fit()\n",
    "y_pred = pipeline_lr.predict()\n",
    "\n",
    "accuracy = accuracy_score(pipeline_lr.y_test, y_pred)\n",
    "print(\"✅ Logistic Regression Accuracy:\", round(accuracy, 4))"
   ]
  },
  {
   "cell_type": "code",
   "execution_count": 10,
   "id": "092c280c",
   "metadata": {},
   "outputs": [
    {
     "name": "stdout",
     "output_type": "stream",
     "text": [
      "✅ Model muvaffaqiyatli saqlandi: C:\\Users\\Rasulbek907\\Desktop\\Project_MP\\Models\\Pipeline_Models\\LogisticRegression.joblib\n"
     ]
    }
   ],
   "source": [
    "import joblib\n",
    "import os\n",
    "\n",
    "model_path = r\"C:\\Users\\Rasulbek907\\Desktop\\Project_MP\\Models\\Pipeline_Models\\LogisticRegression.joblib\"\n",
    "os.makedirs(os.path.dirname(model_path), exist_ok=True)\n",
    "\n",
    "joblib.dump(pipeline_lr, model_path)\n",
    "print(f\"✅ Model muvaffaqiyatli saqlandi: {model_path}\")  "
   ]
  },
  {
   "cell_type": "markdown",
   "id": "ffd499ff",
   "metadata": {},
   "source": [
    "# Avto Pipeline XGBClassifier"
   ]
  },
  {
   "cell_type": "code",
   "execution_count": 9,
   "id": "aa4ffeb7",
   "metadata": {},
   "outputs": [
    {
     "name": "stderr",
     "output_type": "stream",
     "text": [
      "c:\\Users\\Rasulbek907\\Desktop\\Project_MP\\mpvenv\\Lib\\site-packages\\xgboost\\training.py:199: UserWarning: [09:48:30] WARNING: C:\\actions-runner\\_work\\xgboost\\xgboost\\src\\learner.cc:790: \n",
      "Parameters: { \"use_label_encoder\" } are not used.\n",
      "\n",
      "  bst.update(dtrain, iteration=i, fobj=obj)\n"
     ]
    },
    {
     "name": "stdout",
     "output_type": "stream",
     "text": [
      "✅ XGBoost Accuracy: 1.0\n"
     ]
    }
   ],
   "source": [
    "from xgboost import XGBClassifier\n",
    "from sklearn.metrics import accuracy_score, classification_report\n",
    "\n",
    "# 🔹 Pipeline yaratish\n",
    "pipeline_xgb = PlayerPipeline(\n",
    "    df=df,\n",
    "    target=\"CategoryName\",\n",
    "    model=XGBClassifier(\n",
    "        n_estimators=200,\n",
    "        learning_rate=0.1,\n",
    "        max_depth=6,\n",
    "        random_state=42,\n",
    "        use_label_encoder=False,\n",
    "        eval_metric='logloss'\n",
    "    )\n",
    ")\n",
    "pipeline_xgb.fit()\n",
    "y_pred = pipeline_xgb.predict()\n",
    "\n",
    "\n",
    "accuracy = accuracy_score(pipeline_xgb.y_test, y_pred)\n",
    "print(\"✅ XGBoost Accuracy:\", round(accuracy, 4))"
   ]
  },
  {
   "cell_type": "code",
   "execution_count": 13,
   "id": "5ea32e65",
   "metadata": {},
   "outputs": [
    {
     "name": "stdout",
     "output_type": "stream",
     "text": [
      "✅ Model muvaffaqiyatli saqlandi: C:\\Users\\Rasulbek907\\Desktop\\Project_MP\\Models\\Pipeline_Models\\XGBClassifier.joblib\n"
     ]
    }
   ],
   "source": [
    "import joblib\n",
    "import os\n",
    "\n",
    "model_path = r\"C:\\Users\\Rasulbek907\\Desktop\\Project_MP\\Models\\Pipeline_Models\\XGBClassifier.joblib\"\n",
    "os.makedirs(os.path.dirname(model_path), exist_ok=True)\n",
    "\n",
    "joblib.dump(pipeline_xgb, model_path)\n",
    "print(f\"✅ Model muvaffaqiyatli saqlandi: {model_path}\")  "
   ]
  },
  {
   "cell_type": "markdown",
   "id": "4392c911",
   "metadata": {},
   "source": [
    "# Natijalarni Taqqoslash "
   ]
  },
  {
   "cell_type": "code",
   "execution_count": 15,
   "id": "7246947b",
   "metadata": {},
   "outputs": [
    {
     "name": "stdout",
     "output_type": "stream",
     "text": [
      "🔧 Training RandomForest ...\n",
      "✅ RandomForest Accuracy: 100.0%\n",
      "🔧 Training DecisionTree ...\n",
      "✅ DecisionTree Accuracy: 100.0%\n",
      "🔧 Training LogisticRegression ...\n",
      "✅ LogisticRegression Accuracy: 99.53%\n",
      "🔧 Training XGBoost ...\n"
     ]
    },
    {
     "name": "stderr",
     "output_type": "stream",
     "text": [
      "c:\\Users\\Rasulbek907\\Desktop\\Project_MP\\mpvenv\\Lib\\site-packages\\xgboost\\training.py:199: UserWarning: [09:51:08] WARNING: C:\\actions-runner\\_work\\xgboost\\xgboost\\src\\learner.cc:790: \n",
      "Parameters: { \"use_label_encoder\" } are not used.\n",
      "\n",
      "  bst.update(dtrain, iteration=i, fobj=obj)\n"
     ]
    },
    {
     "name": "stdout",
     "output_type": "stream",
     "text": [
      "✅ XGBoost Accuracy: 100.0%\n"
     ]
    },
    {
     "name": "stderr",
     "output_type": "stream",
     "text": [
      "C:\\Users\\Rasulbek907\\AppData\\Local\\Temp\\ipykernel_17068\\1091674028.py:45: FutureWarning: \n",
      "\n",
      "Passing `palette` without assigning `hue` is deprecated and will be removed in v0.14.0. Assign the `x` variable to `hue` and set `legend=False` for the same effect.\n",
      "\n",
      "  barplot = sns.barplot(\n",
      "C:\\Users\\Rasulbek907\\AppData\\Local\\Temp\\ipykernel_17068\\1091674028.py:62: UserWarning: Glyph 127919 (\\N{DIRECT HIT}) missing from font(s) Arial.\n",
      "  plt.tight_layout()\n",
      "c:\\Users\\Rasulbek907\\Desktop\\Project_MP\\mpvenv\\Lib\\site-packages\\IPython\\core\\pylabtools.py:170: UserWarning: Glyph 127919 (\\N{DIRECT HIT}) missing from font(s) Arial.\n",
      "  fig.canvas.print_figure(bytes_io, **kw)\n"
     ]
    },
    {
     "data": {
      "image/png": "[encoded data removed]",
      "text/plain": [
       "<Figure size 1000x600 with 1 Axes>"
      ]
     },
     "metadata": {},
     "output_type": "display_data"
    }
   ],
   "source": [
    "import pandas as pd\n",
    "import matplotlib.pyplot as plt\n",
    "import seaborn as sns\n",
    "from sklearn.metrics import accuracy_score\n",
    "from sklearn.ensemble import RandomForestClassifier\n",
    "from sklearn.tree import DecisionTreeClassifier\n",
    "from sklearn.linear_model import LogisticRegression\n",
    "from xgboost import XGBClassifier\n",
    "\n",
    "# 🔹 Model ro‘yxati\n",
    "models = {\n",
    "    \"RandomForest\": RandomForestClassifier(n_estimators=100, random_state=42),\n",
    "    \"DecisionTree\": DecisionTreeClassifier(random_state=42),\n",
    "    \"LogisticRegression\": LogisticRegression(max_iter=1000, random_state=42),\n",
    "    \"XGBoost\": XGBClassifier(\n",
    "        n_estimators=200,\n",
    "        learning_rate=0.1,\n",
    "        max_depth=6,\n",
    "        random_state=42,\n",
    "        use_label_encoder=False,\n",
    "        eval_metric='logloss'\n",
    "    )\n",
    "}\n",
    "\n",
    "# 🔹 Natijalarni saqlash\n",
    "results = []\n",
    "\n",
    "# 🔹 Har bir modelni o‘qitish va aniqlikni o‘lchash\n",
    "for name, model in models.items():\n",
    "    print(f\"🔧 Training {name} ...\")\n",
    "    pipeline = PlayerPipeline(df=df, target=\"CategoryName\", model=model)\n",
    "    pipeline.fit()\n",
    "    y_pred = pipeline.predict()\n",
    "    acc = accuracy_score(pipeline.y_test, y_pred)\n",
    "    results.append({\"Model\": name, \"Accuracy\": acc})\n",
    "    print(f\"✅ {name} Accuracy: {round(acc * 100, 2)}%\")\n",
    "\n",
    "# 🔹 DataFrame shaklida natijalar\n",
    "results_df = pd.DataFrame(results).sort_values(\"Accuracy\", ascending=False)\n",
    "\n",
    "# 🎨 Grafik chizish (Seaborn bilan)\n",
    "plt.figure(figsize=(10, 6))\n",
    "sns.set(style=\"whitegrid\")\n",
    "\n",
    "barplot = sns.barplot(\n",
    "    data=results_df,\n",
    "    x=\"Model\",\n",
    "    y=\"Accuracy\",\n",
    "    palette=\"viridis\",\n",
    "    saturation=0.9\n",
    ")\n",
    "\n",
    "# 📊 Natijalarni ustiga yozish\n",
    "for i, row in enumerate(results_df.itertuples()):\n",
    "    plt.text(i, row.Accuracy + 0.01, f\"{row.Accuracy*100:.2f}%\", \n",
    "             ha='center', fontsize=11, weight='bold', color='black')\n",
    "\n",
    "plt.title(\"🎯 Model Performance Comparison\", fontsize=16, weight='bold', pad=15)\n",
    "plt.ylabel(\"Accuracy (0–1)\", fontsize=12)\n",
    "plt.xlabel(\"Model\", fontsize=12)\n",
    "plt.ylim(0, 1.05)\n",
    "plt.tight_layout()\n",
    "plt.show()\n"
   ]
  },
  {
   "cell_type": "code",
   "execution_count": null,
   "id": "138062d7",
   "metadata": {},
   "outputs": [],
   "source": []
  }
 ],
 "metadata": {
  "kernelspec": {
   "display_name": "mpvenv",
   "language": "python",
   "name": "python3"
  },
  "language_info": {
   "codemirror_mode": {
    "name": "ipython",
    "version": 3
   },
   "file_extension": ".py",
   "mimetype": "text/x-python",
   "name": "python",
   "nbconvert_exporter": "python",
   "pygments_lexer": "ipython3",
   "version": "3.13.7"
  }
 },
 "nbformat": 4,
 "nbformat_minor": 5
}
