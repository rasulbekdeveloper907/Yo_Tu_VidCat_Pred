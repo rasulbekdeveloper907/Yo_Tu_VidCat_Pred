{
 "cells": [
  {
   "cell_type": "markdown",
   "id": "79cfb329",
   "metadata": {},
   "source": [
    "# !pip install imbalanced-learn\n"
   ]
  },
  {
   "cell_type": "code",
   "execution_count": null,
   "id": "3bf73fa4",
   "metadata": {},
   "outputs": [],
   "source": [
    "!pip install imbalanced-learn"
   ]
  },
  {
   "cell_type": "code",
   "execution_count": null,
   "id": "2d9a4c94",
   "metadata": {},
   "outputs": [],
   "source": [
    "import numpy as np\n",
    "import pandas as pd\n",
    "from collections import Counter\n",
    "from imblearn.over_sampling import RandomOverSampler, SMOTE, ADASYN"
   ]
  },
  {
   "cell_type": "code",
   "execution_count": null,
   "id": "9efac071",
   "metadata": {},
   "outputs": [],
   "source": [
    "x = np.array([[1], [2], [3], [4], [5], [6]]) \n",
    "y = np.array([0, 0, 0, 0, 1, 1])   "
   ]
  },
  {
   "cell_type": "code",
   "execution_count": null,
   "id": "e4288293",
   "metadata": {},
   "outputs": [],
   "source": [
    "x"
   ]
  },
  {
   "cell_type": "code",
   "execution_count": null,
   "id": "fce398b4",
   "metadata": {},
   "outputs": [],
   "source": [
    "y"
   ]
  },
  {
   "cell_type": "code",
   "execution_count": null,
   "id": "59d9d2e0",
   "metadata": {},
   "outputs": [],
   "source": [
    "print(\"Original class distribution:\", Counter(y))"
   ]
  },
  {
   "cell_type": "markdown",
   "id": "814742af",
   "metadata": {},
   "source": [
    "# Random Oversampling"
   ]
  },
  {
   "cell_type": "code",
   "execution_count": null,
   "id": "607c1781",
   "metadata": {},
   "outputs": [],
   "source": [
    "ros = RandomOverSampler(random_state=42)\n",
    "X_ros, y_ros = ros.fit_resample(x, y)"
   ]
  },
  {
   "cell_type": "code",
   "execution_count": null,
   "id": "15ac3679",
   "metadata": {},
   "outputs": [],
   "source": [
    "print(\"\\nRandom Oversampling class distribution:\", Counter(y_ros))\n",
    "print(\"Random Oversampling samples:\\n\", X_ros.flatten())"
   ]
  },
  {
   "cell_type": "code",
   "execution_count": null,
   "id": "c2809041",
   "metadata": {},
   "outputs": [],
   "source": [
    "X_ros, y_ros"
   ]
  },
  {
   "cell_type": "markdown",
   "id": "bce09bc4",
   "metadata": {},
   "source": [
    "# SMOTE"
   ]
  },
  {
   "cell_type": "code",
   "execution_count": null,
   "id": "63eaea9a",
   "metadata": {},
   "outputs": [],
   "source": [
    "smote = SMOTE(random_state=42,k_neighbors=1)\n",
    "X_smote, y_smote = smote.fit_resample(x, y)"
   ]
  },
  {
   "cell_type": "code",
   "execution_count": null,
   "id": "a59887fb",
   "metadata": {},
   "outputs": [],
   "source": [
    "print(\"\\nSMOTE class distribution:\", Counter(y_smote))\n",
    "print(\"SMOTE samples:\\n\", X_smote.flatten())"
   ]
  },
  {
   "cell_type": "code",
   "execution_count": null,
   "id": "289f8ad8",
   "metadata": {},
   "outputs": [],
   "source": [
    "X_smote, y_smote"
   ]
  },
  {
   "cell_type": "markdown",
   "id": "35f354b0",
   "metadata": {},
   "source": [
    "#  ADASYN"
   ]
  },
  {
   "cell_type": "code",
   "execution_count": null,
   "id": "d4a68ed0",
   "metadata": {},
   "outputs": [],
   "source": [
    "adasyn = ADASYN(random_state=42, n_neighbors=1)\n",
    "X_ada, y_ada = adasyn.fit_resample(x, y)"
   ]
  },
  {
   "cell_type": "code",
   "execution_count": null,
   "id": "5b531546",
   "metadata": {},
   "outputs": [],
   "source": [
    "print(\"\\nADASYN class distribution:\", Counter(y_ada))\n",
    "print(\"ADASYN samples:\\n\", X_ada.flatten())"
   ]
  },
  {
   "cell_type": "code",
   "execution_count": null,
   "id": "a689e800",
   "metadata": {},
   "outputs": [],
   "source": [
    "df_original = pd.DataFrame({'x': x.flatten(), 'y': y})\n",
    "df_ros = pd.DataFrame({'x': X_ros.flatten(), 'y': y_ros})\n",
    "df_smote = pd.DataFrame({'x': X_smote.flatten(), 'y': y_smote})\n",
    "df_ada = pd.DataFrame({'x': X_ada.flatten(), 'y': y_ada})\n",
    "\n",
    "print(\"\\nOriginal dataset:\\n\", df_original)\n",
    "print(\"\\nRandom Oversampling dataset:\\n\", df_ros)\n"
   ]
  },
  {
   "cell_type": "code",
   "execution_count": null,
   "id": "c259fffa",
   "metadata": {},
   "outputs": [],
   "source": [
    "print(\"\\nOriginal dataset:\\n\", df_original)\n",
    "print(\"\\nSMOTE dataset:\\n\", df_smote)\n"
   ]
  },
  {
   "cell_type": "code",
   "execution_count": null,
   "id": "ced5f645",
   "metadata": {},
   "outputs": [],
   "source": [
    "print(\"\\nOriginal dataset:\\n\", df_original)\n",
    "print(\"\\nADASYN dataset:\\n\", df_ada)"
   ]
  },
  {
   "cell_type": "markdown",
   "id": "201420e4",
   "metadata": {},
   "source": [
    "# Undersampling"
   ]
  },
  {
   "cell_type": "code",
   "execution_count": null,
   "id": "056646fd",
   "metadata": {},
   "outputs": [],
   "source": [
    "import numpy as np\n",
    "import pandas as pd\n",
    "from collections import Counter\n",
    "from imblearn.under_sampling import RandomUnderSampler, ClusterCentroids, NearMiss"
   ]
  },
  {
   "cell_type": "code",
   "execution_count": null,
   "id": "e0d9792b",
   "metadata": {},
   "outputs": [],
   "source": [
    "X = np.array([[1,1], [2,1], [3,1], [4,1], [5,1], [6,1]])\n",
    "y = np.array([0, 0, 0, 0, 1, 1])"
   ]
  },
  {
   "cell_type": "code",
   "execution_count": null,
   "id": "ab8e6297",
   "metadata": {},
   "outputs": [],
   "source": [
    "print(\"Original class distribution:\", Counter(y))"
   ]
  },
  {
   "cell_type": "markdown",
   "id": "d1fe396f",
   "metadata": {},
   "source": [
    "# Random Undersampling"
   ]
  },
  {
   "cell_type": "code",
   "execution_count": null,
   "id": "23bf5fb9",
   "metadata": {},
   "outputs": [],
   "source": [
    "\n",
    "\n",
    "rus = RandomUnderSampler(random_state=42)\n",
    "X_rus, y_rus = rus.fit_resample(X, y)\n",
    "\n",
    "print(\"\\nRandom Undersampling class distribution:\", Counter(y_rus))\n",
    "print(\"Random Undersampling samples:\\n\", X_rus)"
   ]
  },
  {
   "cell_type": "markdown",
   "id": "c28325e7",
   "metadata": {},
   "source": [
    "# Cluster Centroids"
   ]
  },
  {
   "cell_type": "code",
   "execution_count": null,
   "id": "2781d97d",
   "metadata": {},
   "outputs": [],
   "source": [
    "\n",
    "\n",
    "cc = ClusterCentroids(random_state=42)\n",
    "X_cc, y_cc = cc.fit_resample(X, y)"
   ]
  },
  {
   "cell_type": "code",
   "execution_count": null,
   "id": "5e71d894",
   "metadata": {},
   "outputs": [],
   "source": [
    "\n",
    "print(\"\\nCluster Centroids class distribution:\", Counter(y_cc))\n",
    "print(\"Cluster Centroids samples:\\n\", X_cc)"
   ]
  },
  {
   "cell_type": "markdown",
   "id": "2acc276e",
   "metadata": {},
   "source": [
    "# NearMiss "
   ]
  },
  {
   "cell_type": "code",
   "execution_count": null,
   "id": "6827425c",
   "metadata": {},
   "outputs": [],
   "source": [
    "\n",
    "nm = NearMiss(version=1, n_neighbors=1)\n",
    "X_nm, y_nm = nm.fit_resample(X, y)\n",
    "\n",
    "print(\"\\nNearMiss class distribution:\", Counter(y_nm))\n",
    "print(\"NearMiss samples:\\n\", X_nm)\n"
   ]
  },
  {
   "cell_type": "code",
   "execution_count": null,
   "id": "c5da31ba",
   "metadata": {},
   "outputs": [],
   "source": [
    "df_original = pd.DataFrame({'X1': X[:,0], 'X2': X[:,1], 'y': y})\n",
    "df_rus = pd.DataFrame({'X1': X_rus[:,0], 'X2': X_rus[:,1], 'y': y_rus})\n",
    "df_cc = pd.DataFrame({'X1': X_cc[:,0], 'X2': X_cc[:,1], 'y': y_cc})\n",
    "df_nm = pd.DataFrame({'X1': X_nm[:,0], 'X2': X_nm[:,1], 'y': y_nm})\n",
    "\n",
    "print(\"\\nOriginal dataset:\\n\", df_original)\n",
    "print(\"\\nRandom Undersampling dataset:\\n\", df_rus)\n"
   ]
  },
  {
   "cell_type": "code",
   "execution_count": null,
   "id": "f803d532",
   "metadata": {},
   "outputs": [],
   "source": [
    "print(\"\\nOriginal dataset:\\n\", df_original)\n",
    "print(\"\\nCluster Centroids dataset:\\n\", df_cc)\n"
   ]
  },
  {
   "cell_type": "code",
   "execution_count": null,
   "id": "760cacf9",
   "metadata": {},
   "outputs": [],
   "source": [
    "print(\"\\nOriginal dataset:\\n\", df_original)\n",
    "print(\"\\nNearMiss dataset:\\n\", df_nm)"
   ]
  },
  {
   "cell_type": "code",
   "execution_count": null,
   "id": "db53cbc3",
   "metadata": {},
   "outputs": [],
   "source": []
  },
  {
   "cell_type": "code",
   "execution_count": null,
   "id": "163de0b0",
   "metadata": {},
   "outputs": [],
   "source": []
  }
 ],
 "metadata": {
  "language_info": {
   "name": "python"
  }
 },
 "nbformat": 4,
 "nbformat_minor": 5
}
