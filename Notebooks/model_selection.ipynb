{
 "cells": [
  {
   "cell_type": "code",
   "execution_count": 1,
   "id": "a17fd075",
   "metadata": {},
   "outputs": [],
   "source": [
    "import pandas as pd\n",
    "import logging\n",
    "\n",
    "# Log fayl manzili\n",
    "log_path = r\"C:\\Users\\Rasulbek907\\Desktop\\Project_MP\\Log\\training.log\"\n",
    "\n",
    "# Log sozlamalari\n",
    "logging.basicConfig(\n",
    "    filename=log_path,\n",
    "    filemode='a',  # Append mode\n",
    "    format='%(asctime)s - %(levelname)s - %(message)s',\n",
    "    level=logging.INFO\n",
    ")\n",
    "\n",
    "try:\n",
    "    logging.info(\"CSV fayl o'qilmoqda:...\")\n",
    "    df = pd.read_csv(r\"C:\\Users\\Rasulbek907\\Desktop\\Project_MP\\Data\\Feature_Selection\\Filtered_Featuress.csv\")\n",
    "    logging.info(f\"Fayl muvaffaqiyatli o'qildi. Satırlar soni: {len(df)} ustunlar soni: {len(df.columns)}\")\n",
    "except Exception as e:\n",
    "    logging.error(f\"CSV faylni o'qishda xatolik: {e}\")"
   ]
  },
  {
   "cell_type": "code",
   "execution_count": 2,
   "id": "b5f8d5f3",
   "metadata": {},
   "outputs": [
    {
     "data": {
      "text/html": [
       "<div>\n",
       "<style scoped>\n",
       "    .dataframe tbody tr th:only-of-type {\n",
       "        vertical-align: middle;\n",
       "    }\n",
       "\n",
       "    .dataframe tbody tr th {\n",
       "        vertical-align: top;\n",
       "    }\n",
       "\n",
       "    .dataframe thead th {\n",
       "        text-align: right;\n",
       "    }\n",
       "</style>\n",
       "<table border=\"1\" class=\"dataframe\">\n",
       "  <thead>\n",
       "    <tr style=\"text-align: right;\">\n",
       "      <th></th>\n",
       "      <th>Unnamed: 0.1</th>\n",
       "      <th>Unnamed: 0</th>\n",
       "      <th>Video ID</th>\n",
       "      <th>Video Title</th>\n",
       "      <th>Channel</th>\n",
       "      <th>Published Date</th>\n",
       "      <th>Views</th>\n",
       "      <th>Likes</th>\n",
       "      <th>Comments</th>\n",
       "      <th>Subscribers</th>\n",
       "      <th>...</th>\n",
       "      <th>Category_Cluster_x</th>\n",
       "      <th>Year</th>\n",
       "      <th>Month</th>\n",
       "      <th>Day</th>\n",
       "      <th>DayOfWeek</th>\n",
       "      <th>DayName</th>\n",
       "      <th>Views_per_Sub</th>\n",
       "      <th>Engagement</th>\n",
       "      <th>Like_per_Sub</th>\n",
       "      <th>Comment_per_Sub</th>\n",
       "    </tr>\n",
       "  </thead>\n",
       "  <tbody>\n",
       "    <tr>\n",
       "      <th>0</th>\n",
       "      <td>0</td>\n",
       "      <td>0</td>\n",
       "      <td>26</td>\n",
       "      <td>4388</td>\n",
       "      <td>2187</td>\n",
       "      <td>0.988754</td>\n",
       "      <td>34727</td>\n",
       "      <td>686</td>\n",
       "      <td>16</td>\n",
       "      <td>4190000</td>\n",
       "      <td>...</td>\n",
       "      <td>2</td>\n",
       "      <td>2025</td>\n",
       "      <td>10</td>\n",
       "      <td>20</td>\n",
       "      <td>0</td>\n",
       "      <td>0.166667</td>\n",
       "      <td>0.008288</td>\n",
       "      <td>0.020214</td>\n",
       "      <td>0.000164</td>\n",
       "      <td>0.000004</td>\n",
       "    </tr>\n",
       "    <tr>\n",
       "      <th>1</th>\n",
       "      <td>1</td>\n",
       "      <td>1</td>\n",
       "      <td>1447</td>\n",
       "      <td>2374</td>\n",
       "      <td>4507</td>\n",
       "      <td>0.898341</td>\n",
       "      <td>45151</td>\n",
       "      <td>1514</td>\n",
       "      <td>21</td>\n",
       "      <td>188000</td>\n",
       "      <td>...</td>\n",
       "      <td>2</td>\n",
       "      <td>2025</td>\n",
       "      <td>10</td>\n",
       "      <td>16</td>\n",
       "      <td>3</td>\n",
       "      <td>0.666667</td>\n",
       "      <td>0.240164</td>\n",
       "      <td>0.033996</td>\n",
       "      <td>0.008053</td>\n",
       "      <td>0.000112</td>\n",
       "    </tr>\n",
       "    <tr>\n",
       "      <th>2</th>\n",
       "      <td>2</td>\n",
       "      <td>2</td>\n",
       "      <td>3989</td>\n",
       "      <td>2973</td>\n",
       "      <td>4820</td>\n",
       "      <td>0.910707</td>\n",
       "      <td>353713</td>\n",
       "      <td>6485</td>\n",
       "      <td>127</td>\n",
       "      <td>37300</td>\n",
       "      <td>...</td>\n",
       "      <td>2</td>\n",
       "      <td>2025</td>\n",
       "      <td>10</td>\n",
       "      <td>17</td>\n",
       "      <td>4</td>\n",
       "      <td>0.000000</td>\n",
       "      <td>9.482668</td>\n",
       "      <td>0.018693</td>\n",
       "      <td>0.173856</td>\n",
       "      <td>0.003405</td>\n",
       "    </tr>\n",
       "    <tr>\n",
       "      <th>3</th>\n",
       "      <td>3</td>\n",
       "      <td>3</td>\n",
       "      <td>7437</td>\n",
       "      <td>7301</td>\n",
       "      <td>3101</td>\n",
       "      <td>0.944730</td>\n",
       "      <td>2171652</td>\n",
       "      <td>78431</td>\n",
       "      <td>183</td>\n",
       "      <td>43800</td>\n",
       "      <td>...</td>\n",
       "      <td>1</td>\n",
       "      <td>2025</td>\n",
       "      <td>10</td>\n",
       "      <td>18</td>\n",
       "      <td>5</td>\n",
       "      <td>0.333333</td>\n",
       "      <td>49.579964</td>\n",
       "      <td>0.036200</td>\n",
       "      <td>1.790621</td>\n",
       "      <td>0.004178</td>\n",
       "    </tr>\n",
       "    <tr>\n",
       "      <th>4</th>\n",
       "      <td>4</td>\n",
       "      <td>4</td>\n",
       "      <td>2123</td>\n",
       "      <td>7961</td>\n",
       "      <td>1298</td>\n",
       "      <td>0.892396</td>\n",
       "      <td>246429</td>\n",
       "      <td>9321</td>\n",
       "      <td>949</td>\n",
       "      <td>2490000</td>\n",
       "      <td>...</td>\n",
       "      <td>0</td>\n",
       "      <td>2025</td>\n",
       "      <td>10</td>\n",
       "      <td>16</td>\n",
       "      <td>3</td>\n",
       "      <td>0.666667</td>\n",
       "      <td>0.098967</td>\n",
       "      <td>0.041675</td>\n",
       "      <td>0.003743</td>\n",
       "      <td>0.000381</td>\n",
       "    </tr>\n",
       "  </tbody>\n",
       "</table>\n",
       "<p>5 rows × 31 columns</p>\n",
       "</div>"
      ],
      "text/plain": [
       "   Unnamed: 0.1  Unnamed: 0  Video ID  Video Title  Channel  Published Date  \\\n",
       "0             0           0        26         4388     2187        0.988754   \n",
       "1             1           1      1447         2374     4507        0.898341   \n",
       "2             2           2      3989         2973     4820        0.910707   \n",
       "3             3           3      7437         7301     3101        0.944730   \n",
       "4             4           4      2123         7961     1298        0.892396   \n",
       "\n",
       "     Views  Likes  Comments  Subscribers  ...  Category_Cluster_x  Year  \\\n",
       "0    34727    686        16      4190000  ...                   2  2025   \n",
       "1    45151   1514        21       188000  ...                   2  2025   \n",
       "2   353713   6485       127        37300  ...                   2  2025   \n",
       "3  2171652  78431       183        43800  ...                   1  2025   \n",
       "4   246429   9321       949      2490000  ...                   0  2025   \n",
       "\n",
       "   Month  Day  DayOfWeek   DayName  Views_per_Sub  Engagement  Like_per_Sub  \\\n",
       "0     10   20          0  0.166667       0.008288    0.020214      0.000164   \n",
       "1     10   16          3  0.666667       0.240164    0.033996      0.008053   \n",
       "2     10   17          4  0.000000       9.482668    0.018693      0.173856   \n",
       "3     10   18          5  0.333333      49.579964    0.036200      1.790621   \n",
       "4     10   16          3  0.666667       0.098967    0.041675      0.003743   \n",
       "\n",
       "   Comment_per_Sub  \n",
       "0         0.000004  \n",
       "1         0.000112  \n",
       "2         0.003405  \n",
       "3         0.004178  \n",
       "4         0.000381  \n",
       "\n",
       "[5 rows x 31 columns]"
      ]
     },
     "execution_count": 2,
     "metadata": {},
     "output_type": "execute_result"
    }
   ],
   "source": [
    "df.head()"
   ]
  },
  {
   "cell_type": "markdown",
   "id": "40c5c49b",
   "metadata": {},
   "source": [
    "# SKEWNESNI ANIQLASH "
   ]
  },
  {
   "cell_type": "code",
   "execution_count": 3,
   "id": "6a0d30f6",
   "metadata": {},
   "outputs": [
    {
     "name": "stdout",
     "output_type": "stream",
     "text": [
      "📊 Skewness (egiklik) qiymatlari:\n",
      "\n",
      "Unnamed: 0.1           0.000000\n",
      "Unnamed: 0             0.000000\n",
      "Video ID               0.000000\n",
      "Video Title            0.007234\n",
      "Channel                0.004222\n",
      "Published Date        -2.672121\n",
      "Views                  7.030806\n",
      "Likes                  7.650718\n",
      "Comments              58.905331\n",
      "Subscribers           20.013056\n",
      "Channel Views         25.510795\n",
      "Country               -0.305575\n",
      "Region                -0.081507\n",
      "CategoryID            -0.833932\n",
      "CategoryName          -0.020343\n",
      "Cluster                5.532678\n",
      "CategoryID_enc         0.007883\n",
      "VideoCluster           0.183385\n",
      "Channel_Cluster        4.320688\n",
      "Video_Cluster          2.354969\n",
      "Country_Cluster_x      0.164864\n",
      "Category_Cluster_x     0.069867\n",
      "Year                   0.000000\n",
      "Month                 -6.920496\n",
      "Day                   -0.805985\n",
      "DayOfWeek             -0.362184\n",
      "DayName                0.067161\n",
      "Views_per_Sub         36.135964\n",
      "Engagement             8.880799\n",
      "Like_per_Sub          66.808133\n",
      "Comment_per_Sub       90.926647\n",
      "dtype: float64\n"
     ]
    }
   ],
   "source": [
    "# faqat raqamli ustunlar uchun\n",
    "skewness = df.select_dtypes(include=['number']).skew()\n",
    "\n",
    "# Natijani ko‘rish\n",
    "print(\"📊 Skewness (egiklik) qiymatlari:\\n\")\n",
    "print(skewness)\n"
   ]
  },
  {
   "cell_type": "code",
   "execution_count": 4,
   "id": "58d5cb09",
   "metadata": {},
   "outputs": [
    {
     "name": "stdout",
     "output_type": "stream",
     "text": [
      "📊 Skewness Before vs After:\n",
      "\n",
      "                Column  Before_Skew  After_Skew        Change\n",
      "16        Like_per_Sub    66.808133    6.316931 -6.049120e+01\n",
      "9             Comments    58.905331   -0.130725 -5.903606e+01\n",
      "8      Comment_per_Sub    90.926647   44.831388 -4.609526e+01\n",
      "29       Views_per_Sub    36.135964    1.417450 -3.471851e+01\n",
      "5        Channel Views    25.510795   -0.162328 -2.567312e+01\n",
      "21         Subscribers    20.013056   -0.141778 -2.015483e+01\n",
      "17               Likes     7.650718   -1.386932 -9.037650e+00\n",
      "28               Views     7.030806    0.048475 -6.982332e+00\n",
      "15          Engagement     8.880799    6.130045 -2.750755e+00\n",
      "6      Channel_Cluster     4.320688    4.197076 -1.236121e-01\n",
      "27       Video_Cluster     2.354969    2.268441 -8.652860e-02\n",
      "7              Cluster     5.532678    5.516215 -1.646348e-02\n",
      "11   Country_Cluster_x     0.164864    0.164864  0.000000e+00\n",
      "4              Channel     0.004222    0.004222  0.000000e+00\n",
      "2         CategoryName    -0.020343   -0.020343  0.000000e+00\n",
      "1       CategoryID_enc     0.007883    0.007883  0.000000e+00\n",
      "26        VideoCluster     0.183385    0.183385  0.000000e+00\n",
      "14           DayOfWeek    -0.362184   -0.362184  0.000000e+00\n",
      "12                 Day    -0.805985   -0.805985  0.000000e+00\n",
      "13             DayName     0.067161    0.067161  0.000000e+00\n",
      "10             Country    -0.305575   -0.305575  0.000000e+00\n",
      "3   Category_Cluster_x     0.069867    0.069867  0.000000e+00\n",
      "22          Unnamed: 0     0.000000    0.000000  0.000000e+00\n",
      "20              Region    -0.081507   -0.081507  0.000000e+00\n",
      "30                Year     0.000000    0.000000  0.000000e+00\n",
      "25         Video Title     0.007234    0.007234  0.000000e+00\n",
      "23        Unnamed: 0.1     0.000000    0.000000  0.000000e+00\n",
      "24            Video ID     0.000000    0.000000  0.000000e+00\n",
      "18               Month    -6.920496   -6.920496  2.042810e-14\n",
      "0           CategoryID    -0.833932   -0.325712  5.082199e-01\n",
      "19      Published Date    -2.672121   -2.141681  5.304408e-01\n"
     ]
    }
   ],
   "source": [
    "import numpy as np\n",
    "import pandas as pd\n",
    "\n",
    "# Asl DataFrame ni nusxalab olamiz\n",
    "df = df.copy()\n",
    "\n",
    "# 1️⃣ Transformatsiyadan oldingi skewness\n",
    "before_skew = df.select_dtypes(include=['number']).skew().reset_index()\n",
    "before_skew.columns = ['Column', 'Before_Skew']\n",
    "\n",
    "# 2️⃣ Positive va Negative skew ustunlar\n",
    "positive_cols = [\n",
    "    'Views', 'Likes', 'Comments', 'Subscribers', 'Channel Views',\n",
    "    'Cluster', 'Channel_Cluster', 'Video_Cluster',\n",
    "    'Views_per_Sub', 'Engagement', 'Like_per_Sub', 'Comment_per_Sub'\n",
    "]\n",
    "\n",
    "negative_cols = ['Published Date', 'CategoryID', 'Month']\n",
    "\n",
    "# 3️⃣ Agar datetime bo‘lsa → raqamga o‘tkazamiz\n",
    "if np.issubdtype(df['Published Date'].dtype, np.datetime64):\n",
    "    df['Published Date'] = df['Published Date'].astype('int64') // 10**9\n",
    "\n",
    "# 4️⃣ Positive skew ustunlarga log1p transformatsiya\n",
    "for col in positive_cols:\n",
    "    if col in df.columns:\n",
    "        min_val = df[col].min()\n",
    "        df[col] = np.log1p(df[col] - min_val + 1)\n",
    "\n",
    "# 5️⃣ Negative skew ustunlarga kvadrat (yoki exp) transformatsiya\n",
    "for col in negative_cols:\n",
    "    if col in df.columns:\n",
    "        min_val = df[col].min()\n",
    "        df[col] = (df[col] - min_val + 1) ** 2\n",
    "\n",
    "# 6️⃣ Transformatsiyadan keyingi skewness\n",
    "after_skew = df.select_dtypes(include=['number']).skew().reset_index()\n",
    "after_skew.columns = ['Column', 'After_Skew']\n",
    "\n",
    "# 7️⃣ Taqqoslash jadvali\n",
    "compare_skew = pd.merge(before_skew, after_skew, on='Column', how='outer')\n",
    "compare_skew['Change'] = compare_skew['After_Skew'] - compare_skew['Before_Skew']\n",
    "compare_skew = compare_skew.sort_values(by='Change')\n",
    "\n",
    "# 8️⃣ Jadvalni chiqaramiz\n",
    "pd.set_option('display.max_rows', None)\n",
    "pd.set_option('display.max_columns', None)\n",
    "print(\"📊 Skewness Before vs After:\\n\")\n",
    "print(compare_skew)\n"
   ]
  },
  {
   "cell_type": "markdown",
   "id": "bac8a936",
   "metadata": {},
   "source": [
    "# Models Training Process "
   ]
  },
  {
   "cell_type": "markdown",
   "id": "cde6ad29",
   "metadata": {},
   "source": [
    "# RandomForestClassifier TRAINING "
   ]
  },
  {
   "cell_type": "code",
   "execution_count": 5,
   "id": "8a7d93c9",
   "metadata": {},
   "outputs": [
    {
     "name": "stdout",
     "output_type": "stream",
     "text": [
      "✅ Validation Accuracy: 1.0\n",
      "\n",
      "📊 Classification Report:\n",
      "               precision    recall  f1-score   support\n",
      "\n",
      "           0       1.00      1.00      1.00       224\n",
      "           1       1.00      1.00      1.00        62\n",
      "           2       1.00      1.00      1.00       260\n",
      "           3       1.00      1.00      1.00       107\n",
      "           4       1.00      1.00      1.00       121\n",
      "           5       1.00      1.00      1.00       175\n",
      "           6       1.00      1.00      1.00       137\n",
      "           7       1.00      1.00      1.00       151\n",
      "           8       1.00      1.00      1.00       189\n",
      "           9       1.00      1.00      1.00       165\n",
      "          10       1.00      1.00      1.00       108\n",
      "\n",
      "    accuracy                           1.00      1699\n",
      "   macro avg       1.00      1.00      1.00      1699\n",
      "weighted avg       1.00      1.00      1.00      1699\n",
      "\n",
      "\n",
      "🧩 Confusion Matrix:\n",
      " [[224   0   0   0   0   0   0   0   0   0   0]\n",
      " [  0  62   0   0   0   0   0   0   0   0   0]\n",
      " [  0   0 260   0   0   0   0   0   0   0   0]\n",
      " [  0   0   0 107   0   0   0   0   0   0   0]\n",
      " [  0   0   0   0 121   0   0   0   0   0   0]\n",
      " [  0   0   0   0   0 175   0   0   0   0   0]\n",
      " [  0   0   0   0   0   0 137   0   0   0   0]\n",
      " [  0   0   0   0   0   0   0 151   0   0   0]\n",
      " [  0   0   0   0   0   0   0   0 189   0   0]\n",
      " [  0   0   0   0   0   0   0   0   0 165   0]\n",
      " [  0   0   0   0   0   0   0   0   0   0 108]]\n"
     ]
    }
   ],
   "source": [
    "from sklearn.model_selection import train_test_split\n",
    "from sklearn.ensemble import RandomForestClassifier\n",
    "from sklearn.metrics import classification_report, confusion_matrix, accuracy_score\n",
    "\n",
    "# X va y ajratamiz\n",
    "X = df.drop('CategoryName', axis=1)\n",
    "y = df['CategoryName']\n",
    "\n",
    "# Train / Validation / Test (60/20/20)\n",
    "X_temp, X_test, y_temp, y_test = train_test_split(\n",
    "    X, y, test_size=0.2, random_state=42, stratify=y\n",
    ")\n",
    "X_train, X_val, y_train, y_val = train_test_split(\n",
    "    X_temp, y_temp, test_size=0.25, random_state=42, stratify=y_temp\n",
    ")\n",
    "# (0.25 * 0.8 = 0.2 => 60/20/20)\n",
    "\n",
    "# Model\n",
    "rf = RandomForestClassifier(\n",
    "    n_estimators=300,\n",
    "    max_depth=None,\n",
    "    class_weight='balanced',\n",
    "    random_state=42\n",
    ")\n",
    "rf.fit(X_train, y_train)\n",
    "\n",
    "# Validation natijalar\n",
    "y_pred = rf.predict(X_val)\n",
    "\n",
    "print(\"✅ Validation Accuracy:\", accuracy_score(y_val, y_pred))\n",
    "print(\"\\n📊 Classification Report:\\n\", classification_report(y_val, y_pred))\n",
    "print(\"\\n🧩 Confusion Matrix:\\n\", confusion_matrix(y_val, y_pred))\n"
   ]
  },
  {
   "cell_type": "markdown",
   "id": "22af849f",
   "metadata": {},
   "source": [
    "# Save RandomForestClassifier Model "
   ]
  },
  {
   "cell_type": "code",
   "execution_count": 6,
   "id": "4f89e027",
   "metadata": {},
   "outputs": [
    {
     "name": "stdout",
     "output_type": "stream",
     "text": [
      "✅ Model muvaffaqiyatli saqlandi.\n"
     ]
    }
   ],
   "source": [
    "import joblib\n",
    "joblib.dump(rf, r\"C:\\Users\\Rasulbek907\\Desktop\\Project_MP\\Models\\Simple_Models\\RandomForestClassifier.joblib\")\n",
    "print(\"✅ Model muvaffaqiyatli saqlandi.\")"
   ]
  },
  {
   "cell_type": "markdown",
   "id": "7596f336",
   "metadata": {},
   "source": [
    "# 🧩 `class_weight='balanced'` — To‘liq Tushuntirish\n",
    "\n",
    "## 📘 1. Nima uchun kerak?\n",
    "\n",
    "`class_weight='balanced'` parametri **klassifikatsiya** (tasniflash) modellari uchun ishlatiladi.  \n",
    "U **imbalanced dataset** (ya’ni sinflar soni teng bo‘lmagan) holatlarda juda foydali.\n",
    "\n",
    "Masalan:  \n",
    "Agar sizda quyidagicha ma’lumot bo‘lsa 👇  \n",
    "| Sinf | Namuna soni |\n",
    "|------|--------------|\n",
    "| A | 9000 |\n",
    "| B | 1000 |\n",
    "\n",
    "Model odatda **A sinfga ko‘proq e’tibor beradi**, chunki u ko‘p uchraydi.  \n",
    "Natijada **B sinf** yomon bashorat qilinadi.\n",
    "\n",
    "`class_weight='balanced'` esa bu nomutanosiblikni **avtomatik tarzda tuzatadi** ✅\n",
    "\n",
    "---\n",
    "\n",
    "## ⚙️ 2. Texnik tushuntirish\n",
    "\n",
    "Model har bir sinf uchun og‘irlik (weight) ni quyidagicha hisoblaydi:\n",
    "\n",
    "\\[\n",
    "w_i = \\frac{N}{K \\times n_i}\n",
    "\\]\n",
    "\n",
    "bu yerda:\n",
    "- \\( w_i \\) — i-sinfning og‘irligi  \n",
    "- \\( N \\) — umumiy namunalar soni  \n",
    "- \\( K \\) — sinflar soni  \n",
    "- \\( n_i \\) — i-sinfga tegishli namunalar soni  \n",
    "\n",
    "👉 Natijada kam namunali sinf uchun og‘irlik **katta**, ko‘p namunali sinf uchun **kichik** bo‘ladi.\n",
    "\n",
    "---\n",
    "\n",
    "## 🎯 3. Qachon ishlatiladi?\n",
    "\n",
    "| Holat | Parametr qiymati | Izoh |\n",
    "|-------|------------------|------|\n",
    "| Sinflar balansda | `None` | Barcha sinflarda namunalar soni teng |\n",
    "| Sinflar imbalanced | `'balanced'` | Og‘irliklar avtomatik hisoblanadi |\n",
    "| Maxsus og‘irlik berish kerak bo‘lsa | `{'A': 3, 'B': 1}` | “A” sinfni 3 baravar muhimroq deb belgilaydi |\n",
    "\n",
    "---\n",
    "\n",
    "## 🧠 4. Amaliy misol (Python)\n",
    "\n",
    "## class_weight='balanced' — bu modelga “muvozanatsiz sinflar”ni hisobga ol degan buyruqdir.\n",
    "## Shu orqali model kam uchraydigan sinflarni yaxshiroq aniqlaydi, F1 va Recall ko‘rsatkichlarini yaxshilaydi."
   ]
  },
  {
   "cell_type": "code",
   "execution_count": null,
   "id": "9137a603",
   "metadata": {},
   "outputs": [],
   "source": []
  },
  {
   "cell_type": "markdown",
   "id": "d583de81",
   "metadata": {},
   "source": [
    "# DecisionTreeClassifier  TRAINING "
   ]
  },
  {
   "cell_type": "code",
   "execution_count": 7,
   "id": "6a97701a",
   "metadata": {},
   "outputs": [
    {
     "name": "stdout",
     "output_type": "stream",
     "text": [
      "🌳 Decision Tree Validation Accuracy: 1.0\n",
      "\n",
      "📊 Classification Report:\n",
      "               precision    recall  f1-score   support\n",
      "\n",
      "           0       1.00      1.00      1.00       224\n",
      "           1       1.00      1.00      1.00        62\n",
      "           2       1.00      1.00      1.00       260\n",
      "           3       1.00      1.00      1.00       107\n",
      "           4       1.00      1.00      1.00       121\n",
      "           5       1.00      1.00      1.00       175\n",
      "           6       1.00      1.00      1.00       137\n",
      "           7       1.00      1.00      1.00       151\n",
      "           8       1.00      1.00      1.00       189\n",
      "           9       1.00      1.00      1.00       165\n",
      "          10       1.00      1.00      1.00       108\n",
      "\n",
      "    accuracy                           1.00      1699\n",
      "   macro avg       1.00      1.00      1.00      1699\n",
      "weighted avg       1.00      1.00      1.00      1699\n",
      "\n",
      "\n",
      "🧩 Confusion Matrix:\n",
      " [[224   0   0   0   0   0   0   0   0   0   0]\n",
      " [  0  62   0   0   0   0   0   0   0   0   0]\n",
      " [  0   0 260   0   0   0   0   0   0   0   0]\n",
      " [  0   0   0 107   0   0   0   0   0   0   0]\n",
      " [  0   0   0   0 121   0   0   0   0   0   0]\n",
      " [  0   0   0   0   0 175   0   0   0   0   0]\n",
      " [  0   0   0   0   0   0 137   0   0   0   0]\n",
      " [  0   0   0   0   0   0   0 151   0   0   0]\n",
      " [  0   0   0   0   0   0   0   0 189   0   0]\n",
      " [  0   0   0   0   0   0   0   0   0 165   0]\n",
      " [  0   0   0   0   0   0   0   0   0   0 108]]\n"
     ]
    }
   ],
   "source": [
    "from sklearn.tree import DecisionTreeClassifier\n",
    "from sklearn.metrics import classification_report, confusion_matrix, accuracy_score\n",
    "from sklearn.model_selection import train_test_split\n",
    "\n",
    "# X va y ajratamiz\n",
    "X = df.drop('CategoryName', axis=1)\n",
    "y = df['CategoryName']\n",
    "\n",
    "# Train / Validation / Test (60/20/20)\n",
    "X_temp, X_test, y_temp, y_test = train_test_split(\n",
    "    X, y, test_size=0.2, random_state=42, stratify=y\n",
    ")\n",
    "X_train, X_val, y_train, y_val = train_test_split(\n",
    "    X_temp, y_temp, test_size=0.25, random_state=42, stratify=y_temp\n",
    ")\n",
    "\n",
    "# Model\n",
    "dt = DecisionTreeClassifier(\n",
    "    criterion='gini',\n",
    "    max_depth=None,\n",
    "    class_weight='balanced',\n",
    "    random_state=42\n",
    ")\n",
    "dt.fit(X_train, y_train)\n",
    "\n",
    "# Validation natijalar\n",
    "y_pred = dt.predict(X_val)\n",
    "\n",
    "print(\"🌳 Decision Tree Validation Accuracy:\", accuracy_score(y_val, y_pred))\n",
    "print(\"\\n📊 Classification Report:\\n\", classification_report(y_val, y_pred))\n",
    "print(\"\\n🧩 Confusion Matrix:\\n\", confusion_matrix(y_val, y_pred))\n"
   ]
  },
  {
   "cell_type": "markdown",
   "id": "c8278770",
   "metadata": {},
   "source": [
    "# Save DecisionTreeClassifier Model "
   ]
  },
  {
   "cell_type": "code",
   "execution_count": 8,
   "id": "091c4cfc",
   "metadata": {},
   "outputs": [
    {
     "name": "stdout",
     "output_type": "stream",
     "text": [
      "✅ Model muvaffaqiyatli saqlandi.\n"
     ]
    }
   ],
   "source": [
    "import joblib\n",
    "joblib.dump(dt, r\"C:\\Users\\Rasulbek907\\Desktop\\Project_MP\\Models\\Simple_Models\\DecisionTreeClassifier.joblib\")\n",
    "print(\"✅ Model muvaffaqiyatli saqlandi.\")"
   ]
  },
  {
   "cell_type": "markdown",
   "id": "2132ef52",
   "metadata": {},
   "source": [
    "# Logistic Regression  TRAINING "
   ]
  },
  {
   "cell_type": "code",
   "execution_count": 9,
   "id": "c0e4e709",
   "metadata": {},
   "outputs": [
    {
     "name": "stderr",
     "output_type": "stream",
     "text": [
      "c:\\Users\\Rasulbek907\\Desktop\\Project_MP\\mpvenv\\Lib\\site-packages\\sklearn\\linear_model\\_logistic.py:1272: FutureWarning: 'multi_class' was deprecated in version 1.5 and will be removed in 1.8. From then on, it will always use 'multinomial'. Leave it to its default value to avoid this warning.\n",
      "  warnings.warn(\n"
     ]
    },
    {
     "name": "stdout",
     "output_type": "stream",
     "text": [
      "📈 Logistic Regression Validation Accuracy: 0.9994114184814596\n",
      "\n",
      "📊 Classification Report:\n",
      "               precision    recall  f1-score   support\n",
      "\n",
      "           0       1.00      1.00      1.00       224\n",
      "           1       1.00      1.00      1.00        62\n",
      "           2       1.00      1.00      1.00       260\n",
      "           3       1.00      1.00      1.00       107\n",
      "           4       1.00      1.00      1.00       121\n",
      "           5       1.00      1.00      1.00       175\n",
      "           6       1.00      1.00      1.00       137\n",
      "           7       1.00      1.00      1.00       151\n",
      "           8       1.00      1.00      1.00       189\n",
      "           9       1.00      0.99      1.00       165\n",
      "          10       1.00      1.00      1.00       108\n",
      "\n",
      "    accuracy                           1.00      1699\n",
      "   macro avg       1.00      1.00      1.00      1699\n",
      "weighted avg       1.00      1.00      1.00      1699\n",
      "\n",
      "\n",
      "🧩 Confusion Matrix:\n",
      " [[224   0   0   0   0   0   0   0   0   0   0]\n",
      " [  0  62   0   0   0   0   0   0   0   0   0]\n",
      " [  0   0 260   0   0   0   0   0   0   0   0]\n",
      " [  0   0   0 107   0   0   0   0   0   0   0]\n",
      " [  0   0   0   0 121   0   0   0   0   0   0]\n",
      " [  0   0   0   0   0 175   0   0   0   0   0]\n",
      " [  0   0   0   0   0   0 137   0   0   0   0]\n",
      " [  0   0   0   0   0   0   0 151   0   0   0]\n",
      " [  0   0   0   0   0   0   0   0 189   0   0]\n",
      " [  1   0   0   0   0   0   0   0   0 164   0]\n",
      " [  0   0   0   0   0   0   0   0   0   0 108]]\n"
     ]
    },
    {
     "name": "stderr",
     "output_type": "stream",
     "text": [
      "c:\\Users\\Rasulbek907\\Desktop\\Project_MP\\mpvenv\\Lib\\site-packages\\sklearn\\linear_model\\_logistic.py:473: ConvergenceWarning: lbfgs failed to converge after 1000 iteration(s) (status=1):\n",
      "STOP: TOTAL NO. OF ITERATIONS REACHED LIMIT\n",
      "\n",
      "Increase the number of iterations to improve the convergence (max_iter=1000).\n",
      "You might also want to scale the data as shown in:\n",
      "    https://scikit-learn.org/stable/modules/preprocessing.html\n",
      "Please also refer to the documentation for alternative solver options:\n",
      "    https://scikit-learn.org/stable/modules/linear_model.html#logistic-regression\n",
      "  n_iter_i = _check_optimize_result(\n"
     ]
    }
   ],
   "source": [
    "from sklearn.linear_model import LogisticRegression\n",
    "from sklearn.metrics import classification_report, confusion_matrix, accuracy_score\n",
    "from sklearn.model_selection import train_test_split\n",
    "\n",
    "# X va y\n",
    "X = df.drop('CategoryName', axis=1)\n",
    "y = df['CategoryName']\n",
    "\n",
    "# Train / Validation / Test\n",
    "X_temp, X_test, y_temp, y_test = train_test_split(\n",
    "    X, y, test_size=0.2, random_state=42, stratify=y\n",
    ")\n",
    "X_train, X_val, y_train, y_val = train_test_split(\n",
    "    X_temp, y_temp, test_size=0.25, random_state=42, stratify=y_temp\n",
    ")\n",
    "\n",
    "# Model\n",
    "lr = LogisticRegression(\n",
    "    max_iter=1000,\n",
    "    multi_class='multinomial',\n",
    "    class_weight='balanced',\n",
    "    solver='lbfgs',\n",
    "    random_state=42\n",
    ")\n",
    "lr.fit(X_train, y_train)\n",
    "\n",
    "# Validation\n",
    "y_pred = lr.predict(X_val)\n",
    "\n",
    "print(\"📈 Logistic Regression Validation Accuracy:\", accuracy_score(y_val, y_pred))\n",
    "print(\"\\n📊 Classification Report:\\n\", classification_report(y_val, y_pred))\n",
    "print(\"\\n🧩 Confusion Matrix:\\n\", confusion_matrix(y_val, y_pred))\n"
   ]
  },
  {
   "cell_type": "markdown",
   "id": "5b1deede",
   "metadata": {},
   "source": [
    "# Save Logistic Regression Model "
   ]
  },
  {
   "cell_type": "code",
   "execution_count": 13,
   "id": "8e21dfbf",
   "metadata": {},
   "outputs": [
    {
     "name": "stdout",
     "output_type": "stream",
     "text": [
      "✅ Model muvaffaqiyatli saqlandi.\n"
     ]
    }
   ],
   "source": [
    "import joblib\n",
    "joblib.dump(lr, r\"C:\\Users\\Rasulbek907\\Desktop\\Project_MP\\Models\\Simple_Models\\LogisticRegression.joblib\")\n",
    "print(\"✅ Model muvaffaqiyatli saqlandi.\")"
   ]
  },
  {
   "cell_type": "markdown",
   "id": "abc2caa4",
   "metadata": {},
   "source": [
    "# XGBoost Classifier TRAINING"
   ]
  },
  {
   "cell_type": "code",
   "execution_count": 12,
   "id": "6779ff6e",
   "metadata": {},
   "outputs": [
    {
     "name": "stdout",
     "output_type": "stream",
     "text": [
      "⚡ XGBoost Validation Accuracy: 1.0\n",
      "\n",
      "📊 Classification Report:\n",
      "               precision    recall  f1-score   support\n",
      "\n",
      "           0       1.00      1.00      1.00       224\n",
      "           1       1.00      1.00      1.00        62\n",
      "           2       1.00      1.00      1.00       260\n",
      "           3       1.00      1.00      1.00       107\n",
      "           4       1.00      1.00      1.00       121\n",
      "           5       1.00      1.00      1.00       175\n",
      "           6       1.00      1.00      1.00       137\n",
      "           7       1.00      1.00      1.00       151\n",
      "           8       1.00      1.00      1.00       189\n",
      "           9       1.00      1.00      1.00       165\n",
      "          10       1.00      1.00      1.00       108\n",
      "\n",
      "    accuracy                           1.00      1699\n",
      "   macro avg       1.00      1.00      1.00      1699\n",
      "weighted avg       1.00      1.00      1.00      1699\n",
      "\n",
      "\n",
      "🧩 Confusion Matrix:\n",
      " [[224   0   0   0   0   0   0   0   0   0   0]\n",
      " [  0  62   0   0   0   0   0   0   0   0   0]\n",
      " [  0   0 260   0   0   0   0   0   0   0   0]\n",
      " [  0   0   0 107   0   0   0   0   0   0   0]\n",
      " [  0   0   0   0 121   0   0   0   0   0   0]\n",
      " [  0   0   0   0   0 175   0   0   0   0   0]\n",
      " [  0   0   0   0   0   0 137   0   0   0   0]\n",
      " [  0   0   0   0   0   0   0 151   0   0   0]\n",
      " [  0   0   0   0   0   0   0   0 189   0   0]\n",
      " [  0   0   0   0   0   0   0   0   0 165   0]\n",
      " [  0   0   0   0   0   0   0   0   0   0 108]]\n"
     ]
    }
   ],
   "source": [
    "from xgboost import XGBClassifier\n",
    "from sklearn.metrics import classification_report, confusion_matrix, accuracy_score\n",
    "from sklearn.model_selection import train_test_split\n",
    "\n",
    "# X va y\n",
    "X = df.drop('CategoryName', axis=1)\n",
    "y = df['CategoryName']\n",
    "\n",
    "# Train / Validation / Test\n",
    "X_temp, X_test, y_temp, y_test = train_test_split(\n",
    "    X, y, test_size=0.2, random_state=42, stratify=y\n",
    ")\n",
    "X_train, X_val, y_train, y_val = train_test_split(\n",
    "    X_temp, y_temp, test_size=0.25, random_state=42, stratify=y_temp\n",
    ")\n",
    "\n",
    "# Model\n",
    "xgb = XGBClassifier(\n",
    "    n_estimators=300,\n",
    "    learning_rate=0.1,\n",
    "    max_depth=6,\n",
    "    objective='multi:softmax',\n",
    "    num_class=len(y.unique()),\n",
    "    random_state=42,\n",
    "    eval_metric='mlogloss'\n",
    ")\n",
    "xgb.fit(X_train, y_train)\n",
    "\n",
    "# Validation\n",
    "y_pred = xgb.predict(X_val)\n",
    "\n",
    "print(\"⚡ XGBoost Validation Accuracy:\", accuracy_score(y_val, y_pred))\n",
    "print(\"\\n📊 Classification Report:\\n\", classification_report(y_val, y_pred))\n",
    "print(\"\\n🧩 Confusion Matrix:\\n\", confusion_matrix(y_val, y_pred))\n"
   ]
  },
  {
   "cell_type": "markdown",
   "id": "3d231099",
   "metadata": {},
   "source": [
    "# Save XGBClassifier Model"
   ]
  },
  {
   "cell_type": "code",
   "execution_count": 14,
   "id": "579d64fd",
   "metadata": {},
   "outputs": [
    {
     "name": "stdout",
     "output_type": "stream",
     "text": [
      "✅ Model muvaffaqiyatli saqlandi.\n"
     ]
    }
   ],
   "source": [
    "import joblib\n",
    "joblib.dump(xgb, r\"C:\\Users\\Rasulbek907\\Desktop\\Project_MP\\Models\\Simple_Models\\XGBClassifier.joblib\")\n",
    "print(\"✅ Model muvaffaqiyatli saqlandi.\")"
   ]
  },
  {
   "cell_type": "markdown",
   "id": "00017d25",
   "metadata": {},
   "source": [
    "# Jami: Natijalarni Taqqoslash "
   ]
  },
  {
   "cell_type": "code",
   "execution_count": 16,
   "id": "02ee29a2",
   "metadata": {},
   "outputs": [
    {
     "name": "stderr",
     "output_type": "stream",
     "text": [
      "c:\\Users\\Rasulbek907\\Desktop\\Project_MP\\mpvenv\\Lib\\site-packages\\sklearn\\linear_model\\_logistic.py:1272: FutureWarning: 'multi_class' was deprecated in version 1.5 and will be removed in 1.8. From then on, it will always use 'multinomial'. Leave it to its default value to avoid this warning.\n",
      "  warnings.warn(\n",
      "c:\\Users\\Rasulbek907\\Desktop\\Project_MP\\mpvenv\\Lib\\site-packages\\sklearn\\linear_model\\_logistic.py:473: ConvergenceWarning: lbfgs failed to converge after 1000 iteration(s) (status=1):\n",
      "STOP: TOTAL NO. OF ITERATIONS REACHED LIMIT\n",
      "\n",
      "Increase the number of iterations to improve the convergence (max_iter=1000).\n",
      "You might also want to scale the data as shown in:\n",
      "    https://scikit-learn.org/stable/modules/preprocessing.html\n",
      "Please also refer to the documentation for alternative solver options:\n",
      "    https://scikit-learn.org/stable/modules/linear_model.html#logistic-regression\n",
      "  n_iter_i = _check_optimize_result(\n"
     ]
    },
    {
     "data": {
      "application/vnd.plotly.v1+json": {
       "config": {
        "plotlyServerURL": "https://plot.ly"
       },
       "data": [
        {
         "cells": {
          "align": "left",
          "fill": {
           "color": [
            [
             "lightgreen",
             "lightgray",
             "crimson",
             "lightgray"
            ],
            [
             "lightgreen",
             "lightgray",
             "crimson",
             "lightgray"
            ],
            [
             "lightgreen",
             "lightgray",
             "crimson",
             "lightgray"
            ],
            [
             "lightgreen",
             "lightgray",
             "crimson",
             "lightgray"
            ],
            [
             "lightgreen",
             "lightgray",
             "crimson",
             "lightgray"
            ]
           ]
          },
          "font": {
           "size": 12
          },
          "values": [
           [
            "Random Forest",
            "XGBoost",
            "Logistic Regression",
            "Decision Tree"
           ],
           [
            1,
            1,
            0.9994,
            1
           ],
           [
            1,
            1,
            0.9994,
            1
           ],
           [
            1,
            1,
            0.9994,
            1
           ],
           [
            1,
            1,
            0.9994,
            1
           ]
          ]
         },
         "header": {
          "align": "left",
          "fill": {
           "color": "lightblue"
          },
          "font": {
           "color": "black",
           "size": 13
          },
          "values": [
           "Model",
           "Accuracy",
           "Precision",
           "Recall",
           "F1 Score"
          ]
         },
         "type": "table"
        }
       ],
       "layout": {
        "template": {
         "data": {
          "bar": [
           {
            "error_x": {
             "color": "#2a3f5f"
            },
            "error_y": {
             "color": "#2a3f5f"
            },
            "marker": {
             "line": {
              "color": "#E5ECF6",
              "width": 0.5
             },
             "pattern": {
              "fillmode": "overlay",
              "size": 10,
              "solidity": 0.2
             }
            },
            "type": "bar"
           }
          ],
          "barpolar": [
           {
            "marker": {
             "line": {
              "color": "#E5ECF6",
              "width": 0.5
             },
             "pattern": {
              "fillmode": "overlay",
              "size": 10,
              "solidity": 0.2
             }
            },
            "type": "barpolar"
           }
          ],
          "carpet": [
           {
            "aaxis": {
             "endlinecolor": "#2a3f5f",
             "gridcolor": "white",
             "linecolor": "white",
             "minorgridcolor": "white",
             "startlinecolor": "#2a3f5f"
            },
            "baxis": {
             "endlinecolor": "#2a3f5f",
             "gridcolor": "white",
             "linecolor": "white",
             "minorgridcolor": "white",
             "startlinecolor": "#2a3f5f"
            },
            "type": "carpet"
           }
          ],
          "choropleth": [
           {
            "colorbar": {
             "outlinewidth": 0,
             "ticks": ""
            },
            "type": "choropleth"
           }
          ],
          "contour": [
           {
            "colorbar": {
             "outlinewidth": 0,
             "ticks": ""
            },
            "colorscale": [
             [
              0,
              "#0d0887"
             ],
             [
              0.1111111111111111,
              "#46039f"
             ],
             [
              0.2222222222222222,
              "#7201a8"
             ],
             [
              0.3333333333333333,
              "#9c179e"
             ],
             [
              0.4444444444444444,
              "#bd3786"
             ],
             [
              0.5555555555555556,
              "#d8576b"
             ],
             [
              0.6666666666666666,
              "#ed7953"
             ],
             [
              0.7777777777777778,
              "#fb9f3a"
             ],
             [
              0.8888888888888888,
              "#fdca26"
             ],
             [
              1,
              "#f0f921"
             ]
            ],
            "type": "contour"
           }
          ],
          "contourcarpet": [
           {
            "colorbar": {
             "outlinewidth": 0,
             "ticks": ""
            },
            "type": "contourcarpet"
           }
          ],
          "heatmap": [
           {
            "colorbar": {
             "outlinewidth": 0,
             "ticks": ""
            },
            "colorscale": [
             [
              0,
              "#0d0887"
             ],
             [
              0.1111111111111111,
              "#46039f"
             ],
             [
              0.2222222222222222,
              "#7201a8"
             ],
             [
              0.3333333333333333,
              "#9c179e"
             ],
             [
              0.4444444444444444,
              "#bd3786"
             ],
             [
              0.5555555555555556,
              "#d8576b"
             ],
             [
              0.6666666666666666,
              "#ed7953"
             ],
             [
              0.7777777777777778,
              "#fb9f3a"
             ],
             [
              0.8888888888888888,
              "#fdca26"
             ],
             [
              1,
              "#f0f921"
             ]
            ],
            "type": "heatmap"
           }
          ],
          "histogram": [
           {
            "marker": {
             "pattern": {
              "fillmode": "overlay",
              "size": 10,
              "solidity": 0.2
             }
            },
            "type": "histogram"
           }
          ],
          "histogram2d": [
           {
            "colorbar": {
             "outlinewidth": 0,
             "ticks": ""
            },
            "colorscale": [
             [
              0,
              "#0d0887"
             ],
             [
              0.1111111111111111,
              "#46039f"
             ],
             [
              0.2222222222222222,
              "#7201a8"
             ],
             [
              0.3333333333333333,
              "#9c179e"
             ],
             [
              0.4444444444444444,
              "#bd3786"
             ],
             [
              0.5555555555555556,
              "#d8576b"
             ],
             [
              0.6666666666666666,
              "#ed7953"
             ],
             [
              0.7777777777777778,
              "#fb9f3a"
             ],
             [
              0.8888888888888888,
              "#fdca26"
             ],
             [
              1,
              "#f0f921"
             ]
            ],
            "type": "histogram2d"
           }
          ],
          "histogram2dcontour": [
           {
            "colorbar": {
             "outlinewidth": 0,
             "ticks": ""
            },
            "colorscale": [
             [
              0,
              "#0d0887"
             ],
             [
              0.1111111111111111,
              "#46039f"
             ],
             [
              0.2222222222222222,
              "#7201a8"
             ],
             [
              0.3333333333333333,
              "#9c179e"
             ],
             [
              0.4444444444444444,
              "#bd3786"
             ],
             [
              0.5555555555555556,
              "#d8576b"
             ],
             [
              0.6666666666666666,
              "#ed7953"
             ],
             [
              0.7777777777777778,
              "#fb9f3a"
             ],
             [
              0.8888888888888888,
              "#fdca26"
             ],
             [
              1,
              "#f0f921"
             ]
            ],
            "type": "histogram2dcontour"
           }
          ],
          "mesh3d": [
           {
            "colorbar": {
             "outlinewidth": 0,
             "ticks": ""
            },
            "type": "mesh3d"
           }
          ],
          "parcoords": [
           {
            "line": {
             "colorbar": {
              "outlinewidth": 0,
              "ticks": ""
             }
            },
            "type": "parcoords"
           }
          ],
          "pie": [
           {
            "automargin": true,
            "type": "pie"
           }
          ],
          "scatter": [
           {
            "fillpattern": {
             "fillmode": "overlay",
             "size": 10,
             "solidity": 0.2
            },
            "type": "scatter"
           }
          ],
          "scatter3d": [
           {
            "line": {
             "colorbar": {
              "outlinewidth": 0,
              "ticks": ""
             }
            },
            "marker": {
             "colorbar": {
              "outlinewidth": 0,
              "ticks": ""
             }
            },
            "type": "scatter3d"
           }
          ],
          "scattercarpet": [
           {
            "marker": {
             "colorbar": {
              "outlinewidth": 0,
              "ticks": ""
             }
            },
            "type": "scattercarpet"
           }
          ],
          "scattergeo": [
           {
            "marker": {
             "colorbar": {
              "outlinewidth": 0,
              "ticks": ""
             }
            },
            "type": "scattergeo"
           }
          ],
          "scattergl": [
           {
            "marker": {
             "colorbar": {
              "outlinewidth": 0,
              "ticks": ""
             }
            },
            "type": "scattergl"
           }
          ],
          "scattermap": [
           {
            "marker": {
             "colorbar": {
              "outlinewidth": 0,
              "ticks": ""
             }
            },
            "type": "scattermap"
           }
          ],
          "scattermapbox": [
           {
            "marker": {
             "colorbar": {
              "outlinewidth": 0,
              "ticks": ""
             }
            },
            "type": "scattermapbox"
           }
          ],
          "scatterpolar": [
           {
            "marker": {
             "colorbar": {
              "outlinewidth": 0,
              "ticks": ""
             }
            },
            "type": "scatterpolar"
           }
          ],
          "scatterpolargl": [
           {
            "marker": {
             "colorbar": {
              "outlinewidth": 0,
              "ticks": ""
             }
            },
            "type": "scatterpolargl"
           }
          ],
          "scatterternary": [
           {
            "marker": {
             "colorbar": {
              "outlinewidth": 0,
              "ticks": ""
             }
            },
            "type": "scatterternary"
           }
          ],
          "surface": [
           {
            "colorbar": {
             "outlinewidth": 0,
             "ticks": ""
            },
            "colorscale": [
             [
              0,
              "#0d0887"
             ],
             [
              0.1111111111111111,
              "#46039f"
             ],
             [
              0.2222222222222222,
              "#7201a8"
             ],
             [
              0.3333333333333333,
              "#9c179e"
             ],
             [
              0.4444444444444444,
              "#bd3786"
             ],
             [
              0.5555555555555556,
              "#d8576b"
             ],
             [
              0.6666666666666666,
              "#ed7953"
             ],
             [
              0.7777777777777778,
              "#fb9f3a"
             ],
             [
              0.8888888888888888,
              "#fdca26"
             ],
             [
              1,
              "#f0f921"
             ]
            ],
            "type": "surface"
           }
          ],
          "table": [
           {
            "cells": {
             "fill": {
              "color": "#EBF0F8"
             },
             "line": {
              "color": "white"
             }
            },
            "header": {
             "fill": {
              "color": "#C8D4E3"
             },
             "line": {
              "color": "white"
             }
            },
            "type": "table"
           }
          ]
         },
         "layout": {
          "annotationdefaults": {
           "arrowcolor": "#2a3f5f",
           "arrowhead": 0,
           "arrowwidth": 1
          },
          "autotypenumbers": "strict",
          "coloraxis": {
           "colorbar": {
            "outlinewidth": 0,
            "ticks": ""
           }
          },
          "colorscale": {
           "diverging": [
            [
             0,
             "#8e0152"
            ],
            [
             0.1,
             "#c51b7d"
            ],
            [
             0.2,
             "#de77ae"
            ],
            [
             0.3,
             "#f1b6da"
            ],
            [
             0.4,
             "#fde0ef"
            ],
            [
             0.5,
             "#f7f7f7"
            ],
            [
             0.6,
             "#e6f5d0"
            ],
            [
             0.7,
             "#b8e186"
            ],
            [
             0.8,
             "#7fbc41"
            ],
            [
             0.9,
             "#4d9221"
            ],
            [
             1,
             "#276419"
            ]
           ],
           "sequential": [
            [
             0,
             "#0d0887"
            ],
            [
             0.1111111111111111,
             "#46039f"
            ],
            [
             0.2222222222222222,
             "#7201a8"
            ],
            [
             0.3333333333333333,
             "#9c179e"
            ],
            [
             0.4444444444444444,
             "#bd3786"
            ],
            [
             0.5555555555555556,
             "#d8576b"
            ],
            [
             0.6666666666666666,
             "#ed7953"
            ],
            [
             0.7777777777777778,
             "#fb9f3a"
            ],
            [
             0.8888888888888888,
             "#fdca26"
            ],
            [
             1,
             "#f0f921"
            ]
           ],
           "sequentialminus": [
            [
             0,
             "#0d0887"
            ],
            [
             0.1111111111111111,
             "#46039f"
            ],
            [
             0.2222222222222222,
             "#7201a8"
            ],
            [
             0.3333333333333333,
             "#9c179e"
            ],
            [
             0.4444444444444444,
             "#bd3786"
            ],
            [
             0.5555555555555556,
             "#d8576b"
            ],
            [
             0.6666666666666666,
             "#ed7953"
            ],
            [
             0.7777777777777778,
             "#fb9f3a"
            ],
            [
             0.8888888888888888,
             "#fdca26"
            ],
            [
             1,
             "#f0f921"
            ]
           ]
          },
          "colorway": [
           "#636efa",
           "#EF553B",
           "#00cc96",
           "#ab63fa",
           "#FFA15A",
           "#19d3f3",
           "#FF6692",
           "#B6E880",
           "#FF97FF",
           "#FECB52"
          ],
          "font": {
           "color": "#2a3f5f"
          },
          "geo": {
           "bgcolor": "white",
           "lakecolor": "white",
           "landcolor": "#E5ECF6",
           "showlakes": true,
           "showland": true,
           "subunitcolor": "white"
          },
          "hoverlabel": {
           "align": "left"
          },
          "hovermode": "closest",
          "mapbox": {
           "style": "light"
          },
          "paper_bgcolor": "white",
          "plot_bgcolor": "#E5ECF6",
          "polar": {
           "angularaxis": {
            "gridcolor": "white",
            "linecolor": "white",
            "ticks": ""
           },
           "bgcolor": "#E5ECF6",
           "radialaxis": {
            "gridcolor": "white",
            "linecolor": "white",
            "ticks": ""
           }
          },
          "scene": {
           "xaxis": {
            "backgroundcolor": "#E5ECF6",
            "gridcolor": "white",
            "gridwidth": 2,
            "linecolor": "white",
            "showbackground": true,
            "ticks": "",
            "zerolinecolor": "white"
           },
           "yaxis": {
            "backgroundcolor": "#E5ECF6",
            "gridcolor": "white",
            "gridwidth": 2,
            "linecolor": "white",
            "showbackground": true,
            "ticks": "",
            "zerolinecolor": "white"
           },
           "zaxis": {
            "backgroundcolor": "#E5ECF6",
            "gridcolor": "white",
            "gridwidth": 2,
            "linecolor": "white",
            "showbackground": true,
            "ticks": "",
            "zerolinecolor": "white"
           }
          },
          "shapedefaults": {
           "line": {
            "color": "#2a3f5f"
           }
          },
          "ternary": {
           "aaxis": {
            "gridcolor": "white",
            "linecolor": "white",
            "ticks": ""
           },
           "baxis": {
            "gridcolor": "white",
            "linecolor": "white",
            "ticks": ""
           },
           "bgcolor": "#E5ECF6",
           "caxis": {
            "gridcolor": "white",
            "linecolor": "white",
            "ticks": ""
           }
          },
          "title": {
           "x": 0.05
          },
          "xaxis": {
           "automargin": true,
           "gridcolor": "white",
           "linecolor": "white",
           "ticks": "",
           "title": {
            "standoff": 15
           },
           "zerolinecolor": "white",
           "zerolinewidth": 2
          },
          "yaxis": {
           "automargin": true,
           "gridcolor": "white",
           "linecolor": "white",
           "ticks": "",
           "title": {
            "standoff": 15
           },
           "zerolinecolor": "white",
           "zerolinewidth": 2
          }
         }
        },
        "title": {
         "text": "🧠 Multi-Class Model Comparison (Accuracy, Precision, Recall, F1)",
         "x": 0.5
        }
       }
      }
     },
     "metadata": {},
     "output_type": "display_data"
    }
   ],
   "source": [
    "import pandas as pd\n",
    "from sklearn.model_selection import train_test_split\n",
    "from sklearn.ensemble import RandomForestClassifier\n",
    "from sklearn.tree import DecisionTreeClassifier\n",
    "from sklearn.linear_model import LogisticRegression\n",
    "from xgboost import XGBClassifier\n",
    "from sklearn.metrics import accuracy_score, precision_score, recall_score, f1_score\n",
    "import plotly.graph_objects as go\n",
    "\n",
    "# 1️⃣ X va y\n",
    "X = df.drop('CategoryName', axis=1)\n",
    "y = df['CategoryName']\n",
    "\n",
    "# 2️⃣ Train / Validation / Test (60/20/20)\n",
    "X_temp, X_test, y_temp, y_test = train_test_split(\n",
    "    X, y, test_size=0.2, random_state=42, stratify=y\n",
    ")\n",
    "X_train, X_val, y_train, y_val = train_test_split(\n",
    "    X_temp, y_temp, test_size=0.25, random_state=42, stratify=y_temp\n",
    ")\n",
    "\n",
    "# 3️⃣ Modellar\n",
    "models = {\n",
    "    \"Random Forest\": RandomForestClassifier(\n",
    "        n_estimators=300, class_weight='balanced', random_state=42\n",
    "    ),\n",
    "    \"XGBoost\": XGBClassifier(\n",
    "        n_estimators=300, learning_rate=0.1, max_depth=6,\n",
    "        objective='multi:softmax', num_class=len(y.unique()),\n",
    "        random_state=42, eval_metric='mlogloss'\n",
    "    ),\n",
    "    \"Logistic Regression\": LogisticRegression(\n",
    "        max_iter=1000, multi_class='multinomial',\n",
    "        class_weight='balanced', solver='lbfgs', random_state=42\n",
    "    ),\n",
    "    \"Decision Tree\": DecisionTreeClassifier(\n",
    "        class_weight='balanced', random_state=42\n",
    "    )\n",
    "}\n",
    "\n",
    "# 4️⃣ Natijalar\n",
    "results = []\n",
    "\n",
    "for name, model in models.items():\n",
    "    model.fit(X_train, y_train)\n",
    "    preds = model.predict(X_val)\n",
    "    \n",
    "    acc = accuracy_score(y_val, preds)\n",
    "    prec = precision_score(y_val, preds, average='weighted', zero_division=0)\n",
    "    rec = recall_score(y_val, preds, average='weighted', zero_division=0)\n",
    "    f1 = f1_score(y_val, preds, average='weighted', zero_division=0)\n",
    "    \n",
    "    results.append({\n",
    "        \"Model\": name,\n",
    "        \"Accuracy\": acc,\n",
    "        \"Precision\": prec,\n",
    "        \"Recall\": rec,\n",
    "        \"F1 Score\": f1\n",
    "    })\n",
    "\n",
    "# 5️⃣ DataFrame\n",
    "results_df = pd.DataFrame(results)\n",
    "\n",
    "# 6️⃣ Eng yaxshi va eng yomon modelni topamiz\n",
    "best_model_index = results_df['F1 Score'].idxmax()\n",
    "worst_model_index = results_df['F1 Score'].idxmin()\n",
    "\n",
    "# 7️⃣ Rang berish\n",
    "colors = ['lightgray'] * len(results_df)\n",
    "colors[best_model_index] = 'lightgreen'  # eng yaxshi — yashil\n",
    "colors[worst_model_index] = 'crimson'    # eng yomon — qizil\n",
    "\n",
    "# 8️⃣ Jadval chizish\n",
    "numeric_cols = results_df.select_dtypes(include=['float', 'int']).columns\n",
    "\n",
    "fig = go.Figure(data=[go.Table(\n",
    "    header=dict(values=list(results_df.columns),\n",
    "                fill_color='lightblue',\n",
    "                align='left',\n",
    "                font=dict(size=13, color='black')),\n",
    "    cells=dict(values=[\n",
    "        results_df['Model'],  # model nomlari string\n",
    "        *[results_df[col].round(4) for col in numeric_cols]  # faqat raqamli ustunlar\n",
    "    ],\n",
    "               fill_color=[colors] * len(results_df.columns),\n",
    "               align='left',\n",
    "               font=dict(size=12))\n",
    ")])\n",
    "\n",
    "fig.update_layout(\n",
    "    title='🧠 Multi-Class Model Comparison (Accuracy, Precision, Recall, F1)',\n",
    "    title_x=0.5\n",
    ")\n",
    "fig.show()\n"
   ]
  },
  {
   "cell_type": "markdown",
   "id": "7a409198",
   "metadata": {},
   "source": [
    "# Cros Validation Tekshirish Natijalari "
   ]
  },
  {
   "cell_type": "code",
   "execution_count": 18,
   "id": "91869ee3",
   "metadata": {},
   "outputs": [
    {
     "name": "stdout",
     "output_type": "stream",
     "text": [
      "📊 Accuracy (5-fold): [1. 1. 1. 1. 1.]\n",
      "📈 Accuracy O‘rtacha: 1.0\n",
      "\n",
      "📊 F1 (Macro, 5-fold): [1. 1. 1. 1. 1.]\n",
      "📈 F1 O‘rtacha: 1.0\n",
      "\n",
      "📉 Cross-val Accuracy: 1.0\n",
      "📉 Cross-val F1 (Macro): 1.0\n"
     ]
    }
   ],
   "source": [
    "from sklearn.model_selection import cross_val_score, cross_val_predict\n",
    "from sklearn.ensemble import RandomForestClassifier\n",
    "from sklearn.metrics import accuracy_score, f1_score\n",
    "import numpy as np\n",
    "\n",
    "# 🌿 Model\n",
    "rf_clf = RandomForestClassifier(n_estimators=200, random_state=42, class_weight='balanced')\n",
    "\n",
    "# 🎯 5-fold cross-validation bo‘yicha Accuracy\n",
    "acc_scores = cross_val_score(rf_clf, X, y, cv=5, scoring='accuracy')\n",
    "print(\"📊 Accuracy (5-fold):\", acc_scores)\n",
    "print(\"📈 Accuracy O‘rtacha:\", np.mean(acc_scores))\n",
    "\n",
    "# 🎯 5-fold cross-validation bo‘yicha F1 (macro)\n",
    "f1_scores = cross_val_score(rf_clf, X, y, cv=5, scoring='f1_macro')\n",
    "print(\"\\n📊 F1 (Macro, 5-fold):\", f1_scores)\n",
    "print(\"📈 F1 O‘rtacha:\", np.mean(f1_scores))\n",
    "\n",
    "# 🔹 Cross-val orqali real bashoratlar\n",
    "y_pred_cv = cross_val_predict(rf_clf, X, y, cv=5)\n",
    "print(\"\\n📉 Cross-val Accuracy:\", accuracy_score(y, y_pred_cv))\n",
    "print(\"📉 Cross-val F1 (Macro):\", f1_score(y, y_pred_cv, average='macro'))\n"
   ]
  },
  {
   "cell_type": "markdown",
   "id": "9a0ee569",
   "metadata": {},
   "source": [
    "# Shap Value Bo`yicha Taxliliy Xulosalar "
   ]
  },
  {
   "cell_type": "code",
   "execution_count": 22,
   "id": "5d1de0fb",
   "metadata": {},
   "outputs": [
    {
     "data": {
      "image/png": "[encoded data removed]",
      "text/plain": [
       "<Figure size 800x950 with 1 Axes>"
      ]
     },
     "metadata": {},
     "output_type": "display_data"
    }
   ],
   "source": [
    "import shap\n",
    "import numpy as np\n",
    "import matplotlib.pyplot as plt\n",
    "from sklearn.ensemble import RandomForestClassifier\n",
    "\n",
    "# 🎯 Modelni o‘qitamiz\n",
    "rf_model = RandomForestClassifier(\n",
    "    n_estimators=200,\n",
    "    random_state=42,\n",
    "    class_weight='balanced'\n",
    ")\n",
    "rf_model.fit(X, y)\n",
    "\n",
    "# ⚡ SHAP Explainer (TreeExplainer)\n",
    "explainer = shap.TreeExplainer(rf_model)\n",
    "shap_values = explainer(X)  # yangi usul — explainer.shap_values emas\n",
    "\n",
    "# 🎨 SHAP Summary Plot\n",
    "shap.summary_plot(shap_values, X, show=False)\n",
    "plt.title(\"SHAP Summary Plot — Random Forest Classifier\")\n",
    "plt.show()\n"
   ]
  },
  {
   "cell_type": "markdown",
   "id": "61dd26da",
   "metadata": {},
   "source": [
    "### ✅ XULOSA  \n",
    "\n",
    "🔍 Yuqoridagi **SHAP tahlili** natijasiga ko‘ra, modelimiz uchun **eng muhim xususiyatlar (features)** quyidagilar bo‘ldi:\n",
    "\n",
    "📊 **Modelning prognoz aniqligiga eng katta ta’sir ko‘rsatgan ustunlar**:\n",
    "- `CategoryID` 🎯  \n",
    "- `Category_Cluster_x` 🔗  \n",
    "- `VideoCluster` 🎬  \n",
    "\n",
    "Bu ustunlar model qarorlarining asosiy omillari bo‘lib, **har bir sinf (class)** uchun sezilarli darajada farqlanadi.  \n",
    "\n",
    "📈 **Shuningdek, muhimlik darajasi bo‘yicha o‘rta pog‘onadagi ustunlar**:\n",
    "- `Views` 👁️  \n",
    "- `Views_per_Sub` 📈  \n",
    "- `Published Date` 📅  \n",
    "- `Likes` ❤️  \n",
    "- `Engagement` 🤝  \n",
    "\n",
    "Ushbu belgilar **tomoshabinlar faolligini** va **kanal o‘sishini** ifodalaganligi sababli, ular model natijalarida muhim rol o‘ynaydi.\n",
    "\n",
    "🔹 Nisbatan past ta’sir ko‘rsatgan ustunlar esa:\n",
    "- `Comments`, `Subscribers`, `Country`, `Region`, `Video Title`  \n",
    "  — bu xususiyatlar mavjud bo‘lsa ham, model uchun **kamroq informatsion qiymatga ega** bo‘lgan.\n",
    "\n",
    "---\n",
    "\n",
    "🎯 **Xulosa qilib aytganda**, modelning aniqligini oshirishda aynan **kategoriya va klasterlash bilan bog‘liq ustunlar** asosiy rol o‘ynamoqda.  \n",
    "Bu esa shuni ko‘rsatadiki, **to‘g‘ri klasterlash va kategoriyalash** model natijasini sezilarli darajada yaxshilaydi.  \n",
    "\n",
    "🚀 **Kelgusi bosqichlarda**, `VideoCluster` va `Category_Cluster_x` ustunlarini yanada optimallashtirish yoki **yangi kombinatsion xususiyatlar (feature interactions)** qo‘shish orqali model sifatini yanada oshirish mumkin.\n"
   ]
  }
 ],
 "metadata": {
  "kernelspec": {
   "display_name": "mpvenv",
   "language": "python",
   "name": "python3"
  },
  "language_info": {
   "codemirror_mode": {
    "name": "ipython",
    "version": 3
   },
   "file_extension": ".py",
   "mimetype": "text/x-python",
   "name": "python",
   "nbconvert_exporter": "python",
   "pygments_lexer": "ipython3",
   "version": "3.13.7"
  }
 },
 "nbformat": 4,
 "nbformat_minor": 5
}
