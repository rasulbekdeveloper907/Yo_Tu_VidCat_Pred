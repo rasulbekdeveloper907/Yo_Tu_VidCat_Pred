{
 "cells": [
  {
   "cell_type": "code",
   "execution_count": 1,
   "id": "761e68bf",
   "metadata": {},
   "outputs": [],
   "source": [
    "import pandas as pd\n",
    "import logging\n",
    "\n",
    "# Log fayl manzili\n",
    "log_path = r\"C:\\Users\\Rasulbek907\\Desktop\\Project_MP\\Log\\feature_enginering.log\"\n",
    "\n",
    "# Log sozlamalari\n",
    "logging.basicConfig(\n",
    "    filename=log_path,\n",
    "    filemode='a',  # Append mode\n",
    "    format='%(asctime)s - %(levelname)s - %(message)s',\n",
    "    level=logging.INFO\n",
    ")\n",
    "\n",
    "try:\n",
    "    logging.info(\"CSV fayl o'qilmoqda:...\")\n",
    "    df = pd.read_csv(r\"C:\\Users\\Rasulbek907\\Desktop\\Project_MP\\Data\\Preprosessed\\Clustering.csv\")\n",
    "    logging.info(f\"Fayl muvaffaqiyatli o'qildi. Satırlar soni: {len(df)} ustunlar soni: {len(df.columns)}\")\n",
    "except Exception as e:\n",
    "    logging.error(f\"CSV faylni o'qishda xatolik: {e}\")"
   ]
  },
  {
   "cell_type": "code",
   "execution_count": 2,
   "id": "a3d938fa",
   "metadata": {},
   "outputs": [
    {
     "name": "stdout",
     "output_type": "stream",
     "text": [
      "<class 'pandas.core.frame.DataFrame'>\n",
      "RangeIndex: 8493 entries, 0 to 8492\n",
      "Data columns (total 24 columns):\n",
      " #   Column              Non-Null Count  Dtype \n",
      "---  ------              --------------  ----- \n",
      " 0   Video ID            8493 non-null   object\n",
      " 1   Video Title         8493 non-null   object\n",
      " 2   Channel             8492 non-null   object\n",
      " 3   Published Date      8493 non-null   object\n",
      " 4   Views               8493 non-null   int64 \n",
      " 5   Likes               8493 non-null   int64 \n",
      " 6   Comments            8493 non-null   int64 \n",
      " 7   Subscribers         8493 non-null   int64 \n",
      " 8   Channel Views       8493 non-null   int64 \n",
      " 9   Country             8493 non-null   object\n",
      " 10  Region              8493 non-null   object\n",
      " 11  CategoryID          8493 non-null   int64 \n",
      " 12  CategoryName        8493 non-null   object\n",
      " 13  Cluster             8493 non-null   int64 \n",
      " 14  CategoryID_enc      8493 non-null   int64 \n",
      " 15  Country_enc         8493 non-null   int64 \n",
      " 16  VideoCluster        8493 non-null   int64 \n",
      " 17  Anomaly             8493 non-null   object\n",
      " 18  Channel_Cluster     8493 non-null   int64 \n",
      " 19  Video_Cluster       8493 non-null   int64 \n",
      " 20  Country_Cluster_x   8493 non-null   int64 \n",
      " 21  Category_Cluster_x  8493 non-null   int64 \n",
      " 22  Country_Cluster_y   8493 non-null   int64 \n",
      " 23  Category_Cluster_y  8493 non-null   int64 \n",
      "dtypes: int64(16), object(8)\n",
      "memory usage: 1.6+ MB\n"
     ]
    }
   ],
   "source": [
    "df.info()"
   ]
  },
  {
   "cell_type": "markdown",
   "id": "0f45c4f2",
   "metadata": {},
   "source": [
    "# 🧩 1️⃣ Sana ustunidan yil, oy, kun, hafta kuni chiqarish"
   ]
  },
  {
   "cell_type": "code",
   "execution_count": 4,
   "id": "90b57d58",
   "metadata": {},
   "outputs": [
    {
     "name": "stdout",
     "output_type": "stream",
     "text": [
      "✅ Sana ustunidan vaqt xususiyatlari chiqarildi:\n",
      "             Published Date  Year  Month  Day  DayOfWeek   DayName\n",
      "0 2025-10-20 00:05:43+00:00  2025     10   20          0    Monday\n",
      "1 2025-10-16 16:03:51+00:00  2025     10   16          3  Thursday\n",
      "2 2025-10-17 03:00:36+00:00  2025     10   17          4    Friday\n",
      "3 2025-10-18 09:07:36+00:00  2025     10   18          5  Saturday\n",
      "4 2025-10-16 10:48:06+00:00  2025     10   16          3  Thursday\n"
     ]
    }
   ],
   "source": [
    "import pandas as pd\n",
    "\n",
    "# Sana ustunini datetime formatga o‘tkazamiz\n",
    "df['Published Date'] = pd.to_datetime(df['Published Date'], errors='coerce')\n",
    "\n",
    "# Yil, oy, kun, hafta kuni (0 = Dushanba)\n",
    "df['Year'] = df['Published Date'].dt.year\n",
    "df['Month'] = df['Published Date'].dt.month\n",
    "df['Day'] = df['Published Date'].dt.day\n",
    "df['DayOfWeek'] = df['Published Date'].dt.dayofweek\n",
    "\n",
    "# O‘sha haftaning nomini ham chiqarish (masalan, Monday)\n",
    "df['DayName'] = df['Published Date'].dt.day_name()\n",
    "\n",
    "# Natija\n",
    "print(\"✅ Sana ustunidan vaqt xususiyatlari chiqarildi:\")\n",
    "print(df[['Published Date', 'Year', 'Month', 'Day', 'DayOfWeek', 'DayName']].head())\n"
   ]
  },
  {
   "cell_type": "markdown",
   "id": "19c0c93a",
   "metadata": {},
   "source": [
    "# 🧮 2️⃣ Qo‘shimcha interaktiv xususiyatlar (Feature Interaction)"
   ]
  },
  {
   "cell_type": "code",
   "execution_count": 5,
   "id": "77645606",
   "metadata": {},
   "outputs": [
    {
     "name": "stdout",
     "output_type": "stream",
     "text": [
      "✅ Qo‘shimcha interaktiv xususiyatlar yaratildi:\n",
      "   Views_per_Sub  Engagement  Like_per_Sub  Comment_per_Sub\n",
      "0       0.008288    0.020214      0.000164         0.000004\n",
      "1       0.240164    0.033996      0.008053         0.000112\n",
      "2       9.482668    0.018693      0.173856         0.003405\n",
      "3      49.579964    0.036200      1.790621         0.004178\n",
      "4       0.098967    0.041675      0.003743         0.000381\n"
     ]
    }
   ],
   "source": [
    "import numpy as np\n",
    "\n",
    "# Qo‘shimcha feature’lar yaratamiz (faqat kerakli ustunlar mavjud bo‘lsa)\n",
    "if 'Subscribers' in df.columns and 'Views' in df.columns:\n",
    "    df['Views_per_Sub'] = df['Views'] / (df['Subscribers'] + 1)\n",
    "\n",
    "if 'Likes' in df.columns and 'Comments' in df.columns and 'Views' in df.columns:\n",
    "    df['Engagement'] = (df['Likes'] + df['Comments']) / (df['Views'] + 1)\n",
    "\n",
    "if 'Likes' in df.columns and 'Subscribers' in df.columns:\n",
    "    df['Like_per_Sub'] = df['Likes'] / (df['Subscribers'] + 1)\n",
    "\n",
    "if 'Comments' in df.columns and 'Subscribers' in df.columns:\n",
    "    df['Comment_per_Sub'] = df['Comments'] / (df['Subscribers'] + 1)\n",
    "\n",
    "# Natijani tekshiramiz\n",
    "print(\"✅ Qo‘shimcha interaktiv xususiyatlar yaratildi:\")\n",
    "print(df[['Views_per_Sub', 'Engagement', 'Like_per_Sub', 'Comment_per_Sub']].head())"
   ]
  },
  {
   "cell_type": "code",
   "execution_count": 6,
   "id": "af1cedab",
   "metadata": {},
   "outputs": [
    {
     "name": "stdout",
     "output_type": "stream",
     "text": [
      "<class 'pandas.core.frame.DataFrame'>\n",
      "RangeIndex: 8493 entries, 0 to 8492\n",
      "Data columns (total 33 columns):\n",
      " #   Column              Non-Null Count  Dtype              \n",
      "---  ------              --------------  -----              \n",
      " 0   Video ID            8493 non-null   object             \n",
      " 1   Video Title         8493 non-null   object             \n",
      " 2   Channel             8492 non-null   object             \n",
      " 3   Published Date      8493 non-null   datetime64[ns, UTC]\n",
      " 4   Views               8493 non-null   int64              \n",
      " 5   Likes               8493 non-null   int64              \n",
      " 6   Comments            8493 non-null   int64              \n",
      " 7   Subscribers         8493 non-null   int64              \n",
      " 8   Channel Views       8493 non-null   int64              \n",
      " 9   Country             8493 non-null   object             \n",
      " 10  Region              8493 non-null   object             \n",
      " 11  CategoryID          8493 non-null   int64              \n",
      " 12  CategoryName        8493 non-null   object             \n",
      " 13  Cluster             8493 non-null   int64              \n",
      " 14  CategoryID_enc      8493 non-null   int64              \n",
      " 15  Country_enc         8493 non-null   int64              \n",
      " 16  VideoCluster        8493 non-null   int64              \n",
      " 17  Anomaly             8493 non-null   object             \n",
      " 18  Channel_Cluster     8493 non-null   int64              \n",
      " 19  Video_Cluster       8493 non-null   int64              \n",
      " 20  Country_Cluster_x   8493 non-null   int64              \n",
      " 21  Category_Cluster_x  8493 non-null   int64              \n",
      " 22  Country_Cluster_y   8493 non-null   int64              \n",
      " 23  Category_Cluster_y  8493 non-null   int64              \n",
      " 24  Year                8493 non-null   int32              \n",
      " 25  Month               8493 non-null   int32              \n",
      " 26  Day                 8493 non-null   int32              \n",
      " 27  DayOfWeek           8493 non-null   int32              \n",
      " 28  DayName             8493 non-null   object             \n",
      " 29  Views_per_Sub       8493 non-null   float64            \n",
      " 30  Engagement          8493 non-null   float64            \n",
      " 31  Like_per_Sub        8493 non-null   float64            \n",
      " 32  Comment_per_Sub     8493 non-null   float64            \n",
      "dtypes: datetime64[ns, UTC](1), float64(4), int32(4), int64(16), object(8)\n",
      "memory usage: 2.0+ MB\n"
     ]
    }
   ],
   "source": [
    "df.info()"
   ]
  },
  {
   "cell_type": "code",
   "execution_count": 7,
   "id": "7416f8e5",
   "metadata": {},
   "outputs": [],
   "source": [
    "df.to_csv(r\"C:\\Users\\Rasulbek907\\Desktop\\Project_MP\\Data\\Enginered_Data\\feature_enginering.csv\")"
   ]
  },
  {
   "cell_type": "code",
   "execution_count": null,
   "id": "21b4e82a",
   "metadata": {},
   "outputs": [],
   "source": []
  }
 ],
 "metadata": {
  "kernelspec": {
   "display_name": "mpvenv",
   "language": "python",
   "name": "python3"
  },
  "language_info": {
   "codemirror_mode": {
    "name": "ipython",
    "version": 3
   },
   "file_extension": ".py",
   "mimetype": "text/x-python",
   "name": "python",
   "nbconvert_exporter": "python",
   "pygments_lexer": "ipython3",
   "version": "3.13.7"
  }
 },
 "nbformat": 4,
 "nbformat_minor": 5
}
