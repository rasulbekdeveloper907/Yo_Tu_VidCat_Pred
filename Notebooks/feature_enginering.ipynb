{
 "cells": [
  {
   "cell_type": "code",
   "execution_count": null,
   "id": "761e68bf",
   "metadata": {},
   "outputs": [],
   "source": [
    "import pandas as pd\n",
    "import logging\n",
    "\n",
    "# Log fayl manzili\n",
    "log_path = r\"C:\\Users\\Rasulbek907\\Desktop\\Project_MP\\Log\\feature_enginering.log\"\n",
    "\n",
    "# Log sozlamalari\n",
    "logging.basicConfig(\n",
    "    filename=log_path,\n",
    "    filemode='a',  # Append mode\n",
    "    format='%(asctime)s - %(levelname)s - %(message)s',\n",
    "    level=logging.INFO\n",
    ")\n",
    "\n",
    "try:\n",
    "    logging.info(\"CSV fayl o'qilmoqda:...\")\n",
    "    df = pd.read_csv(r\"C:\\Users\\Rasulbek907\\Desktop\\Project_MP\\Data\\Preprosessed\\Clustering.csv\")\n",
    "    logging.info(f\"Fayl muvaffaqiyatli o'qildi. Satırlar soni: {len(df)} ustunlar soni: {len(df.columns)}\")\n",
    "except Exception as e:\n",
    "    logging.error(f\"CSV faylni o'qishda xatolik: {e}\")"
   ]
  },
  {
   "cell_type": "code",
   "execution_count": null,
   "id": "a3d938fa",
   "metadata": {},
   "outputs": [],
   "source": [
    "df.info()"
   ]
  },
  {
   "cell_type": "markdown",
   "id": "0f45c4f2",
   "metadata": {},
   "source": [
    "# 🧩 1️⃣ Sana ustunidan yil, oy, kun, hafta kuni chiqarish"
   ]
  },
  {
   "cell_type": "code",
   "execution_count": null,
   "id": "90b57d58",
   "metadata": {},
   "outputs": [],
   "source": [
    "import pandas as pd\n",
    "\n",
    "# Ma'lumotni o‘qish\n",
    "df = pd.read_csv(\"Clustering.csv\")\n",
    "\n",
    "# Sana ustunini datetime formatga o‘tkazamiz\n",
    "df['Published Date'] = pd.to_datetime(df['Published Date'], errors='coerce')\n",
    "\n",
    "# Yil, oy, kun, hafta kuni (0 = Dushanba)\n",
    "df['Year'] = df['Published Date'].dt.year\n",
    "df['Month'] = df['Published Date'].dt.month\n",
    "df['Day'] = df['Published Date'].dt.day\n",
    "df['DayOfWeek'] = df['Published Date'].dt.dayofweek\n",
    "\n",
    "# O‘sha haftaning nomini ham chiqarish (masalan, Monday)\n",
    "df['DayName'] = df['Published Date'].dt.day_name()\n",
    "\n",
    "# Natija\n",
    "print(\"✅ Sana ustunidan vaqt xususiyatlari chiqarildi:\")\n",
    "print(df[['Published Date', 'Year', 'Month', 'Day', 'DayOfWeek', 'DayName']].head())\n"
   ]
  },
  {
   "cell_type": "markdown",
   "id": "19c0c93a",
   "metadata": {},
   "source": [
    "# 🧮 2️⃣ Qo‘shimcha interaktiv xususiyatlar (Feature Interaction)"
   ]
  },
  {
   "cell_type": "code",
   "execution_count": null,
   "id": "77645606",
   "metadata": {},
   "outputs": [],
   "source": [
    "import numpy as np\n",
    "\n",
    "# Qo‘shimcha feature’lar yaratamiz (faqat kerakli ustunlar mavjud bo‘lsa)\n",
    "if 'Subscribers' in df.columns and 'Views' in df.columns:\n",
    "    df['Views_per_Sub'] = df['Views'] / (df['Subscribers'] + 1)\n",
    "\n",
    "if 'Likes' in df.columns and 'Comments' in df.columns and 'Views' in df.columns:\n",
    "    df['Engagement'] = (df['Likes'] + df['Comments']) / (df['Views'] + 1)\n",
    "\n",
    "if 'Likes' in df.columns and 'Subscribers' in df.columns:\n",
    "    df['Like_per_Sub'] = df['Likes'] / (df['Subscribers'] + 1)\n",
    "\n",
    "if 'Comments' in df.columns and 'Subscribers' in df.columns:\n",
    "    df['Comment_per_Sub'] = df['Comments'] / (df['Subscribers'] + 1)\n",
    "\n",
    "# Natijani tekshiramiz\n",
    "print(\"✅ Qo‘shimcha interaktiv xususiyatlar yaratildi:\")\n",
    "print(df[['Views_per_Sub', 'Engagement', 'Like_per_Sub', 'Comment_per_Sub']].head())"
   ]
  }
 ],
 "metadata": {
  "kernelspec": {
   "display_name": "mpvenv",
   "language": "python",
   "name": "python3"
  },
  "language_info": {
   "codemirror_mode": {
    "name": "ipython",
    "version": 3
   },
   "file_extension": ".py",
   "mimetype": "text/x-python",
   "name": "python",
   "nbconvert_exporter": "python",
   "pygments_lexer": "ipython3",
   "version": "3.13.7"
  }
 },
 "nbformat": 4,
 "nbformat_minor": 5
}
