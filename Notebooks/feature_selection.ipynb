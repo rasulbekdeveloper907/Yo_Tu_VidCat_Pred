{
 "cells": [
  {
   "cell_type": "code",
   "execution_count": 1,
   "id": "b89dc60a",
   "metadata": {},
   "outputs": [],
   "source": [
    "import pandas as pd\n",
    "import logging\n",
    "\n",
    "# Log fayl manzili\n",
    "log_path = r\"C:\\Users\\Rasulbek907\\Desktop\\Project_MP\\Log\\feature_selection.log\"\n",
    "\n",
    "# Log sozlamalari\n",
    "logging.basicConfig(\n",
    "    filename=log_path,\n",
    "    filemode='a',  # Append mode\n",
    "    format='%(asctime)s - %(levelname)s - %(message)s',\n",
    "    level=logging.INFO\n",
    ")\n",
    "\n",
    "try:\n",
    "    logging.info(\"CSV fayl o'qilmoqda:...\")\n",
    "    df = pd.read_csv(r\"C:\\Users\\Rasulbek907\\Desktop\\Project_MP\\Data\\Preprosessed\\Preprosessedd.csv\")\n",
    "    logging.info(f\"Fayl muvaffaqiyatli o'qildi. Satırlar soni: {len(df)} ustunlar soni: {len(df.columns)}\")\n",
    "except Exception as e:\n",
    "    logging.error(f\"CSV faylni o'qishda xatolik: {e}\")"
   ]
  },
  {
   "cell_type": "code",
   "execution_count": 2,
   "id": "eecf5ba4",
   "metadata": {},
   "outputs": [
    {
     "data": {
      "text/html": [
       "<div>\n",
       "<style scoped>\n",
       "    .dataframe tbody tr th:only-of-type {\n",
       "        vertical-align: middle;\n",
       "    }\n",
       "\n",
       "    .dataframe tbody tr th {\n",
       "        vertical-align: top;\n",
       "    }\n",
       "\n",
       "    .dataframe thead th {\n",
       "        text-align: right;\n",
       "    }\n",
       "</style>\n",
       "<table border=\"1\" class=\"dataframe\">\n",
       "  <thead>\n",
       "    <tr style=\"text-align: right;\">\n",
       "      <th></th>\n",
       "      <th>Unnamed: 0</th>\n",
       "      <th>Video ID</th>\n",
       "      <th>Video Title</th>\n",
       "      <th>Channel</th>\n",
       "      <th>Published Date</th>\n",
       "      <th>Views</th>\n",
       "      <th>Likes</th>\n",
       "      <th>Comments</th>\n",
       "      <th>Subscribers</th>\n",
       "      <th>Channel Views</th>\n",
       "      <th>...</th>\n",
       "      <th>Category_Cluster_y</th>\n",
       "      <th>Year</th>\n",
       "      <th>Month</th>\n",
       "      <th>Day</th>\n",
       "      <th>DayOfWeek</th>\n",
       "      <th>DayName</th>\n",
       "      <th>Views_per_Sub</th>\n",
       "      <th>Engagement</th>\n",
       "      <th>Like_per_Sub</th>\n",
       "      <th>Comment_per_Sub</th>\n",
       "    </tr>\n",
       "  </thead>\n",
       "  <tbody>\n",
       "    <tr>\n",
       "      <th>0</th>\n",
       "      <td>0</td>\n",
       "      <td>26</td>\n",
       "      <td>4388</td>\n",
       "      <td>2187</td>\n",
       "      <td>0.988754</td>\n",
       "      <td>34727</td>\n",
       "      <td>686</td>\n",
       "      <td>16</td>\n",
       "      <td>4190000</td>\n",
       "      <td>1909505035</td>\n",
       "      <td>...</td>\n",
       "      <td>2</td>\n",
       "      <td>2025</td>\n",
       "      <td>10</td>\n",
       "      <td>20</td>\n",
       "      <td>0</td>\n",
       "      <td>0.166667</td>\n",
       "      <td>0.008288</td>\n",
       "      <td>0.020214</td>\n",
       "      <td>0.000164</td>\n",
       "      <td>0.000004</td>\n",
       "    </tr>\n",
       "    <tr>\n",
       "      <th>1</th>\n",
       "      <td>1</td>\n",
       "      <td>1447</td>\n",
       "      <td>2374</td>\n",
       "      <td>4507</td>\n",
       "      <td>0.898341</td>\n",
       "      <td>45151</td>\n",
       "      <td>1514</td>\n",
       "      <td>21</td>\n",
       "      <td>188000</td>\n",
       "      <td>135785655</td>\n",
       "      <td>...</td>\n",
       "      <td>2</td>\n",
       "      <td>2025</td>\n",
       "      <td>10</td>\n",
       "      <td>16</td>\n",
       "      <td>3</td>\n",
       "      <td>0.666667</td>\n",
       "      <td>0.240164</td>\n",
       "      <td>0.033996</td>\n",
       "      <td>0.008053</td>\n",
       "      <td>0.000112</td>\n",
       "    </tr>\n",
       "    <tr>\n",
       "      <th>2</th>\n",
       "      <td>2</td>\n",
       "      <td>3989</td>\n",
       "      <td>2973</td>\n",
       "      <td>4820</td>\n",
       "      <td>0.910707</td>\n",
       "      <td>353713</td>\n",
       "      <td>6485</td>\n",
       "      <td>127</td>\n",
       "      <td>37300</td>\n",
       "      <td>54921887</td>\n",
       "      <td>...</td>\n",
       "      <td>2</td>\n",
       "      <td>2025</td>\n",
       "      <td>10</td>\n",
       "      <td>17</td>\n",
       "      <td>4</td>\n",
       "      <td>0.000000</td>\n",
       "      <td>9.482668</td>\n",
       "      <td>0.018693</td>\n",
       "      <td>0.173856</td>\n",
       "      <td>0.003405</td>\n",
       "    </tr>\n",
       "    <tr>\n",
       "      <th>3</th>\n",
       "      <td>3</td>\n",
       "      <td>7437</td>\n",
       "      <td>7301</td>\n",
       "      <td>3101</td>\n",
       "      <td>0.944730</td>\n",
       "      <td>2171652</td>\n",
       "      <td>78431</td>\n",
       "      <td>183</td>\n",
       "      <td>43800</td>\n",
       "      <td>88085601</td>\n",
       "      <td>...</td>\n",
       "      <td>1</td>\n",
       "      <td>2025</td>\n",
       "      <td>10</td>\n",
       "      <td>18</td>\n",
       "      <td>5</td>\n",
       "      <td>0.333333</td>\n",
       "      <td>49.579964</td>\n",
       "      <td>0.036200</td>\n",
       "      <td>1.790621</td>\n",
       "      <td>0.004178</td>\n",
       "    </tr>\n",
       "    <tr>\n",
       "      <th>4</th>\n",
       "      <td>4</td>\n",
       "      <td>2123</td>\n",
       "      <td>7961</td>\n",
       "      <td>1298</td>\n",
       "      <td>0.892396</td>\n",
       "      <td>246429</td>\n",
       "      <td>9321</td>\n",
       "      <td>949</td>\n",
       "      <td>2490000</td>\n",
       "      <td>501089468</td>\n",
       "      <td>...</td>\n",
       "      <td>0</td>\n",
       "      <td>2025</td>\n",
       "      <td>10</td>\n",
       "      <td>16</td>\n",
       "      <td>3</td>\n",
       "      <td>0.666667</td>\n",
       "      <td>0.098967</td>\n",
       "      <td>0.041675</td>\n",
       "      <td>0.003743</td>\n",
       "      <td>0.000381</td>\n",
       "    </tr>\n",
       "  </tbody>\n",
       "</table>\n",
       "<p>5 rows × 33 columns</p>\n",
       "</div>"
      ],
      "text/plain": [
       "   Unnamed: 0  Video ID  Video Title  Channel  Published Date    Views  Likes  \\\n",
       "0           0        26         4388     2187        0.988754    34727    686   \n",
       "1           1      1447         2374     4507        0.898341    45151   1514   \n",
       "2           2      3989         2973     4820        0.910707   353713   6485   \n",
       "3           3      7437         7301     3101        0.944730  2171652  78431   \n",
       "4           4      2123         7961     1298        0.892396   246429   9321   \n",
       "\n",
       "   Comments  Subscribers  Channel Views  ...  Category_Cluster_y  Year  Month  \\\n",
       "0        16      4190000     1909505035  ...                   2  2025     10   \n",
       "1        21       188000      135785655  ...                   2  2025     10   \n",
       "2       127        37300       54921887  ...                   2  2025     10   \n",
       "3       183        43800       88085601  ...                   1  2025     10   \n",
       "4       949      2490000      501089468  ...                   0  2025     10   \n",
       "\n",
       "   Day  DayOfWeek   DayName  Views_per_Sub  Engagement  Like_per_Sub  \\\n",
       "0   20          0  0.166667       0.008288    0.020214      0.000164   \n",
       "1   16          3  0.666667       0.240164    0.033996      0.008053   \n",
       "2   17          4  0.000000       9.482668    0.018693      0.173856   \n",
       "3   18          5  0.333333      49.579964    0.036200      1.790621   \n",
       "4   16          3  0.666667       0.098967    0.041675      0.003743   \n",
       "\n",
       "   Comment_per_Sub  \n",
       "0         0.000004  \n",
       "1         0.000112  \n",
       "2         0.003405  \n",
       "3         0.004178  \n",
       "4         0.000381  \n",
       "\n",
       "[5 rows x 33 columns]"
      ]
     },
     "execution_count": 2,
     "metadata": {},
     "output_type": "execute_result"
    }
   ],
   "source": [
    "df.head()"
   ]
  },
  {
   "cell_type": "code",
   "execution_count": 3,
   "id": "d0682a31",
   "metadata": {},
   "outputs": [
    {
     "name": "stdout",
     "output_type": "stream",
     "text": [
      "<class 'pandas.core.frame.DataFrame'>\n",
      "RangeIndex: 8493 entries, 0 to 8492\n",
      "Data columns (total 33 columns):\n",
      " #   Column              Non-Null Count  Dtype  \n",
      "---  ------              --------------  -----  \n",
      " 0   Unnamed: 0          8493 non-null   int64  \n",
      " 1   Video ID            8493 non-null   int64  \n",
      " 2   Video Title         8493 non-null   int64  \n",
      " 3   Channel             8493 non-null   int64  \n",
      " 4   Published Date      8493 non-null   float64\n",
      " 5   Views               8493 non-null   int64  \n",
      " 6   Likes               8493 non-null   int64  \n",
      " 7   Comments            8493 non-null   int64  \n",
      " 8   Subscribers         8493 non-null   int64  \n",
      " 9   Channel Views       8493 non-null   int64  \n",
      " 10  Country             8493 non-null   int64  \n",
      " 11  Region              8493 non-null   int64  \n",
      " 12  CategoryID          8493 non-null   int64  \n",
      " 13  CategoryName        8493 non-null   int64  \n",
      " 14  Cluster             8493 non-null   int64  \n",
      " 15  CategoryID_enc      8493 non-null   int64  \n",
      " 16  Country_enc         8493 non-null   int64  \n",
      " 17  VideoCluster        8493 non-null   int64  \n",
      " 18  Channel_Cluster     8493 non-null   int64  \n",
      " 19  Video_Cluster       8493 non-null   int64  \n",
      " 20  Country_Cluster_x   8493 non-null   int64  \n",
      " 21  Category_Cluster_x  8493 non-null   int64  \n",
      " 22  Country_Cluster_y   8493 non-null   int64  \n",
      " 23  Category_Cluster_y  8493 non-null   int64  \n",
      " 24  Year                8493 non-null   int64  \n",
      " 25  Month               8493 non-null   int64  \n",
      " 26  Day                 8493 non-null   int64  \n",
      " 27  DayOfWeek           8493 non-null   int64  \n",
      " 28  DayName             8493 non-null   float64\n",
      " 29  Views_per_Sub       8493 non-null   float64\n",
      " 30  Engagement          8493 non-null   float64\n",
      " 31  Like_per_Sub        8493 non-null   float64\n",
      " 32  Comment_per_Sub     8493 non-null   float64\n",
      "dtypes: float64(6), int64(27)\n",
      "memory usage: 2.1 MB\n"
     ]
    }
   ],
   "source": [
    "df.info()"
   ]
  },
  {
   "cell_type": "code",
   "execution_count": 4,
   "id": "d5096070",
   "metadata": {},
   "outputs": [
    {
     "data": {
      "application/vnd.plotly.v1+json": {
       "config": {
        "plotlyServerURL": "https://plot.ly"
       },
       "data": [
        {
         "hovertemplate": "Xususiyatlar=%{x}<br>Korrelyatsiya qiymati=%{y}<extra></extra>",
         "legendgroup": "",
         "marker": {
          "color": "#636efa",
          "pattern": {
           "shape": ""
          }
         },
         "name": "",
         "orientation": "v",
         "showlegend": false,
         "textposition": "auto",
         "type": "bar",
         "x": [
          "CategoryName",
          "VideoCluster",
          "Video_Cluster",
          "Views",
          "Likes",
          "Cluster",
          "DayName",
          "Country_enc",
          "Country",
          "Views_per_Sub",
          "Channel Views",
          "Like_per_Sub",
          "Channel",
          "Channel_Cluster",
          "Region",
          "Comment_per_Sub",
          "Subscribers",
          "Comments",
          "Video ID",
          "Unnamed: 0",
          "Video Title",
          "Month",
          "Country_Cluster_y",
          "Country_Cluster_x",
          "CategoryID_enc",
          "Category_Cluster_x",
          "Category_Cluster_y",
          "DayOfWeek",
          "Published Date",
          "Day",
          "Engagement",
          "CategoryID",
          "Year"
         ],
         "xaxis": "x",
         "y": {
          "bdata": "AAAAAAAA8D/EzzynwebHP/CqievPRsU/6cnYR9xHwj/Yvme9aKDBP6oGCBr2T7A/weU40wq8rD/E9W3+uOeqP771bf6456o/hSIzy6wWoz8O7TRpyeedP/qoZh2AlZk/uMlu198blj8A7Jk7xJqMP9i7DUjfj4g/I8H27V7Sgj81G1fCNzxYP0mt6/dL91i/IdovhXOSd7+se/sxzR96v4amAyR7yHu/bn7RblmopL9PAgEqj5ipv08CASqPmKm/w8C8anMttr9yHFhLzj/Bv3IcWEvOP8G/Y4wyFy3Xw78sKklw/nzLvw1dqVoCacy/09toIwan0r9Bz4AI/yXevwAAAAAAAPh/",
          "dtype": "f8"
         },
         "yaxis": "y"
        }
       ],
       "layout": {
        "barmode": "relative",
        "legend": {
         "tracegroupgap": 0
        },
        "template": {
         "data": {
          "bar": [
           {
            "error_x": {
             "color": "#2a3f5f"
            },
            "error_y": {
             "color": "#2a3f5f"
            },
            "marker": {
             "line": {
              "color": "#E5ECF6",
              "width": 0.5
             },
             "pattern": {
              "fillmode": "overlay",
              "size": 10,
              "solidity": 0.2
             }
            },
            "type": "bar"
           }
          ],
          "barpolar": [
           {
            "marker": {
             "line": {
              "color": "#E5ECF6",
              "width": 0.5
             },
             "pattern": {
              "fillmode": "overlay",
              "size": 10,
              "solidity": 0.2
             }
            },
            "type": "barpolar"
           }
          ],
          "carpet": [
           {
            "aaxis": {
             "endlinecolor": "#2a3f5f",
             "gridcolor": "white",
             "linecolor": "white",
             "minorgridcolor": "white",
             "startlinecolor": "#2a3f5f"
            },
            "baxis": {
             "endlinecolor": "#2a3f5f",
             "gridcolor": "white",
             "linecolor": "white",
             "minorgridcolor": "white",
             "startlinecolor": "#2a3f5f"
            },
            "type": "carpet"
           }
          ],
          "choropleth": [
           {
            "colorbar": {
             "outlinewidth": 0,
             "ticks": ""
            },
            "type": "choropleth"
           }
          ],
          "contour": [
           {
            "colorbar": {
             "outlinewidth": 0,
             "ticks": ""
            },
            "colorscale": [
             [
              0,
              "#0d0887"
             ],
             [
              0.1111111111111111,
              "#46039f"
             ],
             [
              0.2222222222222222,
              "#7201a8"
             ],
             [
              0.3333333333333333,
              "#9c179e"
             ],
             [
              0.4444444444444444,
              "#bd3786"
             ],
             [
              0.5555555555555556,
              "#d8576b"
             ],
             [
              0.6666666666666666,
              "#ed7953"
             ],
             [
              0.7777777777777778,
              "#fb9f3a"
             ],
             [
              0.8888888888888888,
              "#fdca26"
             ],
             [
              1,
              "#f0f921"
             ]
            ],
            "type": "contour"
           }
          ],
          "contourcarpet": [
           {
            "colorbar": {
             "outlinewidth": 0,
             "ticks": ""
            },
            "type": "contourcarpet"
           }
          ],
          "heatmap": [
           {
            "colorbar": {
             "outlinewidth": 0,
             "ticks": ""
            },
            "colorscale": [
             [
              0,
              "#0d0887"
             ],
             [
              0.1111111111111111,
              "#46039f"
             ],
             [
              0.2222222222222222,
              "#7201a8"
             ],
             [
              0.3333333333333333,
              "#9c179e"
             ],
             [
              0.4444444444444444,
              "#bd3786"
             ],
             [
              0.5555555555555556,
              "#d8576b"
             ],
             [
              0.6666666666666666,
              "#ed7953"
             ],
             [
              0.7777777777777778,
              "#fb9f3a"
             ],
             [
              0.8888888888888888,
              "#fdca26"
             ],
             [
              1,
              "#f0f921"
             ]
            ],
            "type": "heatmap"
           }
          ],
          "histogram": [
           {
            "marker": {
             "pattern": {
              "fillmode": "overlay",
              "size": 10,
              "solidity": 0.2
             }
            },
            "type": "histogram"
           }
          ],
          "histogram2d": [
           {
            "colorbar": {
             "outlinewidth": 0,
             "ticks": ""
            },
            "colorscale": [
             [
              0,
              "#0d0887"
             ],
             [
              0.1111111111111111,
              "#46039f"
             ],
             [
              0.2222222222222222,
              "#7201a8"
             ],
             [
              0.3333333333333333,
              "#9c179e"
             ],
             [
              0.4444444444444444,
              "#bd3786"
             ],
             [
              0.5555555555555556,
              "#d8576b"
             ],
             [
              0.6666666666666666,
              "#ed7953"
             ],
             [
              0.7777777777777778,
              "#fb9f3a"
             ],
             [
              0.8888888888888888,
              "#fdca26"
             ],
             [
              1,
              "#f0f921"
             ]
            ],
            "type": "histogram2d"
           }
          ],
          "histogram2dcontour": [
           {
            "colorbar": {
             "outlinewidth": 0,
             "ticks": ""
            },
            "colorscale": [
             [
              0,
              "#0d0887"
             ],
             [
              0.1111111111111111,
              "#46039f"
             ],
             [
              0.2222222222222222,
              "#7201a8"
             ],
             [
              0.3333333333333333,
              "#9c179e"
             ],
             [
              0.4444444444444444,
              "#bd3786"
             ],
             [
              0.5555555555555556,
              "#d8576b"
             ],
             [
              0.6666666666666666,
              "#ed7953"
             ],
             [
              0.7777777777777778,
              "#fb9f3a"
             ],
             [
              0.8888888888888888,
              "#fdca26"
             ],
             [
              1,
              "#f0f921"
             ]
            ],
            "type": "histogram2dcontour"
           }
          ],
          "mesh3d": [
           {
            "colorbar": {
             "outlinewidth": 0,
             "ticks": ""
            },
            "type": "mesh3d"
           }
          ],
          "parcoords": [
           {
            "line": {
             "colorbar": {
              "outlinewidth": 0,
              "ticks": ""
             }
            },
            "type": "parcoords"
           }
          ],
          "pie": [
           {
            "automargin": true,
            "type": "pie"
           }
          ],
          "scatter": [
           {
            "fillpattern": {
             "fillmode": "overlay",
             "size": 10,
             "solidity": 0.2
            },
            "type": "scatter"
           }
          ],
          "scatter3d": [
           {
            "line": {
             "colorbar": {
              "outlinewidth": 0,
              "ticks": ""
             }
            },
            "marker": {
             "colorbar": {
              "outlinewidth": 0,
              "ticks": ""
             }
            },
            "type": "scatter3d"
           }
          ],
          "scattercarpet": [
           {
            "marker": {
             "colorbar": {
              "outlinewidth": 0,
              "ticks": ""
             }
            },
            "type": "scattercarpet"
           }
          ],
          "scattergeo": [
           {
            "marker": {
             "colorbar": {
              "outlinewidth": 0,
              "ticks": ""
             }
            },
            "type": "scattergeo"
           }
          ],
          "scattergl": [
           {
            "marker": {
             "colorbar": {
              "outlinewidth": 0,
              "ticks": ""
             }
            },
            "type": "scattergl"
           }
          ],
          "scattermap": [
           {
            "marker": {
             "colorbar": {
              "outlinewidth": 0,
              "ticks": ""
             }
            },
            "type": "scattermap"
           }
          ],
          "scattermapbox": [
           {
            "marker": {
             "colorbar": {
              "outlinewidth": 0,
              "ticks": ""
             }
            },
            "type": "scattermapbox"
           }
          ],
          "scatterpolar": [
           {
            "marker": {
             "colorbar": {
              "outlinewidth": 0,
              "ticks": ""
             }
            },
            "type": "scatterpolar"
           }
          ],
          "scatterpolargl": [
           {
            "marker": {
             "colorbar": {
              "outlinewidth": 0,
              "ticks": ""
             }
            },
            "type": "scatterpolargl"
           }
          ],
          "scatterternary": [
           {
            "marker": {
             "colorbar": {
              "outlinewidth": 0,
              "ticks": ""
             }
            },
            "type": "scatterternary"
           }
          ],
          "surface": [
           {
            "colorbar": {
             "outlinewidth": 0,
             "ticks": ""
            },
            "colorscale": [
             [
              0,
              "#0d0887"
             ],
             [
              0.1111111111111111,
              "#46039f"
             ],
             [
              0.2222222222222222,
              "#7201a8"
             ],
             [
              0.3333333333333333,
              "#9c179e"
             ],
             [
              0.4444444444444444,
              "#bd3786"
             ],
             [
              0.5555555555555556,
              "#d8576b"
             ],
             [
              0.6666666666666666,
              "#ed7953"
             ],
             [
              0.7777777777777778,
              "#fb9f3a"
             ],
             [
              0.8888888888888888,
              "#fdca26"
             ],
             [
              1,
              "#f0f921"
             ]
            ],
            "type": "surface"
           }
          ],
          "table": [
           {
            "cells": {
             "fill": {
              "color": "#EBF0F8"
             },
             "line": {
              "color": "white"
             }
            },
            "header": {
             "fill": {
              "color": "#C8D4E3"
             },
             "line": {
              "color": "white"
             }
            },
            "type": "table"
           }
          ]
         },
         "layout": {
          "annotationdefaults": {
           "arrowcolor": "#2a3f5f",
           "arrowhead": 0,
           "arrowwidth": 1
          },
          "autotypenumbers": "strict",
          "coloraxis": {
           "colorbar": {
            "outlinewidth": 0,
            "ticks": ""
           }
          },
          "colorscale": {
           "diverging": [
            [
             0,
             "#8e0152"
            ],
            [
             0.1,
             "#c51b7d"
            ],
            [
             0.2,
             "#de77ae"
            ],
            [
             0.3,
             "#f1b6da"
            ],
            [
             0.4,
             "#fde0ef"
            ],
            [
             0.5,
             "#f7f7f7"
            ],
            [
             0.6,
             "#e6f5d0"
            ],
            [
             0.7,
             "#b8e186"
            ],
            [
             0.8,
             "#7fbc41"
            ],
            [
             0.9,
             "#4d9221"
            ],
            [
             1,
             "#276419"
            ]
           ],
           "sequential": [
            [
             0,
             "#0d0887"
            ],
            [
             0.1111111111111111,
             "#46039f"
            ],
            [
             0.2222222222222222,
             "#7201a8"
            ],
            [
             0.3333333333333333,
             "#9c179e"
            ],
            [
             0.4444444444444444,
             "#bd3786"
            ],
            [
             0.5555555555555556,
             "#d8576b"
            ],
            [
             0.6666666666666666,
             "#ed7953"
            ],
            [
             0.7777777777777778,
             "#fb9f3a"
            ],
            [
             0.8888888888888888,
             "#fdca26"
            ],
            [
             1,
             "#f0f921"
            ]
           ],
           "sequentialminus": [
            [
             0,
             "#0d0887"
            ],
            [
             0.1111111111111111,
             "#46039f"
            ],
            [
             0.2222222222222222,
             "#7201a8"
            ],
            [
             0.3333333333333333,
             "#9c179e"
            ],
            [
             0.4444444444444444,
             "#bd3786"
            ],
            [
             0.5555555555555556,
             "#d8576b"
            ],
            [
             0.6666666666666666,
             "#ed7953"
            ],
            [
             0.7777777777777778,
             "#fb9f3a"
            ],
            [
             0.8888888888888888,
             "#fdca26"
            ],
            [
             1,
             "#f0f921"
            ]
           ]
          },
          "colorway": [
           "#636efa",
           "#EF553B",
           "#00cc96",
           "#ab63fa",
           "#FFA15A",
           "#19d3f3",
           "#FF6692",
           "#B6E880",
           "#FF97FF",
           "#FECB52"
          ],
          "font": {
           "color": "#2a3f5f"
          },
          "geo": {
           "bgcolor": "white",
           "lakecolor": "white",
           "landcolor": "#E5ECF6",
           "showlakes": true,
           "showland": true,
           "subunitcolor": "white"
          },
          "hoverlabel": {
           "align": "left"
          },
          "hovermode": "closest",
          "mapbox": {
           "style": "light"
          },
          "paper_bgcolor": "white",
          "plot_bgcolor": "#E5ECF6",
          "polar": {
           "angularaxis": {
            "gridcolor": "white",
            "linecolor": "white",
            "ticks": ""
           },
           "bgcolor": "#E5ECF6",
           "radialaxis": {
            "gridcolor": "white",
            "linecolor": "white",
            "ticks": ""
           }
          },
          "scene": {
           "xaxis": {
            "backgroundcolor": "#E5ECF6",
            "gridcolor": "white",
            "gridwidth": 2,
            "linecolor": "white",
            "showbackground": true,
            "ticks": "",
            "zerolinecolor": "white"
           },
           "yaxis": {
            "backgroundcolor": "#E5ECF6",
            "gridcolor": "white",
            "gridwidth": 2,
            "linecolor": "white",
            "showbackground": true,
            "ticks": "",
            "zerolinecolor": "white"
           },
           "zaxis": {
            "backgroundcolor": "#E5ECF6",
            "gridcolor": "white",
            "gridwidth": 2,
            "linecolor": "white",
            "showbackground": true,
            "ticks": "",
            "zerolinecolor": "white"
           }
          },
          "shapedefaults": {
           "line": {
            "color": "#2a3f5f"
           }
          },
          "ternary": {
           "aaxis": {
            "gridcolor": "white",
            "linecolor": "white",
            "ticks": ""
           },
           "baxis": {
            "gridcolor": "white",
            "linecolor": "white",
            "ticks": ""
           },
           "bgcolor": "#E5ECF6",
           "caxis": {
            "gridcolor": "white",
            "linecolor": "white",
            "ticks": ""
           }
          },
          "title": {
           "x": 0.05
          },
          "xaxis": {
           "automargin": true,
           "gridcolor": "white",
           "linecolor": "white",
           "ticks": "",
           "title": {
            "standoff": 15
           },
           "zerolinecolor": "white",
           "zerolinewidth": 2
          },
          "yaxis": {
           "automargin": true,
           "gridcolor": "white",
           "linecolor": "white",
           "ticks": "",
           "title": {
            "standoff": 15
           },
           "zerolinecolor": "white",
           "zerolinewidth": 2
          }
         }
        },
        "title": {
         "text": "CategoryName bilan boshqa raqamli ustunlar o'rtasidagi korrelyatsiya"
        },
        "xaxis": {
         "anchor": "y",
         "domain": [
          0,
          1
         ],
         "title": {
          "text": "Xususiyatlar"
         }
        },
        "yaxis": {
         "anchor": "x",
         "domain": [
          0,
          1
         ],
         "title": {
          "text": "Korrelyatsiya qiymati"
         }
        }
       }
      }
     },
     "metadata": {},
     "output_type": "display_data"
    }
   ],
   "source": [
    "import pandas as pd\n",
    "import plotly.express as px\n",
    "\n",
    "# Raqamli ustunlarni tanlash\n",
    "numeric_cols = df.select_dtypes(include=['float64', 'int64']).columns\n",
    "\n",
    "# faqat raqamli ustunlar bo'yicha korrelyatsiya\n",
    "corr_matrix = df[numeric_cols].corr()\n",
    "\n",
    "# CategoryName ustunining boshqa ustunlar bilan korrelyatsiyasi\n",
    "CategoryName_corr = corr_matrix[['CategoryName']].sort_values(by='CategoryName', ascending=False)\n",
    "\n",
    "# Heatmap uchun DataFrame ni transformatsiya qilish\n",
    "heatmap_data = CategoryName_corr.reset_index()\n",
    "heatmap_data.columns = ['Feature', 'Correlation_with_CategoryName']\n",
    "\n",
    "# Plotly Express yordamida bar grafik\n",
    "fig = px.bar(\n",
    "    heatmap_data,\n",
    "    x='Feature',\n",
    "    y='Correlation_with_CategoryName',\n",
    "    title='CategoryName bilan boshqa raqamli ustunlar o\\'rtasidagi korrelyatsiya',\n",
    "    labels={'Correlation_with_CategoryName': 'Korrelyatsiya qiymati', 'Feature': 'Xususiyatlar'}\n",
    ")\n",
    "\n",
    "fig.show()\n"
   ]
  },
  {
   "cell_type": "code",
   "execution_count": 5,
   "id": "a3275ded",
   "metadata": {},
   "outputs": [
    {
     "data": {
      "application/vnd.plotly.v1+json": {
       "config": {
        "plotlyServerURL": "https://plot.ly"
       },
       "data": [
        {
         "colorscale": [
          [
           0,
           "#440154"
          ],
          [
           0.1111111111111111,
           "#482878"
          ],
          [
           0.2222222222222222,
           "#3e4989"
          ],
          [
           0.3333333333333333,
           "#31688e"
          ],
          [
           0.4444444444444444,
           "#26828e"
          ],
          [
           0.5555555555555556,
           "#1f9e89"
          ],
          [
           0.6666666666666666,
           "#35b779"
          ],
          [
           0.7777777777777778,
           "#6ece58"
          ],
          [
           0.8888888888888888,
           "#b5de2b"
          ],
          [
           1,
           "#fde725"
          ]
         ],
         "reversescale": false,
         "showscale": true,
         "type": "heatmap",
         "x": [
          "Unnamed: 0",
          "Video ID",
          "Video Title",
          "Channel",
          "Published Date",
          "Views",
          "Likes",
          "Comments",
          "Subscribers",
          "Channel Views",
          "Country",
          "Region",
          "CategoryID",
          "CategoryName",
          "Cluster",
          "CategoryID_enc",
          "Country_enc",
          "VideoCluster",
          "Channel_Cluster",
          "Video_Cluster",
          "Country_Cluster_x",
          "Category_Cluster_x",
          "Country_Cluster_y",
          "Category_Cluster_y",
          "Year",
          "Month",
          "Day",
          "DayOfWeek",
          "DayName",
          "Views_per_Sub",
          "Engagement",
          "Like_per_Sub",
          "Comment_per_Sub"
         ],
         "y": [
          "Unnamed: 0",
          "Video ID",
          "Video Title",
          "Channel",
          "Published Date",
          "Views",
          "Likes",
          "Comments",
          "Subscribers",
          "Channel Views",
          "Country",
          "Region",
          "CategoryID",
          "CategoryName",
          "Cluster",
          "CategoryID_enc",
          "Country_enc",
          "VideoCluster",
          "Channel_Cluster",
          "Video_Cluster",
          "Country_Cluster_x",
          "Category_Cluster_x",
          "Country_Cluster_y",
          "Category_Cluster_y",
          "Year",
          "Month",
          "Day",
          "DayOfWeek",
          "DayName",
          "Views_per_Sub",
          "Engagement",
          "Like_per_Sub",
          "Comment_per_Sub"
         ],
         "z": {
          "bdata": "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",
          "dtype": "f8",
          "shape": "33, 33"
         }
        }
       ],
       "layout": {
        "annotations": [
         {
          "font": {
           "color": "#000000"
          },
          "showarrow": false,
          "text": "1.0",
          "x": "Unnamed: 0",
          "xref": "x",
          "y": "Unnamed: 0",
          "yref": "y"
         },
         {
          "font": {
           "color": "#000000"
          },
          "showarrow": false,
          "text": "-0.0",
          "x": "Video ID",
          "xref": "x",
          "y": "Unnamed: 0",
          "yref": "y"
         },
         {
          "font": {
           "color": "#000000"
          },
          "showarrow": false,
          "text": "-0.01",
          "x": "Video Title",
          "xref": "x",
          "y": "Unnamed: 0",
          "yref": "y"
         },
         {
          "font": {
           "color": "#000000"
          },
          "showarrow": false,
          "text": "-0.01",
          "x": "Channel",
          "xref": "x",
          "y": "Unnamed: 0",
          "yref": "y"
         },
         {
          "font": {
           "color": "#000000"
          },
          "showarrow": false,
          "text": "0.0",
          "x": "Published Date",
          "xref": "x",
          "y": "Unnamed: 0",
          "yref": "y"
         },
         {
          "font": {
           "color": "#000000"
          },
          "showarrow": false,
          "text": "-0.01",
          "x": "Views",
          "xref": "x",
          "y": "Unnamed: 0",
          "yref": "y"
         },
         {
          "font": {
           "color": "#000000"
          },
          "showarrow": false,
          "text": "-0.01",
          "x": "Likes",
          "xref": "x",
          "y": "Unnamed: 0",
          "yref": "y"
         },
         {
          "font": {
           "color": "#000000"
          },
          "showarrow": false,
          "text": "-0.01",
          "x": "Comments",
          "xref": "x",
          "y": "Unnamed: 0",
          "yref": "y"
         },
         {
          "font": {
           "color": "#000000"
          },
          "showarrow": false,
          "text": "0.0",
          "x": "Subscribers",
          "xref": "x",
          "y": "Unnamed: 0",
          "yref": "y"
         },
         {
          "font": {
           "color": "#000000"
          },
          "showarrow": false,
          "text": "0.0",
          "x": "Channel Views",
          "xref": "x",
          "y": "Unnamed: 0",
          "yref": "y"
         },
         {
          "font": {
           "color": "#000000"
          },
          "showarrow": false,
          "text": "-0.02",
          "x": "Country",
          "xref": "x",
          "y": "Unnamed: 0",
          "yref": "y"
         },
         {
          "font": {
           "color": "#000000"
          },
          "showarrow": false,
          "text": "0.0",
          "x": "Region",
          "xref": "x",
          "y": "Unnamed: 0",
          "yref": "y"
         },
         {
          "font": {
           "color": "#000000"
          },
          "showarrow": false,
          "text": "0.0",
          "x": "CategoryID",
          "xref": "x",
          "y": "Unnamed: 0",
          "yref": "y"
         },
         {
          "font": {
           "color": "#000000"
          },
          "showarrow": false,
          "text": "-0.01",
          "x": "CategoryName",
          "xref": "x",
          "y": "Unnamed: 0",
          "yref": "y"
         },
         {
          "font": {
           "color": "#000000"
          },
          "showarrow": false,
          "text": "-0.01",
          "x": "Cluster",
          "xref": "x",
          "y": "Unnamed: 0",
          "yref": "y"
         },
         {
          "font": {
           "color": "#000000"
          },
          "showarrow": false,
          "text": "-0.01",
          "x": "CategoryID_enc",
          "xref": "x",
          "y": "Unnamed: 0",
          "yref": "y"
         },
         {
          "font": {
           "color": "#000000"
          },
          "showarrow": false,
          "text": "-0.02",
          "x": "Country_enc",
          "xref": "x",
          "y": "Unnamed: 0",
          "yref": "y"
         },
         {
          "font": {
           "color": "#000000"
          },
          "showarrow": false,
          "text": "-0.02",
          "x": "VideoCluster",
          "xref": "x",
          "y": "Unnamed: 0",
          "yref": "y"
         },
         {
          "font": {
           "color": "#000000"
          },
          "showarrow": false,
          "text": "0.01",
          "x": "Channel_Cluster",
          "xref": "x",
          "y": "Unnamed: 0",
          "yref": "y"
         },
         {
          "font": {
           "color": "#000000"
          },
          "showarrow": false,
          "text": "-0.02",
          "x": "Video_Cluster",
          "xref": "x",
          "y": "Unnamed: 0",
          "yref": "y"
         },
         {
          "font": {
           "color": "#000000"
          },
          "showarrow": false,
          "text": "-0.02",
          "x": "Country_Cluster_x",
          "xref": "x",
          "y": "Unnamed: 0",
          "yref": "y"
         },
         {
          "font": {
           "color": "#000000"
          },
          "showarrow": false,
          "text": "-0.01",
          "x": "Category_Cluster_x",
          "xref": "x",
          "y": "Unnamed: 0",
          "yref": "y"
         },
         {
          "font": {
           "color": "#000000"
          },
          "showarrow": false,
          "text": "-0.02",
          "x": "Country_Cluster_y",
          "xref": "x",
          "y": "Unnamed: 0",
          "yref": "y"
         },
         {
          "font": {
           "color": "#000000"
          },
          "showarrow": false,
          "text": "-0.01",
          "x": "Category_Cluster_y",
          "xref": "x",
          "y": "Unnamed: 0",
          "yref": "y"
         },
         {
          "font": {
           "color": "#000000"
          },
          "showarrow": false,
          "text": "nan",
          "x": "Year",
          "xref": "x",
          "y": "Unnamed: 0",
          "yref": "y"
         },
         {
          "font": {
           "color": "#000000"
          },
          "showarrow": false,
          "text": "0.0",
          "x": "Month",
          "xref": "x",
          "y": "Unnamed: 0",
          "yref": "y"
         },
         {
          "font": {
           "color": "#000000"
          },
          "showarrow": false,
          "text": "-0.0",
          "x": "Day",
          "xref": "x",
          "y": "Unnamed: 0",
          "yref": "y"
         },
         {
          "font": {
           "color": "#000000"
          },
          "showarrow": false,
          "text": "-0.01",
          "x": "DayOfWeek",
          "xref": "x",
          "y": "Unnamed: 0",
          "yref": "y"
         },
         {
          "font": {
           "color": "#000000"
          },
          "showarrow": false,
          "text": "-0.0",
          "x": "DayName",
          "xref": "x",
          "y": "Unnamed: 0",
          "yref": "y"
         },
         {
          "font": {
           "color": "#000000"
          },
          "showarrow": false,
          "text": "-0.01",
          "x": "Views_per_Sub",
          "xref": "x",
          "y": "Unnamed: 0",
          "yref": "y"
         },
         {
          "font": {
           "color": "#000000"
          },
          "showarrow": false,
          "text": "-0.01",
          "x": "Engagement",
          "xref": "x",
          "y": "Unnamed: 0",
          "yref": "y"
         },
         {
          "font": {
           "color": "#000000"
          },
          "showarrow": false,
          "text": "-0.01",
          "x": "Like_per_Sub",
          "xref": "x",
          "y": "Unnamed: 0",
          "yref": "y"
         },
         {
          "font": {
           "color": "#000000"
          },
          "showarrow": false,
          "text": "-0.01",
          "x": "Comment_per_Sub",
          "xref": "x",
          "y": "Unnamed: 0",
          "yref": "y"
         },
         {
          "font": {
           "color": "#000000"
          },
          "showarrow": false,
          "text": "-0.0",
          "x": "Unnamed: 0",
          "xref": "x",
          "y": "Video ID",
          "yref": "y"
         },
         {
          "font": {
           "color": "#000000"
          },
          "showarrow": false,
          "text": "1.0",
          "x": "Video ID",
          "xref": "x",
          "y": "Video ID",
          "yref": "y"
         },
         {
          "font": {
           "color": "#000000"
          },
          "showarrow": false,
          "text": "0.0",
          "x": "Video Title",
          "xref": "x",
          "y": "Video ID",
          "yref": "y"
         },
         {
          "font": {
           "color": "#000000"
          },
          "showarrow": false,
          "text": "0.0",
          "x": "Channel",
          "xref": "x",
          "y": "Video ID",
          "yref": "y"
         },
         {
          "font": {
           "color": "#000000"
          },
          "showarrow": false,
          "text": "0.02",
          "x": "Published Date",
          "xref": "x",
          "y": "Video ID",
          "yref": "y"
         },
         {
          "font": {
           "color": "#000000"
          },
          "showarrow": false,
          "text": "-0.02",
          "x": "Views",
          "xref": "x",
          "y": "Video ID",
          "yref": "y"
         },
         {
          "font": {
           "color": "#000000"
          },
          "showarrow": false,
          "text": "-0.01",
          "x": "Likes",
          "xref": "x",
          "y": "Video ID",
          "yref": "y"
         },
         {
          "font": {
           "color": "#000000"
          },
          "showarrow": false,
          "text": "0.0",
          "x": "Comments",
          "xref": "x",
          "y": "Video ID",
          "yref": "y"
         },
         {
          "font": {
           "color": "#000000"
          },
          "showarrow": false,
          "text": "0.0",
          "x": "Subscribers",
          "xref": "x",
          "y": "Video ID",
          "yref": "y"
         },
         {
          "font": {
           "color": "#000000"
          },
          "showarrow": false,
          "text": "-0.0",
          "x": "Channel Views",
          "xref": "x",
          "y": "Video ID",
          "yref": "y"
         },
         {
          "font": {
           "color": "#000000"
          },
          "showarrow": false,
          "text": "0.01",
          "x": "Country",
          "xref": "x",
          "y": "Video ID",
          "yref": "y"
         },
         {
          "font": {
           "color": "#000000"
          },
          "showarrow": false,
          "text": "-0.01",
          "x": "Region",
          "xref": "x",
          "y": "Video ID",
          "yref": "y"
         },
         {
          "font": {
           "color": "#000000"
          },
          "showarrow": false,
          "text": "0.01",
          "x": "CategoryID",
          "xref": "x",
          "y": "Video ID",
          "yref": "y"
         },
         {
          "font": {
           "color": "#000000"
          },
          "showarrow": false,
          "text": "-0.01",
          "x": "CategoryName",
          "xref": "x",
          "y": "Video ID",
          "yref": "y"
         },
         {
          "font": {
           "color": "#000000"
          },
          "showarrow": false,
          "text": "-0.01",
          "x": "Cluster",
          "xref": "x",
          "y": "Video ID",
          "yref": "y"
         },
         {
          "font": {
           "color": "#000000"
          },
          "showarrow": false,
          "text": "0.01",
          "x": "CategoryID_enc",
          "xref": "x",
          "y": "Video ID",
          "yref": "y"
         },
         {
          "font": {
           "color": "#000000"
          },
          "showarrow": false,
          "text": "0.01",
          "x": "Country_enc",
          "xref": "x",
          "y": "Video ID",
          "yref": "y"
         },
         {
          "font": {
           "color": "#000000"
          },
          "showarrow": false,
          "text": "-0.01",
          "x": "VideoCluster",
          "xref": "x",
          "y": "Video ID",
          "yref": "y"
         },
         {
          "font": {
           "color": "#000000"
          },
          "showarrow": false,
          "text": "0.0",
          "x": "Channel_Cluster",
          "xref": "x",
          "y": "Video ID",
          "yref": "y"
         },
         {
          "font": {
           "color": "#000000"
          },
          "showarrow": false,
          "text": "-0.0",
          "x": "Video_Cluster",
          "xref": "x",
          "y": "Video ID",
          "yref": "y"
         },
         {
          "font": {
           "color": "#000000"
          },
          "showarrow": false,
          "text": "-0.03",
          "x": "Country_Cluster_x",
          "xref": "x",
          "y": "Video ID",
          "yref": "y"
         },
         {
          "font": {
           "color": "#000000"
          },
          "showarrow": false,
          "text": "-0.01",
          "x": "Category_Cluster_x",
          "xref": "x",
          "y": "Video ID",
          "yref": "y"
         },
         {
          "font": {
           "color": "#000000"
          },
          "showarrow": false,
          "text": "-0.03",
          "x": "Country_Cluster_y",
          "xref": "x",
          "y": "Video ID",
          "yref": "y"
         },
         {
          "font": {
           "color": "#000000"
          },
          "showarrow": false,
          "text": "-0.01",
          "x": "Category_Cluster_y",
          "xref": "x",
          "y": "Video ID",
          "yref": "y"
         },
         {
          "font": {
           "color": "#000000"
          },
          "showarrow": false,
          "text": "nan",
          "x": "Year",
          "xref": "x",
          "y": "Video ID",
          "yref": "y"
         },
         {
          "font": {
           "color": "#000000"
          },
          "showarrow": false,
          "text": "0.02",
          "x": "Month",
          "xref": "x",
          "y": "Video ID",
          "yref": "y"
         },
         {
          "font": {
           "color": "#000000"
          },
          "showarrow": false,
          "text": "-0.0",
          "x": "Day",
          "xref": "x",
          "y": "Video ID",
          "yref": "y"
         },
         {
          "font": {
           "color": "#000000"
          },
          "showarrow": false,
          "text": "-0.0",
          "x": "DayOfWeek",
          "xref": "x",
          "y": "Video ID",
          "yref": "y"
         },
         {
          "font": {
           "color": "#000000"
          },
          "showarrow": false,
          "text": "-0.01",
          "x": "DayName",
          "xref": "x",
          "y": "Video ID",
          "yref": "y"
         },
         {
          "font": {
           "color": "#000000"
          },
          "showarrow": false,
          "text": "0.0",
          "x": "Views_per_Sub",
          "xref": "x",
          "y": "Video ID",
          "yref": "y"
         },
         {
          "font": {
           "color": "#000000"
          },
          "showarrow": false,
          "text": "0.02",
          "x": "Engagement",
          "xref": "x",
          "y": "Video ID",
          "yref": "y"
         },
         {
          "font": {
           "color": "#000000"
          },
          "showarrow": false,
          "text": "0.0",
          "x": "Like_per_Sub",
          "xref": "x",
          "y": "Video ID",
          "yref": "y"
         },
         {
          "font": {
           "color": "#000000"
          },
          "showarrow": false,
          "text": "-0.0",
          "x": "Comment_per_Sub",
          "xref": "x",
          "y": "Video ID",
          "yref": "y"
         },
         {
          "font": {
           "color": "#000000"
          },
          "showarrow": false,
          "text": "-0.01",
          "x": "Unnamed: 0",
          "xref": "x",
          "y": "Video Title",
          "yref": "y"
         },
         {
          "font": {
           "color": "#000000"
          },
          "showarrow": false,
          "text": "0.0",
          "x": "Video ID",
          "xref": "x",
          "y": "Video Title",
          "yref": "y"
         },
         {
          "font": {
           "color": "#000000"
          },
          "showarrow": false,
          "text": "1.0",
          "x": "Video Title",
          "xref": "x",
          "y": "Video Title",
          "yref": "y"
         },
         {
          "font": {
           "color": "#000000"
          },
          "showarrow": false,
          "text": "0.16",
          "x": "Channel",
          "xref": "x",
          "y": "Video Title",
          "yref": "y"
         },
         {
          "font": {
           "color": "#000000"
          },
          "showarrow": false,
          "text": "0.0",
          "x": "Published Date",
          "xref": "x",
          "y": "Video Title",
          "yref": "y"
         },
         {
          "font": {
           "color": "#000000"
          },
          "showarrow": false,
          "text": "-0.03",
          "x": "Views",
          "xref": "x",
          "y": "Video Title",
          "yref": "y"
         },
         {
          "font": {
           "color": "#000000"
          },
          "showarrow": false,
          "text": "-0.03",
          "x": "Likes",
          "xref": "x",
          "y": "Video Title",
          "yref": "y"
         },
         {
          "font": {
           "color": "#000000"
          },
          "showarrow": false,
          "text": "-0.01",
          "x": "Comments",
          "xref": "x",
          "y": "Video Title",
          "yref": "y"
         },
         {
          "font": {
           "color": "#000000"
          },
          "showarrow": false,
          "text": "-0.02",
          "x": "Subscribers",
          "xref": "x",
          "y": "Video Title",
          "yref": "y"
         },
         {
          "font": {
           "color": "#000000"
          },
          "showarrow": false,
          "text": "-0.01",
          "x": "Channel Views",
          "xref": "x",
          "y": "Video Title",
          "yref": "y"
         },
         {
          "font": {
           "color": "#000000"
          },
          "showarrow": false,
          "text": "0.02",
          "x": "Country",
          "xref": "x",
          "y": "Video Title",
          "yref": "y"
         },
         {
          "font": {
           "color": "#000000"
          },
          "showarrow": false,
          "text": "0.04",
          "x": "Region",
          "xref": "x",
          "y": "Video Title",
          "yref": "y"
         },
         {
          "font": {
           "color": "#000000"
          },
          "showarrow": false,
          "text": "0.02",
          "x": "CategoryID",
          "xref": "x",
          "y": "Video Title",
          "yref": "y"
         },
         {
          "font": {
           "color": "#000000"
          },
          "showarrow": false,
          "text": "-0.01",
          "x": "CategoryName",
          "xref": "x",
          "y": "Video Title",
          "yref": "y"
         },
         {
          "font": {
           "color": "#000000"
          },
          "showarrow": false,
          "text": "-0.04",
          "x": "Cluster",
          "xref": "x",
          "y": "Video Title",
          "yref": "y"
         },
         {
          "font": {
           "color": "#000000"
          },
          "showarrow": false,
          "text": "0.01",
          "x": "CategoryID_enc",
          "xref": "x",
          "y": "Video Title",
          "yref": "y"
         },
         {
          "font": {
           "color": "#000000"
          },
          "showarrow": false,
          "text": "0.02",
          "x": "Country_enc",
          "xref": "x",
          "y": "Video Title",
          "yref": "y"
         },
         {
          "font": {
           "color": "#000000"
          },
          "showarrow": false,
          "text": "0.02",
          "x": "VideoCluster",
          "xref": "x",
          "y": "Video Title",
          "yref": "y"
         },
         {
          "font": {
           "color": "#000000"
          },
          "showarrow": false,
          "text": "-0.0",
          "x": "Channel_Cluster",
          "xref": "x",
          "y": "Video Title",
          "yref": "y"
         },
         {
          "font": {
           "color": "#000000"
          },
          "showarrow": false,
          "text": "-0.02",
          "x": "Video_Cluster",
          "xref": "x",
          "y": "Video Title",
          "yref": "y"
         },
         {
          "font": {
           "color": "#000000"
          },
          "showarrow": false,
          "text": "-0.05",
          "x": "Country_Cluster_x",
          "xref": "x",
          "y": "Video Title",
          "yref": "y"
         },
         {
          "font": {
           "color": "#000000"
          },
          "showarrow": false,
          "text": "-0.01",
          "x": "Category_Cluster_x",
          "xref": "x",
          "y": "Video Title",
          "yref": "y"
         },
         {
          "font": {
           "color": "#000000"
          },
          "showarrow": false,
          "text": "-0.05",
          "x": "Country_Cluster_y",
          "xref": "x",
          "y": "Video Title",
          "yref": "y"
         },
         {
          "font": {
           "color": "#000000"
          },
          "showarrow": false,
          "text": "-0.01",
          "x": "Category_Cluster_y",
          "xref": "x",
          "y": "Video Title",
          "yref": "y"
         },
         {
          "font": {
           "color": "#000000"
          },
          "showarrow": false,
          "text": "nan",
          "x": "Year",
          "xref": "x",
          "y": "Video Title",
          "yref": "y"
         },
         {
          "font": {
           "color": "#000000"
          },
          "showarrow": false,
          "text": "0.01",
          "x": "Month",
          "xref": "x",
          "y": "Video Title",
          "yref": "y"
         },
         {
          "font": {
           "color": "#000000"
          },
          "showarrow": false,
          "text": "-0.0",
          "x": "Day",
          "xref": "x",
          "y": "Video Title",
          "yref": "y"
         },
         {
          "font": {
           "color": "#000000"
          },
          "showarrow": false,
          "text": "0.0",
          "x": "DayOfWeek",
          "xref": "x",
          "y": "Video Title",
          "yref": "y"
         },
         {
          "font": {
           "color": "#000000"
          },
          "showarrow": false,
          "text": "0.02",
          "x": "DayName",
          "xref": "x",
          "y": "Video Title",
          "yref": "y"
         },
         {
          "font": {
           "color": "#000000"
          },
          "showarrow": false,
          "text": "-0.01",
          "x": "Views_per_Sub",
          "xref": "x",
          "y": "Video Title",
          "yref": "y"
         },
         {
          "font": {
           "color": "#000000"
          },
          "showarrow": false,
          "text": "-0.03",
          "x": "Engagement",
          "xref": "x",
          "y": "Video Title",
          "yref": "y"
         },
         {
          "font": {
           "color": "#000000"
          },
          "showarrow": false,
          "text": "-0.01",
          "x": "Like_per_Sub",
          "xref": "x",
          "y": "Video Title",
          "yref": "y"
         },
         {
          "font": {
           "color": "#000000"
          },
          "showarrow": false,
          "text": "-0.0",
          "x": "Comment_per_Sub",
          "xref": "x",
          "y": "Video Title",
          "yref": "y"
         },
         {
          "font": {
           "color": "#000000"
          },
          "showarrow": false,
          "text": "-0.01",
          "x": "Unnamed: 0",
          "xref": "x",
          "y": "Channel",
          "yref": "y"
         },
         {
          "font": {
           "color": "#000000"
          },
          "showarrow": false,
          "text": "0.0",
          "x": "Video ID",
          "xref": "x",
          "y": "Channel",
          "yref": "y"
         },
         {
          "font": {
           "color": "#000000"
          },
          "showarrow": false,
          "text": "0.16",
          "x": "Video Title",
          "xref": "x",
          "y": "Channel",
          "yref": "y"
         },
         {
          "font": {
           "color": "#000000"
          },
          "showarrow": false,
          "text": "1.0",
          "x": "Channel",
          "xref": "x",
          "y": "Channel",
          "yref": "y"
         },
         {
          "font": {
           "color": "#000000"
          },
          "showarrow": false,
          "text": "0.01",
          "x": "Published Date",
          "xref": "x",
          "y": "Channel",
          "yref": "y"
         },
         {
          "font": {
           "color": "#000000"
          },
          "showarrow": false,
          "text": "0.0",
          "x": "Views",
          "xref": "x",
          "y": "Channel",
          "yref": "y"
         },
         {
          "font": {
           "color": "#000000"
          },
          "showarrow": false,
          "text": "0.0",
          "x": "Likes",
          "xref": "x",
          "y": "Channel",
          "yref": "y"
         },
         {
          "font": {
           "color": "#000000"
          },
          "showarrow": false,
          "text": "-0.01",
          "x": "Comments",
          "xref": "x",
          "y": "Channel",
          "yref": "y"
         },
         {
          "font": {
           "color": "#000000"
          },
          "showarrow": false,
          "text": "-0.0",
          "x": "Subscribers",
          "xref": "x",
          "y": "Channel",
          "yref": "y"
         },
         {
          "font": {
           "color": "#000000"
          },
          "showarrow": false,
          "text": "0.01",
          "x": "Channel Views",
          "xref": "x",
          "y": "Channel",
          "yref": "y"
         },
         {
          "font": {
           "color": "#000000"
          },
          "showarrow": false,
          "text": "0.01",
          "x": "Country",
          "xref": "x",
          "y": "Channel",
          "yref": "y"
         },
         {
          "font": {
           "color": "#000000"
          },
          "showarrow": false,
          "text": "0.01",
          "x": "Region",
          "xref": "x",
          "y": "Channel",
          "yref": "y"
         },
         {
          "font": {
           "color": "#000000"
          },
          "showarrow": false,
          "text": "0.01",
          "x": "CategoryID",
          "xref": "x",
          "y": "Channel",
          "yref": "y"
         },
         {
          "font": {
           "color": "#000000"
          },
          "showarrow": false,
          "text": "0.02",
          "x": "CategoryName",
          "xref": "x",
          "y": "Channel",
          "yref": "y"
         },
         {
          "font": {
           "color": "#000000"
          },
          "showarrow": false,
          "text": "-0.0",
          "x": "Cluster",
          "xref": "x",
          "y": "Channel",
          "yref": "y"
         },
         {
          "font": {
           "color": "#000000"
          },
          "showarrow": false,
          "text": "-0.03",
          "x": "CategoryID_enc",
          "xref": "x",
          "y": "Channel",
          "yref": "y"
         },
         {
          "font": {
           "color": "#000000"
          },
          "showarrow": false,
          "text": "0.01",
          "x": "Country_enc",
          "xref": "x",
          "y": "Channel",
          "yref": "y"
         },
         {
          "font": {
           "color": "#000000"
          },
          "showarrow": false,
          "text": "0.02",
          "x": "VideoCluster",
          "xref": "x",
          "y": "Channel",
          "yref": "y"
         },
         {
          "font": {
           "color": "#000000"
          },
          "showarrow": false,
          "text": "-0.02",
          "x": "Channel_Cluster",
          "xref": "x",
          "y": "Channel",
          "yref": "y"
         },
         {
          "font": {
           "color": "#000000"
          },
          "showarrow": false,
          "text": "-0.01",
          "x": "Video_Cluster",
          "xref": "x",
          "y": "Channel",
          "yref": "y"
         },
         {
          "font": {
           "color": "#000000"
          },
          "showarrow": false,
          "text": "-0.04",
          "x": "Country_Cluster_x",
          "xref": "x",
          "y": "Channel",
          "yref": "y"
         },
         {
          "font": {
           "color": "#000000"
          },
          "showarrow": false,
          "text": "0.0",
          "x": "Category_Cluster_x",
          "xref": "x",
          "y": "Channel",
          "yref": "y"
         },
         {
          "font": {
           "color": "#000000"
          },
          "showarrow": false,
          "text": "-0.04",
          "x": "Country_Cluster_y",
          "xref": "x",
          "y": "Channel",
          "yref": "y"
         },
         {
          "font": {
           "color": "#000000"
          },
          "showarrow": false,
          "text": "0.0",
          "x": "Category_Cluster_y",
          "xref": "x",
          "y": "Channel",
          "yref": "y"
         },
         {
          "font": {
           "color": "#000000"
          },
          "showarrow": false,
          "text": "nan",
          "x": "Year",
          "xref": "x",
          "y": "Channel",
          "yref": "y"
         },
         {
          "font": {
           "color": "#000000"
          },
          "showarrow": false,
          "text": "0.0",
          "x": "Month",
          "xref": "x",
          "y": "Channel",
          "yref": "y"
         },
         {
          "font": {
           "color": "#000000"
          },
          "showarrow": false,
          "text": "0.01",
          "x": "Day",
          "xref": "x",
          "y": "Channel",
          "yref": "y"
         },
         {
          "font": {
           "color": "#000000"
          },
          "showarrow": false,
          "text": "0.0",
          "x": "DayOfWeek",
          "xref": "x",
          "y": "Channel",
          "yref": "y"
         },
         {
          "font": {
           "color": "#000000"
          },
          "showarrow": false,
          "text": "0.01",
          "x": "DayName",
          "xref": "x",
          "y": "Channel",
          "yref": "y"
         },
         {
          "font": {
           "color": "#000000"
          },
          "showarrow": false,
          "text": "0.01",
          "x": "Views_per_Sub",
          "xref": "x",
          "y": "Channel",
          "yref": "y"
         },
         {
          "font": {
           "color": "#000000"
          },
          "showarrow": false,
          "text": "-0.04",
          "x": "Engagement",
          "xref": "x",
          "y": "Channel",
          "yref": "y"
         },
         {
          "font": {
           "color": "#000000"
          },
          "showarrow": false,
          "text": "0.0",
          "x": "Like_per_Sub",
          "xref": "x",
          "y": "Channel",
          "yref": "y"
         },
         {
          "font": {
           "color": "#000000"
          },
          "showarrow": false,
          "text": "0.0",
          "x": "Comment_per_Sub",
          "xref": "x",
          "y": "Channel",
          "yref": "y"
         },
         {
          "font": {
           "color": "#000000"
          },
          "showarrow": false,
          "text": "0.0",
          "x": "Unnamed: 0",
          "xref": "x",
          "y": "Published Date",
          "yref": "y"
         },
         {
          "font": {
           "color": "#000000"
          },
          "showarrow": false,
          "text": "0.02",
          "x": "Video ID",
          "xref": "x",
          "y": "Published Date",
          "yref": "y"
         },
         {
          "font": {
           "color": "#000000"
          },
          "showarrow": false,
          "text": "0.0",
          "x": "Video Title",
          "xref": "x",
          "y": "Published Date",
          "yref": "y"
         },
         {
          "font": {
           "color": "#000000"
          },
          "showarrow": false,
          "text": "0.01",
          "x": "Channel",
          "xref": "x",
          "y": "Published Date",
          "yref": "y"
         },
         {
          "font": {
           "color": "#000000"
          },
          "showarrow": false,
          "text": "1.0",
          "x": "Published Date",
          "xref": "x",
          "y": "Published Date",
          "yref": "y"
         },
         {
          "font": {
           "color": "#000000"
          },
          "showarrow": false,
          "text": "-0.2",
          "x": "Views",
          "xref": "x",
          "y": "Published Date",
          "yref": "y"
         },
         {
          "font": {
           "color": "#000000"
          },
          "showarrow": false,
          "text": "-0.18",
          "x": "Likes",
          "xref": "x",
          "y": "Published Date",
          "yref": "y"
         },
         {
          "font": {
           "color": "#000000"
          },
          "showarrow": false,
          "text": "-0.06",
          "x": "Comments",
          "xref": "x",
          "y": "Published Date",
          "yref": "y"
         },
         {
          "font": {
           "color": "#000000"
          },
          "showarrow": false,
          "text": "-0.03",
          "x": "Subscribers",
          "xref": "x",
          "y": "Published Date",
          "yref": "y"
         },
         {
          "font": {
           "color": "#000000"
          },
          "showarrow": false,
          "text": "-0.04",
          "x": "Channel Views",
          "xref": "x",
          "y": "Published Date",
          "yref": "y"
         },
         {
          "font": {
           "color": "#000000"
          },
          "showarrow": false,
          "text": "-0.04",
          "x": "Country",
          "xref": "x",
          "y": "Published Date",
          "yref": "y"
         },
         {
          "font": {
           "color": "#000000"
          },
          "showarrow": false,
          "text": "-0.02",
          "x": "Region",
          "xref": "x",
          "y": "Published Date",
          "yref": "y"
         },
         {
          "font": {
           "color": "#000000"
          },
          "showarrow": false,
          "text": "0.15",
          "x": "CategoryID",
          "xref": "x",
          "y": "Published Date",
          "yref": "y"
         },
         {
          "font": {
           "color": "#000000"
          },
          "showarrow": false,
          "text": "-0.21",
          "x": "CategoryName",
          "xref": "x",
          "y": "Published Date",
          "yref": "y"
         },
         {
          "font": {
           "color": "#000000"
          },
          "showarrow": false,
          "text": "-0.14",
          "x": "Cluster",
          "xref": "x",
          "y": "Published Date",
          "yref": "y"
         },
         {
          "font": {
           "color": "#000000"
          },
          "showarrow": false,
          "text": "-0.05",
          "x": "CategoryID_enc",
          "xref": "x",
          "y": "Published Date",
          "yref": "y"
         },
         {
          "font": {
           "color": "#000000"
          },
          "showarrow": false,
          "text": "-0.04",
          "x": "Country_enc",
          "xref": "x",
          "y": "Published Date",
          "yref": "y"
         },
         {
          "font": {
           "color": "#000000"
          },
          "showarrow": false,
          "text": "-0.06",
          "x": "VideoCluster",
          "xref": "x",
          "y": "Published Date",
          "yref": "y"
         },
         {
          "font": {
           "color": "#000000"
          },
          "showarrow": false,
          "text": "-0.01",
          "x": "Channel_Cluster",
          "xref": "x",
          "y": "Published Date",
          "yref": "y"
         },
         {
          "font": {
           "color": "#000000"
          },
          "showarrow": false,
          "text": "-0.18",
          "x": "Video_Cluster",
          "xref": "x",
          "y": "Published Date",
          "yref": "y"
         },
         {
          "font": {
           "color": "#000000"
          },
          "showarrow": false,
          "text": "0.02",
          "x": "Country_Cluster_x",
          "xref": "x",
          "y": "Published Date",
          "yref": "y"
         },
         {
          "font": {
           "color": "#000000"
          },
          "showarrow": false,
          "text": "0.26",
          "x": "Category_Cluster_x",
          "xref": "x",
          "y": "Published Date",
          "yref": "y"
         },
         {
          "font": {
           "color": "#000000"
          },
          "showarrow": false,
          "text": "0.02",
          "x": "Country_Cluster_y",
          "xref": "x",
          "y": "Published Date",
          "yref": "y"
         },
         {
          "font": {
           "color": "#000000"
          },
          "showarrow": false,
          "text": "0.26",
          "x": "Category_Cluster_y",
          "xref": "x",
          "y": "Published Date",
          "yref": "y"
         },
         {
          "font": {
           "color": "#000000"
          },
          "showarrow": false,
          "text": "nan",
          "x": "Year",
          "xref": "x",
          "y": "Published Date",
          "yref": "y"
         },
         {
          "font": {
           "color": "#000000"
          },
          "showarrow": false,
          "text": "0.66",
          "x": "Month",
          "xref": "x",
          "y": "Published Date",
          "yref": "y"
         },
         {
          "font": {
           "color": "#000000"
          },
          "showarrow": false,
          "text": "0.49",
          "x": "Day",
          "xref": "x",
          "y": "Published Date",
          "yref": "y"
         },
         {
          "font": {
           "color": "#000000"
          },
          "showarrow": false,
          "text": "0.28",
          "x": "DayOfWeek",
          "xref": "x",
          "y": "Published Date",
          "yref": "y"
         },
         {
          "font": {
           "color": "#000000"
          },
          "showarrow": false,
          "text": "-0.11",
          "x": "DayName",
          "xref": "x",
          "y": "Published Date",
          "yref": "y"
         },
         {
          "font": {
           "color": "#000000"
          },
          "showarrow": false,
          "text": "-0.08",
          "x": "Views_per_Sub",
          "xref": "x",
          "y": "Published Date",
          "yref": "y"
         },
         {
          "font": {
           "color": "#000000"
          },
          "showarrow": false,
          "text": "0.17",
          "x": "Engagement",
          "xref": "x",
          "y": "Published Date",
          "yref": "y"
         },
         {
          "font": {
           "color": "#000000"
          },
          "showarrow": false,
          "text": "-0.04",
          "x": "Like_per_Sub",
          "xref": "x",
          "y": "Published Date",
          "yref": "y"
         },
         {
          "font": {
           "color": "#000000"
          },
          "showarrow": false,
          "text": "-0.0",
          "x": "Comment_per_Sub",
          "xref": "x",
          "y": "Published Date",
          "yref": "y"
         },
         {
          "font": {
           "color": "#000000"
          },
          "showarrow": false,
          "text": "-0.01",
          "x": "Unnamed: 0",
          "xref": "x",
          "y": "Views",
          "yref": "y"
         },
         {
          "font": {
           "color": "#000000"
          },
          "showarrow": false,
          "text": "-0.02",
          "x": "Video ID",
          "xref": "x",
          "y": "Views",
          "yref": "y"
         },
         {
          "font": {
           "color": "#000000"
          },
          "showarrow": false,
          "text": "-0.03",
          "x": "Video Title",
          "xref": "x",
          "y": "Views",
          "yref": "y"
         },
         {
          "font": {
           "color": "#000000"
          },
          "showarrow": false,
          "text": "0.0",
          "x": "Channel",
          "xref": "x",
          "y": "Views",
          "yref": "y"
         },
         {
          "font": {
           "color": "#000000"
          },
          "showarrow": false,
          "text": "-0.2",
          "x": "Published Date",
          "xref": "x",
          "y": "Views",
          "yref": "y"
         },
         {
          "font": {
           "color": "#000000"
          },
          "showarrow": false,
          "text": "1.0",
          "x": "Views",
          "xref": "x",
          "y": "Views",
          "yref": "y"
         },
         {
          "font": {
           "color": "#000000"
          },
          "showarrow": false,
          "text": "0.75",
          "x": "Likes",
          "xref": "x",
          "y": "Views",
          "yref": "y"
         },
         {
          "font": {
           "color": "#000000"
          },
          "showarrow": false,
          "text": "0.11",
          "x": "Comments",
          "xref": "x",
          "y": "Views",
          "yref": "y"
         },
         {
          "font": {
           "color": "#000000"
          },
          "showarrow": false,
          "text": "0.14",
          "x": "Subscribers",
          "xref": "x",
          "y": "Views",
          "yref": "y"
         },
         {
          "font": {
           "color": "#000000"
          },
          "showarrow": false,
          "text": "0.15",
          "x": "Channel Views",
          "xref": "x",
          "y": "Views",
          "yref": "y"
         },
         {
          "font": {
           "color": "#000000"
          },
          "showarrow": false,
          "text": "0.03",
          "x": "Country",
          "xref": "x",
          "y": "Views",
          "yref": "y"
         },
         {
          "font": {
           "color": "#000000"
          },
          "showarrow": false,
          "text": "-0.05",
          "x": "Region",
          "xref": "x",
          "y": "Views",
          "yref": "y"
         },
         {
          "font": {
           "color": "#000000"
          },
          "showarrow": false,
          "text": "-0.04",
          "x": "CategoryID",
          "xref": "x",
          "y": "Views",
          "yref": "y"
         },
         {
          "font": {
           "color": "#000000"
          },
          "showarrow": false,
          "text": "0.14",
          "x": "CategoryName",
          "xref": "x",
          "y": "Views",
          "yref": "y"
         },
         {
          "font": {
           "color": "#000000"
          },
          "showarrow": false,
          "text": "0.74",
          "x": "Cluster",
          "xref": "x",
          "y": "Views",
          "yref": "y"
         },
         {
          "font": {
           "color": "#000000"
          },
          "showarrow": false,
          "text": "-0.12",
          "x": "CategoryID_enc",
          "xref": "x",
          "y": "Views",
          "yref": "y"
         },
         {
          "font": {
           "color": "#000000"
          },
          "showarrow": false,
          "text": "0.03",
          "x": "Country_enc",
          "xref": "x",
          "y": "Views",
          "yref": "y"
         },
         {
          "font": {
           "color": "#000000"
          },
          "showarrow": false,
          "text": "0.41",
          "x": "VideoCluster",
          "xref": "x",
          "y": "Views",
          "yref": "y"
         },
         {
          "font": {
           "color": "#000000"
          },
          "showarrow": false,
          "text": "0.21",
          "x": "Channel_Cluster",
          "xref": "x",
          "y": "Views",
          "yref": "y"
         },
         {
          "font": {
           "color": "#000000"
          },
          "showarrow": false,
          "text": "0.55",
          "x": "Video_Cluster",
          "xref": "x",
          "y": "Views",
          "yref": "y"
         },
         {
          "font": {
           "color": "#000000"
          },
          "showarrow": false,
          "text": "-0.22",
          "x": "Country_Cluster_x",
          "xref": "x",
          "y": "Views",
          "yref": "y"
         },
         {
          "font": {
           "color": "#000000"
          },
          "showarrow": false,
          "text": "-0.02",
          "x": "Category_Cluster_x",
          "xref": "x",
          "y": "Views",
          "yref": "y"
         },
         {
          "font": {
           "color": "#000000"
          },
          "showarrow": false,
          "text": "-0.22",
          "x": "Country_Cluster_y",
          "xref": "x",
          "y": "Views",
          "yref": "y"
         },
         {
          "font": {
           "color": "#000000"
          },
          "showarrow": false,
          "text": "-0.02",
          "x": "Category_Cluster_y",
          "xref": "x",
          "y": "Views",
          "yref": "y"
         },
         {
          "font": {
           "color": "#000000"
          },
          "showarrow": false,
          "text": "nan",
          "x": "Year",
          "xref": "x",
          "y": "Views",
          "yref": "y"
         },
         {
          "font": {
           "color": "#000000"
          },
          "showarrow": false,
          "text": "-0.07",
          "x": "Month",
          "xref": "x",
          "y": "Views",
          "yref": "y"
         },
         {
          "font": {
           "color": "#000000"
          },
          "showarrow": false,
          "text": "-0.17",
          "x": "Day",
          "xref": "x",
          "y": "Views",
          "yref": "y"
         },
         {
          "font": {
           "color": "#000000"
          },
          "showarrow": false,
          "text": "-0.1",
          "x": "DayOfWeek",
          "xref": "x",
          "y": "Views",
          "yref": "y"
         },
         {
          "font": {
           "color": "#000000"
          },
          "showarrow": false,
          "text": "0.02",
          "x": "DayName",
          "xref": "x",
          "y": "Views",
          "yref": "y"
         },
         {
          "font": {
           "color": "#000000"
          },
          "showarrow": false,
          "text": "0.05",
          "x": "Views_per_Sub",
          "xref": "x",
          "y": "Views",
          "yref": "y"
         },
         {
          "font": {
           "color": "#000000"
          },
          "showarrow": false,
          "text": "-0.14",
          "x": "Engagement",
          "xref": "x",
          "y": "Views",
          "yref": "y"
         },
         {
          "font": {
           "color": "#000000"
          },
          "showarrow": false,
          "text": "0.02",
          "x": "Like_per_Sub",
          "xref": "x",
          "y": "Views",
          "yref": "y"
         },
         {
          "font": {
           "color": "#000000"
          },
          "showarrow": false,
          "text": "-0.0",
          "x": "Comment_per_Sub",
          "xref": "x",
          "y": "Views",
          "yref": "y"
         },
         {
          "font": {
           "color": "#000000"
          },
          "showarrow": false,
          "text": "-0.01",
          "x": "Unnamed: 0",
          "xref": "x",
          "y": "Likes",
          "yref": "y"
         },
         {
          "font": {
           "color": "#000000"
          },
          "showarrow": false,
          "text": "-0.01",
          "x": "Video ID",
          "xref": "x",
          "y": "Likes",
          "yref": "y"
         },
         {
          "font": {
           "color": "#000000"
          },
          "showarrow": false,
          "text": "-0.03",
          "x": "Video Title",
          "xref": "x",
          "y": "Likes",
          "yref": "y"
         },
         {
          "font": {
           "color": "#000000"
          },
          "showarrow": false,
          "text": "0.0",
          "x": "Channel",
          "xref": "x",
          "y": "Likes",
          "yref": "y"
         },
         {
          "font": {
           "color": "#000000"
          },
          "showarrow": false,
          "text": "-0.18",
          "x": "Published Date",
          "xref": "x",
          "y": "Likes",
          "yref": "y"
         },
         {
          "font": {
           "color": "#000000"
          },
          "showarrow": false,
          "text": "0.75",
          "x": "Views",
          "xref": "x",
          "y": "Likes",
          "yref": "y"
         },
         {
          "font": {
           "color": "#000000"
          },
          "showarrow": false,
          "text": "1.0",
          "x": "Likes",
          "xref": "x",
          "y": "Likes",
          "yref": "y"
         },
         {
          "font": {
           "color": "#000000"
          },
          "showarrow": false,
          "text": "0.21",
          "x": "Comments",
          "xref": "x",
          "y": "Likes",
          "yref": "y"
         },
         {
          "font": {
           "color": "#000000"
          },
          "showarrow": false,
          "text": "0.15",
          "x": "Subscribers",
          "xref": "x",
          "y": "Likes",
          "yref": "y"
         },
         {
          "font": {
           "color": "#000000"
          },
          "showarrow": false,
          "text": "0.13",
          "x": "Channel Views",
          "xref": "x",
          "y": "Likes",
          "yref": "y"
         },
         {
          "font": {
           "color": "#000000"
          },
          "showarrow": false,
          "text": "0.03",
          "x": "Country",
          "xref": "x",
          "y": "Likes",
          "yref": "y"
         },
         {
          "font": {
           "color": "#000000"
          },
          "showarrow": false,
          "text": "-0.1",
          "x": "Region",
          "xref": "x",
          "y": "Likes",
          "yref": "y"
         },
         {
          "font": {
           "color": "#000000"
          },
          "showarrow": false,
          "text": "-0.05",
          "x": "CategoryID",
          "xref": "x",
          "y": "Likes",
          "yref": "y"
         },
         {
          "font": {
           "color": "#000000"
          },
          "showarrow": false,
          "text": "0.14",
          "x": "CategoryName",
          "xref": "x",
          "y": "Likes",
          "yref": "y"
         },
         {
          "font": {
           "color": "#000000"
          },
          "showarrow": false,
          "text": "0.74",
          "x": "Cluster",
          "xref": "x",
          "y": "Likes",
          "yref": "y"
         },
         {
          "font": {
           "color": "#000000"
          },
          "showarrow": false,
          "text": "-0.1",
          "x": "CategoryID_enc",
          "xref": "x",
          "y": "Likes",
          "yref": "y"
         },
         {
          "font": {
           "color": "#000000"
          },
          "showarrow": false,
          "text": "0.03",
          "x": "Country_enc",
          "xref": "x",
          "y": "Likes",
          "yref": "y"
         },
         {
          "font": {
           "color": "#000000"
          },
          "showarrow": false,
          "text": "0.38",
          "x": "VideoCluster",
          "xref": "x",
          "y": "Likes",
          "yref": "y"
         },
         {
          "font": {
           "color": "#000000"
          },
          "showarrow": false,
          "text": "0.18",
          "x": "Channel_Cluster",
          "xref": "x",
          "y": "Likes",
          "yref": "y"
         },
         {
          "font": {
           "color": "#000000"
          },
          "showarrow": false,
          "text": "0.48",
          "x": "Video_Cluster",
          "xref": "x",
          "y": "Likes",
          "yref": "y"
         },
         {
          "font": {
           "color": "#000000"
          },
          "showarrow": false,
          "text": "-0.17",
          "x": "Country_Cluster_x",
          "xref": "x",
          "y": "Likes",
          "yref": "y"
         },
         {
          "font": {
           "color": "#000000"
          },
          "showarrow": false,
          "text": "0.01",
          "x": "Category_Cluster_x",
          "xref": "x",
          "y": "Likes",
          "yref": "y"
         },
         {
          "font": {
           "color": "#000000"
          },
          "showarrow": false,
          "text": "-0.17",
          "x": "Country_Cluster_y",
          "xref": "x",
          "y": "Likes",
          "yref": "y"
         },
         {
          "font": {
           "color": "#000000"
          },
          "showarrow": false,
          "text": "0.01",
          "x": "Category_Cluster_y",
          "xref": "x",
          "y": "Likes",
          "yref": "y"
         },
         {
          "font": {
           "color": "#000000"
          },
          "showarrow": false,
          "text": "nan",
          "x": "Year",
          "xref": "x",
          "y": "Likes",
          "yref": "y"
         },
         {
          "font": {
           "color": "#000000"
          },
          "showarrow": false,
          "text": "-0.07",
          "x": "Month",
          "xref": "x",
          "y": "Likes",
          "yref": "y"
         },
         {
          "font": {
           "color": "#000000"
          },
          "showarrow": false,
          "text": "-0.14",
          "x": "Day",
          "xref": "x",
          "y": "Likes",
          "yref": "y"
         },
         {
          "font": {
           "color": "#000000"
          },
          "showarrow": false,
          "text": "-0.08",
          "x": "DayOfWeek",
          "xref": "x",
          "y": "Likes",
          "yref": "y"
         },
         {
          "font": {
           "color": "#000000"
          },
          "showarrow": false,
          "text": "0.02",
          "x": "DayName",
          "xref": "x",
          "y": "Likes",
          "yref": "y"
         },
         {
          "font": {
           "color": "#000000"
          },
          "showarrow": false,
          "text": "0.04",
          "x": "Views_per_Sub",
          "xref": "x",
          "y": "Likes",
          "yref": "y"
         },
         {
          "font": {
           "color": "#000000"
          },
          "showarrow": false,
          "text": "0.03",
          "x": "Engagement",
          "xref": "x",
          "y": "Likes",
          "yref": "y"
         },
         {
          "font": {
           "color": "#000000"
          },
          "showarrow": false,
          "text": "0.03",
          "x": "Like_per_Sub",
          "xref": "x",
          "y": "Likes",
          "yref": "y"
         },
         {
          "font": {
           "color": "#000000"
          },
          "showarrow": false,
          "text": "-0.0",
          "x": "Comment_per_Sub",
          "xref": "x",
          "y": "Likes",
          "yref": "y"
         },
         {
          "font": {
           "color": "#000000"
          },
          "showarrow": false,
          "text": "-0.01",
          "x": "Unnamed: 0",
          "xref": "x",
          "y": "Comments",
          "yref": "y"
         },
         {
          "font": {
           "color": "#000000"
          },
          "showarrow": false,
          "text": "0.0",
          "x": "Video ID",
          "xref": "x",
          "y": "Comments",
          "yref": "y"
         },
         {
          "font": {
           "color": "#000000"
          },
          "showarrow": false,
          "text": "-0.01",
          "x": "Video Title",
          "xref": "x",
          "y": "Comments",
          "yref": "y"
         },
         {
          "font": {
           "color": "#000000"
          },
          "showarrow": false,
          "text": "-0.01",
          "x": "Channel",
          "xref": "x",
          "y": "Comments",
          "yref": "y"
         },
         {
          "font": {
           "color": "#000000"
          },
          "showarrow": false,
          "text": "-0.06",
          "x": "Published Date",
          "xref": "x",
          "y": "Comments",
          "yref": "y"
         },
         {
          "font": {
           "color": "#000000"
          },
          "showarrow": false,
          "text": "0.11",
          "x": "Views",
          "xref": "x",
          "y": "Comments",
          "yref": "y"
         },
         {
          "font": {
           "color": "#000000"
          },
          "showarrow": false,
          "text": "0.21",
          "x": "Likes",
          "xref": "x",
          "y": "Comments",
          "yref": "y"
         },
         {
          "font": {
           "color": "#000000"
          },
          "showarrow": false,
          "text": "1.0",
          "x": "Comments",
          "xref": "x",
          "y": "Comments",
          "yref": "y"
         },
         {
          "font": {
           "color": "#000000"
          },
          "showarrow": false,
          "text": "0.15",
          "x": "Subscribers",
          "xref": "x",
          "y": "Comments",
          "yref": "y"
         },
         {
          "font": {
           "color": "#000000"
          },
          "showarrow": false,
          "text": "0.06",
          "x": "Channel Views",
          "xref": "x",
          "y": "Comments",
          "yref": "y"
         },
         {
          "font": {
           "color": "#000000"
          },
          "showarrow": false,
          "text": "-0.01",
          "x": "Country",
          "xref": "x",
          "y": "Comments",
          "yref": "y"
         },
         {
          "font": {
           "color": "#000000"
          },
          "showarrow": false,
          "text": "-0.03",
          "x": "Region",
          "xref": "x",
          "y": "Comments",
          "yref": "y"
         },
         {
          "font": {
           "color": "#000000"
          },
          "showarrow": false,
          "text": "0.0",
          "x": "CategoryID",
          "xref": "x",
          "y": "Comments",
          "yref": "y"
         },
         {
          "font": {
           "color": "#000000"
          },
          "showarrow": false,
          "text": "-0.0",
          "x": "CategoryName",
          "xref": "x",
          "y": "Comments",
          "yref": "y"
         },
         {
          "font": {
           "color": "#000000"
          },
          "showarrow": false,
          "text": "0.21",
          "x": "Cluster",
          "xref": "x",
          "y": "Comments",
          "yref": "y"
         },
         {
          "font": {
           "color": "#000000"
          },
          "showarrow": false,
          "text": "0.0",
          "x": "CategoryID_enc",
          "xref": "x",
          "y": "Comments",
          "yref": "y"
         },
         {
          "font": {
           "color": "#000000"
          },
          "showarrow": false,
          "text": "-0.01",
          "x": "Country_enc",
          "xref": "x",
          "y": "Comments",
          "yref": "y"
         },
         {
          "font": {
           "color": "#000000"
          },
          "showarrow": false,
          "text": "0.08",
          "x": "VideoCluster",
          "xref": "x",
          "y": "Comments",
          "yref": "y"
         },
         {
          "font": {
           "color": "#000000"
          },
          "showarrow": false,
          "text": "0.1",
          "x": "Channel_Cluster",
          "xref": "x",
          "y": "Comments",
          "yref": "y"
         },
         {
          "font": {
           "color": "#000000"
          },
          "showarrow": false,
          "text": "0.07",
          "x": "Video_Cluster",
          "xref": "x",
          "y": "Comments",
          "yref": "y"
         },
         {
          "font": {
           "color": "#000000"
          },
          "showarrow": false,
          "text": "-0.04",
          "x": "Country_Cluster_x",
          "xref": "x",
          "y": "Comments",
          "yref": "y"
         },
         {
          "font": {
           "color": "#000000"
          },
          "showarrow": false,
          "text": "-0.02",
          "x": "Category_Cluster_x",
          "xref": "x",
          "y": "Comments",
          "yref": "y"
         },
         {
          "font": {
           "color": "#000000"
          },
          "showarrow": false,
          "text": "-0.04",
          "x": "Country_Cluster_y",
          "xref": "x",
          "y": "Comments",
          "yref": "y"
         },
         {
          "font": {
           "color": "#000000"
          },
          "showarrow": false,
          "text": "-0.02",
          "x": "Category_Cluster_y",
          "xref": "x",
          "y": "Comments",
          "yref": "y"
         },
         {
          "font": {
           "color": "#000000"
          },
          "showarrow": false,
          "text": "nan",
          "x": "Year",
          "xref": "x",
          "y": "Comments",
          "yref": "y"
         },
         {
          "font": {
           "color": "#000000"
          },
          "showarrow": false,
          "text": "-0.05",
          "x": "Month",
          "xref": "x",
          "y": "Comments",
          "yref": "y"
         },
         {
          "font": {
           "color": "#000000"
          },
          "showarrow": false,
          "text": "-0.01",
          "x": "Day",
          "xref": "x",
          "y": "Comments",
          "yref": "y"
         },
         {
          "font": {
           "color": "#000000"
          },
          "showarrow": false,
          "text": "-0.03",
          "x": "DayOfWeek",
          "xref": "x",
          "y": "Comments",
          "yref": "y"
         },
         {
          "font": {
           "color": "#000000"
          },
          "showarrow": false,
          "text": "-0.02",
          "x": "DayName",
          "xref": "x",
          "y": "Comments",
          "yref": "y"
         },
         {
          "font": {
           "color": "#000000"
          },
          "showarrow": false,
          "text": "0.0",
          "x": "Views_per_Sub",
          "xref": "x",
          "y": "Comments",
          "yref": "y"
         },
         {
          "font": {
           "color": "#000000"
          },
          "showarrow": false,
          "text": "0.39",
          "x": "Engagement",
          "xref": "x",
          "y": "Comments",
          "yref": "y"
         },
         {
          "font": {
           "color": "#000000"
          },
          "showarrow": false,
          "text": "0.0",
          "x": "Like_per_Sub",
          "xref": "x",
          "y": "Comments",
          "yref": "y"
         },
         {
          "font": {
           "color": "#000000"
          },
          "showarrow": false,
          "text": "0.0",
          "x": "Comment_per_Sub",
          "xref": "x",
          "y": "Comments",
          "yref": "y"
         },
         {
          "font": {
           "color": "#000000"
          },
          "showarrow": false,
          "text": "0.0",
          "x": "Unnamed: 0",
          "xref": "x",
          "y": "Subscribers",
          "yref": "y"
         },
         {
          "font": {
           "color": "#000000"
          },
          "showarrow": false,
          "text": "0.0",
          "x": "Video ID",
          "xref": "x",
          "y": "Subscribers",
          "yref": "y"
         },
         {
          "font": {
           "color": "#000000"
          },
          "showarrow": false,
          "text": "-0.02",
          "x": "Video Title",
          "xref": "x",
          "y": "Subscribers",
          "yref": "y"
         },
         {
          "font": {
           "color": "#000000"
          },
          "showarrow": false,
          "text": "-0.0",
          "x": "Channel",
          "xref": "x",
          "y": "Subscribers",
          "yref": "y"
         },
         {
          "font": {
           "color": "#000000"
          },
          "showarrow": false,
          "text": "-0.03",
          "x": "Published Date",
          "xref": "x",
          "y": "Subscribers",
          "yref": "y"
         },
         {
          "font": {
           "color": "#000000"
          },
          "showarrow": false,
          "text": "0.14",
          "x": "Views",
          "xref": "x",
          "y": "Subscribers",
          "yref": "y"
         },
         {
          "font": {
           "color": "#000000"
          },
          "showarrow": false,
          "text": "0.15",
          "x": "Likes",
          "xref": "x",
          "y": "Subscribers",
          "yref": "y"
         },
         {
          "font": {
           "color": "#000000"
          },
          "showarrow": false,
          "text": "0.15",
          "x": "Comments",
          "xref": "x",
          "y": "Subscribers",
          "yref": "y"
         },
         {
          "font": {
           "color": "#000000"
          },
          "showarrow": false,
          "text": "1.0",
          "x": "Subscribers",
          "xref": "x",
          "y": "Subscribers",
          "yref": "y"
         },
         {
          "font": {
           "color": "#000000"
          },
          "showarrow": false,
          "text": "0.95",
          "x": "Channel Views",
          "xref": "x",
          "y": "Subscribers",
          "yref": "y"
         },
         {
          "font": {
           "color": "#000000"
          },
          "showarrow": false,
          "text": "-0.03",
          "x": "Country",
          "xref": "x",
          "y": "Subscribers",
          "yref": "y"
         },
         {
          "font": {
           "color": "#000000"
          },
          "showarrow": false,
          "text": "-0.04",
          "x": "Region",
          "xref": "x",
          "y": "Subscribers",
          "yref": "y"
         },
         {
          "font": {
           "color": "#000000"
          },
          "showarrow": false,
          "text": "-0.01",
          "x": "CategoryID",
          "xref": "x",
          "y": "Subscribers",
          "yref": "y"
         },
         {
          "font": {
           "color": "#000000"
          },
          "showarrow": false,
          "text": "0.0",
          "x": "CategoryName",
          "xref": "x",
          "y": "Subscribers",
          "yref": "y"
         },
         {
          "font": {
           "color": "#000000"
          },
          "showarrow": false,
          "text": "0.16",
          "x": "Cluster",
          "xref": "x",
          "y": "Subscribers",
          "yref": "y"
         },
         {
          "font": {
           "color": "#000000"
          },
          "showarrow": false,
          "text": "0.0",
          "x": "CategoryID_enc",
          "xref": "x",
          "y": "Subscribers",
          "yref": "y"
         },
         {
          "font": {
           "color": "#000000"
          },
          "showarrow": false,
          "text": "-0.03",
          "x": "Country_enc",
          "xref": "x",
          "y": "Subscribers",
          "yref": "y"
         },
         {
          "font": {
           "color": "#000000"
          },
          "showarrow": false,
          "text": "0.03",
          "x": "VideoCluster",
          "xref": "x",
          "y": "Subscribers",
          "yref": "y"
         },
         {
          "font": {
           "color": "#000000"
          },
          "showarrow": false,
          "text": "0.49",
          "x": "Channel_Cluster",
          "xref": "x",
          "y": "Subscribers",
          "yref": "y"
         },
         {
          "font": {
           "color": "#000000"
          },
          "showarrow": false,
          "text": "0.1",
          "x": "Video_Cluster",
          "xref": "x",
          "y": "Subscribers",
          "yref": "y"
         },
         {
          "font": {
           "color": "#000000"
          },
          "showarrow": false,
          "text": "-0.14",
          "x": "Country_Cluster_x",
          "xref": "x",
          "y": "Subscribers",
          "yref": "y"
         },
         {
          "font": {
           "color": "#000000"
          },
          "showarrow": false,
          "text": "-0.02",
          "x": "Category_Cluster_x",
          "xref": "x",
          "y": "Subscribers",
          "yref": "y"
         },
         {
          "font": {
           "color": "#000000"
          },
          "showarrow": false,
          "text": "-0.14",
          "x": "Country_Cluster_y",
          "xref": "x",
          "y": "Subscribers",
          "yref": "y"
         },
         {
          "font": {
           "color": "#000000"
          },
          "showarrow": false,
          "text": "-0.02",
          "x": "Category_Cluster_y",
          "xref": "x",
          "y": "Subscribers",
          "yref": "y"
         },
         {
          "font": {
           "color": "#000000"
          },
          "showarrow": false,
          "text": "nan",
          "x": "Year",
          "xref": "x",
          "y": "Subscribers",
          "yref": "y"
         },
         {
          "font": {
           "color": "#000000"
          },
          "showarrow": false,
          "text": "-0.03",
          "x": "Month",
          "xref": "x",
          "y": "Subscribers",
          "yref": "y"
         },
         {
          "font": {
           "color": "#000000"
          },
          "showarrow": false,
          "text": "-0.0",
          "x": "Day",
          "xref": "x",
          "y": "Subscribers",
          "yref": "y"
         },
         {
          "font": {
           "color": "#000000"
          },
          "showarrow": false,
          "text": "0.01",
          "x": "DayOfWeek",
          "xref": "x",
          "y": "Subscribers",
          "yref": "y"
         },
         {
          "font": {
           "color": "#000000"
          },
          "showarrow": false,
          "text": "-0.03",
          "x": "DayName",
          "xref": "x",
          "y": "Subscribers",
          "yref": "y"
         },
         {
          "font": {
           "color": "#000000"
          },
          "showarrow": false,
          "text": "-0.01",
          "x": "Views_per_Sub",
          "xref": "x",
          "y": "Subscribers",
          "yref": "y"
         },
         {
          "font": {
           "color": "#000000"
          },
          "showarrow": false,
          "text": "0.03",
          "x": "Engagement",
          "xref": "x",
          "y": "Subscribers",
          "yref": "y"
         },
         {
          "font": {
           "color": "#000000"
          },
          "showarrow": false,
          "text": "-0.01",
          "x": "Like_per_Sub",
          "xref": "x",
          "y": "Subscribers",
          "yref": "y"
         },
         {
          "font": {
           "color": "#000000"
          },
          "showarrow": false,
          "text": "-0.0",
          "x": "Comment_per_Sub",
          "xref": "x",
          "y": "Subscribers",
          "yref": "y"
         },
         {
          "font": {
           "color": "#000000"
          },
          "showarrow": false,
          "text": "0.0",
          "x": "Unnamed: 0",
          "xref": "x",
          "y": "Channel Views",
          "yref": "y"
         },
         {
          "font": {
           "color": "#000000"
          },
          "showarrow": false,
          "text": "-0.0",
          "x": "Video ID",
          "xref": "x",
          "y": "Channel Views",
          "yref": "y"
         },
         {
          "font": {
           "color": "#000000"
          },
          "showarrow": false,
          "text": "-0.01",
          "x": "Video Title",
          "xref": "x",
          "y": "Channel Views",
          "yref": "y"
         },
         {
          "font": {
           "color": "#000000"
          },
          "showarrow": false,
          "text": "0.01",
          "x": "Channel",
          "xref": "x",
          "y": "Channel Views",
          "yref": "y"
         },
         {
          "font": {
           "color": "#000000"
          },
          "showarrow": false,
          "text": "-0.04",
          "x": "Published Date",
          "xref": "x",
          "y": "Channel Views",
          "yref": "y"
         },
         {
          "font": {
           "color": "#000000"
          },
          "showarrow": false,
          "text": "0.15",
          "x": "Views",
          "xref": "x",
          "y": "Channel Views",
          "yref": "y"
         },
         {
          "font": {
           "color": "#000000"
          },
          "showarrow": false,
          "text": "0.13",
          "x": "Likes",
          "xref": "x",
          "y": "Channel Views",
          "yref": "y"
         },
         {
          "font": {
           "color": "#000000"
          },
          "showarrow": false,
          "text": "0.06",
          "x": "Comments",
          "xref": "x",
          "y": "Channel Views",
          "yref": "y"
         },
         {
          "font": {
           "color": "#000000"
          },
          "showarrow": false,
          "text": "0.95",
          "x": "Subscribers",
          "xref": "x",
          "y": "Channel Views",
          "yref": "y"
         },
         {
          "font": {
           "color": "#000000"
          },
          "showarrow": false,
          "text": "1.0",
          "x": "Channel Views",
          "xref": "x",
          "y": "Channel Views",
          "yref": "y"
         },
         {
          "font": {
           "color": "#000000"
          },
          "showarrow": false,
          "text": "-0.02",
          "x": "Country",
          "xref": "x",
          "y": "Channel Views",
          "yref": "y"
         },
         {
          "font": {
           "color": "#000000"
          },
          "showarrow": false,
          "text": "-0.03",
          "x": "Region",
          "xref": "x",
          "y": "Channel Views",
          "yref": "y"
         },
         {
          "font": {
           "color": "#000000"
          },
          "showarrow": false,
          "text": "-0.02",
          "x": "CategoryID",
          "xref": "x",
          "y": "Channel Views",
          "yref": "y"
         },
         {
          "font": {
           "color": "#000000"
          },
          "showarrow": false,
          "text": "0.03",
          "x": "CategoryName",
          "xref": "x",
          "y": "Channel Views",
          "yref": "y"
         },
         {
          "font": {
           "color": "#000000"
          },
          "showarrow": false,
          "text": "0.16",
          "x": "Cluster",
          "xref": "x",
          "y": "Channel Views",
          "yref": "y"
         },
         {
          "font": {
           "color": "#000000"
          },
          "showarrow": false,
          "text": "-0.0",
          "x": "CategoryID_enc",
          "xref": "x",
          "y": "Channel Views",
          "yref": "y"
         },
         {
          "font": {
           "color": "#000000"
          },
          "showarrow": false,
          "text": "-0.02",
          "x": "Country_enc",
          "xref": "x",
          "y": "Channel Views",
          "yref": "y"
         },
         {
          "font": {
           "color": "#000000"
          },
          "showarrow": false,
          "text": "0.04",
          "x": "VideoCluster",
          "xref": "x",
          "y": "Channel Views",
          "yref": "y"
         },
         {
          "font": {
           "color": "#000000"
          },
          "showarrow": false,
          "text": "0.44",
          "x": "Channel_Cluster",
          "xref": "x",
          "y": "Channel Views",
          "yref": "y"
         },
         {
          "font": {
           "color": "#000000"
          },
          "showarrow": false,
          "text": "0.09",
          "x": "Video_Cluster",
          "xref": "x",
          "y": "Channel Views",
          "yref": "y"
         },
         {
          "font": {
           "color": "#000000"
          },
          "showarrow": false,
          "text": "-0.12",
          "x": "Country_Cluster_x",
          "xref": "x",
          "y": "Channel Views",
          "yref": "y"
         },
         {
          "font": {
           "color": "#000000"
          },
          "showarrow": false,
          "text": "-0.02",
          "x": "Category_Cluster_x",
          "xref": "x",
          "y": "Channel Views",
          "yref": "y"
         },
         {
          "font": {
           "color": "#000000"
          },
          "showarrow": false,
          "text": "-0.12",
          "x": "Country_Cluster_y",
          "xref": "x",
          "y": "Channel Views",
          "yref": "y"
         },
         {
          "font": {
           "color": "#000000"
          },
          "showarrow": false,
          "text": "-0.02",
          "x": "Category_Cluster_y",
          "xref": "x",
          "y": "Channel Views",
          "yref": "y"
         },
         {
          "font": {
           "color": "#000000"
          },
          "showarrow": false,
          "text": "nan",
          "x": "Year",
          "xref": "x",
          "y": "Channel Views",
          "yref": "y"
         },
         {
          "font": {
           "color": "#000000"
          },
          "showarrow": false,
          "text": "-0.03",
          "x": "Month",
          "xref": "x",
          "y": "Channel Views",
          "yref": "y"
         },
         {
          "font": {
           "color": "#000000"
          },
          "showarrow": false,
          "text": "-0.02",
          "x": "Day",
          "xref": "x",
          "y": "Channel Views",
          "yref": "y"
         },
         {
          "font": {
           "color": "#000000"
          },
          "showarrow": false,
          "text": "-0.0",
          "x": "DayOfWeek",
          "xref": "x",
          "y": "Channel Views",
          "yref": "y"
         },
         {
          "font": {
           "color": "#000000"
          },
          "showarrow": false,
          "text": "-0.03",
          "x": "DayName",
          "xref": "x",
          "y": "Channel Views",
          "yref": "y"
         },
         {
          "font": {
           "color": "#000000"
          },
          "showarrow": false,
          "text": "-0.01",
          "x": "Views_per_Sub",
          "xref": "x",
          "y": "Channel Views",
          "yref": "y"
         },
         {
          "font": {
           "color": "#000000"
          },
          "showarrow": false,
          "text": "-0.02",
          "x": "Engagement",
          "xref": "x",
          "y": "Channel Views",
          "yref": "y"
         },
         {
          "font": {
           "color": "#000000"
          },
          "showarrow": false,
          "text": "-0.01",
          "x": "Like_per_Sub",
          "xref": "x",
          "y": "Channel Views",
          "yref": "y"
         },
         {
          "font": {
           "color": "#000000"
          },
          "showarrow": false,
          "text": "-0.0",
          "x": "Comment_per_Sub",
          "xref": "x",
          "y": "Channel Views",
          "yref": "y"
         },
         {
          "font": {
           "color": "#000000"
          },
          "showarrow": false,
          "text": "-0.02",
          "x": "Unnamed: 0",
          "xref": "x",
          "y": "Country",
          "yref": "y"
         },
         {
          "font": {
           "color": "#000000"
          },
          "showarrow": false,
          "text": "0.01",
          "x": "Video ID",
          "xref": "x",
          "y": "Country",
          "yref": "y"
         },
         {
          "font": {
           "color": "#000000"
          },
          "showarrow": false,
          "text": "0.02",
          "x": "Video Title",
          "xref": "x",
          "y": "Country",
          "yref": "y"
         },
         {
          "font": {
           "color": "#000000"
          },
          "showarrow": false,
          "text": "0.01",
          "x": "Channel",
          "xref": "x",
          "y": "Country",
          "yref": "y"
         },
         {
          "font": {
           "color": "#000000"
          },
          "showarrow": false,
          "text": "-0.04",
          "x": "Published Date",
          "xref": "x",
          "y": "Country",
          "yref": "y"
         },
         {
          "font": {
           "color": "#000000"
          },
          "showarrow": false,
          "text": "0.03",
          "x": "Views",
          "xref": "x",
          "y": "Country",
          "yref": "y"
         },
         {
          "font": {
           "color": "#000000"
          },
          "showarrow": false,
          "text": "0.03",
          "x": "Likes",
          "xref": "x",
          "y": "Country",
          "yref": "y"
         },
         {
          "font": {
           "color": "#000000"
          },
          "showarrow": false,
          "text": "-0.01",
          "x": "Comments",
          "xref": "x",
          "y": "Country",
          "yref": "y"
         },
         {
          "font": {
           "color": "#000000"
          },
          "showarrow": false,
          "text": "-0.03",
          "x": "Subscribers",
          "xref": "x",
          "y": "Country",
          "yref": "y"
         },
         {
          "font": {
           "color": "#000000"
          },
          "showarrow": false,
          "text": "-0.02",
          "x": "Channel Views",
          "xref": "x",
          "y": "Country",
          "yref": "y"
         },
         {
          "font": {
           "color": "#000000"
          },
          "showarrow": false,
          "text": "1.0",
          "x": "Country",
          "xref": "x",
          "y": "Country",
          "yref": "y"
         },
         {
          "font": {
           "color": "#000000"
          },
          "showarrow": false,
          "text": "0.49",
          "x": "Region",
          "xref": "x",
          "y": "Country",
          "yref": "y"
         },
         {
          "font": {
           "color": "#000000"
          },
          "showarrow": false,
          "text": "-0.04",
          "x": "CategoryID",
          "xref": "x",
          "y": "Country",
          "yref": "y"
         },
         {
          "font": {
           "color": "#000000"
          },
          "showarrow": false,
          "text": "0.05",
          "x": "CategoryName",
          "xref": "x",
          "y": "Country",
          "yref": "y"
         },
         {
          "font": {
           "color": "#000000"
          },
          "showarrow": false,
          "text": "0.02",
          "x": "Cluster",
          "xref": "x",
          "y": "Country",
          "yref": "y"
         },
         {
          "font": {
           "color": "#000000"
          },
          "showarrow": false,
          "text": "-0.06",
          "x": "CategoryID_enc",
          "xref": "x",
          "y": "Country",
          "yref": "y"
         },
         {
          "font": {
           "color": "#000000"
          },
          "showarrow": false,
          "text": "1.0",
          "x": "Country_enc",
          "xref": "x",
          "y": "Country",
          "yref": "y"
         },
         {
          "font": {
           "color": "#000000"
          },
          "showarrow": false,
          "text": "0.63",
          "x": "VideoCluster",
          "xref": "x",
          "y": "Country",
          "yref": "y"
         },
         {
          "font": {
           "color": "#000000"
          },
          "showarrow": false,
          "text": "-0.02",
          "x": "Channel_Cluster",
          "xref": "x",
          "y": "Country",
          "yref": "y"
         },
         {
          "font": {
           "color": "#000000"
          },
          "showarrow": false,
          "text": "0.03",
          "x": "Video_Cluster",
          "xref": "x",
          "y": "Country",
          "yref": "y"
         },
         {
          "font": {
           "color": "#000000"
          },
          "showarrow": false,
          "text": "0.05",
          "x": "Country_Cluster_x",
          "xref": "x",
          "y": "Country",
          "yref": "y"
         },
         {
          "font": {
           "color": "#000000"
          },
          "showarrow": false,
          "text": "0.01",
          "x": "Category_Cluster_x",
          "xref": "x",
          "y": "Country",
          "yref": "y"
         },
         {
          "font": {
           "color": "#000000"
          },
          "showarrow": false,
          "text": "0.05",
          "x": "Country_Cluster_y",
          "xref": "x",
          "y": "Country",
          "yref": "y"
         },
         {
          "font": {
           "color": "#000000"
          },
          "showarrow": false,
          "text": "0.01",
          "x": "Category_Cluster_y",
          "xref": "x",
          "y": "Country",
          "yref": "y"
         },
         {
          "font": {
           "color": "#000000"
          },
          "showarrow": false,
          "text": "nan",
          "x": "Year",
          "xref": "x",
          "y": "Country",
          "yref": "y"
         },
         {
          "font": {
           "color": "#000000"
          },
          "showarrow": false,
          "text": "-0.01",
          "x": "Month",
          "xref": "x",
          "y": "Country",
          "yref": "y"
         },
         {
          "font": {
           "color": "#000000"
          },
          "showarrow": false,
          "text": "-0.04",
          "x": "Day",
          "xref": "x",
          "y": "Country",
          "yref": "y"
         },
         {
          "font": {
           "color": "#000000"
          },
          "showarrow": false,
          "text": "-0.02",
          "x": "DayOfWeek",
          "xref": "x",
          "y": "Country",
          "yref": "y"
         },
         {
          "font": {
           "color": "#000000"
          },
          "showarrow": false,
          "text": "-0.01",
          "x": "DayName",
          "xref": "x",
          "y": "Country",
          "yref": "y"
         },
         {
          "font": {
           "color": "#000000"
          },
          "showarrow": false,
          "text": "0.02",
          "x": "Views_per_Sub",
          "xref": "x",
          "y": "Country",
          "yref": "y"
         },
         {
          "font": {
           "color": "#000000"
          },
          "showarrow": false,
          "text": "-0.1",
          "x": "Engagement",
          "xref": "x",
          "y": "Country",
          "yref": "y"
         },
         {
          "font": {
           "color": "#000000"
          },
          "showarrow": false,
          "text": "0.01",
          "x": "Like_per_Sub",
          "xref": "x",
          "y": "Country",
          "yref": "y"
         },
         {
          "font": {
           "color": "#000000"
          },
          "showarrow": false,
          "text": "0.01",
          "x": "Comment_per_Sub",
          "xref": "x",
          "y": "Country",
          "yref": "y"
         },
         {
          "font": {
           "color": "#000000"
          },
          "showarrow": false,
          "text": "0.0",
          "x": "Unnamed: 0",
          "xref": "x",
          "y": "Region",
          "yref": "y"
         },
         {
          "font": {
           "color": "#000000"
          },
          "showarrow": false,
          "text": "-0.01",
          "x": "Video ID",
          "xref": "x",
          "y": "Region",
          "yref": "y"
         },
         {
          "font": {
           "color": "#000000"
          },
          "showarrow": false,
          "text": "0.04",
          "x": "Video Title",
          "xref": "x",
          "y": "Region",
          "yref": "y"
         },
         {
          "font": {
           "color": "#000000"
          },
          "showarrow": false,
          "text": "0.01",
          "x": "Channel",
          "xref": "x",
          "y": "Region",
          "yref": "y"
         },
         {
          "font": {
           "color": "#000000"
          },
          "showarrow": false,
          "text": "-0.02",
          "x": "Published Date",
          "xref": "x",
          "y": "Region",
          "yref": "y"
         },
         {
          "font": {
           "color": "#000000"
          },
          "showarrow": false,
          "text": "-0.05",
          "x": "Views",
          "xref": "x",
          "y": "Region",
          "yref": "y"
         },
         {
          "font": {
           "color": "#000000"
          },
          "showarrow": false,
          "text": "-0.1",
          "x": "Likes",
          "xref": "x",
          "y": "Region",
          "yref": "y"
         },
         {
          "font": {
           "color": "#000000"
          },
          "showarrow": false,
          "text": "-0.03",
          "x": "Comments",
          "xref": "x",
          "y": "Region",
          "yref": "y"
         },
         {
          "font": {
           "color": "#000000"
          },
          "showarrow": false,
          "text": "-0.04",
          "x": "Subscribers",
          "xref": "x",
          "y": "Region",
          "yref": "y"
         },
         {
          "font": {
           "color": "#000000"
          },
          "showarrow": false,
          "text": "-0.03",
          "x": "Channel Views",
          "xref": "x",
          "y": "Region",
          "yref": "y"
         },
         {
          "font": {
           "color": "#000000"
          },
          "showarrow": false,
          "text": "0.49",
          "x": "Country",
          "xref": "x",
          "y": "Region",
          "yref": "y"
         },
         {
          "font": {
           "color": "#000000"
          },
          "showarrow": false,
          "text": "1.0",
          "x": "Region",
          "xref": "x",
          "y": "Region",
          "yref": "y"
         },
         {
          "font": {
           "color": "#000000"
          },
          "showarrow": false,
          "text": "-0.01",
          "x": "CategoryID",
          "xref": "x",
          "y": "Region",
          "yref": "y"
         },
         {
          "font": {
           "color": "#000000"
          },
          "showarrow": false,
          "text": "0.01",
          "x": "CategoryName",
          "xref": "x",
          "y": "Region",
          "yref": "y"
         },
         {
          "font": {
           "color": "#000000"
          },
          "showarrow": false,
          "text": "-0.06",
          "x": "Cluster",
          "xref": "x",
          "y": "Region",
          "yref": "y"
         },
         {
          "font": {
           "color": "#000000"
          },
          "showarrow": false,
          "text": "-0.02",
          "x": "CategoryID_enc",
          "xref": "x",
          "y": "Region",
          "yref": "y"
         },
         {
          "font": {
           "color": "#000000"
          },
          "showarrow": false,
          "text": "0.49",
          "x": "Country_enc",
          "xref": "x",
          "y": "Region",
          "yref": "y"
         },
         {
          "font": {
           "color": "#000000"
          },
          "showarrow": false,
          "text": "0.28",
          "x": "VideoCluster",
          "xref": "x",
          "y": "Region",
          "yref": "y"
         },
         {
          "font": {
           "color": "#000000"
          },
          "showarrow": false,
          "text": "-0.02",
          "x": "Channel_Cluster",
          "xref": "x",
          "y": "Region",
          "yref": "y"
         },
         {
          "font": {
           "color": "#000000"
          },
          "showarrow": false,
          "text": "-0.06",
          "x": "Video_Cluster",
          "xref": "x",
          "y": "Region",
          "yref": "y"
         },
         {
          "font": {
           "color": "#000000"
          },
          "showarrow": false,
          "text": "0.05",
          "x": "Country_Cluster_x",
          "xref": "x",
          "y": "Region",
          "yref": "y"
         },
         {
          "font": {
           "color": "#000000"
          },
          "showarrow": false,
          "text": "0.0",
          "x": "Category_Cluster_x",
          "xref": "x",
          "y": "Region",
          "yref": "y"
         },
         {
          "font": {
           "color": "#000000"
          },
          "showarrow": false,
          "text": "0.05",
          "x": "Country_Cluster_y",
          "xref": "x",
          "y": "Region",
          "yref": "y"
         },
         {
          "font": {
           "color": "#000000"
          },
          "showarrow": false,
          "text": "0.0",
          "x": "Category_Cluster_y",
          "xref": "x",
          "y": "Region",
          "yref": "y"
         },
         {
          "font": {
           "color": "#000000"
          },
          "showarrow": false,
          "text": "nan",
          "x": "Year",
          "xref": "x",
          "y": "Region",
          "yref": "y"
         },
         {
          "font": {
           "color": "#000000"
          },
          "showarrow": false,
          "text": "-0.01",
          "x": "Month",
          "xref": "x",
          "y": "Region",
          "yref": "y"
         },
         {
          "font": {
           "color": "#000000"
          },
          "showarrow": false,
          "text": "-0.01",
          "x": "Day",
          "xref": "x",
          "y": "Region",
          "yref": "y"
         },
         {
          "font": {
           "color": "#000000"
          },
          "showarrow": false,
          "text": "-0.01",
          "x": "DayOfWeek",
          "xref": "x",
          "y": "Region",
          "yref": "y"
         },
         {
          "font": {
           "color": "#000000"
          },
          "showarrow": false,
          "text": "0.0",
          "x": "DayName",
          "xref": "x",
          "y": "Region",
          "yref": "y"
         },
         {
          "font": {
           "color": "#000000"
          },
          "showarrow": false,
          "text": "0.01",
          "x": "Views_per_Sub",
          "xref": "x",
          "y": "Region",
          "yref": "y"
         },
         {
          "font": {
           "color": "#000000"
          },
          "showarrow": false,
          "text": "-0.11",
          "x": "Engagement",
          "xref": "x",
          "y": "Region",
          "yref": "y"
         },
         {
          "font": {
           "color": "#000000"
          },
          "showarrow": false,
          "text": "0.0",
          "x": "Like_per_Sub",
          "xref": "x",
          "y": "Region",
          "yref": "y"
         },
         {
          "font": {
           "color": "#000000"
          },
          "showarrow": false,
          "text": "-0.0",
          "x": "Comment_per_Sub",
          "xref": "x",
          "y": "Region",
          "yref": "y"
         },
         {
          "font": {
           "color": "#000000"
          },
          "showarrow": false,
          "text": "0.0",
          "x": "Unnamed: 0",
          "xref": "x",
          "y": "CategoryID",
          "yref": "y"
         },
         {
          "font": {
           "color": "#000000"
          },
          "showarrow": false,
          "text": "0.01",
          "x": "Video ID",
          "xref": "x",
          "y": "CategoryID",
          "yref": "y"
         },
         {
          "font": {
           "color": "#000000"
          },
          "showarrow": false,
          "text": "0.02",
          "x": "Video Title",
          "xref": "x",
          "y": "CategoryID",
          "yref": "y"
         },
         {
          "font": {
           "color": "#000000"
          },
          "showarrow": false,
          "text": "0.01",
          "x": "Channel",
          "xref": "x",
          "y": "CategoryID",
          "yref": "y"
         },
         {
          "font": {
           "color": "#000000"
          },
          "showarrow": false,
          "text": "0.15",
          "x": "Published Date",
          "xref": "x",
          "y": "CategoryID",
          "yref": "y"
         },
         {
          "font": {
           "color": "#000000"
          },
          "showarrow": false,
          "text": "-0.04",
          "x": "Views",
          "xref": "x",
          "y": "CategoryID",
          "yref": "y"
         },
         {
          "font": {
           "color": "#000000"
          },
          "showarrow": false,
          "text": "-0.05",
          "x": "Likes",
          "xref": "x",
          "y": "CategoryID",
          "yref": "y"
         },
         {
          "font": {
           "color": "#000000"
          },
          "showarrow": false,
          "text": "0.0",
          "x": "Comments",
          "xref": "x",
          "y": "CategoryID",
          "yref": "y"
         },
         {
          "font": {
           "color": "#000000"
          },
          "showarrow": false,
          "text": "-0.01",
          "x": "Subscribers",
          "xref": "x",
          "y": "CategoryID",
          "yref": "y"
         },
         {
          "font": {
           "color": "#000000"
          },
          "showarrow": false,
          "text": "-0.02",
          "x": "Channel Views",
          "xref": "x",
          "y": "CategoryID",
          "yref": "y"
         },
         {
          "font": {
           "color": "#000000"
          },
          "showarrow": false,
          "text": "-0.04",
          "x": "Country",
          "xref": "x",
          "y": "CategoryID",
          "yref": "y"
         },
         {
          "font": {
           "color": "#000000"
          },
          "showarrow": false,
          "text": "-0.01",
          "x": "Region",
          "xref": "x",
          "y": "CategoryID",
          "yref": "y"
         },
         {
          "font": {
           "color": "#000000"
          },
          "showarrow": false,
          "text": "1.0",
          "x": "CategoryID",
          "xref": "x",
          "y": "CategoryID",
          "yref": "y"
         },
         {
          "font": {
           "color": "#000000"
          },
          "showarrow": false,
          "text": "-0.47",
          "x": "CategoryName",
          "xref": "x",
          "y": "CategoryID",
          "yref": "y"
         },
         {
          "font": {
           "color": "#000000"
          },
          "showarrow": false,
          "text": "-0.01",
          "x": "Cluster",
          "xref": "x",
          "y": "CategoryID",
          "yref": "y"
         },
         {
          "font": {
           "color": "#000000"
          },
          "showarrow": false,
          "text": "0.43",
          "x": "CategoryID_enc",
          "xref": "x",
          "y": "CategoryID",
          "yref": "y"
         },
         {
          "font": {
           "color": "#000000"
          },
          "showarrow": false,
          "text": "-0.04",
          "x": "Country_enc",
          "xref": "x",
          "y": "CategoryID",
          "yref": "y"
         },
         {
          "font": {
           "color": "#000000"
          },
          "showarrow": false,
          "text": "-0.21",
          "x": "VideoCluster",
          "xref": "x",
          "y": "CategoryID",
          "yref": "y"
         },
         {
          "font": {
           "color": "#000000"
          },
          "showarrow": false,
          "text": "0.01",
          "x": "Channel_Cluster",
          "xref": "x",
          "y": "CategoryID",
          "yref": "y"
         },
         {
          "font": {
           "color": "#000000"
          },
          "showarrow": false,
          "text": "-0.04",
          "x": "Video_Cluster",
          "xref": "x",
          "y": "CategoryID",
          "yref": "y"
         },
         {
          "font": {
           "color": "#000000"
          },
          "showarrow": false,
          "text": "0.03",
          "x": "Country_Cluster_x",
          "xref": "x",
          "y": "CategoryID",
          "yref": "y"
         },
         {
          "font": {
           "color": "#000000"
          },
          "showarrow": false,
          "text": "-0.02",
          "x": "Category_Cluster_x",
          "xref": "x",
          "y": "CategoryID",
          "yref": "y"
         },
         {
          "font": {
           "color": "#000000"
          },
          "showarrow": false,
          "text": "0.03",
          "x": "Country_Cluster_y",
          "xref": "x",
          "y": "CategoryID",
          "yref": "y"
         },
         {
          "font": {
           "color": "#000000"
          },
          "showarrow": false,
          "text": "-0.02",
          "x": "Category_Cluster_y",
          "xref": "x",
          "y": "CategoryID",
          "yref": "y"
         },
         {
          "font": {
           "color": "#000000"
          },
          "showarrow": false,
          "text": "nan",
          "x": "Year",
          "xref": "x",
          "y": "CategoryID",
          "yref": "y"
         },
         {
          "font": {
           "color": "#000000"
          },
          "showarrow": false,
          "text": "0.05",
          "x": "Month",
          "xref": "x",
          "y": "CategoryID",
          "yref": "y"
         },
         {
          "font": {
           "color": "#000000"
          },
          "showarrow": false,
          "text": "0.13",
          "x": "Day",
          "xref": "x",
          "y": "CategoryID",
          "yref": "y"
         },
         {
          "font": {
           "color": "#000000"
          },
          "showarrow": false,
          "text": "0.03",
          "x": "DayOfWeek",
          "xref": "x",
          "y": "CategoryID",
          "yref": "y"
         },
         {
          "font": {
           "color": "#000000"
          },
          "showarrow": false,
          "text": "-0.02",
          "x": "DayName",
          "xref": "x",
          "y": "CategoryID",
          "yref": "y"
         },
         {
          "font": {
           "color": "#000000"
          },
          "showarrow": false,
          "text": "-0.03",
          "x": "Views_per_Sub",
          "xref": "x",
          "y": "CategoryID",
          "yref": "y"
         },
         {
          "font": {
           "color": "#000000"
          },
          "showarrow": false,
          "text": "0.1",
          "x": "Engagement",
          "xref": "x",
          "y": "CategoryID",
          "yref": "y"
         },
         {
          "font": {
           "color": "#000000"
          },
          "showarrow": false,
          "text": "-0.03",
          "x": "Like_per_Sub",
          "xref": "x",
          "y": "CategoryID",
          "yref": "y"
         },
         {
          "font": {
           "color": "#000000"
          },
          "showarrow": false,
          "text": "-0.01",
          "x": "Comment_per_Sub",
          "xref": "x",
          "y": "CategoryID",
          "yref": "y"
         },
         {
          "font": {
           "color": "#000000"
          },
          "showarrow": false,
          "text": "-0.01",
          "x": "Unnamed: 0",
          "xref": "x",
          "y": "CategoryName",
          "yref": "y"
         },
         {
          "font": {
           "color": "#000000"
          },
          "showarrow": false,
          "text": "-0.01",
          "x": "Video ID",
          "xref": "x",
          "y": "CategoryName",
          "yref": "y"
         },
         {
          "font": {
           "color": "#000000"
          },
          "showarrow": false,
          "text": "-0.01",
          "x": "Video Title",
          "xref": "x",
          "y": "CategoryName",
          "yref": "y"
         },
         {
          "font": {
           "color": "#000000"
          },
          "showarrow": false,
          "text": "0.02",
          "x": "Channel",
          "xref": "x",
          "y": "CategoryName",
          "yref": "y"
         },
         {
          "font": {
           "color": "#000000"
          },
          "showarrow": false,
          "text": "-0.21",
          "x": "Published Date",
          "xref": "x",
          "y": "CategoryName",
          "yref": "y"
         },
         {
          "font": {
           "color": "#000000"
          },
          "showarrow": false,
          "text": "0.14",
          "x": "Views",
          "xref": "x",
          "y": "CategoryName",
          "yref": "y"
         },
         {
          "font": {
           "color": "#000000"
          },
          "showarrow": false,
          "text": "0.14",
          "x": "Likes",
          "xref": "x",
          "y": "CategoryName",
          "yref": "y"
         },
         {
          "font": {
           "color": "#000000"
          },
          "showarrow": false,
          "text": "-0.0",
          "x": "Comments",
          "xref": "x",
          "y": "CategoryName",
          "yref": "y"
         },
         {
          "font": {
           "color": "#000000"
          },
          "showarrow": false,
          "text": "0.0",
          "x": "Subscribers",
          "xref": "x",
          "y": "CategoryName",
          "yref": "y"
         },
         {
          "font": {
           "color": "#000000"
          },
          "showarrow": false,
          "text": "0.03",
          "x": "Channel Views",
          "xref": "x",
          "y": "CategoryName",
          "yref": "y"
         },
         {
          "font": {
           "color": "#000000"
          },
          "showarrow": false,
          "text": "0.05",
          "x": "Country",
          "xref": "x",
          "y": "CategoryName",
          "yref": "y"
         },
         {
          "font": {
           "color": "#000000"
          },
          "showarrow": false,
          "text": "0.01",
          "x": "Region",
          "xref": "x",
          "y": "CategoryName",
          "yref": "y"
         },
         {
          "font": {
           "color": "#000000"
          },
          "showarrow": false,
          "text": "-0.47",
          "x": "CategoryID",
          "xref": "x",
          "y": "CategoryName",
          "yref": "y"
         },
         {
          "font": {
           "color": "#000000"
          },
          "showarrow": false,
          "text": "1.0",
          "x": "CategoryName",
          "xref": "x",
          "y": "CategoryName",
          "yref": "y"
         },
         {
          "font": {
           "color": "#000000"
          },
          "showarrow": false,
          "text": "0.06",
          "x": "Cluster",
          "xref": "x",
          "y": "CategoryName",
          "yref": "y"
         },
         {
          "font": {
           "color": "#000000"
          },
          "showarrow": false,
          "text": "-0.09",
          "x": "CategoryID_enc",
          "xref": "x",
          "y": "CategoryName",
          "yref": "y"
         },
         {
          "font": {
           "color": "#000000"
          },
          "showarrow": false,
          "text": "0.05",
          "x": "Country_enc",
          "xref": "x",
          "y": "CategoryName",
          "yref": "y"
         },
         {
          "font": {
           "color": "#000000"
          },
          "showarrow": false,
          "text": "0.19",
          "x": "VideoCluster",
          "xref": "x",
          "y": "CategoryName",
          "yref": "y"
         },
         {
          "font": {
           "color": "#000000"
          },
          "showarrow": false,
          "text": "0.01",
          "x": "Channel_Cluster",
          "xref": "x",
          "y": "CategoryName",
          "yref": "y"
         },
         {
          "font": {
           "color": "#000000"
          },
          "showarrow": false,
          "text": "0.17",
          "x": "Video_Cluster",
          "xref": "x",
          "y": "CategoryName",
          "yref": "y"
         },
         {
          "font": {
           "color": "#000000"
          },
          "showarrow": false,
          "text": "-0.05",
          "x": "Country_Cluster_x",
          "xref": "x",
          "y": "CategoryName",
          "yref": "y"
         },
         {
          "font": {
           "color": "#000000"
          },
          "showarrow": false,
          "text": "-0.13",
          "x": "Category_Cluster_x",
          "xref": "x",
          "y": "CategoryName",
          "yref": "y"
         },
         {
          "font": {
           "color": "#000000"
          },
          "showarrow": false,
          "text": "-0.05",
          "x": "Country_Cluster_y",
          "xref": "x",
          "y": "CategoryName",
          "yref": "y"
         },
         {
          "font": {
           "color": "#000000"
          },
          "showarrow": false,
          "text": "-0.13",
          "x": "Category_Cluster_y",
          "xref": "x",
          "y": "CategoryName",
          "yref": "y"
         },
         {
          "font": {
           "color": "#000000"
          },
          "showarrow": false,
          "text": "nan",
          "x": "Year",
          "xref": "x",
          "y": "CategoryName",
          "yref": "y"
         },
         {
          "font": {
           "color": "#000000"
          },
          "showarrow": false,
          "text": "-0.04",
          "x": "Month",
          "xref": "x",
          "y": "CategoryName",
          "yref": "y"
         },
         {
          "font": {
           "color": "#000000"
          },
          "showarrow": false,
          "text": "-0.22",
          "x": "Day",
          "xref": "x",
          "y": "CategoryName",
          "yref": "y"
         },
         {
          "font": {
           "color": "#000000"
          },
          "showarrow": false,
          "text": "-0.16",
          "x": "DayOfWeek",
          "xref": "x",
          "y": "CategoryName",
          "yref": "y"
         },
         {
          "font": {
           "color": "#000000"
          },
          "showarrow": false,
          "text": "0.06",
          "x": "DayName",
          "xref": "x",
          "y": "CategoryName",
          "yref": "y"
         },
         {
          "font": {
           "color": "#000000"
          },
          "showarrow": false,
          "text": "0.04",
          "x": "Views_per_Sub",
          "xref": "x",
          "y": "CategoryName",
          "yref": "y"
         },
         {
          "font": {
           "color": "#000000"
          },
          "showarrow": false,
          "text": "-0.29",
          "x": "Engagement",
          "xref": "x",
          "y": "CategoryName",
          "yref": "y"
         },
         {
          "font": {
           "color": "#000000"
          },
          "showarrow": false,
          "text": "0.02",
          "x": "Like_per_Sub",
          "xref": "x",
          "y": "CategoryName",
          "yref": "y"
         },
         {
          "font": {
           "color": "#000000"
          },
          "showarrow": false,
          "text": "0.01",
          "x": "Comment_per_Sub",
          "xref": "x",
          "y": "CategoryName",
          "yref": "y"
         },
         {
          "font": {
           "color": "#000000"
          },
          "showarrow": false,
          "text": "-0.01",
          "x": "Unnamed: 0",
          "xref": "x",
          "y": "Cluster",
          "yref": "y"
         },
         {
          "font": {
           "color": "#000000"
          },
          "showarrow": false,
          "text": "-0.01",
          "x": "Video ID",
          "xref": "x",
          "y": "Cluster",
          "yref": "y"
         },
         {
          "font": {
           "color": "#000000"
          },
          "showarrow": false,
          "text": "-0.04",
          "x": "Video Title",
          "xref": "x",
          "y": "Cluster",
          "yref": "y"
         },
         {
          "font": {
           "color": "#000000"
          },
          "showarrow": false,
          "text": "-0.0",
          "x": "Channel",
          "xref": "x",
          "y": "Cluster",
          "yref": "y"
         },
         {
          "font": {
           "color": "#000000"
          },
          "showarrow": false,
          "text": "-0.14",
          "x": "Published Date",
          "xref": "x",
          "y": "Cluster",
          "yref": "y"
         },
         {
          "font": {
           "color": "#000000"
          },
          "showarrow": false,
          "text": "0.74",
          "x": "Views",
          "xref": "x",
          "y": "Cluster",
          "yref": "y"
         },
         {
          "font": {
           "color": "#000000"
          },
          "showarrow": false,
          "text": "0.74",
          "x": "Likes",
          "xref": "x",
          "y": "Cluster",
          "yref": "y"
         },
         {
          "font": {
           "color": "#000000"
          },
          "showarrow": false,
          "text": "0.21",
          "x": "Comments",
          "xref": "x",
          "y": "Cluster",
          "yref": "y"
         },
         {
          "font": {
           "color": "#000000"
          },
          "showarrow": false,
          "text": "0.16",
          "x": "Subscribers",
          "xref": "x",
          "y": "Cluster",
          "yref": "y"
         },
         {
          "font": {
           "color": "#000000"
          },
          "showarrow": false,
          "text": "0.16",
          "x": "Channel Views",
          "xref": "x",
          "y": "Cluster",
          "yref": "y"
         },
         {
          "font": {
           "color": "#000000"
          },
          "showarrow": false,
          "text": "0.02",
          "x": "Country",
          "xref": "x",
          "y": "Cluster",
          "yref": "y"
         },
         {
          "font": {
           "color": "#000000"
          },
          "showarrow": false,
          "text": "-0.06",
          "x": "Region",
          "xref": "x",
          "y": "Cluster",
          "yref": "y"
         },
         {
          "font": {
           "color": "#000000"
          },
          "showarrow": false,
          "text": "-0.01",
          "x": "CategoryID",
          "xref": "x",
          "y": "Cluster",
          "yref": "y"
         },
         {
          "font": {
           "color": "#000000"
          },
          "showarrow": false,
          "text": "0.06",
          "x": "CategoryName",
          "xref": "x",
          "y": "Cluster",
          "yref": "y"
         },
         {
          "font": {
           "color": "#000000"
          },
          "showarrow": false,
          "text": "1.0",
          "x": "Cluster",
          "xref": "x",
          "y": "Cluster",
          "yref": "y"
         },
         {
          "font": {
           "color": "#000000"
          },
          "showarrow": false,
          "text": "-0.07",
          "x": "CategoryID_enc",
          "xref": "x",
          "y": "Cluster",
          "yref": "y"
         },
         {
          "font": {
           "color": "#000000"
          },
          "showarrow": false,
          "text": "0.02",
          "x": "Country_enc",
          "xref": "x",
          "y": "Cluster",
          "yref": "y"
         },
         {
          "font": {
           "color": "#000000"
          },
          "showarrow": false,
          "text": "0.38",
          "x": "VideoCluster",
          "xref": "x",
          "y": "Cluster",
          "yref": "y"
         },
         {
          "font": {
           "color": "#000000"
          },
          "showarrow": false,
          "text": "0.18",
          "x": "Channel_Cluster",
          "xref": "x",
          "y": "Cluster",
          "yref": "y"
         },
         {
          "font": {
           "color": "#000000"
          },
          "showarrow": false,
          "text": "0.31",
          "x": "Video_Cluster",
          "xref": "x",
          "y": "Cluster",
          "yref": "y"
         },
         {
          "font": {
           "color": "#000000"
          },
          "showarrow": false,
          "text": "-0.13",
          "x": "Country_Cluster_x",
          "xref": "x",
          "y": "Cluster",
          "yref": "y"
         },
         {
          "font": {
           "color": "#000000"
          },
          "showarrow": false,
          "text": "-0.0",
          "x": "Category_Cluster_x",
          "xref": "x",
          "y": "Cluster",
          "yref": "y"
         },
         {
          "font": {
           "color": "#000000"
          },
          "showarrow": false,
          "text": "-0.13",
          "x": "Country_Cluster_y",
          "xref": "x",
          "y": "Cluster",
          "yref": "y"
         },
         {
          "font": {
           "color": "#000000"
          },
          "showarrow": false,
          "text": "-0.0",
          "x": "Category_Cluster_y",
          "xref": "x",
          "y": "Cluster",
          "yref": "y"
         },
         {
          "font": {
           "color": "#000000"
          },
          "showarrow": false,
          "text": "nan",
          "x": "Year",
          "xref": "x",
          "y": "Cluster",
          "yref": "y"
         },
         {
          "font": {
           "color": "#000000"
          },
          "showarrow": false,
          "text": "-0.07",
          "x": "Month",
          "xref": "x",
          "y": "Cluster",
          "yref": "y"
         },
         {
          "font": {
           "color": "#000000"
          },
          "showarrow": false,
          "text": "-0.1",
          "x": "Day",
          "xref": "x",
          "y": "Cluster",
          "yref": "y"
         },
         {
          "font": {
           "color": "#000000"
          },
          "showarrow": false,
          "text": "-0.07",
          "x": "DayOfWeek",
          "xref": "x",
          "y": "Cluster",
          "yref": "y"
         },
         {
          "font": {
           "color": "#000000"
          },
          "showarrow": false,
          "text": "0.01",
          "x": "DayName",
          "xref": "x",
          "y": "Cluster",
          "yref": "y"
         },
         {
          "font": {
           "color": "#000000"
          },
          "showarrow": false,
          "text": "0.04",
          "x": "Views_per_Sub",
          "xref": "x",
          "y": "Cluster",
          "yref": "y"
         },
         {
          "font": {
           "color": "#000000"
          },
          "showarrow": false,
          "text": "0.01",
          "x": "Engagement",
          "xref": "x",
          "y": "Cluster",
          "yref": "y"
         },
         {
          "font": {
           "color": "#000000"
          },
          "showarrow": false,
          "text": "0.02",
          "x": "Like_per_Sub",
          "xref": "x",
          "y": "Cluster",
          "yref": "y"
         },
         {
          "font": {
           "color": "#000000"
          },
          "showarrow": false,
          "text": "-0.0",
          "x": "Comment_per_Sub",
          "xref": "x",
          "y": "Cluster",
          "yref": "y"
         },
         {
          "font": {
           "color": "#000000"
          },
          "showarrow": false,
          "text": "-0.01",
          "x": "Unnamed: 0",
          "xref": "x",
          "y": "CategoryID_enc",
          "yref": "y"
         },
         {
          "font": {
           "color": "#000000"
          },
          "showarrow": false,
          "text": "0.01",
          "x": "Video ID",
          "xref": "x",
          "y": "CategoryID_enc",
          "yref": "y"
         },
         {
          "font": {
           "color": "#000000"
          },
          "showarrow": false,
          "text": "0.01",
          "x": "Video Title",
          "xref": "x",
          "y": "CategoryID_enc",
          "yref": "y"
         },
         {
          "font": {
           "color": "#000000"
          },
          "showarrow": false,
          "text": "-0.03",
          "x": "Channel",
          "xref": "x",
          "y": "CategoryID_enc",
          "yref": "y"
         },
         {
          "font": {
           "color": "#000000"
          },
          "showarrow": false,
          "text": "-0.05",
          "x": "Published Date",
          "xref": "x",
          "y": "CategoryID_enc",
          "yref": "y"
         },
         {
          "font": {
           "color": "#000000"
          },
          "showarrow": false,
          "text": "-0.12",
          "x": "Views",
          "xref": "x",
          "y": "CategoryID_enc",
          "yref": "y"
         },
         {
          "font": {
           "color": "#000000"
          },
          "showarrow": false,
          "text": "-0.1",
          "x": "Likes",
          "xref": "x",
          "y": "CategoryID_enc",
          "yref": "y"
         },
         {
          "font": {
           "color": "#000000"
          },
          "showarrow": false,
          "text": "0.0",
          "x": "Comments",
          "xref": "x",
          "y": "CategoryID_enc",
          "yref": "y"
         },
         {
          "font": {
           "color": "#000000"
          },
          "showarrow": false,
          "text": "0.0",
          "x": "Subscribers",
          "xref": "x",
          "y": "CategoryID_enc",
          "yref": "y"
         },
         {
          "font": {
           "color": "#000000"
          },
          "showarrow": false,
          "text": "-0.0",
          "x": "Channel Views",
          "xref": "x",
          "y": "CategoryID_enc",
          "yref": "y"
         },
         {
          "font": {
           "color": "#000000"
          },
          "showarrow": false,
          "text": "-0.06",
          "x": "Country",
          "xref": "x",
          "y": "CategoryID_enc",
          "yref": "y"
         },
         {
          "font": {
           "color": "#000000"
          },
          "showarrow": false,
          "text": "-0.02",
          "x": "Region",
          "xref": "x",
          "y": "CategoryID_enc",
          "yref": "y"
         },
         {
          "font": {
           "color": "#000000"
          },
          "showarrow": false,
          "text": "0.43",
          "x": "CategoryID",
          "xref": "x",
          "y": "CategoryID_enc",
          "yref": "y"
         },
         {
          "font": {
           "color": "#000000"
          },
          "showarrow": false,
          "text": "-0.09",
          "x": "CategoryName",
          "xref": "x",
          "y": "CategoryID_enc",
          "yref": "y"
         },
         {
          "font": {
           "color": "#000000"
          },
          "showarrow": false,
          "text": "-0.07",
          "x": "Cluster",
          "xref": "x",
          "y": "CategoryID_enc",
          "yref": "y"
         },
         {
          "font": {
           "color": "#000000"
          },
          "showarrow": false,
          "text": "1.0",
          "x": "CategoryID_enc",
          "xref": "x",
          "y": "CategoryID_enc",
          "yref": "y"
         },
         {
          "font": {
           "color": "#000000"
          },
          "showarrow": false,
          "text": "-0.06",
          "x": "Country_enc",
          "xref": "x",
          "y": "CategoryID_enc",
          "yref": "y"
         },
         {
          "font": {
           "color": "#000000"
          },
          "showarrow": false,
          "text": "-0.43",
          "x": "VideoCluster",
          "xref": "x",
          "y": "CategoryID_enc",
          "yref": "y"
         },
         {
          "font": {
           "color": "#000000"
          },
          "showarrow": false,
          "text": "-0.01",
          "x": "Channel_Cluster",
          "xref": "x",
          "y": "CategoryID_enc",
          "yref": "y"
         },
         {
          "font": {
           "color": "#000000"
          },
          "showarrow": false,
          "text": "-0.13",
          "x": "Video_Cluster",
          "xref": "x",
          "y": "CategoryID_enc",
          "yref": "y"
         },
         {
          "font": {
           "color": "#000000"
          },
          "showarrow": false,
          "text": "0.04",
          "x": "Country_Cluster_x",
          "xref": "x",
          "y": "CategoryID_enc",
          "yref": "y"
         },
         {
          "font": {
           "color": "#000000"
          },
          "showarrow": false,
          "text": "-0.35",
          "x": "Category_Cluster_x",
          "xref": "x",
          "y": "CategoryID_enc",
          "yref": "y"
         },
         {
          "font": {
           "color": "#000000"
          },
          "showarrow": false,
          "text": "0.04",
          "x": "Country_Cluster_y",
          "xref": "x",
          "y": "CategoryID_enc",
          "yref": "y"
         },
         {
          "font": {
           "color": "#000000"
          },
          "showarrow": false,
          "text": "-0.35",
          "x": "Category_Cluster_y",
          "xref": "x",
          "y": "CategoryID_enc",
          "yref": "y"
         },
         {
          "font": {
           "color": "#000000"
          },
          "showarrow": false,
          "text": "nan",
          "x": "Year",
          "xref": "x",
          "y": "CategoryID_enc",
          "yref": "y"
         },
         {
          "font": {
           "color": "#000000"
          },
          "showarrow": false,
          "text": "-0.05",
          "x": "Month",
          "xref": "x",
          "y": "CategoryID_enc",
          "yref": "y"
         },
         {
          "font": {
           "color": "#000000"
          },
          "showarrow": false,
          "text": "-0.01",
          "x": "Day",
          "xref": "x",
          "y": "CategoryID_enc",
          "yref": "y"
         },
         {
          "font": {
           "color": "#000000"
          },
          "showarrow": false,
          "text": "-0.0",
          "x": "DayOfWeek",
          "xref": "x",
          "y": "CategoryID_enc",
          "yref": "y"
         },
         {
          "font": {
           "color": "#000000"
          },
          "showarrow": false,
          "text": "-0.02",
          "x": "DayName",
          "xref": "x",
          "y": "CategoryID_enc",
          "yref": "y"
         },
         {
          "font": {
           "color": "#000000"
          },
          "showarrow": false,
          "text": "0.0",
          "x": "Views_per_Sub",
          "xref": "x",
          "y": "CategoryID_enc",
          "yref": "y"
         },
         {
          "font": {
           "color": "#000000"
          },
          "showarrow": false,
          "text": "0.09",
          "x": "Engagement",
          "xref": "x",
          "y": "CategoryID_enc",
          "yref": "y"
         },
         {
          "font": {
           "color": "#000000"
          },
          "showarrow": false,
          "text": "0.0",
          "x": "Like_per_Sub",
          "xref": "x",
          "y": "CategoryID_enc",
          "yref": "y"
         },
         {
          "font": {
           "color": "#000000"
          },
          "showarrow": false,
          "text": "0.0",
          "x": "Comment_per_Sub",
          "xref": "x",
          "y": "CategoryID_enc",
          "yref": "y"
         },
         {
          "font": {
           "color": "#000000"
          },
          "showarrow": false,
          "text": "-0.02",
          "x": "Unnamed: 0",
          "xref": "x",
          "y": "Country_enc",
          "yref": "y"
         },
         {
          "font": {
           "color": "#000000"
          },
          "showarrow": false,
          "text": "0.01",
          "x": "Video ID",
          "xref": "x",
          "y": "Country_enc",
          "yref": "y"
         },
         {
          "font": {
           "color": "#000000"
          },
          "showarrow": false,
          "text": "0.02",
          "x": "Video Title",
          "xref": "x",
          "y": "Country_enc",
          "yref": "y"
         },
         {
          "font": {
           "color": "#000000"
          },
          "showarrow": false,
          "text": "0.01",
          "x": "Channel",
          "xref": "x",
          "y": "Country_enc",
          "yref": "y"
         },
         {
          "font": {
           "color": "#000000"
          },
          "showarrow": false,
          "text": "-0.04",
          "x": "Published Date",
          "xref": "x",
          "y": "Country_enc",
          "yref": "y"
         },
         {
          "font": {
           "color": "#000000"
          },
          "showarrow": false,
          "text": "0.03",
          "x": "Views",
          "xref": "x",
          "y": "Country_enc",
          "yref": "y"
         },
         {
          "font": {
           "color": "#000000"
          },
          "showarrow": false,
          "text": "0.03",
          "x": "Likes",
          "xref": "x",
          "y": "Country_enc",
          "yref": "y"
         },
         {
          "font": {
           "color": "#000000"
          },
          "showarrow": false,
          "text": "-0.01",
          "x": "Comments",
          "xref": "x",
          "y": "Country_enc",
          "yref": "y"
         },
         {
          "font": {
           "color": "#000000"
          },
          "showarrow": false,
          "text": "-0.03",
          "x": "Subscribers",
          "xref": "x",
          "y": "Country_enc",
          "yref": "y"
         },
         {
          "font": {
           "color": "#000000"
          },
          "showarrow": false,
          "text": "-0.02",
          "x": "Channel Views",
          "xref": "x",
          "y": "Country_enc",
          "yref": "y"
         },
         {
          "font": {
           "color": "#000000"
          },
          "showarrow": false,
          "text": "1.0",
          "x": "Country",
          "xref": "x",
          "y": "Country_enc",
          "yref": "y"
         },
         {
          "font": {
           "color": "#000000"
          },
          "showarrow": false,
          "text": "0.49",
          "x": "Region",
          "xref": "x",
          "y": "Country_enc",
          "yref": "y"
         },
         {
          "font": {
           "color": "#000000"
          },
          "showarrow": false,
          "text": "-0.04",
          "x": "CategoryID",
          "xref": "x",
          "y": "Country_enc",
          "yref": "y"
         },
         {
          "font": {
           "color": "#000000"
          },
          "showarrow": false,
          "text": "0.05",
          "x": "CategoryName",
          "xref": "x",
          "y": "Country_enc",
          "yref": "y"
         },
         {
          "font": {
           "color": "#000000"
          },
          "showarrow": false,
          "text": "0.02",
          "x": "Cluster",
          "xref": "x",
          "y": "Country_enc",
          "yref": "y"
         },
         {
          "font": {
           "color": "#000000"
          },
          "showarrow": false,
          "text": "-0.06",
          "x": "CategoryID_enc",
          "xref": "x",
          "y": "Country_enc",
          "yref": "y"
         },
         {
          "font": {
           "color": "#000000"
          },
          "showarrow": false,
          "text": "1.0",
          "x": "Country_enc",
          "xref": "x",
          "y": "Country_enc",
          "yref": "y"
         },
         {
          "font": {
           "color": "#000000"
          },
          "showarrow": false,
          "text": "0.63",
          "x": "VideoCluster",
          "xref": "x",
          "y": "Country_enc",
          "yref": "y"
         },
         {
          "font": {
           "color": "#000000"
          },
          "showarrow": false,
          "text": "-0.02",
          "x": "Channel_Cluster",
          "xref": "x",
          "y": "Country_enc",
          "yref": "y"
         },
         {
          "font": {
           "color": "#000000"
          },
          "showarrow": false,
          "text": "0.03",
          "x": "Video_Cluster",
          "xref": "x",
          "y": "Country_enc",
          "yref": "y"
         },
         {
          "font": {
           "color": "#000000"
          },
          "showarrow": false,
          "text": "0.05",
          "x": "Country_Cluster_x",
          "xref": "x",
          "y": "Country_enc",
          "yref": "y"
         },
         {
          "font": {
           "color": "#000000"
          },
          "showarrow": false,
          "text": "0.01",
          "x": "Category_Cluster_x",
          "xref": "x",
          "y": "Country_enc",
          "yref": "y"
         },
         {
          "font": {
           "color": "#000000"
          },
          "showarrow": false,
          "text": "0.05",
          "x": "Country_Cluster_y",
          "xref": "x",
          "y": "Country_enc",
          "yref": "y"
         },
         {
          "font": {
           "color": "#000000"
          },
          "showarrow": false,
          "text": "0.01",
          "x": "Category_Cluster_y",
          "xref": "x",
          "y": "Country_enc",
          "yref": "y"
         },
         {
          "font": {
           "color": "#000000"
          },
          "showarrow": false,
          "text": "nan",
          "x": "Year",
          "xref": "x",
          "y": "Country_enc",
          "yref": "y"
         },
         {
          "font": {
           "color": "#000000"
          },
          "showarrow": false,
          "text": "-0.01",
          "x": "Month",
          "xref": "x",
          "y": "Country_enc",
          "yref": "y"
         },
         {
          "font": {
           "color": "#000000"
          },
          "showarrow": false,
          "text": "-0.04",
          "x": "Day",
          "xref": "x",
          "y": "Country_enc",
          "yref": "y"
         },
         {
          "font": {
           "color": "#000000"
          },
          "showarrow": false,
          "text": "-0.02",
          "x": "DayOfWeek",
          "xref": "x",
          "y": "Country_enc",
          "yref": "y"
         },
         {
          "font": {
           "color": "#000000"
          },
          "showarrow": false,
          "text": "-0.01",
          "x": "DayName",
          "xref": "x",
          "y": "Country_enc",
          "yref": "y"
         },
         {
          "font": {
           "color": "#000000"
          },
          "showarrow": false,
          "text": "0.02",
          "x": "Views_per_Sub",
          "xref": "x",
          "y": "Country_enc",
          "yref": "y"
         },
         {
          "font": {
           "color": "#000000"
          },
          "showarrow": false,
          "text": "-0.1",
          "x": "Engagement",
          "xref": "x",
          "y": "Country_enc",
          "yref": "y"
         },
         {
          "font": {
           "color": "#000000"
          },
          "showarrow": false,
          "text": "0.01",
          "x": "Like_per_Sub",
          "xref": "x",
          "y": "Country_enc",
          "yref": "y"
         },
         {
          "font": {
           "color": "#000000"
          },
          "showarrow": false,
          "text": "0.01",
          "x": "Comment_per_Sub",
          "xref": "x",
          "y": "Country_enc",
          "yref": "y"
         },
         {
          "font": {
           "color": "#000000"
          },
          "showarrow": false,
          "text": "-0.02",
          "x": "Unnamed: 0",
          "xref": "x",
          "y": "VideoCluster",
          "yref": "y"
         },
         {
          "font": {
           "color": "#000000"
          },
          "showarrow": false,
          "text": "-0.01",
          "x": "Video ID",
          "xref": "x",
          "y": "VideoCluster",
          "yref": "y"
         },
         {
          "font": {
           "color": "#000000"
          },
          "showarrow": false,
          "text": "0.02",
          "x": "Video Title",
          "xref": "x",
          "y": "VideoCluster",
          "yref": "y"
         },
         {
          "font": {
           "color": "#000000"
          },
          "showarrow": false,
          "text": "0.02",
          "x": "Channel",
          "xref": "x",
          "y": "VideoCluster",
          "yref": "y"
         },
         {
          "font": {
           "color": "#000000"
          },
          "showarrow": false,
          "text": "-0.06",
          "x": "Published Date",
          "xref": "x",
          "y": "VideoCluster",
          "yref": "y"
         },
         {
          "font": {
           "color": "#000000"
          },
          "showarrow": false,
          "text": "0.41",
          "x": "Views",
          "xref": "x",
          "y": "VideoCluster",
          "yref": "y"
         },
         {
          "font": {
           "color": "#000000"
          },
          "showarrow": false,
          "text": "0.38",
          "x": "Likes",
          "xref": "x",
          "y": "VideoCluster",
          "yref": "y"
         },
         {
          "font": {
           "color": "#000000"
          },
          "showarrow": false,
          "text": "0.08",
          "x": "Comments",
          "xref": "x",
          "y": "VideoCluster",
          "yref": "y"
         },
         {
          "font": {
           "color": "#000000"
          },
          "showarrow": false,
          "text": "0.03",
          "x": "Subscribers",
          "xref": "x",
          "y": "VideoCluster",
          "yref": "y"
         },
         {
          "font": {
           "color": "#000000"
          },
          "showarrow": false,
          "text": "0.04",
          "x": "Channel Views",
          "xref": "x",
          "y": "VideoCluster",
          "yref": "y"
         },
         {
          "font": {
           "color": "#000000"
          },
          "showarrow": false,
          "text": "0.63",
          "x": "Country",
          "xref": "x",
          "y": "VideoCluster",
          "yref": "y"
         },
         {
          "font": {
           "color": "#000000"
          },
          "showarrow": false,
          "text": "0.28",
          "x": "Region",
          "xref": "x",
          "y": "VideoCluster",
          "yref": "y"
         },
         {
          "font": {
           "color": "#000000"
          },
          "showarrow": false,
          "text": "-0.21",
          "x": "CategoryID",
          "xref": "x",
          "y": "VideoCluster",
          "yref": "y"
         },
         {
          "font": {
           "color": "#000000"
          },
          "showarrow": false,
          "text": "0.19",
          "x": "CategoryName",
          "xref": "x",
          "y": "VideoCluster",
          "yref": "y"
         },
         {
          "font": {
           "color": "#000000"
          },
          "showarrow": false,
          "text": "0.38",
          "x": "Cluster",
          "xref": "x",
          "y": "VideoCluster",
          "yref": "y"
         },
         {
          "font": {
           "color": "#000000"
          },
          "showarrow": false,
          "text": "-0.43",
          "x": "CategoryID_enc",
          "xref": "x",
          "y": "VideoCluster",
          "yref": "y"
         },
         {
          "font": {
           "color": "#000000"
          },
          "showarrow": false,
          "text": "0.63",
          "x": "Country_enc",
          "xref": "x",
          "y": "VideoCluster",
          "yref": "y"
         },
         {
          "font": {
           "color": "#000000"
          },
          "showarrow": false,
          "text": "1.0",
          "x": "VideoCluster",
          "xref": "x",
          "y": "VideoCluster",
          "yref": "y"
         },
         {
          "font": {
           "color": "#000000"
          },
          "showarrow": false,
          "text": "0.07",
          "x": "Channel_Cluster",
          "xref": "x",
          "y": "VideoCluster",
          "yref": "y"
         },
         {
          "font": {
           "color": "#000000"
          },
          "showarrow": false,
          "text": "0.26",
          "x": "Video_Cluster",
          "xref": "x",
          "y": "VideoCluster",
          "yref": "y"
         },
         {
          "font": {
           "color": "#000000"
          },
          "showarrow": false,
          "text": "-0.09",
          "x": "Country_Cluster_x",
          "xref": "x",
          "y": "VideoCluster",
          "yref": "y"
         },
         {
          "font": {
           "color": "#000000"
          },
          "showarrow": false,
          "text": "0.1",
          "x": "Category_Cluster_x",
          "xref": "x",
          "y": "VideoCluster",
          "yref": "y"
         },
         {
          "font": {
           "color": "#000000"
          },
          "showarrow": false,
          "text": "-0.09",
          "x": "Country_Cluster_y",
          "xref": "x",
          "y": "VideoCluster",
          "yref": "y"
         },
         {
          "font": {
           "color": "#000000"
          },
          "showarrow": false,
          "text": "0.1",
          "x": "Category_Cluster_y",
          "xref": "x",
          "y": "VideoCluster",
          "yref": "y"
         },
         {
          "font": {
           "color": "#000000"
          },
          "showarrow": false,
          "text": "nan",
          "x": "Year",
          "xref": "x",
          "y": "VideoCluster",
          "yref": "y"
         },
         {
          "font": {
           "color": "#000000"
          },
          "showarrow": false,
          "text": "0.0",
          "x": "Month",
          "xref": "x",
          "y": "VideoCluster",
          "yref": "y"
         },
         {
          "font": {
           "color": "#000000"
          },
          "showarrow": false,
          "text": "-0.07",
          "x": "Day",
          "xref": "x",
          "y": "VideoCluster",
          "yref": "y"
         },
         {
          "font": {
           "color": "#000000"
          },
          "showarrow": false,
          "text": "-0.04",
          "x": "DayOfWeek",
          "xref": "x",
          "y": "VideoCluster",
          "yref": "y"
         },
         {
          "font": {
           "color": "#000000"
          },
          "showarrow": false,
          "text": "0.01",
          "x": "DayName",
          "xref": "x",
          "y": "VideoCluster",
          "yref": "y"
         },
         {
          "font": {
           "color": "#000000"
          },
          "showarrow": false,
          "text": "0.02",
          "x": "Views_per_Sub",
          "xref": "x",
          "y": "VideoCluster",
          "yref": "y"
         },
         {
          "font": {
           "color": "#000000"
          },
          "showarrow": false,
          "text": "-0.13",
          "x": "Engagement",
          "xref": "x",
          "y": "VideoCluster",
          "yref": "y"
         },
         {
          "font": {
           "color": "#000000"
          },
          "showarrow": false,
          "text": "0.01",
          "x": "Like_per_Sub",
          "xref": "x",
          "y": "VideoCluster",
          "yref": "y"
         },
         {
          "font": {
           "color": "#000000"
          },
          "showarrow": false,
          "text": "-0.0",
          "x": "Comment_per_Sub",
          "xref": "x",
          "y": "VideoCluster",
          "yref": "y"
         },
         {
          "font": {
           "color": "#000000"
          },
          "showarrow": false,
          "text": "0.01",
          "x": "Unnamed: 0",
          "xref": "x",
          "y": "Channel_Cluster",
          "yref": "y"
         },
         {
          "font": {
           "color": "#000000"
          },
          "showarrow": false,
          "text": "0.0",
          "x": "Video ID",
          "xref": "x",
          "y": "Channel_Cluster",
          "yref": "y"
         },
         {
          "font": {
           "color": "#000000"
          },
          "showarrow": false,
          "text": "-0.0",
          "x": "Video Title",
          "xref": "x",
          "y": "Channel_Cluster",
          "yref": "y"
         },
         {
          "font": {
           "color": "#000000"
          },
          "showarrow": false,
          "text": "-0.02",
          "x": "Channel",
          "xref": "x",
          "y": "Channel_Cluster",
          "yref": "y"
         },
         {
          "font": {
           "color": "#000000"
          },
          "showarrow": false,
          "text": "-0.01",
          "x": "Published Date",
          "xref": "x",
          "y": "Channel_Cluster",
          "yref": "y"
         },
         {
          "font": {
           "color": "#000000"
          },
          "showarrow": false,
          "text": "0.21",
          "x": "Views",
          "xref": "x",
          "y": "Channel_Cluster",
          "yref": "y"
         },
         {
          "font": {
           "color": "#000000"
          },
          "showarrow": false,
          "text": "0.18",
          "x": "Likes",
          "xref": "x",
          "y": "Channel_Cluster",
          "yref": "y"
         },
         {
          "font": {
           "color": "#000000"
          },
          "showarrow": false,
          "text": "0.1",
          "x": "Comments",
          "xref": "x",
          "y": "Channel_Cluster",
          "yref": "y"
         },
         {
          "font": {
           "color": "#000000"
          },
          "showarrow": false,
          "text": "0.49",
          "x": "Subscribers",
          "xref": "x",
          "y": "Channel_Cluster",
          "yref": "y"
         },
         {
          "font": {
           "color": "#000000"
          },
          "showarrow": false,
          "text": "0.44",
          "x": "Channel Views",
          "xref": "x",
          "y": "Channel_Cluster",
          "yref": "y"
         },
         {
          "font": {
           "color": "#000000"
          },
          "showarrow": false,
          "text": "-0.02",
          "x": "Country",
          "xref": "x",
          "y": "Channel_Cluster",
          "yref": "y"
         },
         {
          "font": {
           "color": "#000000"
          },
          "showarrow": false,
          "text": "-0.02",
          "x": "Region",
          "xref": "x",
          "y": "Channel_Cluster",
          "yref": "y"
         },
         {
          "font": {
           "color": "#000000"
          },
          "showarrow": false,
          "text": "0.01",
          "x": "CategoryID",
          "xref": "x",
          "y": "Channel_Cluster",
          "yref": "y"
         },
         {
          "font": {
           "color": "#000000"
          },
          "showarrow": false,
          "text": "0.01",
          "x": "CategoryName",
          "xref": "x",
          "y": "Channel_Cluster",
          "yref": "y"
         },
         {
          "font": {
           "color": "#000000"
          },
          "showarrow": false,
          "text": "0.18",
          "x": "Cluster",
          "xref": "x",
          "y": "Channel_Cluster",
          "yref": "y"
         },
         {
          "font": {
           "color": "#000000"
          },
          "showarrow": false,
          "text": "-0.01",
          "x": "CategoryID_enc",
          "xref": "x",
          "y": "Channel_Cluster",
          "yref": "y"
         },
         {
          "font": {
           "color": "#000000"
          },
          "showarrow": false,
          "text": "-0.02",
          "x": "Country_enc",
          "xref": "x",
          "y": "Channel_Cluster",
          "yref": "y"
         },
         {
          "font": {
           "color": "#000000"
          },
          "showarrow": false,
          "text": "0.07",
          "x": "VideoCluster",
          "xref": "x",
          "y": "Channel_Cluster",
          "yref": "y"
         },
         {
          "font": {
           "color": "#000000"
          },
          "showarrow": false,
          "text": "1.0",
          "x": "Channel_Cluster",
          "xref": "x",
          "y": "Channel_Cluster",
          "yref": "y"
         },
         {
          "font": {
           "color": "#000000"
          },
          "showarrow": false,
          "text": "0.18",
          "x": "Video_Cluster",
          "xref": "x",
          "y": "Channel_Cluster",
          "yref": "y"
         },
         {
          "font": {
           "color": "#000000"
          },
          "showarrow": false,
          "text": "-0.14",
          "x": "Country_Cluster_x",
          "xref": "x",
          "y": "Channel_Cluster",
          "yref": "y"
         },
         {
          "font": {
           "color": "#000000"
          },
          "showarrow": false,
          "text": "0.03",
          "x": "Category_Cluster_x",
          "xref": "x",
          "y": "Channel_Cluster",
          "yref": "y"
         },
         {
          "font": {
           "color": "#000000"
          },
          "showarrow": false,
          "text": "-0.14",
          "x": "Country_Cluster_y",
          "xref": "x",
          "y": "Channel_Cluster",
          "yref": "y"
         },
         {
          "font": {
           "color": "#000000"
          },
          "showarrow": false,
          "text": "0.03",
          "x": "Category_Cluster_y",
          "xref": "x",
          "y": "Channel_Cluster",
          "yref": "y"
         },
         {
          "font": {
           "color": "#000000"
          },
          "showarrow": false,
          "text": "nan",
          "x": "Year",
          "xref": "x",
          "y": "Channel_Cluster",
          "yref": "y"
         },
         {
          "font": {
           "color": "#000000"
          },
          "showarrow": false,
          "text": "-0.01",
          "x": "Month",
          "xref": "x",
          "y": "Channel_Cluster",
          "yref": "y"
         },
         {
          "font": {
           "color": "#000000"
          },
          "showarrow": false,
          "text": "-0.01",
          "x": "Day",
          "xref": "x",
          "y": "Channel_Cluster",
          "yref": "y"
         },
         {
          "font": {
           "color": "#000000"
          },
          "showarrow": false,
          "text": "-0.01",
          "x": "DayOfWeek",
          "xref": "x",
          "y": "Channel_Cluster",
          "yref": "y"
         },
         {
          "font": {
           "color": "#000000"
          },
          "showarrow": false,
          "text": "-0.01",
          "x": "DayName",
          "xref": "x",
          "y": "Channel_Cluster",
          "yref": "y"
         },
         {
          "font": {
           "color": "#000000"
          },
          "showarrow": false,
          "text": "-0.01",
          "x": "Views_per_Sub",
          "xref": "x",
          "y": "Channel_Cluster",
          "yref": "y"
         },
         {
          "font": {
           "color": "#000000"
          },
          "showarrow": false,
          "text": "-0.01",
          "x": "Engagement",
          "xref": "x",
          "y": "Channel_Cluster",
          "yref": "y"
         },
         {
          "font": {
           "color": "#000000"
          },
          "showarrow": false,
          "text": "-0.01",
          "x": "Like_per_Sub",
          "xref": "x",
          "y": "Channel_Cluster",
          "yref": "y"
         },
         {
          "font": {
           "color": "#000000"
          },
          "showarrow": false,
          "text": "-0.0",
          "x": "Comment_per_Sub",
          "xref": "x",
          "y": "Channel_Cluster",
          "yref": "y"
         },
         {
          "font": {
           "color": "#000000"
          },
          "showarrow": false,
          "text": "-0.02",
          "x": "Unnamed: 0",
          "xref": "x",
          "y": "Video_Cluster",
          "yref": "y"
         },
         {
          "font": {
           "color": "#000000"
          },
          "showarrow": false,
          "text": "-0.0",
          "x": "Video ID",
          "xref": "x",
          "y": "Video_Cluster",
          "yref": "y"
         },
         {
          "font": {
           "color": "#000000"
          },
          "showarrow": false,
          "text": "-0.02",
          "x": "Video Title",
          "xref": "x",
          "y": "Video_Cluster",
          "yref": "y"
         },
         {
          "font": {
           "color": "#000000"
          },
          "showarrow": false,
          "text": "-0.01",
          "x": "Channel",
          "xref": "x",
          "y": "Video_Cluster",
          "yref": "y"
         },
         {
          "font": {
           "color": "#000000"
          },
          "showarrow": false,
          "text": "-0.18",
          "x": "Published Date",
          "xref": "x",
          "y": "Video_Cluster",
          "yref": "y"
         },
         {
          "font": {
           "color": "#000000"
          },
          "showarrow": false,
          "text": "0.55",
          "x": "Views",
          "xref": "x",
          "y": "Video_Cluster",
          "yref": "y"
         },
         {
          "font": {
           "color": "#000000"
          },
          "showarrow": false,
          "text": "0.48",
          "x": "Likes",
          "xref": "x",
          "y": "Video_Cluster",
          "yref": "y"
         },
         {
          "font": {
           "color": "#000000"
          },
          "showarrow": false,
          "text": "0.07",
          "x": "Comments",
          "xref": "x",
          "y": "Video_Cluster",
          "yref": "y"
         },
         {
          "font": {
           "color": "#000000"
          },
          "showarrow": false,
          "text": "0.1",
          "x": "Subscribers",
          "xref": "x",
          "y": "Video_Cluster",
          "yref": "y"
         },
         {
          "font": {
           "color": "#000000"
          },
          "showarrow": false,
          "text": "0.09",
          "x": "Channel Views",
          "xref": "x",
          "y": "Video_Cluster",
          "yref": "y"
         },
         {
          "font": {
           "color": "#000000"
          },
          "showarrow": false,
          "text": "0.03",
          "x": "Country",
          "xref": "x",
          "y": "Video_Cluster",
          "yref": "y"
         },
         {
          "font": {
           "color": "#000000"
          },
          "showarrow": false,
          "text": "-0.06",
          "x": "Region",
          "xref": "x",
          "y": "Video_Cluster",
          "yref": "y"
         },
         {
          "font": {
           "color": "#000000"
          },
          "showarrow": false,
          "text": "-0.04",
          "x": "CategoryID",
          "xref": "x",
          "y": "Video_Cluster",
          "yref": "y"
         },
         {
          "font": {
           "color": "#000000"
          },
          "showarrow": false,
          "text": "0.17",
          "x": "CategoryName",
          "xref": "x",
          "y": "Video_Cluster",
          "yref": "y"
         },
         {
          "font": {
           "color": "#000000"
          },
          "showarrow": false,
          "text": "0.31",
          "x": "Cluster",
          "xref": "x",
          "y": "Video_Cluster",
          "yref": "y"
         },
         {
          "font": {
           "color": "#000000"
          },
          "showarrow": false,
          "text": "-0.13",
          "x": "CategoryID_enc",
          "xref": "x",
          "y": "Video_Cluster",
          "yref": "y"
         },
         {
          "font": {
           "color": "#000000"
          },
          "showarrow": false,
          "text": "0.03",
          "x": "Country_enc",
          "xref": "x",
          "y": "Video_Cluster",
          "yref": "y"
         },
         {
          "font": {
           "color": "#000000"
          },
          "showarrow": false,
          "text": "0.26",
          "x": "VideoCluster",
          "xref": "x",
          "y": "Video_Cluster",
          "yref": "y"
         },
         {
          "font": {
           "color": "#000000"
          },
          "showarrow": false,
          "text": "0.18",
          "x": "Channel_Cluster",
          "xref": "x",
          "y": "Video_Cluster",
          "yref": "y"
         },
         {
          "font": {
           "color": "#000000"
          },
          "showarrow": false,
          "text": "1.0",
          "x": "Video_Cluster",
          "xref": "x",
          "y": "Video_Cluster",
          "yref": "y"
         },
         {
          "font": {
           "color": "#000000"
          },
          "showarrow": false,
          "text": "-0.23",
          "x": "Country_Cluster_x",
          "xref": "x",
          "y": "Video_Cluster",
          "yref": "y"
         },
         {
          "font": {
           "color": "#000000"
          },
          "showarrow": false,
          "text": "-0.0",
          "x": "Category_Cluster_x",
          "xref": "x",
          "y": "Video_Cluster",
          "yref": "y"
         },
         {
          "font": {
           "color": "#000000"
          },
          "showarrow": false,
          "text": "-0.23",
          "x": "Country_Cluster_y",
          "xref": "x",
          "y": "Video_Cluster",
          "yref": "y"
         },
         {
          "font": {
           "color": "#000000"
          },
          "showarrow": false,
          "text": "-0.0",
          "x": "Category_Cluster_y",
          "xref": "x",
          "y": "Video_Cluster",
          "yref": "y"
         },
         {
          "font": {
           "color": "#000000"
          },
          "showarrow": false,
          "text": "nan",
          "x": "Year",
          "xref": "x",
          "y": "Video_Cluster",
          "yref": "y"
         },
         {
          "font": {
           "color": "#000000"
          },
          "showarrow": false,
          "text": "-0.05",
          "x": "Month",
          "xref": "x",
          "y": "Video_Cluster",
          "yref": "y"
         },
         {
          "font": {
           "color": "#000000"
          },
          "showarrow": false,
          "text": "-0.16",
          "x": "Day",
          "xref": "x",
          "y": "Video_Cluster",
          "yref": "y"
         },
         {
          "font": {
           "color": "#000000"
          },
          "showarrow": false,
          "text": "-0.1",
          "x": "DayOfWeek",
          "xref": "x",
          "y": "Video_Cluster",
          "yref": "y"
         },
         {
          "font": {
           "color": "#000000"
          },
          "showarrow": false,
          "text": "0.04",
          "x": "DayName",
          "xref": "x",
          "y": "Video_Cluster",
          "yref": "y"
         },
         {
          "font": {
           "color": "#000000"
          },
          "showarrow": false,
          "text": "0.03",
          "x": "Views_per_Sub",
          "xref": "x",
          "y": "Video_Cluster",
          "yref": "y"
         },
         {
          "font": {
           "color": "#000000"
          },
          "showarrow": false,
          "text": "-0.14",
          "x": "Engagement",
          "xref": "x",
          "y": "Video_Cluster",
          "yref": "y"
         },
         {
          "font": {
           "color": "#000000"
          },
          "showarrow": false,
          "text": "0.01",
          "x": "Like_per_Sub",
          "xref": "x",
          "y": "Video_Cluster",
          "yref": "y"
         },
         {
          "font": {
           "color": "#000000"
          },
          "showarrow": false,
          "text": "-0.0",
          "x": "Comment_per_Sub",
          "xref": "x",
          "y": "Video_Cluster",
          "yref": "y"
         },
         {
          "font": {
           "color": "#000000"
          },
          "showarrow": false,
          "text": "-0.02",
          "x": "Unnamed: 0",
          "xref": "x",
          "y": "Country_Cluster_x",
          "yref": "y"
         },
         {
          "font": {
           "color": "#000000"
          },
          "showarrow": false,
          "text": "-0.03",
          "x": "Video ID",
          "xref": "x",
          "y": "Country_Cluster_x",
          "yref": "y"
         },
         {
          "font": {
           "color": "#000000"
          },
          "showarrow": false,
          "text": "-0.05",
          "x": "Video Title",
          "xref": "x",
          "y": "Country_Cluster_x",
          "yref": "y"
         },
         {
          "font": {
           "color": "#000000"
          },
          "showarrow": false,
          "text": "-0.04",
          "x": "Channel",
          "xref": "x",
          "y": "Country_Cluster_x",
          "yref": "y"
         },
         {
          "font": {
           "color": "#000000"
          },
          "showarrow": false,
          "text": "0.02",
          "x": "Published Date",
          "xref": "x",
          "y": "Country_Cluster_x",
          "yref": "y"
         },
         {
          "font": {
           "color": "#000000"
          },
          "showarrow": false,
          "text": "-0.22",
          "x": "Views",
          "xref": "x",
          "y": "Country_Cluster_x",
          "yref": "y"
         },
         {
          "font": {
           "color": "#000000"
          },
          "showarrow": false,
          "text": "-0.17",
          "x": "Likes",
          "xref": "x",
          "y": "Country_Cluster_x",
          "yref": "y"
         },
         {
          "font": {
           "color": "#000000"
          },
          "showarrow": false,
          "text": "-0.04",
          "x": "Comments",
          "xref": "x",
          "y": "Country_Cluster_x",
          "yref": "y"
         },
         {
          "font": {
           "color": "#000000"
          },
          "showarrow": false,
          "text": "-0.14",
          "x": "Subscribers",
          "xref": "x",
          "y": "Country_Cluster_x",
          "yref": "y"
         },
         {
          "font": {
           "color": "#000000"
          },
          "showarrow": false,
          "text": "-0.12",
          "x": "Channel Views",
          "xref": "x",
          "y": "Country_Cluster_x",
          "yref": "y"
         },
         {
          "font": {
           "color": "#000000"
          },
          "showarrow": false,
          "text": "0.05",
          "x": "Country",
          "xref": "x",
          "y": "Country_Cluster_x",
          "yref": "y"
         },
         {
          "font": {
           "color": "#000000"
          },
          "showarrow": false,
          "text": "0.05",
          "x": "Region",
          "xref": "x",
          "y": "Country_Cluster_x",
          "yref": "y"
         },
         {
          "font": {
           "color": "#000000"
          },
          "showarrow": false,
          "text": "0.03",
          "x": "CategoryID",
          "xref": "x",
          "y": "Country_Cluster_x",
          "yref": "y"
         },
         {
          "font": {
           "color": "#000000"
          },
          "showarrow": false,
          "text": "-0.05",
          "x": "CategoryName",
          "xref": "x",
          "y": "Country_Cluster_x",
          "yref": "y"
         },
         {
          "font": {
           "color": "#000000"
          },
          "showarrow": false,
          "text": "-0.13",
          "x": "Cluster",
          "xref": "x",
          "y": "Country_Cluster_x",
          "yref": "y"
         },
         {
          "font": {
           "color": "#000000"
          },
          "showarrow": false,
          "text": "0.04",
          "x": "CategoryID_enc",
          "xref": "x",
          "y": "Country_Cluster_x",
          "yref": "y"
         },
         {
          "font": {
           "color": "#000000"
          },
          "showarrow": false,
          "text": "0.05",
          "x": "Country_enc",
          "xref": "x",
          "y": "Country_Cluster_x",
          "yref": "y"
         },
         {
          "font": {
           "color": "#000000"
          },
          "showarrow": false,
          "text": "-0.09",
          "x": "VideoCluster",
          "xref": "x",
          "y": "Country_Cluster_x",
          "yref": "y"
         },
         {
          "font": {
           "color": "#000000"
          },
          "showarrow": false,
          "text": "-0.14",
          "x": "Channel_Cluster",
          "xref": "x",
          "y": "Country_Cluster_x",
          "yref": "y"
         },
         {
          "font": {
           "color": "#000000"
          },
          "showarrow": false,
          "text": "-0.23",
          "x": "Video_Cluster",
          "xref": "x",
          "y": "Country_Cluster_x",
          "yref": "y"
         },
         {
          "font": {
           "color": "#000000"
          },
          "showarrow": false,
          "text": "1.0",
          "x": "Country_Cluster_x",
          "xref": "x",
          "y": "Country_Cluster_x",
          "yref": "y"
         },
         {
          "font": {
           "color": "#000000"
          },
          "showarrow": false,
          "text": "0.03",
          "x": "Category_Cluster_x",
          "xref": "x",
          "y": "Country_Cluster_x",
          "yref": "y"
         },
         {
          "font": {
           "color": "#000000"
          },
          "showarrow": false,
          "text": "1.0",
          "x": "Country_Cluster_y",
          "xref": "x",
          "y": "Country_Cluster_x",
          "yref": "y"
         },
         {
          "font": {
           "color": "#000000"
          },
          "showarrow": false,
          "text": "0.03",
          "x": "Category_Cluster_y",
          "xref": "x",
          "y": "Country_Cluster_x",
          "yref": "y"
         },
         {
          "font": {
           "color": "#000000"
          },
          "showarrow": false,
          "text": "nan",
          "x": "Year",
          "xref": "x",
          "y": "Country_Cluster_x",
          "yref": "y"
         },
         {
          "font": {
           "color": "#000000"
          },
          "showarrow": false,
          "text": "0.02",
          "x": "Month",
          "xref": "x",
          "y": "Country_Cluster_x",
          "yref": "y"
         },
         {
          "font": {
           "color": "#000000"
          },
          "showarrow": false,
          "text": "-0.0",
          "x": "Day",
          "xref": "x",
          "y": "Country_Cluster_x",
          "yref": "y"
         },
         {
          "font": {
           "color": "#000000"
          },
          "showarrow": false,
          "text": "0.04",
          "x": "DayOfWeek",
          "xref": "x",
          "y": "Country_Cluster_x",
          "yref": "y"
         },
         {
          "font": {
           "color": "#000000"
          },
          "showarrow": false,
          "text": "-0.0",
          "x": "DayName",
          "xref": "x",
          "y": "Country_Cluster_x",
          "yref": "y"
         },
         {
          "font": {
           "color": "#000000"
          },
          "showarrow": false,
          "text": "-0.02",
          "x": "Views_per_Sub",
          "xref": "x",
          "y": "Country_Cluster_x",
          "yref": "y"
         },
         {
          "font": {
           "color": "#000000"
          },
          "showarrow": false,
          "text": "0.13",
          "x": "Engagement",
          "xref": "x",
          "y": "Country_Cluster_x",
          "yref": "y"
         },
         {
          "font": {
           "color": "#000000"
          },
          "showarrow": false,
          "text": "-0.01",
          "x": "Like_per_Sub",
          "xref": "x",
          "y": "Country_Cluster_x",
          "yref": "y"
         },
         {
          "font": {
           "color": "#000000"
          },
          "showarrow": false,
          "text": "-0.0",
          "x": "Comment_per_Sub",
          "xref": "x",
          "y": "Country_Cluster_x",
          "yref": "y"
         },
         {
          "font": {
           "color": "#000000"
          },
          "showarrow": false,
          "text": "-0.01",
          "x": "Unnamed: 0",
          "xref": "x",
          "y": "Category_Cluster_x",
          "yref": "y"
         },
         {
          "font": {
           "color": "#000000"
          },
          "showarrow": false,
          "text": "-0.01",
          "x": "Video ID",
          "xref": "x",
          "y": "Category_Cluster_x",
          "yref": "y"
         },
         {
          "font": {
           "color": "#000000"
          },
          "showarrow": false,
          "text": "-0.01",
          "x": "Video Title",
          "xref": "x",
          "y": "Category_Cluster_x",
          "yref": "y"
         },
         {
          "font": {
           "color": "#000000"
          },
          "showarrow": false,
          "text": "0.0",
          "x": "Channel",
          "xref": "x",
          "y": "Category_Cluster_x",
          "yref": "y"
         },
         {
          "font": {
           "color": "#000000"
          },
          "showarrow": false,
          "text": "0.26",
          "x": "Published Date",
          "xref": "x",
          "y": "Category_Cluster_x",
          "yref": "y"
         },
         {
          "font": {
           "color": "#000000"
          },
          "showarrow": false,
          "text": "-0.02",
          "x": "Views",
          "xref": "x",
          "y": "Category_Cluster_x",
          "yref": "y"
         },
         {
          "font": {
           "color": "#000000"
          },
          "showarrow": false,
          "text": "0.01",
          "x": "Likes",
          "xref": "x",
          "y": "Category_Cluster_x",
          "yref": "y"
         },
         {
          "font": {
           "color": "#000000"
          },
          "showarrow": false,
          "text": "-0.02",
          "x": "Comments",
          "xref": "x",
          "y": "Category_Cluster_x",
          "yref": "y"
         },
         {
          "font": {
           "color": "#000000"
          },
          "showarrow": false,
          "text": "-0.02",
          "x": "Subscribers",
          "xref": "x",
          "y": "Category_Cluster_x",
          "yref": "y"
         },
         {
          "font": {
           "color": "#000000"
          },
          "showarrow": false,
          "text": "-0.02",
          "x": "Channel Views",
          "xref": "x",
          "y": "Category_Cluster_x",
          "yref": "y"
         },
         {
          "font": {
           "color": "#000000"
          },
          "showarrow": false,
          "text": "0.01",
          "x": "Country",
          "xref": "x",
          "y": "Category_Cluster_x",
          "yref": "y"
         },
         {
          "font": {
           "color": "#000000"
          },
          "showarrow": false,
          "text": "0.0",
          "x": "Region",
          "xref": "x",
          "y": "Category_Cluster_x",
          "yref": "y"
         },
         {
          "font": {
           "color": "#000000"
          },
          "showarrow": false,
          "text": "-0.02",
          "x": "CategoryID",
          "xref": "x",
          "y": "Category_Cluster_x",
          "yref": "y"
         },
         {
          "font": {
           "color": "#000000"
          },
          "showarrow": false,
          "text": "-0.13",
          "x": "CategoryName",
          "xref": "x",
          "y": "Category_Cluster_x",
          "yref": "y"
         },
         {
          "font": {
           "color": "#000000"
          },
          "showarrow": false,
          "text": "-0.0",
          "x": "Cluster",
          "xref": "x",
          "y": "Category_Cluster_x",
          "yref": "y"
         },
         {
          "font": {
           "color": "#000000"
          },
          "showarrow": false,
          "text": "-0.35",
          "x": "CategoryID_enc",
          "xref": "x",
          "y": "Category_Cluster_x",
          "yref": "y"
         },
         {
          "font": {
           "color": "#000000"
          },
          "showarrow": false,
          "text": "0.01",
          "x": "Country_enc",
          "xref": "x",
          "y": "Category_Cluster_x",
          "yref": "y"
         },
         {
          "font": {
           "color": "#000000"
          },
          "showarrow": false,
          "text": "0.1",
          "x": "VideoCluster",
          "xref": "x",
          "y": "Category_Cluster_x",
          "yref": "y"
         },
         {
          "font": {
           "color": "#000000"
          },
          "showarrow": false,
          "text": "0.03",
          "x": "Channel_Cluster",
          "xref": "x",
          "y": "Category_Cluster_x",
          "yref": "y"
         },
         {
          "font": {
           "color": "#000000"
          },
          "showarrow": false,
          "text": "-0.0",
          "x": "Video_Cluster",
          "xref": "x",
          "y": "Category_Cluster_x",
          "yref": "y"
         },
         {
          "font": {
           "color": "#000000"
          },
          "showarrow": false,
          "text": "0.03",
          "x": "Country_Cluster_x",
          "xref": "x",
          "y": "Category_Cluster_x",
          "yref": "y"
         },
         {
          "font": {
           "color": "#000000"
          },
          "showarrow": false,
          "text": "1.0",
          "x": "Category_Cluster_x",
          "xref": "x",
          "y": "Category_Cluster_x",
          "yref": "y"
         },
         {
          "font": {
           "color": "#000000"
          },
          "showarrow": false,
          "text": "0.03",
          "x": "Country_Cluster_y",
          "xref": "x",
          "y": "Category_Cluster_x",
          "yref": "y"
         },
         {
          "font": {
           "color": "#000000"
          },
          "showarrow": false,
          "text": "1.0",
          "x": "Category_Cluster_y",
          "xref": "x",
          "y": "Category_Cluster_x",
          "yref": "y"
         },
         {
          "font": {
           "color": "#000000"
          },
          "showarrow": false,
          "text": "nan",
          "x": "Year",
          "xref": "x",
          "y": "Category_Cluster_x",
          "yref": "y"
         },
         {
          "font": {
           "color": "#000000"
          },
          "showarrow": false,
          "text": "0.14",
          "x": "Month",
          "xref": "x",
          "y": "Category_Cluster_x",
          "yref": "y"
         },
         {
          "font": {
           "color": "#000000"
          },
          "showarrow": false,
          "text": "0.16",
          "x": "Day",
          "xref": "x",
          "y": "Category_Cluster_x",
          "yref": "y"
         },
         {
          "font": {
           "color": "#000000"
          },
          "showarrow": false,
          "text": "0.05",
          "x": "DayOfWeek",
          "xref": "x",
          "y": "Category_Cluster_x",
          "yref": "y"
         },
         {
          "font": {
           "color": "#000000"
          },
          "showarrow": false,
          "text": "-0.01",
          "x": "DayName",
          "xref": "x",
          "y": "Category_Cluster_x",
          "yref": "y"
         },
         {
          "font": {
           "color": "#000000"
          },
          "showarrow": false,
          "text": "-0.04",
          "x": "Views_per_Sub",
          "xref": "x",
          "y": "Category_Cluster_x",
          "yref": "y"
         },
         {
          "font": {
           "color": "#000000"
          },
          "showarrow": false,
          "text": "0.11",
          "x": "Engagement",
          "xref": "x",
          "y": "Category_Cluster_x",
          "yref": "y"
         },
         {
          "font": {
           "color": "#000000"
          },
          "showarrow": false,
          "text": "-0.03",
          "x": "Like_per_Sub",
          "xref": "x",
          "y": "Category_Cluster_x",
          "yref": "y"
         },
         {
          "font": {
           "color": "#000000"
          },
          "showarrow": false,
          "text": "-0.02",
          "x": "Comment_per_Sub",
          "xref": "x",
          "y": "Category_Cluster_x",
          "yref": "y"
         },
         {
          "font": {
           "color": "#000000"
          },
          "showarrow": false,
          "text": "-0.02",
          "x": "Unnamed: 0",
          "xref": "x",
          "y": "Country_Cluster_y",
          "yref": "y"
         },
         {
          "font": {
           "color": "#000000"
          },
          "showarrow": false,
          "text": "-0.03",
          "x": "Video ID",
          "xref": "x",
          "y": "Country_Cluster_y",
          "yref": "y"
         },
         {
          "font": {
           "color": "#000000"
          },
          "showarrow": false,
          "text": "-0.05",
          "x": "Video Title",
          "xref": "x",
          "y": "Country_Cluster_y",
          "yref": "y"
         },
         {
          "font": {
           "color": "#000000"
          },
          "showarrow": false,
          "text": "-0.04",
          "x": "Channel",
          "xref": "x",
          "y": "Country_Cluster_y",
          "yref": "y"
         },
         {
          "font": {
           "color": "#000000"
          },
          "showarrow": false,
          "text": "0.02",
          "x": "Published Date",
          "xref": "x",
          "y": "Country_Cluster_y",
          "yref": "y"
         },
         {
          "font": {
           "color": "#000000"
          },
          "showarrow": false,
          "text": "-0.22",
          "x": "Views",
          "xref": "x",
          "y": "Country_Cluster_y",
          "yref": "y"
         },
         {
          "font": {
           "color": "#000000"
          },
          "showarrow": false,
          "text": "-0.17",
          "x": "Likes",
          "xref": "x",
          "y": "Country_Cluster_y",
          "yref": "y"
         },
         {
          "font": {
           "color": "#000000"
          },
          "showarrow": false,
          "text": "-0.04",
          "x": "Comments",
          "xref": "x",
          "y": "Country_Cluster_y",
          "yref": "y"
         },
         {
          "font": {
           "color": "#000000"
          },
          "showarrow": false,
          "text": "-0.14",
          "x": "Subscribers",
          "xref": "x",
          "y": "Country_Cluster_y",
          "yref": "y"
         },
         {
          "font": {
           "color": "#000000"
          },
          "showarrow": false,
          "text": "-0.12",
          "x": "Channel Views",
          "xref": "x",
          "y": "Country_Cluster_y",
          "yref": "y"
         },
         {
          "font": {
           "color": "#000000"
          },
          "showarrow": false,
          "text": "0.05",
          "x": "Country",
          "xref": "x",
          "y": "Country_Cluster_y",
          "yref": "y"
         },
         {
          "font": {
           "color": "#000000"
          },
          "showarrow": false,
          "text": "0.05",
          "x": "Region",
          "xref": "x",
          "y": "Country_Cluster_y",
          "yref": "y"
         },
         {
          "font": {
           "color": "#000000"
          },
          "showarrow": false,
          "text": "0.03",
          "x": "CategoryID",
          "xref": "x",
          "y": "Country_Cluster_y",
          "yref": "y"
         },
         {
          "font": {
           "color": "#000000"
          },
          "showarrow": false,
          "text": "-0.05",
          "x": "CategoryName",
          "xref": "x",
          "y": "Country_Cluster_y",
          "yref": "y"
         },
         {
          "font": {
           "color": "#000000"
          },
          "showarrow": false,
          "text": "-0.13",
          "x": "Cluster",
          "xref": "x",
          "y": "Country_Cluster_y",
          "yref": "y"
         },
         {
          "font": {
           "color": "#000000"
          },
          "showarrow": false,
          "text": "0.04",
          "x": "CategoryID_enc",
          "xref": "x",
          "y": "Country_Cluster_y",
          "yref": "y"
         },
         {
          "font": {
           "color": "#000000"
          },
          "showarrow": false,
          "text": "0.05",
          "x": "Country_enc",
          "xref": "x",
          "y": "Country_Cluster_y",
          "yref": "y"
         },
         {
          "font": {
           "color": "#000000"
          },
          "showarrow": false,
          "text": "-0.09",
          "x": "VideoCluster",
          "xref": "x",
          "y": "Country_Cluster_y",
          "yref": "y"
         },
         {
          "font": {
           "color": "#000000"
          },
          "showarrow": false,
          "text": "-0.14",
          "x": "Channel_Cluster",
          "xref": "x",
          "y": "Country_Cluster_y",
          "yref": "y"
         },
         {
          "font": {
           "color": "#000000"
          },
          "showarrow": false,
          "text": "-0.23",
          "x": "Video_Cluster",
          "xref": "x",
          "y": "Country_Cluster_y",
          "yref": "y"
         },
         {
          "font": {
           "color": "#000000"
          },
          "showarrow": false,
          "text": "1.0",
          "x": "Country_Cluster_x",
          "xref": "x",
          "y": "Country_Cluster_y",
          "yref": "y"
         },
         {
          "font": {
           "color": "#000000"
          },
          "showarrow": false,
          "text": "0.03",
          "x": "Category_Cluster_x",
          "xref": "x",
          "y": "Country_Cluster_y",
          "yref": "y"
         },
         {
          "font": {
           "color": "#000000"
          },
          "showarrow": false,
          "text": "1.0",
          "x": "Country_Cluster_y",
          "xref": "x",
          "y": "Country_Cluster_y",
          "yref": "y"
         },
         {
          "font": {
           "color": "#000000"
          },
          "showarrow": false,
          "text": "0.03",
          "x": "Category_Cluster_y",
          "xref": "x",
          "y": "Country_Cluster_y",
          "yref": "y"
         },
         {
          "font": {
           "color": "#000000"
          },
          "showarrow": false,
          "text": "nan",
          "x": "Year",
          "xref": "x",
          "y": "Country_Cluster_y",
          "yref": "y"
         },
         {
          "font": {
           "color": "#000000"
          },
          "showarrow": false,
          "text": "0.02",
          "x": "Month",
          "xref": "x",
          "y": "Country_Cluster_y",
          "yref": "y"
         },
         {
          "font": {
           "color": "#000000"
          },
          "showarrow": false,
          "text": "-0.0",
          "x": "Day",
          "xref": "x",
          "y": "Country_Cluster_y",
          "yref": "y"
         },
         {
          "font": {
           "color": "#000000"
          },
          "showarrow": false,
          "text": "0.04",
          "x": "DayOfWeek",
          "xref": "x",
          "y": "Country_Cluster_y",
          "yref": "y"
         },
         {
          "font": {
           "color": "#000000"
          },
          "showarrow": false,
          "text": "-0.0",
          "x": "DayName",
          "xref": "x",
          "y": "Country_Cluster_y",
          "yref": "y"
         },
         {
          "font": {
           "color": "#000000"
          },
          "showarrow": false,
          "text": "-0.02",
          "x": "Views_per_Sub",
          "xref": "x",
          "y": "Country_Cluster_y",
          "yref": "y"
         },
         {
          "font": {
           "color": "#000000"
          },
          "showarrow": false,
          "text": "0.13",
          "x": "Engagement",
          "xref": "x",
          "y": "Country_Cluster_y",
          "yref": "y"
         },
         {
          "font": {
           "color": "#000000"
          },
          "showarrow": false,
          "text": "-0.01",
          "x": "Like_per_Sub",
          "xref": "x",
          "y": "Country_Cluster_y",
          "yref": "y"
         },
         {
          "font": {
           "color": "#000000"
          },
          "showarrow": false,
          "text": "-0.0",
          "x": "Comment_per_Sub",
          "xref": "x",
          "y": "Country_Cluster_y",
          "yref": "y"
         },
         {
          "font": {
           "color": "#000000"
          },
          "showarrow": false,
          "text": "-0.01",
          "x": "Unnamed: 0",
          "xref": "x",
          "y": "Category_Cluster_y",
          "yref": "y"
         },
         {
          "font": {
           "color": "#000000"
          },
          "showarrow": false,
          "text": "-0.01",
          "x": "Video ID",
          "xref": "x",
          "y": "Category_Cluster_y",
          "yref": "y"
         },
         {
          "font": {
           "color": "#000000"
          },
          "showarrow": false,
          "text": "-0.01",
          "x": "Video Title",
          "xref": "x",
          "y": "Category_Cluster_y",
          "yref": "y"
         },
         {
          "font": {
           "color": "#000000"
          },
          "showarrow": false,
          "text": "0.0",
          "x": "Channel",
          "xref": "x",
          "y": "Category_Cluster_y",
          "yref": "y"
         },
         {
          "font": {
           "color": "#000000"
          },
          "showarrow": false,
          "text": "0.26",
          "x": "Published Date",
          "xref": "x",
          "y": "Category_Cluster_y",
          "yref": "y"
         },
         {
          "font": {
           "color": "#000000"
          },
          "showarrow": false,
          "text": "-0.02",
          "x": "Views",
          "xref": "x",
          "y": "Category_Cluster_y",
          "yref": "y"
         },
         {
          "font": {
           "color": "#000000"
          },
          "showarrow": false,
          "text": "0.01",
          "x": "Likes",
          "xref": "x",
          "y": "Category_Cluster_y",
          "yref": "y"
         },
         {
          "font": {
           "color": "#000000"
          },
          "showarrow": false,
          "text": "-0.02",
          "x": "Comments",
          "xref": "x",
          "y": "Category_Cluster_y",
          "yref": "y"
         },
         {
          "font": {
           "color": "#000000"
          },
          "showarrow": false,
          "text": "-0.02",
          "x": "Subscribers",
          "xref": "x",
          "y": "Category_Cluster_y",
          "yref": "y"
         },
         {
          "font": {
           "color": "#000000"
          },
          "showarrow": false,
          "text": "-0.02",
          "x": "Channel Views",
          "xref": "x",
          "y": "Category_Cluster_y",
          "yref": "y"
         },
         {
          "font": {
           "color": "#000000"
          },
          "showarrow": false,
          "text": "0.01",
          "x": "Country",
          "xref": "x",
          "y": "Category_Cluster_y",
          "yref": "y"
         },
         {
          "font": {
           "color": "#000000"
          },
          "showarrow": false,
          "text": "0.0",
          "x": "Region",
          "xref": "x",
          "y": "Category_Cluster_y",
          "yref": "y"
         },
         {
          "font": {
           "color": "#000000"
          },
          "showarrow": false,
          "text": "-0.02",
          "x": "CategoryID",
          "xref": "x",
          "y": "Category_Cluster_y",
          "yref": "y"
         },
         {
          "font": {
           "color": "#000000"
          },
          "showarrow": false,
          "text": "-0.13",
          "x": "CategoryName",
          "xref": "x",
          "y": "Category_Cluster_y",
          "yref": "y"
         },
         {
          "font": {
           "color": "#000000"
          },
          "showarrow": false,
          "text": "-0.0",
          "x": "Cluster",
          "xref": "x",
          "y": "Category_Cluster_y",
          "yref": "y"
         },
         {
          "font": {
           "color": "#000000"
          },
          "showarrow": false,
          "text": "-0.35",
          "x": "CategoryID_enc",
          "xref": "x",
          "y": "Category_Cluster_y",
          "yref": "y"
         },
         {
          "font": {
           "color": "#000000"
          },
          "showarrow": false,
          "text": "0.01",
          "x": "Country_enc",
          "xref": "x",
          "y": "Category_Cluster_y",
          "yref": "y"
         },
         {
          "font": {
           "color": "#000000"
          },
          "showarrow": false,
          "text": "0.1",
          "x": "VideoCluster",
          "xref": "x",
          "y": "Category_Cluster_y",
          "yref": "y"
         },
         {
          "font": {
           "color": "#000000"
          },
          "showarrow": false,
          "text": "0.03",
          "x": "Channel_Cluster",
          "xref": "x",
          "y": "Category_Cluster_y",
          "yref": "y"
         },
         {
          "font": {
           "color": "#000000"
          },
          "showarrow": false,
          "text": "-0.0",
          "x": "Video_Cluster",
          "xref": "x",
          "y": "Category_Cluster_y",
          "yref": "y"
         },
         {
          "font": {
           "color": "#000000"
          },
          "showarrow": false,
          "text": "0.03",
          "x": "Country_Cluster_x",
          "xref": "x",
          "y": "Category_Cluster_y",
          "yref": "y"
         },
         {
          "font": {
           "color": "#000000"
          },
          "showarrow": false,
          "text": "1.0",
          "x": "Category_Cluster_x",
          "xref": "x",
          "y": "Category_Cluster_y",
          "yref": "y"
         },
         {
          "font": {
           "color": "#000000"
          },
          "showarrow": false,
          "text": "0.03",
          "x": "Country_Cluster_y",
          "xref": "x",
          "y": "Category_Cluster_y",
          "yref": "y"
         },
         {
          "font": {
           "color": "#000000"
          },
          "showarrow": false,
          "text": "1.0",
          "x": "Category_Cluster_y",
          "xref": "x",
          "y": "Category_Cluster_y",
          "yref": "y"
         },
         {
          "font": {
           "color": "#000000"
          },
          "showarrow": false,
          "text": "nan",
          "x": "Year",
          "xref": "x",
          "y": "Category_Cluster_y",
          "yref": "y"
         },
         {
          "font": {
           "color": "#000000"
          },
          "showarrow": false,
          "text": "0.14",
          "x": "Month",
          "xref": "x",
          "y": "Category_Cluster_y",
          "yref": "y"
         },
         {
          "font": {
           "color": "#000000"
          },
          "showarrow": false,
          "text": "0.16",
          "x": "Day",
          "xref": "x",
          "y": "Category_Cluster_y",
          "yref": "y"
         },
         {
          "font": {
           "color": "#000000"
          },
          "showarrow": false,
          "text": "0.05",
          "x": "DayOfWeek",
          "xref": "x",
          "y": "Category_Cluster_y",
          "yref": "y"
         },
         {
          "font": {
           "color": "#000000"
          },
          "showarrow": false,
          "text": "-0.01",
          "x": "DayName",
          "xref": "x",
          "y": "Category_Cluster_y",
          "yref": "y"
         },
         {
          "font": {
           "color": "#000000"
          },
          "showarrow": false,
          "text": "-0.04",
          "x": "Views_per_Sub",
          "xref": "x",
          "y": "Category_Cluster_y",
          "yref": "y"
         },
         {
          "font": {
           "color": "#000000"
          },
          "showarrow": false,
          "text": "0.11",
          "x": "Engagement",
          "xref": "x",
          "y": "Category_Cluster_y",
          "yref": "y"
         },
         {
          "font": {
           "color": "#000000"
          },
          "showarrow": false,
          "text": "-0.03",
          "x": "Like_per_Sub",
          "xref": "x",
          "y": "Category_Cluster_y",
          "yref": "y"
         },
         {
          "font": {
           "color": "#000000"
          },
          "showarrow": false,
          "text": "-0.02",
          "x": "Comment_per_Sub",
          "xref": "x",
          "y": "Category_Cluster_y",
          "yref": "y"
         },
         {
          "font": {
           "color": "#000000"
          },
          "showarrow": false,
          "text": "nan",
          "x": "Unnamed: 0",
          "xref": "x",
          "y": "Year",
          "yref": "y"
         },
         {
          "font": {
           "color": "#000000"
          },
          "showarrow": false,
          "text": "nan",
          "x": "Video ID",
          "xref": "x",
          "y": "Year",
          "yref": "y"
         },
         {
          "font": {
           "color": "#000000"
          },
          "showarrow": false,
          "text": "nan",
          "x": "Video Title",
          "xref": "x",
          "y": "Year",
          "yref": "y"
         },
         {
          "font": {
           "color": "#000000"
          },
          "showarrow": false,
          "text": "nan",
          "x": "Channel",
          "xref": "x",
          "y": "Year",
          "yref": "y"
         },
         {
          "font": {
           "color": "#000000"
          },
          "showarrow": false,
          "text": "nan",
          "x": "Published Date",
          "xref": "x",
          "y": "Year",
          "yref": "y"
         },
         {
          "font": {
           "color": "#000000"
          },
          "showarrow": false,
          "text": "nan",
          "x": "Views",
          "xref": "x",
          "y": "Year",
          "yref": "y"
         },
         {
          "font": {
           "color": "#000000"
          },
          "showarrow": false,
          "text": "nan",
          "x": "Likes",
          "xref": "x",
          "y": "Year",
          "yref": "y"
         },
         {
          "font": {
           "color": "#000000"
          },
          "showarrow": false,
          "text": "nan",
          "x": "Comments",
          "xref": "x",
          "y": "Year",
          "yref": "y"
         },
         {
          "font": {
           "color": "#000000"
          },
          "showarrow": false,
          "text": "nan",
          "x": "Subscribers",
          "xref": "x",
          "y": "Year",
          "yref": "y"
         },
         {
          "font": {
           "color": "#000000"
          },
          "showarrow": false,
          "text": "nan",
          "x": "Channel Views",
          "xref": "x",
          "y": "Year",
          "yref": "y"
         },
         {
          "font": {
           "color": "#000000"
          },
          "showarrow": false,
          "text": "nan",
          "x": "Country",
          "xref": "x",
          "y": "Year",
          "yref": "y"
         },
         {
          "font": {
           "color": "#000000"
          },
          "showarrow": false,
          "text": "nan",
          "x": "Region",
          "xref": "x",
          "y": "Year",
          "yref": "y"
         },
         {
          "font": {
           "color": "#000000"
          },
          "showarrow": false,
          "text": "nan",
          "x": "CategoryID",
          "xref": "x",
          "y": "Year",
          "yref": "y"
         },
         {
          "font": {
           "color": "#000000"
          },
          "showarrow": false,
          "text": "nan",
          "x": "CategoryName",
          "xref": "x",
          "y": "Year",
          "yref": "y"
         },
         {
          "font": {
           "color": "#000000"
          },
          "showarrow": false,
          "text": "nan",
          "x": "Cluster",
          "xref": "x",
          "y": "Year",
          "yref": "y"
         },
         {
          "font": {
           "color": "#000000"
          },
          "showarrow": false,
          "text": "nan",
          "x": "CategoryID_enc",
          "xref": "x",
          "y": "Year",
          "yref": "y"
         },
         {
          "font": {
           "color": "#000000"
          },
          "showarrow": false,
          "text": "nan",
          "x": "Country_enc",
          "xref": "x",
          "y": "Year",
          "yref": "y"
         },
         {
          "font": {
           "color": "#000000"
          },
          "showarrow": false,
          "text": "nan",
          "x": "VideoCluster",
          "xref": "x",
          "y": "Year",
          "yref": "y"
         },
         {
          "font": {
           "color": "#000000"
          },
          "showarrow": false,
          "text": "nan",
          "x": "Channel_Cluster",
          "xref": "x",
          "y": "Year",
          "yref": "y"
         },
         {
          "font": {
           "color": "#000000"
          },
          "showarrow": false,
          "text": "nan",
          "x": "Video_Cluster",
          "xref": "x",
          "y": "Year",
          "yref": "y"
         },
         {
          "font": {
           "color": "#000000"
          },
          "showarrow": false,
          "text": "nan",
          "x": "Country_Cluster_x",
          "xref": "x",
          "y": "Year",
          "yref": "y"
         },
         {
          "font": {
           "color": "#000000"
          },
          "showarrow": false,
          "text": "nan",
          "x": "Category_Cluster_x",
          "xref": "x",
          "y": "Year",
          "yref": "y"
         },
         {
          "font": {
           "color": "#000000"
          },
          "showarrow": false,
          "text": "nan",
          "x": "Country_Cluster_y",
          "xref": "x",
          "y": "Year",
          "yref": "y"
         },
         {
          "font": {
           "color": "#000000"
          },
          "showarrow": false,
          "text": "nan",
          "x": "Category_Cluster_y",
          "xref": "x",
          "y": "Year",
          "yref": "y"
         },
         {
          "font": {
           "color": "#000000"
          },
          "showarrow": false,
          "text": "nan",
          "x": "Year",
          "xref": "x",
          "y": "Year",
          "yref": "y"
         },
         {
          "font": {
           "color": "#000000"
          },
          "showarrow": false,
          "text": "nan",
          "x": "Month",
          "xref": "x",
          "y": "Year",
          "yref": "y"
         },
         {
          "font": {
           "color": "#000000"
          },
          "showarrow": false,
          "text": "nan",
          "x": "Day",
          "xref": "x",
          "y": "Year",
          "yref": "y"
         },
         {
          "font": {
           "color": "#000000"
          },
          "showarrow": false,
          "text": "nan",
          "x": "DayOfWeek",
          "xref": "x",
          "y": "Year",
          "yref": "y"
         },
         {
          "font": {
           "color": "#000000"
          },
          "showarrow": false,
          "text": "nan",
          "x": "DayName",
          "xref": "x",
          "y": "Year",
          "yref": "y"
         },
         {
          "font": {
           "color": "#000000"
          },
          "showarrow": false,
          "text": "nan",
          "x": "Views_per_Sub",
          "xref": "x",
          "y": "Year",
          "yref": "y"
         },
         {
          "font": {
           "color": "#000000"
          },
          "showarrow": false,
          "text": "nan",
          "x": "Engagement",
          "xref": "x",
          "y": "Year",
          "yref": "y"
         },
         {
          "font": {
           "color": "#000000"
          },
          "showarrow": false,
          "text": "nan",
          "x": "Like_per_Sub",
          "xref": "x",
          "y": "Year",
          "yref": "y"
         },
         {
          "font": {
           "color": "#000000"
          },
          "showarrow": false,
          "text": "nan",
          "x": "Comment_per_Sub",
          "xref": "x",
          "y": "Year",
          "yref": "y"
         },
         {
          "font": {
           "color": "#000000"
          },
          "showarrow": false,
          "text": "0.0",
          "x": "Unnamed: 0",
          "xref": "x",
          "y": "Month",
          "yref": "y"
         },
         {
          "font": {
           "color": "#000000"
          },
          "showarrow": false,
          "text": "0.02",
          "x": "Video ID",
          "xref": "x",
          "y": "Month",
          "yref": "y"
         },
         {
          "font": {
           "color": "#000000"
          },
          "showarrow": false,
          "text": "0.01",
          "x": "Video Title",
          "xref": "x",
          "y": "Month",
          "yref": "y"
         },
         {
          "font": {
           "color": "#000000"
          },
          "showarrow": false,
          "text": "0.0",
          "x": "Channel",
          "xref": "x",
          "y": "Month",
          "yref": "y"
         },
         {
          "font": {
           "color": "#000000"
          },
          "showarrow": false,
          "text": "0.66",
          "x": "Published Date",
          "xref": "x",
          "y": "Month",
          "yref": "y"
         },
         {
          "font": {
           "color": "#000000"
          },
          "showarrow": false,
          "text": "-0.07",
          "x": "Views",
          "xref": "x",
          "y": "Month",
          "yref": "y"
         },
         {
          "font": {
           "color": "#000000"
          },
          "showarrow": false,
          "text": "-0.07",
          "x": "Likes",
          "xref": "x",
          "y": "Month",
          "yref": "y"
         },
         {
          "font": {
           "color": "#000000"
          },
          "showarrow": false,
          "text": "-0.05",
          "x": "Comments",
          "xref": "x",
          "y": "Month",
          "yref": "y"
         },
         {
          "font": {
           "color": "#000000"
          },
          "showarrow": false,
          "text": "-0.03",
          "x": "Subscribers",
          "xref": "x",
          "y": "Month",
          "yref": "y"
         },
         {
          "font": {
           "color": "#000000"
          },
          "showarrow": false,
          "text": "-0.03",
          "x": "Channel Views",
          "xref": "x",
          "y": "Month",
          "yref": "y"
         },
         {
          "font": {
           "color": "#000000"
          },
          "showarrow": false,
          "text": "-0.01",
          "x": "Country",
          "xref": "x",
          "y": "Month",
          "yref": "y"
         },
         {
          "font": {
           "color": "#000000"
          },
          "showarrow": false,
          "text": "-0.01",
          "x": "Region",
          "xref": "x",
          "y": "Month",
          "yref": "y"
         },
         {
          "font": {
           "color": "#000000"
          },
          "showarrow": false,
          "text": "0.05",
          "x": "CategoryID",
          "xref": "x",
          "y": "Month",
          "yref": "y"
         },
         {
          "font": {
           "color": "#000000"
          },
          "showarrow": false,
          "text": "-0.04",
          "x": "CategoryName",
          "xref": "x",
          "y": "Month",
          "yref": "y"
         },
         {
          "font": {
           "color": "#000000"
          },
          "showarrow": false,
          "text": "-0.07",
          "x": "Cluster",
          "xref": "x",
          "y": "Month",
          "yref": "y"
         },
         {
          "font": {
           "color": "#000000"
          },
          "showarrow": false,
          "text": "-0.05",
          "x": "CategoryID_enc",
          "xref": "x",
          "y": "Month",
          "yref": "y"
         },
         {
          "font": {
           "color": "#000000"
          },
          "showarrow": false,
          "text": "-0.01",
          "x": "Country_enc",
          "xref": "x",
          "y": "Month",
          "yref": "y"
         },
         {
          "font": {
           "color": "#000000"
          },
          "showarrow": false,
          "text": "0.0",
          "x": "VideoCluster",
          "xref": "x",
          "y": "Month",
          "yref": "y"
         },
         {
          "font": {
           "color": "#000000"
          },
          "showarrow": false,
          "text": "-0.01",
          "x": "Channel_Cluster",
          "xref": "x",
          "y": "Month",
          "yref": "y"
         },
         {
          "font": {
           "color": "#000000"
          },
          "showarrow": false,
          "text": "-0.05",
          "x": "Video_Cluster",
          "xref": "x",
          "y": "Month",
          "yref": "y"
         },
         {
          "font": {
           "color": "#000000"
          },
          "showarrow": false,
          "text": "0.02",
          "x": "Country_Cluster_x",
          "xref": "x",
          "y": "Month",
          "yref": "y"
         },
         {
          "font": {
           "color": "#000000"
          },
          "showarrow": false,
          "text": "0.14",
          "x": "Category_Cluster_x",
          "xref": "x",
          "y": "Month",
          "yref": "y"
         },
         {
          "font": {
           "color": "#000000"
          },
          "showarrow": false,
          "text": "0.02",
          "x": "Country_Cluster_y",
          "xref": "x",
          "y": "Month",
          "yref": "y"
         },
         {
          "font": {
           "color": "#000000"
          },
          "showarrow": false,
          "text": "0.14",
          "x": "Category_Cluster_y",
          "xref": "x",
          "y": "Month",
          "yref": "y"
         },
         {
          "font": {
           "color": "#000000"
          },
          "showarrow": false,
          "text": "nan",
          "x": "Year",
          "xref": "x",
          "y": "Month",
          "yref": "y"
         },
         {
          "font": {
           "color": "#000000"
          },
          "showarrow": false,
          "text": "1.0",
          "x": "Month",
          "xref": "x",
          "y": "Month",
          "yref": "y"
         },
         {
          "font": {
           "color": "#000000"
          },
          "showarrow": false,
          "text": "-0.33",
          "x": "Day",
          "xref": "x",
          "y": "Month",
          "yref": "y"
         },
         {
          "font": {
           "color": "#000000"
          },
          "showarrow": false,
          "text": "0.05",
          "x": "DayOfWeek",
          "xref": "x",
          "y": "Month",
          "yref": "y"
         },
         {
          "font": {
           "color": "#000000"
          },
          "showarrow": false,
          "text": "0.0",
          "x": "DayName",
          "xref": "x",
          "y": "Month",
          "yref": "y"
         },
         {
          "font": {
           "color": "#000000"
          },
          "showarrow": false,
          "text": "-0.05",
          "x": "Views_per_Sub",
          "xref": "x",
          "y": "Month",
          "yref": "y"
         },
         {
          "font": {
           "color": "#000000"
          },
          "showarrow": false,
          "text": "0.04",
          "x": "Engagement",
          "xref": "x",
          "y": "Month",
          "yref": "y"
         },
         {
          "font": {
           "color": "#000000"
          },
          "showarrow": false,
          "text": "-0.03",
          "x": "Like_per_Sub",
          "xref": "x",
          "y": "Month",
          "yref": "y"
         },
         {
          "font": {
           "color": "#000000"
          },
          "showarrow": false,
          "text": "0.0",
          "x": "Comment_per_Sub",
          "xref": "x",
          "y": "Month",
          "yref": "y"
         },
         {
          "font": {
           "color": "#000000"
          },
          "showarrow": false,
          "text": "-0.0",
          "x": "Unnamed: 0",
          "xref": "x",
          "y": "Day",
          "yref": "y"
         },
         {
          "font": {
           "color": "#000000"
          },
          "showarrow": false,
          "text": "-0.0",
          "x": "Video ID",
          "xref": "x",
          "y": "Day",
          "yref": "y"
         },
         {
          "font": {
           "color": "#000000"
          },
          "showarrow": false,
          "text": "-0.0",
          "x": "Video Title",
          "xref": "x",
          "y": "Day",
          "yref": "y"
         },
         {
          "font": {
           "color": "#000000"
          },
          "showarrow": false,
          "text": "0.01",
          "x": "Channel",
          "xref": "x",
          "y": "Day",
          "yref": "y"
         },
         {
          "font": {
           "color": "#000000"
          },
          "showarrow": false,
          "text": "0.49",
          "x": "Published Date",
          "xref": "x",
          "y": "Day",
          "yref": "y"
         },
         {
          "font": {
           "color": "#000000"
          },
          "showarrow": false,
          "text": "-0.17",
          "x": "Views",
          "xref": "x",
          "y": "Day",
          "yref": "y"
         },
         {
          "font": {
           "color": "#000000"
          },
          "showarrow": false,
          "text": "-0.14",
          "x": "Likes",
          "xref": "x",
          "y": "Day",
          "yref": "y"
         },
         {
          "font": {
           "color": "#000000"
          },
          "showarrow": false,
          "text": "-0.01",
          "x": "Comments",
          "xref": "x",
          "y": "Day",
          "yref": "y"
         },
         {
          "font": {
           "color": "#000000"
          },
          "showarrow": false,
          "text": "-0.0",
          "x": "Subscribers",
          "xref": "x",
          "y": "Day",
          "yref": "y"
         },
         {
          "font": {
           "color": "#000000"
          },
          "showarrow": false,
          "text": "-0.02",
          "x": "Channel Views",
          "xref": "x",
          "y": "Day",
          "yref": "y"
         },
         {
          "font": {
           "color": "#000000"
          },
          "showarrow": false,
          "text": "-0.04",
          "x": "Country",
          "xref": "x",
          "y": "Day",
          "yref": "y"
         },
         {
          "font": {
           "color": "#000000"
          },
          "showarrow": false,
          "text": "-0.01",
          "x": "Region",
          "xref": "x",
          "y": "Day",
          "yref": "y"
         },
         {
          "font": {
           "color": "#000000"
          },
          "showarrow": false,
          "text": "0.13",
          "x": "CategoryID",
          "xref": "x",
          "y": "Day",
          "yref": "y"
         },
         {
          "font": {
           "color": "#000000"
          },
          "showarrow": false,
          "text": "-0.22",
          "x": "CategoryName",
          "xref": "x",
          "y": "Day",
          "yref": "y"
         },
         {
          "font": {
           "color": "#000000"
          },
          "showarrow": false,
          "text": "-0.1",
          "x": "Cluster",
          "xref": "x",
          "y": "Day",
          "yref": "y"
         },
         {
          "font": {
           "color": "#000000"
          },
          "showarrow": false,
          "text": "-0.01",
          "x": "CategoryID_enc",
          "xref": "x",
          "y": "Day",
          "yref": "y"
         },
         {
          "font": {
           "color": "#000000"
          },
          "showarrow": false,
          "text": "-0.04",
          "x": "Country_enc",
          "xref": "x",
          "y": "Day",
          "yref": "y"
         },
         {
          "font": {
           "color": "#000000"
          },
          "showarrow": false,
          "text": "-0.07",
          "x": "VideoCluster",
          "xref": "x",
          "y": "Day",
          "yref": "y"
         },
         {
          "font": {
           "color": "#000000"
          },
          "showarrow": false,
          "text": "-0.01",
          "x": "Channel_Cluster",
          "xref": "x",
          "y": "Day",
          "yref": "y"
         },
         {
          "font": {
           "color": "#000000"
          },
          "showarrow": false,
          "text": "-0.16",
          "x": "Video_Cluster",
          "xref": "x",
          "y": "Day",
          "yref": "y"
         },
         {
          "font": {
           "color": "#000000"
          },
          "showarrow": false,
          "text": "-0.0",
          "x": "Country_Cluster_x",
          "xref": "x",
          "y": "Day",
          "yref": "y"
         },
         {
          "font": {
           "color": "#000000"
          },
          "showarrow": false,
          "text": "0.16",
          "x": "Category_Cluster_x",
          "xref": "x",
          "y": "Day",
          "yref": "y"
         },
         {
          "font": {
           "color": "#000000"
          },
          "showarrow": false,
          "text": "-0.0",
          "x": "Country_Cluster_y",
          "xref": "x",
          "y": "Day",
          "yref": "y"
         },
         {
          "font": {
           "color": "#000000"
          },
          "showarrow": false,
          "text": "0.16",
          "x": "Category_Cluster_y",
          "xref": "x",
          "y": "Day",
          "yref": "y"
         },
         {
          "font": {
           "color": "#000000"
          },
          "showarrow": false,
          "text": "nan",
          "x": "Year",
          "xref": "x",
          "y": "Day",
          "yref": "y"
         },
         {
          "font": {
           "color": "#000000"
          },
          "showarrow": false,
          "text": "-0.33",
          "x": "Month",
          "xref": "x",
          "y": "Day",
          "yref": "y"
         },
         {
          "font": {
           "color": "#000000"
          },
          "showarrow": false,
          "text": "1.0",
          "x": "Day",
          "xref": "x",
          "y": "Day",
          "yref": "y"
         },
         {
          "font": {
           "color": "#000000"
          },
          "showarrow": false,
          "text": "0.29",
          "x": "DayOfWeek",
          "xref": "x",
          "y": "Day",
          "yref": "y"
         },
         {
          "font": {
           "color": "#000000"
          },
          "showarrow": false,
          "text": "-0.14",
          "x": "DayName",
          "xref": "x",
          "y": "Day",
          "yref": "y"
         },
         {
          "font": {
           "color": "#000000"
          },
          "showarrow": false,
          "text": "-0.04",
          "x": "Views_per_Sub",
          "xref": "x",
          "y": "Day",
          "yref": "y"
         },
         {
          "font": {
           "color": "#000000"
          },
          "showarrow": false,
          "text": "0.16",
          "x": "Engagement",
          "xref": "x",
          "y": "Day",
          "yref": "y"
         },
         {
          "font": {
           "color": "#000000"
          },
          "showarrow": false,
          "text": "-0.02",
          "x": "Like_per_Sub",
          "xref": "x",
          "y": "Day",
          "yref": "y"
         },
         {
          "font": {
           "color": "#000000"
          },
          "showarrow": false,
          "text": "-0.0",
          "x": "Comment_per_Sub",
          "xref": "x",
          "y": "Day",
          "yref": "y"
         },
         {
          "font": {
           "color": "#000000"
          },
          "showarrow": false,
          "text": "-0.01",
          "x": "Unnamed: 0",
          "xref": "x",
          "y": "DayOfWeek",
          "yref": "y"
         },
         {
          "font": {
           "color": "#000000"
          },
          "showarrow": false,
          "text": "-0.0",
          "x": "Video ID",
          "xref": "x",
          "y": "DayOfWeek",
          "yref": "y"
         },
         {
          "font": {
           "color": "#000000"
          },
          "showarrow": false,
          "text": "0.0",
          "x": "Video Title",
          "xref": "x",
          "y": "DayOfWeek",
          "yref": "y"
         },
         {
          "font": {
           "color": "#000000"
          },
          "showarrow": false,
          "text": "0.0",
          "x": "Channel",
          "xref": "x",
          "y": "DayOfWeek",
          "yref": "y"
         },
         {
          "font": {
           "color": "#000000"
          },
          "showarrow": false,
          "text": "0.28",
          "x": "Published Date",
          "xref": "x",
          "y": "DayOfWeek",
          "yref": "y"
         },
         {
          "font": {
           "color": "#000000"
          },
          "showarrow": false,
          "text": "-0.1",
          "x": "Views",
          "xref": "x",
          "y": "DayOfWeek",
          "yref": "y"
         },
         {
          "font": {
           "color": "#000000"
          },
          "showarrow": false,
          "text": "-0.08",
          "x": "Likes",
          "xref": "x",
          "y": "DayOfWeek",
          "yref": "y"
         },
         {
          "font": {
           "color": "#000000"
          },
          "showarrow": false,
          "text": "-0.03",
          "x": "Comments",
          "xref": "x",
          "y": "DayOfWeek",
          "yref": "y"
         },
         {
          "font": {
           "color": "#000000"
          },
          "showarrow": false,
          "text": "0.01",
          "x": "Subscribers",
          "xref": "x",
          "y": "DayOfWeek",
          "yref": "y"
         },
         {
          "font": {
           "color": "#000000"
          },
          "showarrow": false,
          "text": "-0.0",
          "x": "Channel Views",
          "xref": "x",
          "y": "DayOfWeek",
          "yref": "y"
         },
         {
          "font": {
           "color": "#000000"
          },
          "showarrow": false,
          "text": "-0.02",
          "x": "Country",
          "xref": "x",
          "y": "DayOfWeek",
          "yref": "y"
         },
         {
          "font": {
           "color": "#000000"
          },
          "showarrow": false,
          "text": "-0.01",
          "x": "Region",
          "xref": "x",
          "y": "DayOfWeek",
          "yref": "y"
         },
         {
          "font": {
           "color": "#000000"
          },
          "showarrow": false,
          "text": "0.03",
          "x": "CategoryID",
          "xref": "x",
          "y": "DayOfWeek",
          "yref": "y"
         },
         {
          "font": {
           "color": "#000000"
          },
          "showarrow": false,
          "text": "-0.16",
          "x": "CategoryName",
          "xref": "x",
          "y": "DayOfWeek",
          "yref": "y"
         },
         {
          "font": {
           "color": "#000000"
          },
          "showarrow": false,
          "text": "-0.07",
          "x": "Cluster",
          "xref": "x",
          "y": "DayOfWeek",
          "yref": "y"
         },
         {
          "font": {
           "color": "#000000"
          },
          "showarrow": false,
          "text": "-0.0",
          "x": "CategoryID_enc",
          "xref": "x",
          "y": "DayOfWeek",
          "yref": "y"
         },
         {
          "font": {
           "color": "#000000"
          },
          "showarrow": false,
          "text": "-0.02",
          "x": "Country_enc",
          "xref": "x",
          "y": "DayOfWeek",
          "yref": "y"
         },
         {
          "font": {
           "color": "#000000"
          },
          "showarrow": false,
          "text": "-0.04",
          "x": "VideoCluster",
          "xref": "x",
          "y": "DayOfWeek",
          "yref": "y"
         },
         {
          "font": {
           "color": "#000000"
          },
          "showarrow": false,
          "text": "-0.01",
          "x": "Channel_Cluster",
          "xref": "x",
          "y": "DayOfWeek",
          "yref": "y"
         },
         {
          "font": {
           "color": "#000000"
          },
          "showarrow": false,
          "text": "-0.1",
          "x": "Video_Cluster",
          "xref": "x",
          "y": "DayOfWeek",
          "yref": "y"
         },
         {
          "font": {
           "color": "#000000"
          },
          "showarrow": false,
          "text": "0.04",
          "x": "Country_Cluster_x",
          "xref": "x",
          "y": "DayOfWeek",
          "yref": "y"
         },
         {
          "font": {
           "color": "#000000"
          },
          "showarrow": false,
          "text": "0.05",
          "x": "Category_Cluster_x",
          "xref": "x",
          "y": "DayOfWeek",
          "yref": "y"
         },
         {
          "font": {
           "color": "#000000"
          },
          "showarrow": false,
          "text": "0.04",
          "x": "Country_Cluster_y",
          "xref": "x",
          "y": "DayOfWeek",
          "yref": "y"
         },
         {
          "font": {
           "color": "#000000"
          },
          "showarrow": false,
          "text": "0.05",
          "x": "Category_Cluster_y",
          "xref": "x",
          "y": "DayOfWeek",
          "yref": "y"
         },
         {
          "font": {
           "color": "#000000"
          },
          "showarrow": false,
          "text": "nan",
          "x": "Year",
          "xref": "x",
          "y": "DayOfWeek",
          "yref": "y"
         },
         {
          "font": {
           "color": "#000000"
          },
          "showarrow": false,
          "text": "0.05",
          "x": "Month",
          "xref": "x",
          "y": "DayOfWeek",
          "yref": "y"
         },
         {
          "font": {
           "color": "#000000"
          },
          "showarrow": false,
          "text": "0.29",
          "x": "Day",
          "xref": "x",
          "y": "DayOfWeek",
          "yref": "y"
         },
         {
          "font": {
           "color": "#000000"
          },
          "showarrow": false,
          "text": "1.0",
          "x": "DayOfWeek",
          "xref": "x",
          "y": "DayOfWeek",
          "yref": "y"
         },
         {
          "font": {
           "color": "#000000"
          },
          "showarrow": false,
          "text": "-0.25",
          "x": "DayName",
          "xref": "x",
          "y": "DayOfWeek",
          "yref": "y"
         },
         {
          "font": {
           "color": "#000000"
          },
          "showarrow": false,
          "text": "-0.03",
          "x": "Views_per_Sub",
          "xref": "x",
          "y": "DayOfWeek",
          "yref": "y"
         },
         {
          "font": {
           "color": "#000000"
          },
          "showarrow": false,
          "text": "0.1",
          "x": "Engagement",
          "xref": "x",
          "y": "DayOfWeek",
          "yref": "y"
         },
         {
          "font": {
           "color": "#000000"
          },
          "showarrow": false,
          "text": "-0.02",
          "x": "Like_per_Sub",
          "xref": "x",
          "y": "DayOfWeek",
          "yref": "y"
         },
         {
          "font": {
           "color": "#000000"
          },
          "showarrow": false,
          "text": "-0.01",
          "x": "Comment_per_Sub",
          "xref": "x",
          "y": "DayOfWeek",
          "yref": "y"
         },
         {
          "font": {
           "color": "#000000"
          },
          "showarrow": false,
          "text": "-0.0",
          "x": "Unnamed: 0",
          "xref": "x",
          "y": "DayName",
          "yref": "y"
         },
         {
          "font": {
           "color": "#000000"
          },
          "showarrow": false,
          "text": "-0.01",
          "x": "Video ID",
          "xref": "x",
          "y": "DayName",
          "yref": "y"
         },
         {
          "font": {
           "color": "#000000"
          },
          "showarrow": false,
          "text": "0.02",
          "x": "Video Title",
          "xref": "x",
          "y": "DayName",
          "yref": "y"
         },
         {
          "font": {
           "color": "#000000"
          },
          "showarrow": false,
          "text": "0.01",
          "x": "Channel",
          "xref": "x",
          "y": "DayName",
          "yref": "y"
         },
         {
          "font": {
           "color": "#000000"
          },
          "showarrow": false,
          "text": "-0.11",
          "x": "Published Date",
          "xref": "x",
          "y": "DayName",
          "yref": "y"
         },
         {
          "font": {
           "color": "#000000"
          },
          "showarrow": false,
          "text": "0.02",
          "x": "Views",
          "xref": "x",
          "y": "DayName",
          "yref": "y"
         },
         {
          "font": {
           "color": "#000000"
          },
          "showarrow": false,
          "text": "0.02",
          "x": "Likes",
          "xref": "x",
          "y": "DayName",
          "yref": "y"
         },
         {
          "font": {
           "color": "#000000"
          },
          "showarrow": false,
          "text": "-0.02",
          "x": "Comments",
          "xref": "x",
          "y": "DayName",
          "yref": "y"
         },
         {
          "font": {
           "color": "#000000"
          },
          "showarrow": false,
          "text": "-0.03",
          "x": "Subscribers",
          "xref": "x",
          "y": "DayName",
          "yref": "y"
         },
         {
          "font": {
           "color": "#000000"
          },
          "showarrow": false,
          "text": "-0.03",
          "x": "Channel Views",
          "xref": "x",
          "y": "DayName",
          "yref": "y"
         },
         {
          "font": {
           "color": "#000000"
          },
          "showarrow": false,
          "text": "-0.01",
          "x": "Country",
          "xref": "x",
          "y": "DayName",
          "yref": "y"
         },
         {
          "font": {
           "color": "#000000"
          },
          "showarrow": false,
          "text": "0.0",
          "x": "Region",
          "xref": "x",
          "y": "DayName",
          "yref": "y"
         },
         {
          "font": {
           "color": "#000000"
          },
          "showarrow": false,
          "text": "-0.02",
          "x": "CategoryID",
          "xref": "x",
          "y": "DayName",
          "yref": "y"
         },
         {
          "font": {
           "color": "#000000"
          },
          "showarrow": false,
          "text": "0.06",
          "x": "CategoryName",
          "xref": "x",
          "y": "DayName",
          "yref": "y"
         },
         {
          "font": {
           "color": "#000000"
          },
          "showarrow": false,
          "text": "0.01",
          "x": "Cluster",
          "xref": "x",
          "y": "DayName",
          "yref": "y"
         },
         {
          "font": {
           "color": "#000000"
          },
          "showarrow": false,
          "text": "-0.02",
          "x": "CategoryID_enc",
          "xref": "x",
          "y": "DayName",
          "yref": "y"
         },
         {
          "font": {
           "color": "#000000"
          },
          "showarrow": false,
          "text": "-0.01",
          "x": "Country_enc",
          "xref": "x",
          "y": "DayName",
          "yref": "y"
         },
         {
          "font": {
           "color": "#000000"
          },
          "showarrow": false,
          "text": "0.01",
          "x": "VideoCluster",
          "xref": "x",
          "y": "DayName",
          "yref": "y"
         },
         {
          "font": {
           "color": "#000000"
          },
          "showarrow": false,
          "text": "-0.01",
          "x": "Channel_Cluster",
          "xref": "x",
          "y": "DayName",
          "yref": "y"
         },
         {
          "font": {
           "color": "#000000"
          },
          "showarrow": false,
          "text": "0.04",
          "x": "Video_Cluster",
          "xref": "x",
          "y": "DayName",
          "yref": "y"
         },
         {
          "font": {
           "color": "#000000"
          },
          "showarrow": false,
          "text": "-0.0",
          "x": "Country_Cluster_x",
          "xref": "x",
          "y": "DayName",
          "yref": "y"
         },
         {
          "font": {
           "color": "#000000"
          },
          "showarrow": false,
          "text": "-0.01",
          "x": "Category_Cluster_x",
          "xref": "x",
          "y": "DayName",
          "yref": "y"
         },
         {
          "font": {
           "color": "#000000"
          },
          "showarrow": false,
          "text": "-0.0",
          "x": "Country_Cluster_y",
          "xref": "x",
          "y": "DayName",
          "yref": "y"
         },
         {
          "font": {
           "color": "#000000"
          },
          "showarrow": false,
          "text": "-0.01",
          "x": "Category_Cluster_y",
          "xref": "x",
          "y": "DayName",
          "yref": "y"
         },
         {
          "font": {
           "color": "#000000"
          },
          "showarrow": false,
          "text": "nan",
          "x": "Year",
          "xref": "x",
          "y": "DayName",
          "yref": "y"
         },
         {
          "font": {
           "color": "#000000"
          },
          "showarrow": false,
          "text": "0.0",
          "x": "Month",
          "xref": "x",
          "y": "DayName",
          "yref": "y"
         },
         {
          "font": {
           "color": "#000000"
          },
          "showarrow": false,
          "text": "-0.14",
          "x": "Day",
          "xref": "x",
          "y": "DayName",
          "yref": "y"
         },
         {
          "font": {
           "color": "#000000"
          },
          "showarrow": false,
          "text": "-0.25",
          "x": "DayOfWeek",
          "xref": "x",
          "y": "DayName",
          "yref": "y"
         },
         {
          "font": {
           "color": "#000000"
          },
          "showarrow": false,
          "text": "1.0",
          "x": "DayName",
          "xref": "x",
          "y": "DayName",
          "yref": "y"
         },
         {
          "font": {
           "color": "#000000"
          },
          "showarrow": false,
          "text": "0.02",
          "x": "Views_per_Sub",
          "xref": "x",
          "y": "DayName",
          "yref": "y"
         },
         {
          "font": {
           "color": "#000000"
          },
          "showarrow": false,
          "text": "-0.05",
          "x": "Engagement",
          "xref": "x",
          "y": "DayName",
          "yref": "y"
         },
         {
          "font": {
           "color": "#000000"
          },
          "showarrow": false,
          "text": "0.02",
          "x": "Like_per_Sub",
          "xref": "x",
          "y": "DayName",
          "yref": "y"
         },
         {
          "font": {
           "color": "#000000"
          },
          "showarrow": false,
          "text": "0.01",
          "x": "Comment_per_Sub",
          "xref": "x",
          "y": "DayName",
          "yref": "y"
         },
         {
          "font": {
           "color": "#000000"
          },
          "showarrow": false,
          "text": "-0.01",
          "x": "Unnamed: 0",
          "xref": "x",
          "y": "Views_per_Sub",
          "yref": "y"
         },
         {
          "font": {
           "color": "#000000"
          },
          "showarrow": false,
          "text": "0.0",
          "x": "Video ID",
          "xref": "x",
          "y": "Views_per_Sub",
          "yref": "y"
         },
         {
          "font": {
           "color": "#000000"
          },
          "showarrow": false,
          "text": "-0.01",
          "x": "Video Title",
          "xref": "x",
          "y": "Views_per_Sub",
          "yref": "y"
         },
         {
          "font": {
           "color": "#000000"
          },
          "showarrow": false,
          "text": "0.01",
          "x": "Channel",
          "xref": "x",
          "y": "Views_per_Sub",
          "yref": "y"
         },
         {
          "font": {
           "color": "#000000"
          },
          "showarrow": false,
          "text": "-0.08",
          "x": "Published Date",
          "xref": "x",
          "y": "Views_per_Sub",
          "yref": "y"
         },
         {
          "font": {
           "color": "#000000"
          },
          "showarrow": false,
          "text": "0.05",
          "x": "Views",
          "xref": "x",
          "y": "Views_per_Sub",
          "yref": "y"
         },
         {
          "font": {
           "color": "#000000"
          },
          "showarrow": false,
          "text": "0.04",
          "x": "Likes",
          "xref": "x",
          "y": "Views_per_Sub",
          "yref": "y"
         },
         {
          "font": {
           "color": "#000000"
          },
          "showarrow": false,
          "text": "0.0",
          "x": "Comments",
          "xref": "x",
          "y": "Views_per_Sub",
          "yref": "y"
         },
         {
          "font": {
           "color": "#000000"
          },
          "showarrow": false,
          "text": "-0.01",
          "x": "Subscribers",
          "xref": "x",
          "y": "Views_per_Sub",
          "yref": "y"
         },
         {
          "font": {
           "color": "#000000"
          },
          "showarrow": false,
          "text": "-0.01",
          "x": "Channel Views",
          "xref": "x",
          "y": "Views_per_Sub",
          "yref": "y"
         },
         {
          "font": {
           "color": "#000000"
          },
          "showarrow": false,
          "text": "0.02",
          "x": "Country",
          "xref": "x",
          "y": "Views_per_Sub",
          "yref": "y"
         },
         {
          "font": {
           "color": "#000000"
          },
          "showarrow": false,
          "text": "0.01",
          "x": "Region",
          "xref": "x",
          "y": "Views_per_Sub",
          "yref": "y"
         },
         {
          "font": {
           "color": "#000000"
          },
          "showarrow": false,
          "text": "-0.03",
          "x": "CategoryID",
          "xref": "x",
          "y": "Views_per_Sub",
          "yref": "y"
         },
         {
          "font": {
           "color": "#000000"
          },
          "showarrow": false,
          "text": "0.04",
          "x": "CategoryName",
          "xref": "x",
          "y": "Views_per_Sub",
          "yref": "y"
         },
         {
          "font": {
           "color": "#000000"
          },
          "showarrow": false,
          "text": "0.04",
          "x": "Cluster",
          "xref": "x",
          "y": "Views_per_Sub",
          "yref": "y"
         },
         {
          "font": {
           "color": "#000000"
          },
          "showarrow": false,
          "text": "0.0",
          "x": "CategoryID_enc",
          "xref": "x",
          "y": "Views_per_Sub",
          "yref": "y"
         },
         {
          "font": {
           "color": "#000000"
          },
          "showarrow": false,
          "text": "0.02",
          "x": "Country_enc",
          "xref": "x",
          "y": "Views_per_Sub",
          "yref": "y"
         },
         {
          "font": {
           "color": "#000000"
          },
          "showarrow": false,
          "text": "0.02",
          "x": "VideoCluster",
          "xref": "x",
          "y": "Views_per_Sub",
          "yref": "y"
         },
         {
          "font": {
           "color": "#000000"
          },
          "showarrow": false,
          "text": "-0.01",
          "x": "Channel_Cluster",
          "xref": "x",
          "y": "Views_per_Sub",
          "yref": "y"
         },
         {
          "font": {
           "color": "#000000"
          },
          "showarrow": false,
          "text": "0.03",
          "x": "Video_Cluster",
          "xref": "x",
          "y": "Views_per_Sub",
          "yref": "y"
         },
         {
          "font": {
           "color": "#000000"
          },
          "showarrow": false,
          "text": "-0.02",
          "x": "Country_Cluster_x",
          "xref": "x",
          "y": "Views_per_Sub",
          "yref": "y"
         },
         {
          "font": {
           "color": "#000000"
          },
          "showarrow": false,
          "text": "-0.04",
          "x": "Category_Cluster_x",
          "xref": "x",
          "y": "Views_per_Sub",
          "yref": "y"
         },
         {
          "font": {
           "color": "#000000"
          },
          "showarrow": false,
          "text": "-0.02",
          "x": "Country_Cluster_y",
          "xref": "x",
          "y": "Views_per_Sub",
          "yref": "y"
         },
         {
          "font": {
           "color": "#000000"
          },
          "showarrow": false,
          "text": "-0.04",
          "x": "Category_Cluster_y",
          "xref": "x",
          "y": "Views_per_Sub",
          "yref": "y"
         },
         {
          "font": {
           "color": "#000000"
          },
          "showarrow": false,
          "text": "nan",
          "x": "Year",
          "xref": "x",
          "y": "Views_per_Sub",
          "yref": "y"
         },
         {
          "font": {
           "color": "#000000"
          },
          "showarrow": false,
          "text": "-0.05",
          "x": "Month",
          "xref": "x",
          "y": "Views_per_Sub",
          "yref": "y"
         },
         {
          "font": {
           "color": "#000000"
          },
          "showarrow": false,
          "text": "-0.04",
          "x": "Day",
          "xref": "x",
          "y": "Views_per_Sub",
          "yref": "y"
         },
         {
          "font": {
           "color": "#000000"
          },
          "showarrow": false,
          "text": "-0.03",
          "x": "DayOfWeek",
          "xref": "x",
          "y": "Views_per_Sub",
          "yref": "y"
         },
         {
          "font": {
           "color": "#000000"
          },
          "showarrow": false,
          "text": "0.02",
          "x": "DayName",
          "xref": "x",
          "y": "Views_per_Sub",
          "yref": "y"
         },
         {
          "font": {
           "color": "#000000"
          },
          "showarrow": false,
          "text": "1.0",
          "x": "Views_per_Sub",
          "xref": "x",
          "y": "Views_per_Sub",
          "yref": "y"
         },
         {
          "font": {
           "color": "#000000"
          },
          "showarrow": false,
          "text": "-0.02",
          "x": "Engagement",
          "xref": "x",
          "y": "Views_per_Sub",
          "yref": "y"
         },
         {
          "font": {
           "color": "#000000"
          },
          "showarrow": false,
          "text": "0.8",
          "x": "Like_per_Sub",
          "xref": "x",
          "y": "Views_per_Sub",
          "yref": "y"
         },
         {
          "font": {
           "color": "#000000"
          },
          "showarrow": false,
          "text": "0.48",
          "x": "Comment_per_Sub",
          "xref": "x",
          "y": "Views_per_Sub",
          "yref": "y"
         },
         {
          "font": {
           "color": "#000000"
          },
          "showarrow": false,
          "text": "-0.01",
          "x": "Unnamed: 0",
          "xref": "x",
          "y": "Engagement",
          "yref": "y"
         },
         {
          "font": {
           "color": "#000000"
          },
          "showarrow": false,
          "text": "0.02",
          "x": "Video ID",
          "xref": "x",
          "y": "Engagement",
          "yref": "y"
         },
         {
          "font": {
           "color": "#000000"
          },
          "showarrow": false,
          "text": "-0.03",
          "x": "Video Title",
          "xref": "x",
          "y": "Engagement",
          "yref": "y"
         },
         {
          "font": {
           "color": "#000000"
          },
          "showarrow": false,
          "text": "-0.04",
          "x": "Channel",
          "xref": "x",
          "y": "Engagement",
          "yref": "y"
         },
         {
          "font": {
           "color": "#000000"
          },
          "showarrow": false,
          "text": "0.17",
          "x": "Published Date",
          "xref": "x",
          "y": "Engagement",
          "yref": "y"
         },
         {
          "font": {
           "color": "#000000"
          },
          "showarrow": false,
          "text": "-0.14",
          "x": "Views",
          "xref": "x",
          "y": "Engagement",
          "yref": "y"
         },
         {
          "font": {
           "color": "#000000"
          },
          "showarrow": false,
          "text": "0.03",
          "x": "Likes",
          "xref": "x",
          "y": "Engagement",
          "yref": "y"
         },
         {
          "font": {
           "color": "#000000"
          },
          "showarrow": false,
          "text": "0.39",
          "x": "Comments",
          "xref": "x",
          "y": "Engagement",
          "yref": "y"
         },
         {
          "font": {
           "color": "#000000"
          },
          "showarrow": false,
          "text": "0.03",
          "x": "Subscribers",
          "xref": "x",
          "y": "Engagement",
          "yref": "y"
         },
         {
          "font": {
           "color": "#000000"
          },
          "showarrow": false,
          "text": "-0.02",
          "x": "Channel Views",
          "xref": "x",
          "y": "Engagement",
          "yref": "y"
         },
         {
          "font": {
           "color": "#000000"
          },
          "showarrow": false,
          "text": "-0.1",
          "x": "Country",
          "xref": "x",
          "y": "Engagement",
          "yref": "y"
         },
         {
          "font": {
           "color": "#000000"
          },
          "showarrow": false,
          "text": "-0.11",
          "x": "Region",
          "xref": "x",
          "y": "Engagement",
          "yref": "y"
         },
         {
          "font": {
           "color": "#000000"
          },
          "showarrow": false,
          "text": "0.1",
          "x": "CategoryID",
          "xref": "x",
          "y": "Engagement",
          "yref": "y"
         },
         {
          "font": {
           "color": "#000000"
          },
          "showarrow": false,
          "text": "-0.29",
          "x": "CategoryName",
          "xref": "x",
          "y": "Engagement",
          "yref": "y"
         },
         {
          "font": {
           "color": "#000000"
          },
          "showarrow": false,
          "text": "0.01",
          "x": "Cluster",
          "xref": "x",
          "y": "Engagement",
          "yref": "y"
         },
         {
          "font": {
           "color": "#000000"
          },
          "showarrow": false,
          "text": "0.09",
          "x": "CategoryID_enc",
          "xref": "x",
          "y": "Engagement",
          "yref": "y"
         },
         {
          "font": {
           "color": "#000000"
          },
          "showarrow": false,
          "text": "-0.1",
          "x": "Country_enc",
          "xref": "x",
          "y": "Engagement",
          "yref": "y"
         },
         {
          "font": {
           "color": "#000000"
          },
          "showarrow": false,
          "text": "-0.13",
          "x": "VideoCluster",
          "xref": "x",
          "y": "Engagement",
          "yref": "y"
         },
         {
          "font": {
           "color": "#000000"
          },
          "showarrow": false,
          "text": "-0.01",
          "x": "Channel_Cluster",
          "xref": "x",
          "y": "Engagement",
          "yref": "y"
         },
         {
          "font": {
           "color": "#000000"
          },
          "showarrow": false,
          "text": "-0.14",
          "x": "Video_Cluster",
          "xref": "x",
          "y": "Engagement",
          "yref": "y"
         },
         {
          "font": {
           "color": "#000000"
          },
          "showarrow": false,
          "text": "0.13",
          "x": "Country_Cluster_x",
          "xref": "x",
          "y": "Engagement",
          "yref": "y"
         },
         {
          "font": {
           "color": "#000000"
          },
          "showarrow": false,
          "text": "0.11",
          "x": "Category_Cluster_x",
          "xref": "x",
          "y": "Engagement",
          "yref": "y"
         },
         {
          "font": {
           "color": "#000000"
          },
          "showarrow": false,
          "text": "0.13",
          "x": "Country_Cluster_y",
          "xref": "x",
          "y": "Engagement",
          "yref": "y"
         },
         {
          "font": {
           "color": "#000000"
          },
          "showarrow": false,
          "text": "0.11",
          "x": "Category_Cluster_y",
          "xref": "x",
          "y": "Engagement",
          "yref": "y"
         },
         {
          "font": {
           "color": "#000000"
          },
          "showarrow": false,
          "text": "nan",
          "x": "Year",
          "xref": "x",
          "y": "Engagement",
          "yref": "y"
         },
         {
          "font": {
           "color": "#000000"
          },
          "showarrow": false,
          "text": "0.04",
          "x": "Month",
          "xref": "x",
          "y": "Engagement",
          "yref": "y"
         },
         {
          "font": {
           "color": "#000000"
          },
          "showarrow": false,
          "text": "0.16",
          "x": "Day",
          "xref": "x",
          "y": "Engagement",
          "yref": "y"
         },
         {
          "font": {
           "color": "#000000"
          },
          "showarrow": false,
          "text": "0.1",
          "x": "DayOfWeek",
          "xref": "x",
          "y": "Engagement",
          "yref": "y"
         },
         {
          "font": {
           "color": "#000000"
          },
          "showarrow": false,
          "text": "-0.05",
          "x": "DayName",
          "xref": "x",
          "y": "Engagement",
          "yref": "y"
         },
         {
          "font": {
           "color": "#000000"
          },
          "showarrow": false,
          "text": "-0.02",
          "x": "Views_per_Sub",
          "xref": "x",
          "y": "Engagement",
          "yref": "y"
         },
         {
          "font": {
           "color": "#000000"
          },
          "showarrow": false,
          "text": "1.0",
          "x": "Engagement",
          "xref": "x",
          "y": "Engagement",
          "yref": "y"
         },
         {
          "font": {
           "color": "#000000"
          },
          "showarrow": false,
          "text": "0.01",
          "x": "Like_per_Sub",
          "xref": "x",
          "y": "Engagement",
          "yref": "y"
         },
         {
          "font": {
           "color": "#000000"
          },
          "showarrow": false,
          "text": "0.02",
          "x": "Comment_per_Sub",
          "xref": "x",
          "y": "Engagement",
          "yref": "y"
         },
         {
          "font": {
           "color": "#000000"
          },
          "showarrow": false,
          "text": "-0.01",
          "x": "Unnamed: 0",
          "xref": "x",
          "y": "Like_per_Sub",
          "yref": "y"
         },
         {
          "font": {
           "color": "#000000"
          },
          "showarrow": false,
          "text": "0.0",
          "x": "Video ID",
          "xref": "x",
          "y": "Like_per_Sub",
          "yref": "y"
         },
         {
          "font": {
           "color": "#000000"
          },
          "showarrow": false,
          "text": "-0.01",
          "x": "Video Title",
          "xref": "x",
          "y": "Like_per_Sub",
          "yref": "y"
         },
         {
          "font": {
           "color": "#000000"
          },
          "showarrow": false,
          "text": "0.0",
          "x": "Channel",
          "xref": "x",
          "y": "Like_per_Sub",
          "yref": "y"
         },
         {
          "font": {
           "color": "#000000"
          },
          "showarrow": false,
          "text": "-0.04",
          "x": "Published Date",
          "xref": "x",
          "y": "Like_per_Sub",
          "yref": "y"
         },
         {
          "font": {
           "color": "#000000"
          },
          "showarrow": false,
          "text": "0.02",
          "x": "Views",
          "xref": "x",
          "y": "Like_per_Sub",
          "yref": "y"
         },
         {
          "font": {
           "color": "#000000"
          },
          "showarrow": false,
          "text": "0.03",
          "x": "Likes",
          "xref": "x",
          "y": "Like_per_Sub",
          "yref": "y"
         },
         {
          "font": {
           "color": "#000000"
          },
          "showarrow": false,
          "text": "0.0",
          "x": "Comments",
          "xref": "x",
          "y": "Like_per_Sub",
          "yref": "y"
         },
         {
          "font": {
           "color": "#000000"
          },
          "showarrow": false,
          "text": "-0.01",
          "x": "Subscribers",
          "xref": "x",
          "y": "Like_per_Sub",
          "yref": "y"
         },
         {
          "font": {
           "color": "#000000"
          },
          "showarrow": false,
          "text": "-0.01",
          "x": "Channel Views",
          "xref": "x",
          "y": "Like_per_Sub",
          "yref": "y"
         },
         {
          "font": {
           "color": "#000000"
          },
          "showarrow": false,
          "text": "0.01",
          "x": "Country",
          "xref": "x",
          "y": "Like_per_Sub",
          "yref": "y"
         },
         {
          "font": {
           "color": "#000000"
          },
          "showarrow": false,
          "text": "0.0",
          "x": "Region",
          "xref": "x",
          "y": "Like_per_Sub",
          "yref": "y"
         },
         {
          "font": {
           "color": "#000000"
          },
          "showarrow": false,
          "text": "-0.03",
          "x": "CategoryID",
          "xref": "x",
          "y": "Like_per_Sub",
          "yref": "y"
         },
         {
          "font": {
           "color": "#000000"
          },
          "showarrow": false,
          "text": "0.02",
          "x": "CategoryName",
          "xref": "x",
          "y": "Like_per_Sub",
          "yref": "y"
         },
         {
          "font": {
           "color": "#000000"
          },
          "showarrow": false,
          "text": "0.02",
          "x": "Cluster",
          "xref": "x",
          "y": "Like_per_Sub",
          "yref": "y"
         },
         {
          "font": {
           "color": "#000000"
          },
          "showarrow": false,
          "text": "0.0",
          "x": "CategoryID_enc",
          "xref": "x",
          "y": "Like_per_Sub",
          "yref": "y"
         },
         {
          "font": {
           "color": "#000000"
          },
          "showarrow": false,
          "text": "0.01",
          "x": "Country_enc",
          "xref": "x",
          "y": "Like_per_Sub",
          "yref": "y"
         },
         {
          "font": {
           "color": "#000000"
          },
          "showarrow": false,
          "text": "0.01",
          "x": "VideoCluster",
          "xref": "x",
          "y": "Like_per_Sub",
          "yref": "y"
         },
         {
          "font": {
           "color": "#000000"
          },
          "showarrow": false,
          "text": "-0.01",
          "x": "Channel_Cluster",
          "xref": "x",
          "y": "Like_per_Sub",
          "yref": "y"
         },
         {
          "font": {
           "color": "#000000"
          },
          "showarrow": false,
          "text": "0.01",
          "x": "Video_Cluster",
          "xref": "x",
          "y": "Like_per_Sub",
          "yref": "y"
         },
         {
          "font": {
           "color": "#000000"
          },
          "showarrow": false,
          "text": "-0.01",
          "x": "Country_Cluster_x",
          "xref": "x",
          "y": "Like_per_Sub",
          "yref": "y"
         },
         {
          "font": {
           "color": "#000000"
          },
          "showarrow": false,
          "text": "-0.03",
          "x": "Category_Cluster_x",
          "xref": "x",
          "y": "Like_per_Sub",
          "yref": "y"
         },
         {
          "font": {
           "color": "#000000"
          },
          "showarrow": false,
          "text": "-0.01",
          "x": "Country_Cluster_y",
          "xref": "x",
          "y": "Like_per_Sub",
          "yref": "y"
         },
         {
          "font": {
           "color": "#000000"
          },
          "showarrow": false,
          "text": "-0.03",
          "x": "Category_Cluster_y",
          "xref": "x",
          "y": "Like_per_Sub",
          "yref": "y"
         },
         {
          "font": {
           "color": "#000000"
          },
          "showarrow": false,
          "text": "nan",
          "x": "Year",
          "xref": "x",
          "y": "Like_per_Sub",
          "yref": "y"
         },
         {
          "font": {
           "color": "#000000"
          },
          "showarrow": false,
          "text": "-0.03",
          "x": "Month",
          "xref": "x",
          "y": "Like_per_Sub",
          "yref": "y"
         },
         {
          "font": {
           "color": "#000000"
          },
          "showarrow": false,
          "text": "-0.02",
          "x": "Day",
          "xref": "x",
          "y": "Like_per_Sub",
          "yref": "y"
         },
         {
          "font": {
           "color": "#000000"
          },
          "showarrow": false,
          "text": "-0.02",
          "x": "DayOfWeek",
          "xref": "x",
          "y": "Like_per_Sub",
          "yref": "y"
         },
         {
          "font": {
           "color": "#000000"
          },
          "showarrow": false,
          "text": "0.02",
          "x": "DayName",
          "xref": "x",
          "y": "Like_per_Sub",
          "yref": "y"
         },
         {
          "font": {
           "color": "#000000"
          },
          "showarrow": false,
          "text": "0.8",
          "x": "Views_per_Sub",
          "xref": "x",
          "y": "Like_per_Sub",
          "yref": "y"
         },
         {
          "font": {
           "color": "#000000"
          },
          "showarrow": false,
          "text": "0.01",
          "x": "Engagement",
          "xref": "x",
          "y": "Like_per_Sub",
          "yref": "y"
         },
         {
          "font": {
           "color": "#000000"
          },
          "showarrow": false,
          "text": "1.0",
          "x": "Like_per_Sub",
          "xref": "x",
          "y": "Like_per_Sub",
          "yref": "y"
         },
         {
          "font": {
           "color": "#000000"
          },
          "showarrow": false,
          "text": "0.9",
          "x": "Comment_per_Sub",
          "xref": "x",
          "y": "Like_per_Sub",
          "yref": "y"
         },
         {
          "font": {
           "color": "#000000"
          },
          "showarrow": false,
          "text": "-0.01",
          "x": "Unnamed: 0",
          "xref": "x",
          "y": "Comment_per_Sub",
          "yref": "y"
         },
         {
          "font": {
           "color": "#000000"
          },
          "showarrow": false,
          "text": "-0.0",
          "x": "Video ID",
          "xref": "x",
          "y": "Comment_per_Sub",
          "yref": "y"
         },
         {
          "font": {
           "color": "#000000"
          },
          "showarrow": false,
          "text": "-0.0",
          "x": "Video Title",
          "xref": "x",
          "y": "Comment_per_Sub",
          "yref": "y"
         },
         {
          "font": {
           "color": "#000000"
          },
          "showarrow": false,
          "text": "0.0",
          "x": "Channel",
          "xref": "x",
          "y": "Comment_per_Sub",
          "yref": "y"
         },
         {
          "font": {
           "color": "#000000"
          },
          "showarrow": false,
          "text": "-0.0",
          "x": "Published Date",
          "xref": "x",
          "y": "Comment_per_Sub",
          "yref": "y"
         },
         {
          "font": {
           "color": "#000000"
          },
          "showarrow": false,
          "text": "-0.0",
          "x": "Views",
          "xref": "x",
          "y": "Comment_per_Sub",
          "yref": "y"
         },
         {
          "font": {
           "color": "#000000"
          },
          "showarrow": false,
          "text": "-0.0",
          "x": "Likes",
          "xref": "x",
          "y": "Comment_per_Sub",
          "yref": "y"
         },
         {
          "font": {
           "color": "#000000"
          },
          "showarrow": false,
          "text": "0.0",
          "x": "Comments",
          "xref": "x",
          "y": "Comment_per_Sub",
          "yref": "y"
         },
         {
          "font": {
           "color": "#000000"
          },
          "showarrow": false,
          "text": "-0.0",
          "x": "Subscribers",
          "xref": "x",
          "y": "Comment_per_Sub",
          "yref": "y"
         },
         {
          "font": {
           "color": "#000000"
          },
          "showarrow": false,
          "text": "-0.0",
          "x": "Channel Views",
          "xref": "x",
          "y": "Comment_per_Sub",
          "yref": "y"
         },
         {
          "font": {
           "color": "#000000"
          },
          "showarrow": false,
          "text": "0.01",
          "x": "Country",
          "xref": "x",
          "y": "Comment_per_Sub",
          "yref": "y"
         },
         {
          "font": {
           "color": "#000000"
          },
          "showarrow": false,
          "text": "-0.0",
          "x": "Region",
          "xref": "x",
          "y": "Comment_per_Sub",
          "yref": "y"
         },
         {
          "font": {
           "color": "#000000"
          },
          "showarrow": false,
          "text": "-0.01",
          "x": "CategoryID",
          "xref": "x",
          "y": "Comment_per_Sub",
          "yref": "y"
         },
         {
          "font": {
           "color": "#000000"
          },
          "showarrow": false,
          "text": "0.01",
          "x": "CategoryName",
          "xref": "x",
          "y": "Comment_per_Sub",
          "yref": "y"
         },
         {
          "font": {
           "color": "#000000"
          },
          "showarrow": false,
          "text": "-0.0",
          "x": "Cluster",
          "xref": "x",
          "y": "Comment_per_Sub",
          "yref": "y"
         },
         {
          "font": {
           "color": "#000000"
          },
          "showarrow": false,
          "text": "0.0",
          "x": "CategoryID_enc",
          "xref": "x",
          "y": "Comment_per_Sub",
          "yref": "y"
         },
         {
          "font": {
           "color": "#000000"
          },
          "showarrow": false,
          "text": "0.01",
          "x": "Country_enc",
          "xref": "x",
          "y": "Comment_per_Sub",
          "yref": "y"
         },
         {
          "font": {
           "color": "#000000"
          },
          "showarrow": false,
          "text": "-0.0",
          "x": "VideoCluster",
          "xref": "x",
          "y": "Comment_per_Sub",
          "yref": "y"
         },
         {
          "font": {
           "color": "#000000"
          },
          "showarrow": false,
          "text": "-0.0",
          "x": "Channel_Cluster",
          "xref": "x",
          "y": "Comment_per_Sub",
          "yref": "y"
         },
         {
          "font": {
           "color": "#000000"
          },
          "showarrow": false,
          "text": "-0.0",
          "x": "Video_Cluster",
          "xref": "x",
          "y": "Comment_per_Sub",
          "yref": "y"
         },
         {
          "font": {
           "color": "#000000"
          },
          "showarrow": false,
          "text": "-0.0",
          "x": "Country_Cluster_x",
          "xref": "x",
          "y": "Comment_per_Sub",
          "yref": "y"
         },
         {
          "font": {
           "color": "#000000"
          },
          "showarrow": false,
          "text": "-0.02",
          "x": "Category_Cluster_x",
          "xref": "x",
          "y": "Comment_per_Sub",
          "yref": "y"
         },
         {
          "font": {
           "color": "#000000"
          },
          "showarrow": false,
          "text": "-0.0",
          "x": "Country_Cluster_y",
          "xref": "x",
          "y": "Comment_per_Sub",
          "yref": "y"
         },
         {
          "font": {
           "color": "#000000"
          },
          "showarrow": false,
          "text": "-0.02",
          "x": "Category_Cluster_y",
          "xref": "x",
          "y": "Comment_per_Sub",
          "yref": "y"
         },
         {
          "font": {
           "color": "#000000"
          },
          "showarrow": false,
          "text": "nan",
          "x": "Year",
          "xref": "x",
          "y": "Comment_per_Sub",
          "yref": "y"
         },
         {
          "font": {
           "color": "#000000"
          },
          "showarrow": false,
          "text": "0.0",
          "x": "Month",
          "xref": "x",
          "y": "Comment_per_Sub",
          "yref": "y"
         },
         {
          "font": {
           "color": "#000000"
          },
          "showarrow": false,
          "text": "-0.0",
          "x": "Day",
          "xref": "x",
          "y": "Comment_per_Sub",
          "yref": "y"
         },
         {
          "font": {
           "color": "#000000"
          },
          "showarrow": false,
          "text": "-0.01",
          "x": "DayOfWeek",
          "xref": "x",
          "y": "Comment_per_Sub",
          "yref": "y"
         },
         {
          "font": {
           "color": "#000000"
          },
          "showarrow": false,
          "text": "0.01",
          "x": "DayName",
          "xref": "x",
          "y": "Comment_per_Sub",
          "yref": "y"
         },
         {
          "font": {
           "color": "#000000"
          },
          "showarrow": false,
          "text": "0.48",
          "x": "Views_per_Sub",
          "xref": "x",
          "y": "Comment_per_Sub",
          "yref": "y"
         },
         {
          "font": {
           "color": "#000000"
          },
          "showarrow": false,
          "text": "0.02",
          "x": "Engagement",
          "xref": "x",
          "y": "Comment_per_Sub",
          "yref": "y"
         },
         {
          "font": {
           "color": "#000000"
          },
          "showarrow": false,
          "text": "0.9",
          "x": "Like_per_Sub",
          "xref": "x",
          "y": "Comment_per_Sub",
          "yref": "y"
         },
         {
          "font": {
           "color": "#000000"
          },
          "showarrow": false,
          "text": "1.0",
          "x": "Comment_per_Sub",
          "xref": "x",
          "y": "Comment_per_Sub",
          "yref": "y"
         }
        ],
        "template": {
         "data": {
          "bar": [
           {
            "error_x": {
             "color": "#2a3f5f"
            },
            "error_y": {
             "color": "#2a3f5f"
            },
            "marker": {
             "line": {
              "color": "#E5ECF6",
              "width": 0.5
             },
             "pattern": {
              "fillmode": "overlay",
              "size": 10,
              "solidity": 0.2
             }
            },
            "type": "bar"
           }
          ],
          "barpolar": [
           {
            "marker": {
             "line": {
              "color": "#E5ECF6",
              "width": 0.5
             },
             "pattern": {
              "fillmode": "overlay",
              "size": 10,
              "solidity": 0.2
             }
            },
            "type": "barpolar"
           }
          ],
          "carpet": [
           {
            "aaxis": {
             "endlinecolor": "#2a3f5f",
             "gridcolor": "white",
             "linecolor": "white",
             "minorgridcolor": "white",
             "startlinecolor": "#2a3f5f"
            },
            "baxis": {
             "endlinecolor": "#2a3f5f",
             "gridcolor": "white",
             "linecolor": "white",
             "minorgridcolor": "white",
             "startlinecolor": "#2a3f5f"
            },
            "type": "carpet"
           }
          ],
          "choropleth": [
           {
            "colorbar": {
             "outlinewidth": 0,
             "ticks": ""
            },
            "type": "choropleth"
           }
          ],
          "contour": [
           {
            "colorbar": {
             "outlinewidth": 0,
             "ticks": ""
            },
            "colorscale": [
             [
              0,
              "#0d0887"
             ],
             [
              0.1111111111111111,
              "#46039f"
             ],
             [
              0.2222222222222222,
              "#7201a8"
             ],
             [
              0.3333333333333333,
              "#9c179e"
             ],
             [
              0.4444444444444444,
              "#bd3786"
             ],
             [
              0.5555555555555556,
              "#d8576b"
             ],
             [
              0.6666666666666666,
              "#ed7953"
             ],
             [
              0.7777777777777778,
              "#fb9f3a"
             ],
             [
              0.8888888888888888,
              "#fdca26"
             ],
             [
              1,
              "#f0f921"
             ]
            ],
            "type": "contour"
           }
          ],
          "contourcarpet": [
           {
            "colorbar": {
             "outlinewidth": 0,
             "ticks": ""
            },
            "type": "contourcarpet"
           }
          ],
          "heatmap": [
           {
            "colorbar": {
             "outlinewidth": 0,
             "ticks": ""
            },
            "colorscale": [
             [
              0,
              "#0d0887"
             ],
             [
              0.1111111111111111,
              "#46039f"
             ],
             [
              0.2222222222222222,
              "#7201a8"
             ],
             [
              0.3333333333333333,
              "#9c179e"
             ],
             [
              0.4444444444444444,
              "#bd3786"
             ],
             [
              0.5555555555555556,
              "#d8576b"
             ],
             [
              0.6666666666666666,
              "#ed7953"
             ],
             [
              0.7777777777777778,
              "#fb9f3a"
             ],
             [
              0.8888888888888888,
              "#fdca26"
             ],
             [
              1,
              "#f0f921"
             ]
            ],
            "type": "heatmap"
           }
          ],
          "histogram": [
           {
            "marker": {
             "pattern": {
              "fillmode": "overlay",
              "size": 10,
              "solidity": 0.2
             }
            },
            "type": "histogram"
           }
          ],
          "histogram2d": [
           {
            "colorbar": {
             "outlinewidth": 0,
             "ticks": ""
            },
            "colorscale": [
             [
              0,
              "#0d0887"
             ],
             [
              0.1111111111111111,
              "#46039f"
             ],
             [
              0.2222222222222222,
              "#7201a8"
             ],
             [
              0.3333333333333333,
              "#9c179e"
             ],
             [
              0.4444444444444444,
              "#bd3786"
             ],
             [
              0.5555555555555556,
              "#d8576b"
             ],
             [
              0.6666666666666666,
              "#ed7953"
             ],
             [
              0.7777777777777778,
              "#fb9f3a"
             ],
             [
              0.8888888888888888,
              "#fdca26"
             ],
             [
              1,
              "#f0f921"
             ]
            ],
            "type": "histogram2d"
           }
          ],
          "histogram2dcontour": [
           {
            "colorbar": {
             "outlinewidth": 0,
             "ticks": ""
            },
            "colorscale": [
             [
              0,
              "#0d0887"
             ],
             [
              0.1111111111111111,
              "#46039f"
             ],
             [
              0.2222222222222222,
              "#7201a8"
             ],
             [
              0.3333333333333333,
              "#9c179e"
             ],
             [
              0.4444444444444444,
              "#bd3786"
             ],
             [
              0.5555555555555556,
              "#d8576b"
             ],
             [
              0.6666666666666666,
              "#ed7953"
             ],
             [
              0.7777777777777778,
              "#fb9f3a"
             ],
             [
              0.8888888888888888,
              "#fdca26"
             ],
             [
              1,
              "#f0f921"
             ]
            ],
            "type": "histogram2dcontour"
           }
          ],
          "mesh3d": [
           {
            "colorbar": {
             "outlinewidth": 0,
             "ticks": ""
            },
            "type": "mesh3d"
           }
          ],
          "parcoords": [
           {
            "line": {
             "colorbar": {
              "outlinewidth": 0,
              "ticks": ""
             }
            },
            "type": "parcoords"
           }
          ],
          "pie": [
           {
            "automargin": true,
            "type": "pie"
           }
          ],
          "scatter": [
           {
            "fillpattern": {
             "fillmode": "overlay",
             "size": 10,
             "solidity": 0.2
            },
            "type": "scatter"
           }
          ],
          "scatter3d": [
           {
            "line": {
             "colorbar": {
              "outlinewidth": 0,
              "ticks": ""
             }
            },
            "marker": {
             "colorbar": {
              "outlinewidth": 0,
              "ticks": ""
             }
            },
            "type": "scatter3d"
           }
          ],
          "scattercarpet": [
           {
            "marker": {
             "colorbar": {
              "outlinewidth": 0,
              "ticks": ""
             }
            },
            "type": "scattercarpet"
           }
          ],
          "scattergeo": [
           {
            "marker": {
             "colorbar": {
              "outlinewidth": 0,
              "ticks": ""
             }
            },
            "type": "scattergeo"
           }
          ],
          "scattergl": [
           {
            "marker": {
             "colorbar": {
              "outlinewidth": 0,
              "ticks": ""
             }
            },
            "type": "scattergl"
           }
          ],
          "scattermap": [
           {
            "marker": {
             "colorbar": {
              "outlinewidth": 0,
              "ticks": ""
             }
            },
            "type": "scattermap"
           }
          ],
          "scattermapbox": [
           {
            "marker": {
             "colorbar": {
              "outlinewidth": 0,
              "ticks": ""
             }
            },
            "type": "scattermapbox"
           }
          ],
          "scatterpolar": [
           {
            "marker": {
             "colorbar": {
              "outlinewidth": 0,
              "ticks": ""
             }
            },
            "type": "scatterpolar"
           }
          ],
          "scatterpolargl": [
           {
            "marker": {
             "colorbar": {
              "outlinewidth": 0,
              "ticks": ""
             }
            },
            "type": "scatterpolargl"
           }
          ],
          "scatterternary": [
           {
            "marker": {
             "colorbar": {
              "outlinewidth": 0,
              "ticks": ""
             }
            },
            "type": "scatterternary"
           }
          ],
          "surface": [
           {
            "colorbar": {
             "outlinewidth": 0,
             "ticks": ""
            },
            "colorscale": [
             [
              0,
              "#0d0887"
             ],
             [
              0.1111111111111111,
              "#46039f"
             ],
             [
              0.2222222222222222,
              "#7201a8"
             ],
             [
              0.3333333333333333,
              "#9c179e"
             ],
             [
              0.4444444444444444,
              "#bd3786"
             ],
             [
              0.5555555555555556,
              "#d8576b"
             ],
             [
              0.6666666666666666,
              "#ed7953"
             ],
             [
              0.7777777777777778,
              "#fb9f3a"
             ],
             [
              0.8888888888888888,
              "#fdca26"
             ],
             [
              1,
              "#f0f921"
             ]
            ],
            "type": "surface"
           }
          ],
          "table": [
           {
            "cells": {
             "fill": {
              "color": "#EBF0F8"
             },
             "line": {
              "color": "white"
             }
            },
            "header": {
             "fill": {
              "color": "#C8D4E3"
             },
             "line": {
              "color": "white"
             }
            },
            "type": "table"
           }
          ]
         },
         "layout": {
          "annotationdefaults": {
           "arrowcolor": "#2a3f5f",
           "arrowhead": 0,
           "arrowwidth": 1
          },
          "autotypenumbers": "strict",
          "coloraxis": {
           "colorbar": {
            "outlinewidth": 0,
            "ticks": ""
           }
          },
          "colorscale": {
           "diverging": [
            [
             0,
             "#8e0152"
            ],
            [
             0.1,
             "#c51b7d"
            ],
            [
             0.2,
             "#de77ae"
            ],
            [
             0.3,
             "#f1b6da"
            ],
            [
             0.4,
             "#fde0ef"
            ],
            [
             0.5,
             "#f7f7f7"
            ],
            [
             0.6,
             "#e6f5d0"
            ],
            [
             0.7,
             "#b8e186"
            ],
            [
             0.8,
             "#7fbc41"
            ],
            [
             0.9,
             "#4d9221"
            ],
            [
             1,
             "#276419"
            ]
           ],
           "sequential": [
            [
             0,
             "#0d0887"
            ],
            [
             0.1111111111111111,
             "#46039f"
            ],
            [
             0.2222222222222222,
             "#7201a8"
            ],
            [
             0.3333333333333333,
             "#9c179e"
            ],
            [
             0.4444444444444444,
             "#bd3786"
            ],
            [
             0.5555555555555556,
             "#d8576b"
            ],
            [
             0.6666666666666666,
             "#ed7953"
            ],
            [
             0.7777777777777778,
             "#fb9f3a"
            ],
            [
             0.8888888888888888,
             "#fdca26"
            ],
            [
             1,
             "#f0f921"
            ]
           ],
           "sequentialminus": [
            [
             0,
             "#0d0887"
            ],
            [
             0.1111111111111111,
             "#46039f"
            ],
            [
             0.2222222222222222,
             "#7201a8"
            ],
            [
             0.3333333333333333,
             "#9c179e"
            ],
            [
             0.4444444444444444,
             "#bd3786"
            ],
            [
             0.5555555555555556,
             "#d8576b"
            ],
            [
             0.6666666666666666,
             "#ed7953"
            ],
            [
             0.7777777777777778,
             "#fb9f3a"
            ],
            [
             0.8888888888888888,
             "#fdca26"
            ],
            [
             1,
             "#f0f921"
            ]
           ]
          },
          "colorway": [
           "#636efa",
           "#EF553B",
           "#00cc96",
           "#ab63fa",
           "#FFA15A",
           "#19d3f3",
           "#FF6692",
           "#B6E880",
           "#FF97FF",
           "#FECB52"
          ],
          "font": {
           "color": "#2a3f5f"
          },
          "geo": {
           "bgcolor": "white",
           "lakecolor": "white",
           "landcolor": "#E5ECF6",
           "showlakes": true,
           "showland": true,
           "subunitcolor": "white"
          },
          "hoverlabel": {
           "align": "left"
          },
          "hovermode": "closest",
          "mapbox": {
           "style": "light"
          },
          "paper_bgcolor": "white",
          "plot_bgcolor": "#E5ECF6",
          "polar": {
           "angularaxis": {
            "gridcolor": "white",
            "linecolor": "white",
            "ticks": ""
           },
           "bgcolor": "#E5ECF6",
           "radialaxis": {
            "gridcolor": "white",
            "linecolor": "white",
            "ticks": ""
           }
          },
          "scene": {
           "xaxis": {
            "backgroundcolor": "#E5ECF6",
            "gridcolor": "white",
            "gridwidth": 2,
            "linecolor": "white",
            "showbackground": true,
            "ticks": "",
            "zerolinecolor": "white"
           },
           "yaxis": {
            "backgroundcolor": "#E5ECF6",
            "gridcolor": "white",
            "gridwidth": 2,
            "linecolor": "white",
            "showbackground": true,
            "ticks": "",
            "zerolinecolor": "white"
           },
           "zaxis": {
            "backgroundcolor": "#E5ECF6",
            "gridcolor": "white",
            "gridwidth": 2,
            "linecolor": "white",
            "showbackground": true,
            "ticks": "",
            "zerolinecolor": "white"
           }
          },
          "shapedefaults": {
           "line": {
            "color": "#2a3f5f"
           }
          },
          "ternary": {
           "aaxis": {
            "gridcolor": "white",
            "linecolor": "white",
            "ticks": ""
           },
           "baxis": {
            "gridcolor": "white",
            "linecolor": "white",
            "ticks": ""
           },
           "bgcolor": "#E5ECF6",
           "caxis": {
            "gridcolor": "white",
            "linecolor": "white",
            "ticks": ""
           }
          },
          "title": {
           "x": 0.05
          },
          "xaxis": {
           "automargin": true,
           "gridcolor": "white",
           "linecolor": "white",
           "ticks": "",
           "title": {
            "standoff": 15
           },
           "zerolinecolor": "white",
           "zerolinewidth": 2
          },
          "yaxis": {
           "automargin": true,
           "gridcolor": "white",
           "linecolor": "white",
           "ticks": "",
           "title": {
            "standoff": 15
           },
           "zerolinecolor": "white",
           "zerolinewidth": 2
          }
         }
        },
        "title": {
         "text": "Raqamli ustunlar o'rtasidagi korrelyatsiya matritsasi"
        },
        "xaxis": {
         "dtick": 1,
         "gridcolor": "rgb(0, 0, 0)",
         "side": "top",
         "ticks": ""
        },
        "yaxis": {
         "dtick": 1,
         "ticks": "",
         "ticksuffix": "  "
        }
       }
      }
     },
     "metadata": {},
     "output_type": "display_data"
    }
   ],
   "source": [
    "import numpy as np\n",
    "import plotly.figure_factory as ff\n",
    "\n",
    "# Qiymatlarni 2 xonagacha qisqartirish\n",
    "annot_text = np.around(corr_matrix.values, decimals=2).astype(str)\n",
    "\n",
    "fig = ff.create_annotated_heatmap(\n",
    "    z=corr_matrix.values,\n",
    "    x=list(corr_matrix.columns),\n",
    "    y=list(corr_matrix.index),\n",
    "    annotation_text=annot_text,\n",
    "    colorscale='Viridis',\n",
    "    showscale=True\n",
    ")\n",
    "\n",
    "fig.update_layout(title='Raqamli ustunlar o\\'rtasidagi korrelyatsiya matritsasi')\n",
    "fig.show()"
   ]
  },
  {
   "cell_type": "markdown",
   "id": "d65fbfaf",
   "metadata": {},
   "source": [
    "# Feature Selection Filtering "
   ]
  },
  {
   "cell_type": "code",
   "execution_count": 6,
   "id": "ec4ee4a2",
   "metadata": {},
   "outputs": [
    {
     "name": "stdout",
     "output_type": "stream",
     "text": [
      "                    Unnamed: 0  Video ID  Video Title   Channel  \\\n",
      "Unnamed: 0            1.000000  0.003286     0.007227  0.009950   \n",
      "Video ID              0.003286  1.000000     0.003645  0.001701   \n",
      "Video Title           0.007227  0.003645     1.000000  0.159717   \n",
      "Channel               0.009950  0.001701     0.159717  1.000000   \n",
      "Published Date        0.002673  0.015379     0.001231  0.007830   \n",
      "Views                 0.005807  0.015091     0.028342  0.000031   \n",
      "Likes                 0.007851  0.005348     0.028292  0.001984   \n",
      "Comments              0.010224  0.001029     0.014110  0.010213   \n",
      "Subscribers           0.002241  0.001356     0.016549  0.002822   \n",
      "Channel Views         0.002554  0.002265     0.012593  0.011309   \n",
      "Country               0.024975  0.006360     0.024125  0.010894   \n",
      "Region                0.001248  0.012039     0.035045  0.014039   \n",
      "CategoryID            0.004159  0.006255     0.019482  0.007491   \n",
      "CategoryName          0.006378  0.005755     0.006783  0.021591   \n",
      "Cluster               0.008608  0.008388     0.038029  0.003722   \n",
      "CategoryID_enc        0.011170  0.010668     0.010831  0.028044   \n",
      "Country_enc           0.024975  0.006360     0.024125  0.010894   \n",
      "VideoCluster          0.015907  0.007214     0.017059  0.023669   \n",
      "Channel_Cluster       0.007409  0.003674     0.002471  0.015814   \n",
      "Video_Cluster         0.018323  0.004717     0.016417  0.009499   \n",
      "Country_Cluster_x     0.015598  0.025230     0.046931  0.036635   \n",
      "Category_Cluster_x    0.006668  0.008795     0.008424  0.001659   \n",
      "Country_Cluster_y     0.015598  0.025230     0.046931  0.036635   \n",
      "Category_Cluster_y    0.006668  0.008795     0.008424  0.001659   \n",
      "Year                       NaN       NaN          NaN       NaN   \n",
      "Month                 0.003017  0.018616     0.007968  0.004309   \n",
      "Day                   0.000355  0.002569     0.003354  0.007380   \n",
      "DayOfWeek             0.005220  0.000440     0.004751  0.002715   \n",
      "DayName               0.002239  0.009044     0.020501  0.009579   \n",
      "Views_per_Sub         0.005197  0.003496     0.009889  0.007920   \n",
      "Engagement            0.011625  0.023290     0.030248  0.037259   \n",
      "Like_per_Sub          0.009545  0.001663     0.008166  0.004755   \n",
      "Comment_per_Sub       0.010048  0.002313     0.004875  0.002164   \n",
      "\n",
      "                    Published Date     Views     Likes  Comments  Subscribers  \\\n",
      "Unnamed: 0                0.002673  0.005807  0.007851  0.010224     0.002241   \n",
      "Video ID                  0.015379  0.015091  0.005348  0.001029     0.001356   \n",
      "Video Title               0.001231  0.028342  0.028292  0.014110     0.016549   \n",
      "Channel                   0.007830  0.000031  0.001984  0.010213     0.002822   \n",
      "Published Date            1.000000  0.204588  0.177294  0.058291     0.034708   \n",
      "Views                     0.204588  1.000000  0.750480  0.105712     0.144504   \n",
      "Likes                     0.177294  0.750480  1.000000  0.209166     0.150207   \n",
      "Comments                  0.058291  0.105712  0.209166  1.000000     0.145910   \n",
      "Subscribers               0.034708  0.144504  0.150207  0.145910     1.000000   \n",
      "Channel Views             0.040609  0.146343  0.130465  0.064933     0.945844   \n",
      "Country                   0.044318  0.026170  0.031591  0.013777     0.033991   \n",
      "Region                    0.022573  0.053706  0.095293  0.032653     0.037622   \n",
      "CategoryID                0.153297  0.036286  0.053634  0.000694     0.011722   \n",
      "CategoryName              0.214752  0.142818  0.137708  0.001524     0.001479   \n",
      "Cluster                   0.137625  0.735839  0.738545  0.209687     0.163995   \n",
      "CategoryID_enc            0.049601  0.122472  0.103925  0.001151     0.002928   \n",
      "Country_enc               0.044318  0.026170  0.031591  0.013777     0.033991   \n",
      "VideoCluster              0.057494  0.406249  0.382320  0.084568     0.032184   \n",
      "Channel_Cluster           0.013402  0.205241  0.183304  0.099737     0.491896   \n",
      "Video_Cluster             0.183661  0.550441  0.478945  0.070388     0.101935   \n",
      "Country_Cluster_x         0.023322  0.222667  0.167207  0.042424     0.140660   \n",
      "Category_Cluster_x        0.258963  0.017010  0.005666  0.022925     0.015685   \n",
      "Country_Cluster_y         0.023322  0.222667  0.167207  0.042424     0.140660   \n",
      "Category_Cluster_y        0.258963  0.017010  0.005666  0.022925     0.015685   \n",
      "Year                           NaN       NaN       NaN       NaN          NaN   \n",
      "Month                     0.660666  0.071828  0.073332  0.051752     0.032889   \n",
      "Day                       0.490941  0.171775  0.138967  0.012282     0.004919   \n",
      "DayOfWeek                 0.275126  0.099027  0.076869  0.025999     0.007143   \n",
      "DayName                   0.106755  0.022030  0.015985  0.017748     0.027507   \n",
      "Views_per_Sub             0.081411  0.046168  0.036023  0.001297     0.014323   \n",
      "Engagement                0.169588  0.143315  0.025454  0.389090     0.027819   \n",
      "Like_per_Sub              0.042711  0.017040  0.026780  0.002436     0.008938   \n",
      "Comment_per_Sub           0.002159  0.003609  0.002423  0.001961     0.003219   \n",
      "\n",
      "                    Channel Views  ...  Category_Cluster_y  Year     Month  \\\n",
      "Unnamed: 0               0.002554  ...            0.006668   NaN  0.003017   \n",
      "Video ID                 0.002265  ...            0.008795   NaN  0.018616   \n",
      "Video Title              0.012593  ...            0.008424   NaN  0.007968   \n",
      "Channel                  0.011309  ...            0.001659   NaN  0.004309   \n",
      "Published Date           0.040609  ...            0.258963   NaN  0.660666   \n",
      "Views                    0.146343  ...            0.017010   NaN  0.071828   \n",
      "Likes                    0.130465  ...            0.005666   NaN  0.073332   \n",
      "Comments                 0.064933  ...            0.022925   NaN  0.051752   \n",
      "Subscribers              0.945844  ...            0.015685   NaN  0.032889   \n",
      "Channel Views            1.000000  ...            0.018009   NaN  0.026224   \n",
      "Country                  0.018940  ...            0.009327   NaN  0.008403   \n",
      "Region                   0.028635  ...            0.001779   NaN  0.013780   \n",
      "CategoryID               0.023023  ...            0.017771   NaN  0.052194   \n",
      "CategoryName             0.029205  ...            0.134760   NaN  0.040347   \n",
      "Cluster                  0.159825  ...            0.004322   NaN  0.067232   \n",
      "CategoryID_enc           0.002346  ...            0.348609   NaN  0.050096   \n",
      "Country_enc              0.018940  ...            0.009327   NaN  0.008403   \n",
      "VideoCluster             0.042718  ...            0.096479   NaN  0.000170   \n",
      "Channel_Cluster          0.443141  ...            0.027868   NaN  0.005807   \n",
      "Video_Cluster            0.092748  ...            0.003745   NaN  0.054381   \n",
      "Country_Cluster_x        0.121250  ...            0.026063   NaN  0.021157   \n",
      "Category_Cluster_x       0.018009  ...            1.000000   NaN  0.141727   \n",
      "Country_Cluster_y        0.121250  ...            0.026063   NaN  0.021157   \n",
      "Category_Cluster_y       0.018009  ...            1.000000   NaN  0.141727   \n",
      "Year                          NaN  ...                 NaN   NaN       NaN   \n",
      "Month                    0.026224  ...            0.141727   NaN  1.000000   \n",
      "Day                      0.019480  ...            0.161456   NaN  0.327672   \n",
      "DayOfWeek                0.002270  ...            0.052741   NaN  0.046884   \n",
      "DayName                  0.026097  ...            0.009597   NaN  0.003847   \n",
      "Views_per_Sub            0.010850  ...            0.043460   NaN  0.054411   \n",
      "Engagement               0.020310  ...            0.107038   NaN  0.042729   \n",
      "Like_per_Sub             0.006820  ...            0.029293   NaN  0.028450   \n",
      "Comment_per_Sub          0.002502  ...            0.016065   NaN  0.000400   \n",
      "\n",
      "                         Day  DayOfWeek   DayName  Views_per_Sub  Engagement  \\\n",
      "Unnamed: 0          0.000355   0.005220  0.002239       0.005197    0.011625   \n",
      "Video ID            0.002569   0.000440  0.009044       0.003496    0.023290   \n",
      "Video Title         0.003354   0.004751  0.020501       0.009889    0.030248   \n",
      "Channel             0.007380   0.002715  0.009579       0.007920    0.037259   \n",
      "Published Date      0.490941   0.275126  0.106755       0.081411    0.169588   \n",
      "Views               0.171775   0.099027  0.022030       0.046168    0.143315   \n",
      "Likes               0.138967   0.076869  0.015985       0.036023    0.025454   \n",
      "Comments            0.012282   0.025999  0.017748       0.001297    0.389090   \n",
      "Subscribers         0.004919   0.007143  0.027507       0.014323    0.027819   \n",
      "Channel Views       0.019480   0.002270  0.026097       0.010850    0.020310   \n",
      "Country             0.040903   0.023893  0.008946       0.022008    0.098839   \n",
      "Region              0.006120   0.005127  0.003227       0.010781    0.110519   \n",
      "CategoryID          0.133512   0.033963  0.018667       0.033643    0.101366   \n",
      "CategoryName        0.221955   0.155004  0.056122       0.037282    0.291444   \n",
      "Cluster             0.095265   0.065214  0.012282       0.036212    0.006517   \n",
      "CategoryID_enc      0.005345   0.000137  0.020146       0.000756    0.090929   \n",
      "Country_enc         0.040903   0.023893  0.008946       0.022008    0.098839   \n",
      "VideoCluster        0.068781   0.041422  0.013322       0.024844    0.127243   \n",
      "Channel_Cluster     0.009117   0.010175  0.011064       0.014543    0.009457   \n",
      "Video_Cluster       0.164826   0.095391  0.039121       0.025779    0.140915   \n",
      "Country_Cluster_x   0.003187   0.035166  0.004771       0.020677    0.130697   \n",
      "Category_Cluster_x  0.161456   0.052741  0.009597       0.043460    0.107038   \n",
      "Country_Cluster_y   0.003187   0.035166  0.004771       0.020677    0.130697   \n",
      "Category_Cluster_y  0.161456   0.052741  0.009597       0.043460    0.107038   \n",
      "Year                     NaN        NaN       NaN            NaN         NaN   \n",
      "Month               0.327672   0.046884  0.003847       0.054411    0.042729   \n",
      "Day                 1.000000   0.288369  0.141123       0.038543    0.157804   \n",
      "DayOfWeek           0.288369   1.000000  0.254421       0.031862    0.101607   \n",
      "DayName             0.141123   0.254421  1.000000       0.021006    0.053492   \n",
      "Views_per_Sub       0.038543   0.031862  0.021006       1.000000    0.016291   \n",
      "Engagement          0.157804   0.101607  0.053492       0.016291    1.000000   \n",
      "Like_per_Sub        0.020730   0.017980  0.015968       0.800005    0.007489   \n",
      "Comment_per_Sub     0.003568   0.005352  0.008666       0.483370    0.015522   \n",
      "\n",
      "                    Like_per_Sub  Comment_per_Sub  \n",
      "Unnamed: 0              0.009545         0.010048  \n",
      "Video ID                0.001663         0.002313  \n",
      "Video Title             0.008166         0.004875  \n",
      "Channel                 0.004755         0.002164  \n",
      "Published Date          0.042711         0.002159  \n",
      "Views                   0.017040         0.003609  \n",
      "Likes                   0.026780         0.002423  \n",
      "Comments                0.002436         0.001961  \n",
      "Subscribers             0.008938         0.003219  \n",
      "Channel Views           0.006820         0.002502  \n",
      "Country                 0.014730         0.005593  \n",
      "Region                  0.000854         0.001140  \n",
      "CategoryID              0.026479         0.011204  \n",
      "CategoryName            0.024984         0.009190  \n",
      "Cluster                 0.021850         0.001466  \n",
      "CategoryID_enc          0.002446         0.004075  \n",
      "Country_enc             0.014730         0.005593  \n",
      "VideoCluster            0.012827         0.000954  \n",
      "Channel_Cluster         0.009075         0.003251  \n",
      "Video_Cluster           0.008933         0.004359  \n",
      "Country_Cluster_x       0.011887         0.004257  \n",
      "Category_Cluster_x      0.029293         0.016065  \n",
      "Country_Cluster_y       0.011887         0.004257  \n",
      "Category_Cluster_y      0.029293         0.016065  \n",
      "Year                         NaN              NaN  \n",
      "Month                   0.028450         0.000400  \n",
      "Day                     0.020730         0.003568  \n",
      "DayOfWeek               0.017980         0.005352  \n",
      "DayName                 0.015968         0.008666  \n",
      "Views_per_Sub           0.800005         0.483370  \n",
      "Engagement              0.007489         0.015522  \n",
      "Like_per_Sub            1.000000         0.902231  \n",
      "Comment_per_Sub         0.902231         1.000000  \n",
      "\n",
      "[33 rows x 33 columns]\n"
     ]
    }
   ],
   "source": [
    "import seaborn as sns               \n",
    "import matplotlib.pyplot as plt     \n",
    "\n",
    "\n",
    "corr_matrix = df.corr().abs()  \n",
    "\n",
    "upper = corr_matrix.where(np.triu(np.ones(corr_matrix.shape), k=1).astype(bool))  \n",
    "\n",
    "\n",
    "to_drop = [col for col in upper.columns if any(upper[col] > 0.8)]  \n",
    "corr_matrix = df.corr().abs() \n",
    "print(corr_matrix)  \n"
   ]
  },
  {
   "cell_type": "code",
   "execution_count": 7,
   "id": "a0136db8",
   "metadata": {},
   "outputs": [
    {
     "name": "stdout",
     "output_type": "stream",
     "text": [
      "\n",
      "Original shape: (8493, 33)\n",
      "Shape after dropping correlated features: (8493, 30)\n"
     ]
    }
   ],
   "source": [
    "\n",
    "import numpy as np   \n",
    "\n",
    "corr_matrix = df.corr().abs()  \n",
    "\n",
    "upper = corr_matrix.where(np.triu(np.ones(corr_matrix.shape), k=1).astype(bool))  \n",
    "\n",
    "to_drop = [col for col in upper.columns if any(upper[col] > 0.95)]  \n",
    "\n",
    "df_filtered = df.drop(columns=to_drop)  \n",
    "print(\"\\nOriginal shape:\", df.shape)  \n",
    "\n",
    "print(\"Shape after dropping correlated features:\", df_filtered.shape) \n"
   ]
  },
  {
   "cell_type": "code",
   "execution_count": 8,
   "id": "e7f7f0c7",
   "metadata": {},
   "outputs": [
    {
     "name": "stdout",
     "output_type": "stream",
     "text": [
      "<class 'pandas.core.frame.DataFrame'>\n",
      "RangeIndex: 8493 entries, 0 to 8492\n",
      "Data columns (total 30 columns):\n",
      " #   Column              Non-Null Count  Dtype  \n",
      "---  ------              --------------  -----  \n",
      " 0   Unnamed: 0          8493 non-null   int64  \n",
      " 1   Video ID            8493 non-null   int64  \n",
      " 2   Video Title         8493 non-null   int64  \n",
      " 3   Channel             8493 non-null   int64  \n",
      " 4   Published Date      8493 non-null   float64\n",
      " 5   Views               8493 non-null   int64  \n",
      " 6   Likes               8493 non-null   int64  \n",
      " 7   Comments            8493 non-null   int64  \n",
      " 8   Subscribers         8493 non-null   int64  \n",
      " 9   Channel Views       8493 non-null   int64  \n",
      " 10  Country             8493 non-null   int64  \n",
      " 11  Region              8493 non-null   int64  \n",
      " 12  CategoryID          8493 non-null   int64  \n",
      " 13  CategoryName        8493 non-null   int64  \n",
      " 14  Cluster             8493 non-null   int64  \n",
      " 15  CategoryID_enc      8493 non-null   int64  \n",
      " 16  VideoCluster        8493 non-null   int64  \n",
      " 17  Channel_Cluster     8493 non-null   int64  \n",
      " 18  Video_Cluster       8493 non-null   int64  \n",
      " 19  Country_Cluster_x   8493 non-null   int64  \n",
      " 20  Category_Cluster_x  8493 non-null   int64  \n",
      " 21  Year                8493 non-null   int64  \n",
      " 22  Month               8493 non-null   int64  \n",
      " 23  Day                 8493 non-null   int64  \n",
      " 24  DayOfWeek           8493 non-null   int64  \n",
      " 25  DayName             8493 non-null   float64\n",
      " 26  Views_per_Sub       8493 non-null   float64\n",
      " 27  Engagement          8493 non-null   float64\n",
      " 28  Like_per_Sub        8493 non-null   float64\n",
      " 29  Comment_per_Sub     8493 non-null   float64\n",
      "dtypes: float64(6), int64(24)\n",
      "memory usage: 1.9 MB\n"
     ]
    }
   ],
   "source": [
    "df_filtered.info()"
   ]
  },
  {
   "cell_type": "code",
   "execution_count": 9,
   "id": "9afc877c",
   "metadata": {},
   "outputs": [
    {
     "name": "stdout",
     "output_type": "stream",
     "text": [
      "Highly correlated feature pairs (correlation > 0.95):\n",
      "            Feature 1           Feature 2  Correlation\n",
      "0             Country         Country_enc          1.0\n",
      "1   Country_Cluster_x   Country_Cluster_y          1.0\n",
      "2  Category_Cluster_x  Category_Cluster_y          1.0\n"
     ]
    }
   ],
   "source": [
    "# Yuqori korrelyatsiyaga ega juftliklarni saqlash uchun bo‘sh ro‘yxat yaratamiz\n",
    "high_corr_pairs = []\n",
    "\n",
    "\n",
    "for col in upper.columns:\n",
    "    \n",
    "    for row in upper.index:\n",
    "        \n",
    "        if upper.loc[row, col] is not np.nan and upper.loc[row, col] > 0.95:\n",
    "            \n",
    "            high_corr_pairs.append([row, col, round(upper.loc[row, col], 2)])\n",
    "\n",
    "\n",
    "corr_table = pd.DataFrame(high_corr_pairs, columns=['Feature 1', 'Feature 2', 'Correlation'])\n",
    "\n",
    "print(\"Highly correlated feature pairs (correlation > 0.95):\")\n",
    "print(corr_table)"
   ]
  },
  {
   "cell_type": "code",
   "execution_count": 10,
   "id": "034e899c",
   "metadata": {},
   "outputs": [
    {
     "data": {
      "application/vnd.plotly.v1+json": {
       "config": {
        "plotlyServerURL": "https://plot.ly"
       },
       "data": [
        {
         "coloraxis": "coloraxis",
         "hovertemplate": "x: %{x}<br>y: %{y}<br>color: %{z}<extra></extra>",
         "name": "0",
         "texttemplate": "%{z:.2f}",
         "type": "heatmap",
         "x": [
          "Unnamed: 0",
          "Video ID",
          "Video Title",
          "Channel",
          "Published Date",
          "Views",
          "Likes",
          "Comments",
          "Subscribers",
          "Channel Views",
          "Country",
          "Region",
          "CategoryID",
          "CategoryName",
          "Cluster",
          "CategoryID_enc",
          "Country_enc",
          "VideoCluster",
          "Channel_Cluster",
          "Video_Cluster",
          "Country_Cluster_x",
          "Category_Cluster_x",
          "Country_Cluster_y",
          "Category_Cluster_y",
          "Year",
          "Month",
          "Day",
          "DayOfWeek",
          "DayName",
          "Views_per_Sub",
          "Engagement",
          "Like_per_Sub",
          "Comment_per_Sub"
         ],
         "xaxis": "x",
         "y": [
          "Unnamed: 0",
          "Video ID",
          "Video Title",
          "Channel",
          "Published Date",
          "Views",
          "Likes",
          "Comments",
          "Subscribers",
          "Channel Views",
          "Country",
          "Region",
          "CategoryID",
          "CategoryName",
          "Cluster",
          "CategoryID_enc",
          "Country_enc",
          "VideoCluster",
          "Channel_Cluster",
          "Video_Cluster",
          "Country_Cluster_x",
          "Category_Cluster_x",
          "Country_Cluster_y",
          "Category_Cluster_y",
          "Year",
          "Month",
          "Day",
          "DayOfWeek",
          "DayName",
          "Views_per_Sub",
          "Engagement",
          "Like_per_Sub",
          "Comment_per_Sub"
         ],
         "yaxis": "y",
         "z": {
          "bdata": "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",
          "dtype": "f8",
          "shape": "33, 33"
         }
        }
       ],
       "layout": {
        "coloraxis": {
         "cmax": 1,
         "cmin": -1,
         "colorscale": [
          [
           0,
           "rgb(5,48,97)"
          ],
          [
           0.1,
           "rgb(33,102,172)"
          ],
          [
           0.2,
           "rgb(67,147,195)"
          ],
          [
           0.3,
           "rgb(146,197,222)"
          ],
          [
           0.4,
           "rgb(209,229,240)"
          ],
          [
           0.5,
           "rgb(247,247,247)"
          ],
          [
           0.6,
           "rgb(253,219,199)"
          ],
          [
           0.7,
           "rgb(244,165,130)"
          ],
          [
           0.8,
           "rgb(214,96,77)"
          ],
          [
           0.9,
           "rgb(178,24,43)"
          ],
          [
           1,
           "rgb(103,0,31)"
          ]
         ]
        },
        "height": 800,
        "template": {
         "data": {
          "bar": [
           {
            "error_x": {
             "color": "#2a3f5f"
            },
            "error_y": {
             "color": "#2a3f5f"
            },
            "marker": {
             "line": {
              "color": "#E5ECF6",
              "width": 0.5
             },
             "pattern": {
              "fillmode": "overlay",
              "size": 10,
              "solidity": 0.2
             }
            },
            "type": "bar"
           }
          ],
          "barpolar": [
           {
            "marker": {
             "line": {
              "color": "#E5ECF6",
              "width": 0.5
             },
             "pattern": {
              "fillmode": "overlay",
              "size": 10,
              "solidity": 0.2
             }
            },
            "type": "barpolar"
           }
          ],
          "carpet": [
           {
            "aaxis": {
             "endlinecolor": "#2a3f5f",
             "gridcolor": "white",
             "linecolor": "white",
             "minorgridcolor": "white",
             "startlinecolor": "#2a3f5f"
            },
            "baxis": {
             "endlinecolor": "#2a3f5f",
             "gridcolor": "white",
             "linecolor": "white",
             "minorgridcolor": "white",
             "startlinecolor": "#2a3f5f"
            },
            "type": "carpet"
           }
          ],
          "choropleth": [
           {
            "colorbar": {
             "outlinewidth": 0,
             "ticks": ""
            },
            "type": "choropleth"
           }
          ],
          "contour": [
           {
            "colorbar": {
             "outlinewidth": 0,
             "ticks": ""
            },
            "colorscale": [
             [
              0,
              "#0d0887"
             ],
             [
              0.1111111111111111,
              "#46039f"
             ],
             [
              0.2222222222222222,
              "#7201a8"
             ],
             [
              0.3333333333333333,
              "#9c179e"
             ],
             [
              0.4444444444444444,
              "#bd3786"
             ],
             [
              0.5555555555555556,
              "#d8576b"
             ],
             [
              0.6666666666666666,
              "#ed7953"
             ],
             [
              0.7777777777777778,
              "#fb9f3a"
             ],
             [
              0.8888888888888888,
              "#fdca26"
             ],
             [
              1,
              "#f0f921"
             ]
            ],
            "type": "contour"
           }
          ],
          "contourcarpet": [
           {
            "colorbar": {
             "outlinewidth": 0,
             "ticks": ""
            },
            "type": "contourcarpet"
           }
          ],
          "heatmap": [
           {
            "colorbar": {
             "outlinewidth": 0,
             "ticks": ""
            },
            "colorscale": [
             [
              0,
              "#0d0887"
             ],
             [
              0.1111111111111111,
              "#46039f"
             ],
             [
              0.2222222222222222,
              "#7201a8"
             ],
             [
              0.3333333333333333,
              "#9c179e"
             ],
             [
              0.4444444444444444,
              "#bd3786"
             ],
             [
              0.5555555555555556,
              "#d8576b"
             ],
             [
              0.6666666666666666,
              "#ed7953"
             ],
             [
              0.7777777777777778,
              "#fb9f3a"
             ],
             [
              0.8888888888888888,
              "#fdca26"
             ],
             [
              1,
              "#f0f921"
             ]
            ],
            "type": "heatmap"
           }
          ],
          "histogram": [
           {
            "marker": {
             "pattern": {
              "fillmode": "overlay",
              "size": 10,
              "solidity": 0.2
             }
            },
            "type": "histogram"
           }
          ],
          "histogram2d": [
           {
            "colorbar": {
             "outlinewidth": 0,
             "ticks": ""
            },
            "colorscale": [
             [
              0,
              "#0d0887"
             ],
             [
              0.1111111111111111,
              "#46039f"
             ],
             [
              0.2222222222222222,
              "#7201a8"
             ],
             [
              0.3333333333333333,
              "#9c179e"
             ],
             [
              0.4444444444444444,
              "#bd3786"
             ],
             [
              0.5555555555555556,
              "#d8576b"
             ],
             [
              0.6666666666666666,
              "#ed7953"
             ],
             [
              0.7777777777777778,
              "#fb9f3a"
             ],
             [
              0.8888888888888888,
              "#fdca26"
             ],
             [
              1,
              "#f0f921"
             ]
            ],
            "type": "histogram2d"
           }
          ],
          "histogram2dcontour": [
           {
            "colorbar": {
             "outlinewidth": 0,
             "ticks": ""
            },
            "colorscale": [
             [
              0,
              "#0d0887"
             ],
             [
              0.1111111111111111,
              "#46039f"
             ],
             [
              0.2222222222222222,
              "#7201a8"
             ],
             [
              0.3333333333333333,
              "#9c179e"
             ],
             [
              0.4444444444444444,
              "#bd3786"
             ],
             [
              0.5555555555555556,
              "#d8576b"
             ],
             [
              0.6666666666666666,
              "#ed7953"
             ],
             [
              0.7777777777777778,
              "#fb9f3a"
             ],
             [
              0.8888888888888888,
              "#fdca26"
             ],
             [
              1,
              "#f0f921"
             ]
            ],
            "type": "histogram2dcontour"
           }
          ],
          "mesh3d": [
           {
            "colorbar": {
             "outlinewidth": 0,
             "ticks": ""
            },
            "type": "mesh3d"
           }
          ],
          "parcoords": [
           {
            "line": {
             "colorbar": {
              "outlinewidth": 0,
              "ticks": ""
             }
            },
            "type": "parcoords"
           }
          ],
          "pie": [
           {
            "automargin": true,
            "type": "pie"
           }
          ],
          "scatter": [
           {
            "fillpattern": {
             "fillmode": "overlay",
             "size": 10,
             "solidity": 0.2
            },
            "type": "scatter"
           }
          ],
          "scatter3d": [
           {
            "line": {
             "colorbar": {
              "outlinewidth": 0,
              "ticks": ""
             }
            },
            "marker": {
             "colorbar": {
              "outlinewidth": 0,
              "ticks": ""
             }
            },
            "type": "scatter3d"
           }
          ],
          "scattercarpet": [
           {
            "marker": {
             "colorbar": {
              "outlinewidth": 0,
              "ticks": ""
             }
            },
            "type": "scattercarpet"
           }
          ],
          "scattergeo": [
           {
            "marker": {
             "colorbar": {
              "outlinewidth": 0,
              "ticks": ""
             }
            },
            "type": "scattergeo"
           }
          ],
          "scattergl": [
           {
            "marker": {
             "colorbar": {
              "outlinewidth": 0,
              "ticks": ""
             }
            },
            "type": "scattergl"
           }
          ],
          "scattermap": [
           {
            "marker": {
             "colorbar": {
              "outlinewidth": 0,
              "ticks": ""
             }
            },
            "type": "scattermap"
           }
          ],
          "scattermapbox": [
           {
            "marker": {
             "colorbar": {
              "outlinewidth": 0,
              "ticks": ""
             }
            },
            "type": "scattermapbox"
           }
          ],
          "scatterpolar": [
           {
            "marker": {
             "colorbar": {
              "outlinewidth": 0,
              "ticks": ""
             }
            },
            "type": "scatterpolar"
           }
          ],
          "scatterpolargl": [
           {
            "marker": {
             "colorbar": {
              "outlinewidth": 0,
              "ticks": ""
             }
            },
            "type": "scatterpolargl"
           }
          ],
          "scatterternary": [
           {
            "marker": {
             "colorbar": {
              "outlinewidth": 0,
              "ticks": ""
             }
            },
            "type": "scatterternary"
           }
          ],
          "surface": [
           {
            "colorbar": {
             "outlinewidth": 0,
             "ticks": ""
            },
            "colorscale": [
             [
              0,
              "#0d0887"
             ],
             [
              0.1111111111111111,
              "#46039f"
             ],
             [
              0.2222222222222222,
              "#7201a8"
             ],
             [
              0.3333333333333333,
              "#9c179e"
             ],
             [
              0.4444444444444444,
              "#bd3786"
             ],
             [
              0.5555555555555556,
              "#d8576b"
             ],
             [
              0.6666666666666666,
              "#ed7953"
             ],
             [
              0.7777777777777778,
              "#fb9f3a"
             ],
             [
              0.8888888888888888,
              "#fdca26"
             ],
             [
              1,
              "#f0f921"
             ]
            ],
            "type": "surface"
           }
          ],
          "table": [
           {
            "cells": {
             "fill": {
              "color": "#EBF0F8"
             },
             "line": {
              "color": "white"
             }
            },
            "header": {
             "fill": {
              "color": "#C8D4E3"
             },
             "line": {
              "color": "white"
             }
            },
            "type": "table"
           }
          ]
         },
         "layout": {
          "annotationdefaults": {
           "arrowcolor": "#2a3f5f",
           "arrowhead": 0,
           "arrowwidth": 1
          },
          "autotypenumbers": "strict",
          "coloraxis": {
           "colorbar": {
            "outlinewidth": 0,
            "ticks": ""
           }
          },
          "colorscale": {
           "diverging": [
            [
             0,
             "#8e0152"
            ],
            [
             0.1,
             "#c51b7d"
            ],
            [
             0.2,
             "#de77ae"
            ],
            [
             0.3,
             "#f1b6da"
            ],
            [
             0.4,
             "#fde0ef"
            ],
            [
             0.5,
             "#f7f7f7"
            ],
            [
             0.6,
             "#e6f5d0"
            ],
            [
             0.7,
             "#b8e186"
            ],
            [
             0.8,
             "#7fbc41"
            ],
            [
             0.9,
             "#4d9221"
            ],
            [
             1,
             "#276419"
            ]
           ],
           "sequential": [
            [
             0,
             "#0d0887"
            ],
            [
             0.1111111111111111,
             "#46039f"
            ],
            [
             0.2222222222222222,
             "#7201a8"
            ],
            [
             0.3333333333333333,
             "#9c179e"
            ],
            [
             0.4444444444444444,
             "#bd3786"
            ],
            [
             0.5555555555555556,
             "#d8576b"
            ],
            [
             0.6666666666666666,
             "#ed7953"
            ],
            [
             0.7777777777777778,
             "#fb9f3a"
            ],
            [
             0.8888888888888888,
             "#fdca26"
            ],
            [
             1,
             "#f0f921"
            ]
           ],
           "sequentialminus": [
            [
             0,
             "#0d0887"
            ],
            [
             0.1111111111111111,
             "#46039f"
            ],
            [
             0.2222222222222222,
             "#7201a8"
            ],
            [
             0.3333333333333333,
             "#9c179e"
            ],
            [
             0.4444444444444444,
             "#bd3786"
            ],
            [
             0.5555555555555556,
             "#d8576b"
            ],
            [
             0.6666666666666666,
             "#ed7953"
            ],
            [
             0.7777777777777778,
             "#fb9f3a"
            ],
            [
             0.8888888888888888,
             "#fdca26"
            ],
            [
             1,
             "#f0f921"
            ]
           ]
          },
          "colorway": [
           "#636efa",
           "#EF553B",
           "#00cc96",
           "#ab63fa",
           "#FFA15A",
           "#19d3f3",
           "#FF6692",
           "#B6E880",
           "#FF97FF",
           "#FECB52"
          ],
          "font": {
           "color": "#2a3f5f"
          },
          "geo": {
           "bgcolor": "white",
           "lakecolor": "white",
           "landcolor": "#E5ECF6",
           "showlakes": true,
           "showland": true,
           "subunitcolor": "white"
          },
          "hoverlabel": {
           "align": "left"
          },
          "hovermode": "closest",
          "mapbox": {
           "style": "light"
          },
          "paper_bgcolor": "white",
          "plot_bgcolor": "#E5ECF6",
          "polar": {
           "angularaxis": {
            "gridcolor": "white",
            "linecolor": "white",
            "ticks": ""
           },
           "bgcolor": "#E5ECF6",
           "radialaxis": {
            "gridcolor": "white",
            "linecolor": "white",
            "ticks": ""
           }
          },
          "scene": {
           "xaxis": {
            "backgroundcolor": "#E5ECF6",
            "gridcolor": "white",
            "gridwidth": 2,
            "linecolor": "white",
            "showbackground": true,
            "ticks": "",
            "zerolinecolor": "white"
           },
           "yaxis": {
            "backgroundcolor": "#E5ECF6",
            "gridcolor": "white",
            "gridwidth": 2,
            "linecolor": "white",
            "showbackground": true,
            "ticks": "",
            "zerolinecolor": "white"
           },
           "zaxis": {
            "backgroundcolor": "#E5ECF6",
            "gridcolor": "white",
            "gridwidth": 2,
            "linecolor": "white",
            "showbackground": true,
            "ticks": "",
            "zerolinecolor": "white"
           }
          },
          "shapedefaults": {
           "line": {
            "color": "#2a3f5f"
           }
          },
          "ternary": {
           "aaxis": {
            "gridcolor": "white",
            "linecolor": "white",
            "ticks": ""
           },
           "baxis": {
            "gridcolor": "white",
            "linecolor": "white",
            "ticks": ""
           },
           "bgcolor": "#E5ECF6",
           "caxis": {
            "gridcolor": "white",
            "linecolor": "white",
            "ticks": ""
           }
          },
          "title": {
           "x": 0.05
          },
          "xaxis": {
           "automargin": true,
           "gridcolor": "white",
           "linecolor": "white",
           "ticks": "",
           "title": {
            "standoff": 15
           },
           "zerolinecolor": "white",
           "zerolinewidth": 2
          },
          "yaxis": {
           "automargin": true,
           "gridcolor": "white",
           "linecolor": "white",
           "ticks": "",
           "title": {
            "standoff": 15
           },
           "zerolinecolor": "white",
           "zerolinewidth": 2
          }
         }
        },
        "title": {
         "text": "Correlation Matrix Heatmap (Interactive)"
        },
        "width": 900,
        "xaxis": {
         "anchor": "y",
         "domain": [
          0,
          1
         ],
         "title": {
          "text": "Features"
         }
        },
        "yaxis": {
         "anchor": "x",
         "autorange": "reversed",
         "domain": [
          0,
          1
         ],
         "title": {
          "text": "Features"
         }
        }
       }
      }
     },
     "metadata": {},
     "output_type": "display_data"
    }
   ],
   "source": [
    "import plotly.express as px  \n",
    "\n",
    "corr_long = corr_matrix.reset_index().melt(id_vars='index')  \n",
    "\n",
    "corr_long.columns = ['Feature 1', 'Feature 2', 'Correlation']  \n",
    "\n",
    "fig = px.imshow(\n",
    "    corr_matrix,                  \n",
    "    text_auto='.2f',              \n",
    "    aspect=\"auto\",                \n",
    "    color_continuous_scale='RdBu_r',  \n",
    "    zmin=-1, zmax=1,             \n",
    "    title=\"Correlation Matrix Heatmap (Interactive)\"  \n",
    ")\n",
    "\n",
    "\n",
    "fig.update_layout(\n",
    "    width=900,          \n",
    "    height=800,          \n",
    "    xaxis_title=\"Features\",  \n",
    "    yaxis_title=\"Features\"   \n",
    ")\n",
    "\n",
    "fig.show()"
   ]
  },
  {
   "cell_type": "markdown",
   "id": "24b9ff59",
   "metadata": {},
   "source": [
    "# Low Variance"
   ]
  },
  {
   "cell_type": "code",
   "execution_count": 11,
   "id": "69e8032e",
   "metadata": {},
   "outputs": [
    {
     "name": "stdout",
     "output_type": "stream",
     "text": [
      "\n",
      "Original shape: (8493, 30)\n",
      "Shape after dropping low-variance features: (8493, 28)\n"
     ]
    }
   ],
   "source": [
    "# Low Variance\n",
    "from sklearn.feature_selection import VarianceThreshold  \n",
    "threshold = 0.01  \n",
    "selector = VarianceThreshold(threshold=threshold)  \n",
    "selector.fit(df_filtered)  \n",
    "low_variance_features = df_filtered.columns[~selector.get_support()] \n",
    "df_low_variance_filtered = df_filtered.drop(columns=low_variance_features)  \n",
    "print(\"\\nOriginal shape:\", df_filtered.shape)  \n",
    "print(\"Shape after dropping low-variance features:\", df_low_variance_filtered.shape)  "
   ]
  },
  {
   "cell_type": "code",
   "execution_count": 12,
   "id": "9c707671",
   "metadata": {},
   "outputs": [
    {
     "name": "stdout",
     "output_type": "stream",
     "text": [
      "Features with low variance (to drop): ['Year', 'Engagement']\n"
     ]
    }
   ],
   "source": [
    "# Past variansli ustunlarni aniqlash:\n",
    "\n",
    "low_variance_features = df_filtered.columns[~selector.get_support()]\n",
    "print(\"Features with low variance (to drop):\", list(low_variance_features))"
   ]
  },
  {
   "cell_type": "code",
   "execution_count": 13,
   "id": "ced94407",
   "metadata": {},
   "outputs": [
    {
     "data": {
      "application/vnd.plotly.v1+json": {
       "config": {
        "plotlyServerURL": "https://plot.ly"
       },
       "data": [
        {
         "hovertemplate": "LowVariance=No<br>Feature=%{x}<br>Variance=%{text}<extra></extra>",
         "legendgroup": "No",
         "marker": {
          "color": "blue",
          "pattern": {
           "shape": ""
          }
         },
         "name": "No",
         "orientation": "v",
         "showlegend": true,
         "text": {
          "bdata": "AAAAILvuVkEAAAAgu+5WQW384MF6l1ZBsq1qnr1KUkHexi7mZsGOP2o2tyNIwNJCNNenJxx0EkJjO/0vI0qXQUEii6TX0NdCw9OqARg0FEQH+y1wT/6EQL/PIFt0JWpAPfC00KssVUBuhcwbkkskQBjLAKK4rb0/QzPuk1qMIUAH+y1wT/6EQOykvTGpdOs/+zep6FcLzD8yHqyj+NTuP8pfr1J5o9E/chTPzyP88z/KX69SeaPRP3IUz88j/PM/hpEEpNe9kz/n5ceYIdgpQGP7d1FRLQ1AvYxqsErYuT+jhELGBa41QR4G2Hm8KZJA9hXyJOCRPkA=",
          "dtype": "f8"
         },
         "textposition": "auto",
         "type": "bar",
         "x": [
          "Unnamed: 0",
          "Video ID",
          "Video Title",
          "Channel",
          "Published Date",
          "Views",
          "Likes",
          "Comments",
          "Subscribers",
          "Channel Views",
          "Country",
          "Region",
          "CategoryID",
          "CategoryName",
          "Cluster",
          "CategoryID_enc",
          "Country_enc",
          "VideoCluster",
          "Channel_Cluster",
          "Video_Cluster",
          "Country_Cluster_x",
          "Category_Cluster_x",
          "Country_Cluster_y",
          "Category_Cluster_y",
          "Month",
          "Day",
          "DayOfWeek",
          "DayName",
          "Views_per_Sub",
          "Like_per_Sub",
          "Comment_per_Sub"
         ],
         "xaxis": "x",
         "y": {
          "bdata": "AAAAILvuVkEAAAAgu+5WQW384MF6l1ZBsq1qnr1KUkHexi7mZsGOP2o2tyNIwNJCNNenJxx0EkJjO/0vI0qXQUEii6TX0NdCw9OqARg0FEQH+y1wT/6EQL/PIFt0JWpAPfC00KssVUBuhcwbkkskQBjLAKK4rb0/QzPuk1qMIUAH+y1wT/6EQOykvTGpdOs/+zep6FcLzD8yHqyj+NTuP8pfr1J5o9E/chTPzyP88z/KX69SeaPRP3IUz88j/PM/hpEEpNe9kz/n5ceYIdgpQGP7d1FRLQ1AvYxqsErYuT+jhELGBa41QR4G2Hm8KZJA9hXyJOCRPkA=",
          "dtype": "f8"
         },
         "yaxis": "y"
        },
        {
         "hovertemplate": "LowVariance=Yes<br>Feature=%{x}<br>Variance=%{text}<extra></extra>",
         "legendgroup": "Yes",
         "marker": {
          "color": "red",
          "pattern": {
           "shape": ""
          }
         },
         "name": "Yes",
         "orientation": "v",
         "showlegend": true,
         "text": {
          "bdata": "AAAAAAAAAAANqcA8+DxMPw==",
          "dtype": "f8"
         },
         "textposition": "auto",
         "type": "bar",
         "x": [
          "Year",
          "Engagement"
         ],
         "xaxis": "x",
         "y": {
          "bdata": "AAAAAAAAAAANqcA8+DxMPw==",
          "dtype": "f8"
         },
         "yaxis": "y"
        }
       ],
       "layout": {
        "barmode": "relative",
        "height": 600,
        "legend": {
         "title": {
          "text": "LowVariance"
         },
         "tracegroupgap": 0
        },
        "template": {
         "data": {
          "bar": [
           {
            "error_x": {
             "color": "#2a3f5f"
            },
            "error_y": {
             "color": "#2a3f5f"
            },
            "marker": {
             "line": {
              "color": "#E5ECF6",
              "width": 0.5
             },
             "pattern": {
              "fillmode": "overlay",
              "size": 10,
              "solidity": 0.2
             }
            },
            "type": "bar"
           }
          ],
          "barpolar": [
           {
            "marker": {
             "line": {
              "color": "#E5ECF6",
              "width": 0.5
             },
             "pattern": {
              "fillmode": "overlay",
              "size": 10,
              "solidity": 0.2
             }
            },
            "type": "barpolar"
           }
          ],
          "carpet": [
           {
            "aaxis": {
             "endlinecolor": "#2a3f5f",
             "gridcolor": "white",
             "linecolor": "white",
             "minorgridcolor": "white",
             "startlinecolor": "#2a3f5f"
            },
            "baxis": {
             "endlinecolor": "#2a3f5f",
             "gridcolor": "white",
             "linecolor": "white",
             "minorgridcolor": "white",
             "startlinecolor": "#2a3f5f"
            },
            "type": "carpet"
           }
          ],
          "choropleth": [
           {
            "colorbar": {
             "outlinewidth": 0,
             "ticks": ""
            },
            "type": "choropleth"
           }
          ],
          "contour": [
           {
            "colorbar": {
             "outlinewidth": 0,
             "ticks": ""
            },
            "colorscale": [
             [
              0,
              "#0d0887"
             ],
             [
              0.1111111111111111,
              "#46039f"
             ],
             [
              0.2222222222222222,
              "#7201a8"
             ],
             [
              0.3333333333333333,
              "#9c179e"
             ],
             [
              0.4444444444444444,
              "#bd3786"
             ],
             [
              0.5555555555555556,
              "#d8576b"
             ],
             [
              0.6666666666666666,
              "#ed7953"
             ],
             [
              0.7777777777777778,
              "#fb9f3a"
             ],
             [
              0.8888888888888888,
              "#fdca26"
             ],
             [
              1,
              "#f0f921"
             ]
            ],
            "type": "contour"
           }
          ],
          "contourcarpet": [
           {
            "colorbar": {
             "outlinewidth": 0,
             "ticks": ""
            },
            "type": "contourcarpet"
           }
          ],
          "heatmap": [
           {
            "colorbar": {
             "outlinewidth": 0,
             "ticks": ""
            },
            "colorscale": [
             [
              0,
              "#0d0887"
             ],
             [
              0.1111111111111111,
              "#46039f"
             ],
             [
              0.2222222222222222,
              "#7201a8"
             ],
             [
              0.3333333333333333,
              "#9c179e"
             ],
             [
              0.4444444444444444,
              "#bd3786"
             ],
             [
              0.5555555555555556,
              "#d8576b"
             ],
             [
              0.6666666666666666,
              "#ed7953"
             ],
             [
              0.7777777777777778,
              "#fb9f3a"
             ],
             [
              0.8888888888888888,
              "#fdca26"
             ],
             [
              1,
              "#f0f921"
             ]
            ],
            "type": "heatmap"
           }
          ],
          "histogram": [
           {
            "marker": {
             "pattern": {
              "fillmode": "overlay",
              "size": 10,
              "solidity": 0.2
             }
            },
            "type": "histogram"
           }
          ],
          "histogram2d": [
           {
            "colorbar": {
             "outlinewidth": 0,
             "ticks": ""
            },
            "colorscale": [
             [
              0,
              "#0d0887"
             ],
             [
              0.1111111111111111,
              "#46039f"
             ],
             [
              0.2222222222222222,
              "#7201a8"
             ],
             [
              0.3333333333333333,
              "#9c179e"
             ],
             [
              0.4444444444444444,
              "#bd3786"
             ],
             [
              0.5555555555555556,
              "#d8576b"
             ],
             [
              0.6666666666666666,
              "#ed7953"
             ],
             [
              0.7777777777777778,
              "#fb9f3a"
             ],
             [
              0.8888888888888888,
              "#fdca26"
             ],
             [
              1,
              "#f0f921"
             ]
            ],
            "type": "histogram2d"
           }
          ],
          "histogram2dcontour": [
           {
            "colorbar": {
             "outlinewidth": 0,
             "ticks": ""
            },
            "colorscale": [
             [
              0,
              "#0d0887"
             ],
             [
              0.1111111111111111,
              "#46039f"
             ],
             [
              0.2222222222222222,
              "#7201a8"
             ],
             [
              0.3333333333333333,
              "#9c179e"
             ],
             [
              0.4444444444444444,
              "#bd3786"
             ],
             [
              0.5555555555555556,
              "#d8576b"
             ],
             [
              0.6666666666666666,
              "#ed7953"
             ],
             [
              0.7777777777777778,
              "#fb9f3a"
             ],
             [
              0.8888888888888888,
              "#fdca26"
             ],
             [
              1,
              "#f0f921"
             ]
            ],
            "type": "histogram2dcontour"
           }
          ],
          "mesh3d": [
           {
            "colorbar": {
             "outlinewidth": 0,
             "ticks": ""
            },
            "type": "mesh3d"
           }
          ],
          "parcoords": [
           {
            "line": {
             "colorbar": {
              "outlinewidth": 0,
              "ticks": ""
             }
            },
            "type": "parcoords"
           }
          ],
          "pie": [
           {
            "automargin": true,
            "type": "pie"
           }
          ],
          "scatter": [
           {
            "fillpattern": {
             "fillmode": "overlay",
             "size": 10,
             "solidity": 0.2
            },
            "type": "scatter"
           }
          ],
          "scatter3d": [
           {
            "line": {
             "colorbar": {
              "outlinewidth": 0,
              "ticks": ""
             }
            },
            "marker": {
             "colorbar": {
              "outlinewidth": 0,
              "ticks": ""
             }
            },
            "type": "scatter3d"
           }
          ],
          "scattercarpet": [
           {
            "marker": {
             "colorbar": {
              "outlinewidth": 0,
              "ticks": ""
             }
            },
            "type": "scattercarpet"
           }
          ],
          "scattergeo": [
           {
            "marker": {
             "colorbar": {
              "outlinewidth": 0,
              "ticks": ""
             }
            },
            "type": "scattergeo"
           }
          ],
          "scattergl": [
           {
            "marker": {
             "colorbar": {
              "outlinewidth": 0,
              "ticks": ""
             }
            },
            "type": "scattergl"
           }
          ],
          "scattermap": [
           {
            "marker": {
             "colorbar": {
              "outlinewidth": 0,
              "ticks": ""
             }
            },
            "type": "scattermap"
           }
          ],
          "scattermapbox": [
           {
            "marker": {
             "colorbar": {
              "outlinewidth": 0,
              "ticks": ""
             }
            },
            "type": "scattermapbox"
           }
          ],
          "scatterpolar": [
           {
            "marker": {
             "colorbar": {
              "outlinewidth": 0,
              "ticks": ""
             }
            },
            "type": "scatterpolar"
           }
          ],
          "scatterpolargl": [
           {
            "marker": {
             "colorbar": {
              "outlinewidth": 0,
              "ticks": ""
             }
            },
            "type": "scatterpolargl"
           }
          ],
          "scatterternary": [
           {
            "marker": {
             "colorbar": {
              "outlinewidth": 0,
              "ticks": ""
             }
            },
            "type": "scatterternary"
           }
          ],
          "surface": [
           {
            "colorbar": {
             "outlinewidth": 0,
             "ticks": ""
            },
            "colorscale": [
             [
              0,
              "#0d0887"
             ],
             [
              0.1111111111111111,
              "#46039f"
             ],
             [
              0.2222222222222222,
              "#7201a8"
             ],
             [
              0.3333333333333333,
              "#9c179e"
             ],
             [
              0.4444444444444444,
              "#bd3786"
             ],
             [
              0.5555555555555556,
              "#d8576b"
             ],
             [
              0.6666666666666666,
              "#ed7953"
             ],
             [
              0.7777777777777778,
              "#fb9f3a"
             ],
             [
              0.8888888888888888,
              "#fdca26"
             ],
             [
              1,
              "#f0f921"
             ]
            ],
            "type": "surface"
           }
          ],
          "table": [
           {
            "cells": {
             "fill": {
              "color": "#EBF0F8"
             },
             "line": {
              "color": "white"
             }
            },
            "header": {
             "fill": {
              "color": "#C8D4E3"
             },
             "line": {
              "color": "white"
             }
            },
            "type": "table"
           }
          ]
         },
         "layout": {
          "annotationdefaults": {
           "arrowcolor": "#2a3f5f",
           "arrowhead": 0,
           "arrowwidth": 1
          },
          "autotypenumbers": "strict",
          "coloraxis": {
           "colorbar": {
            "outlinewidth": 0,
            "ticks": ""
           }
          },
          "colorscale": {
           "diverging": [
            [
             0,
             "#8e0152"
            ],
            [
             0.1,
             "#c51b7d"
            ],
            [
             0.2,
             "#de77ae"
            ],
            [
             0.3,
             "#f1b6da"
            ],
            [
             0.4,
             "#fde0ef"
            ],
            [
             0.5,
             "#f7f7f7"
            ],
            [
             0.6,
             "#e6f5d0"
            ],
            [
             0.7,
             "#b8e186"
            ],
            [
             0.8,
             "#7fbc41"
            ],
            [
             0.9,
             "#4d9221"
            ],
            [
             1,
             "#276419"
            ]
           ],
           "sequential": [
            [
             0,
             "#0d0887"
            ],
            [
             0.1111111111111111,
             "#46039f"
            ],
            [
             0.2222222222222222,
             "#7201a8"
            ],
            [
             0.3333333333333333,
             "#9c179e"
            ],
            [
             0.4444444444444444,
             "#bd3786"
            ],
            [
             0.5555555555555556,
             "#d8576b"
            ],
            [
             0.6666666666666666,
             "#ed7953"
            ],
            [
             0.7777777777777778,
             "#fb9f3a"
            ],
            [
             0.8888888888888888,
             "#fdca26"
            ],
            [
             1,
             "#f0f921"
            ]
           ],
           "sequentialminus": [
            [
             0,
             "#0d0887"
            ],
            [
             0.1111111111111111,
             "#46039f"
            ],
            [
             0.2222222222222222,
             "#7201a8"
            ],
            [
             0.3333333333333333,
             "#9c179e"
            ],
            [
             0.4444444444444444,
             "#bd3786"
            ],
            [
             0.5555555555555556,
             "#d8576b"
            ],
            [
             0.6666666666666666,
             "#ed7953"
            ],
            [
             0.7777777777777778,
             "#fb9f3a"
            ],
            [
             0.8888888888888888,
             "#fdca26"
            ],
            [
             1,
             "#f0f921"
            ]
           ]
          },
          "colorway": [
           "#636efa",
           "#EF553B",
           "#00cc96",
           "#ab63fa",
           "#FFA15A",
           "#19d3f3",
           "#FF6692",
           "#B6E880",
           "#FF97FF",
           "#FECB52"
          ],
          "font": {
           "color": "#2a3f5f"
          },
          "geo": {
           "bgcolor": "white",
           "lakecolor": "white",
           "landcolor": "#E5ECF6",
           "showlakes": true,
           "showland": true,
           "subunitcolor": "white"
          },
          "hoverlabel": {
           "align": "left"
          },
          "hovermode": "closest",
          "mapbox": {
           "style": "light"
          },
          "paper_bgcolor": "white",
          "plot_bgcolor": "#E5ECF6",
          "polar": {
           "angularaxis": {
            "gridcolor": "white",
            "linecolor": "white",
            "ticks": ""
           },
           "bgcolor": "#E5ECF6",
           "radialaxis": {
            "gridcolor": "white",
            "linecolor": "white",
            "ticks": ""
           }
          },
          "scene": {
           "xaxis": {
            "backgroundcolor": "#E5ECF6",
            "gridcolor": "white",
            "gridwidth": 2,
            "linecolor": "white",
            "showbackground": true,
            "ticks": "",
            "zerolinecolor": "white"
           },
           "yaxis": {
            "backgroundcolor": "#E5ECF6",
            "gridcolor": "white",
            "gridwidth": 2,
            "linecolor": "white",
            "showbackground": true,
            "ticks": "",
            "zerolinecolor": "white"
           },
           "zaxis": {
            "backgroundcolor": "#E5ECF6",
            "gridcolor": "white",
            "gridwidth": 2,
            "linecolor": "white",
            "showbackground": true,
            "ticks": "",
            "zerolinecolor": "white"
           }
          },
          "shapedefaults": {
           "line": {
            "color": "#2a3f5f"
           }
          },
          "ternary": {
           "aaxis": {
            "gridcolor": "white",
            "linecolor": "white",
            "ticks": ""
           },
           "baxis": {
            "gridcolor": "white",
            "linecolor": "white",
            "ticks": ""
           },
           "bgcolor": "#E5ECF6",
           "caxis": {
            "gridcolor": "white",
            "linecolor": "white",
            "ticks": ""
           }
          },
          "title": {
           "x": 0.05
          },
          "xaxis": {
           "automargin": true,
           "gridcolor": "white",
           "linecolor": "white",
           "ticks": "",
           "title": {
            "standoff": 15
           },
           "zerolinecolor": "white",
           "zerolinewidth": 2
          },
          "yaxis": {
           "automargin": true,
           "gridcolor": "white",
           "linecolor": "white",
           "ticks": "",
           "title": {
            "standoff": 15
           },
           "zerolinecolor": "white",
           "zerolinewidth": 2
          }
         }
        },
        "title": {
         "text": "Feature Variance (Low-Variance Highlighted in Red)"
        },
        "width": 1000,
        "xaxis": {
         "anchor": "y",
         "domain": [
          0,
          1
         ],
         "tickangle": -45,
         "title": {
          "text": "Feature"
         }
        },
        "yaxis": {
         "anchor": "x",
         "domain": [
          0,
          1
         ],
         "title": {
          "text": "Variance"
         }
        }
       }
      }
     },
     "metadata": {},
     "output_type": "display_data"
    }
   ],
   "source": [
    "numeric_cols = df.select_dtypes(include=[np.number]).columns\n",
    "variances = df[numeric_cols].var()\n",
    "threshold = 0.01\n",
    "low_variance_features = variances[variances < threshold].index.tolist()\n",
    "var_df = pd.DataFrame({\n",
    "    'Feature': variances.index,\n",
    "    'Variance': variances.values,\n",
    "    'LowVariance': ['Yes' if f in low_variance_features else 'No' for f in variances.index]\n",
    "})\n",
    "\n",
    "\n",
    "fig = px.bar(\n",
    "    var_df,\n",
    "    x='Feature',        \n",
    "    y='Variance',       \n",
    "    color='LowVariance',  \n",
    "    color_discrete_map={'Yes': 'red', 'No': 'blue'},  \n",
    "    text='Variance',    \n",
    "    title='Feature Variance (Low-Variance Highlighted in Red)'  \n",
    ")\n",
    "\n",
    "\n",
    "fig.update_layout(\n",
    "    xaxis_tickangle=-45,\n",
    "    width=1000,\n",
    "    height=600\n",
    ")\n",
    "\n",
    "fig.show()"
   ]
  },
  {
   "cell_type": "code",
   "execution_count": 14,
   "id": "7ce218f6",
   "metadata": {},
   "outputs": [
    {
     "name": "stdout",
     "output_type": "stream",
     "text": [
      "<class 'pandas.core.frame.DataFrame'>\n",
      "RangeIndex: 8493 entries, 0 to 8492\n",
      "Data columns (total 30 columns):\n",
      " #   Column              Non-Null Count  Dtype  \n",
      "---  ------              --------------  -----  \n",
      " 0   Unnamed: 0          8493 non-null   int64  \n",
      " 1   Video ID            8493 non-null   int64  \n",
      " 2   Video Title         8493 non-null   int64  \n",
      " 3   Channel             8493 non-null   int64  \n",
      " 4   Published Date      8493 non-null   float64\n",
      " 5   Views               8493 non-null   int64  \n",
      " 6   Likes               8493 non-null   int64  \n",
      " 7   Comments            8493 non-null   int64  \n",
      " 8   Subscribers         8493 non-null   int64  \n",
      " 9   Channel Views       8493 non-null   int64  \n",
      " 10  Country             8493 non-null   int64  \n",
      " 11  Region              8493 non-null   int64  \n",
      " 12  CategoryID          8493 non-null   int64  \n",
      " 13  CategoryName        8493 non-null   int64  \n",
      " 14  Cluster             8493 non-null   int64  \n",
      " 15  CategoryID_enc      8493 non-null   int64  \n",
      " 16  VideoCluster        8493 non-null   int64  \n",
      " 17  Channel_Cluster     8493 non-null   int64  \n",
      " 18  Video_Cluster       8493 non-null   int64  \n",
      " 19  Country_Cluster_x   8493 non-null   int64  \n",
      " 20  Category_Cluster_x  8493 non-null   int64  \n",
      " 21  Year                8493 non-null   int64  \n",
      " 22  Month               8493 non-null   int64  \n",
      " 23  Day                 8493 non-null   int64  \n",
      " 24  DayOfWeek           8493 non-null   int64  \n",
      " 25  DayName             8493 non-null   float64\n",
      " 26  Views_per_Sub       8493 non-null   float64\n",
      " 27  Engagement          8493 non-null   float64\n",
      " 28  Like_per_Sub        8493 non-null   float64\n",
      " 29  Comment_per_Sub     8493 non-null   float64\n",
      "dtypes: float64(6), int64(24)\n",
      "memory usage: 1.9 MB\n"
     ]
    }
   ],
   "source": [
    "df_filtered.info()"
   ]
  },
  {
   "cell_type": "code",
   "execution_count": 15,
   "id": "8749a353",
   "metadata": {},
   "outputs": [],
   "source": [
    "df_filtered.to_csv(r\"C:\\Users\\Rasulbek907\\Desktop\\Project_MP\\Data\\Feature_Selection\\Filtered_Featuress.csv\")"
   ]
  },
  {
   "cell_type": "markdown",
   "id": "7d6f9cf1",
   "metadata": {},
   "source": [
    "# Feature Selection Wrapper "
   ]
  },
  {
   "cell_type": "markdown",
   "id": "fa93df32",
   "metadata": {},
   "source": [
    " # RFE + Linear Regression"
   ]
  },
  {
   "cell_type": "code",
   "execution_count": 16,
   "id": "0532a6fb",
   "metadata": {},
   "outputs": [],
   "source": [
    "from sklearn.feature_selection import RFE\n",
    "from sklearn.linear_model import LinearRegression\n",
    "\n",
    "X = df.drop('CategoryName', axis=1)\n",
    "y = df['CategoryName']"
   ]
  },
  {
   "cell_type": "markdown",
   "id": "8cab9d5e",
   "metadata": {},
   "source": [
    "# RFE + Linear Regression "
   ]
  },
  {
   "cell_type": "code",
   "execution_count": 17,
   "id": "51be7b75",
   "metadata": {},
   "outputs": [
    {
     "name": "stdout",
     "output_type": "stream",
     "text": [
      "Selected features: Index(['Channel', 'Views', 'Likes', 'Comments', 'Subscribers', 'Channel Views',\n",
      "       'Country', 'CategoryID', 'Cluster', 'CategoryID_enc', 'Country_enc',\n",
      "       'VideoCluster', 'Video_Cluster', 'Country_Cluster_x',\n",
      "       'Category_Cluster_x', 'Country_Cluster_y', 'Category_Cluster_y', 'Day',\n",
      "       'DayOfWeek', 'Engagement'],\n",
      "      dtype='object')\n"
     ]
    }
   ],
   "source": [
    "# Oddiy chiziqli regressiya modelini yaratamiz (bu model RFE uchun asos bo'ladi)\n",
    "model = LinearRegression()\n",
    "rfe = RFE(model, n_features_to_select=20)\n",
    "rfe.fit(X, y)\n",
    "selected_features = X.columns[rfe.support_]\n",
    "print(\"Selected features:\", selected_features)"
   ]
  },
  {
   "cell_type": "markdown",
   "id": "33c26b20",
   "metadata": {},
   "source": [
    "# RFE + RandomForestRegressor"
   ]
  },
  {
   "cell_type": "code",
   "execution_count": 18,
   "id": "364f98ac",
   "metadata": {},
   "outputs": [
    {
     "name": "stdout",
     "output_type": "stream",
     "text": [
      "Selected features (RandomForest): Index(['Unnamed: 0', 'Video ID', 'Video Title', 'Channel', 'Published Date',\n",
      "       'Views', 'Likes', 'Comments', 'Subscribers', 'Channel Views',\n",
      "       'CategoryID', 'CategoryID_enc', 'Country_enc', 'Category_Cluster_x',\n",
      "       'Category_Cluster_y', 'Views_per_Sub', 'Engagement', 'Like_per_Sub',\n",
      "       'Comment_per_Sub', 'Published_ts'],\n",
      "      dtype='object')\n"
     ]
    }
   ],
   "source": [
    "from sklearn.ensemble import RandomForestRegressor\n",
    "from sklearn.feature_selection import RFE\n",
    "\n",
    "model = RandomForestRegressor()\n",
    "rfe = RFE(model, n_features_to_select=20)\n",
    "rfe.fit(X, y)\n",
    "\n",
    "selected_features = X.columns[rfe.support_]\n",
    "print(\"Selected features (RandomForest):\", selected_features)\n"
   ]
  },
  {
   "cell_type": "markdown",
   "id": "de559577",
   "metadata": {},
   "source": [
    "# RFE + Decision Tree Regressor "
   ]
  },
  {
   "cell_type": "code",
   "execution_count": 19,
   "id": "67517bc5",
   "metadata": {},
   "outputs": [
    {
     "name": "stdout",
     "output_type": "stream",
     "text": [
      "Selected features (DecisionTree): Index(['Unnamed: 0', 'Video ID', 'Channel', 'Published Date', 'Views', 'Likes',\n",
      "       'Comments', 'Subscribers', 'Channel Views', 'Country', 'CategoryID',\n",
      "       'CategoryID_enc', 'Country_enc', 'Category_Cluster_y', 'Day',\n",
      "       'DayOfWeek', 'Views_per_Sub', 'Engagement', 'Comment_per_Sub',\n",
      "       'Published_ts'],\n",
      "      dtype='object')\n"
     ]
    }
   ],
   "source": [
    "from sklearn.tree import DecisionTreeRegressor\n",
    "\n",
    "model = DecisionTreeRegressor()\n",
    "rfe = RFE(model, n_features_to_select=20)\n",
    "rfe.fit(X, y)\n",
    "\n",
    "selected_features = X.columns[rfe.support_]\n",
    "print(\"Selected features (DecisionTree):\", selected_features)\n"
   ]
  },
  {
   "cell_type": "markdown",
   "id": "f15ff15e",
   "metadata": {},
   "source": [
    "# Feature Selection Embedded + Lasso CV"
   ]
  },
  {
   "cell_type": "code",
   "execution_count": 20,
   "id": "40abdf66",
   "metadata": {},
   "outputs": [
    {
     "name": "stdout",
     "output_type": "stream",
     "text": [
      "Selected features using Lasso (non-zero coefficients):\n",
      "['Published_ts']\n"
     ]
    }
   ],
   "source": [
    "# Xususiyat tanlash uchun Linear Model'larda ishlatiladigan usul (LASSO regression)\n",
    "\n",
    "# LassoCV (L1-regularizatsiya) ni import qilamiz\n",
    "# CV - cross-validation, u model uchun optimal alpha (regulyarizatsiya kuchi) tanlab beradi\n",
    "from sklearn.linear_model import LassoCV\n",
    "X = df.drop('CategoryName', axis=1)\n",
    "y = df['CategoryName']\n",
    "lasso = LassoCV(cv=10, random_state=42).fit(X, y)\n",
    "importance = np.abs(lasso.coef_)\n",
    "selected_features = X.columns[importance > 0]\n",
    "print(\"Selected features using Lasso (non-zero coefficients):\")\n",
    "print(selected_features.tolist())"
   ]
  },
  {
   "cell_type": "code",
   "execution_count": 21,
   "id": "f4113dcd",
   "metadata": {},
   "outputs": [
    {
     "name": "stdout",
     "output_type": "stream",
     "text": [
      "\n",
      "Top 25% important features based on Lasso coefficients:\n",
      "['Unnamed: 0', 'Video ID', 'Video Title', 'Channel', 'Published Date', 'Views', 'Likes', 'Comments', 'Subscribers', 'Channel Views', 'Country', 'Region', 'CategoryID', 'Cluster', 'CategoryID_enc', 'Country_enc', 'VideoCluster', 'Channel_Cluster', 'Video_Cluster', 'Country_Cluster_x', 'Category_Cluster_x', 'Country_Cluster_y', 'Category_Cluster_y', 'Year', 'Month', 'Day', 'DayOfWeek', 'DayName', 'Views_per_Sub', 'Engagement', 'Like_per_Sub', 'Comment_per_Sub', 'Published_ts']\n"
     ]
    }
   ],
   "source": [
    "# Faqat muhim featurelarni saqlab qolish\n",
    "percentile_threshold = np.percentile(importance, 90) \n",
    "top_features = X.columns[importance >= percentile_threshold]\n",
    "print(\"\\nTop 25% important features based on Lasso coefficients:\")\n",
    "print(top_features.tolist())"
   ]
  },
  {
   "cell_type": "code",
   "execution_count": 22,
   "id": "57453e1d",
   "metadata": {},
   "outputs": [
    {
     "name": "stdout",
     "output_type": "stream",
     "text": [
      "Feature Importance Table:\n",
      "               Feature    Importance Top15%\n",
      "32        Published_ts  5.494183e-07    Yes\n",
      "0           Unnamed: 0  0.000000e+00    Yes\n",
      "1             Video ID  0.000000e+00    Yes\n",
      "3              Channel  0.000000e+00    Yes\n",
      "2          Video Title  0.000000e+00    Yes\n",
      "5                Views  0.000000e+00    Yes\n",
      "6                Likes  0.000000e+00    Yes\n",
      "7             Comments  0.000000e+00    Yes\n",
      "4       Published Date  0.000000e+00    Yes\n",
      "9        Channel Views  0.000000e+00    Yes\n",
      "10             Country  0.000000e+00    Yes\n",
      "11              Region  0.000000e+00    Yes\n",
      "12          CategoryID  0.000000e+00    Yes\n",
      "13             Cluster  0.000000e+00    Yes\n",
      "14      CategoryID_enc  0.000000e+00    Yes\n",
      "15         Country_enc  0.000000e+00    Yes\n",
      "8          Subscribers  0.000000e+00    Yes\n",
      "16        VideoCluster  0.000000e+00    Yes\n",
      "17     Channel_Cluster  0.000000e+00    Yes\n",
      "19   Country_Cluster_x  0.000000e+00    Yes\n",
      "18       Video_Cluster  0.000000e+00    Yes\n",
      "21   Country_Cluster_y  0.000000e+00    Yes\n",
      "22  Category_Cluster_y  0.000000e+00    Yes\n",
      "23                Year  0.000000e+00    Yes\n",
      "20  Category_Cluster_x  0.000000e+00    Yes\n",
      "24               Month  0.000000e+00    Yes\n",
      "25                 Day  0.000000e+00    Yes\n",
      "27             DayName  0.000000e+00    Yes\n",
      "26           DayOfWeek  0.000000e+00    Yes\n",
      "28       Views_per_Sub  0.000000e+00    Yes\n",
      "29          Engagement  0.000000e+00    Yes\n",
      "30        Like_per_Sub  0.000000e+00    Yes\n",
      "31     Comment_per_Sub  0.000000e+00    Yes\n"
     ]
    }
   ],
   "source": [
    "# Feature importance'ni jadval shaklida tayyorlash\n",
    "\n",
    "feat_df = pd.DataFrame({\n",
    "    'Feature': X.columns,\n",
    "    'Importance': importance\n",
    "})\n",
    "\n",
    "# Importance qiymatlariga qarab kamayish tartibida (eng muhimdan kam muhimga qarab) saralaymiz\n",
    "feat_df = feat_df.sort_values(by='Importance', ascending=False)\n",
    "percentile_threshold = np.percentile(importance, 85)\n",
    "feat_df['Top15%'] = np.where(feat_df['Importance'] >= percentile_threshold, 'Yes', 'No')\n",
    "print(\"Feature Importance Table:\")\n",
    "print(feat_df)"
   ]
  },
  {
   "cell_type": "code",
   "execution_count": 23,
   "id": "fe8fcbaf",
   "metadata": {},
   "outputs": [
    {
     "data": {
      "application/vnd.plotly.v1+json": {
       "config": {
        "plotlyServerURL": "https://plot.ly"
       },
       "data": [
        {
         "hovertemplate": "Top15%=Yes<br>Feature=%{x}<br>Importance=%{text}<extra></extra>",
         "legendgroup": "Yes",
         "marker": {
          "color": "red",
          "pattern": {
           "shape": ""
          }
         },
         "name": "Yes",
         "orientation": "v",
         "showlegend": true,
         "text": {
          "bdata": "y+6opHdvoj4AAAAAAAAAAAAAAAAAAAAAAAAAAAAAAAAAAAAAAAAAAAAAAAAAAAAAAAAAAAAAAAAAAAAAAAAAAAAAAAAAAAAAAAAAAAAAAAAAAAAAAAAAAAAAAAAAAAAAAAAAAAAAAAAAAAAAAAAAAAAAAAAAAAAAAAAAAAAAAAAAAAAAAAAAAAAAAAAAAAAAAAAAAAAAAAAAAAAAAAAAAAAAAAAAAAAAAAAAAAAAAAAAAAAAAAAAAAAAAAAAAAAAAAAAAAAAAAAAAAAAAAAAAAAAAAAAAAAAAAAAAAAAAAAAAAAAAAAAAAAAAAAAAAAAAAAAAAAAAAAAAAAAAAAAAAAAAAAAAAAA",
          "dtype": "f8"
         },
         "textposition": "auto",
         "type": "bar",
         "x": [
          "Published_ts",
          "Unnamed: 0",
          "Video ID",
          "Channel",
          "Video Title",
          "Views",
          "Likes",
          "Comments",
          "Published Date",
          "Channel Views",
          "Country",
          "Region",
          "CategoryID",
          "Cluster",
          "CategoryID_enc",
          "Country_enc",
          "Subscribers",
          "VideoCluster",
          "Channel_Cluster",
          "Country_Cluster_x",
          "Video_Cluster",
          "Country_Cluster_y",
          "Category_Cluster_y",
          "Year",
          "Category_Cluster_x",
          "Month",
          "Day",
          "DayName",
          "DayOfWeek",
          "Views_per_Sub",
          "Engagement",
          "Like_per_Sub",
          "Comment_per_Sub"
         ],
         "xaxis": "x",
         "y": {
          "bdata": "y+6opHdvoj4AAAAAAAAAAAAAAAAAAAAAAAAAAAAAAAAAAAAAAAAAAAAAAAAAAAAAAAAAAAAAAAAAAAAAAAAAAAAAAAAAAAAAAAAAAAAAAAAAAAAAAAAAAAAAAAAAAAAAAAAAAAAAAAAAAAAAAAAAAAAAAAAAAAAAAAAAAAAAAAAAAAAAAAAAAAAAAAAAAAAAAAAAAAAAAAAAAAAAAAAAAAAAAAAAAAAAAAAAAAAAAAAAAAAAAAAAAAAAAAAAAAAAAAAAAAAAAAAAAAAAAAAAAAAAAAAAAAAAAAAAAAAAAAAAAAAAAAAAAAAAAAAAAAAAAAAAAAAAAAAAAAAAAAAAAAAAAAAAAAAA",
          "dtype": "f8"
         },
         "yaxis": "y"
        }
       ],
       "layout": {
        "barmode": "relative",
        "height": 600,
        "legend": {
         "title": {
          "text": "Top15%"
         },
         "tracegroupgap": 0
        },
        "template": {
         "data": {
          "bar": [
           {
            "error_x": {
             "color": "#2a3f5f"
            },
            "error_y": {
             "color": "#2a3f5f"
            },
            "marker": {
             "line": {
              "color": "#E5ECF6",
              "width": 0.5
             },
             "pattern": {
              "fillmode": "overlay",
              "size": 10,
              "solidity": 0.2
             }
            },
            "type": "bar"
           }
          ],
          "barpolar": [
           {
            "marker": {
             "line": {
              "color": "#E5ECF6",
              "width": 0.5
             },
             "pattern": {
              "fillmode": "overlay",
              "size": 10,
              "solidity": 0.2
             }
            },
            "type": "barpolar"
           }
          ],
          "carpet": [
           {
            "aaxis": {
             "endlinecolor": "#2a3f5f",
             "gridcolor": "white",
             "linecolor": "white",
             "minorgridcolor": "white",
             "startlinecolor": "#2a3f5f"
            },
            "baxis": {
             "endlinecolor": "#2a3f5f",
             "gridcolor": "white",
             "linecolor": "white",
             "minorgridcolor": "white",
             "startlinecolor": "#2a3f5f"
            },
            "type": "carpet"
           }
          ],
          "choropleth": [
           {
            "colorbar": {
             "outlinewidth": 0,
             "ticks": ""
            },
            "type": "choropleth"
           }
          ],
          "contour": [
           {
            "colorbar": {
             "outlinewidth": 0,
             "ticks": ""
            },
            "colorscale": [
             [
              0,
              "#0d0887"
             ],
             [
              0.1111111111111111,
              "#46039f"
             ],
             [
              0.2222222222222222,
              "#7201a8"
             ],
             [
              0.3333333333333333,
              "#9c179e"
             ],
             [
              0.4444444444444444,
              "#bd3786"
             ],
             [
              0.5555555555555556,
              "#d8576b"
             ],
             [
              0.6666666666666666,
              "#ed7953"
             ],
             [
              0.7777777777777778,
              "#fb9f3a"
             ],
             [
              0.8888888888888888,
              "#fdca26"
             ],
             [
              1,
              "#f0f921"
             ]
            ],
            "type": "contour"
           }
          ],
          "contourcarpet": [
           {
            "colorbar": {
             "outlinewidth": 0,
             "ticks": ""
            },
            "type": "contourcarpet"
           }
          ],
          "heatmap": [
           {
            "colorbar": {
             "outlinewidth": 0,
             "ticks": ""
            },
            "colorscale": [
             [
              0,
              "#0d0887"
             ],
             [
              0.1111111111111111,
              "#46039f"
             ],
             [
              0.2222222222222222,
              "#7201a8"
             ],
             [
              0.3333333333333333,
              "#9c179e"
             ],
             [
              0.4444444444444444,
              "#bd3786"
             ],
             [
              0.5555555555555556,
              "#d8576b"
             ],
             [
              0.6666666666666666,
              "#ed7953"
             ],
             [
              0.7777777777777778,
              "#fb9f3a"
             ],
             [
              0.8888888888888888,
              "#fdca26"
             ],
             [
              1,
              "#f0f921"
             ]
            ],
            "type": "heatmap"
           }
          ],
          "histogram": [
           {
            "marker": {
             "pattern": {
              "fillmode": "overlay",
              "size": 10,
              "solidity": 0.2
             }
            },
            "type": "histogram"
           }
          ],
          "histogram2d": [
           {
            "colorbar": {
             "outlinewidth": 0,
             "ticks": ""
            },
            "colorscale": [
             [
              0,
              "#0d0887"
             ],
             [
              0.1111111111111111,
              "#46039f"
             ],
             [
              0.2222222222222222,
              "#7201a8"
             ],
             [
              0.3333333333333333,
              "#9c179e"
             ],
             [
              0.4444444444444444,
              "#bd3786"
             ],
             [
              0.5555555555555556,
              "#d8576b"
             ],
             [
              0.6666666666666666,
              "#ed7953"
             ],
             [
              0.7777777777777778,
              "#fb9f3a"
             ],
             [
              0.8888888888888888,
              "#fdca26"
             ],
             [
              1,
              "#f0f921"
             ]
            ],
            "type": "histogram2d"
           }
          ],
          "histogram2dcontour": [
           {
            "colorbar": {
             "outlinewidth": 0,
             "ticks": ""
            },
            "colorscale": [
             [
              0,
              "#0d0887"
             ],
             [
              0.1111111111111111,
              "#46039f"
             ],
             [
              0.2222222222222222,
              "#7201a8"
             ],
             [
              0.3333333333333333,
              "#9c179e"
             ],
             [
              0.4444444444444444,
              "#bd3786"
             ],
             [
              0.5555555555555556,
              "#d8576b"
             ],
             [
              0.6666666666666666,
              "#ed7953"
             ],
             [
              0.7777777777777778,
              "#fb9f3a"
             ],
             [
              0.8888888888888888,
              "#fdca26"
             ],
             [
              1,
              "#f0f921"
             ]
            ],
            "type": "histogram2dcontour"
           }
          ],
          "mesh3d": [
           {
            "colorbar": {
             "outlinewidth": 0,
             "ticks": ""
            },
            "type": "mesh3d"
           }
          ],
          "parcoords": [
           {
            "line": {
             "colorbar": {
              "outlinewidth": 0,
              "ticks": ""
             }
            },
            "type": "parcoords"
           }
          ],
          "pie": [
           {
            "automargin": true,
            "type": "pie"
           }
          ],
          "scatter": [
           {
            "fillpattern": {
             "fillmode": "overlay",
             "size": 10,
             "solidity": 0.2
            },
            "type": "scatter"
           }
          ],
          "scatter3d": [
           {
            "line": {
             "colorbar": {
              "outlinewidth": 0,
              "ticks": ""
             }
            },
            "marker": {
             "colorbar": {
              "outlinewidth": 0,
              "ticks": ""
             }
            },
            "type": "scatter3d"
           }
          ],
          "scattercarpet": [
           {
            "marker": {
             "colorbar": {
              "outlinewidth": 0,
              "ticks": ""
             }
            },
            "type": "scattercarpet"
           }
          ],
          "scattergeo": [
           {
            "marker": {
             "colorbar": {
              "outlinewidth": 0,
              "ticks": ""
             }
            },
            "type": "scattergeo"
           }
          ],
          "scattergl": [
           {
            "marker": {
             "colorbar": {
              "outlinewidth": 0,
              "ticks": ""
             }
            },
            "type": "scattergl"
           }
          ],
          "scattermap": [
           {
            "marker": {
             "colorbar": {
              "outlinewidth": 0,
              "ticks": ""
             }
            },
            "type": "scattermap"
           }
          ],
          "scattermapbox": [
           {
            "marker": {
             "colorbar": {
              "outlinewidth": 0,
              "ticks": ""
             }
            },
            "type": "scattermapbox"
           }
          ],
          "scatterpolar": [
           {
            "marker": {
             "colorbar": {
              "outlinewidth": 0,
              "ticks": ""
             }
            },
            "type": "scatterpolar"
           }
          ],
          "scatterpolargl": [
           {
            "marker": {
             "colorbar": {
              "outlinewidth": 0,
              "ticks": ""
             }
            },
            "type": "scatterpolargl"
           }
          ],
          "scatterternary": [
           {
            "marker": {
             "colorbar": {
              "outlinewidth": 0,
              "ticks": ""
             }
            },
            "type": "scatterternary"
           }
          ],
          "surface": [
           {
            "colorbar": {
             "outlinewidth": 0,
             "ticks": ""
            },
            "colorscale": [
             [
              0,
              "#0d0887"
             ],
             [
              0.1111111111111111,
              "#46039f"
             ],
             [
              0.2222222222222222,
              "#7201a8"
             ],
             [
              0.3333333333333333,
              "#9c179e"
             ],
             [
              0.4444444444444444,
              "#bd3786"
             ],
             [
              0.5555555555555556,
              "#d8576b"
             ],
             [
              0.6666666666666666,
              "#ed7953"
             ],
             [
              0.7777777777777778,
              "#fb9f3a"
             ],
             [
              0.8888888888888888,
              "#fdca26"
             ],
             [
              1,
              "#f0f921"
             ]
            ],
            "type": "surface"
           }
          ],
          "table": [
           {
            "cells": {
             "fill": {
              "color": "#EBF0F8"
             },
             "line": {
              "color": "white"
             }
            },
            "header": {
             "fill": {
              "color": "#C8D4E3"
             },
             "line": {
              "color": "white"
             }
            },
            "type": "table"
           }
          ]
         },
         "layout": {
          "annotationdefaults": {
           "arrowcolor": "#2a3f5f",
           "arrowhead": 0,
           "arrowwidth": 1
          },
          "autotypenumbers": "strict",
          "coloraxis": {
           "colorbar": {
            "outlinewidth": 0,
            "ticks": ""
           }
          },
          "colorscale": {
           "diverging": [
            [
             0,
             "#8e0152"
            ],
            [
             0.1,
             "#c51b7d"
            ],
            [
             0.2,
             "#de77ae"
            ],
            [
             0.3,
             "#f1b6da"
            ],
            [
             0.4,
             "#fde0ef"
            ],
            [
             0.5,
             "#f7f7f7"
            ],
            [
             0.6,
             "#e6f5d0"
            ],
            [
             0.7,
             "#b8e186"
            ],
            [
             0.8,
             "#7fbc41"
            ],
            [
             0.9,
             "#4d9221"
            ],
            [
             1,
             "#276419"
            ]
           ],
           "sequential": [
            [
             0,
             "#0d0887"
            ],
            [
             0.1111111111111111,
             "#46039f"
            ],
            [
             0.2222222222222222,
             "#7201a8"
            ],
            [
             0.3333333333333333,
             "#9c179e"
            ],
            [
             0.4444444444444444,
             "#bd3786"
            ],
            [
             0.5555555555555556,
             "#d8576b"
            ],
            [
             0.6666666666666666,
             "#ed7953"
            ],
            [
             0.7777777777777778,
             "#fb9f3a"
            ],
            [
             0.8888888888888888,
             "#fdca26"
            ],
            [
             1,
             "#f0f921"
            ]
           ],
           "sequentialminus": [
            [
             0,
             "#0d0887"
            ],
            [
             0.1111111111111111,
             "#46039f"
            ],
            [
             0.2222222222222222,
             "#7201a8"
            ],
            [
             0.3333333333333333,
             "#9c179e"
            ],
            [
             0.4444444444444444,
             "#bd3786"
            ],
            [
             0.5555555555555556,
             "#d8576b"
            ],
            [
             0.6666666666666666,
             "#ed7953"
            ],
            [
             0.7777777777777778,
             "#fb9f3a"
            ],
            [
             0.8888888888888888,
             "#fdca26"
            ],
            [
             1,
             "#f0f921"
            ]
           ]
          },
          "colorway": [
           "#636efa",
           "#EF553B",
           "#00cc96",
           "#ab63fa",
           "#FFA15A",
           "#19d3f3",
           "#FF6692",
           "#B6E880",
           "#FF97FF",
           "#FECB52"
          ],
          "font": {
           "color": "#2a3f5f"
          },
          "geo": {
           "bgcolor": "white",
           "lakecolor": "white",
           "landcolor": "#E5ECF6",
           "showlakes": true,
           "showland": true,
           "subunitcolor": "white"
          },
          "hoverlabel": {
           "align": "left"
          },
          "hovermode": "closest",
          "mapbox": {
           "style": "light"
          },
          "paper_bgcolor": "white",
          "plot_bgcolor": "#E5ECF6",
          "polar": {
           "angularaxis": {
            "gridcolor": "white",
            "linecolor": "white",
            "ticks": ""
           },
           "bgcolor": "#E5ECF6",
           "radialaxis": {
            "gridcolor": "white",
            "linecolor": "white",
            "ticks": ""
           }
          },
          "scene": {
           "xaxis": {
            "backgroundcolor": "#E5ECF6",
            "gridcolor": "white",
            "gridwidth": 2,
            "linecolor": "white",
            "showbackground": true,
            "ticks": "",
            "zerolinecolor": "white"
           },
           "yaxis": {
            "backgroundcolor": "#E5ECF6",
            "gridcolor": "white",
            "gridwidth": 2,
            "linecolor": "white",
            "showbackground": true,
            "ticks": "",
            "zerolinecolor": "white"
           },
           "zaxis": {
            "backgroundcolor": "#E5ECF6",
            "gridcolor": "white",
            "gridwidth": 2,
            "linecolor": "white",
            "showbackground": true,
            "ticks": "",
            "zerolinecolor": "white"
           }
          },
          "shapedefaults": {
           "line": {
            "color": "#2a3f5f"
           }
          },
          "ternary": {
           "aaxis": {
            "gridcolor": "white",
            "linecolor": "white",
            "ticks": ""
           },
           "baxis": {
            "gridcolor": "white",
            "linecolor": "white",
            "ticks": ""
           },
           "bgcolor": "#E5ECF6",
           "caxis": {
            "gridcolor": "white",
            "linecolor": "white",
            "ticks": ""
           }
          },
          "title": {
           "x": 0.05
          },
          "xaxis": {
           "automargin": true,
           "gridcolor": "white",
           "linecolor": "white",
           "ticks": "",
           "title": {
            "standoff": 15
           },
           "zerolinecolor": "white",
           "zerolinewidth": 2
          },
          "yaxis": {
           "automargin": true,
           "gridcolor": "white",
           "linecolor": "white",
           "ticks": "",
           "title": {
            "standoff": 15
           },
           "zerolinecolor": "white",
           "zerolinewidth": 2
          }
         }
        },
        "title": {
         "text": "Lasso Feature Importance"
        },
        "width": 1000,
        "xaxis": {
         "anchor": "y",
         "domain": [
          0,
          1
         ],
         "tickangle": -45,
         "title": {
          "text": "Feature"
         }
        },
        "yaxis": {
         "anchor": "x",
         "domain": [
          0,
          1
         ],
         "title": {
          "text": "Importance"
         }
        }
       }
      }
     },
     "metadata": {},
     "output_type": "display_data"
    }
   ],
   "source": [
    "fig = px.bar(\n",
    "    feat_df,                \n",
    "    x='Feature',            \n",
    "    y='Importance',         \n",
    "    color='Top15%',         \n",
    "    color_discrete_map={'Yes': 'red', 'No': 'blue'},  \n",
    "    text='Importance',      \n",
    "    title='Lasso Feature Importance'  \n",
    ")\n",
    "\n",
    "\n",
    "fig.update_layout(\n",
    "    xaxis_tickangle=-45,  \n",
    "    width=1000,           \n",
    "    height=600            \n",
    ")\n",
    "\n",
    "fig.show()"
   ]
  },
  {
   "cell_type": "markdown",
   "id": "c389da5f",
   "metadata": {},
   "source": [
    "# Feature Selection Embedded + Random Forest Regression "
   ]
  },
  {
   "cell_type": "code",
   "execution_count": 24,
   "id": "bb20aeed",
   "metadata": {},
   "outputs": [
    {
     "name": "stdout",
     "output_type": "stream",
     "text": [
      "Random Forest Feature Importance Table:\n",
      "               Feature    Importance Top15%\n",
      "12          CategoryID  4.992266e-01    Yes\n",
      "14      CategoryID_enc  3.679482e-01    Yes\n",
      "22  Category_Cluster_y  6.782183e-02    Yes\n",
      "20  Category_Cluster_x  6.500340e-02    Yes\n",
      "30        Like_per_Sub  9.717529e-16    Yes\n",
      "8          Subscribers  9.694972e-16     No\n",
      "2          Video Title  9.602479e-16     No\n",
      "32        Published_ts  9.596209e-16     No\n",
      "9        Channel Views  9.393516e-16     No\n",
      "1             Video ID  9.284413e-16     No\n",
      "28       Views_per_Sub  9.168453e-16     No\n",
      "0           Unnamed: 0  9.145345e-16     No\n",
      "4       Published Date  9.104732e-16     No\n",
      "3              Channel  8.703656e-16     No\n",
      "29          Engagement  8.441524e-16     No\n",
      "5                Views  8.273961e-16     No\n",
      "6                Likes  8.008994e-16     No\n",
      "31     Comment_per_Sub  7.174852e-16     No\n",
      "7             Comments  6.161732e-16     No\n",
      "15         Country_enc  4.810968e-16     No\n",
      "10             Country  3.569709e-16     No\n",
      "11              Region  3.331184e-16     No\n",
      "25                 Day  3.005298e-16     No\n",
      "27             DayName  1.071492e-16     No\n",
      "26           DayOfWeek  9.982260e-17     No\n",
      "21   Country_Cluster_y  4.743190e-17     No\n",
      "24               Month  3.160667e-17     No\n",
      "16        VideoCluster  2.353553e-17     No\n",
      "19   Country_Cluster_x  2.321449e-17     No\n",
      "17     Channel_Cluster  8.094852e-18     No\n",
      "13             Cluster  6.506575e-18     No\n",
      "18       Video_Cluster  4.812658e-18     No\n",
      "23                Year  0.000000e+00     No\n"
     ]
    }
   ],
   "source": [
    "# Random Forest Regressorni import qilamiz\n",
    "from sklearn.ensemble import RandomForestRegressor\n",
    "\n",
    "rf = RandomForestRegressor(n_estimators=500, random_state=42)\n",
    "\n",
    "rf.fit(X, y)\n",
    "\n",
    "importances = rf.feature_importances_\n",
    "feat_df = pd.DataFrame({\n",
    "    'Feature': X.columns,       \n",
    "    'Importance': importances   \n",
    "})\n",
    "feat_df = feat_df.sort_values(by='Importance', ascending=False)\n",
    "percentile_threshold = np.percentile(importances, 85)\n",
    "feat_df['Top15%'] = np.where(feat_df['Importance'] >= percentile_threshold, 'Yes', 'No')\n",
    "print(\"Random Forest Feature Importance Table:\")\n",
    "print(feat_df)"
   ]
  },
  {
   "cell_type": "code",
   "execution_count": 25,
   "id": "d4402d64",
   "metadata": {},
   "outputs": [
    {
     "data": {
      "application/vnd.plotly.v1+json": {
       "config": {
        "plotlyServerURL": "https://plot.ly"
       },
       "data": [
        {
         "hovertemplate": "Top15%=Yes<br>Feature=%{x}<br>Importance=%{text}<extra></extra>",
         "legendgroup": "Yes",
         "marker": {
          "color": "red",
          "pattern": {
           "shape": ""
          }
         },
         "name": "Yes",
         "orientation": "v",
         "showlegend": true,
         "text": {
          "bdata": "dkdV/1Pz3z+u3n+fdozXP2wcY3bFXLE/y0ZIDhCksD/zK/tKa4HRPA==",
          "dtype": "f8"
         },
         "textposition": "auto",
         "type": "bar",
         "x": [
          "CategoryID",
          "CategoryID_enc",
          "Category_Cluster_y",
          "Category_Cluster_x",
          "Like_per_Sub"
         ],
         "xaxis": "x",
         "y": {
          "bdata": "dkdV/1Pz3z+u3n+fdozXP2wcY3bFXLE/y0ZIDhCksD/zK/tKa4HRPA==",
          "dtype": "f8"
         },
         "yaxis": "y"
        },
        {
         "hovertemplate": "Top15%=No<br>Feature=%{x}<br>Importance=%{text}<extra></extra>",
         "legendgroup": "No",
         "marker": {
          "color": "blue",
          "pattern": {
           "shape": ""
          }
         },
         "name": "No",
         "orientation": "v",
         "showlegend": true,
         "text": {
          "bdata": "K4GKTwR30TymTsWSXEzRPAhIGFt4SdE85chbr/7r0Dwu3T0OrrnQPAtOV+0zhNA8pxcqzIt50DzCOGwN0WbQPGfdxaS0W888LHFime5pzjxILW/oYc/NPLIxJiP+2sw8oPZPDqLZyTzE7uzkMTPGPKx3FqJVVcE8e+hpVvO4uTykUJ838wC4PD7R4s/Lp7U8/NSGtjbinjy6Ez6cm8WcPDsq+nG2V4s8Sqy+GFI4gjzcU3tfdiJ7PLzLhvK0w3o88qD0bluqYjxoFoG0mwFePJGed8HIMVY8AAAAAAAAAAA=",
          "dtype": "f8"
         },
         "textposition": "auto",
         "type": "bar",
         "x": [
          "Subscribers",
          "Video Title",
          "Published_ts",
          "Channel Views",
          "Video ID",
          "Views_per_Sub",
          "Unnamed: 0",
          "Published Date",
          "Channel",
          "Engagement",
          "Views",
          "Likes",
          "Comment_per_Sub",
          "Comments",
          "Country_enc",
          "Country",
          "Region",
          "Day",
          "DayName",
          "DayOfWeek",
          "Country_Cluster_y",
          "Month",
          "VideoCluster",
          "Country_Cluster_x",
          "Channel_Cluster",
          "Cluster",
          "Video_Cluster",
          "Year"
         ],
         "xaxis": "x",
         "y": {
          "bdata": "K4GKTwR30TymTsWSXEzRPAhIGFt4SdE85chbr/7r0Dwu3T0OrrnQPAtOV+0zhNA8pxcqzIt50DzCOGwN0WbQPGfdxaS0W888LHFime5pzjxILW/oYc/NPLIxJiP+2sw8oPZPDqLZyTzE7uzkMTPGPKx3FqJVVcE8e+hpVvO4uTykUJ838wC4PD7R4s/Lp7U8/NSGtjbinjy6Ez6cm8WcPDsq+nG2V4s8Sqy+GFI4gjzcU3tfdiJ7PLzLhvK0w3o88qD0bluqYjxoFoG0mwFePJGed8HIMVY8AAAAAAAAAAA=",
          "dtype": "f8"
         },
         "yaxis": "y"
        }
       ],
       "layout": {
        "barmode": "relative",
        "height": 600,
        "legend": {
         "title": {
          "text": "Top15%"
         },
         "tracegroupgap": 0
        },
        "template": {
         "data": {
          "bar": [
           {
            "error_x": {
             "color": "#2a3f5f"
            },
            "error_y": {
             "color": "#2a3f5f"
            },
            "marker": {
             "line": {
              "color": "#E5ECF6",
              "width": 0.5
             },
             "pattern": {
              "fillmode": "overlay",
              "size": 10,
              "solidity": 0.2
             }
            },
            "type": "bar"
           }
          ],
          "barpolar": [
           {
            "marker": {
             "line": {
              "color": "#E5ECF6",
              "width": 0.5
             },
             "pattern": {
              "fillmode": "overlay",
              "size": 10,
              "solidity": 0.2
             }
            },
            "type": "barpolar"
           }
          ],
          "carpet": [
           {
            "aaxis": {
             "endlinecolor": "#2a3f5f",
             "gridcolor": "white",
             "linecolor": "white",
             "minorgridcolor": "white",
             "startlinecolor": "#2a3f5f"
            },
            "baxis": {
             "endlinecolor": "#2a3f5f",
             "gridcolor": "white",
             "linecolor": "white",
             "minorgridcolor": "white",
             "startlinecolor": "#2a3f5f"
            },
            "type": "carpet"
           }
          ],
          "choropleth": [
           {
            "colorbar": {
             "outlinewidth": 0,
             "ticks": ""
            },
            "type": "choropleth"
           }
          ],
          "contour": [
           {
            "colorbar": {
             "outlinewidth": 0,
             "ticks": ""
            },
            "colorscale": [
             [
              0,
              "#0d0887"
             ],
             [
              0.1111111111111111,
              "#46039f"
             ],
             [
              0.2222222222222222,
              "#7201a8"
             ],
             [
              0.3333333333333333,
              "#9c179e"
             ],
             [
              0.4444444444444444,
              "#bd3786"
             ],
             [
              0.5555555555555556,
              "#d8576b"
             ],
             [
              0.6666666666666666,
              "#ed7953"
             ],
             [
              0.7777777777777778,
              "#fb9f3a"
             ],
             [
              0.8888888888888888,
              "#fdca26"
             ],
             [
              1,
              "#f0f921"
             ]
            ],
            "type": "contour"
           }
          ],
          "contourcarpet": [
           {
            "colorbar": {
             "outlinewidth": 0,
             "ticks": ""
            },
            "type": "contourcarpet"
           }
          ],
          "heatmap": [
           {
            "colorbar": {
             "outlinewidth": 0,
             "ticks": ""
            },
            "colorscale": [
             [
              0,
              "#0d0887"
             ],
             [
              0.1111111111111111,
              "#46039f"
             ],
             [
              0.2222222222222222,
              "#7201a8"
             ],
             [
              0.3333333333333333,
              "#9c179e"
             ],
             [
              0.4444444444444444,
              "#bd3786"
             ],
             [
              0.5555555555555556,
              "#d8576b"
             ],
             [
              0.6666666666666666,
              "#ed7953"
             ],
             [
              0.7777777777777778,
              "#fb9f3a"
             ],
             [
              0.8888888888888888,
              "#fdca26"
             ],
             [
              1,
              "#f0f921"
             ]
            ],
            "type": "heatmap"
           }
          ],
          "histogram": [
           {
            "marker": {
             "pattern": {
              "fillmode": "overlay",
              "size": 10,
              "solidity": 0.2
             }
            },
            "type": "histogram"
           }
          ],
          "histogram2d": [
           {
            "colorbar": {
             "outlinewidth": 0,
             "ticks": ""
            },
            "colorscale": [
             [
              0,
              "#0d0887"
             ],
             [
              0.1111111111111111,
              "#46039f"
             ],
             [
              0.2222222222222222,
              "#7201a8"
             ],
             [
              0.3333333333333333,
              "#9c179e"
             ],
             [
              0.4444444444444444,
              "#bd3786"
             ],
             [
              0.5555555555555556,
              "#d8576b"
             ],
             [
              0.6666666666666666,
              "#ed7953"
             ],
             [
              0.7777777777777778,
              "#fb9f3a"
             ],
             [
              0.8888888888888888,
              "#fdca26"
             ],
             [
              1,
              "#f0f921"
             ]
            ],
            "type": "histogram2d"
           }
          ],
          "histogram2dcontour": [
           {
            "colorbar": {
             "outlinewidth": 0,
             "ticks": ""
            },
            "colorscale": [
             [
              0,
              "#0d0887"
             ],
             [
              0.1111111111111111,
              "#46039f"
             ],
             [
              0.2222222222222222,
              "#7201a8"
             ],
             [
              0.3333333333333333,
              "#9c179e"
             ],
             [
              0.4444444444444444,
              "#bd3786"
             ],
             [
              0.5555555555555556,
              "#d8576b"
             ],
             [
              0.6666666666666666,
              "#ed7953"
             ],
             [
              0.7777777777777778,
              "#fb9f3a"
             ],
             [
              0.8888888888888888,
              "#fdca26"
             ],
             [
              1,
              "#f0f921"
             ]
            ],
            "type": "histogram2dcontour"
           }
          ],
          "mesh3d": [
           {
            "colorbar": {
             "outlinewidth": 0,
             "ticks": ""
            },
            "type": "mesh3d"
           }
          ],
          "parcoords": [
           {
            "line": {
             "colorbar": {
              "outlinewidth": 0,
              "ticks": ""
             }
            },
            "type": "parcoords"
           }
          ],
          "pie": [
           {
            "automargin": true,
            "type": "pie"
           }
          ],
          "scatter": [
           {
            "fillpattern": {
             "fillmode": "overlay",
             "size": 10,
             "solidity": 0.2
            },
            "type": "scatter"
           }
          ],
          "scatter3d": [
           {
            "line": {
             "colorbar": {
              "outlinewidth": 0,
              "ticks": ""
             }
            },
            "marker": {
             "colorbar": {
              "outlinewidth": 0,
              "ticks": ""
             }
            },
            "type": "scatter3d"
           }
          ],
          "scattercarpet": [
           {
            "marker": {
             "colorbar": {
              "outlinewidth": 0,
              "ticks": ""
             }
            },
            "type": "scattercarpet"
           }
          ],
          "scattergeo": [
           {
            "marker": {
             "colorbar": {
              "outlinewidth": 0,
              "ticks": ""
             }
            },
            "type": "scattergeo"
           }
          ],
          "scattergl": [
           {
            "marker": {
             "colorbar": {
              "outlinewidth": 0,
              "ticks": ""
             }
            },
            "type": "scattergl"
           }
          ],
          "scattermap": [
           {
            "marker": {
             "colorbar": {
              "outlinewidth": 0,
              "ticks": ""
             }
            },
            "type": "scattermap"
           }
          ],
          "scattermapbox": [
           {
            "marker": {
             "colorbar": {
              "outlinewidth": 0,
              "ticks": ""
             }
            },
            "type": "scattermapbox"
           }
          ],
          "scatterpolar": [
           {
            "marker": {
             "colorbar": {
              "outlinewidth": 0,
              "ticks": ""
             }
            },
            "type": "scatterpolar"
           }
          ],
          "scatterpolargl": [
           {
            "marker": {
             "colorbar": {
              "outlinewidth": 0,
              "ticks": ""
             }
            },
            "type": "scatterpolargl"
           }
          ],
          "scatterternary": [
           {
            "marker": {
             "colorbar": {
              "outlinewidth": 0,
              "ticks": ""
             }
            },
            "type": "scatterternary"
           }
          ],
          "surface": [
           {
            "colorbar": {
             "outlinewidth": 0,
             "ticks": ""
            },
            "colorscale": [
             [
              0,
              "#0d0887"
             ],
             [
              0.1111111111111111,
              "#46039f"
             ],
             [
              0.2222222222222222,
              "#7201a8"
             ],
             [
              0.3333333333333333,
              "#9c179e"
             ],
             [
              0.4444444444444444,
              "#bd3786"
             ],
             [
              0.5555555555555556,
              "#d8576b"
             ],
             [
              0.6666666666666666,
              "#ed7953"
             ],
             [
              0.7777777777777778,
              "#fb9f3a"
             ],
             [
              0.8888888888888888,
              "#fdca26"
             ],
             [
              1,
              "#f0f921"
             ]
            ],
            "type": "surface"
           }
          ],
          "table": [
           {
            "cells": {
             "fill": {
              "color": "#EBF0F8"
             },
             "line": {
              "color": "white"
             }
            },
            "header": {
             "fill": {
              "color": "#C8D4E3"
             },
             "line": {
              "color": "white"
             }
            },
            "type": "table"
           }
          ]
         },
         "layout": {
          "annotationdefaults": {
           "arrowcolor": "#2a3f5f",
           "arrowhead": 0,
           "arrowwidth": 1
          },
          "autotypenumbers": "strict",
          "coloraxis": {
           "colorbar": {
            "outlinewidth": 0,
            "ticks": ""
           }
          },
          "colorscale": {
           "diverging": [
            [
             0,
             "#8e0152"
            ],
            [
             0.1,
             "#c51b7d"
            ],
            [
             0.2,
             "#de77ae"
            ],
            [
             0.3,
             "#f1b6da"
            ],
            [
             0.4,
             "#fde0ef"
            ],
            [
             0.5,
             "#f7f7f7"
            ],
            [
             0.6,
             "#e6f5d0"
            ],
            [
             0.7,
             "#b8e186"
            ],
            [
             0.8,
             "#7fbc41"
            ],
            [
             0.9,
             "#4d9221"
            ],
            [
             1,
             "#276419"
            ]
           ],
           "sequential": [
            [
             0,
             "#0d0887"
            ],
            [
             0.1111111111111111,
             "#46039f"
            ],
            [
             0.2222222222222222,
             "#7201a8"
            ],
            [
             0.3333333333333333,
             "#9c179e"
            ],
            [
             0.4444444444444444,
             "#bd3786"
            ],
            [
             0.5555555555555556,
             "#d8576b"
            ],
            [
             0.6666666666666666,
             "#ed7953"
            ],
            [
             0.7777777777777778,
             "#fb9f3a"
            ],
            [
             0.8888888888888888,
             "#fdca26"
            ],
            [
             1,
             "#f0f921"
            ]
           ],
           "sequentialminus": [
            [
             0,
             "#0d0887"
            ],
            [
             0.1111111111111111,
             "#46039f"
            ],
            [
             0.2222222222222222,
             "#7201a8"
            ],
            [
             0.3333333333333333,
             "#9c179e"
            ],
            [
             0.4444444444444444,
             "#bd3786"
            ],
            [
             0.5555555555555556,
             "#d8576b"
            ],
            [
             0.6666666666666666,
             "#ed7953"
            ],
            [
             0.7777777777777778,
             "#fb9f3a"
            ],
            [
             0.8888888888888888,
             "#fdca26"
            ],
            [
             1,
             "#f0f921"
            ]
           ]
          },
          "colorway": [
           "#636efa",
           "#EF553B",
           "#00cc96",
           "#ab63fa",
           "#FFA15A",
           "#19d3f3",
           "#FF6692",
           "#B6E880",
           "#FF97FF",
           "#FECB52"
          ],
          "font": {
           "color": "#2a3f5f"
          },
          "geo": {
           "bgcolor": "white",
           "lakecolor": "white",
           "landcolor": "#E5ECF6",
           "showlakes": true,
           "showland": true,
           "subunitcolor": "white"
          },
          "hoverlabel": {
           "align": "left"
          },
          "hovermode": "closest",
          "mapbox": {
           "style": "light"
          },
          "paper_bgcolor": "white",
          "plot_bgcolor": "#E5ECF6",
          "polar": {
           "angularaxis": {
            "gridcolor": "white",
            "linecolor": "white",
            "ticks": ""
           },
           "bgcolor": "#E5ECF6",
           "radialaxis": {
            "gridcolor": "white",
            "linecolor": "white",
            "ticks": ""
           }
          },
          "scene": {
           "xaxis": {
            "backgroundcolor": "#E5ECF6",
            "gridcolor": "white",
            "gridwidth": 2,
            "linecolor": "white",
            "showbackground": true,
            "ticks": "",
            "zerolinecolor": "white"
           },
           "yaxis": {
            "backgroundcolor": "#E5ECF6",
            "gridcolor": "white",
            "gridwidth": 2,
            "linecolor": "white",
            "showbackground": true,
            "ticks": "",
            "zerolinecolor": "white"
           },
           "zaxis": {
            "backgroundcolor": "#E5ECF6",
            "gridcolor": "white",
            "gridwidth": 2,
            "linecolor": "white",
            "showbackground": true,
            "ticks": "",
            "zerolinecolor": "white"
           }
          },
          "shapedefaults": {
           "line": {
            "color": "#2a3f5f"
           }
          },
          "ternary": {
           "aaxis": {
            "gridcolor": "white",
            "linecolor": "white",
            "ticks": ""
           },
           "baxis": {
            "gridcolor": "white",
            "linecolor": "white",
            "ticks": ""
           },
           "bgcolor": "#E5ECF6",
           "caxis": {
            "gridcolor": "white",
            "linecolor": "white",
            "ticks": ""
           }
          },
          "title": {
           "x": 0.05
          },
          "xaxis": {
           "automargin": true,
           "gridcolor": "white",
           "linecolor": "white",
           "ticks": "",
           "title": {
            "standoff": 15
           },
           "zerolinecolor": "white",
           "zerolinewidth": 2
          },
          "yaxis": {
           "automargin": true,
           "gridcolor": "white",
           "linecolor": "white",
           "ticks": "",
           "title": {
            "standoff": 15
           },
           "zerolinecolor": "white",
           "zerolinewidth": 2
          }
         }
        },
        "title": {
         "text": "Random Forest Feature Importance"
        },
        "width": 1000,
        "xaxis": {
         "anchor": "y",
         "domain": [
          0,
          1
         ],
         "tickangle": -45,
         "title": {
          "text": "Feature"
         }
        },
        "yaxis": {
         "anchor": "x",
         "domain": [
          0,
          1
         ],
         "title": {
          "text": "Importance"
         }
        }
       }
      }
     },
     "metadata": {},
     "output_type": "display_data"
    }
   ],
   "source": [
    "# Plotly Express yordamida Random Forest feature importance'ni grafik ko'rinishida chiqaramiz\n",
    "fig = px.bar(\n",
    "    feat_df,                \n",
    "    x='Feature',            \n",
    "    y='Importance',         \n",
    "    color='Top15%',         \n",
    "    color_discrete_map={'Yes': 'red', 'No': 'blue'},  \n",
    "    text='Importance',      \n",
    "    title='Random Forest Feature Importance'  \n",
    ")\n",
    "\n",
    "\n",
    "fig.update_layout(\n",
    "    xaxis_tickangle=-45,  \n",
    "    width=1000,           \n",
    "    height=600            \n",
    ")\n",
    "\n",
    "fig.show()"
   ]
  },
  {
   "cell_type": "markdown",
   "id": "d9b1c53a",
   "metadata": {},
   "source": [
    "# Feature Selection Embedded + LassoCV  "
   ]
  },
  {
   "cell_type": "code",
   "execution_count": 26,
   "id": "714dfce6",
   "metadata": {},
   "outputs": [
    {
     "name": "stdout",
     "output_type": "stream",
     "text": [
      "LassoCV Feature Importance Table:\n",
      "               Feature    Importance Top15%\n",
      "12          CategoryID  4.716190e-01    Yes\n",
      "29          Engagement  2.286910e-01    Yes\n",
      "14      CategoryID_enc  1.708794e-01    Yes\n",
      "16        VideoCluster  1.232840e-01    Yes\n",
      "26           DayOfWeek  7.071684e-02    Yes\n",
      "18       Video_Cluster  6.393421e-02     No\n",
      "25                 Day  6.066246e-02     No\n",
      "7             Comments  5.411552e-02     No\n",
      "6                Likes  5.143802e-02     No\n",
      "10             Country  4.747209e-02     No\n",
      "20  Category_Cluster_x  4.386135e-02     No\n",
      "13             Cluster  3.634538e-02     No\n",
      "19   Country_Cluster_x  1.056543e-02     No\n",
      "3              Channel  8.545476e-03     No\n",
      "8          Subscribers  6.574240e-03     No\n",
      "11              Region  4.308947e-03     No\n",
      "22  Category_Cluster_y  4.183108e-17     No\n",
      "0           Unnamed: 0  0.000000e+00     No\n",
      "9        Channel Views  0.000000e+00     No\n",
      "15         Country_enc  0.000000e+00     No\n",
      "5                Views  0.000000e+00     No\n",
      "4       Published Date  0.000000e+00     No\n",
      "2          Video Title  0.000000e+00     No\n",
      "1             Video ID  0.000000e+00     No\n",
      "17     Channel_Cluster  0.000000e+00     No\n",
      "24               Month  0.000000e+00     No\n",
      "23                Year  0.000000e+00     No\n",
      "21   Country_Cluster_y  0.000000e+00     No\n",
      "27             DayName  0.000000e+00     No\n",
      "28       Views_per_Sub  0.000000e+00     No\n",
      "30        Like_per_Sub  0.000000e+00     No\n",
      "31     Comment_per_Sub  0.000000e+00     No\n",
      "32        Published_ts  0.000000e+00     No\n"
     ]
    }
   ],
   "source": [
    "import pandas as pd\n",
    "import numpy as np\n",
    "from sklearn.linear_model import LassoCV\n",
    "from sklearn.preprocessing import StandardScaler\n",
    "\n",
    "# (1) Ma'lumotlarni standartlashtirish juda muhim (Lasso uchun shart)\n",
    "scaler = StandardScaler()\n",
    "X_scaled = scaler.fit_transform(X)\n",
    "\n",
    "# (2) LassoCV modelini yaratamiz\n",
    "lasso = LassoCV(cv=5, random_state=42)\n",
    "\n",
    "# (3) Modelni o‘qitamiz\n",
    "lasso.fit(X_scaled, y)\n",
    "\n",
    "# (4) Feature importance (koeffitsientlarning mutlaq qiymati)\n",
    "importances = np.abs(lasso.coef_)\n",
    "\n",
    "# (5) DataFrame ko‘rinishida natijalar\n",
    "feat_df = pd.DataFrame({\n",
    "    'Feature': X.columns,\n",
    "    'Importance': importances\n",
    "}).sort_values(by='Importance', ascending=False)\n",
    "\n",
    "# (6) Yuqori 15% (85-percentile dan yuqori) xususiyatlarni belgilang\n",
    "percentile_threshold = np.percentile(importances, 85)\n",
    "feat_df['Top15%'] = np.where(feat_df['Importance'] >= percentile_threshold, 'Yes', 'No')\n",
    "\n",
    "# (7) Natijani chiqaramiz\n",
    "print(\"LassoCV Feature Importance Table:\")\n",
    "print(feat_df)\n"
   ]
  },
  {
   "cell_type": "code",
   "execution_count": null,
   "id": "4a4a983f",
   "metadata": {},
   "outputs": [],
   "source": []
  }
 ],
 "metadata": {
  "kernelspec": {
   "display_name": "mpvenv",
   "language": "python",
   "name": "python3"
  },
  "language_info": {
   "codemirror_mode": {
    "name": "ipython",
    "version": 3
   },
   "file_extension": ".py",
   "mimetype": "text/x-python",
   "name": "python",
   "nbconvert_exporter": "python",
   "pygments_lexer": "ipython3",
   "version": "3.13.7"
  }
 },
 "nbformat": 4,
 "nbformat_minor": 5
}
