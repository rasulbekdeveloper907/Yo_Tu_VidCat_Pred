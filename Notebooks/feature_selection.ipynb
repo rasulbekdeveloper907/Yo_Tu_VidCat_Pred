{
 "cells": [
  {
   "cell_type": "code",
   "execution_count": 1,
   "id": "b89dc60a",
   "metadata": {},
   "outputs": [],
   "source": [
    "import pandas as pd\n",
    "import logging\n",
    "\n",
    "# Log fayl manzili\n",
    "log_path = r\"C:\\Users\\Rasulbek907\\Desktop\\Project_MP\\Log\\feature_selection.log\"\n",
    "\n",
    "# Log sozlamalari\n",
    "logging.basicConfig(\n",
    "    filename=log_path,\n",
    "    filemode='a',  # Append mode\n",
    "    format='%(asctime)s - %(levelname)s - %(message)s',\n",
    "    level=logging.INFO\n",
    ")\n",
    "\n",
    "try:\n",
    "    logging.info(\"CSV fayl o'qilmoqda:...\")\n",
    "    df = pd.read_csv(r\"C:\\Users\\Rasulbek907\\Desktop\\Project_MP\\Data\\Enginered_Data\\feature_enginering.csv\")\n",
    "    logging.info(f\"Fayl muvaffaqiyatli o'qildi. Satırlar soni: {len(df)} ustunlar soni: {len(df.columns)}\")\n",
    "except Exception as e:\n",
    "    logging.error(f\"CSV faylni o'qishda xatolik: {e}\")"
   ]
  },
  {
   "cell_type": "code",
   "execution_count": null,
   "id": "eecf5ba4",
   "metadata": {},
   "outputs": [],
   "source": []
  },
  {
   "cell_type": "code",
   "execution_count": null,
   "id": "d5096070",
   "metadata": {},
   "outputs": [],
   "source": [
    "import pandas as pd\n",
    "import plotly.express as px\n",
    "\n",
    "# Raqamli ustunlarni tanlash\n",
    "numeric_cols = df.select_dtypes(include=['float64', 'int64']).columns\n",
    "\n",
    "# faqat raqamli ustunlar bo'yicha korrelyatsiya\n",
    "corr_matrix = df[numeric_cols].corr()\n",
    "\n",
    "# life_span ustunining boshqa ustunlar bilan korrelyatsiyasi\n",
    "life_span_corr = corr_matrix[['life_span']].sort_values(by='life_span', ascending=False)\n",
    "\n",
    "# Heatmap uchun DataFrame ni transformatsiya qilish\n",
    "heatmap_data = life_span_corr.reset_index()\n",
    "heatmap_data.columns = ['Feature', 'Correlation_with_life_span']\n",
    "\n",
    "# Plotly Express yordamida bar grafik\n",
    "fig = px.bar(\n",
    "    heatmap_data,\n",
    "    x='Feature',\n",
    "    y='Correlation_with_life_span',\n",
    "    title='life_span bilan boshqa raqamli ustunlar o\\'rtasidagi korrelyatsiya',\n",
    "    labels={'Correlation_with_life_span': 'Korrelyatsiya qiymati', 'Feature': 'Xususiyatlar'}\n",
    ")\n",
    "\n",
    "fig.show()\n"
   ]
  },
  {
   "cell_type": "code",
   "execution_count": null,
   "id": "a3275ded",
   "metadata": {},
   "outputs": [],
   "source": [
    "import numpy as np\n",
    "import plotly.figure_factory as ff\n",
    "\n",
    "# Qiymatlarni 2 xonagacha qisqartirish\n",
    "annot_text = np.around(corr_matrix.values, decimals=2).astype(str)\n",
    "\n",
    "fig = ff.create_annotated_heatmap(\n",
    "    z=corr_matrix.values,\n",
    "    x=list(corr_matrix.columns),\n",
    "    y=list(corr_matrix.index),\n",
    "    annotation_text=annot_text,\n",
    "    colorscale='Viridis',\n",
    "    showscale=True\n",
    ")\n",
    "\n",
    "fig.update_layout(title='Raqamli ustunlar o\\'rtasidagi korrelyatsiya matritsasi')\n",
    "fig.show()"
   ]
  },
  {
   "cell_type": "markdown",
   "id": "d65fbfaf",
   "metadata": {},
   "source": [
    "# Feature Selection Filtering "
   ]
  },
  {
   "cell_type": "code",
   "execution_count": null,
   "id": "ec4ee4a2",
   "metadata": {},
   "outputs": [],
   "source": [
    "import seaborn as sns               \n",
    "import matplotlib.pyplot as plt     \n",
    "\n",
    "\n",
    "corr_matrix = df.corr().abs()  \n",
    "\n",
    "upper = corr_matrix.where(np.triu(np.ones(corr_matrix.shape), k=1).astype(bool))  \n",
    "\n",
    "\n",
    "to_drop = [col for col in upper.columns if any(upper[col] > 0.8)]  \n",
    "corr_matrix = df.corr().abs() \n",
    "print(corr_matrix)  \n"
   ]
  },
  {
   "cell_type": "code",
   "execution_count": null,
   "id": "a0136db8",
   "metadata": {},
   "outputs": [],
   "source": [
    "\n",
    "import numpy as np   \n",
    "\n",
    "corr_matrix = df.corr().abs()  \n",
    "\n",
    "upper = corr_matrix.where(np.triu(np.ones(corr_matrix.shape), k=1).astype(bool))  \n",
    "\n",
    "to_drop = [col for col in upper.columns if any(upper[col] > 0.95)]  \n",
    "\n",
    "df_filtered = df.drop(columns=to_drop)  \n",
    "print(\"\\nOriginal shape:\", df.shape)  \n",
    "\n",
    "print(\"Shape after dropping correlated features:\", df_filtered.shape) \n"
   ]
  },
  {
   "cell_type": "code",
   "execution_count": null,
   "id": "e7f7f0c7",
   "metadata": {},
   "outputs": [],
   "source": [
    "df_filtered.info()"
   ]
  },
  {
   "cell_type": "code",
   "execution_count": null,
   "id": "9afc877c",
   "metadata": {},
   "outputs": [],
   "source": [
    "# Yuqori korrelyatsiyaga ega juftliklarni saqlash uchun bo‘sh ro‘yxat yaratamiz\n",
    "high_corr_pairs = []\n",
    "\n",
    "\n",
    "for col in upper.columns:\n",
    "    \n",
    "    for row in upper.index:\n",
    "        \n",
    "        if upper.loc[row, col] is not np.nan and upper.loc[row, col] > 0.95:\n",
    "            \n",
    "            high_corr_pairs.append([row, col, round(upper.loc[row, col], 2)])\n",
    "\n",
    "\n",
    "corr_table = pd.DataFrame(high_corr_pairs, columns=['Feature 1', 'Feature 2', 'Correlation'])\n",
    "\n",
    "print(\"Highly correlated feature pairs (correlation > 0.95):\")\n",
    "print(corr_table)"
   ]
  },
  {
   "cell_type": "code",
   "execution_count": null,
   "id": "034e899c",
   "metadata": {},
   "outputs": [],
   "source": [
    "import plotly.express as px  \n",
    "\n",
    "corr_long = corr_matrix.reset_index().melt(id_vars='index')  \n",
    "\n",
    "corr_long.columns = ['Feature 1', 'Feature 2', 'Correlation']  \n",
    "\n",
    "fig = px.imshow(\n",
    "    corr_matrix,                  \n",
    "    text_auto='.2f',              \n",
    "    aspect=\"auto\",                \n",
    "    color_continuous_scale='RdBu_r',  \n",
    "    zmin=-1, zmax=1,             \n",
    "    title=\"Correlation Matrix Heatmap (Interactive)\"  \n",
    ")\n",
    "\n",
    "\n",
    "fig.update_layout(\n",
    "    width=900,          \n",
    "    height=800,          \n",
    "    xaxis_title=\"Features\",  \n",
    "    yaxis_title=\"Features\"   \n",
    ")\n",
    "\n",
    "fig.show()"
   ]
  },
  {
   "cell_type": "markdown",
   "id": "24b9ff59",
   "metadata": {},
   "source": [
    "# Low Variance"
   ]
  },
  {
   "cell_type": "code",
   "execution_count": null,
   "id": "69e8032e",
   "metadata": {},
   "outputs": [],
   "source": [
    "# Low Variance\n",
    "from sklearn.feature_selection import VarianceThreshold  \n",
    "threshold = 0.01  \n",
    "selector = VarianceThreshold(threshold=threshold)  \n",
    "selector.fit(df_filtered)  \n",
    "low_variance_features = df_filtered.columns[~selector.get_support()] \n",
    "df_low_variance_filtered = df_filtered.drop(columns=low_variance_features)  \n",
    "print(\"\\nOriginal shape:\", df_filtered.shape)  \n",
    "print(\"Shape after dropping low-variance features:\", df_low_variance_filtered.shape)  "
   ]
  },
  {
   "cell_type": "code",
   "execution_count": null,
   "id": "9c707671",
   "metadata": {},
   "outputs": [],
   "source": [
    "# Past variansli ustunlarni aniqlash:\n",
    "\n",
    "low_variance_features = df_filtered.columns[~selector.get_support()]\n",
    "print(\"Features with low variance (to drop):\", list(low_variance_features))"
   ]
  },
  {
   "cell_type": "code",
   "execution_count": null,
   "id": "ced94407",
   "metadata": {},
   "outputs": [],
   "source": [
    "numeric_cols = df.select_dtypes(include=[np.number]).columns\n",
    "variances = df[numeric_cols].var()\n",
    "threshold = 0.01\n",
    "low_variance_features = variances[variances < threshold].index.tolist()\n",
    "var_df = pd.DataFrame({\n",
    "    'Feature': variances.index,\n",
    "    'Variance': variances.values,\n",
    "    'LowVariance': ['Yes' if f in low_variance_features else 'No' for f in variances.index]\n",
    "})\n",
    "\n",
    "\n",
    "fig = px.bar(\n",
    "    var_df,\n",
    "    x='Feature',        \n",
    "    y='Variance',       \n",
    "    color='LowVariance',  \n",
    "    color_discrete_map={'Yes': 'red', 'No': 'blue'},  \n",
    "    text='Variance',    \n",
    "    title='Feature Variance (Low-Variance Highlighted in Red)'  \n",
    ")\n",
    "\n",
    "\n",
    "fig.update_layout(\n",
    "    xaxis_tickangle=-45,\n",
    "    width=1000,\n",
    "    height=600\n",
    ")\n",
    "\n",
    "fig.show()"
   ]
  },
  {
   "cell_type": "code",
   "execution_count": null,
   "id": "7ce218f6",
   "metadata": {},
   "outputs": [],
   "source": [
    "df_filtered.info()"
   ]
  },
  {
   "cell_type": "code",
   "execution_count": null,
   "id": "8749a353",
   "metadata": {},
   "outputs": [],
   "source": [
    "df_filtered.to_csv(r\"C:\\Users\\Rasulbek907\\Desktop\\Final_Project\\Data\\Feature_selection\\Filtered_Features.csv\")"
   ]
  },
  {
   "cell_type": "markdown",
   "id": "7d6f9cf1",
   "metadata": {},
   "source": [
    "# Feature Selection Wrapper "
   ]
  },
  {
   "cell_type": "markdown",
   "id": "fa93df32",
   "metadata": {},
   "source": [
    " # RFE + Linear Regression"
   ]
  },
  {
   "cell_type": "code",
   "execution_count": null,
   "id": "0532a6fb",
   "metadata": {},
   "outputs": [],
   "source": [
    "from sklearn.feature_selection import RFE\n",
    "from sklearn.linear_model import LinearRegression\n",
    "\n",
    "X = df.drop('life_span', axis=1)\n",
    "y = df['life_span']"
   ]
  },
  {
   "cell_type": "code",
   "execution_count": null,
   "id": "51be7b75",
   "metadata": {},
   "outputs": [],
   "source": [
    "# Oddiy chiziqli regressiya modelini yaratamiz (bu model RFE uchun asos bo'ladi)\n",
    "model = LinearRegression()\n",
    "rfe = RFE(model, n_features_to_select=20)\n",
    "rfe.fit(X, y)\n",
    "selected_features = X.columns[rfe.support_]\n",
    "print(\"Selected features:\", selected_features)"
   ]
  },
  {
   "cell_type": "markdown",
   "id": "33c26b20",
   "metadata": {},
   "source": [
    "# RFE + RandomForestRegressor"
   ]
  },
  {
   "cell_type": "code",
   "execution_count": null,
   "id": "364f98ac",
   "metadata": {},
   "outputs": [],
   "source": [
    "from sklearn.ensemble import RandomForestRegressor\n",
    "from sklearn.feature_selection import RFE\n",
    "\n",
    "model = RandomForestRegressor()\n",
    "rfe = RFE(model, n_features_to_select=20)\n",
    "rfe.fit(X, y)\n",
    "\n",
    "selected_features = X.columns[rfe.support_]\n",
    "print(\"Selected features (RandomForest):\", selected_features)\n"
   ]
  },
  {
   "cell_type": "markdown",
   "id": "de559577",
   "metadata": {},
   "source": [
    "# RFE + Decision Tree Regressor "
   ]
  },
  {
   "cell_type": "code",
   "execution_count": null,
   "id": "67517bc5",
   "metadata": {},
   "outputs": [],
   "source": [
    "from sklearn.tree import DecisionTreeRegressor\n",
    "\n",
    "model = DecisionTreeRegressor()\n",
    "rfe = RFE(model, n_features_to_select=20)\n",
    "rfe.fit(X, y)\n",
    "\n",
    "selected_features = X.columns[rfe.support_]\n",
    "print(\"Selected features (DecisionTree):\", selected_features)\n"
   ]
  },
  {
   "cell_type": "code",
   "execution_count": null,
   "id": "d28a6493",
   "metadata": {},
   "outputs": [],
   "source": [
    "import pandas as pd\n",
    "from sklearn.feature_selection import RFE\n",
    "from sklearn.linear_model import LinearRegression\n",
    "from sklearn.ensemble import RandomForestRegressor\n",
    "from sklearn.tree import DecisionTreeRegressor\n",
    "from sklearn.svm import SVR\n",
    "\n",
    "# Model va ustun sonlarini saqlash uchun bo'sh ro'yxat\n",
    "models = {\n",
    "    \"Linear Regression\": LinearRegression(),\n",
    "    \"Random Forest\": RandomForestRegressor(),\n",
    "    \"Decision Tree\": DecisionTreeRegressor()    \n",
    "}\n",
    "\n",
    "results = []\n",
    "\n",
    "# X va y aniq ekanligini faraz qilamiz\n",
    "for name, model in models.items():\n",
    "    rfe = RFE(model, n_features_to_select=20)  # 20 ta ustun tanlaymiz misol uchun\n",
    "    rfe.fit(X, y)\n",
    "    selected_count = sum(rfe.support_)\n",
    "    results.append({'Model': name, 'Selected Features Count': selected_count})\n",
    "\n",
    "# Natijalarni DataFrame ko'rinishida chiqaramiz\n",
    "results_df = pd.DataFrame(results)\n",
    "print(results_df)\n"
   ]
  },
  {
   "cell_type": "code",
   "execution_count": null,
   "id": "0059e29b",
   "metadata": {},
   "outputs": [],
   "source": [
    "import pandas as pd\n",
    "from sklearn.feature_selection import RFE\n",
    "from sklearn.linear_model import LinearRegression\n",
    "import os\n",
    "\n",
    "X = df.drop('life_span', axis=1)\n",
    "y = df['life_span']\n",
    "\n",
    "model = LinearRegression()\n",
    "rfe = RFE(model, n_features_to_select=20)\n",
    "rfe.fit(X, y)\n",
    "\n",
    "selected_features = X.columns[rfe.support_]\n",
    "\n",
    "# Tanlangan ustunlarni DataFrame ga aylantirish\n",
    "selected_df = pd.DataFrame(selected_features, columns=['Selected Features'])\n",
    "\n",
    "# Saqlash uchun yo'l\n",
    "save_path = r\"C:\\Users\\Rasulbek907\\Desktop\\Final_Project\\Data\\Feature_selection\"\n",
    "os.makedirs(save_path, exist_ok=True)  # Agar papka mavjud bo'lmasa, yaratadi\n",
    "\n",
    "# To'liq fayl nomi\n",
    "file_path = os.path.join(save_path, \"Wrapper.csv\")\n",
    "\n",
    "# CSV ga saqlash\n",
    "selected_df.to_csv(file_path, index=False)\n",
    "\n",
    "print(f\"Tanlangan ustunlar {file_path} ga saqlandi.\")\n"
   ]
  },
  {
   "cell_type": "markdown",
   "id": "f15ff15e",
   "metadata": {},
   "source": [
    "# Feature Selection Embedded + Lasso CV"
   ]
  },
  {
   "cell_type": "code",
   "execution_count": null,
   "id": "40abdf66",
   "metadata": {},
   "outputs": [],
   "source": [
    "# Xususiyat tanlash uchun Linear Model'larda ishlatiladigan usul (LASSO regression)\n",
    "\n",
    "# LassoCV (L1-regularizatsiya) ni import qilamiz\n",
    "# CV - cross-validation, u model uchun optimal alpha (regulyarizatsiya kuchi) tanlab beradi\n",
    "from sklearn.linear_model import LassoCV\n",
    "X = df.drop('life_span', axis=1)\n",
    "y = df['life_span']\n",
    "lasso = LassoCV(cv=10, random_state=42).fit(X, y)\n",
    "importance = np.abs(lasso.coef_)\n",
    "selected_features = X.columns[importance > 0]\n",
    "print(\"Selected features using Lasso (non-zero coefficients):\")\n",
    "print(selected_features.tolist())"
   ]
  },
  {
   "cell_type": "code",
   "execution_count": null,
   "id": "f4113dcd",
   "metadata": {},
   "outputs": [],
   "source": [
    "# Faqat muhim featurelarni saqlab qolish\n",
    "percentile_threshold = np.percentile(importance, 90) \n",
    "top_features = X.columns[importance >= percentile_threshold]\n",
    "print(\"\\nTop 25% important features based on Lasso coefficients:\")\n",
    "print(top_features.tolist())"
   ]
  },
  {
   "cell_type": "code",
   "execution_count": null,
   "id": "57453e1d",
   "metadata": {},
   "outputs": [],
   "source": [
    "# Feature importance'ni jadval shaklida tayyorlash\n",
    "\n",
    "feat_df = pd.DataFrame({\n",
    "    'Feature': X.columns,\n",
    "    'Importance': importance\n",
    "})\n",
    "\n",
    "# Importance qiymatlariga qarab kamayish tartibida (eng muhimdan kam muhimga qarab) saralaymiz\n",
    "feat_df = feat_df.sort_values(by='Importance', ascending=False)\n",
    "percentile_threshold = np.percentile(importance, 85)\n",
    "feat_df['Top15%'] = np.where(feat_df['Importance'] >= percentile_threshold, 'Yes', 'No')\n",
    "print(\"Feature Importance Table:\")\n",
    "print(feat_df)"
   ]
  },
  {
   "cell_type": "code",
   "execution_count": null,
   "id": "fe8fcbaf",
   "metadata": {},
   "outputs": [],
   "source": [
    "fig = px.bar(\n",
    "    feat_df,                \n",
    "    x='Feature',            \n",
    "    y='Importance',         \n",
    "    color='Top15%',         \n",
    "    color_discrete_map={'Yes': 'red', 'No': 'blue'},  \n",
    "    text='Importance',      \n",
    "    title='Lasso Feature Importance'  \n",
    ")\n",
    "\n",
    "\n",
    "fig.update_layout(\n",
    "    xaxis_tickangle=-45,  \n",
    "    width=1000,           \n",
    "    height=600            \n",
    ")\n",
    "\n",
    "fig.show()"
   ]
  },
  {
   "cell_type": "markdown",
   "id": "c389da5f",
   "metadata": {},
   "source": [
    "# Feature Selection Embedded + Random Forest Regression "
   ]
  },
  {
   "cell_type": "code",
   "execution_count": null,
   "id": "bb20aeed",
   "metadata": {},
   "outputs": [],
   "source": [
    "# --- Tree based (Random Forest) Feature Importance ---\n",
    "\n",
    "# Random Forest Regressorni import qilamiz\n",
    "from sklearn.ensemble import RandomForestRegressor\n",
    "\n",
    "rf = RandomForestRegressor(n_estimators=500, random_state=42)\n",
    "\n",
    "rf.fit(X, y)\n",
    "\n",
    "importances = rf.feature_importances_\n",
    "feat_df = pd.DataFrame({\n",
    "    'Feature': X.columns,       \n",
    "    'Importance': importances   \n",
    "})\n",
    "feat_df = feat_df.sort_values(by='Importance', ascending=False)\n",
    "percentile_threshold = np.percentile(importances, 85)\n",
    "feat_df['Top15%'] = np.where(feat_df['Importance'] >= percentile_threshold, 'Yes', 'No')\n",
    "print(\"Random Forest Feature Importance Table:\")\n",
    "print(feat_df)"
   ]
  },
  {
   "cell_type": "code",
   "execution_count": null,
   "id": "d4402d64",
   "metadata": {},
   "outputs": [],
   "source": [
    "# Plotly Express yordamida Random Forest feature importance'ni grafik ko'rinishida chiqaramiz\n",
    "fig = px.bar(\n",
    "    feat_df,                \n",
    "    x='Feature',            \n",
    "    y='Importance',         \n",
    "    color='Top15%',         \n",
    "    color_discrete_map={'Yes': 'red', 'No': 'blue'},  \n",
    "    text='Importance',      \n",
    "    title='Random Forest Feature Importance'  \n",
    ")\n",
    "\n",
    "\n",
    "fig.update_layout(\n",
    "    xaxis_tickangle=-45,  \n",
    "    width=1000,           \n",
    "    height=600            \n",
    ")\n",
    "\n",
    "fig.show()"
   ]
  },
  {
   "cell_type": "code",
   "execution_count": null,
   "id": "714dfce6",
   "metadata": {},
   "outputs": [],
   "source": [
    "import numpy as np\n",
    "import pandas as pd\n",
    "from sklearn.linear_model import LassoCV\n",
    "import os\n",
    "\n",
    "X = df.drop('life_span', axis=1)\n",
    "y = df['life_span']\n",
    "\n",
    "# LassoCV modeli\n",
    "lasso = LassoCV(cv=10, random_state=42).fit(X, y)\n",
    "\n",
    "# Importance qiymatlari (koeffitsientlarning mutlaq qiymati)\n",
    "importance = np.abs(lasso.coef_)\n",
    "\n",
    "# Nolga teng bo'lmagan koeffitsientlar bo'yicha tanlangan ustunlar\n",
    "selected_features = X.columns[importance > 0]\n",
    "\n",
    "print(\"Selected features using Lasso (non-zero coefficients):\")\n",
    "print(selected_features.tolist())\n",
    "\n",
    "# Top 25% muhim ustunlar (percentile orqali)\n",
    "percentile_threshold = np.percentile(importance, 90)\n",
    "top_features = X.columns[importance >= percentile_threshold]\n",
    "\n",
    "print(\"\\nTop 10% important features based on Lasso coefficients:\")\n",
    "print(top_features.tolist())\n",
    "\n",
    "# Feature importance jadvali yaratish\n",
    "feat_df = pd.DataFrame({\n",
    "    'Feature': X.columns,\n",
    "    'Importance': importance\n",
    "})\n",
    "\n",
    "# Muqaddaslik bo'yicha kamayish tartibida saralash\n",
    "feat_df = feat_df.sort_values(by='Importance', ascending=False)\n",
    "\n",
    "# 85 foizlik percentile chegarasini belgilash\n",
    "percentile_threshold_85 = np.percentile(importance, 90)\n",
    "feat_df['Top15%'] = np.where(feat_df['Importance'] >= percentile_threshold_85, 'Yes', 'No')\n",
    "\n",
    "print(\"Feature Importance Table:\")\n",
    "print(feat_df)\n",
    "\n",
    "# CSV saqlash uchun papka yaratish (agar mavjud bo'lmasa)\n",
    "save_path = r\"C:\\Users\\Rasulbek907\\Desktop\\Final_Project\\Data\\Feature_selection\"\n",
    "os.makedirs(save_path, exist_ok=True)\n",
    "\n",
    "# Fayl nomlari\n",
    "selected_file = os.path.join(save_path, \"Lasso_Selected_Features.csv\")\n",
    "importance_file = os.path.join(save_path, \"Lasso_Feature_Importance.csv\")\n",
    "\n",
    "# Tanlangan ustunlarni CSV ga saqlash\n",
    "pd.DataFrame(selected_features, columns=['Selected Features']).to_csv(selected_file, index=False)\n",
    "\n",
    "# Importance jadvalini CSV ga saqlash\n",
    "feat_df.to_csv(importance_file, index=False)\n",
    "\n",
    "print(f\"\\nTanlangan ustunlar {selected_file} ga saqlandi.\")\n",
    "print(f\"Feature importance jadvali {importance_file} ga saqlandi.\")\n"
   ]
  },
  {
   "cell_type": "code",
   "execution_count": null,
   "id": "4a4a983f",
   "metadata": {},
   "outputs": [],
   "source": []
  }
 ],
 "metadata": {
  "kernelspec": {
   "display_name": "mpvenv",
   "language": "python",
   "name": "python3"
  },
  "language_info": {
   "codemirror_mode": {
    "name": "ipython",
    "version": 3
   },
   "file_extension": ".py",
   "mimetype": "text/x-python",
   "name": "python",
   "nbconvert_exporter": "python",
   "pygments_lexer": "ipython3",
   "version": "3.13.7"
  }
 },
 "nbformat": 4,
 "nbformat_minor": 5
}
