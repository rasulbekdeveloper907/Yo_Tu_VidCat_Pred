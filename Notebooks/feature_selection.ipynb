{
 "cells": [
  {
   "cell_type": "code",
   "execution_count": 1,
   "id": "b89dc60a",
   "metadata": {},
   "outputs": [],
   "source": [
    "import pandas as pd\n",
    "import logging\n",
    "\n",
    "# Log fayl manzili\n",
    "log_path = r\"C:\\Users\\Rasulbek907\\Desktop\\Project_MP\\Log\\feature_selection.log\"\n",
    "\n",
    "# Log sozlamalari\n",
    "logging.basicConfig(\n",
    "    filename=log_path,\n",
    "    filemode='a',  # Append mode\n",
    "    format='%(asctime)s - %(levelname)s - %(message)s',\n",
    "    level=logging.INFO\n",
    ")\n",
    "\n",
    "try:\n",
    "    logging.info(\"CSV fayl o'qilmoqda:...\")\n",
    "    df = pd.read_csv(r\"C:\\Users\\Rasulbek907\\Desktop\\Project_MP\\Data\\Preprosessed\\Preprosessed.csv\")\n",
    "    logging.info(f\"Fayl muvaffaqiyatli o'qildi. Satırlar soni: {len(df)} ustunlar soni: {len(df.columns)}\")\n",
    "except Exception as e:\n",
    "    logging.error(f\"CSV faylni o'qishda xatolik: {e}\")"
   ]
  },
  {
   "cell_type": "code",
   "execution_count": 2,
   "id": "eecf5ba4",
   "metadata": {},
   "outputs": [
    {
     "data": {
      "text/html": [
       "<div>\n",
       "<style scoped>\n",
       "    .dataframe tbody tr th:only-of-type {\n",
       "        vertical-align: middle;\n",
       "    }\n",
       "\n",
       "    .dataframe tbody tr th {\n",
       "        vertical-align: top;\n",
       "    }\n",
       "\n",
       "    .dataframe thead th {\n",
       "        text-align: right;\n",
       "    }\n",
       "</style>\n",
       "<table border=\"1\" class=\"dataframe\">\n",
       "  <thead>\n",
       "    <tr style=\"text-align: right;\">\n",
       "      <th></th>\n",
       "      <th>Unnamed: 0</th>\n",
       "      <th>Video ID</th>\n",
       "      <th>Video Title</th>\n",
       "      <th>Channel</th>\n",
       "      <th>Published Date</th>\n",
       "      <th>Views</th>\n",
       "      <th>Likes</th>\n",
       "      <th>Comments</th>\n",
       "      <th>Subscribers</th>\n",
       "      <th>Channel Views</th>\n",
       "      <th>...</th>\n",
       "      <th>Year</th>\n",
       "      <th>Month</th>\n",
       "      <th>Day</th>\n",
       "      <th>DayOfWeek</th>\n",
       "      <th>DayName</th>\n",
       "      <th>Views_per_Sub</th>\n",
       "      <th>Engagement</th>\n",
       "      <th>Like_per_Sub</th>\n",
       "      <th>Comment_per_Sub</th>\n",
       "      <th>Published_ts</th>\n",
       "    </tr>\n",
       "  </thead>\n",
       "  <tbody>\n",
       "    <tr>\n",
       "      <th>0</th>\n",
       "      <td>0</td>\n",
       "      <td>-1.721242</td>\n",
       "      <td>0.094898</td>\n",
       "      <td>-0.733313</td>\n",
       "      <td>0.988754</td>\n",
       "      <td>-0.378194</td>\n",
       "      <td>-0.362793</td>\n",
       "      <td>-0.100989</td>\n",
       "      <td>0.183348</td>\n",
       "      <td>0.021778</td>\n",
       "      <td>...</td>\n",
       "      <td>0.0</td>\n",
       "      <td>0.141625</td>\n",
       "      <td>1.225846</td>\n",
       "      <td>-1.858123</td>\n",
       "      <td>0.166667</td>\n",
       "      <td>0.008288</td>\n",
       "      <td>0.020214</td>\n",
       "      <td>0.000164</td>\n",
       "      <td>0.000004</td>\n",
       "      <td>1.760919e+09</td>\n",
       "    </tr>\n",
       "    <tr>\n",
       "      <th>1</th>\n",
       "      <td>1</td>\n",
       "      <td>-1.141648</td>\n",
       "      <td>-0.732741</td>\n",
       "      <td>0.326218</td>\n",
       "      <td>0.898341</td>\n",
       "      <td>-0.377046</td>\n",
       "      <td>-0.356911</td>\n",
       "      <td>-0.100484</td>\n",
       "      <td>-0.207709</td>\n",
       "      <td>-0.161989</td>\n",
       "      <td>...</td>\n",
       "      <td>0.0</td>\n",
       "      <td>0.141625</td>\n",
       "      <td>0.113043</td>\n",
       "      <td>-0.287141</td>\n",
       "      <td>0.666667</td>\n",
       "      <td>0.240164</td>\n",
       "      <td>0.033996</td>\n",
       "      <td>0.008053</td>\n",
       "      <td>0.000112</td>\n",
       "      <td>1.760631e+09</td>\n",
       "    </tr>\n",
       "    <tr>\n",
       "      <th>2</th>\n",
       "      <td>2</td>\n",
       "      <td>-0.104824</td>\n",
       "      <td>-0.486586</td>\n",
       "      <td>0.469163</td>\n",
       "      <td>0.910707</td>\n",
       "      <td>-0.343066</td>\n",
       "      <td>-0.321594</td>\n",
       "      <td>-0.089758</td>\n",
       "      <td>-0.222435</td>\n",
       "      <td>-0.170367</td>\n",
       "      <td>...</td>\n",
       "      <td>0.0</td>\n",
       "      <td>0.141625</td>\n",
       "      <td>0.391244</td>\n",
       "      <td>0.236520</td>\n",
       "      <td>0.000000</td>\n",
       "      <td>9.482668</td>\n",
       "      <td>0.018693</td>\n",
       "      <td>0.173856</td>\n",
       "      <td>0.003405</td>\n",
       "      <td>1.760670e+09</td>\n",
       "    </tr>\n",
       "    <tr>\n",
       "      <th>3</th>\n",
       "      <td>3</td>\n",
       "      <td>1.301536</td>\n",
       "      <td>1.291973</td>\n",
       "      <td>-0.315894</td>\n",
       "      <td>0.944730</td>\n",
       "      <td>-0.142867</td>\n",
       "      <td>0.189549</td>\n",
       "      <td>-0.084092</td>\n",
       "      <td>-0.221800</td>\n",
       "      <td>-0.166931</td>\n",
       "      <td>...</td>\n",
       "      <td>0.0</td>\n",
       "      <td>0.141625</td>\n",
       "      <td>0.669444</td>\n",
       "      <td>0.760181</td>\n",
       "      <td>0.333333</td>\n",
       "      <td>49.579964</td>\n",
       "      <td>0.036200</td>\n",
       "      <td>1.790621</td>\n",
       "      <td>0.004178</td>\n",
       "      <td>1.760778e+09</td>\n",
       "    </tr>\n",
       "    <tr>\n",
       "      <th>4</th>\n",
       "      <td>4</td>\n",
       "      <td>-0.865923</td>\n",
       "      <td>1.563195</td>\n",
       "      <td>-1.139314</td>\n",
       "      <td>0.892396</td>\n",
       "      <td>-0.354881</td>\n",
       "      <td>-0.301446</td>\n",
       "      <td>-0.006584</td>\n",
       "      <td>0.017232</td>\n",
       "      <td>-0.124141</td>\n",
       "      <td>...</td>\n",
       "      <td>0.0</td>\n",
       "      <td>0.141625</td>\n",
       "      <td>0.113043</td>\n",
       "      <td>-0.287141</td>\n",
       "      <td>0.666667</td>\n",
       "      <td>0.098967</td>\n",
       "      <td>0.041675</td>\n",
       "      <td>0.003743</td>\n",
       "      <td>0.000381</td>\n",
       "      <td>1.760612e+09</td>\n",
       "    </tr>\n",
       "  </tbody>\n",
       "</table>\n",
       "<p>5 rows × 34 columns</p>\n",
       "</div>"
      ],
      "text/plain": [
       "   Unnamed: 0  Video ID  Video Title   Channel  Published Date     Views  \\\n",
       "0           0 -1.721242     0.094898 -0.733313        0.988754 -0.378194   \n",
       "1           1 -1.141648    -0.732741  0.326218        0.898341 -0.377046   \n",
       "2           2 -0.104824    -0.486586  0.469163        0.910707 -0.343066   \n",
       "3           3  1.301536     1.291973 -0.315894        0.944730 -0.142867   \n",
       "4           4 -0.865923     1.563195 -1.139314        0.892396 -0.354881   \n",
       "\n",
       "      Likes  Comments  Subscribers  Channel Views  ...  Year     Month  \\\n",
       "0 -0.362793 -0.100989     0.183348       0.021778  ...   0.0  0.141625   \n",
       "1 -0.356911 -0.100484    -0.207709      -0.161989  ...   0.0  0.141625   \n",
       "2 -0.321594 -0.089758    -0.222435      -0.170367  ...   0.0  0.141625   \n",
       "3  0.189549 -0.084092    -0.221800      -0.166931  ...   0.0  0.141625   \n",
       "4 -0.301446 -0.006584     0.017232      -0.124141  ...   0.0  0.141625   \n",
       "\n",
       "        Day  DayOfWeek   DayName  Views_per_Sub  Engagement  Like_per_Sub  \\\n",
       "0  1.225846  -1.858123  0.166667       0.008288    0.020214      0.000164   \n",
       "1  0.113043  -0.287141  0.666667       0.240164    0.033996      0.008053   \n",
       "2  0.391244   0.236520  0.000000       9.482668    0.018693      0.173856   \n",
       "3  0.669444   0.760181  0.333333      49.579964    0.036200      1.790621   \n",
       "4  0.113043  -0.287141  0.666667       0.098967    0.041675      0.003743   \n",
       "\n",
       "   Comment_per_Sub  Published_ts  \n",
       "0         0.000004  1.760919e+09  \n",
       "1         0.000112  1.760631e+09  \n",
       "2         0.003405  1.760670e+09  \n",
       "3         0.004178  1.760778e+09  \n",
       "4         0.000381  1.760612e+09  \n",
       "\n",
       "[5 rows x 34 columns]"
      ]
     },
     "execution_count": 2,
     "metadata": {},
     "output_type": "execute_result"
    }
   ],
   "source": [
    "df.head()"
   ]
  },
  {
   "cell_type": "code",
   "execution_count": 3,
   "id": "d0682a31",
   "metadata": {},
   "outputs": [
    {
     "name": "stdout",
     "output_type": "stream",
     "text": [
      "<class 'pandas.core.frame.DataFrame'>\n",
      "RangeIndex: 8493 entries, 0 to 8492\n",
      "Data columns (total 34 columns):\n",
      " #   Column              Non-Null Count  Dtype  \n",
      "---  ------              --------------  -----  \n",
      " 0   Unnamed: 0          8493 non-null   int64  \n",
      " 1   Video ID            8493 non-null   float64\n",
      " 2   Video Title         8493 non-null   float64\n",
      " 3   Channel             8493 non-null   float64\n",
      " 4   Published Date      8493 non-null   float64\n",
      " 5   Views               8493 non-null   float64\n",
      " 6   Likes               8493 non-null   float64\n",
      " 7   Comments            8493 non-null   float64\n",
      " 8   Subscribers         8493 non-null   float64\n",
      " 9   Channel Views       8493 non-null   float64\n",
      " 10  Country             8493 non-null   float64\n",
      " 11  Region              8493 non-null   float64\n",
      " 12  CategoryID          8493 non-null   float64\n",
      " 13  CategoryName        8493 non-null   float64\n",
      " 14  Cluster             8493 non-null   float64\n",
      " 15  CategoryID_enc      8493 non-null   float64\n",
      " 16  Country_enc         8493 non-null   float64\n",
      " 17  VideoCluster        8493 non-null   float64\n",
      " 18  Channel_Cluster     8493 non-null   float64\n",
      " 19  Video_Cluster       8493 non-null   float64\n",
      " 20  Country_Cluster_x   8493 non-null   float64\n",
      " 21  Category_Cluster_x  8493 non-null   float64\n",
      " 22  Country_Cluster_y   8493 non-null   float64\n",
      " 23  Category_Cluster_y  8493 non-null   float64\n",
      " 24  Year                8493 non-null   float64\n",
      " 25  Month               8493 non-null   float64\n",
      " 26  Day                 8493 non-null   float64\n",
      " 27  DayOfWeek           8493 non-null   float64\n",
      " 28  DayName             8493 non-null   float64\n",
      " 29  Views_per_Sub       8493 non-null   float64\n",
      " 30  Engagement          8493 non-null   float64\n",
      " 31  Like_per_Sub        8493 non-null   float64\n",
      " 32  Comment_per_Sub     8493 non-null   float64\n",
      " 33  Published_ts        8493 non-null   float64\n",
      "dtypes: float64(33), int64(1)\n",
      "memory usage: 2.2 MB\n"
     ]
    }
   ],
   "source": [
    "df.info()"
   ]
  },
  {
   "cell_type": "code",
   "execution_count": 4,
   "id": "d5096070",
   "metadata": {},
   "outputs": [
    {
     "data": {
      "application/vnd.plotly.v1+json": {
       "config": {
        "plotlyServerURL": "https://plot.ly"
       },
       "data": [
        {
         "hovertemplate": "Xususiyatlar=%{x}<br>Korrelyatsiya qiymati=%{y}<extra></extra>",
         "legendgroup": "",
         "marker": {
          "color": "#636efa",
          "pattern": {
           "shape": ""
          }
         },
         "name": "",
         "orientation": "v",
         "showlegend": false,
         "textposition": "auto",
         "type": "bar",
         "x": [
          "CategoryName",
          "VideoCluster",
          "Video_Cluster",
          "Views",
          "Likes",
          "Cluster",
          "DayName",
          "Country",
          "Country_enc",
          "Views_per_Sub",
          "Channel Views",
          "Like_per_Sub",
          "Channel",
          "Channel_Cluster",
          "Region",
          "Comment_per_Sub",
          "Subscribers",
          "Comments",
          "Video ID",
          "Unnamed: 0",
          "Video Title",
          "Month",
          "Country_Cluster_y",
          "Country_Cluster_x",
          "CategoryID_enc",
          "Category_Cluster_y",
          "Category_Cluster_x",
          "DayOfWeek",
          "Published Date",
          "Published_ts",
          "Day",
          "Engagement",
          "CategoryID",
          "Year"
         ],
         "xaxis": "x",
         "y": {
          "bdata": "AAAAAAAA8D99zzynwebHP/CqievPRsU//8nYR9xHwj++vme9aKDBP6oGCBr2T7A/quU40wq8rD/c9W3+uOeqP9r1bf6456o/miIzy6wWoz/k7DRpyeedPw6pZh2AlZk/uclu198blj/P65k7xJqMP9i7DUjfj4g/TsH27V7Sgj/bGlfCNzxYP2at6/dL91i/B9ovhXOSd7/SgPsxzR96v3umAyR7yHu/933RblmopL9TAgEqj5ipv1MCASqPmKm/u8C8anMttr9rHFhLzj/Bv2scWEvOP8G/PYwyFy3Xw7/9KUlw/nzLvy82SXD+fMu/H12pWgJpzL+y22gjBqfSvxbPgAj/Jd6/AAAAAAAA+H8=",
          "dtype": "f8"
         },
         "yaxis": "y"
        }
       ],
       "layout": {
        "barmode": "relative",
        "legend": {
         "tracegroupgap": 0
        },
        "template": {
         "data": {
          "bar": [
           {
            "error_x": {
             "color": "#2a3f5f"
            },
            "error_y": {
             "color": "#2a3f5f"
            },
            "marker": {
             "line": {
              "color": "#E5ECF6",
              "width": 0.5
             },
             "pattern": {
              "fillmode": "overlay",
              "size": 10,
              "solidity": 0.2
             }
            },
            "type": "bar"
           }
          ],
          "barpolar": [
           {
            "marker": {
             "line": {
              "color": "#E5ECF6",
              "width": 0.5
             },
             "pattern": {
              "fillmode": "overlay",
              "size": 10,
              "solidity": 0.2
             }
            },
            "type": "barpolar"
           }
          ],
          "carpet": [
           {
            "aaxis": {
             "endlinecolor": "#2a3f5f",
             "gridcolor": "white",
             "linecolor": "white",
             "minorgridcolor": "white",
             "startlinecolor": "#2a3f5f"
            },
            "baxis": {
             "endlinecolor": "#2a3f5f",
             "gridcolor": "white",
             "linecolor": "white",
             "minorgridcolor": "white",
             "startlinecolor": "#2a3f5f"
            },
            "type": "carpet"
           }
          ],
          "choropleth": [
           {
            "colorbar": {
             "outlinewidth": 0,
             "ticks": ""
            },
            "type": "choropleth"
           }
          ],
          "contour": [
           {
            "colorbar": {
             "outlinewidth": 0,
             "ticks": ""
            },
            "colorscale": [
             [
              0,
              "#0d0887"
             ],
             [
              0.1111111111111111,
              "#46039f"
             ],
             [
              0.2222222222222222,
              "#7201a8"
             ],
             [
              0.3333333333333333,
              "#9c179e"
             ],
             [
              0.4444444444444444,
              "#bd3786"
             ],
             [
              0.5555555555555556,
              "#d8576b"
             ],
             [
              0.6666666666666666,
              "#ed7953"
             ],
             [
              0.7777777777777778,
              "#fb9f3a"
             ],
             [
              0.8888888888888888,
              "#fdca26"
             ],
             [
              1,
              "#f0f921"
             ]
            ],
            "type": "contour"
           }
          ],
          "contourcarpet": [
           {
            "colorbar": {
             "outlinewidth": 0,
             "ticks": ""
            },
            "type": "contourcarpet"
           }
          ],
          "heatmap": [
           {
            "colorbar": {
             "outlinewidth": 0,
             "ticks": ""
            },
            "colorscale": [
             [
              0,
              "#0d0887"
             ],
             [
              0.1111111111111111,
              "#46039f"
             ],
             [
              0.2222222222222222,
              "#7201a8"
             ],
             [
              0.3333333333333333,
              "#9c179e"
             ],
             [
              0.4444444444444444,
              "#bd3786"
             ],
             [
              0.5555555555555556,
              "#d8576b"
             ],
             [
              0.6666666666666666,
              "#ed7953"
             ],
             [
              0.7777777777777778,
              "#fb9f3a"
             ],
             [
              0.8888888888888888,
              "#fdca26"
             ],
             [
              1,
              "#f0f921"
             ]
            ],
            "type": "heatmap"
           }
          ],
          "histogram": [
           {
            "marker": {
             "pattern": {
              "fillmode": "overlay",
              "size": 10,
              "solidity": 0.2
             }
            },
            "type": "histogram"
           }
          ],
          "histogram2d": [
           {
            "colorbar": {
             "outlinewidth": 0,
             "ticks": ""
            },
            "colorscale": [
             [
              0,
              "#0d0887"
             ],
             [
              0.1111111111111111,
              "#46039f"
             ],
             [
              0.2222222222222222,
              "#7201a8"
             ],
             [
              0.3333333333333333,
              "#9c179e"
             ],
             [
              0.4444444444444444,
              "#bd3786"
             ],
             [
              0.5555555555555556,
              "#d8576b"
             ],
             [
              0.6666666666666666,
              "#ed7953"
             ],
             [
              0.7777777777777778,
              "#fb9f3a"
             ],
             [
              0.8888888888888888,
              "#fdca26"
             ],
             [
              1,
              "#f0f921"
             ]
            ],
            "type": "histogram2d"
           }
          ],
          "histogram2dcontour": [
           {
            "colorbar": {
             "outlinewidth": 0,
             "ticks": ""
            },
            "colorscale": [
             [
              0,
              "#0d0887"
             ],
             [
              0.1111111111111111,
              "#46039f"
             ],
             [
              0.2222222222222222,
              "#7201a8"
             ],
             [
              0.3333333333333333,
              "#9c179e"
             ],
             [
              0.4444444444444444,
              "#bd3786"
             ],
             [
              0.5555555555555556,
              "#d8576b"
             ],
             [
              0.6666666666666666,
              "#ed7953"
             ],
             [
              0.7777777777777778,
              "#fb9f3a"
             ],
             [
              0.8888888888888888,
              "#fdca26"
             ],
             [
              1,
              "#f0f921"
             ]
            ],
            "type": "histogram2dcontour"
           }
          ],
          "mesh3d": [
           {
            "colorbar": {
             "outlinewidth": 0,
             "ticks": ""
            },
            "type": "mesh3d"
           }
          ],
          "parcoords": [
           {
            "line": {
             "colorbar": {
              "outlinewidth": 0,
              "ticks": ""
             }
            },
            "type": "parcoords"
           }
          ],
          "pie": [
           {
            "automargin": true,
            "type": "pie"
           }
          ],
          "scatter": [
           {
            "fillpattern": {
             "fillmode": "overlay",
             "size": 10,
             "solidity": 0.2
            },
            "type": "scatter"
           }
          ],
          "scatter3d": [
           {
            "line": {
             "colorbar": {
              "outlinewidth": 0,
              "ticks": ""
             }
            },
            "marker": {
             "colorbar": {
              "outlinewidth": 0,
              "ticks": ""
             }
            },
            "type": "scatter3d"
           }
          ],
          "scattercarpet": [
           {
            "marker": {
             "colorbar": {
              "outlinewidth": 0,
              "ticks": ""
             }
            },
            "type": "scattercarpet"
           }
          ],
          "scattergeo": [
           {
            "marker": {
             "colorbar": {
              "outlinewidth": 0,
              "ticks": ""
             }
            },
            "type": "scattergeo"
           }
          ],
          "scattergl": [
           {
            "marker": {
             "colorbar": {
              "outlinewidth": 0,
              "ticks": ""
             }
            },
            "type": "scattergl"
           }
          ],
          "scattermap": [
           {
            "marker": {
             "colorbar": {
              "outlinewidth": 0,
              "ticks": ""
             }
            },
            "type": "scattermap"
           }
          ],
          "scattermapbox": [
           {
            "marker": {
             "colorbar": {
              "outlinewidth": 0,
              "ticks": ""
             }
            },
            "type": "scattermapbox"
           }
          ],
          "scatterpolar": [
           {
            "marker": {
             "colorbar": {
              "outlinewidth": 0,
              "ticks": ""
             }
            },
            "type": "scatterpolar"
           }
          ],
          "scatterpolargl": [
           {
            "marker": {
             "colorbar": {
              "outlinewidth": 0,
              "ticks": ""
             }
            },
            "type": "scatterpolargl"
           }
          ],
          "scatterternary": [
           {
            "marker": {
             "colorbar": {
              "outlinewidth": 0,
              "ticks": ""
             }
            },
            "type": "scatterternary"
           }
          ],
          "surface": [
           {
            "colorbar": {
             "outlinewidth": 0,
             "ticks": ""
            },
            "colorscale": [
             [
              0,
              "#0d0887"
             ],
             [
              0.1111111111111111,
              "#46039f"
             ],
             [
              0.2222222222222222,
              "#7201a8"
             ],
             [
              0.3333333333333333,
              "#9c179e"
             ],
             [
              0.4444444444444444,
              "#bd3786"
             ],
             [
              0.5555555555555556,
              "#d8576b"
             ],
             [
              0.6666666666666666,
              "#ed7953"
             ],
             [
              0.7777777777777778,
              "#fb9f3a"
             ],
             [
              0.8888888888888888,
              "#fdca26"
             ],
             [
              1,
              "#f0f921"
             ]
            ],
            "type": "surface"
           }
          ],
          "table": [
           {
            "cells": {
             "fill": {
              "color": "#EBF0F8"
             },
             "line": {
              "color": "white"
             }
            },
            "header": {
             "fill": {
              "color": "#C8D4E3"
             },
             "line": {
              "color": "white"
             }
            },
            "type": "table"
           }
          ]
         },
         "layout": {
          "annotationdefaults": {
           "arrowcolor": "#2a3f5f",
           "arrowhead": 0,
           "arrowwidth": 1
          },
          "autotypenumbers": "strict",
          "coloraxis": {
           "colorbar": {
            "outlinewidth": 0,
            "ticks": ""
           }
          },
          "colorscale": {
           "diverging": [
            [
             0,
             "#8e0152"
            ],
            [
             0.1,
             "#c51b7d"
            ],
            [
             0.2,
             "#de77ae"
            ],
            [
             0.3,
             "#f1b6da"
            ],
            [
             0.4,
             "#fde0ef"
            ],
            [
             0.5,
             "#f7f7f7"
            ],
            [
             0.6,
             "#e6f5d0"
            ],
            [
             0.7,
             "#b8e186"
            ],
            [
             0.8,
             "#7fbc41"
            ],
            [
             0.9,
             "#4d9221"
            ],
            [
             1,
             "#276419"
            ]
           ],
           "sequential": [
            [
             0,
             "#0d0887"
            ],
            [
             0.1111111111111111,
             "#46039f"
            ],
            [
             0.2222222222222222,
             "#7201a8"
            ],
            [
             0.3333333333333333,
             "#9c179e"
            ],
            [
             0.4444444444444444,
             "#bd3786"
            ],
            [
             0.5555555555555556,
             "#d8576b"
            ],
            [
             0.6666666666666666,
             "#ed7953"
            ],
            [
             0.7777777777777778,
             "#fb9f3a"
            ],
            [
             0.8888888888888888,
             "#fdca26"
            ],
            [
             1,
             "#f0f921"
            ]
           ],
           "sequentialminus": [
            [
             0,
             "#0d0887"
            ],
            [
             0.1111111111111111,
             "#46039f"
            ],
            [
             0.2222222222222222,
             "#7201a8"
            ],
            [
             0.3333333333333333,
             "#9c179e"
            ],
            [
             0.4444444444444444,
             "#bd3786"
            ],
            [
             0.5555555555555556,
             "#d8576b"
            ],
            [
             0.6666666666666666,
             "#ed7953"
            ],
            [
             0.7777777777777778,
             "#fb9f3a"
            ],
            [
             0.8888888888888888,
             "#fdca26"
            ],
            [
             1,
             "#f0f921"
            ]
           ]
          },
          "colorway": [
           "#636efa",
           "#EF553B",
           "#00cc96",
           "#ab63fa",
           "#FFA15A",
           "#19d3f3",
           "#FF6692",
           "#B6E880",
           "#FF97FF",
           "#FECB52"
          ],
          "font": {
           "color": "#2a3f5f"
          },
          "geo": {
           "bgcolor": "white",
           "lakecolor": "white",
           "landcolor": "#E5ECF6",
           "showlakes": true,
           "showland": true,
           "subunitcolor": "white"
          },
          "hoverlabel": {
           "align": "left"
          },
          "hovermode": "closest",
          "mapbox": {
           "style": "light"
          },
          "paper_bgcolor": "white",
          "plot_bgcolor": "#E5ECF6",
          "polar": {
           "angularaxis": {
            "gridcolor": "white",
            "linecolor": "white",
            "ticks": ""
           },
           "bgcolor": "#E5ECF6",
           "radialaxis": {
            "gridcolor": "white",
            "linecolor": "white",
            "ticks": ""
           }
          },
          "scene": {
           "xaxis": {
            "backgroundcolor": "#E5ECF6",
            "gridcolor": "white",
            "gridwidth": 2,
            "linecolor": "white",
            "showbackground": true,
            "ticks": "",
            "zerolinecolor": "white"
           },
           "yaxis": {
            "backgroundcolor": "#E5ECF6",
            "gridcolor": "white",
            "gridwidth": 2,
            "linecolor": "white",
            "showbackground": true,
            "ticks": "",
            "zerolinecolor": "white"
           },
           "zaxis": {
            "backgroundcolor": "#E5ECF6",
            "gridcolor": "white",
            "gridwidth": 2,
            "linecolor": "white",
            "showbackground": true,
            "ticks": "",
            "zerolinecolor": "white"
           }
          },
          "shapedefaults": {
           "line": {
            "color": "#2a3f5f"
           }
          },
          "ternary": {
           "aaxis": {
            "gridcolor": "white",
            "linecolor": "white",
            "ticks": ""
           },
           "baxis": {
            "gridcolor": "white",
            "linecolor": "white",
            "ticks": ""
           },
           "bgcolor": "#E5ECF6",
           "caxis": {
            "gridcolor": "white",
            "linecolor": "white",
            "ticks": ""
           }
          },
          "title": {
           "x": 0.05
          },
          "xaxis": {
           "automargin": true,
           "gridcolor": "white",
           "linecolor": "white",
           "ticks": "",
           "title": {
            "standoff": 15
           },
           "zerolinecolor": "white",
           "zerolinewidth": 2
          },
          "yaxis": {
           "automargin": true,
           "gridcolor": "white",
           "linecolor": "white",
           "ticks": "",
           "title": {
            "standoff": 15
           },
           "zerolinecolor": "white",
           "zerolinewidth": 2
          }
         }
        },
        "title": {
         "text": "CategoryName bilan boshqa raqamli ustunlar o'rtasidagi korrelyatsiya"
        },
        "xaxis": {
         "anchor": "y",
         "domain": [
          0,
          1
         ],
         "title": {
          "text": "Xususiyatlar"
         }
        },
        "yaxis": {
         "anchor": "x",
         "domain": [
          0,
          1
         ],
         "title": {
          "text": "Korrelyatsiya qiymati"
         }
        }
       }
      }
     },
     "metadata": {},
     "output_type": "display_data"
    }
   ],
   "source": [
    "import pandas as pd\n",
    "import plotly.express as px\n",
    "\n",
    "# Raqamli ustunlarni tanlash\n",
    "numeric_cols = df.select_dtypes(include=['float64', 'int64']).columns\n",
    "\n",
    "# faqat raqamli ustunlar bo'yicha korrelyatsiya\n",
    "corr_matrix = df[numeric_cols].corr()\n",
    "\n",
    "# CategoryName ustunining boshqa ustunlar bilan korrelyatsiyasi\n",
    "CategoryName_corr = corr_matrix[['CategoryName']].sort_values(by='CategoryName', ascending=False)\n",
    "\n",
    "# Heatmap uchun DataFrame ni transformatsiya qilish\n",
    "heatmap_data = CategoryName_corr.reset_index()\n",
    "heatmap_data.columns = ['Feature', 'Correlation_with_CategoryName']\n",
    "\n",
    "# Plotly Express yordamida bar grafik\n",
    "fig = px.bar(\n",
    "    heatmap_data,\n",
    "    x='Feature',\n",
    "    y='Correlation_with_CategoryName',\n",
    "    title='CategoryName bilan boshqa raqamli ustunlar o\\'rtasidagi korrelyatsiya',\n",
    "    labels={'Correlation_with_CategoryName': 'Korrelyatsiya qiymati', 'Feature': 'Xususiyatlar'}\n",
    ")\n",
    "\n",
    "fig.show()\n"
   ]
  },
  {
   "cell_type": "code",
   "execution_count": 5,
   "id": "a3275ded",
   "metadata": {},
   "outputs": [
    {
     "data": {
      "application/vnd.plotly.v1+json": {
       "config": {
        "plotlyServerURL": "https://plot.ly"
       },
       "data": [
        {
         "colorscale": [
          [
           0,
           "#440154"
          ],
          [
           0.1111111111111111,
           "#482878"
          ],
          [
           0.2222222222222222,
           "#3e4989"
          ],
          [
           0.3333333333333333,
           "#31688e"
          ],
          [
           0.4444444444444444,
           "#26828e"
          ],
          [
           0.5555555555555556,
           "#1f9e89"
          ],
          [
           0.6666666666666666,
           "#35b779"
          ],
          [
           0.7777777777777778,
           "#6ece58"
          ],
          [
           0.8888888888888888,
           "#b5de2b"
          ],
          [
           1,
           "#fde725"
          ]
         ],
         "reversescale": false,
         "showscale": true,
         "type": "heatmap",
         "x": [
          "Unnamed: 0",
          "Video ID",
          "Video Title",
          "Channel",
          "Published Date",
          "Views",
          "Likes",
          "Comments",
          "Subscribers",
          "Channel Views",
          "Country",
          "Region",
          "CategoryID",
          "CategoryName",
          "Cluster",
          "CategoryID_enc",
          "Country_enc",
          "VideoCluster",
          "Channel_Cluster",
          "Video_Cluster",
          "Country_Cluster_x",
          "Category_Cluster_x",
          "Country_Cluster_y",
          "Category_Cluster_y",
          "Year",
          "Month",
          "Day",
          "DayOfWeek",
          "DayName",
          "Views_per_Sub",
          "Engagement",
          "Like_per_Sub",
          "Comment_per_Sub",
          "Published_ts"
         ],
         "y": [
          "Unnamed: 0",
          "Video ID",
          "Video Title",
          "Channel",
          "Published Date",
          "Views",
          "Likes",
          "Comments",
          "Subscribers",
          "Channel Views",
          "Country",
          "Region",
          "CategoryID",
          "CategoryName",
          "Cluster",
          "CategoryID_enc",
          "Country_enc",
          "VideoCluster",
          "Channel_Cluster",
          "Video_Cluster",
          "Country_Cluster_x",
          "Category_Cluster_x",
          "Country_Cluster_y",
          "Category_Cluster_y",
          "Year",
          "Month",
          "Day",
          "DayOfWeek",
          "DayName",
          "Views_per_Sub",
          "Engagement",
          "Like_per_Sub",
          "Comment_per_Sub",
          "Published_ts"
         ],
         "z": {
          "bdata": "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",
          "dtype": "f8",
          "shape": "34, 34"
         }
        }
       ],
       "layout": {
        "annotations": [
         {
          "font": {
           "color": "#000000"
          },
          "showarrow": false,
          "text": "1.0",
          "x": "Unnamed: 0",
          "xref": "x",
          "y": "Unnamed: 0",
          "yref": "y"
         },
         {
          "font": {
           "color": "#000000"
          },
          "showarrow": false,
          "text": "-0.0",
          "x": "Video ID",
          "xref": "x",
          "y": "Unnamed: 0",
          "yref": "y"
         },
         {
          "font": {
           "color": "#000000"
          },
          "showarrow": false,
          "text": "-0.01",
          "x": "Video Title",
          "xref": "x",
          "y": "Unnamed: 0",
          "yref": "y"
         },
         {
          "font": {
           "color": "#000000"
          },
          "showarrow": false,
          "text": "-0.01",
          "x": "Channel",
          "xref": "x",
          "y": "Unnamed: 0",
          "yref": "y"
         },
         {
          "font": {
           "color": "#000000"
          },
          "showarrow": false,
          "text": "0.0",
          "x": "Published Date",
          "xref": "x",
          "y": "Unnamed: 0",
          "yref": "y"
         },
         {
          "font": {
           "color": "#000000"
          },
          "showarrow": false,
          "text": "-0.01",
          "x": "Views",
          "xref": "x",
          "y": "Unnamed: 0",
          "yref": "y"
         },
         {
          "font": {
           "color": "#000000"
          },
          "showarrow": false,
          "text": "-0.01",
          "x": "Likes",
          "xref": "x",
          "y": "Unnamed: 0",
          "yref": "y"
         },
         {
          "font": {
           "color": "#000000"
          },
          "showarrow": false,
          "text": "-0.01",
          "x": "Comments",
          "xref": "x",
          "y": "Unnamed: 0",
          "yref": "y"
         },
         {
          "font": {
           "color": "#000000"
          },
          "showarrow": false,
          "text": "0.0",
          "x": "Subscribers",
          "xref": "x",
          "y": "Unnamed: 0",
          "yref": "y"
         },
         {
          "font": {
           "color": "#000000"
          },
          "showarrow": false,
          "text": "0.0",
          "x": "Channel Views",
          "xref": "x",
          "y": "Unnamed: 0",
          "yref": "y"
         },
         {
          "font": {
           "color": "#000000"
          },
          "showarrow": false,
          "text": "-0.02",
          "x": "Country",
          "xref": "x",
          "y": "Unnamed: 0",
          "yref": "y"
         },
         {
          "font": {
           "color": "#000000"
          },
          "showarrow": false,
          "text": "0.0",
          "x": "Region",
          "xref": "x",
          "y": "Unnamed: 0",
          "yref": "y"
         },
         {
          "font": {
           "color": "#000000"
          },
          "showarrow": false,
          "text": "0.0",
          "x": "CategoryID",
          "xref": "x",
          "y": "Unnamed: 0",
          "yref": "y"
         },
         {
          "font": {
           "color": "#000000"
          },
          "showarrow": false,
          "text": "-0.01",
          "x": "CategoryName",
          "xref": "x",
          "y": "Unnamed: 0",
          "yref": "y"
         },
         {
          "font": {
           "color": "#000000"
          },
          "showarrow": false,
          "text": "-0.01",
          "x": "Cluster",
          "xref": "x",
          "y": "Unnamed: 0",
          "yref": "y"
         },
         {
          "font": {
           "color": "#000000"
          },
          "showarrow": false,
          "text": "-0.01",
          "x": "CategoryID_enc",
          "xref": "x",
          "y": "Unnamed: 0",
          "yref": "y"
         },
         {
          "font": {
           "color": "#000000"
          },
          "showarrow": false,
          "text": "-0.02",
          "x": "Country_enc",
          "xref": "x",
          "y": "Unnamed: 0",
          "yref": "y"
         },
         {
          "font": {
           "color": "#000000"
          },
          "showarrow": false,
          "text": "-0.02",
          "x": "VideoCluster",
          "xref": "x",
          "y": "Unnamed: 0",
          "yref": "y"
         },
         {
          "font": {
           "color": "#000000"
          },
          "showarrow": false,
          "text": "0.01",
          "x": "Channel_Cluster",
          "xref": "x",
          "y": "Unnamed: 0",
          "yref": "y"
         },
         {
          "font": {
           "color": "#000000"
          },
          "showarrow": false,
          "text": "-0.02",
          "x": "Video_Cluster",
          "xref": "x",
          "y": "Unnamed: 0",
          "yref": "y"
         },
         {
          "font": {
           "color": "#000000"
          },
          "showarrow": false,
          "text": "-0.02",
          "x": "Country_Cluster_x",
          "xref": "x",
          "y": "Unnamed: 0",
          "yref": "y"
         },
         {
          "font": {
           "color": "#000000"
          },
          "showarrow": false,
          "text": "-0.01",
          "x": "Category_Cluster_x",
          "xref": "x",
          "y": "Unnamed: 0",
          "yref": "y"
         },
         {
          "font": {
           "color": "#000000"
          },
          "showarrow": false,
          "text": "-0.02",
          "x": "Country_Cluster_y",
          "xref": "x",
          "y": "Unnamed: 0",
          "yref": "y"
         },
         {
          "font": {
           "color": "#000000"
          },
          "showarrow": false,
          "text": "-0.01",
          "x": "Category_Cluster_y",
          "xref": "x",
          "y": "Unnamed: 0",
          "yref": "y"
         },
         {
          "font": {
           "color": "#000000"
          },
          "showarrow": false,
          "text": "nan",
          "x": "Year",
          "xref": "x",
          "y": "Unnamed: 0",
          "yref": "y"
         },
         {
          "font": {
           "color": "#000000"
          },
          "showarrow": false,
          "text": "0.0",
          "x": "Month",
          "xref": "x",
          "y": "Unnamed: 0",
          "yref": "y"
         },
         {
          "font": {
           "color": "#000000"
          },
          "showarrow": false,
          "text": "-0.0",
          "x": "Day",
          "xref": "x",
          "y": "Unnamed: 0",
          "yref": "y"
         },
         {
          "font": {
           "color": "#000000"
          },
          "showarrow": false,
          "text": "-0.01",
          "x": "DayOfWeek",
          "xref": "x",
          "y": "Unnamed: 0",
          "yref": "y"
         },
         {
          "font": {
           "color": "#000000"
          },
          "showarrow": false,
          "text": "-0.0",
          "x": "DayName",
          "xref": "x",
          "y": "Unnamed: 0",
          "yref": "y"
         },
         {
          "font": {
           "color": "#000000"
          },
          "showarrow": false,
          "text": "-0.01",
          "x": "Views_per_Sub",
          "xref": "x",
          "y": "Unnamed: 0",
          "yref": "y"
         },
         {
          "font": {
           "color": "#000000"
          },
          "showarrow": false,
          "text": "-0.01",
          "x": "Engagement",
          "xref": "x",
          "y": "Unnamed: 0",
          "yref": "y"
         },
         {
          "font": {
           "color": "#000000"
          },
          "showarrow": false,
          "text": "-0.01",
          "x": "Like_per_Sub",
          "xref": "x",
          "y": "Unnamed: 0",
          "yref": "y"
         },
         {
          "font": {
           "color": "#000000"
          },
          "showarrow": false,
          "text": "-0.01",
          "x": "Comment_per_Sub",
          "xref": "x",
          "y": "Unnamed: 0",
          "yref": "y"
         },
         {
          "font": {
           "color": "#000000"
          },
          "showarrow": false,
          "text": "0.0",
          "x": "Published_ts",
          "xref": "x",
          "y": "Unnamed: 0",
          "yref": "y"
         },
         {
          "font": {
           "color": "#000000"
          },
          "showarrow": false,
          "text": "-0.0",
          "x": "Unnamed: 0",
          "xref": "x",
          "y": "Video ID",
          "yref": "y"
         },
         {
          "font": {
           "color": "#000000"
          },
          "showarrow": false,
          "text": "1.0",
          "x": "Video ID",
          "xref": "x",
          "y": "Video ID",
          "yref": "y"
         },
         {
          "font": {
           "color": "#000000"
          },
          "showarrow": false,
          "text": "0.0",
          "x": "Video Title",
          "xref": "x",
          "y": "Video ID",
          "yref": "y"
         },
         {
          "font": {
           "color": "#000000"
          },
          "showarrow": false,
          "text": "0.0",
          "x": "Channel",
          "xref": "x",
          "y": "Video ID",
          "yref": "y"
         },
         {
          "font": {
           "color": "#000000"
          },
          "showarrow": false,
          "text": "0.02",
          "x": "Published Date",
          "xref": "x",
          "y": "Video ID",
          "yref": "y"
         },
         {
          "font": {
           "color": "#000000"
          },
          "showarrow": false,
          "text": "-0.02",
          "x": "Views",
          "xref": "x",
          "y": "Video ID",
          "yref": "y"
         },
         {
          "font": {
           "color": "#000000"
          },
          "showarrow": false,
          "text": "-0.01",
          "x": "Likes",
          "xref": "x",
          "y": "Video ID",
          "yref": "y"
         },
         {
          "font": {
           "color": "#000000"
          },
          "showarrow": false,
          "text": "0.0",
          "x": "Comments",
          "xref": "x",
          "y": "Video ID",
          "yref": "y"
         },
         {
          "font": {
           "color": "#000000"
          },
          "showarrow": false,
          "text": "0.0",
          "x": "Subscribers",
          "xref": "x",
          "y": "Video ID",
          "yref": "y"
         },
         {
          "font": {
           "color": "#000000"
          },
          "showarrow": false,
          "text": "-0.0",
          "x": "Channel Views",
          "xref": "x",
          "y": "Video ID",
          "yref": "y"
         },
         {
          "font": {
           "color": "#000000"
          },
          "showarrow": false,
          "text": "0.01",
          "x": "Country",
          "xref": "x",
          "y": "Video ID",
          "yref": "y"
         },
         {
          "font": {
           "color": "#000000"
          },
          "showarrow": false,
          "text": "-0.01",
          "x": "Region",
          "xref": "x",
          "y": "Video ID",
          "yref": "y"
         },
         {
          "font": {
           "color": "#000000"
          },
          "showarrow": false,
          "text": "0.01",
          "x": "CategoryID",
          "xref": "x",
          "y": "Video ID",
          "yref": "y"
         },
         {
          "font": {
           "color": "#000000"
          },
          "showarrow": false,
          "text": "-0.01",
          "x": "CategoryName",
          "xref": "x",
          "y": "Video ID",
          "yref": "y"
         },
         {
          "font": {
           "color": "#000000"
          },
          "showarrow": false,
          "text": "-0.01",
          "x": "Cluster",
          "xref": "x",
          "y": "Video ID",
          "yref": "y"
         },
         {
          "font": {
           "color": "#000000"
          },
          "showarrow": false,
          "text": "0.01",
          "x": "CategoryID_enc",
          "xref": "x",
          "y": "Video ID",
          "yref": "y"
         },
         {
          "font": {
           "color": "#000000"
          },
          "showarrow": false,
          "text": "0.01",
          "x": "Country_enc",
          "xref": "x",
          "y": "Video ID",
          "yref": "y"
         },
         {
          "font": {
           "color": "#000000"
          },
          "showarrow": false,
          "text": "-0.01",
          "x": "VideoCluster",
          "xref": "x",
          "y": "Video ID",
          "yref": "y"
         },
         {
          "font": {
           "color": "#000000"
          },
          "showarrow": false,
          "text": "0.0",
          "x": "Channel_Cluster",
          "xref": "x",
          "y": "Video ID",
          "yref": "y"
         },
         {
          "font": {
           "color": "#000000"
          },
          "showarrow": false,
          "text": "-0.0",
          "x": "Video_Cluster",
          "xref": "x",
          "y": "Video ID",
          "yref": "y"
         },
         {
          "font": {
           "color": "#000000"
          },
          "showarrow": false,
          "text": "-0.03",
          "x": "Country_Cluster_x",
          "xref": "x",
          "y": "Video ID",
          "yref": "y"
         },
         {
          "font": {
           "color": "#000000"
          },
          "showarrow": false,
          "text": "-0.01",
          "x": "Category_Cluster_x",
          "xref": "x",
          "y": "Video ID",
          "yref": "y"
         },
         {
          "font": {
           "color": "#000000"
          },
          "showarrow": false,
          "text": "-0.03",
          "x": "Country_Cluster_y",
          "xref": "x",
          "y": "Video ID",
          "yref": "y"
         },
         {
          "font": {
           "color": "#000000"
          },
          "showarrow": false,
          "text": "-0.01",
          "x": "Category_Cluster_y",
          "xref": "x",
          "y": "Video ID",
          "yref": "y"
         },
         {
          "font": {
           "color": "#000000"
          },
          "showarrow": false,
          "text": "nan",
          "x": "Year",
          "xref": "x",
          "y": "Video ID",
          "yref": "y"
         },
         {
          "font": {
           "color": "#000000"
          },
          "showarrow": false,
          "text": "0.02",
          "x": "Month",
          "xref": "x",
          "y": "Video ID",
          "yref": "y"
         },
         {
          "font": {
           "color": "#000000"
          },
          "showarrow": false,
          "text": "-0.0",
          "x": "Day",
          "xref": "x",
          "y": "Video ID",
          "yref": "y"
         },
         {
          "font": {
           "color": "#000000"
          },
          "showarrow": false,
          "text": "-0.0",
          "x": "DayOfWeek",
          "xref": "x",
          "y": "Video ID",
          "yref": "y"
         },
         {
          "font": {
           "color": "#000000"
          },
          "showarrow": false,
          "text": "-0.01",
          "x": "DayName",
          "xref": "x",
          "y": "Video ID",
          "yref": "y"
         },
         {
          "font": {
           "color": "#000000"
          },
          "showarrow": false,
          "text": "0.0",
          "x": "Views_per_Sub",
          "xref": "x",
          "y": "Video ID",
          "yref": "y"
         },
         {
          "font": {
           "color": "#000000"
          },
          "showarrow": false,
          "text": "0.02",
          "x": "Engagement",
          "xref": "x",
          "y": "Video ID",
          "yref": "y"
         },
         {
          "font": {
           "color": "#000000"
          },
          "showarrow": false,
          "text": "0.0",
          "x": "Like_per_Sub",
          "xref": "x",
          "y": "Video ID",
          "yref": "y"
         },
         {
          "font": {
           "color": "#000000"
          },
          "showarrow": false,
          "text": "-0.0",
          "x": "Comment_per_Sub",
          "xref": "x",
          "y": "Video ID",
          "yref": "y"
         },
         {
          "font": {
           "color": "#000000"
          },
          "showarrow": false,
          "text": "0.02",
          "x": "Published_ts",
          "xref": "x",
          "y": "Video ID",
          "yref": "y"
         },
         {
          "font": {
           "color": "#000000"
          },
          "showarrow": false,
          "text": "-0.01",
          "x": "Unnamed: 0",
          "xref": "x",
          "y": "Video Title",
          "yref": "y"
         },
         {
          "font": {
           "color": "#000000"
          },
          "showarrow": false,
          "text": "0.0",
          "x": "Video ID",
          "xref": "x",
          "y": "Video Title",
          "yref": "y"
         },
         {
          "font": {
           "color": "#000000"
          },
          "showarrow": false,
          "text": "1.0",
          "x": "Video Title",
          "xref": "x",
          "y": "Video Title",
          "yref": "y"
         },
         {
          "font": {
           "color": "#000000"
          },
          "showarrow": false,
          "text": "0.16",
          "x": "Channel",
          "xref": "x",
          "y": "Video Title",
          "yref": "y"
         },
         {
          "font": {
           "color": "#000000"
          },
          "showarrow": false,
          "text": "0.0",
          "x": "Published Date",
          "xref": "x",
          "y": "Video Title",
          "yref": "y"
         },
         {
          "font": {
           "color": "#000000"
          },
          "showarrow": false,
          "text": "-0.03",
          "x": "Views",
          "xref": "x",
          "y": "Video Title",
          "yref": "y"
         },
         {
          "font": {
           "color": "#000000"
          },
          "showarrow": false,
          "text": "-0.03",
          "x": "Likes",
          "xref": "x",
          "y": "Video Title",
          "yref": "y"
         },
         {
          "font": {
           "color": "#000000"
          },
          "showarrow": false,
          "text": "-0.01",
          "x": "Comments",
          "xref": "x",
          "y": "Video Title",
          "yref": "y"
         },
         {
          "font": {
           "color": "#000000"
          },
          "showarrow": false,
          "text": "-0.02",
          "x": "Subscribers",
          "xref": "x",
          "y": "Video Title",
          "yref": "y"
         },
         {
          "font": {
           "color": "#000000"
          },
          "showarrow": false,
          "text": "-0.01",
          "x": "Channel Views",
          "xref": "x",
          "y": "Video Title",
          "yref": "y"
         },
         {
          "font": {
           "color": "#000000"
          },
          "showarrow": false,
          "text": "0.02",
          "x": "Country",
          "xref": "x",
          "y": "Video Title",
          "yref": "y"
         },
         {
          "font": {
           "color": "#000000"
          },
          "showarrow": false,
          "text": "0.04",
          "x": "Region",
          "xref": "x",
          "y": "Video Title",
          "yref": "y"
         },
         {
          "font": {
           "color": "#000000"
          },
          "showarrow": false,
          "text": "0.02",
          "x": "CategoryID",
          "xref": "x",
          "y": "Video Title",
          "yref": "y"
         },
         {
          "font": {
           "color": "#000000"
          },
          "showarrow": false,
          "text": "-0.01",
          "x": "CategoryName",
          "xref": "x",
          "y": "Video Title",
          "yref": "y"
         },
         {
          "font": {
           "color": "#000000"
          },
          "showarrow": false,
          "text": "-0.04",
          "x": "Cluster",
          "xref": "x",
          "y": "Video Title",
          "yref": "y"
         },
         {
          "font": {
           "color": "#000000"
          },
          "showarrow": false,
          "text": "0.01",
          "x": "CategoryID_enc",
          "xref": "x",
          "y": "Video Title",
          "yref": "y"
         },
         {
          "font": {
           "color": "#000000"
          },
          "showarrow": false,
          "text": "0.02",
          "x": "Country_enc",
          "xref": "x",
          "y": "Video Title",
          "yref": "y"
         },
         {
          "font": {
           "color": "#000000"
          },
          "showarrow": false,
          "text": "0.02",
          "x": "VideoCluster",
          "xref": "x",
          "y": "Video Title",
          "yref": "y"
         },
         {
          "font": {
           "color": "#000000"
          },
          "showarrow": false,
          "text": "-0.0",
          "x": "Channel_Cluster",
          "xref": "x",
          "y": "Video Title",
          "yref": "y"
         },
         {
          "font": {
           "color": "#000000"
          },
          "showarrow": false,
          "text": "-0.02",
          "x": "Video_Cluster",
          "xref": "x",
          "y": "Video Title",
          "yref": "y"
         },
         {
          "font": {
           "color": "#000000"
          },
          "showarrow": false,
          "text": "-0.05",
          "x": "Country_Cluster_x",
          "xref": "x",
          "y": "Video Title",
          "yref": "y"
         },
         {
          "font": {
           "color": "#000000"
          },
          "showarrow": false,
          "text": "-0.01",
          "x": "Category_Cluster_x",
          "xref": "x",
          "y": "Video Title",
          "yref": "y"
         },
         {
          "font": {
           "color": "#000000"
          },
          "showarrow": false,
          "text": "-0.05",
          "x": "Country_Cluster_y",
          "xref": "x",
          "y": "Video Title",
          "yref": "y"
         },
         {
          "font": {
           "color": "#000000"
          },
          "showarrow": false,
          "text": "-0.01",
          "x": "Category_Cluster_y",
          "xref": "x",
          "y": "Video Title",
          "yref": "y"
         },
         {
          "font": {
           "color": "#000000"
          },
          "showarrow": false,
          "text": "nan",
          "x": "Year",
          "xref": "x",
          "y": "Video Title",
          "yref": "y"
         },
         {
          "font": {
           "color": "#000000"
          },
          "showarrow": false,
          "text": "0.01",
          "x": "Month",
          "xref": "x",
          "y": "Video Title",
          "yref": "y"
         },
         {
          "font": {
           "color": "#000000"
          },
          "showarrow": false,
          "text": "-0.0",
          "x": "Day",
          "xref": "x",
          "y": "Video Title",
          "yref": "y"
         },
         {
          "font": {
           "color": "#000000"
          },
          "showarrow": false,
          "text": "0.0",
          "x": "DayOfWeek",
          "xref": "x",
          "y": "Video Title",
          "yref": "y"
         },
         {
          "font": {
           "color": "#000000"
          },
          "showarrow": false,
          "text": "0.02",
          "x": "DayName",
          "xref": "x",
          "y": "Video Title",
          "yref": "y"
         },
         {
          "font": {
           "color": "#000000"
          },
          "showarrow": false,
          "text": "-0.01",
          "x": "Views_per_Sub",
          "xref": "x",
          "y": "Video Title",
          "yref": "y"
         },
         {
          "font": {
           "color": "#000000"
          },
          "showarrow": false,
          "text": "-0.03",
          "x": "Engagement",
          "xref": "x",
          "y": "Video Title",
          "yref": "y"
         },
         {
          "font": {
           "color": "#000000"
          },
          "showarrow": false,
          "text": "-0.01",
          "x": "Like_per_Sub",
          "xref": "x",
          "y": "Video Title",
          "yref": "y"
         },
         {
          "font": {
           "color": "#000000"
          },
          "showarrow": false,
          "text": "-0.0",
          "x": "Comment_per_Sub",
          "xref": "x",
          "y": "Video Title",
          "yref": "y"
         },
         {
          "font": {
           "color": "#000000"
          },
          "showarrow": false,
          "text": "0.0",
          "x": "Published_ts",
          "xref": "x",
          "y": "Video Title",
          "yref": "y"
         },
         {
          "font": {
           "color": "#000000"
          },
          "showarrow": false,
          "text": "-0.01",
          "x": "Unnamed: 0",
          "xref": "x",
          "y": "Channel",
          "yref": "y"
         },
         {
          "font": {
           "color": "#000000"
          },
          "showarrow": false,
          "text": "0.0",
          "x": "Video ID",
          "xref": "x",
          "y": "Channel",
          "yref": "y"
         },
         {
          "font": {
           "color": "#000000"
          },
          "showarrow": false,
          "text": "0.16",
          "x": "Video Title",
          "xref": "x",
          "y": "Channel",
          "yref": "y"
         },
         {
          "font": {
           "color": "#000000"
          },
          "showarrow": false,
          "text": "1.0",
          "x": "Channel",
          "xref": "x",
          "y": "Channel",
          "yref": "y"
         },
         {
          "font": {
           "color": "#000000"
          },
          "showarrow": false,
          "text": "0.01",
          "x": "Published Date",
          "xref": "x",
          "y": "Channel",
          "yref": "y"
         },
         {
          "font": {
           "color": "#000000"
          },
          "showarrow": false,
          "text": "0.0",
          "x": "Views",
          "xref": "x",
          "y": "Channel",
          "yref": "y"
         },
         {
          "font": {
           "color": "#000000"
          },
          "showarrow": false,
          "text": "0.0",
          "x": "Likes",
          "xref": "x",
          "y": "Channel",
          "yref": "y"
         },
         {
          "font": {
           "color": "#000000"
          },
          "showarrow": false,
          "text": "-0.01",
          "x": "Comments",
          "xref": "x",
          "y": "Channel",
          "yref": "y"
         },
         {
          "font": {
           "color": "#000000"
          },
          "showarrow": false,
          "text": "-0.0",
          "x": "Subscribers",
          "xref": "x",
          "y": "Channel",
          "yref": "y"
         },
         {
          "font": {
           "color": "#000000"
          },
          "showarrow": false,
          "text": "0.01",
          "x": "Channel Views",
          "xref": "x",
          "y": "Channel",
          "yref": "y"
         },
         {
          "font": {
           "color": "#000000"
          },
          "showarrow": false,
          "text": "0.01",
          "x": "Country",
          "xref": "x",
          "y": "Channel",
          "yref": "y"
         },
         {
          "font": {
           "color": "#000000"
          },
          "showarrow": false,
          "text": "0.01",
          "x": "Region",
          "xref": "x",
          "y": "Channel",
          "yref": "y"
         },
         {
          "font": {
           "color": "#000000"
          },
          "showarrow": false,
          "text": "0.01",
          "x": "CategoryID",
          "xref": "x",
          "y": "Channel",
          "yref": "y"
         },
         {
          "font": {
           "color": "#000000"
          },
          "showarrow": false,
          "text": "0.02",
          "x": "CategoryName",
          "xref": "x",
          "y": "Channel",
          "yref": "y"
         },
         {
          "font": {
           "color": "#000000"
          },
          "showarrow": false,
          "text": "-0.0",
          "x": "Cluster",
          "xref": "x",
          "y": "Channel",
          "yref": "y"
         },
         {
          "font": {
           "color": "#000000"
          },
          "showarrow": false,
          "text": "-0.03",
          "x": "CategoryID_enc",
          "xref": "x",
          "y": "Channel",
          "yref": "y"
         },
         {
          "font": {
           "color": "#000000"
          },
          "showarrow": false,
          "text": "0.01",
          "x": "Country_enc",
          "xref": "x",
          "y": "Channel",
          "yref": "y"
         },
         {
          "font": {
           "color": "#000000"
          },
          "showarrow": false,
          "text": "0.02",
          "x": "VideoCluster",
          "xref": "x",
          "y": "Channel",
          "yref": "y"
         },
         {
          "font": {
           "color": "#000000"
          },
          "showarrow": false,
          "text": "-0.02",
          "x": "Channel_Cluster",
          "xref": "x",
          "y": "Channel",
          "yref": "y"
         },
         {
          "font": {
           "color": "#000000"
          },
          "showarrow": false,
          "text": "-0.01",
          "x": "Video_Cluster",
          "xref": "x",
          "y": "Channel",
          "yref": "y"
         },
         {
          "font": {
           "color": "#000000"
          },
          "showarrow": false,
          "text": "-0.04",
          "x": "Country_Cluster_x",
          "xref": "x",
          "y": "Channel",
          "yref": "y"
         },
         {
          "font": {
           "color": "#000000"
          },
          "showarrow": false,
          "text": "0.0",
          "x": "Category_Cluster_x",
          "xref": "x",
          "y": "Channel",
          "yref": "y"
         },
         {
          "font": {
           "color": "#000000"
          },
          "showarrow": false,
          "text": "-0.04",
          "x": "Country_Cluster_y",
          "xref": "x",
          "y": "Channel",
          "yref": "y"
         },
         {
          "font": {
           "color": "#000000"
          },
          "showarrow": false,
          "text": "0.0",
          "x": "Category_Cluster_y",
          "xref": "x",
          "y": "Channel",
          "yref": "y"
         },
         {
          "font": {
           "color": "#000000"
          },
          "showarrow": false,
          "text": "nan",
          "x": "Year",
          "xref": "x",
          "y": "Channel",
          "yref": "y"
         },
         {
          "font": {
           "color": "#000000"
          },
          "showarrow": false,
          "text": "0.0",
          "x": "Month",
          "xref": "x",
          "y": "Channel",
          "yref": "y"
         },
         {
          "font": {
           "color": "#000000"
          },
          "showarrow": false,
          "text": "0.01",
          "x": "Day",
          "xref": "x",
          "y": "Channel",
          "yref": "y"
         },
         {
          "font": {
           "color": "#000000"
          },
          "showarrow": false,
          "text": "0.0",
          "x": "DayOfWeek",
          "xref": "x",
          "y": "Channel",
          "yref": "y"
         },
         {
          "font": {
           "color": "#000000"
          },
          "showarrow": false,
          "text": "0.01",
          "x": "DayName",
          "xref": "x",
          "y": "Channel",
          "yref": "y"
         },
         {
          "font": {
           "color": "#000000"
          },
          "showarrow": false,
          "text": "0.01",
          "x": "Views_per_Sub",
          "xref": "x",
          "y": "Channel",
          "yref": "y"
         },
         {
          "font": {
           "color": "#000000"
          },
          "showarrow": false,
          "text": "-0.04",
          "x": "Engagement",
          "xref": "x",
          "y": "Channel",
          "yref": "y"
         },
         {
          "font": {
           "color": "#000000"
          },
          "showarrow": false,
          "text": "0.0",
          "x": "Like_per_Sub",
          "xref": "x",
          "y": "Channel",
          "yref": "y"
         },
         {
          "font": {
           "color": "#000000"
          },
          "showarrow": false,
          "text": "0.0",
          "x": "Comment_per_Sub",
          "xref": "x",
          "y": "Channel",
          "yref": "y"
         },
         {
          "font": {
           "color": "#000000"
          },
          "showarrow": false,
          "text": "0.01",
          "x": "Published_ts",
          "xref": "x",
          "y": "Channel",
          "yref": "y"
         },
         {
          "font": {
           "color": "#000000"
          },
          "showarrow": false,
          "text": "0.0",
          "x": "Unnamed: 0",
          "xref": "x",
          "y": "Published Date",
          "yref": "y"
         },
         {
          "font": {
           "color": "#000000"
          },
          "showarrow": false,
          "text": "0.02",
          "x": "Video ID",
          "xref": "x",
          "y": "Published Date",
          "yref": "y"
         },
         {
          "font": {
           "color": "#000000"
          },
          "showarrow": false,
          "text": "0.0",
          "x": "Video Title",
          "xref": "x",
          "y": "Published Date",
          "yref": "y"
         },
         {
          "font": {
           "color": "#000000"
          },
          "showarrow": false,
          "text": "0.01",
          "x": "Channel",
          "xref": "x",
          "y": "Published Date",
          "yref": "y"
         },
         {
          "font": {
           "color": "#000000"
          },
          "showarrow": false,
          "text": "1.0",
          "x": "Published Date",
          "xref": "x",
          "y": "Published Date",
          "yref": "y"
         },
         {
          "font": {
           "color": "#000000"
          },
          "showarrow": false,
          "text": "-0.2",
          "x": "Views",
          "xref": "x",
          "y": "Published Date",
          "yref": "y"
         },
         {
          "font": {
           "color": "#000000"
          },
          "showarrow": false,
          "text": "-0.18",
          "x": "Likes",
          "xref": "x",
          "y": "Published Date",
          "yref": "y"
         },
         {
          "font": {
           "color": "#000000"
          },
          "showarrow": false,
          "text": "-0.06",
          "x": "Comments",
          "xref": "x",
          "y": "Published Date",
          "yref": "y"
         },
         {
          "font": {
           "color": "#000000"
          },
          "showarrow": false,
          "text": "-0.03",
          "x": "Subscribers",
          "xref": "x",
          "y": "Published Date",
          "yref": "y"
         },
         {
          "font": {
           "color": "#000000"
          },
          "showarrow": false,
          "text": "-0.04",
          "x": "Channel Views",
          "xref": "x",
          "y": "Published Date",
          "yref": "y"
         },
         {
          "font": {
           "color": "#000000"
          },
          "showarrow": false,
          "text": "-0.04",
          "x": "Country",
          "xref": "x",
          "y": "Published Date",
          "yref": "y"
         },
         {
          "font": {
           "color": "#000000"
          },
          "showarrow": false,
          "text": "-0.02",
          "x": "Region",
          "xref": "x",
          "y": "Published Date",
          "yref": "y"
         },
         {
          "font": {
           "color": "#000000"
          },
          "showarrow": false,
          "text": "0.15",
          "x": "CategoryID",
          "xref": "x",
          "y": "Published Date",
          "yref": "y"
         },
         {
          "font": {
           "color": "#000000"
          },
          "showarrow": false,
          "text": "-0.21",
          "x": "CategoryName",
          "xref": "x",
          "y": "Published Date",
          "yref": "y"
         },
         {
          "font": {
           "color": "#000000"
          },
          "showarrow": false,
          "text": "-0.14",
          "x": "Cluster",
          "xref": "x",
          "y": "Published Date",
          "yref": "y"
         },
         {
          "font": {
           "color": "#000000"
          },
          "showarrow": false,
          "text": "-0.05",
          "x": "CategoryID_enc",
          "xref": "x",
          "y": "Published Date",
          "yref": "y"
         },
         {
          "font": {
           "color": "#000000"
          },
          "showarrow": false,
          "text": "-0.04",
          "x": "Country_enc",
          "xref": "x",
          "y": "Published Date",
          "yref": "y"
         },
         {
          "font": {
           "color": "#000000"
          },
          "showarrow": false,
          "text": "-0.06",
          "x": "VideoCluster",
          "xref": "x",
          "y": "Published Date",
          "yref": "y"
         },
         {
          "font": {
           "color": "#000000"
          },
          "showarrow": false,
          "text": "-0.01",
          "x": "Channel_Cluster",
          "xref": "x",
          "y": "Published Date",
          "yref": "y"
         },
         {
          "font": {
           "color": "#000000"
          },
          "showarrow": false,
          "text": "-0.18",
          "x": "Video_Cluster",
          "xref": "x",
          "y": "Published Date",
          "yref": "y"
         },
         {
          "font": {
           "color": "#000000"
          },
          "showarrow": false,
          "text": "0.02",
          "x": "Country_Cluster_x",
          "xref": "x",
          "y": "Published Date",
          "yref": "y"
         },
         {
          "font": {
           "color": "#000000"
          },
          "showarrow": false,
          "text": "0.26",
          "x": "Category_Cluster_x",
          "xref": "x",
          "y": "Published Date",
          "yref": "y"
         },
         {
          "font": {
           "color": "#000000"
          },
          "showarrow": false,
          "text": "0.02",
          "x": "Country_Cluster_y",
          "xref": "x",
          "y": "Published Date",
          "yref": "y"
         },
         {
          "font": {
           "color": "#000000"
          },
          "showarrow": false,
          "text": "0.26",
          "x": "Category_Cluster_y",
          "xref": "x",
          "y": "Published Date",
          "yref": "y"
         },
         {
          "font": {
           "color": "#000000"
          },
          "showarrow": false,
          "text": "nan",
          "x": "Year",
          "xref": "x",
          "y": "Published Date",
          "yref": "y"
         },
         {
          "font": {
           "color": "#000000"
          },
          "showarrow": false,
          "text": "0.66",
          "x": "Month",
          "xref": "x",
          "y": "Published Date",
          "yref": "y"
         },
         {
          "font": {
           "color": "#000000"
          },
          "showarrow": false,
          "text": "0.49",
          "x": "Day",
          "xref": "x",
          "y": "Published Date",
          "yref": "y"
         },
         {
          "font": {
           "color": "#000000"
          },
          "showarrow": false,
          "text": "0.28",
          "x": "DayOfWeek",
          "xref": "x",
          "y": "Published Date",
          "yref": "y"
         },
         {
          "font": {
           "color": "#000000"
          },
          "showarrow": false,
          "text": "-0.11",
          "x": "DayName",
          "xref": "x",
          "y": "Published Date",
          "yref": "y"
         },
         {
          "font": {
           "color": "#000000"
          },
          "showarrow": false,
          "text": "-0.08",
          "x": "Views_per_Sub",
          "xref": "x",
          "y": "Published Date",
          "yref": "y"
         },
         {
          "font": {
           "color": "#000000"
          },
          "showarrow": false,
          "text": "0.17",
          "x": "Engagement",
          "xref": "x",
          "y": "Published Date",
          "yref": "y"
         },
         {
          "font": {
           "color": "#000000"
          },
          "showarrow": false,
          "text": "-0.04",
          "x": "Like_per_Sub",
          "xref": "x",
          "y": "Published Date",
          "yref": "y"
         },
         {
          "font": {
           "color": "#000000"
          },
          "showarrow": false,
          "text": "-0.0",
          "x": "Comment_per_Sub",
          "xref": "x",
          "y": "Published Date",
          "yref": "y"
         },
         {
          "font": {
           "color": "#000000"
          },
          "showarrow": false,
          "text": "1.0",
          "x": "Published_ts",
          "xref": "x",
          "y": "Published Date",
          "yref": "y"
         },
         {
          "font": {
           "color": "#000000"
          },
          "showarrow": false,
          "text": "-0.01",
          "x": "Unnamed: 0",
          "xref": "x",
          "y": "Views",
          "yref": "y"
         },
         {
          "font": {
           "color": "#000000"
          },
          "showarrow": false,
          "text": "-0.02",
          "x": "Video ID",
          "xref": "x",
          "y": "Views",
          "yref": "y"
         },
         {
          "font": {
           "color": "#000000"
          },
          "showarrow": false,
          "text": "-0.03",
          "x": "Video Title",
          "xref": "x",
          "y": "Views",
          "yref": "y"
         },
         {
          "font": {
           "color": "#000000"
          },
          "showarrow": false,
          "text": "0.0",
          "x": "Channel",
          "xref": "x",
          "y": "Views",
          "yref": "y"
         },
         {
          "font": {
           "color": "#000000"
          },
          "showarrow": false,
          "text": "-0.2",
          "x": "Published Date",
          "xref": "x",
          "y": "Views",
          "yref": "y"
         },
         {
          "font": {
           "color": "#000000"
          },
          "showarrow": false,
          "text": "1.0",
          "x": "Views",
          "xref": "x",
          "y": "Views",
          "yref": "y"
         },
         {
          "font": {
           "color": "#000000"
          },
          "showarrow": false,
          "text": "0.75",
          "x": "Likes",
          "xref": "x",
          "y": "Views",
          "yref": "y"
         },
         {
          "font": {
           "color": "#000000"
          },
          "showarrow": false,
          "text": "0.11",
          "x": "Comments",
          "xref": "x",
          "y": "Views",
          "yref": "y"
         },
         {
          "font": {
           "color": "#000000"
          },
          "showarrow": false,
          "text": "0.14",
          "x": "Subscribers",
          "xref": "x",
          "y": "Views",
          "yref": "y"
         },
         {
          "font": {
           "color": "#000000"
          },
          "showarrow": false,
          "text": "0.15",
          "x": "Channel Views",
          "xref": "x",
          "y": "Views",
          "yref": "y"
         },
         {
          "font": {
           "color": "#000000"
          },
          "showarrow": false,
          "text": "0.03",
          "x": "Country",
          "xref": "x",
          "y": "Views",
          "yref": "y"
         },
         {
          "font": {
           "color": "#000000"
          },
          "showarrow": false,
          "text": "-0.05",
          "x": "Region",
          "xref": "x",
          "y": "Views",
          "yref": "y"
         },
         {
          "font": {
           "color": "#000000"
          },
          "showarrow": false,
          "text": "-0.04",
          "x": "CategoryID",
          "xref": "x",
          "y": "Views",
          "yref": "y"
         },
         {
          "font": {
           "color": "#000000"
          },
          "showarrow": false,
          "text": "0.14",
          "x": "CategoryName",
          "xref": "x",
          "y": "Views",
          "yref": "y"
         },
         {
          "font": {
           "color": "#000000"
          },
          "showarrow": false,
          "text": "0.74",
          "x": "Cluster",
          "xref": "x",
          "y": "Views",
          "yref": "y"
         },
         {
          "font": {
           "color": "#000000"
          },
          "showarrow": false,
          "text": "-0.12",
          "x": "CategoryID_enc",
          "xref": "x",
          "y": "Views",
          "yref": "y"
         },
         {
          "font": {
           "color": "#000000"
          },
          "showarrow": false,
          "text": "0.03",
          "x": "Country_enc",
          "xref": "x",
          "y": "Views",
          "yref": "y"
         },
         {
          "font": {
           "color": "#000000"
          },
          "showarrow": false,
          "text": "0.41",
          "x": "VideoCluster",
          "xref": "x",
          "y": "Views",
          "yref": "y"
         },
         {
          "font": {
           "color": "#000000"
          },
          "showarrow": false,
          "text": "0.21",
          "x": "Channel_Cluster",
          "xref": "x",
          "y": "Views",
          "yref": "y"
         },
         {
          "font": {
           "color": "#000000"
          },
          "showarrow": false,
          "text": "0.55",
          "x": "Video_Cluster",
          "xref": "x",
          "y": "Views",
          "yref": "y"
         },
         {
          "font": {
           "color": "#000000"
          },
          "showarrow": false,
          "text": "-0.22",
          "x": "Country_Cluster_x",
          "xref": "x",
          "y": "Views",
          "yref": "y"
         },
         {
          "font": {
           "color": "#000000"
          },
          "showarrow": false,
          "text": "-0.02",
          "x": "Category_Cluster_x",
          "xref": "x",
          "y": "Views",
          "yref": "y"
         },
         {
          "font": {
           "color": "#000000"
          },
          "showarrow": false,
          "text": "-0.22",
          "x": "Country_Cluster_y",
          "xref": "x",
          "y": "Views",
          "yref": "y"
         },
         {
          "font": {
           "color": "#000000"
          },
          "showarrow": false,
          "text": "-0.02",
          "x": "Category_Cluster_y",
          "xref": "x",
          "y": "Views",
          "yref": "y"
         },
         {
          "font": {
           "color": "#000000"
          },
          "showarrow": false,
          "text": "nan",
          "x": "Year",
          "xref": "x",
          "y": "Views",
          "yref": "y"
         },
         {
          "font": {
           "color": "#000000"
          },
          "showarrow": false,
          "text": "-0.07",
          "x": "Month",
          "xref": "x",
          "y": "Views",
          "yref": "y"
         },
         {
          "font": {
           "color": "#000000"
          },
          "showarrow": false,
          "text": "-0.17",
          "x": "Day",
          "xref": "x",
          "y": "Views",
          "yref": "y"
         },
         {
          "font": {
           "color": "#000000"
          },
          "showarrow": false,
          "text": "-0.1",
          "x": "DayOfWeek",
          "xref": "x",
          "y": "Views",
          "yref": "y"
         },
         {
          "font": {
           "color": "#000000"
          },
          "showarrow": false,
          "text": "0.02",
          "x": "DayName",
          "xref": "x",
          "y": "Views",
          "yref": "y"
         },
         {
          "font": {
           "color": "#000000"
          },
          "showarrow": false,
          "text": "0.05",
          "x": "Views_per_Sub",
          "xref": "x",
          "y": "Views",
          "yref": "y"
         },
         {
          "font": {
           "color": "#000000"
          },
          "showarrow": false,
          "text": "-0.14",
          "x": "Engagement",
          "xref": "x",
          "y": "Views",
          "yref": "y"
         },
         {
          "font": {
           "color": "#000000"
          },
          "showarrow": false,
          "text": "0.02",
          "x": "Like_per_Sub",
          "xref": "x",
          "y": "Views",
          "yref": "y"
         },
         {
          "font": {
           "color": "#000000"
          },
          "showarrow": false,
          "text": "-0.0",
          "x": "Comment_per_Sub",
          "xref": "x",
          "y": "Views",
          "yref": "y"
         },
         {
          "font": {
           "color": "#000000"
          },
          "showarrow": false,
          "text": "-0.2",
          "x": "Published_ts",
          "xref": "x",
          "y": "Views",
          "yref": "y"
         },
         {
          "font": {
           "color": "#000000"
          },
          "showarrow": false,
          "text": "-0.01",
          "x": "Unnamed: 0",
          "xref": "x",
          "y": "Likes",
          "yref": "y"
         },
         {
          "font": {
           "color": "#000000"
          },
          "showarrow": false,
          "text": "-0.01",
          "x": "Video ID",
          "xref": "x",
          "y": "Likes",
          "yref": "y"
         },
         {
          "font": {
           "color": "#000000"
          },
          "showarrow": false,
          "text": "-0.03",
          "x": "Video Title",
          "xref": "x",
          "y": "Likes",
          "yref": "y"
         },
         {
          "font": {
           "color": "#000000"
          },
          "showarrow": false,
          "text": "0.0",
          "x": "Channel",
          "xref": "x",
          "y": "Likes",
          "yref": "y"
         },
         {
          "font": {
           "color": "#000000"
          },
          "showarrow": false,
          "text": "-0.18",
          "x": "Published Date",
          "xref": "x",
          "y": "Likes",
          "yref": "y"
         },
         {
          "font": {
           "color": "#000000"
          },
          "showarrow": false,
          "text": "0.75",
          "x": "Views",
          "xref": "x",
          "y": "Likes",
          "yref": "y"
         },
         {
          "font": {
           "color": "#000000"
          },
          "showarrow": false,
          "text": "1.0",
          "x": "Likes",
          "xref": "x",
          "y": "Likes",
          "yref": "y"
         },
         {
          "font": {
           "color": "#000000"
          },
          "showarrow": false,
          "text": "0.21",
          "x": "Comments",
          "xref": "x",
          "y": "Likes",
          "yref": "y"
         },
         {
          "font": {
           "color": "#000000"
          },
          "showarrow": false,
          "text": "0.15",
          "x": "Subscribers",
          "xref": "x",
          "y": "Likes",
          "yref": "y"
         },
         {
          "font": {
           "color": "#000000"
          },
          "showarrow": false,
          "text": "0.13",
          "x": "Channel Views",
          "xref": "x",
          "y": "Likes",
          "yref": "y"
         },
         {
          "font": {
           "color": "#000000"
          },
          "showarrow": false,
          "text": "0.03",
          "x": "Country",
          "xref": "x",
          "y": "Likes",
          "yref": "y"
         },
         {
          "font": {
           "color": "#000000"
          },
          "showarrow": false,
          "text": "-0.1",
          "x": "Region",
          "xref": "x",
          "y": "Likes",
          "yref": "y"
         },
         {
          "font": {
           "color": "#000000"
          },
          "showarrow": false,
          "text": "-0.05",
          "x": "CategoryID",
          "xref": "x",
          "y": "Likes",
          "yref": "y"
         },
         {
          "font": {
           "color": "#000000"
          },
          "showarrow": false,
          "text": "0.14",
          "x": "CategoryName",
          "xref": "x",
          "y": "Likes",
          "yref": "y"
         },
         {
          "font": {
           "color": "#000000"
          },
          "showarrow": false,
          "text": "0.74",
          "x": "Cluster",
          "xref": "x",
          "y": "Likes",
          "yref": "y"
         },
         {
          "font": {
           "color": "#000000"
          },
          "showarrow": false,
          "text": "-0.1",
          "x": "CategoryID_enc",
          "xref": "x",
          "y": "Likes",
          "yref": "y"
         },
         {
          "font": {
           "color": "#000000"
          },
          "showarrow": false,
          "text": "0.03",
          "x": "Country_enc",
          "xref": "x",
          "y": "Likes",
          "yref": "y"
         },
         {
          "font": {
           "color": "#000000"
          },
          "showarrow": false,
          "text": "0.38",
          "x": "VideoCluster",
          "xref": "x",
          "y": "Likes",
          "yref": "y"
         },
         {
          "font": {
           "color": "#000000"
          },
          "showarrow": false,
          "text": "0.18",
          "x": "Channel_Cluster",
          "xref": "x",
          "y": "Likes",
          "yref": "y"
         },
         {
          "font": {
           "color": "#000000"
          },
          "showarrow": false,
          "text": "0.48",
          "x": "Video_Cluster",
          "xref": "x",
          "y": "Likes",
          "yref": "y"
         },
         {
          "font": {
           "color": "#000000"
          },
          "showarrow": false,
          "text": "-0.17",
          "x": "Country_Cluster_x",
          "xref": "x",
          "y": "Likes",
          "yref": "y"
         },
         {
          "font": {
           "color": "#000000"
          },
          "showarrow": false,
          "text": "0.01",
          "x": "Category_Cluster_x",
          "xref": "x",
          "y": "Likes",
          "yref": "y"
         },
         {
          "font": {
           "color": "#000000"
          },
          "showarrow": false,
          "text": "-0.17",
          "x": "Country_Cluster_y",
          "xref": "x",
          "y": "Likes",
          "yref": "y"
         },
         {
          "font": {
           "color": "#000000"
          },
          "showarrow": false,
          "text": "0.01",
          "x": "Category_Cluster_y",
          "xref": "x",
          "y": "Likes",
          "yref": "y"
         },
         {
          "font": {
           "color": "#000000"
          },
          "showarrow": false,
          "text": "nan",
          "x": "Year",
          "xref": "x",
          "y": "Likes",
          "yref": "y"
         },
         {
          "font": {
           "color": "#000000"
          },
          "showarrow": false,
          "text": "-0.07",
          "x": "Month",
          "xref": "x",
          "y": "Likes",
          "yref": "y"
         },
         {
          "font": {
           "color": "#000000"
          },
          "showarrow": false,
          "text": "-0.14",
          "x": "Day",
          "xref": "x",
          "y": "Likes",
          "yref": "y"
         },
         {
          "font": {
           "color": "#000000"
          },
          "showarrow": false,
          "text": "-0.08",
          "x": "DayOfWeek",
          "xref": "x",
          "y": "Likes",
          "yref": "y"
         },
         {
          "font": {
           "color": "#000000"
          },
          "showarrow": false,
          "text": "0.02",
          "x": "DayName",
          "xref": "x",
          "y": "Likes",
          "yref": "y"
         },
         {
          "font": {
           "color": "#000000"
          },
          "showarrow": false,
          "text": "0.04",
          "x": "Views_per_Sub",
          "xref": "x",
          "y": "Likes",
          "yref": "y"
         },
         {
          "font": {
           "color": "#000000"
          },
          "showarrow": false,
          "text": "0.03",
          "x": "Engagement",
          "xref": "x",
          "y": "Likes",
          "yref": "y"
         },
         {
          "font": {
           "color": "#000000"
          },
          "showarrow": false,
          "text": "0.03",
          "x": "Like_per_Sub",
          "xref": "x",
          "y": "Likes",
          "yref": "y"
         },
         {
          "font": {
           "color": "#000000"
          },
          "showarrow": false,
          "text": "-0.0",
          "x": "Comment_per_Sub",
          "xref": "x",
          "y": "Likes",
          "yref": "y"
         },
         {
          "font": {
           "color": "#000000"
          },
          "showarrow": false,
          "text": "-0.18",
          "x": "Published_ts",
          "xref": "x",
          "y": "Likes",
          "yref": "y"
         },
         {
          "font": {
           "color": "#000000"
          },
          "showarrow": false,
          "text": "-0.01",
          "x": "Unnamed: 0",
          "xref": "x",
          "y": "Comments",
          "yref": "y"
         },
         {
          "font": {
           "color": "#000000"
          },
          "showarrow": false,
          "text": "0.0",
          "x": "Video ID",
          "xref": "x",
          "y": "Comments",
          "yref": "y"
         },
         {
          "font": {
           "color": "#000000"
          },
          "showarrow": false,
          "text": "-0.01",
          "x": "Video Title",
          "xref": "x",
          "y": "Comments",
          "yref": "y"
         },
         {
          "font": {
           "color": "#000000"
          },
          "showarrow": false,
          "text": "-0.01",
          "x": "Channel",
          "xref": "x",
          "y": "Comments",
          "yref": "y"
         },
         {
          "font": {
           "color": "#000000"
          },
          "showarrow": false,
          "text": "-0.06",
          "x": "Published Date",
          "xref": "x",
          "y": "Comments",
          "yref": "y"
         },
         {
          "font": {
           "color": "#000000"
          },
          "showarrow": false,
          "text": "0.11",
          "x": "Views",
          "xref": "x",
          "y": "Comments",
          "yref": "y"
         },
         {
          "font": {
           "color": "#000000"
          },
          "showarrow": false,
          "text": "0.21",
          "x": "Likes",
          "xref": "x",
          "y": "Comments",
          "yref": "y"
         },
         {
          "font": {
           "color": "#000000"
          },
          "showarrow": false,
          "text": "1.0",
          "x": "Comments",
          "xref": "x",
          "y": "Comments",
          "yref": "y"
         },
         {
          "font": {
           "color": "#000000"
          },
          "showarrow": false,
          "text": "0.15",
          "x": "Subscribers",
          "xref": "x",
          "y": "Comments",
          "yref": "y"
         },
         {
          "font": {
           "color": "#000000"
          },
          "showarrow": false,
          "text": "0.06",
          "x": "Channel Views",
          "xref": "x",
          "y": "Comments",
          "yref": "y"
         },
         {
          "font": {
           "color": "#000000"
          },
          "showarrow": false,
          "text": "-0.01",
          "x": "Country",
          "xref": "x",
          "y": "Comments",
          "yref": "y"
         },
         {
          "font": {
           "color": "#000000"
          },
          "showarrow": false,
          "text": "-0.03",
          "x": "Region",
          "xref": "x",
          "y": "Comments",
          "yref": "y"
         },
         {
          "font": {
           "color": "#000000"
          },
          "showarrow": false,
          "text": "0.0",
          "x": "CategoryID",
          "xref": "x",
          "y": "Comments",
          "yref": "y"
         },
         {
          "font": {
           "color": "#000000"
          },
          "showarrow": false,
          "text": "-0.0",
          "x": "CategoryName",
          "xref": "x",
          "y": "Comments",
          "yref": "y"
         },
         {
          "font": {
           "color": "#000000"
          },
          "showarrow": false,
          "text": "0.21",
          "x": "Cluster",
          "xref": "x",
          "y": "Comments",
          "yref": "y"
         },
         {
          "font": {
           "color": "#000000"
          },
          "showarrow": false,
          "text": "0.0",
          "x": "CategoryID_enc",
          "xref": "x",
          "y": "Comments",
          "yref": "y"
         },
         {
          "font": {
           "color": "#000000"
          },
          "showarrow": false,
          "text": "-0.01",
          "x": "Country_enc",
          "xref": "x",
          "y": "Comments",
          "yref": "y"
         },
         {
          "font": {
           "color": "#000000"
          },
          "showarrow": false,
          "text": "0.08",
          "x": "VideoCluster",
          "xref": "x",
          "y": "Comments",
          "yref": "y"
         },
         {
          "font": {
           "color": "#000000"
          },
          "showarrow": false,
          "text": "0.1",
          "x": "Channel_Cluster",
          "xref": "x",
          "y": "Comments",
          "yref": "y"
         },
         {
          "font": {
           "color": "#000000"
          },
          "showarrow": false,
          "text": "0.07",
          "x": "Video_Cluster",
          "xref": "x",
          "y": "Comments",
          "yref": "y"
         },
         {
          "font": {
           "color": "#000000"
          },
          "showarrow": false,
          "text": "-0.04",
          "x": "Country_Cluster_x",
          "xref": "x",
          "y": "Comments",
          "yref": "y"
         },
         {
          "font": {
           "color": "#000000"
          },
          "showarrow": false,
          "text": "-0.02",
          "x": "Category_Cluster_x",
          "xref": "x",
          "y": "Comments",
          "yref": "y"
         },
         {
          "font": {
           "color": "#000000"
          },
          "showarrow": false,
          "text": "-0.04",
          "x": "Country_Cluster_y",
          "xref": "x",
          "y": "Comments",
          "yref": "y"
         },
         {
          "font": {
           "color": "#000000"
          },
          "showarrow": false,
          "text": "-0.02",
          "x": "Category_Cluster_y",
          "xref": "x",
          "y": "Comments",
          "yref": "y"
         },
         {
          "font": {
           "color": "#000000"
          },
          "showarrow": false,
          "text": "nan",
          "x": "Year",
          "xref": "x",
          "y": "Comments",
          "yref": "y"
         },
         {
          "font": {
           "color": "#000000"
          },
          "showarrow": false,
          "text": "-0.05",
          "x": "Month",
          "xref": "x",
          "y": "Comments",
          "yref": "y"
         },
         {
          "font": {
           "color": "#000000"
          },
          "showarrow": false,
          "text": "-0.01",
          "x": "Day",
          "xref": "x",
          "y": "Comments",
          "yref": "y"
         },
         {
          "font": {
           "color": "#000000"
          },
          "showarrow": false,
          "text": "-0.03",
          "x": "DayOfWeek",
          "xref": "x",
          "y": "Comments",
          "yref": "y"
         },
         {
          "font": {
           "color": "#000000"
          },
          "showarrow": false,
          "text": "-0.02",
          "x": "DayName",
          "xref": "x",
          "y": "Comments",
          "yref": "y"
         },
         {
          "font": {
           "color": "#000000"
          },
          "showarrow": false,
          "text": "0.0",
          "x": "Views_per_Sub",
          "xref": "x",
          "y": "Comments",
          "yref": "y"
         },
         {
          "font": {
           "color": "#000000"
          },
          "showarrow": false,
          "text": "0.39",
          "x": "Engagement",
          "xref": "x",
          "y": "Comments",
          "yref": "y"
         },
         {
          "font": {
           "color": "#000000"
          },
          "showarrow": false,
          "text": "0.0",
          "x": "Like_per_Sub",
          "xref": "x",
          "y": "Comments",
          "yref": "y"
         },
         {
          "font": {
           "color": "#000000"
          },
          "showarrow": false,
          "text": "0.0",
          "x": "Comment_per_Sub",
          "xref": "x",
          "y": "Comments",
          "yref": "y"
         },
         {
          "font": {
           "color": "#000000"
          },
          "showarrow": false,
          "text": "-0.06",
          "x": "Published_ts",
          "xref": "x",
          "y": "Comments",
          "yref": "y"
         },
         {
          "font": {
           "color": "#000000"
          },
          "showarrow": false,
          "text": "0.0",
          "x": "Unnamed: 0",
          "xref": "x",
          "y": "Subscribers",
          "yref": "y"
         },
         {
          "font": {
           "color": "#000000"
          },
          "showarrow": false,
          "text": "0.0",
          "x": "Video ID",
          "xref": "x",
          "y": "Subscribers",
          "yref": "y"
         },
         {
          "font": {
           "color": "#000000"
          },
          "showarrow": false,
          "text": "-0.02",
          "x": "Video Title",
          "xref": "x",
          "y": "Subscribers",
          "yref": "y"
         },
         {
          "font": {
           "color": "#000000"
          },
          "showarrow": false,
          "text": "-0.0",
          "x": "Channel",
          "xref": "x",
          "y": "Subscribers",
          "yref": "y"
         },
         {
          "font": {
           "color": "#000000"
          },
          "showarrow": false,
          "text": "-0.03",
          "x": "Published Date",
          "xref": "x",
          "y": "Subscribers",
          "yref": "y"
         },
         {
          "font": {
           "color": "#000000"
          },
          "showarrow": false,
          "text": "0.14",
          "x": "Views",
          "xref": "x",
          "y": "Subscribers",
          "yref": "y"
         },
         {
          "font": {
           "color": "#000000"
          },
          "showarrow": false,
          "text": "0.15",
          "x": "Likes",
          "xref": "x",
          "y": "Subscribers",
          "yref": "y"
         },
         {
          "font": {
           "color": "#000000"
          },
          "showarrow": false,
          "text": "0.15",
          "x": "Comments",
          "xref": "x",
          "y": "Subscribers",
          "yref": "y"
         },
         {
          "font": {
           "color": "#000000"
          },
          "showarrow": false,
          "text": "1.0",
          "x": "Subscribers",
          "xref": "x",
          "y": "Subscribers",
          "yref": "y"
         },
         {
          "font": {
           "color": "#000000"
          },
          "showarrow": false,
          "text": "0.95",
          "x": "Channel Views",
          "xref": "x",
          "y": "Subscribers",
          "yref": "y"
         },
         {
          "font": {
           "color": "#000000"
          },
          "showarrow": false,
          "text": "-0.03",
          "x": "Country",
          "xref": "x",
          "y": "Subscribers",
          "yref": "y"
         },
         {
          "font": {
           "color": "#000000"
          },
          "showarrow": false,
          "text": "-0.04",
          "x": "Region",
          "xref": "x",
          "y": "Subscribers",
          "yref": "y"
         },
         {
          "font": {
           "color": "#000000"
          },
          "showarrow": false,
          "text": "-0.01",
          "x": "CategoryID",
          "xref": "x",
          "y": "Subscribers",
          "yref": "y"
         },
         {
          "font": {
           "color": "#000000"
          },
          "showarrow": false,
          "text": "0.0",
          "x": "CategoryName",
          "xref": "x",
          "y": "Subscribers",
          "yref": "y"
         },
         {
          "font": {
           "color": "#000000"
          },
          "showarrow": false,
          "text": "0.16",
          "x": "Cluster",
          "xref": "x",
          "y": "Subscribers",
          "yref": "y"
         },
         {
          "font": {
           "color": "#000000"
          },
          "showarrow": false,
          "text": "0.0",
          "x": "CategoryID_enc",
          "xref": "x",
          "y": "Subscribers",
          "yref": "y"
         },
         {
          "font": {
           "color": "#000000"
          },
          "showarrow": false,
          "text": "-0.03",
          "x": "Country_enc",
          "xref": "x",
          "y": "Subscribers",
          "yref": "y"
         },
         {
          "font": {
           "color": "#000000"
          },
          "showarrow": false,
          "text": "0.03",
          "x": "VideoCluster",
          "xref": "x",
          "y": "Subscribers",
          "yref": "y"
         },
         {
          "font": {
           "color": "#000000"
          },
          "showarrow": false,
          "text": "0.49",
          "x": "Channel_Cluster",
          "xref": "x",
          "y": "Subscribers",
          "yref": "y"
         },
         {
          "font": {
           "color": "#000000"
          },
          "showarrow": false,
          "text": "0.1",
          "x": "Video_Cluster",
          "xref": "x",
          "y": "Subscribers",
          "yref": "y"
         },
         {
          "font": {
           "color": "#000000"
          },
          "showarrow": false,
          "text": "-0.14",
          "x": "Country_Cluster_x",
          "xref": "x",
          "y": "Subscribers",
          "yref": "y"
         },
         {
          "font": {
           "color": "#000000"
          },
          "showarrow": false,
          "text": "-0.02",
          "x": "Category_Cluster_x",
          "xref": "x",
          "y": "Subscribers",
          "yref": "y"
         },
         {
          "font": {
           "color": "#000000"
          },
          "showarrow": false,
          "text": "-0.14",
          "x": "Country_Cluster_y",
          "xref": "x",
          "y": "Subscribers",
          "yref": "y"
         },
         {
          "font": {
           "color": "#000000"
          },
          "showarrow": false,
          "text": "-0.02",
          "x": "Category_Cluster_y",
          "xref": "x",
          "y": "Subscribers",
          "yref": "y"
         },
         {
          "font": {
           "color": "#000000"
          },
          "showarrow": false,
          "text": "nan",
          "x": "Year",
          "xref": "x",
          "y": "Subscribers",
          "yref": "y"
         },
         {
          "font": {
           "color": "#000000"
          },
          "showarrow": false,
          "text": "-0.03",
          "x": "Month",
          "xref": "x",
          "y": "Subscribers",
          "yref": "y"
         },
         {
          "font": {
           "color": "#000000"
          },
          "showarrow": false,
          "text": "-0.0",
          "x": "Day",
          "xref": "x",
          "y": "Subscribers",
          "yref": "y"
         },
         {
          "font": {
           "color": "#000000"
          },
          "showarrow": false,
          "text": "0.01",
          "x": "DayOfWeek",
          "xref": "x",
          "y": "Subscribers",
          "yref": "y"
         },
         {
          "font": {
           "color": "#000000"
          },
          "showarrow": false,
          "text": "-0.03",
          "x": "DayName",
          "xref": "x",
          "y": "Subscribers",
          "yref": "y"
         },
         {
          "font": {
           "color": "#000000"
          },
          "showarrow": false,
          "text": "-0.01",
          "x": "Views_per_Sub",
          "xref": "x",
          "y": "Subscribers",
          "yref": "y"
         },
         {
          "font": {
           "color": "#000000"
          },
          "showarrow": false,
          "text": "0.03",
          "x": "Engagement",
          "xref": "x",
          "y": "Subscribers",
          "yref": "y"
         },
         {
          "font": {
           "color": "#000000"
          },
          "showarrow": false,
          "text": "-0.01",
          "x": "Like_per_Sub",
          "xref": "x",
          "y": "Subscribers",
          "yref": "y"
         },
         {
          "font": {
           "color": "#000000"
          },
          "showarrow": false,
          "text": "-0.0",
          "x": "Comment_per_Sub",
          "xref": "x",
          "y": "Subscribers",
          "yref": "y"
         },
         {
          "font": {
           "color": "#000000"
          },
          "showarrow": false,
          "text": "-0.03",
          "x": "Published_ts",
          "xref": "x",
          "y": "Subscribers",
          "yref": "y"
         },
         {
          "font": {
           "color": "#000000"
          },
          "showarrow": false,
          "text": "0.0",
          "x": "Unnamed: 0",
          "xref": "x",
          "y": "Channel Views",
          "yref": "y"
         },
         {
          "font": {
           "color": "#000000"
          },
          "showarrow": false,
          "text": "-0.0",
          "x": "Video ID",
          "xref": "x",
          "y": "Channel Views",
          "yref": "y"
         },
         {
          "font": {
           "color": "#000000"
          },
          "showarrow": false,
          "text": "-0.01",
          "x": "Video Title",
          "xref": "x",
          "y": "Channel Views",
          "yref": "y"
         },
         {
          "font": {
           "color": "#000000"
          },
          "showarrow": false,
          "text": "0.01",
          "x": "Channel",
          "xref": "x",
          "y": "Channel Views",
          "yref": "y"
         },
         {
          "font": {
           "color": "#000000"
          },
          "showarrow": false,
          "text": "-0.04",
          "x": "Published Date",
          "xref": "x",
          "y": "Channel Views",
          "yref": "y"
         },
         {
          "font": {
           "color": "#000000"
          },
          "showarrow": false,
          "text": "0.15",
          "x": "Views",
          "xref": "x",
          "y": "Channel Views",
          "yref": "y"
         },
         {
          "font": {
           "color": "#000000"
          },
          "showarrow": false,
          "text": "0.13",
          "x": "Likes",
          "xref": "x",
          "y": "Channel Views",
          "yref": "y"
         },
         {
          "font": {
           "color": "#000000"
          },
          "showarrow": false,
          "text": "0.06",
          "x": "Comments",
          "xref": "x",
          "y": "Channel Views",
          "yref": "y"
         },
         {
          "font": {
           "color": "#000000"
          },
          "showarrow": false,
          "text": "0.95",
          "x": "Subscribers",
          "xref": "x",
          "y": "Channel Views",
          "yref": "y"
         },
         {
          "font": {
           "color": "#000000"
          },
          "showarrow": false,
          "text": "1.0",
          "x": "Channel Views",
          "xref": "x",
          "y": "Channel Views",
          "yref": "y"
         },
         {
          "font": {
           "color": "#000000"
          },
          "showarrow": false,
          "text": "-0.02",
          "x": "Country",
          "xref": "x",
          "y": "Channel Views",
          "yref": "y"
         },
         {
          "font": {
           "color": "#000000"
          },
          "showarrow": false,
          "text": "-0.03",
          "x": "Region",
          "xref": "x",
          "y": "Channel Views",
          "yref": "y"
         },
         {
          "font": {
           "color": "#000000"
          },
          "showarrow": false,
          "text": "-0.02",
          "x": "CategoryID",
          "xref": "x",
          "y": "Channel Views",
          "yref": "y"
         },
         {
          "font": {
           "color": "#000000"
          },
          "showarrow": false,
          "text": "0.03",
          "x": "CategoryName",
          "xref": "x",
          "y": "Channel Views",
          "yref": "y"
         },
         {
          "font": {
           "color": "#000000"
          },
          "showarrow": false,
          "text": "0.16",
          "x": "Cluster",
          "xref": "x",
          "y": "Channel Views",
          "yref": "y"
         },
         {
          "font": {
           "color": "#000000"
          },
          "showarrow": false,
          "text": "-0.0",
          "x": "CategoryID_enc",
          "xref": "x",
          "y": "Channel Views",
          "yref": "y"
         },
         {
          "font": {
           "color": "#000000"
          },
          "showarrow": false,
          "text": "-0.02",
          "x": "Country_enc",
          "xref": "x",
          "y": "Channel Views",
          "yref": "y"
         },
         {
          "font": {
           "color": "#000000"
          },
          "showarrow": false,
          "text": "0.04",
          "x": "VideoCluster",
          "xref": "x",
          "y": "Channel Views",
          "yref": "y"
         },
         {
          "font": {
           "color": "#000000"
          },
          "showarrow": false,
          "text": "0.44",
          "x": "Channel_Cluster",
          "xref": "x",
          "y": "Channel Views",
          "yref": "y"
         },
         {
          "font": {
           "color": "#000000"
          },
          "showarrow": false,
          "text": "0.09",
          "x": "Video_Cluster",
          "xref": "x",
          "y": "Channel Views",
          "yref": "y"
         },
         {
          "font": {
           "color": "#000000"
          },
          "showarrow": false,
          "text": "-0.12",
          "x": "Country_Cluster_x",
          "xref": "x",
          "y": "Channel Views",
          "yref": "y"
         },
         {
          "font": {
           "color": "#000000"
          },
          "showarrow": false,
          "text": "-0.02",
          "x": "Category_Cluster_x",
          "xref": "x",
          "y": "Channel Views",
          "yref": "y"
         },
         {
          "font": {
           "color": "#000000"
          },
          "showarrow": false,
          "text": "-0.12",
          "x": "Country_Cluster_y",
          "xref": "x",
          "y": "Channel Views",
          "yref": "y"
         },
         {
          "font": {
           "color": "#000000"
          },
          "showarrow": false,
          "text": "-0.02",
          "x": "Category_Cluster_y",
          "xref": "x",
          "y": "Channel Views",
          "yref": "y"
         },
         {
          "font": {
           "color": "#000000"
          },
          "showarrow": false,
          "text": "nan",
          "x": "Year",
          "xref": "x",
          "y": "Channel Views",
          "yref": "y"
         },
         {
          "font": {
           "color": "#000000"
          },
          "showarrow": false,
          "text": "-0.03",
          "x": "Month",
          "xref": "x",
          "y": "Channel Views",
          "yref": "y"
         },
         {
          "font": {
           "color": "#000000"
          },
          "showarrow": false,
          "text": "-0.02",
          "x": "Day",
          "xref": "x",
          "y": "Channel Views",
          "yref": "y"
         },
         {
          "font": {
           "color": "#000000"
          },
          "showarrow": false,
          "text": "-0.0",
          "x": "DayOfWeek",
          "xref": "x",
          "y": "Channel Views",
          "yref": "y"
         },
         {
          "font": {
           "color": "#000000"
          },
          "showarrow": false,
          "text": "-0.03",
          "x": "DayName",
          "xref": "x",
          "y": "Channel Views",
          "yref": "y"
         },
         {
          "font": {
           "color": "#000000"
          },
          "showarrow": false,
          "text": "-0.01",
          "x": "Views_per_Sub",
          "xref": "x",
          "y": "Channel Views",
          "yref": "y"
         },
         {
          "font": {
           "color": "#000000"
          },
          "showarrow": false,
          "text": "-0.02",
          "x": "Engagement",
          "xref": "x",
          "y": "Channel Views",
          "yref": "y"
         },
         {
          "font": {
           "color": "#000000"
          },
          "showarrow": false,
          "text": "-0.01",
          "x": "Like_per_Sub",
          "xref": "x",
          "y": "Channel Views",
          "yref": "y"
         },
         {
          "font": {
           "color": "#000000"
          },
          "showarrow": false,
          "text": "-0.0",
          "x": "Comment_per_Sub",
          "xref": "x",
          "y": "Channel Views",
          "yref": "y"
         },
         {
          "font": {
           "color": "#000000"
          },
          "showarrow": false,
          "text": "-0.04",
          "x": "Published_ts",
          "xref": "x",
          "y": "Channel Views",
          "yref": "y"
         },
         {
          "font": {
           "color": "#000000"
          },
          "showarrow": false,
          "text": "-0.02",
          "x": "Unnamed: 0",
          "xref": "x",
          "y": "Country",
          "yref": "y"
         },
         {
          "font": {
           "color": "#000000"
          },
          "showarrow": false,
          "text": "0.01",
          "x": "Video ID",
          "xref": "x",
          "y": "Country",
          "yref": "y"
         },
         {
          "font": {
           "color": "#000000"
          },
          "showarrow": false,
          "text": "0.02",
          "x": "Video Title",
          "xref": "x",
          "y": "Country",
          "yref": "y"
         },
         {
          "font": {
           "color": "#000000"
          },
          "showarrow": false,
          "text": "0.01",
          "x": "Channel",
          "xref": "x",
          "y": "Country",
          "yref": "y"
         },
         {
          "font": {
           "color": "#000000"
          },
          "showarrow": false,
          "text": "-0.04",
          "x": "Published Date",
          "xref": "x",
          "y": "Country",
          "yref": "y"
         },
         {
          "font": {
           "color": "#000000"
          },
          "showarrow": false,
          "text": "0.03",
          "x": "Views",
          "xref": "x",
          "y": "Country",
          "yref": "y"
         },
         {
          "font": {
           "color": "#000000"
          },
          "showarrow": false,
          "text": "0.03",
          "x": "Likes",
          "xref": "x",
          "y": "Country",
          "yref": "y"
         },
         {
          "font": {
           "color": "#000000"
          },
          "showarrow": false,
          "text": "-0.01",
          "x": "Comments",
          "xref": "x",
          "y": "Country",
          "yref": "y"
         },
         {
          "font": {
           "color": "#000000"
          },
          "showarrow": false,
          "text": "-0.03",
          "x": "Subscribers",
          "xref": "x",
          "y": "Country",
          "yref": "y"
         },
         {
          "font": {
           "color": "#000000"
          },
          "showarrow": false,
          "text": "-0.02",
          "x": "Channel Views",
          "xref": "x",
          "y": "Country",
          "yref": "y"
         },
         {
          "font": {
           "color": "#000000"
          },
          "showarrow": false,
          "text": "1.0",
          "x": "Country",
          "xref": "x",
          "y": "Country",
          "yref": "y"
         },
         {
          "font": {
           "color": "#000000"
          },
          "showarrow": false,
          "text": "0.49",
          "x": "Region",
          "xref": "x",
          "y": "Country",
          "yref": "y"
         },
         {
          "font": {
           "color": "#000000"
          },
          "showarrow": false,
          "text": "-0.04",
          "x": "CategoryID",
          "xref": "x",
          "y": "Country",
          "yref": "y"
         },
         {
          "font": {
           "color": "#000000"
          },
          "showarrow": false,
          "text": "0.05",
          "x": "CategoryName",
          "xref": "x",
          "y": "Country",
          "yref": "y"
         },
         {
          "font": {
           "color": "#000000"
          },
          "showarrow": false,
          "text": "0.02",
          "x": "Cluster",
          "xref": "x",
          "y": "Country",
          "yref": "y"
         },
         {
          "font": {
           "color": "#000000"
          },
          "showarrow": false,
          "text": "-0.06",
          "x": "CategoryID_enc",
          "xref": "x",
          "y": "Country",
          "yref": "y"
         },
         {
          "font": {
           "color": "#000000"
          },
          "showarrow": false,
          "text": "1.0",
          "x": "Country_enc",
          "xref": "x",
          "y": "Country",
          "yref": "y"
         },
         {
          "font": {
           "color": "#000000"
          },
          "showarrow": false,
          "text": "0.63",
          "x": "VideoCluster",
          "xref": "x",
          "y": "Country",
          "yref": "y"
         },
         {
          "font": {
           "color": "#000000"
          },
          "showarrow": false,
          "text": "-0.02",
          "x": "Channel_Cluster",
          "xref": "x",
          "y": "Country",
          "yref": "y"
         },
         {
          "font": {
           "color": "#000000"
          },
          "showarrow": false,
          "text": "0.03",
          "x": "Video_Cluster",
          "xref": "x",
          "y": "Country",
          "yref": "y"
         },
         {
          "font": {
           "color": "#000000"
          },
          "showarrow": false,
          "text": "0.05",
          "x": "Country_Cluster_x",
          "xref": "x",
          "y": "Country",
          "yref": "y"
         },
         {
          "font": {
           "color": "#000000"
          },
          "showarrow": false,
          "text": "0.01",
          "x": "Category_Cluster_x",
          "xref": "x",
          "y": "Country",
          "yref": "y"
         },
         {
          "font": {
           "color": "#000000"
          },
          "showarrow": false,
          "text": "0.05",
          "x": "Country_Cluster_y",
          "xref": "x",
          "y": "Country",
          "yref": "y"
         },
         {
          "font": {
           "color": "#000000"
          },
          "showarrow": false,
          "text": "0.01",
          "x": "Category_Cluster_y",
          "xref": "x",
          "y": "Country",
          "yref": "y"
         },
         {
          "font": {
           "color": "#000000"
          },
          "showarrow": false,
          "text": "nan",
          "x": "Year",
          "xref": "x",
          "y": "Country",
          "yref": "y"
         },
         {
          "font": {
           "color": "#000000"
          },
          "showarrow": false,
          "text": "-0.01",
          "x": "Month",
          "xref": "x",
          "y": "Country",
          "yref": "y"
         },
         {
          "font": {
           "color": "#000000"
          },
          "showarrow": false,
          "text": "-0.04",
          "x": "Day",
          "xref": "x",
          "y": "Country",
          "yref": "y"
         },
         {
          "font": {
           "color": "#000000"
          },
          "showarrow": false,
          "text": "-0.02",
          "x": "DayOfWeek",
          "xref": "x",
          "y": "Country",
          "yref": "y"
         },
         {
          "font": {
           "color": "#000000"
          },
          "showarrow": false,
          "text": "-0.01",
          "x": "DayName",
          "xref": "x",
          "y": "Country",
          "yref": "y"
         },
         {
          "font": {
           "color": "#000000"
          },
          "showarrow": false,
          "text": "0.02",
          "x": "Views_per_Sub",
          "xref": "x",
          "y": "Country",
          "yref": "y"
         },
         {
          "font": {
           "color": "#000000"
          },
          "showarrow": false,
          "text": "-0.1",
          "x": "Engagement",
          "xref": "x",
          "y": "Country",
          "yref": "y"
         },
         {
          "font": {
           "color": "#000000"
          },
          "showarrow": false,
          "text": "0.01",
          "x": "Like_per_Sub",
          "xref": "x",
          "y": "Country",
          "yref": "y"
         },
         {
          "font": {
           "color": "#000000"
          },
          "showarrow": false,
          "text": "0.01",
          "x": "Comment_per_Sub",
          "xref": "x",
          "y": "Country",
          "yref": "y"
         },
         {
          "font": {
           "color": "#000000"
          },
          "showarrow": false,
          "text": "-0.04",
          "x": "Published_ts",
          "xref": "x",
          "y": "Country",
          "yref": "y"
         },
         {
          "font": {
           "color": "#000000"
          },
          "showarrow": false,
          "text": "0.0",
          "x": "Unnamed: 0",
          "xref": "x",
          "y": "Region",
          "yref": "y"
         },
         {
          "font": {
           "color": "#000000"
          },
          "showarrow": false,
          "text": "-0.01",
          "x": "Video ID",
          "xref": "x",
          "y": "Region",
          "yref": "y"
         },
         {
          "font": {
           "color": "#000000"
          },
          "showarrow": false,
          "text": "0.04",
          "x": "Video Title",
          "xref": "x",
          "y": "Region",
          "yref": "y"
         },
         {
          "font": {
           "color": "#000000"
          },
          "showarrow": false,
          "text": "0.01",
          "x": "Channel",
          "xref": "x",
          "y": "Region",
          "yref": "y"
         },
         {
          "font": {
           "color": "#000000"
          },
          "showarrow": false,
          "text": "-0.02",
          "x": "Published Date",
          "xref": "x",
          "y": "Region",
          "yref": "y"
         },
         {
          "font": {
           "color": "#000000"
          },
          "showarrow": false,
          "text": "-0.05",
          "x": "Views",
          "xref": "x",
          "y": "Region",
          "yref": "y"
         },
         {
          "font": {
           "color": "#000000"
          },
          "showarrow": false,
          "text": "-0.1",
          "x": "Likes",
          "xref": "x",
          "y": "Region",
          "yref": "y"
         },
         {
          "font": {
           "color": "#000000"
          },
          "showarrow": false,
          "text": "-0.03",
          "x": "Comments",
          "xref": "x",
          "y": "Region",
          "yref": "y"
         },
         {
          "font": {
           "color": "#000000"
          },
          "showarrow": false,
          "text": "-0.04",
          "x": "Subscribers",
          "xref": "x",
          "y": "Region",
          "yref": "y"
         },
         {
          "font": {
           "color": "#000000"
          },
          "showarrow": false,
          "text": "-0.03",
          "x": "Channel Views",
          "xref": "x",
          "y": "Region",
          "yref": "y"
         },
         {
          "font": {
           "color": "#000000"
          },
          "showarrow": false,
          "text": "0.49",
          "x": "Country",
          "xref": "x",
          "y": "Region",
          "yref": "y"
         },
         {
          "font": {
           "color": "#000000"
          },
          "showarrow": false,
          "text": "1.0",
          "x": "Region",
          "xref": "x",
          "y": "Region",
          "yref": "y"
         },
         {
          "font": {
           "color": "#000000"
          },
          "showarrow": false,
          "text": "-0.01",
          "x": "CategoryID",
          "xref": "x",
          "y": "Region",
          "yref": "y"
         },
         {
          "font": {
           "color": "#000000"
          },
          "showarrow": false,
          "text": "0.01",
          "x": "CategoryName",
          "xref": "x",
          "y": "Region",
          "yref": "y"
         },
         {
          "font": {
           "color": "#000000"
          },
          "showarrow": false,
          "text": "-0.06",
          "x": "Cluster",
          "xref": "x",
          "y": "Region",
          "yref": "y"
         },
         {
          "font": {
           "color": "#000000"
          },
          "showarrow": false,
          "text": "-0.02",
          "x": "CategoryID_enc",
          "xref": "x",
          "y": "Region",
          "yref": "y"
         },
         {
          "font": {
           "color": "#000000"
          },
          "showarrow": false,
          "text": "0.49",
          "x": "Country_enc",
          "xref": "x",
          "y": "Region",
          "yref": "y"
         },
         {
          "font": {
           "color": "#000000"
          },
          "showarrow": false,
          "text": "0.28",
          "x": "VideoCluster",
          "xref": "x",
          "y": "Region",
          "yref": "y"
         },
         {
          "font": {
           "color": "#000000"
          },
          "showarrow": false,
          "text": "-0.02",
          "x": "Channel_Cluster",
          "xref": "x",
          "y": "Region",
          "yref": "y"
         },
         {
          "font": {
           "color": "#000000"
          },
          "showarrow": false,
          "text": "-0.06",
          "x": "Video_Cluster",
          "xref": "x",
          "y": "Region",
          "yref": "y"
         },
         {
          "font": {
           "color": "#000000"
          },
          "showarrow": false,
          "text": "0.05",
          "x": "Country_Cluster_x",
          "xref": "x",
          "y": "Region",
          "yref": "y"
         },
         {
          "font": {
           "color": "#000000"
          },
          "showarrow": false,
          "text": "0.0",
          "x": "Category_Cluster_x",
          "xref": "x",
          "y": "Region",
          "yref": "y"
         },
         {
          "font": {
           "color": "#000000"
          },
          "showarrow": false,
          "text": "0.05",
          "x": "Country_Cluster_y",
          "xref": "x",
          "y": "Region",
          "yref": "y"
         },
         {
          "font": {
           "color": "#000000"
          },
          "showarrow": false,
          "text": "0.0",
          "x": "Category_Cluster_y",
          "xref": "x",
          "y": "Region",
          "yref": "y"
         },
         {
          "font": {
           "color": "#000000"
          },
          "showarrow": false,
          "text": "nan",
          "x": "Year",
          "xref": "x",
          "y": "Region",
          "yref": "y"
         },
         {
          "font": {
           "color": "#000000"
          },
          "showarrow": false,
          "text": "-0.01",
          "x": "Month",
          "xref": "x",
          "y": "Region",
          "yref": "y"
         },
         {
          "font": {
           "color": "#000000"
          },
          "showarrow": false,
          "text": "-0.01",
          "x": "Day",
          "xref": "x",
          "y": "Region",
          "yref": "y"
         },
         {
          "font": {
           "color": "#000000"
          },
          "showarrow": false,
          "text": "-0.01",
          "x": "DayOfWeek",
          "xref": "x",
          "y": "Region",
          "yref": "y"
         },
         {
          "font": {
           "color": "#000000"
          },
          "showarrow": false,
          "text": "0.0",
          "x": "DayName",
          "xref": "x",
          "y": "Region",
          "yref": "y"
         },
         {
          "font": {
           "color": "#000000"
          },
          "showarrow": false,
          "text": "0.01",
          "x": "Views_per_Sub",
          "xref": "x",
          "y": "Region",
          "yref": "y"
         },
         {
          "font": {
           "color": "#000000"
          },
          "showarrow": false,
          "text": "-0.11",
          "x": "Engagement",
          "xref": "x",
          "y": "Region",
          "yref": "y"
         },
         {
          "font": {
           "color": "#000000"
          },
          "showarrow": false,
          "text": "0.0",
          "x": "Like_per_Sub",
          "xref": "x",
          "y": "Region",
          "yref": "y"
         },
         {
          "font": {
           "color": "#000000"
          },
          "showarrow": false,
          "text": "-0.0",
          "x": "Comment_per_Sub",
          "xref": "x",
          "y": "Region",
          "yref": "y"
         },
         {
          "font": {
           "color": "#000000"
          },
          "showarrow": false,
          "text": "-0.02",
          "x": "Published_ts",
          "xref": "x",
          "y": "Region",
          "yref": "y"
         },
         {
          "font": {
           "color": "#000000"
          },
          "showarrow": false,
          "text": "0.0",
          "x": "Unnamed: 0",
          "xref": "x",
          "y": "CategoryID",
          "yref": "y"
         },
         {
          "font": {
           "color": "#000000"
          },
          "showarrow": false,
          "text": "0.01",
          "x": "Video ID",
          "xref": "x",
          "y": "CategoryID",
          "yref": "y"
         },
         {
          "font": {
           "color": "#000000"
          },
          "showarrow": false,
          "text": "0.02",
          "x": "Video Title",
          "xref": "x",
          "y": "CategoryID",
          "yref": "y"
         },
         {
          "font": {
           "color": "#000000"
          },
          "showarrow": false,
          "text": "0.01",
          "x": "Channel",
          "xref": "x",
          "y": "CategoryID",
          "yref": "y"
         },
         {
          "font": {
           "color": "#000000"
          },
          "showarrow": false,
          "text": "0.15",
          "x": "Published Date",
          "xref": "x",
          "y": "CategoryID",
          "yref": "y"
         },
         {
          "font": {
           "color": "#000000"
          },
          "showarrow": false,
          "text": "-0.04",
          "x": "Views",
          "xref": "x",
          "y": "CategoryID",
          "yref": "y"
         },
         {
          "font": {
           "color": "#000000"
          },
          "showarrow": false,
          "text": "-0.05",
          "x": "Likes",
          "xref": "x",
          "y": "CategoryID",
          "yref": "y"
         },
         {
          "font": {
           "color": "#000000"
          },
          "showarrow": false,
          "text": "0.0",
          "x": "Comments",
          "xref": "x",
          "y": "CategoryID",
          "yref": "y"
         },
         {
          "font": {
           "color": "#000000"
          },
          "showarrow": false,
          "text": "-0.01",
          "x": "Subscribers",
          "xref": "x",
          "y": "CategoryID",
          "yref": "y"
         },
         {
          "font": {
           "color": "#000000"
          },
          "showarrow": false,
          "text": "-0.02",
          "x": "Channel Views",
          "xref": "x",
          "y": "CategoryID",
          "yref": "y"
         },
         {
          "font": {
           "color": "#000000"
          },
          "showarrow": false,
          "text": "-0.04",
          "x": "Country",
          "xref": "x",
          "y": "CategoryID",
          "yref": "y"
         },
         {
          "font": {
           "color": "#000000"
          },
          "showarrow": false,
          "text": "-0.01",
          "x": "Region",
          "xref": "x",
          "y": "CategoryID",
          "yref": "y"
         },
         {
          "font": {
           "color": "#000000"
          },
          "showarrow": false,
          "text": "1.0",
          "x": "CategoryID",
          "xref": "x",
          "y": "CategoryID",
          "yref": "y"
         },
         {
          "font": {
           "color": "#000000"
          },
          "showarrow": false,
          "text": "-0.47",
          "x": "CategoryName",
          "xref": "x",
          "y": "CategoryID",
          "yref": "y"
         },
         {
          "font": {
           "color": "#000000"
          },
          "showarrow": false,
          "text": "-0.01",
          "x": "Cluster",
          "xref": "x",
          "y": "CategoryID",
          "yref": "y"
         },
         {
          "font": {
           "color": "#000000"
          },
          "showarrow": false,
          "text": "0.43",
          "x": "CategoryID_enc",
          "xref": "x",
          "y": "CategoryID",
          "yref": "y"
         },
         {
          "font": {
           "color": "#000000"
          },
          "showarrow": false,
          "text": "-0.04",
          "x": "Country_enc",
          "xref": "x",
          "y": "CategoryID",
          "yref": "y"
         },
         {
          "font": {
           "color": "#000000"
          },
          "showarrow": false,
          "text": "-0.21",
          "x": "VideoCluster",
          "xref": "x",
          "y": "CategoryID",
          "yref": "y"
         },
         {
          "font": {
           "color": "#000000"
          },
          "showarrow": false,
          "text": "0.01",
          "x": "Channel_Cluster",
          "xref": "x",
          "y": "CategoryID",
          "yref": "y"
         },
         {
          "font": {
           "color": "#000000"
          },
          "showarrow": false,
          "text": "-0.04",
          "x": "Video_Cluster",
          "xref": "x",
          "y": "CategoryID",
          "yref": "y"
         },
         {
          "font": {
           "color": "#000000"
          },
          "showarrow": false,
          "text": "0.03",
          "x": "Country_Cluster_x",
          "xref": "x",
          "y": "CategoryID",
          "yref": "y"
         },
         {
          "font": {
           "color": "#000000"
          },
          "showarrow": false,
          "text": "-0.02",
          "x": "Category_Cluster_x",
          "xref": "x",
          "y": "CategoryID",
          "yref": "y"
         },
         {
          "font": {
           "color": "#000000"
          },
          "showarrow": false,
          "text": "0.03",
          "x": "Country_Cluster_y",
          "xref": "x",
          "y": "CategoryID",
          "yref": "y"
         },
         {
          "font": {
           "color": "#000000"
          },
          "showarrow": false,
          "text": "-0.02",
          "x": "Category_Cluster_y",
          "xref": "x",
          "y": "CategoryID",
          "yref": "y"
         },
         {
          "font": {
           "color": "#000000"
          },
          "showarrow": false,
          "text": "nan",
          "x": "Year",
          "xref": "x",
          "y": "CategoryID",
          "yref": "y"
         },
         {
          "font": {
           "color": "#000000"
          },
          "showarrow": false,
          "text": "0.05",
          "x": "Month",
          "xref": "x",
          "y": "CategoryID",
          "yref": "y"
         },
         {
          "font": {
           "color": "#000000"
          },
          "showarrow": false,
          "text": "0.13",
          "x": "Day",
          "xref": "x",
          "y": "CategoryID",
          "yref": "y"
         },
         {
          "font": {
           "color": "#000000"
          },
          "showarrow": false,
          "text": "0.03",
          "x": "DayOfWeek",
          "xref": "x",
          "y": "CategoryID",
          "yref": "y"
         },
         {
          "font": {
           "color": "#000000"
          },
          "showarrow": false,
          "text": "-0.02",
          "x": "DayName",
          "xref": "x",
          "y": "CategoryID",
          "yref": "y"
         },
         {
          "font": {
           "color": "#000000"
          },
          "showarrow": false,
          "text": "-0.03",
          "x": "Views_per_Sub",
          "xref": "x",
          "y": "CategoryID",
          "yref": "y"
         },
         {
          "font": {
           "color": "#000000"
          },
          "showarrow": false,
          "text": "0.1",
          "x": "Engagement",
          "xref": "x",
          "y": "CategoryID",
          "yref": "y"
         },
         {
          "font": {
           "color": "#000000"
          },
          "showarrow": false,
          "text": "-0.03",
          "x": "Like_per_Sub",
          "xref": "x",
          "y": "CategoryID",
          "yref": "y"
         },
         {
          "font": {
           "color": "#000000"
          },
          "showarrow": false,
          "text": "-0.01",
          "x": "Comment_per_Sub",
          "xref": "x",
          "y": "CategoryID",
          "yref": "y"
         },
         {
          "font": {
           "color": "#000000"
          },
          "showarrow": false,
          "text": "0.15",
          "x": "Published_ts",
          "xref": "x",
          "y": "CategoryID",
          "yref": "y"
         },
         {
          "font": {
           "color": "#000000"
          },
          "showarrow": false,
          "text": "-0.01",
          "x": "Unnamed: 0",
          "xref": "x",
          "y": "CategoryName",
          "yref": "y"
         },
         {
          "font": {
           "color": "#000000"
          },
          "showarrow": false,
          "text": "-0.01",
          "x": "Video ID",
          "xref": "x",
          "y": "CategoryName",
          "yref": "y"
         },
         {
          "font": {
           "color": "#000000"
          },
          "showarrow": false,
          "text": "-0.01",
          "x": "Video Title",
          "xref": "x",
          "y": "CategoryName",
          "yref": "y"
         },
         {
          "font": {
           "color": "#000000"
          },
          "showarrow": false,
          "text": "0.02",
          "x": "Channel",
          "xref": "x",
          "y": "CategoryName",
          "yref": "y"
         },
         {
          "font": {
           "color": "#000000"
          },
          "showarrow": false,
          "text": "-0.21",
          "x": "Published Date",
          "xref": "x",
          "y": "CategoryName",
          "yref": "y"
         },
         {
          "font": {
           "color": "#000000"
          },
          "showarrow": false,
          "text": "0.14",
          "x": "Views",
          "xref": "x",
          "y": "CategoryName",
          "yref": "y"
         },
         {
          "font": {
           "color": "#000000"
          },
          "showarrow": false,
          "text": "0.14",
          "x": "Likes",
          "xref": "x",
          "y": "CategoryName",
          "yref": "y"
         },
         {
          "font": {
           "color": "#000000"
          },
          "showarrow": false,
          "text": "-0.0",
          "x": "Comments",
          "xref": "x",
          "y": "CategoryName",
          "yref": "y"
         },
         {
          "font": {
           "color": "#000000"
          },
          "showarrow": false,
          "text": "0.0",
          "x": "Subscribers",
          "xref": "x",
          "y": "CategoryName",
          "yref": "y"
         },
         {
          "font": {
           "color": "#000000"
          },
          "showarrow": false,
          "text": "0.03",
          "x": "Channel Views",
          "xref": "x",
          "y": "CategoryName",
          "yref": "y"
         },
         {
          "font": {
           "color": "#000000"
          },
          "showarrow": false,
          "text": "0.05",
          "x": "Country",
          "xref": "x",
          "y": "CategoryName",
          "yref": "y"
         },
         {
          "font": {
           "color": "#000000"
          },
          "showarrow": false,
          "text": "0.01",
          "x": "Region",
          "xref": "x",
          "y": "CategoryName",
          "yref": "y"
         },
         {
          "font": {
           "color": "#000000"
          },
          "showarrow": false,
          "text": "-0.47",
          "x": "CategoryID",
          "xref": "x",
          "y": "CategoryName",
          "yref": "y"
         },
         {
          "font": {
           "color": "#000000"
          },
          "showarrow": false,
          "text": "1.0",
          "x": "CategoryName",
          "xref": "x",
          "y": "CategoryName",
          "yref": "y"
         },
         {
          "font": {
           "color": "#000000"
          },
          "showarrow": false,
          "text": "0.06",
          "x": "Cluster",
          "xref": "x",
          "y": "CategoryName",
          "yref": "y"
         },
         {
          "font": {
           "color": "#000000"
          },
          "showarrow": false,
          "text": "-0.09",
          "x": "CategoryID_enc",
          "xref": "x",
          "y": "CategoryName",
          "yref": "y"
         },
         {
          "font": {
           "color": "#000000"
          },
          "showarrow": false,
          "text": "0.05",
          "x": "Country_enc",
          "xref": "x",
          "y": "CategoryName",
          "yref": "y"
         },
         {
          "font": {
           "color": "#000000"
          },
          "showarrow": false,
          "text": "0.19",
          "x": "VideoCluster",
          "xref": "x",
          "y": "CategoryName",
          "yref": "y"
         },
         {
          "font": {
           "color": "#000000"
          },
          "showarrow": false,
          "text": "0.01",
          "x": "Channel_Cluster",
          "xref": "x",
          "y": "CategoryName",
          "yref": "y"
         },
         {
          "font": {
           "color": "#000000"
          },
          "showarrow": false,
          "text": "0.17",
          "x": "Video_Cluster",
          "xref": "x",
          "y": "CategoryName",
          "yref": "y"
         },
         {
          "font": {
           "color": "#000000"
          },
          "showarrow": false,
          "text": "-0.05",
          "x": "Country_Cluster_x",
          "xref": "x",
          "y": "CategoryName",
          "yref": "y"
         },
         {
          "font": {
           "color": "#000000"
          },
          "showarrow": false,
          "text": "-0.13",
          "x": "Category_Cluster_x",
          "xref": "x",
          "y": "CategoryName",
          "yref": "y"
         },
         {
          "font": {
           "color": "#000000"
          },
          "showarrow": false,
          "text": "-0.05",
          "x": "Country_Cluster_y",
          "xref": "x",
          "y": "CategoryName",
          "yref": "y"
         },
         {
          "font": {
           "color": "#000000"
          },
          "showarrow": false,
          "text": "-0.13",
          "x": "Category_Cluster_y",
          "xref": "x",
          "y": "CategoryName",
          "yref": "y"
         },
         {
          "font": {
           "color": "#000000"
          },
          "showarrow": false,
          "text": "nan",
          "x": "Year",
          "xref": "x",
          "y": "CategoryName",
          "yref": "y"
         },
         {
          "font": {
           "color": "#000000"
          },
          "showarrow": false,
          "text": "-0.04",
          "x": "Month",
          "xref": "x",
          "y": "CategoryName",
          "yref": "y"
         },
         {
          "font": {
           "color": "#000000"
          },
          "showarrow": false,
          "text": "-0.22",
          "x": "Day",
          "xref": "x",
          "y": "CategoryName",
          "yref": "y"
         },
         {
          "font": {
           "color": "#000000"
          },
          "showarrow": false,
          "text": "-0.16",
          "x": "DayOfWeek",
          "xref": "x",
          "y": "CategoryName",
          "yref": "y"
         },
         {
          "font": {
           "color": "#000000"
          },
          "showarrow": false,
          "text": "0.06",
          "x": "DayName",
          "xref": "x",
          "y": "CategoryName",
          "yref": "y"
         },
         {
          "font": {
           "color": "#000000"
          },
          "showarrow": false,
          "text": "0.04",
          "x": "Views_per_Sub",
          "xref": "x",
          "y": "CategoryName",
          "yref": "y"
         },
         {
          "font": {
           "color": "#000000"
          },
          "showarrow": false,
          "text": "-0.29",
          "x": "Engagement",
          "xref": "x",
          "y": "CategoryName",
          "yref": "y"
         },
         {
          "font": {
           "color": "#000000"
          },
          "showarrow": false,
          "text": "0.02",
          "x": "Like_per_Sub",
          "xref": "x",
          "y": "CategoryName",
          "yref": "y"
         },
         {
          "font": {
           "color": "#000000"
          },
          "showarrow": false,
          "text": "0.01",
          "x": "Comment_per_Sub",
          "xref": "x",
          "y": "CategoryName",
          "yref": "y"
         },
         {
          "font": {
           "color": "#000000"
          },
          "showarrow": false,
          "text": "-0.21",
          "x": "Published_ts",
          "xref": "x",
          "y": "CategoryName",
          "yref": "y"
         },
         {
          "font": {
           "color": "#000000"
          },
          "showarrow": false,
          "text": "-0.01",
          "x": "Unnamed: 0",
          "xref": "x",
          "y": "Cluster",
          "yref": "y"
         },
         {
          "font": {
           "color": "#000000"
          },
          "showarrow": false,
          "text": "-0.01",
          "x": "Video ID",
          "xref": "x",
          "y": "Cluster",
          "yref": "y"
         },
         {
          "font": {
           "color": "#000000"
          },
          "showarrow": false,
          "text": "-0.04",
          "x": "Video Title",
          "xref": "x",
          "y": "Cluster",
          "yref": "y"
         },
         {
          "font": {
           "color": "#000000"
          },
          "showarrow": false,
          "text": "-0.0",
          "x": "Channel",
          "xref": "x",
          "y": "Cluster",
          "yref": "y"
         },
         {
          "font": {
           "color": "#000000"
          },
          "showarrow": false,
          "text": "-0.14",
          "x": "Published Date",
          "xref": "x",
          "y": "Cluster",
          "yref": "y"
         },
         {
          "font": {
           "color": "#000000"
          },
          "showarrow": false,
          "text": "0.74",
          "x": "Views",
          "xref": "x",
          "y": "Cluster",
          "yref": "y"
         },
         {
          "font": {
           "color": "#000000"
          },
          "showarrow": false,
          "text": "0.74",
          "x": "Likes",
          "xref": "x",
          "y": "Cluster",
          "yref": "y"
         },
         {
          "font": {
           "color": "#000000"
          },
          "showarrow": false,
          "text": "0.21",
          "x": "Comments",
          "xref": "x",
          "y": "Cluster",
          "yref": "y"
         },
         {
          "font": {
           "color": "#000000"
          },
          "showarrow": false,
          "text": "0.16",
          "x": "Subscribers",
          "xref": "x",
          "y": "Cluster",
          "yref": "y"
         },
         {
          "font": {
           "color": "#000000"
          },
          "showarrow": false,
          "text": "0.16",
          "x": "Channel Views",
          "xref": "x",
          "y": "Cluster",
          "yref": "y"
         },
         {
          "font": {
           "color": "#000000"
          },
          "showarrow": false,
          "text": "0.02",
          "x": "Country",
          "xref": "x",
          "y": "Cluster",
          "yref": "y"
         },
         {
          "font": {
           "color": "#000000"
          },
          "showarrow": false,
          "text": "-0.06",
          "x": "Region",
          "xref": "x",
          "y": "Cluster",
          "yref": "y"
         },
         {
          "font": {
           "color": "#000000"
          },
          "showarrow": false,
          "text": "-0.01",
          "x": "CategoryID",
          "xref": "x",
          "y": "Cluster",
          "yref": "y"
         },
         {
          "font": {
           "color": "#000000"
          },
          "showarrow": false,
          "text": "0.06",
          "x": "CategoryName",
          "xref": "x",
          "y": "Cluster",
          "yref": "y"
         },
         {
          "font": {
           "color": "#000000"
          },
          "showarrow": false,
          "text": "1.0",
          "x": "Cluster",
          "xref": "x",
          "y": "Cluster",
          "yref": "y"
         },
         {
          "font": {
           "color": "#000000"
          },
          "showarrow": false,
          "text": "-0.07",
          "x": "CategoryID_enc",
          "xref": "x",
          "y": "Cluster",
          "yref": "y"
         },
         {
          "font": {
           "color": "#000000"
          },
          "showarrow": false,
          "text": "0.02",
          "x": "Country_enc",
          "xref": "x",
          "y": "Cluster",
          "yref": "y"
         },
         {
          "font": {
           "color": "#000000"
          },
          "showarrow": false,
          "text": "0.38",
          "x": "VideoCluster",
          "xref": "x",
          "y": "Cluster",
          "yref": "y"
         },
         {
          "font": {
           "color": "#000000"
          },
          "showarrow": false,
          "text": "0.18",
          "x": "Channel_Cluster",
          "xref": "x",
          "y": "Cluster",
          "yref": "y"
         },
         {
          "font": {
           "color": "#000000"
          },
          "showarrow": false,
          "text": "0.31",
          "x": "Video_Cluster",
          "xref": "x",
          "y": "Cluster",
          "yref": "y"
         },
         {
          "font": {
           "color": "#000000"
          },
          "showarrow": false,
          "text": "-0.13",
          "x": "Country_Cluster_x",
          "xref": "x",
          "y": "Cluster",
          "yref": "y"
         },
         {
          "font": {
           "color": "#000000"
          },
          "showarrow": false,
          "text": "-0.0",
          "x": "Category_Cluster_x",
          "xref": "x",
          "y": "Cluster",
          "yref": "y"
         },
         {
          "font": {
           "color": "#000000"
          },
          "showarrow": false,
          "text": "-0.13",
          "x": "Country_Cluster_y",
          "xref": "x",
          "y": "Cluster",
          "yref": "y"
         },
         {
          "font": {
           "color": "#000000"
          },
          "showarrow": false,
          "text": "-0.0",
          "x": "Category_Cluster_y",
          "xref": "x",
          "y": "Cluster",
          "yref": "y"
         },
         {
          "font": {
           "color": "#000000"
          },
          "showarrow": false,
          "text": "nan",
          "x": "Year",
          "xref": "x",
          "y": "Cluster",
          "yref": "y"
         },
         {
          "font": {
           "color": "#000000"
          },
          "showarrow": false,
          "text": "-0.07",
          "x": "Month",
          "xref": "x",
          "y": "Cluster",
          "yref": "y"
         },
         {
          "font": {
           "color": "#000000"
          },
          "showarrow": false,
          "text": "-0.1",
          "x": "Day",
          "xref": "x",
          "y": "Cluster",
          "yref": "y"
         },
         {
          "font": {
           "color": "#000000"
          },
          "showarrow": false,
          "text": "-0.07",
          "x": "DayOfWeek",
          "xref": "x",
          "y": "Cluster",
          "yref": "y"
         },
         {
          "font": {
           "color": "#000000"
          },
          "showarrow": false,
          "text": "0.01",
          "x": "DayName",
          "xref": "x",
          "y": "Cluster",
          "yref": "y"
         },
         {
          "font": {
           "color": "#000000"
          },
          "showarrow": false,
          "text": "0.04",
          "x": "Views_per_Sub",
          "xref": "x",
          "y": "Cluster",
          "yref": "y"
         },
         {
          "font": {
           "color": "#000000"
          },
          "showarrow": false,
          "text": "0.01",
          "x": "Engagement",
          "xref": "x",
          "y": "Cluster",
          "yref": "y"
         },
         {
          "font": {
           "color": "#000000"
          },
          "showarrow": false,
          "text": "0.02",
          "x": "Like_per_Sub",
          "xref": "x",
          "y": "Cluster",
          "yref": "y"
         },
         {
          "font": {
           "color": "#000000"
          },
          "showarrow": false,
          "text": "-0.0",
          "x": "Comment_per_Sub",
          "xref": "x",
          "y": "Cluster",
          "yref": "y"
         },
         {
          "font": {
           "color": "#000000"
          },
          "showarrow": false,
          "text": "-0.14",
          "x": "Published_ts",
          "xref": "x",
          "y": "Cluster",
          "yref": "y"
         },
         {
          "font": {
           "color": "#000000"
          },
          "showarrow": false,
          "text": "-0.01",
          "x": "Unnamed: 0",
          "xref": "x",
          "y": "CategoryID_enc",
          "yref": "y"
         },
         {
          "font": {
           "color": "#000000"
          },
          "showarrow": false,
          "text": "0.01",
          "x": "Video ID",
          "xref": "x",
          "y": "CategoryID_enc",
          "yref": "y"
         },
         {
          "font": {
           "color": "#000000"
          },
          "showarrow": false,
          "text": "0.01",
          "x": "Video Title",
          "xref": "x",
          "y": "CategoryID_enc",
          "yref": "y"
         },
         {
          "font": {
           "color": "#000000"
          },
          "showarrow": false,
          "text": "-0.03",
          "x": "Channel",
          "xref": "x",
          "y": "CategoryID_enc",
          "yref": "y"
         },
         {
          "font": {
           "color": "#000000"
          },
          "showarrow": false,
          "text": "-0.05",
          "x": "Published Date",
          "xref": "x",
          "y": "CategoryID_enc",
          "yref": "y"
         },
         {
          "font": {
           "color": "#000000"
          },
          "showarrow": false,
          "text": "-0.12",
          "x": "Views",
          "xref": "x",
          "y": "CategoryID_enc",
          "yref": "y"
         },
         {
          "font": {
           "color": "#000000"
          },
          "showarrow": false,
          "text": "-0.1",
          "x": "Likes",
          "xref": "x",
          "y": "CategoryID_enc",
          "yref": "y"
         },
         {
          "font": {
           "color": "#000000"
          },
          "showarrow": false,
          "text": "0.0",
          "x": "Comments",
          "xref": "x",
          "y": "CategoryID_enc",
          "yref": "y"
         },
         {
          "font": {
           "color": "#000000"
          },
          "showarrow": false,
          "text": "0.0",
          "x": "Subscribers",
          "xref": "x",
          "y": "CategoryID_enc",
          "yref": "y"
         },
         {
          "font": {
           "color": "#000000"
          },
          "showarrow": false,
          "text": "-0.0",
          "x": "Channel Views",
          "xref": "x",
          "y": "CategoryID_enc",
          "yref": "y"
         },
         {
          "font": {
           "color": "#000000"
          },
          "showarrow": false,
          "text": "-0.06",
          "x": "Country",
          "xref": "x",
          "y": "CategoryID_enc",
          "yref": "y"
         },
         {
          "font": {
           "color": "#000000"
          },
          "showarrow": false,
          "text": "-0.02",
          "x": "Region",
          "xref": "x",
          "y": "CategoryID_enc",
          "yref": "y"
         },
         {
          "font": {
           "color": "#000000"
          },
          "showarrow": false,
          "text": "0.43",
          "x": "CategoryID",
          "xref": "x",
          "y": "CategoryID_enc",
          "yref": "y"
         },
         {
          "font": {
           "color": "#000000"
          },
          "showarrow": false,
          "text": "-0.09",
          "x": "CategoryName",
          "xref": "x",
          "y": "CategoryID_enc",
          "yref": "y"
         },
         {
          "font": {
           "color": "#000000"
          },
          "showarrow": false,
          "text": "-0.07",
          "x": "Cluster",
          "xref": "x",
          "y": "CategoryID_enc",
          "yref": "y"
         },
         {
          "font": {
           "color": "#000000"
          },
          "showarrow": false,
          "text": "1.0",
          "x": "CategoryID_enc",
          "xref": "x",
          "y": "CategoryID_enc",
          "yref": "y"
         },
         {
          "font": {
           "color": "#000000"
          },
          "showarrow": false,
          "text": "-0.06",
          "x": "Country_enc",
          "xref": "x",
          "y": "CategoryID_enc",
          "yref": "y"
         },
         {
          "font": {
           "color": "#000000"
          },
          "showarrow": false,
          "text": "-0.43",
          "x": "VideoCluster",
          "xref": "x",
          "y": "CategoryID_enc",
          "yref": "y"
         },
         {
          "font": {
           "color": "#000000"
          },
          "showarrow": false,
          "text": "-0.01",
          "x": "Channel_Cluster",
          "xref": "x",
          "y": "CategoryID_enc",
          "yref": "y"
         },
         {
          "font": {
           "color": "#000000"
          },
          "showarrow": false,
          "text": "-0.13",
          "x": "Video_Cluster",
          "xref": "x",
          "y": "CategoryID_enc",
          "yref": "y"
         },
         {
          "font": {
           "color": "#000000"
          },
          "showarrow": false,
          "text": "0.04",
          "x": "Country_Cluster_x",
          "xref": "x",
          "y": "CategoryID_enc",
          "yref": "y"
         },
         {
          "font": {
           "color": "#000000"
          },
          "showarrow": false,
          "text": "-0.35",
          "x": "Category_Cluster_x",
          "xref": "x",
          "y": "CategoryID_enc",
          "yref": "y"
         },
         {
          "font": {
           "color": "#000000"
          },
          "showarrow": false,
          "text": "0.04",
          "x": "Country_Cluster_y",
          "xref": "x",
          "y": "CategoryID_enc",
          "yref": "y"
         },
         {
          "font": {
           "color": "#000000"
          },
          "showarrow": false,
          "text": "-0.35",
          "x": "Category_Cluster_y",
          "xref": "x",
          "y": "CategoryID_enc",
          "yref": "y"
         },
         {
          "font": {
           "color": "#000000"
          },
          "showarrow": false,
          "text": "nan",
          "x": "Year",
          "xref": "x",
          "y": "CategoryID_enc",
          "yref": "y"
         },
         {
          "font": {
           "color": "#000000"
          },
          "showarrow": false,
          "text": "-0.05",
          "x": "Month",
          "xref": "x",
          "y": "CategoryID_enc",
          "yref": "y"
         },
         {
          "font": {
           "color": "#000000"
          },
          "showarrow": false,
          "text": "-0.01",
          "x": "Day",
          "xref": "x",
          "y": "CategoryID_enc",
          "yref": "y"
         },
         {
          "font": {
           "color": "#000000"
          },
          "showarrow": false,
          "text": "-0.0",
          "x": "DayOfWeek",
          "xref": "x",
          "y": "CategoryID_enc",
          "yref": "y"
         },
         {
          "font": {
           "color": "#000000"
          },
          "showarrow": false,
          "text": "-0.02",
          "x": "DayName",
          "xref": "x",
          "y": "CategoryID_enc",
          "yref": "y"
         },
         {
          "font": {
           "color": "#000000"
          },
          "showarrow": false,
          "text": "0.0",
          "x": "Views_per_Sub",
          "xref": "x",
          "y": "CategoryID_enc",
          "yref": "y"
         },
         {
          "font": {
           "color": "#000000"
          },
          "showarrow": false,
          "text": "0.09",
          "x": "Engagement",
          "xref": "x",
          "y": "CategoryID_enc",
          "yref": "y"
         },
         {
          "font": {
           "color": "#000000"
          },
          "showarrow": false,
          "text": "0.0",
          "x": "Like_per_Sub",
          "xref": "x",
          "y": "CategoryID_enc",
          "yref": "y"
         },
         {
          "font": {
           "color": "#000000"
          },
          "showarrow": false,
          "text": "0.0",
          "x": "Comment_per_Sub",
          "xref": "x",
          "y": "CategoryID_enc",
          "yref": "y"
         },
         {
          "font": {
           "color": "#000000"
          },
          "showarrow": false,
          "text": "-0.05",
          "x": "Published_ts",
          "xref": "x",
          "y": "CategoryID_enc",
          "yref": "y"
         },
         {
          "font": {
           "color": "#000000"
          },
          "showarrow": false,
          "text": "-0.02",
          "x": "Unnamed: 0",
          "xref": "x",
          "y": "Country_enc",
          "yref": "y"
         },
         {
          "font": {
           "color": "#000000"
          },
          "showarrow": false,
          "text": "0.01",
          "x": "Video ID",
          "xref": "x",
          "y": "Country_enc",
          "yref": "y"
         },
         {
          "font": {
           "color": "#000000"
          },
          "showarrow": false,
          "text": "0.02",
          "x": "Video Title",
          "xref": "x",
          "y": "Country_enc",
          "yref": "y"
         },
         {
          "font": {
           "color": "#000000"
          },
          "showarrow": false,
          "text": "0.01",
          "x": "Channel",
          "xref": "x",
          "y": "Country_enc",
          "yref": "y"
         },
         {
          "font": {
           "color": "#000000"
          },
          "showarrow": false,
          "text": "-0.04",
          "x": "Published Date",
          "xref": "x",
          "y": "Country_enc",
          "yref": "y"
         },
         {
          "font": {
           "color": "#000000"
          },
          "showarrow": false,
          "text": "0.03",
          "x": "Views",
          "xref": "x",
          "y": "Country_enc",
          "yref": "y"
         },
         {
          "font": {
           "color": "#000000"
          },
          "showarrow": false,
          "text": "0.03",
          "x": "Likes",
          "xref": "x",
          "y": "Country_enc",
          "yref": "y"
         },
         {
          "font": {
           "color": "#000000"
          },
          "showarrow": false,
          "text": "-0.01",
          "x": "Comments",
          "xref": "x",
          "y": "Country_enc",
          "yref": "y"
         },
         {
          "font": {
           "color": "#000000"
          },
          "showarrow": false,
          "text": "-0.03",
          "x": "Subscribers",
          "xref": "x",
          "y": "Country_enc",
          "yref": "y"
         },
         {
          "font": {
           "color": "#000000"
          },
          "showarrow": false,
          "text": "-0.02",
          "x": "Channel Views",
          "xref": "x",
          "y": "Country_enc",
          "yref": "y"
         },
         {
          "font": {
           "color": "#000000"
          },
          "showarrow": false,
          "text": "1.0",
          "x": "Country",
          "xref": "x",
          "y": "Country_enc",
          "yref": "y"
         },
         {
          "font": {
           "color": "#000000"
          },
          "showarrow": false,
          "text": "0.49",
          "x": "Region",
          "xref": "x",
          "y": "Country_enc",
          "yref": "y"
         },
         {
          "font": {
           "color": "#000000"
          },
          "showarrow": false,
          "text": "-0.04",
          "x": "CategoryID",
          "xref": "x",
          "y": "Country_enc",
          "yref": "y"
         },
         {
          "font": {
           "color": "#000000"
          },
          "showarrow": false,
          "text": "0.05",
          "x": "CategoryName",
          "xref": "x",
          "y": "Country_enc",
          "yref": "y"
         },
         {
          "font": {
           "color": "#000000"
          },
          "showarrow": false,
          "text": "0.02",
          "x": "Cluster",
          "xref": "x",
          "y": "Country_enc",
          "yref": "y"
         },
         {
          "font": {
           "color": "#000000"
          },
          "showarrow": false,
          "text": "-0.06",
          "x": "CategoryID_enc",
          "xref": "x",
          "y": "Country_enc",
          "yref": "y"
         },
         {
          "font": {
           "color": "#000000"
          },
          "showarrow": false,
          "text": "1.0",
          "x": "Country_enc",
          "xref": "x",
          "y": "Country_enc",
          "yref": "y"
         },
         {
          "font": {
           "color": "#000000"
          },
          "showarrow": false,
          "text": "0.63",
          "x": "VideoCluster",
          "xref": "x",
          "y": "Country_enc",
          "yref": "y"
         },
         {
          "font": {
           "color": "#000000"
          },
          "showarrow": false,
          "text": "-0.02",
          "x": "Channel_Cluster",
          "xref": "x",
          "y": "Country_enc",
          "yref": "y"
         },
         {
          "font": {
           "color": "#000000"
          },
          "showarrow": false,
          "text": "0.03",
          "x": "Video_Cluster",
          "xref": "x",
          "y": "Country_enc",
          "yref": "y"
         },
         {
          "font": {
           "color": "#000000"
          },
          "showarrow": false,
          "text": "0.05",
          "x": "Country_Cluster_x",
          "xref": "x",
          "y": "Country_enc",
          "yref": "y"
         },
         {
          "font": {
           "color": "#000000"
          },
          "showarrow": false,
          "text": "0.01",
          "x": "Category_Cluster_x",
          "xref": "x",
          "y": "Country_enc",
          "yref": "y"
         },
         {
          "font": {
           "color": "#000000"
          },
          "showarrow": false,
          "text": "0.05",
          "x": "Country_Cluster_y",
          "xref": "x",
          "y": "Country_enc",
          "yref": "y"
         },
         {
          "font": {
           "color": "#000000"
          },
          "showarrow": false,
          "text": "0.01",
          "x": "Category_Cluster_y",
          "xref": "x",
          "y": "Country_enc",
          "yref": "y"
         },
         {
          "font": {
           "color": "#000000"
          },
          "showarrow": false,
          "text": "nan",
          "x": "Year",
          "xref": "x",
          "y": "Country_enc",
          "yref": "y"
         },
         {
          "font": {
           "color": "#000000"
          },
          "showarrow": false,
          "text": "-0.01",
          "x": "Month",
          "xref": "x",
          "y": "Country_enc",
          "yref": "y"
         },
         {
          "font": {
           "color": "#000000"
          },
          "showarrow": false,
          "text": "-0.04",
          "x": "Day",
          "xref": "x",
          "y": "Country_enc",
          "yref": "y"
         },
         {
          "font": {
           "color": "#000000"
          },
          "showarrow": false,
          "text": "-0.02",
          "x": "DayOfWeek",
          "xref": "x",
          "y": "Country_enc",
          "yref": "y"
         },
         {
          "font": {
           "color": "#000000"
          },
          "showarrow": false,
          "text": "-0.01",
          "x": "DayName",
          "xref": "x",
          "y": "Country_enc",
          "yref": "y"
         },
         {
          "font": {
           "color": "#000000"
          },
          "showarrow": false,
          "text": "0.02",
          "x": "Views_per_Sub",
          "xref": "x",
          "y": "Country_enc",
          "yref": "y"
         },
         {
          "font": {
           "color": "#000000"
          },
          "showarrow": false,
          "text": "-0.1",
          "x": "Engagement",
          "xref": "x",
          "y": "Country_enc",
          "yref": "y"
         },
         {
          "font": {
           "color": "#000000"
          },
          "showarrow": false,
          "text": "0.01",
          "x": "Like_per_Sub",
          "xref": "x",
          "y": "Country_enc",
          "yref": "y"
         },
         {
          "font": {
           "color": "#000000"
          },
          "showarrow": false,
          "text": "0.01",
          "x": "Comment_per_Sub",
          "xref": "x",
          "y": "Country_enc",
          "yref": "y"
         },
         {
          "font": {
           "color": "#000000"
          },
          "showarrow": false,
          "text": "-0.04",
          "x": "Published_ts",
          "xref": "x",
          "y": "Country_enc",
          "yref": "y"
         },
         {
          "font": {
           "color": "#000000"
          },
          "showarrow": false,
          "text": "-0.02",
          "x": "Unnamed: 0",
          "xref": "x",
          "y": "VideoCluster",
          "yref": "y"
         },
         {
          "font": {
           "color": "#000000"
          },
          "showarrow": false,
          "text": "-0.01",
          "x": "Video ID",
          "xref": "x",
          "y": "VideoCluster",
          "yref": "y"
         },
         {
          "font": {
           "color": "#000000"
          },
          "showarrow": false,
          "text": "0.02",
          "x": "Video Title",
          "xref": "x",
          "y": "VideoCluster",
          "yref": "y"
         },
         {
          "font": {
           "color": "#000000"
          },
          "showarrow": false,
          "text": "0.02",
          "x": "Channel",
          "xref": "x",
          "y": "VideoCluster",
          "yref": "y"
         },
         {
          "font": {
           "color": "#000000"
          },
          "showarrow": false,
          "text": "-0.06",
          "x": "Published Date",
          "xref": "x",
          "y": "VideoCluster",
          "yref": "y"
         },
         {
          "font": {
           "color": "#000000"
          },
          "showarrow": false,
          "text": "0.41",
          "x": "Views",
          "xref": "x",
          "y": "VideoCluster",
          "yref": "y"
         },
         {
          "font": {
           "color": "#000000"
          },
          "showarrow": false,
          "text": "0.38",
          "x": "Likes",
          "xref": "x",
          "y": "VideoCluster",
          "yref": "y"
         },
         {
          "font": {
           "color": "#000000"
          },
          "showarrow": false,
          "text": "0.08",
          "x": "Comments",
          "xref": "x",
          "y": "VideoCluster",
          "yref": "y"
         },
         {
          "font": {
           "color": "#000000"
          },
          "showarrow": false,
          "text": "0.03",
          "x": "Subscribers",
          "xref": "x",
          "y": "VideoCluster",
          "yref": "y"
         },
         {
          "font": {
           "color": "#000000"
          },
          "showarrow": false,
          "text": "0.04",
          "x": "Channel Views",
          "xref": "x",
          "y": "VideoCluster",
          "yref": "y"
         },
         {
          "font": {
           "color": "#000000"
          },
          "showarrow": false,
          "text": "0.63",
          "x": "Country",
          "xref": "x",
          "y": "VideoCluster",
          "yref": "y"
         },
         {
          "font": {
           "color": "#000000"
          },
          "showarrow": false,
          "text": "0.28",
          "x": "Region",
          "xref": "x",
          "y": "VideoCluster",
          "yref": "y"
         },
         {
          "font": {
           "color": "#000000"
          },
          "showarrow": false,
          "text": "-0.21",
          "x": "CategoryID",
          "xref": "x",
          "y": "VideoCluster",
          "yref": "y"
         },
         {
          "font": {
           "color": "#000000"
          },
          "showarrow": false,
          "text": "0.19",
          "x": "CategoryName",
          "xref": "x",
          "y": "VideoCluster",
          "yref": "y"
         },
         {
          "font": {
           "color": "#000000"
          },
          "showarrow": false,
          "text": "0.38",
          "x": "Cluster",
          "xref": "x",
          "y": "VideoCluster",
          "yref": "y"
         },
         {
          "font": {
           "color": "#000000"
          },
          "showarrow": false,
          "text": "-0.43",
          "x": "CategoryID_enc",
          "xref": "x",
          "y": "VideoCluster",
          "yref": "y"
         },
         {
          "font": {
           "color": "#000000"
          },
          "showarrow": false,
          "text": "0.63",
          "x": "Country_enc",
          "xref": "x",
          "y": "VideoCluster",
          "yref": "y"
         },
         {
          "font": {
           "color": "#000000"
          },
          "showarrow": false,
          "text": "1.0",
          "x": "VideoCluster",
          "xref": "x",
          "y": "VideoCluster",
          "yref": "y"
         },
         {
          "font": {
           "color": "#000000"
          },
          "showarrow": false,
          "text": "0.07",
          "x": "Channel_Cluster",
          "xref": "x",
          "y": "VideoCluster",
          "yref": "y"
         },
         {
          "font": {
           "color": "#000000"
          },
          "showarrow": false,
          "text": "0.26",
          "x": "Video_Cluster",
          "xref": "x",
          "y": "VideoCluster",
          "yref": "y"
         },
         {
          "font": {
           "color": "#000000"
          },
          "showarrow": false,
          "text": "-0.09",
          "x": "Country_Cluster_x",
          "xref": "x",
          "y": "VideoCluster",
          "yref": "y"
         },
         {
          "font": {
           "color": "#000000"
          },
          "showarrow": false,
          "text": "0.1",
          "x": "Category_Cluster_x",
          "xref": "x",
          "y": "VideoCluster",
          "yref": "y"
         },
         {
          "font": {
           "color": "#000000"
          },
          "showarrow": false,
          "text": "-0.09",
          "x": "Country_Cluster_y",
          "xref": "x",
          "y": "VideoCluster",
          "yref": "y"
         },
         {
          "font": {
           "color": "#000000"
          },
          "showarrow": false,
          "text": "0.1",
          "x": "Category_Cluster_y",
          "xref": "x",
          "y": "VideoCluster",
          "yref": "y"
         },
         {
          "font": {
           "color": "#000000"
          },
          "showarrow": false,
          "text": "nan",
          "x": "Year",
          "xref": "x",
          "y": "VideoCluster",
          "yref": "y"
         },
         {
          "font": {
           "color": "#000000"
          },
          "showarrow": false,
          "text": "0.0",
          "x": "Month",
          "xref": "x",
          "y": "VideoCluster",
          "yref": "y"
         },
         {
          "font": {
           "color": "#000000"
          },
          "showarrow": false,
          "text": "-0.07",
          "x": "Day",
          "xref": "x",
          "y": "VideoCluster",
          "yref": "y"
         },
         {
          "font": {
           "color": "#000000"
          },
          "showarrow": false,
          "text": "-0.04",
          "x": "DayOfWeek",
          "xref": "x",
          "y": "VideoCluster",
          "yref": "y"
         },
         {
          "font": {
           "color": "#000000"
          },
          "showarrow": false,
          "text": "0.01",
          "x": "DayName",
          "xref": "x",
          "y": "VideoCluster",
          "yref": "y"
         },
         {
          "font": {
           "color": "#000000"
          },
          "showarrow": false,
          "text": "0.02",
          "x": "Views_per_Sub",
          "xref": "x",
          "y": "VideoCluster",
          "yref": "y"
         },
         {
          "font": {
           "color": "#000000"
          },
          "showarrow": false,
          "text": "-0.13",
          "x": "Engagement",
          "xref": "x",
          "y": "VideoCluster",
          "yref": "y"
         },
         {
          "font": {
           "color": "#000000"
          },
          "showarrow": false,
          "text": "0.01",
          "x": "Like_per_Sub",
          "xref": "x",
          "y": "VideoCluster",
          "yref": "y"
         },
         {
          "font": {
           "color": "#000000"
          },
          "showarrow": false,
          "text": "-0.0",
          "x": "Comment_per_Sub",
          "xref": "x",
          "y": "VideoCluster",
          "yref": "y"
         },
         {
          "font": {
           "color": "#000000"
          },
          "showarrow": false,
          "text": "-0.06",
          "x": "Published_ts",
          "xref": "x",
          "y": "VideoCluster",
          "yref": "y"
         },
         {
          "font": {
           "color": "#000000"
          },
          "showarrow": false,
          "text": "0.01",
          "x": "Unnamed: 0",
          "xref": "x",
          "y": "Channel_Cluster",
          "yref": "y"
         },
         {
          "font": {
           "color": "#000000"
          },
          "showarrow": false,
          "text": "0.0",
          "x": "Video ID",
          "xref": "x",
          "y": "Channel_Cluster",
          "yref": "y"
         },
         {
          "font": {
           "color": "#000000"
          },
          "showarrow": false,
          "text": "-0.0",
          "x": "Video Title",
          "xref": "x",
          "y": "Channel_Cluster",
          "yref": "y"
         },
         {
          "font": {
           "color": "#000000"
          },
          "showarrow": false,
          "text": "-0.02",
          "x": "Channel",
          "xref": "x",
          "y": "Channel_Cluster",
          "yref": "y"
         },
         {
          "font": {
           "color": "#000000"
          },
          "showarrow": false,
          "text": "-0.01",
          "x": "Published Date",
          "xref": "x",
          "y": "Channel_Cluster",
          "yref": "y"
         },
         {
          "font": {
           "color": "#000000"
          },
          "showarrow": false,
          "text": "0.21",
          "x": "Views",
          "xref": "x",
          "y": "Channel_Cluster",
          "yref": "y"
         },
         {
          "font": {
           "color": "#000000"
          },
          "showarrow": false,
          "text": "0.18",
          "x": "Likes",
          "xref": "x",
          "y": "Channel_Cluster",
          "yref": "y"
         },
         {
          "font": {
           "color": "#000000"
          },
          "showarrow": false,
          "text": "0.1",
          "x": "Comments",
          "xref": "x",
          "y": "Channel_Cluster",
          "yref": "y"
         },
         {
          "font": {
           "color": "#000000"
          },
          "showarrow": false,
          "text": "0.49",
          "x": "Subscribers",
          "xref": "x",
          "y": "Channel_Cluster",
          "yref": "y"
         },
         {
          "font": {
           "color": "#000000"
          },
          "showarrow": false,
          "text": "0.44",
          "x": "Channel Views",
          "xref": "x",
          "y": "Channel_Cluster",
          "yref": "y"
         },
         {
          "font": {
           "color": "#000000"
          },
          "showarrow": false,
          "text": "-0.02",
          "x": "Country",
          "xref": "x",
          "y": "Channel_Cluster",
          "yref": "y"
         },
         {
          "font": {
           "color": "#000000"
          },
          "showarrow": false,
          "text": "-0.02",
          "x": "Region",
          "xref": "x",
          "y": "Channel_Cluster",
          "yref": "y"
         },
         {
          "font": {
           "color": "#000000"
          },
          "showarrow": false,
          "text": "0.01",
          "x": "CategoryID",
          "xref": "x",
          "y": "Channel_Cluster",
          "yref": "y"
         },
         {
          "font": {
           "color": "#000000"
          },
          "showarrow": false,
          "text": "0.01",
          "x": "CategoryName",
          "xref": "x",
          "y": "Channel_Cluster",
          "yref": "y"
         },
         {
          "font": {
           "color": "#000000"
          },
          "showarrow": false,
          "text": "0.18",
          "x": "Cluster",
          "xref": "x",
          "y": "Channel_Cluster",
          "yref": "y"
         },
         {
          "font": {
           "color": "#000000"
          },
          "showarrow": false,
          "text": "-0.01",
          "x": "CategoryID_enc",
          "xref": "x",
          "y": "Channel_Cluster",
          "yref": "y"
         },
         {
          "font": {
           "color": "#000000"
          },
          "showarrow": false,
          "text": "-0.02",
          "x": "Country_enc",
          "xref": "x",
          "y": "Channel_Cluster",
          "yref": "y"
         },
         {
          "font": {
           "color": "#000000"
          },
          "showarrow": false,
          "text": "0.07",
          "x": "VideoCluster",
          "xref": "x",
          "y": "Channel_Cluster",
          "yref": "y"
         },
         {
          "font": {
           "color": "#000000"
          },
          "showarrow": false,
          "text": "1.0",
          "x": "Channel_Cluster",
          "xref": "x",
          "y": "Channel_Cluster",
          "yref": "y"
         },
         {
          "font": {
           "color": "#000000"
          },
          "showarrow": false,
          "text": "0.18",
          "x": "Video_Cluster",
          "xref": "x",
          "y": "Channel_Cluster",
          "yref": "y"
         },
         {
          "font": {
           "color": "#000000"
          },
          "showarrow": false,
          "text": "-0.14",
          "x": "Country_Cluster_x",
          "xref": "x",
          "y": "Channel_Cluster",
          "yref": "y"
         },
         {
          "font": {
           "color": "#000000"
          },
          "showarrow": false,
          "text": "0.03",
          "x": "Category_Cluster_x",
          "xref": "x",
          "y": "Channel_Cluster",
          "yref": "y"
         },
         {
          "font": {
           "color": "#000000"
          },
          "showarrow": false,
          "text": "-0.14",
          "x": "Country_Cluster_y",
          "xref": "x",
          "y": "Channel_Cluster",
          "yref": "y"
         },
         {
          "font": {
           "color": "#000000"
          },
          "showarrow": false,
          "text": "0.03",
          "x": "Category_Cluster_y",
          "xref": "x",
          "y": "Channel_Cluster",
          "yref": "y"
         },
         {
          "font": {
           "color": "#000000"
          },
          "showarrow": false,
          "text": "nan",
          "x": "Year",
          "xref": "x",
          "y": "Channel_Cluster",
          "yref": "y"
         },
         {
          "font": {
           "color": "#000000"
          },
          "showarrow": false,
          "text": "-0.01",
          "x": "Month",
          "xref": "x",
          "y": "Channel_Cluster",
          "yref": "y"
         },
         {
          "font": {
           "color": "#000000"
          },
          "showarrow": false,
          "text": "-0.01",
          "x": "Day",
          "xref": "x",
          "y": "Channel_Cluster",
          "yref": "y"
         },
         {
          "font": {
           "color": "#000000"
          },
          "showarrow": false,
          "text": "-0.01",
          "x": "DayOfWeek",
          "xref": "x",
          "y": "Channel_Cluster",
          "yref": "y"
         },
         {
          "font": {
           "color": "#000000"
          },
          "showarrow": false,
          "text": "-0.01",
          "x": "DayName",
          "xref": "x",
          "y": "Channel_Cluster",
          "yref": "y"
         },
         {
          "font": {
           "color": "#000000"
          },
          "showarrow": false,
          "text": "-0.01",
          "x": "Views_per_Sub",
          "xref": "x",
          "y": "Channel_Cluster",
          "yref": "y"
         },
         {
          "font": {
           "color": "#000000"
          },
          "showarrow": false,
          "text": "-0.01",
          "x": "Engagement",
          "xref": "x",
          "y": "Channel_Cluster",
          "yref": "y"
         },
         {
          "font": {
           "color": "#000000"
          },
          "showarrow": false,
          "text": "-0.01",
          "x": "Like_per_Sub",
          "xref": "x",
          "y": "Channel_Cluster",
          "yref": "y"
         },
         {
          "font": {
           "color": "#000000"
          },
          "showarrow": false,
          "text": "-0.0",
          "x": "Comment_per_Sub",
          "xref": "x",
          "y": "Channel_Cluster",
          "yref": "y"
         },
         {
          "font": {
           "color": "#000000"
          },
          "showarrow": false,
          "text": "-0.01",
          "x": "Published_ts",
          "xref": "x",
          "y": "Channel_Cluster",
          "yref": "y"
         },
         {
          "font": {
           "color": "#000000"
          },
          "showarrow": false,
          "text": "-0.02",
          "x": "Unnamed: 0",
          "xref": "x",
          "y": "Video_Cluster",
          "yref": "y"
         },
         {
          "font": {
           "color": "#000000"
          },
          "showarrow": false,
          "text": "-0.0",
          "x": "Video ID",
          "xref": "x",
          "y": "Video_Cluster",
          "yref": "y"
         },
         {
          "font": {
           "color": "#000000"
          },
          "showarrow": false,
          "text": "-0.02",
          "x": "Video Title",
          "xref": "x",
          "y": "Video_Cluster",
          "yref": "y"
         },
         {
          "font": {
           "color": "#000000"
          },
          "showarrow": false,
          "text": "-0.01",
          "x": "Channel",
          "xref": "x",
          "y": "Video_Cluster",
          "yref": "y"
         },
         {
          "font": {
           "color": "#000000"
          },
          "showarrow": false,
          "text": "-0.18",
          "x": "Published Date",
          "xref": "x",
          "y": "Video_Cluster",
          "yref": "y"
         },
         {
          "font": {
           "color": "#000000"
          },
          "showarrow": false,
          "text": "0.55",
          "x": "Views",
          "xref": "x",
          "y": "Video_Cluster",
          "yref": "y"
         },
         {
          "font": {
           "color": "#000000"
          },
          "showarrow": false,
          "text": "0.48",
          "x": "Likes",
          "xref": "x",
          "y": "Video_Cluster",
          "yref": "y"
         },
         {
          "font": {
           "color": "#000000"
          },
          "showarrow": false,
          "text": "0.07",
          "x": "Comments",
          "xref": "x",
          "y": "Video_Cluster",
          "yref": "y"
         },
         {
          "font": {
           "color": "#000000"
          },
          "showarrow": false,
          "text": "0.1",
          "x": "Subscribers",
          "xref": "x",
          "y": "Video_Cluster",
          "yref": "y"
         },
         {
          "font": {
           "color": "#000000"
          },
          "showarrow": false,
          "text": "0.09",
          "x": "Channel Views",
          "xref": "x",
          "y": "Video_Cluster",
          "yref": "y"
         },
         {
          "font": {
           "color": "#000000"
          },
          "showarrow": false,
          "text": "0.03",
          "x": "Country",
          "xref": "x",
          "y": "Video_Cluster",
          "yref": "y"
         },
         {
          "font": {
           "color": "#000000"
          },
          "showarrow": false,
          "text": "-0.06",
          "x": "Region",
          "xref": "x",
          "y": "Video_Cluster",
          "yref": "y"
         },
         {
          "font": {
           "color": "#000000"
          },
          "showarrow": false,
          "text": "-0.04",
          "x": "CategoryID",
          "xref": "x",
          "y": "Video_Cluster",
          "yref": "y"
         },
         {
          "font": {
           "color": "#000000"
          },
          "showarrow": false,
          "text": "0.17",
          "x": "CategoryName",
          "xref": "x",
          "y": "Video_Cluster",
          "yref": "y"
         },
         {
          "font": {
           "color": "#000000"
          },
          "showarrow": false,
          "text": "0.31",
          "x": "Cluster",
          "xref": "x",
          "y": "Video_Cluster",
          "yref": "y"
         },
         {
          "font": {
           "color": "#000000"
          },
          "showarrow": false,
          "text": "-0.13",
          "x": "CategoryID_enc",
          "xref": "x",
          "y": "Video_Cluster",
          "yref": "y"
         },
         {
          "font": {
           "color": "#000000"
          },
          "showarrow": false,
          "text": "0.03",
          "x": "Country_enc",
          "xref": "x",
          "y": "Video_Cluster",
          "yref": "y"
         },
         {
          "font": {
           "color": "#000000"
          },
          "showarrow": false,
          "text": "0.26",
          "x": "VideoCluster",
          "xref": "x",
          "y": "Video_Cluster",
          "yref": "y"
         },
         {
          "font": {
           "color": "#000000"
          },
          "showarrow": false,
          "text": "0.18",
          "x": "Channel_Cluster",
          "xref": "x",
          "y": "Video_Cluster",
          "yref": "y"
         },
         {
          "font": {
           "color": "#000000"
          },
          "showarrow": false,
          "text": "1.0",
          "x": "Video_Cluster",
          "xref": "x",
          "y": "Video_Cluster",
          "yref": "y"
         },
         {
          "font": {
           "color": "#000000"
          },
          "showarrow": false,
          "text": "-0.23",
          "x": "Country_Cluster_x",
          "xref": "x",
          "y": "Video_Cluster",
          "yref": "y"
         },
         {
          "font": {
           "color": "#000000"
          },
          "showarrow": false,
          "text": "-0.0",
          "x": "Category_Cluster_x",
          "xref": "x",
          "y": "Video_Cluster",
          "yref": "y"
         },
         {
          "font": {
           "color": "#000000"
          },
          "showarrow": false,
          "text": "-0.23",
          "x": "Country_Cluster_y",
          "xref": "x",
          "y": "Video_Cluster",
          "yref": "y"
         },
         {
          "font": {
           "color": "#000000"
          },
          "showarrow": false,
          "text": "-0.0",
          "x": "Category_Cluster_y",
          "xref": "x",
          "y": "Video_Cluster",
          "yref": "y"
         },
         {
          "font": {
           "color": "#000000"
          },
          "showarrow": false,
          "text": "nan",
          "x": "Year",
          "xref": "x",
          "y": "Video_Cluster",
          "yref": "y"
         },
         {
          "font": {
           "color": "#000000"
          },
          "showarrow": false,
          "text": "-0.05",
          "x": "Month",
          "xref": "x",
          "y": "Video_Cluster",
          "yref": "y"
         },
         {
          "font": {
           "color": "#000000"
          },
          "showarrow": false,
          "text": "-0.16",
          "x": "Day",
          "xref": "x",
          "y": "Video_Cluster",
          "yref": "y"
         },
         {
          "font": {
           "color": "#000000"
          },
          "showarrow": false,
          "text": "-0.1",
          "x": "DayOfWeek",
          "xref": "x",
          "y": "Video_Cluster",
          "yref": "y"
         },
         {
          "font": {
           "color": "#000000"
          },
          "showarrow": false,
          "text": "0.04",
          "x": "DayName",
          "xref": "x",
          "y": "Video_Cluster",
          "yref": "y"
         },
         {
          "font": {
           "color": "#000000"
          },
          "showarrow": false,
          "text": "0.03",
          "x": "Views_per_Sub",
          "xref": "x",
          "y": "Video_Cluster",
          "yref": "y"
         },
         {
          "font": {
           "color": "#000000"
          },
          "showarrow": false,
          "text": "-0.14",
          "x": "Engagement",
          "xref": "x",
          "y": "Video_Cluster",
          "yref": "y"
         },
         {
          "font": {
           "color": "#000000"
          },
          "showarrow": false,
          "text": "0.01",
          "x": "Like_per_Sub",
          "xref": "x",
          "y": "Video_Cluster",
          "yref": "y"
         },
         {
          "font": {
           "color": "#000000"
          },
          "showarrow": false,
          "text": "-0.0",
          "x": "Comment_per_Sub",
          "xref": "x",
          "y": "Video_Cluster",
          "yref": "y"
         },
         {
          "font": {
           "color": "#000000"
          },
          "showarrow": false,
          "text": "-0.18",
          "x": "Published_ts",
          "xref": "x",
          "y": "Video_Cluster",
          "yref": "y"
         },
         {
          "font": {
           "color": "#000000"
          },
          "showarrow": false,
          "text": "-0.02",
          "x": "Unnamed: 0",
          "xref": "x",
          "y": "Country_Cluster_x",
          "yref": "y"
         },
         {
          "font": {
           "color": "#000000"
          },
          "showarrow": false,
          "text": "-0.03",
          "x": "Video ID",
          "xref": "x",
          "y": "Country_Cluster_x",
          "yref": "y"
         },
         {
          "font": {
           "color": "#000000"
          },
          "showarrow": false,
          "text": "-0.05",
          "x": "Video Title",
          "xref": "x",
          "y": "Country_Cluster_x",
          "yref": "y"
         },
         {
          "font": {
           "color": "#000000"
          },
          "showarrow": false,
          "text": "-0.04",
          "x": "Channel",
          "xref": "x",
          "y": "Country_Cluster_x",
          "yref": "y"
         },
         {
          "font": {
           "color": "#000000"
          },
          "showarrow": false,
          "text": "0.02",
          "x": "Published Date",
          "xref": "x",
          "y": "Country_Cluster_x",
          "yref": "y"
         },
         {
          "font": {
           "color": "#000000"
          },
          "showarrow": false,
          "text": "-0.22",
          "x": "Views",
          "xref": "x",
          "y": "Country_Cluster_x",
          "yref": "y"
         },
         {
          "font": {
           "color": "#000000"
          },
          "showarrow": false,
          "text": "-0.17",
          "x": "Likes",
          "xref": "x",
          "y": "Country_Cluster_x",
          "yref": "y"
         },
         {
          "font": {
           "color": "#000000"
          },
          "showarrow": false,
          "text": "-0.04",
          "x": "Comments",
          "xref": "x",
          "y": "Country_Cluster_x",
          "yref": "y"
         },
         {
          "font": {
           "color": "#000000"
          },
          "showarrow": false,
          "text": "-0.14",
          "x": "Subscribers",
          "xref": "x",
          "y": "Country_Cluster_x",
          "yref": "y"
         },
         {
          "font": {
           "color": "#000000"
          },
          "showarrow": false,
          "text": "-0.12",
          "x": "Channel Views",
          "xref": "x",
          "y": "Country_Cluster_x",
          "yref": "y"
         },
         {
          "font": {
           "color": "#000000"
          },
          "showarrow": false,
          "text": "0.05",
          "x": "Country",
          "xref": "x",
          "y": "Country_Cluster_x",
          "yref": "y"
         },
         {
          "font": {
           "color": "#000000"
          },
          "showarrow": false,
          "text": "0.05",
          "x": "Region",
          "xref": "x",
          "y": "Country_Cluster_x",
          "yref": "y"
         },
         {
          "font": {
           "color": "#000000"
          },
          "showarrow": false,
          "text": "0.03",
          "x": "CategoryID",
          "xref": "x",
          "y": "Country_Cluster_x",
          "yref": "y"
         },
         {
          "font": {
           "color": "#000000"
          },
          "showarrow": false,
          "text": "-0.05",
          "x": "CategoryName",
          "xref": "x",
          "y": "Country_Cluster_x",
          "yref": "y"
         },
         {
          "font": {
           "color": "#000000"
          },
          "showarrow": false,
          "text": "-0.13",
          "x": "Cluster",
          "xref": "x",
          "y": "Country_Cluster_x",
          "yref": "y"
         },
         {
          "font": {
           "color": "#000000"
          },
          "showarrow": false,
          "text": "0.04",
          "x": "CategoryID_enc",
          "xref": "x",
          "y": "Country_Cluster_x",
          "yref": "y"
         },
         {
          "font": {
           "color": "#000000"
          },
          "showarrow": false,
          "text": "0.05",
          "x": "Country_enc",
          "xref": "x",
          "y": "Country_Cluster_x",
          "yref": "y"
         },
         {
          "font": {
           "color": "#000000"
          },
          "showarrow": false,
          "text": "-0.09",
          "x": "VideoCluster",
          "xref": "x",
          "y": "Country_Cluster_x",
          "yref": "y"
         },
         {
          "font": {
           "color": "#000000"
          },
          "showarrow": false,
          "text": "-0.14",
          "x": "Channel_Cluster",
          "xref": "x",
          "y": "Country_Cluster_x",
          "yref": "y"
         },
         {
          "font": {
           "color": "#000000"
          },
          "showarrow": false,
          "text": "-0.23",
          "x": "Video_Cluster",
          "xref": "x",
          "y": "Country_Cluster_x",
          "yref": "y"
         },
         {
          "font": {
           "color": "#000000"
          },
          "showarrow": false,
          "text": "1.0",
          "x": "Country_Cluster_x",
          "xref": "x",
          "y": "Country_Cluster_x",
          "yref": "y"
         },
         {
          "font": {
           "color": "#000000"
          },
          "showarrow": false,
          "text": "0.03",
          "x": "Category_Cluster_x",
          "xref": "x",
          "y": "Country_Cluster_x",
          "yref": "y"
         },
         {
          "font": {
           "color": "#000000"
          },
          "showarrow": false,
          "text": "1.0",
          "x": "Country_Cluster_y",
          "xref": "x",
          "y": "Country_Cluster_x",
          "yref": "y"
         },
         {
          "font": {
           "color": "#000000"
          },
          "showarrow": false,
          "text": "0.03",
          "x": "Category_Cluster_y",
          "xref": "x",
          "y": "Country_Cluster_x",
          "yref": "y"
         },
         {
          "font": {
           "color": "#000000"
          },
          "showarrow": false,
          "text": "nan",
          "x": "Year",
          "xref": "x",
          "y": "Country_Cluster_x",
          "yref": "y"
         },
         {
          "font": {
           "color": "#000000"
          },
          "showarrow": false,
          "text": "0.02",
          "x": "Month",
          "xref": "x",
          "y": "Country_Cluster_x",
          "yref": "y"
         },
         {
          "font": {
           "color": "#000000"
          },
          "showarrow": false,
          "text": "-0.0",
          "x": "Day",
          "xref": "x",
          "y": "Country_Cluster_x",
          "yref": "y"
         },
         {
          "font": {
           "color": "#000000"
          },
          "showarrow": false,
          "text": "0.04",
          "x": "DayOfWeek",
          "xref": "x",
          "y": "Country_Cluster_x",
          "yref": "y"
         },
         {
          "font": {
           "color": "#000000"
          },
          "showarrow": false,
          "text": "-0.0",
          "x": "DayName",
          "xref": "x",
          "y": "Country_Cluster_x",
          "yref": "y"
         },
         {
          "font": {
           "color": "#000000"
          },
          "showarrow": false,
          "text": "-0.02",
          "x": "Views_per_Sub",
          "xref": "x",
          "y": "Country_Cluster_x",
          "yref": "y"
         },
         {
          "font": {
           "color": "#000000"
          },
          "showarrow": false,
          "text": "0.13",
          "x": "Engagement",
          "xref": "x",
          "y": "Country_Cluster_x",
          "yref": "y"
         },
         {
          "font": {
           "color": "#000000"
          },
          "showarrow": false,
          "text": "-0.01",
          "x": "Like_per_Sub",
          "xref": "x",
          "y": "Country_Cluster_x",
          "yref": "y"
         },
         {
          "font": {
           "color": "#000000"
          },
          "showarrow": false,
          "text": "-0.0",
          "x": "Comment_per_Sub",
          "xref": "x",
          "y": "Country_Cluster_x",
          "yref": "y"
         },
         {
          "font": {
           "color": "#000000"
          },
          "showarrow": false,
          "text": "0.02",
          "x": "Published_ts",
          "xref": "x",
          "y": "Country_Cluster_x",
          "yref": "y"
         },
         {
          "font": {
           "color": "#000000"
          },
          "showarrow": false,
          "text": "-0.01",
          "x": "Unnamed: 0",
          "xref": "x",
          "y": "Category_Cluster_x",
          "yref": "y"
         },
         {
          "font": {
           "color": "#000000"
          },
          "showarrow": false,
          "text": "-0.01",
          "x": "Video ID",
          "xref": "x",
          "y": "Category_Cluster_x",
          "yref": "y"
         },
         {
          "font": {
           "color": "#000000"
          },
          "showarrow": false,
          "text": "-0.01",
          "x": "Video Title",
          "xref": "x",
          "y": "Category_Cluster_x",
          "yref": "y"
         },
         {
          "font": {
           "color": "#000000"
          },
          "showarrow": false,
          "text": "0.0",
          "x": "Channel",
          "xref": "x",
          "y": "Category_Cluster_x",
          "yref": "y"
         },
         {
          "font": {
           "color": "#000000"
          },
          "showarrow": false,
          "text": "0.26",
          "x": "Published Date",
          "xref": "x",
          "y": "Category_Cluster_x",
          "yref": "y"
         },
         {
          "font": {
           "color": "#000000"
          },
          "showarrow": false,
          "text": "-0.02",
          "x": "Views",
          "xref": "x",
          "y": "Category_Cluster_x",
          "yref": "y"
         },
         {
          "font": {
           "color": "#000000"
          },
          "showarrow": false,
          "text": "0.01",
          "x": "Likes",
          "xref": "x",
          "y": "Category_Cluster_x",
          "yref": "y"
         },
         {
          "font": {
           "color": "#000000"
          },
          "showarrow": false,
          "text": "-0.02",
          "x": "Comments",
          "xref": "x",
          "y": "Category_Cluster_x",
          "yref": "y"
         },
         {
          "font": {
           "color": "#000000"
          },
          "showarrow": false,
          "text": "-0.02",
          "x": "Subscribers",
          "xref": "x",
          "y": "Category_Cluster_x",
          "yref": "y"
         },
         {
          "font": {
           "color": "#000000"
          },
          "showarrow": false,
          "text": "-0.02",
          "x": "Channel Views",
          "xref": "x",
          "y": "Category_Cluster_x",
          "yref": "y"
         },
         {
          "font": {
           "color": "#000000"
          },
          "showarrow": false,
          "text": "0.01",
          "x": "Country",
          "xref": "x",
          "y": "Category_Cluster_x",
          "yref": "y"
         },
         {
          "font": {
           "color": "#000000"
          },
          "showarrow": false,
          "text": "0.0",
          "x": "Region",
          "xref": "x",
          "y": "Category_Cluster_x",
          "yref": "y"
         },
         {
          "font": {
           "color": "#000000"
          },
          "showarrow": false,
          "text": "-0.02",
          "x": "CategoryID",
          "xref": "x",
          "y": "Category_Cluster_x",
          "yref": "y"
         },
         {
          "font": {
           "color": "#000000"
          },
          "showarrow": false,
          "text": "-0.13",
          "x": "CategoryName",
          "xref": "x",
          "y": "Category_Cluster_x",
          "yref": "y"
         },
         {
          "font": {
           "color": "#000000"
          },
          "showarrow": false,
          "text": "-0.0",
          "x": "Cluster",
          "xref": "x",
          "y": "Category_Cluster_x",
          "yref": "y"
         },
         {
          "font": {
           "color": "#000000"
          },
          "showarrow": false,
          "text": "-0.35",
          "x": "CategoryID_enc",
          "xref": "x",
          "y": "Category_Cluster_x",
          "yref": "y"
         },
         {
          "font": {
           "color": "#000000"
          },
          "showarrow": false,
          "text": "0.01",
          "x": "Country_enc",
          "xref": "x",
          "y": "Category_Cluster_x",
          "yref": "y"
         },
         {
          "font": {
           "color": "#000000"
          },
          "showarrow": false,
          "text": "0.1",
          "x": "VideoCluster",
          "xref": "x",
          "y": "Category_Cluster_x",
          "yref": "y"
         },
         {
          "font": {
           "color": "#000000"
          },
          "showarrow": false,
          "text": "0.03",
          "x": "Channel_Cluster",
          "xref": "x",
          "y": "Category_Cluster_x",
          "yref": "y"
         },
         {
          "font": {
           "color": "#000000"
          },
          "showarrow": false,
          "text": "-0.0",
          "x": "Video_Cluster",
          "xref": "x",
          "y": "Category_Cluster_x",
          "yref": "y"
         },
         {
          "font": {
           "color": "#000000"
          },
          "showarrow": false,
          "text": "0.03",
          "x": "Country_Cluster_x",
          "xref": "x",
          "y": "Category_Cluster_x",
          "yref": "y"
         },
         {
          "font": {
           "color": "#000000"
          },
          "showarrow": false,
          "text": "1.0",
          "x": "Category_Cluster_x",
          "xref": "x",
          "y": "Category_Cluster_x",
          "yref": "y"
         },
         {
          "font": {
           "color": "#000000"
          },
          "showarrow": false,
          "text": "0.03",
          "x": "Country_Cluster_y",
          "xref": "x",
          "y": "Category_Cluster_x",
          "yref": "y"
         },
         {
          "font": {
           "color": "#000000"
          },
          "showarrow": false,
          "text": "1.0",
          "x": "Category_Cluster_y",
          "xref": "x",
          "y": "Category_Cluster_x",
          "yref": "y"
         },
         {
          "font": {
           "color": "#000000"
          },
          "showarrow": false,
          "text": "nan",
          "x": "Year",
          "xref": "x",
          "y": "Category_Cluster_x",
          "yref": "y"
         },
         {
          "font": {
           "color": "#000000"
          },
          "showarrow": false,
          "text": "0.14",
          "x": "Month",
          "xref": "x",
          "y": "Category_Cluster_x",
          "yref": "y"
         },
         {
          "font": {
           "color": "#000000"
          },
          "showarrow": false,
          "text": "0.16",
          "x": "Day",
          "xref": "x",
          "y": "Category_Cluster_x",
          "yref": "y"
         },
         {
          "font": {
           "color": "#000000"
          },
          "showarrow": false,
          "text": "0.05",
          "x": "DayOfWeek",
          "xref": "x",
          "y": "Category_Cluster_x",
          "yref": "y"
         },
         {
          "font": {
           "color": "#000000"
          },
          "showarrow": false,
          "text": "-0.01",
          "x": "DayName",
          "xref": "x",
          "y": "Category_Cluster_x",
          "yref": "y"
         },
         {
          "font": {
           "color": "#000000"
          },
          "showarrow": false,
          "text": "-0.04",
          "x": "Views_per_Sub",
          "xref": "x",
          "y": "Category_Cluster_x",
          "yref": "y"
         },
         {
          "font": {
           "color": "#000000"
          },
          "showarrow": false,
          "text": "0.11",
          "x": "Engagement",
          "xref": "x",
          "y": "Category_Cluster_x",
          "yref": "y"
         },
         {
          "font": {
           "color": "#000000"
          },
          "showarrow": false,
          "text": "-0.03",
          "x": "Like_per_Sub",
          "xref": "x",
          "y": "Category_Cluster_x",
          "yref": "y"
         },
         {
          "font": {
           "color": "#000000"
          },
          "showarrow": false,
          "text": "-0.02",
          "x": "Comment_per_Sub",
          "xref": "x",
          "y": "Category_Cluster_x",
          "yref": "y"
         },
         {
          "font": {
           "color": "#000000"
          },
          "showarrow": false,
          "text": "0.26",
          "x": "Published_ts",
          "xref": "x",
          "y": "Category_Cluster_x",
          "yref": "y"
         },
         {
          "font": {
           "color": "#000000"
          },
          "showarrow": false,
          "text": "-0.02",
          "x": "Unnamed: 0",
          "xref": "x",
          "y": "Country_Cluster_y",
          "yref": "y"
         },
         {
          "font": {
           "color": "#000000"
          },
          "showarrow": false,
          "text": "-0.03",
          "x": "Video ID",
          "xref": "x",
          "y": "Country_Cluster_y",
          "yref": "y"
         },
         {
          "font": {
           "color": "#000000"
          },
          "showarrow": false,
          "text": "-0.05",
          "x": "Video Title",
          "xref": "x",
          "y": "Country_Cluster_y",
          "yref": "y"
         },
         {
          "font": {
           "color": "#000000"
          },
          "showarrow": false,
          "text": "-0.04",
          "x": "Channel",
          "xref": "x",
          "y": "Country_Cluster_y",
          "yref": "y"
         },
         {
          "font": {
           "color": "#000000"
          },
          "showarrow": false,
          "text": "0.02",
          "x": "Published Date",
          "xref": "x",
          "y": "Country_Cluster_y",
          "yref": "y"
         },
         {
          "font": {
           "color": "#000000"
          },
          "showarrow": false,
          "text": "-0.22",
          "x": "Views",
          "xref": "x",
          "y": "Country_Cluster_y",
          "yref": "y"
         },
         {
          "font": {
           "color": "#000000"
          },
          "showarrow": false,
          "text": "-0.17",
          "x": "Likes",
          "xref": "x",
          "y": "Country_Cluster_y",
          "yref": "y"
         },
         {
          "font": {
           "color": "#000000"
          },
          "showarrow": false,
          "text": "-0.04",
          "x": "Comments",
          "xref": "x",
          "y": "Country_Cluster_y",
          "yref": "y"
         },
         {
          "font": {
           "color": "#000000"
          },
          "showarrow": false,
          "text": "-0.14",
          "x": "Subscribers",
          "xref": "x",
          "y": "Country_Cluster_y",
          "yref": "y"
         },
         {
          "font": {
           "color": "#000000"
          },
          "showarrow": false,
          "text": "-0.12",
          "x": "Channel Views",
          "xref": "x",
          "y": "Country_Cluster_y",
          "yref": "y"
         },
         {
          "font": {
           "color": "#000000"
          },
          "showarrow": false,
          "text": "0.05",
          "x": "Country",
          "xref": "x",
          "y": "Country_Cluster_y",
          "yref": "y"
         },
         {
          "font": {
           "color": "#000000"
          },
          "showarrow": false,
          "text": "0.05",
          "x": "Region",
          "xref": "x",
          "y": "Country_Cluster_y",
          "yref": "y"
         },
         {
          "font": {
           "color": "#000000"
          },
          "showarrow": false,
          "text": "0.03",
          "x": "CategoryID",
          "xref": "x",
          "y": "Country_Cluster_y",
          "yref": "y"
         },
         {
          "font": {
           "color": "#000000"
          },
          "showarrow": false,
          "text": "-0.05",
          "x": "CategoryName",
          "xref": "x",
          "y": "Country_Cluster_y",
          "yref": "y"
         },
         {
          "font": {
           "color": "#000000"
          },
          "showarrow": false,
          "text": "-0.13",
          "x": "Cluster",
          "xref": "x",
          "y": "Country_Cluster_y",
          "yref": "y"
         },
         {
          "font": {
           "color": "#000000"
          },
          "showarrow": false,
          "text": "0.04",
          "x": "CategoryID_enc",
          "xref": "x",
          "y": "Country_Cluster_y",
          "yref": "y"
         },
         {
          "font": {
           "color": "#000000"
          },
          "showarrow": false,
          "text": "0.05",
          "x": "Country_enc",
          "xref": "x",
          "y": "Country_Cluster_y",
          "yref": "y"
         },
         {
          "font": {
           "color": "#000000"
          },
          "showarrow": false,
          "text": "-0.09",
          "x": "VideoCluster",
          "xref": "x",
          "y": "Country_Cluster_y",
          "yref": "y"
         },
         {
          "font": {
           "color": "#000000"
          },
          "showarrow": false,
          "text": "-0.14",
          "x": "Channel_Cluster",
          "xref": "x",
          "y": "Country_Cluster_y",
          "yref": "y"
         },
         {
          "font": {
           "color": "#000000"
          },
          "showarrow": false,
          "text": "-0.23",
          "x": "Video_Cluster",
          "xref": "x",
          "y": "Country_Cluster_y",
          "yref": "y"
         },
         {
          "font": {
           "color": "#000000"
          },
          "showarrow": false,
          "text": "1.0",
          "x": "Country_Cluster_x",
          "xref": "x",
          "y": "Country_Cluster_y",
          "yref": "y"
         },
         {
          "font": {
           "color": "#000000"
          },
          "showarrow": false,
          "text": "0.03",
          "x": "Category_Cluster_x",
          "xref": "x",
          "y": "Country_Cluster_y",
          "yref": "y"
         },
         {
          "font": {
           "color": "#000000"
          },
          "showarrow": false,
          "text": "1.0",
          "x": "Country_Cluster_y",
          "xref": "x",
          "y": "Country_Cluster_y",
          "yref": "y"
         },
         {
          "font": {
           "color": "#000000"
          },
          "showarrow": false,
          "text": "0.03",
          "x": "Category_Cluster_y",
          "xref": "x",
          "y": "Country_Cluster_y",
          "yref": "y"
         },
         {
          "font": {
           "color": "#000000"
          },
          "showarrow": false,
          "text": "nan",
          "x": "Year",
          "xref": "x",
          "y": "Country_Cluster_y",
          "yref": "y"
         },
         {
          "font": {
           "color": "#000000"
          },
          "showarrow": false,
          "text": "0.02",
          "x": "Month",
          "xref": "x",
          "y": "Country_Cluster_y",
          "yref": "y"
         },
         {
          "font": {
           "color": "#000000"
          },
          "showarrow": false,
          "text": "-0.0",
          "x": "Day",
          "xref": "x",
          "y": "Country_Cluster_y",
          "yref": "y"
         },
         {
          "font": {
           "color": "#000000"
          },
          "showarrow": false,
          "text": "0.04",
          "x": "DayOfWeek",
          "xref": "x",
          "y": "Country_Cluster_y",
          "yref": "y"
         },
         {
          "font": {
           "color": "#000000"
          },
          "showarrow": false,
          "text": "-0.0",
          "x": "DayName",
          "xref": "x",
          "y": "Country_Cluster_y",
          "yref": "y"
         },
         {
          "font": {
           "color": "#000000"
          },
          "showarrow": false,
          "text": "-0.02",
          "x": "Views_per_Sub",
          "xref": "x",
          "y": "Country_Cluster_y",
          "yref": "y"
         },
         {
          "font": {
           "color": "#000000"
          },
          "showarrow": false,
          "text": "0.13",
          "x": "Engagement",
          "xref": "x",
          "y": "Country_Cluster_y",
          "yref": "y"
         },
         {
          "font": {
           "color": "#000000"
          },
          "showarrow": false,
          "text": "-0.01",
          "x": "Like_per_Sub",
          "xref": "x",
          "y": "Country_Cluster_y",
          "yref": "y"
         },
         {
          "font": {
           "color": "#000000"
          },
          "showarrow": false,
          "text": "-0.0",
          "x": "Comment_per_Sub",
          "xref": "x",
          "y": "Country_Cluster_y",
          "yref": "y"
         },
         {
          "font": {
           "color": "#000000"
          },
          "showarrow": false,
          "text": "0.02",
          "x": "Published_ts",
          "xref": "x",
          "y": "Country_Cluster_y",
          "yref": "y"
         },
         {
          "font": {
           "color": "#000000"
          },
          "showarrow": false,
          "text": "-0.01",
          "x": "Unnamed: 0",
          "xref": "x",
          "y": "Category_Cluster_y",
          "yref": "y"
         },
         {
          "font": {
           "color": "#000000"
          },
          "showarrow": false,
          "text": "-0.01",
          "x": "Video ID",
          "xref": "x",
          "y": "Category_Cluster_y",
          "yref": "y"
         },
         {
          "font": {
           "color": "#000000"
          },
          "showarrow": false,
          "text": "-0.01",
          "x": "Video Title",
          "xref": "x",
          "y": "Category_Cluster_y",
          "yref": "y"
         },
         {
          "font": {
           "color": "#000000"
          },
          "showarrow": false,
          "text": "0.0",
          "x": "Channel",
          "xref": "x",
          "y": "Category_Cluster_y",
          "yref": "y"
         },
         {
          "font": {
           "color": "#000000"
          },
          "showarrow": false,
          "text": "0.26",
          "x": "Published Date",
          "xref": "x",
          "y": "Category_Cluster_y",
          "yref": "y"
         },
         {
          "font": {
           "color": "#000000"
          },
          "showarrow": false,
          "text": "-0.02",
          "x": "Views",
          "xref": "x",
          "y": "Category_Cluster_y",
          "yref": "y"
         },
         {
          "font": {
           "color": "#000000"
          },
          "showarrow": false,
          "text": "0.01",
          "x": "Likes",
          "xref": "x",
          "y": "Category_Cluster_y",
          "yref": "y"
         },
         {
          "font": {
           "color": "#000000"
          },
          "showarrow": false,
          "text": "-0.02",
          "x": "Comments",
          "xref": "x",
          "y": "Category_Cluster_y",
          "yref": "y"
         },
         {
          "font": {
           "color": "#000000"
          },
          "showarrow": false,
          "text": "-0.02",
          "x": "Subscribers",
          "xref": "x",
          "y": "Category_Cluster_y",
          "yref": "y"
         },
         {
          "font": {
           "color": "#000000"
          },
          "showarrow": false,
          "text": "-0.02",
          "x": "Channel Views",
          "xref": "x",
          "y": "Category_Cluster_y",
          "yref": "y"
         },
         {
          "font": {
           "color": "#000000"
          },
          "showarrow": false,
          "text": "0.01",
          "x": "Country",
          "xref": "x",
          "y": "Category_Cluster_y",
          "yref": "y"
         },
         {
          "font": {
           "color": "#000000"
          },
          "showarrow": false,
          "text": "0.0",
          "x": "Region",
          "xref": "x",
          "y": "Category_Cluster_y",
          "yref": "y"
         },
         {
          "font": {
           "color": "#000000"
          },
          "showarrow": false,
          "text": "-0.02",
          "x": "CategoryID",
          "xref": "x",
          "y": "Category_Cluster_y",
          "yref": "y"
         },
         {
          "font": {
           "color": "#000000"
          },
          "showarrow": false,
          "text": "-0.13",
          "x": "CategoryName",
          "xref": "x",
          "y": "Category_Cluster_y",
          "yref": "y"
         },
         {
          "font": {
           "color": "#000000"
          },
          "showarrow": false,
          "text": "-0.0",
          "x": "Cluster",
          "xref": "x",
          "y": "Category_Cluster_y",
          "yref": "y"
         },
         {
          "font": {
           "color": "#000000"
          },
          "showarrow": false,
          "text": "-0.35",
          "x": "CategoryID_enc",
          "xref": "x",
          "y": "Category_Cluster_y",
          "yref": "y"
         },
         {
          "font": {
           "color": "#000000"
          },
          "showarrow": false,
          "text": "0.01",
          "x": "Country_enc",
          "xref": "x",
          "y": "Category_Cluster_y",
          "yref": "y"
         },
         {
          "font": {
           "color": "#000000"
          },
          "showarrow": false,
          "text": "0.1",
          "x": "VideoCluster",
          "xref": "x",
          "y": "Category_Cluster_y",
          "yref": "y"
         },
         {
          "font": {
           "color": "#000000"
          },
          "showarrow": false,
          "text": "0.03",
          "x": "Channel_Cluster",
          "xref": "x",
          "y": "Category_Cluster_y",
          "yref": "y"
         },
         {
          "font": {
           "color": "#000000"
          },
          "showarrow": false,
          "text": "-0.0",
          "x": "Video_Cluster",
          "xref": "x",
          "y": "Category_Cluster_y",
          "yref": "y"
         },
         {
          "font": {
           "color": "#000000"
          },
          "showarrow": false,
          "text": "0.03",
          "x": "Country_Cluster_x",
          "xref": "x",
          "y": "Category_Cluster_y",
          "yref": "y"
         },
         {
          "font": {
           "color": "#000000"
          },
          "showarrow": false,
          "text": "1.0",
          "x": "Category_Cluster_x",
          "xref": "x",
          "y": "Category_Cluster_y",
          "yref": "y"
         },
         {
          "font": {
           "color": "#000000"
          },
          "showarrow": false,
          "text": "0.03",
          "x": "Country_Cluster_y",
          "xref": "x",
          "y": "Category_Cluster_y",
          "yref": "y"
         },
         {
          "font": {
           "color": "#000000"
          },
          "showarrow": false,
          "text": "1.0",
          "x": "Category_Cluster_y",
          "xref": "x",
          "y": "Category_Cluster_y",
          "yref": "y"
         },
         {
          "font": {
           "color": "#000000"
          },
          "showarrow": false,
          "text": "nan",
          "x": "Year",
          "xref": "x",
          "y": "Category_Cluster_y",
          "yref": "y"
         },
         {
          "font": {
           "color": "#000000"
          },
          "showarrow": false,
          "text": "0.14",
          "x": "Month",
          "xref": "x",
          "y": "Category_Cluster_y",
          "yref": "y"
         },
         {
          "font": {
           "color": "#000000"
          },
          "showarrow": false,
          "text": "0.16",
          "x": "Day",
          "xref": "x",
          "y": "Category_Cluster_y",
          "yref": "y"
         },
         {
          "font": {
           "color": "#000000"
          },
          "showarrow": false,
          "text": "0.05",
          "x": "DayOfWeek",
          "xref": "x",
          "y": "Category_Cluster_y",
          "yref": "y"
         },
         {
          "font": {
           "color": "#000000"
          },
          "showarrow": false,
          "text": "-0.01",
          "x": "DayName",
          "xref": "x",
          "y": "Category_Cluster_y",
          "yref": "y"
         },
         {
          "font": {
           "color": "#000000"
          },
          "showarrow": false,
          "text": "-0.04",
          "x": "Views_per_Sub",
          "xref": "x",
          "y": "Category_Cluster_y",
          "yref": "y"
         },
         {
          "font": {
           "color": "#000000"
          },
          "showarrow": false,
          "text": "0.11",
          "x": "Engagement",
          "xref": "x",
          "y": "Category_Cluster_y",
          "yref": "y"
         },
         {
          "font": {
           "color": "#000000"
          },
          "showarrow": false,
          "text": "-0.03",
          "x": "Like_per_Sub",
          "xref": "x",
          "y": "Category_Cluster_y",
          "yref": "y"
         },
         {
          "font": {
           "color": "#000000"
          },
          "showarrow": false,
          "text": "-0.02",
          "x": "Comment_per_Sub",
          "xref": "x",
          "y": "Category_Cluster_y",
          "yref": "y"
         },
         {
          "font": {
           "color": "#000000"
          },
          "showarrow": false,
          "text": "0.26",
          "x": "Published_ts",
          "xref": "x",
          "y": "Category_Cluster_y",
          "yref": "y"
         },
         {
          "font": {
           "color": "#000000"
          },
          "showarrow": false,
          "text": "nan",
          "x": "Unnamed: 0",
          "xref": "x",
          "y": "Year",
          "yref": "y"
         },
         {
          "font": {
           "color": "#000000"
          },
          "showarrow": false,
          "text": "nan",
          "x": "Video ID",
          "xref": "x",
          "y": "Year",
          "yref": "y"
         },
         {
          "font": {
           "color": "#000000"
          },
          "showarrow": false,
          "text": "nan",
          "x": "Video Title",
          "xref": "x",
          "y": "Year",
          "yref": "y"
         },
         {
          "font": {
           "color": "#000000"
          },
          "showarrow": false,
          "text": "nan",
          "x": "Channel",
          "xref": "x",
          "y": "Year",
          "yref": "y"
         },
         {
          "font": {
           "color": "#000000"
          },
          "showarrow": false,
          "text": "nan",
          "x": "Published Date",
          "xref": "x",
          "y": "Year",
          "yref": "y"
         },
         {
          "font": {
           "color": "#000000"
          },
          "showarrow": false,
          "text": "nan",
          "x": "Views",
          "xref": "x",
          "y": "Year",
          "yref": "y"
         },
         {
          "font": {
           "color": "#000000"
          },
          "showarrow": false,
          "text": "nan",
          "x": "Likes",
          "xref": "x",
          "y": "Year",
          "yref": "y"
         },
         {
          "font": {
           "color": "#000000"
          },
          "showarrow": false,
          "text": "nan",
          "x": "Comments",
          "xref": "x",
          "y": "Year",
          "yref": "y"
         },
         {
          "font": {
           "color": "#000000"
          },
          "showarrow": false,
          "text": "nan",
          "x": "Subscribers",
          "xref": "x",
          "y": "Year",
          "yref": "y"
         },
         {
          "font": {
           "color": "#000000"
          },
          "showarrow": false,
          "text": "nan",
          "x": "Channel Views",
          "xref": "x",
          "y": "Year",
          "yref": "y"
         },
         {
          "font": {
           "color": "#000000"
          },
          "showarrow": false,
          "text": "nan",
          "x": "Country",
          "xref": "x",
          "y": "Year",
          "yref": "y"
         },
         {
          "font": {
           "color": "#000000"
          },
          "showarrow": false,
          "text": "nan",
          "x": "Region",
          "xref": "x",
          "y": "Year",
          "yref": "y"
         },
         {
          "font": {
           "color": "#000000"
          },
          "showarrow": false,
          "text": "nan",
          "x": "CategoryID",
          "xref": "x",
          "y": "Year",
          "yref": "y"
         },
         {
          "font": {
           "color": "#000000"
          },
          "showarrow": false,
          "text": "nan",
          "x": "CategoryName",
          "xref": "x",
          "y": "Year",
          "yref": "y"
         },
         {
          "font": {
           "color": "#000000"
          },
          "showarrow": false,
          "text": "nan",
          "x": "Cluster",
          "xref": "x",
          "y": "Year",
          "yref": "y"
         },
         {
          "font": {
           "color": "#000000"
          },
          "showarrow": false,
          "text": "nan",
          "x": "CategoryID_enc",
          "xref": "x",
          "y": "Year",
          "yref": "y"
         },
         {
          "font": {
           "color": "#000000"
          },
          "showarrow": false,
          "text": "nan",
          "x": "Country_enc",
          "xref": "x",
          "y": "Year",
          "yref": "y"
         },
         {
          "font": {
           "color": "#000000"
          },
          "showarrow": false,
          "text": "nan",
          "x": "VideoCluster",
          "xref": "x",
          "y": "Year",
          "yref": "y"
         },
         {
          "font": {
           "color": "#000000"
          },
          "showarrow": false,
          "text": "nan",
          "x": "Channel_Cluster",
          "xref": "x",
          "y": "Year",
          "yref": "y"
         },
         {
          "font": {
           "color": "#000000"
          },
          "showarrow": false,
          "text": "nan",
          "x": "Video_Cluster",
          "xref": "x",
          "y": "Year",
          "yref": "y"
         },
         {
          "font": {
           "color": "#000000"
          },
          "showarrow": false,
          "text": "nan",
          "x": "Country_Cluster_x",
          "xref": "x",
          "y": "Year",
          "yref": "y"
         },
         {
          "font": {
           "color": "#000000"
          },
          "showarrow": false,
          "text": "nan",
          "x": "Category_Cluster_x",
          "xref": "x",
          "y": "Year",
          "yref": "y"
         },
         {
          "font": {
           "color": "#000000"
          },
          "showarrow": false,
          "text": "nan",
          "x": "Country_Cluster_y",
          "xref": "x",
          "y": "Year",
          "yref": "y"
         },
         {
          "font": {
           "color": "#000000"
          },
          "showarrow": false,
          "text": "nan",
          "x": "Category_Cluster_y",
          "xref": "x",
          "y": "Year",
          "yref": "y"
         },
         {
          "font": {
           "color": "#000000"
          },
          "showarrow": false,
          "text": "nan",
          "x": "Year",
          "xref": "x",
          "y": "Year",
          "yref": "y"
         },
         {
          "font": {
           "color": "#000000"
          },
          "showarrow": false,
          "text": "nan",
          "x": "Month",
          "xref": "x",
          "y": "Year",
          "yref": "y"
         },
         {
          "font": {
           "color": "#000000"
          },
          "showarrow": false,
          "text": "nan",
          "x": "Day",
          "xref": "x",
          "y": "Year",
          "yref": "y"
         },
         {
          "font": {
           "color": "#000000"
          },
          "showarrow": false,
          "text": "nan",
          "x": "DayOfWeek",
          "xref": "x",
          "y": "Year",
          "yref": "y"
         },
         {
          "font": {
           "color": "#000000"
          },
          "showarrow": false,
          "text": "nan",
          "x": "DayName",
          "xref": "x",
          "y": "Year",
          "yref": "y"
         },
         {
          "font": {
           "color": "#000000"
          },
          "showarrow": false,
          "text": "nan",
          "x": "Views_per_Sub",
          "xref": "x",
          "y": "Year",
          "yref": "y"
         },
         {
          "font": {
           "color": "#000000"
          },
          "showarrow": false,
          "text": "nan",
          "x": "Engagement",
          "xref": "x",
          "y": "Year",
          "yref": "y"
         },
         {
          "font": {
           "color": "#000000"
          },
          "showarrow": false,
          "text": "nan",
          "x": "Like_per_Sub",
          "xref": "x",
          "y": "Year",
          "yref": "y"
         },
         {
          "font": {
           "color": "#000000"
          },
          "showarrow": false,
          "text": "nan",
          "x": "Comment_per_Sub",
          "xref": "x",
          "y": "Year",
          "yref": "y"
         },
         {
          "font": {
           "color": "#000000"
          },
          "showarrow": false,
          "text": "nan",
          "x": "Published_ts",
          "xref": "x",
          "y": "Year",
          "yref": "y"
         },
         {
          "font": {
           "color": "#000000"
          },
          "showarrow": false,
          "text": "0.0",
          "x": "Unnamed: 0",
          "xref": "x",
          "y": "Month",
          "yref": "y"
         },
         {
          "font": {
           "color": "#000000"
          },
          "showarrow": false,
          "text": "0.02",
          "x": "Video ID",
          "xref": "x",
          "y": "Month",
          "yref": "y"
         },
         {
          "font": {
           "color": "#000000"
          },
          "showarrow": false,
          "text": "0.01",
          "x": "Video Title",
          "xref": "x",
          "y": "Month",
          "yref": "y"
         },
         {
          "font": {
           "color": "#000000"
          },
          "showarrow": false,
          "text": "0.0",
          "x": "Channel",
          "xref": "x",
          "y": "Month",
          "yref": "y"
         },
         {
          "font": {
           "color": "#000000"
          },
          "showarrow": false,
          "text": "0.66",
          "x": "Published Date",
          "xref": "x",
          "y": "Month",
          "yref": "y"
         },
         {
          "font": {
           "color": "#000000"
          },
          "showarrow": false,
          "text": "-0.07",
          "x": "Views",
          "xref": "x",
          "y": "Month",
          "yref": "y"
         },
         {
          "font": {
           "color": "#000000"
          },
          "showarrow": false,
          "text": "-0.07",
          "x": "Likes",
          "xref": "x",
          "y": "Month",
          "yref": "y"
         },
         {
          "font": {
           "color": "#000000"
          },
          "showarrow": false,
          "text": "-0.05",
          "x": "Comments",
          "xref": "x",
          "y": "Month",
          "yref": "y"
         },
         {
          "font": {
           "color": "#000000"
          },
          "showarrow": false,
          "text": "-0.03",
          "x": "Subscribers",
          "xref": "x",
          "y": "Month",
          "yref": "y"
         },
         {
          "font": {
           "color": "#000000"
          },
          "showarrow": false,
          "text": "-0.03",
          "x": "Channel Views",
          "xref": "x",
          "y": "Month",
          "yref": "y"
         },
         {
          "font": {
           "color": "#000000"
          },
          "showarrow": false,
          "text": "-0.01",
          "x": "Country",
          "xref": "x",
          "y": "Month",
          "yref": "y"
         },
         {
          "font": {
           "color": "#000000"
          },
          "showarrow": false,
          "text": "-0.01",
          "x": "Region",
          "xref": "x",
          "y": "Month",
          "yref": "y"
         },
         {
          "font": {
           "color": "#000000"
          },
          "showarrow": false,
          "text": "0.05",
          "x": "CategoryID",
          "xref": "x",
          "y": "Month",
          "yref": "y"
         },
         {
          "font": {
           "color": "#000000"
          },
          "showarrow": false,
          "text": "-0.04",
          "x": "CategoryName",
          "xref": "x",
          "y": "Month",
          "yref": "y"
         },
         {
          "font": {
           "color": "#000000"
          },
          "showarrow": false,
          "text": "-0.07",
          "x": "Cluster",
          "xref": "x",
          "y": "Month",
          "yref": "y"
         },
         {
          "font": {
           "color": "#000000"
          },
          "showarrow": false,
          "text": "-0.05",
          "x": "CategoryID_enc",
          "xref": "x",
          "y": "Month",
          "yref": "y"
         },
         {
          "font": {
           "color": "#000000"
          },
          "showarrow": false,
          "text": "-0.01",
          "x": "Country_enc",
          "xref": "x",
          "y": "Month",
          "yref": "y"
         },
         {
          "font": {
           "color": "#000000"
          },
          "showarrow": false,
          "text": "0.0",
          "x": "VideoCluster",
          "xref": "x",
          "y": "Month",
          "yref": "y"
         },
         {
          "font": {
           "color": "#000000"
          },
          "showarrow": false,
          "text": "-0.01",
          "x": "Channel_Cluster",
          "xref": "x",
          "y": "Month",
          "yref": "y"
         },
         {
          "font": {
           "color": "#000000"
          },
          "showarrow": false,
          "text": "-0.05",
          "x": "Video_Cluster",
          "xref": "x",
          "y": "Month",
          "yref": "y"
         },
         {
          "font": {
           "color": "#000000"
          },
          "showarrow": false,
          "text": "0.02",
          "x": "Country_Cluster_x",
          "xref": "x",
          "y": "Month",
          "yref": "y"
         },
         {
          "font": {
           "color": "#000000"
          },
          "showarrow": false,
          "text": "0.14",
          "x": "Category_Cluster_x",
          "xref": "x",
          "y": "Month",
          "yref": "y"
         },
         {
          "font": {
           "color": "#000000"
          },
          "showarrow": false,
          "text": "0.02",
          "x": "Country_Cluster_y",
          "xref": "x",
          "y": "Month",
          "yref": "y"
         },
         {
          "font": {
           "color": "#000000"
          },
          "showarrow": false,
          "text": "0.14",
          "x": "Category_Cluster_y",
          "xref": "x",
          "y": "Month",
          "yref": "y"
         },
         {
          "font": {
           "color": "#000000"
          },
          "showarrow": false,
          "text": "nan",
          "x": "Year",
          "xref": "x",
          "y": "Month",
          "yref": "y"
         },
         {
          "font": {
           "color": "#000000"
          },
          "showarrow": false,
          "text": "1.0",
          "x": "Month",
          "xref": "x",
          "y": "Month",
          "yref": "y"
         },
         {
          "font": {
           "color": "#000000"
          },
          "showarrow": false,
          "text": "-0.33",
          "x": "Day",
          "xref": "x",
          "y": "Month",
          "yref": "y"
         },
         {
          "font": {
           "color": "#000000"
          },
          "showarrow": false,
          "text": "0.05",
          "x": "DayOfWeek",
          "xref": "x",
          "y": "Month",
          "yref": "y"
         },
         {
          "font": {
           "color": "#000000"
          },
          "showarrow": false,
          "text": "0.0",
          "x": "DayName",
          "xref": "x",
          "y": "Month",
          "yref": "y"
         },
         {
          "font": {
           "color": "#000000"
          },
          "showarrow": false,
          "text": "-0.05",
          "x": "Views_per_Sub",
          "xref": "x",
          "y": "Month",
          "yref": "y"
         },
         {
          "font": {
           "color": "#000000"
          },
          "showarrow": false,
          "text": "0.04",
          "x": "Engagement",
          "xref": "x",
          "y": "Month",
          "yref": "y"
         },
         {
          "font": {
           "color": "#000000"
          },
          "showarrow": false,
          "text": "-0.03",
          "x": "Like_per_Sub",
          "xref": "x",
          "y": "Month",
          "yref": "y"
         },
         {
          "font": {
           "color": "#000000"
          },
          "showarrow": false,
          "text": "0.0",
          "x": "Comment_per_Sub",
          "xref": "x",
          "y": "Month",
          "yref": "y"
         },
         {
          "font": {
           "color": "#000000"
          },
          "showarrow": false,
          "text": "0.66",
          "x": "Published_ts",
          "xref": "x",
          "y": "Month",
          "yref": "y"
         },
         {
          "font": {
           "color": "#000000"
          },
          "showarrow": false,
          "text": "-0.0",
          "x": "Unnamed: 0",
          "xref": "x",
          "y": "Day",
          "yref": "y"
         },
         {
          "font": {
           "color": "#000000"
          },
          "showarrow": false,
          "text": "-0.0",
          "x": "Video ID",
          "xref": "x",
          "y": "Day",
          "yref": "y"
         },
         {
          "font": {
           "color": "#000000"
          },
          "showarrow": false,
          "text": "-0.0",
          "x": "Video Title",
          "xref": "x",
          "y": "Day",
          "yref": "y"
         },
         {
          "font": {
           "color": "#000000"
          },
          "showarrow": false,
          "text": "0.01",
          "x": "Channel",
          "xref": "x",
          "y": "Day",
          "yref": "y"
         },
         {
          "font": {
           "color": "#000000"
          },
          "showarrow": false,
          "text": "0.49",
          "x": "Published Date",
          "xref": "x",
          "y": "Day",
          "yref": "y"
         },
         {
          "font": {
           "color": "#000000"
          },
          "showarrow": false,
          "text": "-0.17",
          "x": "Views",
          "xref": "x",
          "y": "Day",
          "yref": "y"
         },
         {
          "font": {
           "color": "#000000"
          },
          "showarrow": false,
          "text": "-0.14",
          "x": "Likes",
          "xref": "x",
          "y": "Day",
          "yref": "y"
         },
         {
          "font": {
           "color": "#000000"
          },
          "showarrow": false,
          "text": "-0.01",
          "x": "Comments",
          "xref": "x",
          "y": "Day",
          "yref": "y"
         },
         {
          "font": {
           "color": "#000000"
          },
          "showarrow": false,
          "text": "-0.0",
          "x": "Subscribers",
          "xref": "x",
          "y": "Day",
          "yref": "y"
         },
         {
          "font": {
           "color": "#000000"
          },
          "showarrow": false,
          "text": "-0.02",
          "x": "Channel Views",
          "xref": "x",
          "y": "Day",
          "yref": "y"
         },
         {
          "font": {
           "color": "#000000"
          },
          "showarrow": false,
          "text": "-0.04",
          "x": "Country",
          "xref": "x",
          "y": "Day",
          "yref": "y"
         },
         {
          "font": {
           "color": "#000000"
          },
          "showarrow": false,
          "text": "-0.01",
          "x": "Region",
          "xref": "x",
          "y": "Day",
          "yref": "y"
         },
         {
          "font": {
           "color": "#000000"
          },
          "showarrow": false,
          "text": "0.13",
          "x": "CategoryID",
          "xref": "x",
          "y": "Day",
          "yref": "y"
         },
         {
          "font": {
           "color": "#000000"
          },
          "showarrow": false,
          "text": "-0.22",
          "x": "CategoryName",
          "xref": "x",
          "y": "Day",
          "yref": "y"
         },
         {
          "font": {
           "color": "#000000"
          },
          "showarrow": false,
          "text": "-0.1",
          "x": "Cluster",
          "xref": "x",
          "y": "Day",
          "yref": "y"
         },
         {
          "font": {
           "color": "#000000"
          },
          "showarrow": false,
          "text": "-0.01",
          "x": "CategoryID_enc",
          "xref": "x",
          "y": "Day",
          "yref": "y"
         },
         {
          "font": {
           "color": "#000000"
          },
          "showarrow": false,
          "text": "-0.04",
          "x": "Country_enc",
          "xref": "x",
          "y": "Day",
          "yref": "y"
         },
         {
          "font": {
           "color": "#000000"
          },
          "showarrow": false,
          "text": "-0.07",
          "x": "VideoCluster",
          "xref": "x",
          "y": "Day",
          "yref": "y"
         },
         {
          "font": {
           "color": "#000000"
          },
          "showarrow": false,
          "text": "-0.01",
          "x": "Channel_Cluster",
          "xref": "x",
          "y": "Day",
          "yref": "y"
         },
         {
          "font": {
           "color": "#000000"
          },
          "showarrow": false,
          "text": "-0.16",
          "x": "Video_Cluster",
          "xref": "x",
          "y": "Day",
          "yref": "y"
         },
         {
          "font": {
           "color": "#000000"
          },
          "showarrow": false,
          "text": "-0.0",
          "x": "Country_Cluster_x",
          "xref": "x",
          "y": "Day",
          "yref": "y"
         },
         {
          "font": {
           "color": "#000000"
          },
          "showarrow": false,
          "text": "0.16",
          "x": "Category_Cluster_x",
          "xref": "x",
          "y": "Day",
          "yref": "y"
         },
         {
          "font": {
           "color": "#000000"
          },
          "showarrow": false,
          "text": "-0.0",
          "x": "Country_Cluster_y",
          "xref": "x",
          "y": "Day",
          "yref": "y"
         },
         {
          "font": {
           "color": "#000000"
          },
          "showarrow": false,
          "text": "0.16",
          "x": "Category_Cluster_y",
          "xref": "x",
          "y": "Day",
          "yref": "y"
         },
         {
          "font": {
           "color": "#000000"
          },
          "showarrow": false,
          "text": "nan",
          "x": "Year",
          "xref": "x",
          "y": "Day",
          "yref": "y"
         },
         {
          "font": {
           "color": "#000000"
          },
          "showarrow": false,
          "text": "-0.33",
          "x": "Month",
          "xref": "x",
          "y": "Day",
          "yref": "y"
         },
         {
          "font": {
           "color": "#000000"
          },
          "showarrow": false,
          "text": "1.0",
          "x": "Day",
          "xref": "x",
          "y": "Day",
          "yref": "y"
         },
         {
          "font": {
           "color": "#000000"
          },
          "showarrow": false,
          "text": "0.29",
          "x": "DayOfWeek",
          "xref": "x",
          "y": "Day",
          "yref": "y"
         },
         {
          "font": {
           "color": "#000000"
          },
          "showarrow": false,
          "text": "-0.14",
          "x": "DayName",
          "xref": "x",
          "y": "Day",
          "yref": "y"
         },
         {
          "font": {
           "color": "#000000"
          },
          "showarrow": false,
          "text": "-0.04",
          "x": "Views_per_Sub",
          "xref": "x",
          "y": "Day",
          "yref": "y"
         },
         {
          "font": {
           "color": "#000000"
          },
          "showarrow": false,
          "text": "0.16",
          "x": "Engagement",
          "xref": "x",
          "y": "Day",
          "yref": "y"
         },
         {
          "font": {
           "color": "#000000"
          },
          "showarrow": false,
          "text": "-0.02",
          "x": "Like_per_Sub",
          "xref": "x",
          "y": "Day",
          "yref": "y"
         },
         {
          "font": {
           "color": "#000000"
          },
          "showarrow": false,
          "text": "-0.0",
          "x": "Comment_per_Sub",
          "xref": "x",
          "y": "Day",
          "yref": "y"
         },
         {
          "font": {
           "color": "#000000"
          },
          "showarrow": false,
          "text": "0.49",
          "x": "Published_ts",
          "xref": "x",
          "y": "Day",
          "yref": "y"
         },
         {
          "font": {
           "color": "#000000"
          },
          "showarrow": false,
          "text": "-0.01",
          "x": "Unnamed: 0",
          "xref": "x",
          "y": "DayOfWeek",
          "yref": "y"
         },
         {
          "font": {
           "color": "#000000"
          },
          "showarrow": false,
          "text": "-0.0",
          "x": "Video ID",
          "xref": "x",
          "y": "DayOfWeek",
          "yref": "y"
         },
         {
          "font": {
           "color": "#000000"
          },
          "showarrow": false,
          "text": "0.0",
          "x": "Video Title",
          "xref": "x",
          "y": "DayOfWeek",
          "yref": "y"
         },
         {
          "font": {
           "color": "#000000"
          },
          "showarrow": false,
          "text": "0.0",
          "x": "Channel",
          "xref": "x",
          "y": "DayOfWeek",
          "yref": "y"
         },
         {
          "font": {
           "color": "#000000"
          },
          "showarrow": false,
          "text": "0.28",
          "x": "Published Date",
          "xref": "x",
          "y": "DayOfWeek",
          "yref": "y"
         },
         {
          "font": {
           "color": "#000000"
          },
          "showarrow": false,
          "text": "-0.1",
          "x": "Views",
          "xref": "x",
          "y": "DayOfWeek",
          "yref": "y"
         },
         {
          "font": {
           "color": "#000000"
          },
          "showarrow": false,
          "text": "-0.08",
          "x": "Likes",
          "xref": "x",
          "y": "DayOfWeek",
          "yref": "y"
         },
         {
          "font": {
           "color": "#000000"
          },
          "showarrow": false,
          "text": "-0.03",
          "x": "Comments",
          "xref": "x",
          "y": "DayOfWeek",
          "yref": "y"
         },
         {
          "font": {
           "color": "#000000"
          },
          "showarrow": false,
          "text": "0.01",
          "x": "Subscribers",
          "xref": "x",
          "y": "DayOfWeek",
          "yref": "y"
         },
         {
          "font": {
           "color": "#000000"
          },
          "showarrow": false,
          "text": "-0.0",
          "x": "Channel Views",
          "xref": "x",
          "y": "DayOfWeek",
          "yref": "y"
         },
         {
          "font": {
           "color": "#000000"
          },
          "showarrow": false,
          "text": "-0.02",
          "x": "Country",
          "xref": "x",
          "y": "DayOfWeek",
          "yref": "y"
         },
         {
          "font": {
           "color": "#000000"
          },
          "showarrow": false,
          "text": "-0.01",
          "x": "Region",
          "xref": "x",
          "y": "DayOfWeek",
          "yref": "y"
         },
         {
          "font": {
           "color": "#000000"
          },
          "showarrow": false,
          "text": "0.03",
          "x": "CategoryID",
          "xref": "x",
          "y": "DayOfWeek",
          "yref": "y"
         },
         {
          "font": {
           "color": "#000000"
          },
          "showarrow": false,
          "text": "-0.16",
          "x": "CategoryName",
          "xref": "x",
          "y": "DayOfWeek",
          "yref": "y"
         },
         {
          "font": {
           "color": "#000000"
          },
          "showarrow": false,
          "text": "-0.07",
          "x": "Cluster",
          "xref": "x",
          "y": "DayOfWeek",
          "yref": "y"
         },
         {
          "font": {
           "color": "#000000"
          },
          "showarrow": false,
          "text": "-0.0",
          "x": "CategoryID_enc",
          "xref": "x",
          "y": "DayOfWeek",
          "yref": "y"
         },
         {
          "font": {
           "color": "#000000"
          },
          "showarrow": false,
          "text": "-0.02",
          "x": "Country_enc",
          "xref": "x",
          "y": "DayOfWeek",
          "yref": "y"
         },
         {
          "font": {
           "color": "#000000"
          },
          "showarrow": false,
          "text": "-0.04",
          "x": "VideoCluster",
          "xref": "x",
          "y": "DayOfWeek",
          "yref": "y"
         },
         {
          "font": {
           "color": "#000000"
          },
          "showarrow": false,
          "text": "-0.01",
          "x": "Channel_Cluster",
          "xref": "x",
          "y": "DayOfWeek",
          "yref": "y"
         },
         {
          "font": {
           "color": "#000000"
          },
          "showarrow": false,
          "text": "-0.1",
          "x": "Video_Cluster",
          "xref": "x",
          "y": "DayOfWeek",
          "yref": "y"
         },
         {
          "font": {
           "color": "#000000"
          },
          "showarrow": false,
          "text": "0.04",
          "x": "Country_Cluster_x",
          "xref": "x",
          "y": "DayOfWeek",
          "yref": "y"
         },
         {
          "font": {
           "color": "#000000"
          },
          "showarrow": false,
          "text": "0.05",
          "x": "Category_Cluster_x",
          "xref": "x",
          "y": "DayOfWeek",
          "yref": "y"
         },
         {
          "font": {
           "color": "#000000"
          },
          "showarrow": false,
          "text": "0.04",
          "x": "Country_Cluster_y",
          "xref": "x",
          "y": "DayOfWeek",
          "yref": "y"
         },
         {
          "font": {
           "color": "#000000"
          },
          "showarrow": false,
          "text": "0.05",
          "x": "Category_Cluster_y",
          "xref": "x",
          "y": "DayOfWeek",
          "yref": "y"
         },
         {
          "font": {
           "color": "#000000"
          },
          "showarrow": false,
          "text": "nan",
          "x": "Year",
          "xref": "x",
          "y": "DayOfWeek",
          "yref": "y"
         },
         {
          "font": {
           "color": "#000000"
          },
          "showarrow": false,
          "text": "0.05",
          "x": "Month",
          "xref": "x",
          "y": "DayOfWeek",
          "yref": "y"
         },
         {
          "font": {
           "color": "#000000"
          },
          "showarrow": false,
          "text": "0.29",
          "x": "Day",
          "xref": "x",
          "y": "DayOfWeek",
          "yref": "y"
         },
         {
          "font": {
           "color": "#000000"
          },
          "showarrow": false,
          "text": "1.0",
          "x": "DayOfWeek",
          "xref": "x",
          "y": "DayOfWeek",
          "yref": "y"
         },
         {
          "font": {
           "color": "#000000"
          },
          "showarrow": false,
          "text": "-0.25",
          "x": "DayName",
          "xref": "x",
          "y": "DayOfWeek",
          "yref": "y"
         },
         {
          "font": {
           "color": "#000000"
          },
          "showarrow": false,
          "text": "-0.03",
          "x": "Views_per_Sub",
          "xref": "x",
          "y": "DayOfWeek",
          "yref": "y"
         },
         {
          "font": {
           "color": "#000000"
          },
          "showarrow": false,
          "text": "0.1",
          "x": "Engagement",
          "xref": "x",
          "y": "DayOfWeek",
          "yref": "y"
         },
         {
          "font": {
           "color": "#000000"
          },
          "showarrow": false,
          "text": "-0.02",
          "x": "Like_per_Sub",
          "xref": "x",
          "y": "DayOfWeek",
          "yref": "y"
         },
         {
          "font": {
           "color": "#000000"
          },
          "showarrow": false,
          "text": "-0.01",
          "x": "Comment_per_Sub",
          "xref": "x",
          "y": "DayOfWeek",
          "yref": "y"
         },
         {
          "font": {
           "color": "#000000"
          },
          "showarrow": false,
          "text": "0.28",
          "x": "Published_ts",
          "xref": "x",
          "y": "DayOfWeek",
          "yref": "y"
         },
         {
          "font": {
           "color": "#000000"
          },
          "showarrow": false,
          "text": "-0.0",
          "x": "Unnamed: 0",
          "xref": "x",
          "y": "DayName",
          "yref": "y"
         },
         {
          "font": {
           "color": "#000000"
          },
          "showarrow": false,
          "text": "-0.01",
          "x": "Video ID",
          "xref": "x",
          "y": "DayName",
          "yref": "y"
         },
         {
          "font": {
           "color": "#000000"
          },
          "showarrow": false,
          "text": "0.02",
          "x": "Video Title",
          "xref": "x",
          "y": "DayName",
          "yref": "y"
         },
         {
          "font": {
           "color": "#000000"
          },
          "showarrow": false,
          "text": "0.01",
          "x": "Channel",
          "xref": "x",
          "y": "DayName",
          "yref": "y"
         },
         {
          "font": {
           "color": "#000000"
          },
          "showarrow": false,
          "text": "-0.11",
          "x": "Published Date",
          "xref": "x",
          "y": "DayName",
          "yref": "y"
         },
         {
          "font": {
           "color": "#000000"
          },
          "showarrow": false,
          "text": "0.02",
          "x": "Views",
          "xref": "x",
          "y": "DayName",
          "yref": "y"
         },
         {
          "font": {
           "color": "#000000"
          },
          "showarrow": false,
          "text": "0.02",
          "x": "Likes",
          "xref": "x",
          "y": "DayName",
          "yref": "y"
         },
         {
          "font": {
           "color": "#000000"
          },
          "showarrow": false,
          "text": "-0.02",
          "x": "Comments",
          "xref": "x",
          "y": "DayName",
          "yref": "y"
         },
         {
          "font": {
           "color": "#000000"
          },
          "showarrow": false,
          "text": "-0.03",
          "x": "Subscribers",
          "xref": "x",
          "y": "DayName",
          "yref": "y"
         },
         {
          "font": {
           "color": "#000000"
          },
          "showarrow": false,
          "text": "-0.03",
          "x": "Channel Views",
          "xref": "x",
          "y": "DayName",
          "yref": "y"
         },
         {
          "font": {
           "color": "#000000"
          },
          "showarrow": false,
          "text": "-0.01",
          "x": "Country",
          "xref": "x",
          "y": "DayName",
          "yref": "y"
         },
         {
          "font": {
           "color": "#000000"
          },
          "showarrow": false,
          "text": "0.0",
          "x": "Region",
          "xref": "x",
          "y": "DayName",
          "yref": "y"
         },
         {
          "font": {
           "color": "#000000"
          },
          "showarrow": false,
          "text": "-0.02",
          "x": "CategoryID",
          "xref": "x",
          "y": "DayName",
          "yref": "y"
         },
         {
          "font": {
           "color": "#000000"
          },
          "showarrow": false,
          "text": "0.06",
          "x": "CategoryName",
          "xref": "x",
          "y": "DayName",
          "yref": "y"
         },
         {
          "font": {
           "color": "#000000"
          },
          "showarrow": false,
          "text": "0.01",
          "x": "Cluster",
          "xref": "x",
          "y": "DayName",
          "yref": "y"
         },
         {
          "font": {
           "color": "#000000"
          },
          "showarrow": false,
          "text": "-0.02",
          "x": "CategoryID_enc",
          "xref": "x",
          "y": "DayName",
          "yref": "y"
         },
         {
          "font": {
           "color": "#000000"
          },
          "showarrow": false,
          "text": "-0.01",
          "x": "Country_enc",
          "xref": "x",
          "y": "DayName",
          "yref": "y"
         },
         {
          "font": {
           "color": "#000000"
          },
          "showarrow": false,
          "text": "0.01",
          "x": "VideoCluster",
          "xref": "x",
          "y": "DayName",
          "yref": "y"
         },
         {
          "font": {
           "color": "#000000"
          },
          "showarrow": false,
          "text": "-0.01",
          "x": "Channel_Cluster",
          "xref": "x",
          "y": "DayName",
          "yref": "y"
         },
         {
          "font": {
           "color": "#000000"
          },
          "showarrow": false,
          "text": "0.04",
          "x": "Video_Cluster",
          "xref": "x",
          "y": "DayName",
          "yref": "y"
         },
         {
          "font": {
           "color": "#000000"
          },
          "showarrow": false,
          "text": "-0.0",
          "x": "Country_Cluster_x",
          "xref": "x",
          "y": "DayName",
          "yref": "y"
         },
         {
          "font": {
           "color": "#000000"
          },
          "showarrow": false,
          "text": "-0.01",
          "x": "Category_Cluster_x",
          "xref": "x",
          "y": "DayName",
          "yref": "y"
         },
         {
          "font": {
           "color": "#000000"
          },
          "showarrow": false,
          "text": "-0.0",
          "x": "Country_Cluster_y",
          "xref": "x",
          "y": "DayName",
          "yref": "y"
         },
         {
          "font": {
           "color": "#000000"
          },
          "showarrow": false,
          "text": "-0.01",
          "x": "Category_Cluster_y",
          "xref": "x",
          "y": "DayName",
          "yref": "y"
         },
         {
          "font": {
           "color": "#000000"
          },
          "showarrow": false,
          "text": "nan",
          "x": "Year",
          "xref": "x",
          "y": "DayName",
          "yref": "y"
         },
         {
          "font": {
           "color": "#000000"
          },
          "showarrow": false,
          "text": "0.0",
          "x": "Month",
          "xref": "x",
          "y": "DayName",
          "yref": "y"
         },
         {
          "font": {
           "color": "#000000"
          },
          "showarrow": false,
          "text": "-0.14",
          "x": "Day",
          "xref": "x",
          "y": "DayName",
          "yref": "y"
         },
         {
          "font": {
           "color": "#000000"
          },
          "showarrow": false,
          "text": "-0.25",
          "x": "DayOfWeek",
          "xref": "x",
          "y": "DayName",
          "yref": "y"
         },
         {
          "font": {
           "color": "#000000"
          },
          "showarrow": false,
          "text": "1.0",
          "x": "DayName",
          "xref": "x",
          "y": "DayName",
          "yref": "y"
         },
         {
          "font": {
           "color": "#000000"
          },
          "showarrow": false,
          "text": "0.02",
          "x": "Views_per_Sub",
          "xref": "x",
          "y": "DayName",
          "yref": "y"
         },
         {
          "font": {
           "color": "#000000"
          },
          "showarrow": false,
          "text": "-0.05",
          "x": "Engagement",
          "xref": "x",
          "y": "DayName",
          "yref": "y"
         },
         {
          "font": {
           "color": "#000000"
          },
          "showarrow": false,
          "text": "0.02",
          "x": "Like_per_Sub",
          "xref": "x",
          "y": "DayName",
          "yref": "y"
         },
         {
          "font": {
           "color": "#000000"
          },
          "showarrow": false,
          "text": "0.01",
          "x": "Comment_per_Sub",
          "xref": "x",
          "y": "DayName",
          "yref": "y"
         },
         {
          "font": {
           "color": "#000000"
          },
          "showarrow": false,
          "text": "-0.11",
          "x": "Published_ts",
          "xref": "x",
          "y": "DayName",
          "yref": "y"
         },
         {
          "font": {
           "color": "#000000"
          },
          "showarrow": false,
          "text": "-0.01",
          "x": "Unnamed: 0",
          "xref": "x",
          "y": "Views_per_Sub",
          "yref": "y"
         },
         {
          "font": {
           "color": "#000000"
          },
          "showarrow": false,
          "text": "0.0",
          "x": "Video ID",
          "xref": "x",
          "y": "Views_per_Sub",
          "yref": "y"
         },
         {
          "font": {
           "color": "#000000"
          },
          "showarrow": false,
          "text": "-0.01",
          "x": "Video Title",
          "xref": "x",
          "y": "Views_per_Sub",
          "yref": "y"
         },
         {
          "font": {
           "color": "#000000"
          },
          "showarrow": false,
          "text": "0.01",
          "x": "Channel",
          "xref": "x",
          "y": "Views_per_Sub",
          "yref": "y"
         },
         {
          "font": {
           "color": "#000000"
          },
          "showarrow": false,
          "text": "-0.08",
          "x": "Published Date",
          "xref": "x",
          "y": "Views_per_Sub",
          "yref": "y"
         },
         {
          "font": {
           "color": "#000000"
          },
          "showarrow": false,
          "text": "0.05",
          "x": "Views",
          "xref": "x",
          "y": "Views_per_Sub",
          "yref": "y"
         },
         {
          "font": {
           "color": "#000000"
          },
          "showarrow": false,
          "text": "0.04",
          "x": "Likes",
          "xref": "x",
          "y": "Views_per_Sub",
          "yref": "y"
         },
         {
          "font": {
           "color": "#000000"
          },
          "showarrow": false,
          "text": "0.0",
          "x": "Comments",
          "xref": "x",
          "y": "Views_per_Sub",
          "yref": "y"
         },
         {
          "font": {
           "color": "#000000"
          },
          "showarrow": false,
          "text": "-0.01",
          "x": "Subscribers",
          "xref": "x",
          "y": "Views_per_Sub",
          "yref": "y"
         },
         {
          "font": {
           "color": "#000000"
          },
          "showarrow": false,
          "text": "-0.01",
          "x": "Channel Views",
          "xref": "x",
          "y": "Views_per_Sub",
          "yref": "y"
         },
         {
          "font": {
           "color": "#000000"
          },
          "showarrow": false,
          "text": "0.02",
          "x": "Country",
          "xref": "x",
          "y": "Views_per_Sub",
          "yref": "y"
         },
         {
          "font": {
           "color": "#000000"
          },
          "showarrow": false,
          "text": "0.01",
          "x": "Region",
          "xref": "x",
          "y": "Views_per_Sub",
          "yref": "y"
         },
         {
          "font": {
           "color": "#000000"
          },
          "showarrow": false,
          "text": "-0.03",
          "x": "CategoryID",
          "xref": "x",
          "y": "Views_per_Sub",
          "yref": "y"
         },
         {
          "font": {
           "color": "#000000"
          },
          "showarrow": false,
          "text": "0.04",
          "x": "CategoryName",
          "xref": "x",
          "y": "Views_per_Sub",
          "yref": "y"
         },
         {
          "font": {
           "color": "#000000"
          },
          "showarrow": false,
          "text": "0.04",
          "x": "Cluster",
          "xref": "x",
          "y": "Views_per_Sub",
          "yref": "y"
         },
         {
          "font": {
           "color": "#000000"
          },
          "showarrow": false,
          "text": "0.0",
          "x": "CategoryID_enc",
          "xref": "x",
          "y": "Views_per_Sub",
          "yref": "y"
         },
         {
          "font": {
           "color": "#000000"
          },
          "showarrow": false,
          "text": "0.02",
          "x": "Country_enc",
          "xref": "x",
          "y": "Views_per_Sub",
          "yref": "y"
         },
         {
          "font": {
           "color": "#000000"
          },
          "showarrow": false,
          "text": "0.02",
          "x": "VideoCluster",
          "xref": "x",
          "y": "Views_per_Sub",
          "yref": "y"
         },
         {
          "font": {
           "color": "#000000"
          },
          "showarrow": false,
          "text": "-0.01",
          "x": "Channel_Cluster",
          "xref": "x",
          "y": "Views_per_Sub",
          "yref": "y"
         },
         {
          "font": {
           "color": "#000000"
          },
          "showarrow": false,
          "text": "0.03",
          "x": "Video_Cluster",
          "xref": "x",
          "y": "Views_per_Sub",
          "yref": "y"
         },
         {
          "font": {
           "color": "#000000"
          },
          "showarrow": false,
          "text": "-0.02",
          "x": "Country_Cluster_x",
          "xref": "x",
          "y": "Views_per_Sub",
          "yref": "y"
         },
         {
          "font": {
           "color": "#000000"
          },
          "showarrow": false,
          "text": "-0.04",
          "x": "Category_Cluster_x",
          "xref": "x",
          "y": "Views_per_Sub",
          "yref": "y"
         },
         {
          "font": {
           "color": "#000000"
          },
          "showarrow": false,
          "text": "-0.02",
          "x": "Country_Cluster_y",
          "xref": "x",
          "y": "Views_per_Sub",
          "yref": "y"
         },
         {
          "font": {
           "color": "#000000"
          },
          "showarrow": false,
          "text": "-0.04",
          "x": "Category_Cluster_y",
          "xref": "x",
          "y": "Views_per_Sub",
          "yref": "y"
         },
         {
          "font": {
           "color": "#000000"
          },
          "showarrow": false,
          "text": "nan",
          "x": "Year",
          "xref": "x",
          "y": "Views_per_Sub",
          "yref": "y"
         },
         {
          "font": {
           "color": "#000000"
          },
          "showarrow": false,
          "text": "-0.05",
          "x": "Month",
          "xref": "x",
          "y": "Views_per_Sub",
          "yref": "y"
         },
         {
          "font": {
           "color": "#000000"
          },
          "showarrow": false,
          "text": "-0.04",
          "x": "Day",
          "xref": "x",
          "y": "Views_per_Sub",
          "yref": "y"
         },
         {
          "font": {
           "color": "#000000"
          },
          "showarrow": false,
          "text": "-0.03",
          "x": "DayOfWeek",
          "xref": "x",
          "y": "Views_per_Sub",
          "yref": "y"
         },
         {
          "font": {
           "color": "#000000"
          },
          "showarrow": false,
          "text": "0.02",
          "x": "DayName",
          "xref": "x",
          "y": "Views_per_Sub",
          "yref": "y"
         },
         {
          "font": {
           "color": "#000000"
          },
          "showarrow": false,
          "text": "1.0",
          "x": "Views_per_Sub",
          "xref": "x",
          "y": "Views_per_Sub",
          "yref": "y"
         },
         {
          "font": {
           "color": "#000000"
          },
          "showarrow": false,
          "text": "-0.02",
          "x": "Engagement",
          "xref": "x",
          "y": "Views_per_Sub",
          "yref": "y"
         },
         {
          "font": {
           "color": "#000000"
          },
          "showarrow": false,
          "text": "0.8",
          "x": "Like_per_Sub",
          "xref": "x",
          "y": "Views_per_Sub",
          "yref": "y"
         },
         {
          "font": {
           "color": "#000000"
          },
          "showarrow": false,
          "text": "0.48",
          "x": "Comment_per_Sub",
          "xref": "x",
          "y": "Views_per_Sub",
          "yref": "y"
         },
         {
          "font": {
           "color": "#000000"
          },
          "showarrow": false,
          "text": "-0.08",
          "x": "Published_ts",
          "xref": "x",
          "y": "Views_per_Sub",
          "yref": "y"
         },
         {
          "font": {
           "color": "#000000"
          },
          "showarrow": false,
          "text": "-0.01",
          "x": "Unnamed: 0",
          "xref": "x",
          "y": "Engagement",
          "yref": "y"
         },
         {
          "font": {
           "color": "#000000"
          },
          "showarrow": false,
          "text": "0.02",
          "x": "Video ID",
          "xref": "x",
          "y": "Engagement",
          "yref": "y"
         },
         {
          "font": {
           "color": "#000000"
          },
          "showarrow": false,
          "text": "-0.03",
          "x": "Video Title",
          "xref": "x",
          "y": "Engagement",
          "yref": "y"
         },
         {
          "font": {
           "color": "#000000"
          },
          "showarrow": false,
          "text": "-0.04",
          "x": "Channel",
          "xref": "x",
          "y": "Engagement",
          "yref": "y"
         },
         {
          "font": {
           "color": "#000000"
          },
          "showarrow": false,
          "text": "0.17",
          "x": "Published Date",
          "xref": "x",
          "y": "Engagement",
          "yref": "y"
         },
         {
          "font": {
           "color": "#000000"
          },
          "showarrow": false,
          "text": "-0.14",
          "x": "Views",
          "xref": "x",
          "y": "Engagement",
          "yref": "y"
         },
         {
          "font": {
           "color": "#000000"
          },
          "showarrow": false,
          "text": "0.03",
          "x": "Likes",
          "xref": "x",
          "y": "Engagement",
          "yref": "y"
         },
         {
          "font": {
           "color": "#000000"
          },
          "showarrow": false,
          "text": "0.39",
          "x": "Comments",
          "xref": "x",
          "y": "Engagement",
          "yref": "y"
         },
         {
          "font": {
           "color": "#000000"
          },
          "showarrow": false,
          "text": "0.03",
          "x": "Subscribers",
          "xref": "x",
          "y": "Engagement",
          "yref": "y"
         },
         {
          "font": {
           "color": "#000000"
          },
          "showarrow": false,
          "text": "-0.02",
          "x": "Channel Views",
          "xref": "x",
          "y": "Engagement",
          "yref": "y"
         },
         {
          "font": {
           "color": "#000000"
          },
          "showarrow": false,
          "text": "-0.1",
          "x": "Country",
          "xref": "x",
          "y": "Engagement",
          "yref": "y"
         },
         {
          "font": {
           "color": "#000000"
          },
          "showarrow": false,
          "text": "-0.11",
          "x": "Region",
          "xref": "x",
          "y": "Engagement",
          "yref": "y"
         },
         {
          "font": {
           "color": "#000000"
          },
          "showarrow": false,
          "text": "0.1",
          "x": "CategoryID",
          "xref": "x",
          "y": "Engagement",
          "yref": "y"
         },
         {
          "font": {
           "color": "#000000"
          },
          "showarrow": false,
          "text": "-0.29",
          "x": "CategoryName",
          "xref": "x",
          "y": "Engagement",
          "yref": "y"
         },
         {
          "font": {
           "color": "#000000"
          },
          "showarrow": false,
          "text": "0.01",
          "x": "Cluster",
          "xref": "x",
          "y": "Engagement",
          "yref": "y"
         },
         {
          "font": {
           "color": "#000000"
          },
          "showarrow": false,
          "text": "0.09",
          "x": "CategoryID_enc",
          "xref": "x",
          "y": "Engagement",
          "yref": "y"
         },
         {
          "font": {
           "color": "#000000"
          },
          "showarrow": false,
          "text": "-0.1",
          "x": "Country_enc",
          "xref": "x",
          "y": "Engagement",
          "yref": "y"
         },
         {
          "font": {
           "color": "#000000"
          },
          "showarrow": false,
          "text": "-0.13",
          "x": "VideoCluster",
          "xref": "x",
          "y": "Engagement",
          "yref": "y"
         },
         {
          "font": {
           "color": "#000000"
          },
          "showarrow": false,
          "text": "-0.01",
          "x": "Channel_Cluster",
          "xref": "x",
          "y": "Engagement",
          "yref": "y"
         },
         {
          "font": {
           "color": "#000000"
          },
          "showarrow": false,
          "text": "-0.14",
          "x": "Video_Cluster",
          "xref": "x",
          "y": "Engagement",
          "yref": "y"
         },
         {
          "font": {
           "color": "#000000"
          },
          "showarrow": false,
          "text": "0.13",
          "x": "Country_Cluster_x",
          "xref": "x",
          "y": "Engagement",
          "yref": "y"
         },
         {
          "font": {
           "color": "#000000"
          },
          "showarrow": false,
          "text": "0.11",
          "x": "Category_Cluster_x",
          "xref": "x",
          "y": "Engagement",
          "yref": "y"
         },
         {
          "font": {
           "color": "#000000"
          },
          "showarrow": false,
          "text": "0.13",
          "x": "Country_Cluster_y",
          "xref": "x",
          "y": "Engagement",
          "yref": "y"
         },
         {
          "font": {
           "color": "#000000"
          },
          "showarrow": false,
          "text": "0.11",
          "x": "Category_Cluster_y",
          "xref": "x",
          "y": "Engagement",
          "yref": "y"
         },
         {
          "font": {
           "color": "#000000"
          },
          "showarrow": false,
          "text": "nan",
          "x": "Year",
          "xref": "x",
          "y": "Engagement",
          "yref": "y"
         },
         {
          "font": {
           "color": "#000000"
          },
          "showarrow": false,
          "text": "0.04",
          "x": "Month",
          "xref": "x",
          "y": "Engagement",
          "yref": "y"
         },
         {
          "font": {
           "color": "#000000"
          },
          "showarrow": false,
          "text": "0.16",
          "x": "Day",
          "xref": "x",
          "y": "Engagement",
          "yref": "y"
         },
         {
          "font": {
           "color": "#000000"
          },
          "showarrow": false,
          "text": "0.1",
          "x": "DayOfWeek",
          "xref": "x",
          "y": "Engagement",
          "yref": "y"
         },
         {
          "font": {
           "color": "#000000"
          },
          "showarrow": false,
          "text": "-0.05",
          "x": "DayName",
          "xref": "x",
          "y": "Engagement",
          "yref": "y"
         },
         {
          "font": {
           "color": "#000000"
          },
          "showarrow": false,
          "text": "-0.02",
          "x": "Views_per_Sub",
          "xref": "x",
          "y": "Engagement",
          "yref": "y"
         },
         {
          "font": {
           "color": "#000000"
          },
          "showarrow": false,
          "text": "1.0",
          "x": "Engagement",
          "xref": "x",
          "y": "Engagement",
          "yref": "y"
         },
         {
          "font": {
           "color": "#000000"
          },
          "showarrow": false,
          "text": "0.01",
          "x": "Like_per_Sub",
          "xref": "x",
          "y": "Engagement",
          "yref": "y"
         },
         {
          "font": {
           "color": "#000000"
          },
          "showarrow": false,
          "text": "0.02",
          "x": "Comment_per_Sub",
          "xref": "x",
          "y": "Engagement",
          "yref": "y"
         },
         {
          "font": {
           "color": "#000000"
          },
          "showarrow": false,
          "text": "0.17",
          "x": "Published_ts",
          "xref": "x",
          "y": "Engagement",
          "yref": "y"
         },
         {
          "font": {
           "color": "#000000"
          },
          "showarrow": false,
          "text": "-0.01",
          "x": "Unnamed: 0",
          "xref": "x",
          "y": "Like_per_Sub",
          "yref": "y"
         },
         {
          "font": {
           "color": "#000000"
          },
          "showarrow": false,
          "text": "0.0",
          "x": "Video ID",
          "xref": "x",
          "y": "Like_per_Sub",
          "yref": "y"
         },
         {
          "font": {
           "color": "#000000"
          },
          "showarrow": false,
          "text": "-0.01",
          "x": "Video Title",
          "xref": "x",
          "y": "Like_per_Sub",
          "yref": "y"
         },
         {
          "font": {
           "color": "#000000"
          },
          "showarrow": false,
          "text": "0.0",
          "x": "Channel",
          "xref": "x",
          "y": "Like_per_Sub",
          "yref": "y"
         },
         {
          "font": {
           "color": "#000000"
          },
          "showarrow": false,
          "text": "-0.04",
          "x": "Published Date",
          "xref": "x",
          "y": "Like_per_Sub",
          "yref": "y"
         },
         {
          "font": {
           "color": "#000000"
          },
          "showarrow": false,
          "text": "0.02",
          "x": "Views",
          "xref": "x",
          "y": "Like_per_Sub",
          "yref": "y"
         },
         {
          "font": {
           "color": "#000000"
          },
          "showarrow": false,
          "text": "0.03",
          "x": "Likes",
          "xref": "x",
          "y": "Like_per_Sub",
          "yref": "y"
         },
         {
          "font": {
           "color": "#000000"
          },
          "showarrow": false,
          "text": "0.0",
          "x": "Comments",
          "xref": "x",
          "y": "Like_per_Sub",
          "yref": "y"
         },
         {
          "font": {
           "color": "#000000"
          },
          "showarrow": false,
          "text": "-0.01",
          "x": "Subscribers",
          "xref": "x",
          "y": "Like_per_Sub",
          "yref": "y"
         },
         {
          "font": {
           "color": "#000000"
          },
          "showarrow": false,
          "text": "-0.01",
          "x": "Channel Views",
          "xref": "x",
          "y": "Like_per_Sub",
          "yref": "y"
         },
         {
          "font": {
           "color": "#000000"
          },
          "showarrow": false,
          "text": "0.01",
          "x": "Country",
          "xref": "x",
          "y": "Like_per_Sub",
          "yref": "y"
         },
         {
          "font": {
           "color": "#000000"
          },
          "showarrow": false,
          "text": "0.0",
          "x": "Region",
          "xref": "x",
          "y": "Like_per_Sub",
          "yref": "y"
         },
         {
          "font": {
           "color": "#000000"
          },
          "showarrow": false,
          "text": "-0.03",
          "x": "CategoryID",
          "xref": "x",
          "y": "Like_per_Sub",
          "yref": "y"
         },
         {
          "font": {
           "color": "#000000"
          },
          "showarrow": false,
          "text": "0.02",
          "x": "CategoryName",
          "xref": "x",
          "y": "Like_per_Sub",
          "yref": "y"
         },
         {
          "font": {
           "color": "#000000"
          },
          "showarrow": false,
          "text": "0.02",
          "x": "Cluster",
          "xref": "x",
          "y": "Like_per_Sub",
          "yref": "y"
         },
         {
          "font": {
           "color": "#000000"
          },
          "showarrow": false,
          "text": "0.0",
          "x": "CategoryID_enc",
          "xref": "x",
          "y": "Like_per_Sub",
          "yref": "y"
         },
         {
          "font": {
           "color": "#000000"
          },
          "showarrow": false,
          "text": "0.01",
          "x": "Country_enc",
          "xref": "x",
          "y": "Like_per_Sub",
          "yref": "y"
         },
         {
          "font": {
           "color": "#000000"
          },
          "showarrow": false,
          "text": "0.01",
          "x": "VideoCluster",
          "xref": "x",
          "y": "Like_per_Sub",
          "yref": "y"
         },
         {
          "font": {
           "color": "#000000"
          },
          "showarrow": false,
          "text": "-0.01",
          "x": "Channel_Cluster",
          "xref": "x",
          "y": "Like_per_Sub",
          "yref": "y"
         },
         {
          "font": {
           "color": "#000000"
          },
          "showarrow": false,
          "text": "0.01",
          "x": "Video_Cluster",
          "xref": "x",
          "y": "Like_per_Sub",
          "yref": "y"
         },
         {
          "font": {
           "color": "#000000"
          },
          "showarrow": false,
          "text": "-0.01",
          "x": "Country_Cluster_x",
          "xref": "x",
          "y": "Like_per_Sub",
          "yref": "y"
         },
         {
          "font": {
           "color": "#000000"
          },
          "showarrow": false,
          "text": "-0.03",
          "x": "Category_Cluster_x",
          "xref": "x",
          "y": "Like_per_Sub",
          "yref": "y"
         },
         {
          "font": {
           "color": "#000000"
          },
          "showarrow": false,
          "text": "-0.01",
          "x": "Country_Cluster_y",
          "xref": "x",
          "y": "Like_per_Sub",
          "yref": "y"
         },
         {
          "font": {
           "color": "#000000"
          },
          "showarrow": false,
          "text": "-0.03",
          "x": "Category_Cluster_y",
          "xref": "x",
          "y": "Like_per_Sub",
          "yref": "y"
         },
         {
          "font": {
           "color": "#000000"
          },
          "showarrow": false,
          "text": "nan",
          "x": "Year",
          "xref": "x",
          "y": "Like_per_Sub",
          "yref": "y"
         },
         {
          "font": {
           "color": "#000000"
          },
          "showarrow": false,
          "text": "-0.03",
          "x": "Month",
          "xref": "x",
          "y": "Like_per_Sub",
          "yref": "y"
         },
         {
          "font": {
           "color": "#000000"
          },
          "showarrow": false,
          "text": "-0.02",
          "x": "Day",
          "xref": "x",
          "y": "Like_per_Sub",
          "yref": "y"
         },
         {
          "font": {
           "color": "#000000"
          },
          "showarrow": false,
          "text": "-0.02",
          "x": "DayOfWeek",
          "xref": "x",
          "y": "Like_per_Sub",
          "yref": "y"
         },
         {
          "font": {
           "color": "#000000"
          },
          "showarrow": false,
          "text": "0.02",
          "x": "DayName",
          "xref": "x",
          "y": "Like_per_Sub",
          "yref": "y"
         },
         {
          "font": {
           "color": "#000000"
          },
          "showarrow": false,
          "text": "0.8",
          "x": "Views_per_Sub",
          "xref": "x",
          "y": "Like_per_Sub",
          "yref": "y"
         },
         {
          "font": {
           "color": "#000000"
          },
          "showarrow": false,
          "text": "0.01",
          "x": "Engagement",
          "xref": "x",
          "y": "Like_per_Sub",
          "yref": "y"
         },
         {
          "font": {
           "color": "#000000"
          },
          "showarrow": false,
          "text": "1.0",
          "x": "Like_per_Sub",
          "xref": "x",
          "y": "Like_per_Sub",
          "yref": "y"
         },
         {
          "font": {
           "color": "#000000"
          },
          "showarrow": false,
          "text": "0.9",
          "x": "Comment_per_Sub",
          "xref": "x",
          "y": "Like_per_Sub",
          "yref": "y"
         },
         {
          "font": {
           "color": "#000000"
          },
          "showarrow": false,
          "text": "-0.04",
          "x": "Published_ts",
          "xref": "x",
          "y": "Like_per_Sub",
          "yref": "y"
         },
         {
          "font": {
           "color": "#000000"
          },
          "showarrow": false,
          "text": "-0.01",
          "x": "Unnamed: 0",
          "xref": "x",
          "y": "Comment_per_Sub",
          "yref": "y"
         },
         {
          "font": {
           "color": "#000000"
          },
          "showarrow": false,
          "text": "-0.0",
          "x": "Video ID",
          "xref": "x",
          "y": "Comment_per_Sub",
          "yref": "y"
         },
         {
          "font": {
           "color": "#000000"
          },
          "showarrow": false,
          "text": "-0.0",
          "x": "Video Title",
          "xref": "x",
          "y": "Comment_per_Sub",
          "yref": "y"
         },
         {
          "font": {
           "color": "#000000"
          },
          "showarrow": false,
          "text": "0.0",
          "x": "Channel",
          "xref": "x",
          "y": "Comment_per_Sub",
          "yref": "y"
         },
         {
          "font": {
           "color": "#000000"
          },
          "showarrow": false,
          "text": "-0.0",
          "x": "Published Date",
          "xref": "x",
          "y": "Comment_per_Sub",
          "yref": "y"
         },
         {
          "font": {
           "color": "#000000"
          },
          "showarrow": false,
          "text": "-0.0",
          "x": "Views",
          "xref": "x",
          "y": "Comment_per_Sub",
          "yref": "y"
         },
         {
          "font": {
           "color": "#000000"
          },
          "showarrow": false,
          "text": "-0.0",
          "x": "Likes",
          "xref": "x",
          "y": "Comment_per_Sub",
          "yref": "y"
         },
         {
          "font": {
           "color": "#000000"
          },
          "showarrow": false,
          "text": "0.0",
          "x": "Comments",
          "xref": "x",
          "y": "Comment_per_Sub",
          "yref": "y"
         },
         {
          "font": {
           "color": "#000000"
          },
          "showarrow": false,
          "text": "-0.0",
          "x": "Subscribers",
          "xref": "x",
          "y": "Comment_per_Sub",
          "yref": "y"
         },
         {
          "font": {
           "color": "#000000"
          },
          "showarrow": false,
          "text": "-0.0",
          "x": "Channel Views",
          "xref": "x",
          "y": "Comment_per_Sub",
          "yref": "y"
         },
         {
          "font": {
           "color": "#000000"
          },
          "showarrow": false,
          "text": "0.01",
          "x": "Country",
          "xref": "x",
          "y": "Comment_per_Sub",
          "yref": "y"
         },
         {
          "font": {
           "color": "#000000"
          },
          "showarrow": false,
          "text": "-0.0",
          "x": "Region",
          "xref": "x",
          "y": "Comment_per_Sub",
          "yref": "y"
         },
         {
          "font": {
           "color": "#000000"
          },
          "showarrow": false,
          "text": "-0.01",
          "x": "CategoryID",
          "xref": "x",
          "y": "Comment_per_Sub",
          "yref": "y"
         },
         {
          "font": {
           "color": "#000000"
          },
          "showarrow": false,
          "text": "0.01",
          "x": "CategoryName",
          "xref": "x",
          "y": "Comment_per_Sub",
          "yref": "y"
         },
         {
          "font": {
           "color": "#000000"
          },
          "showarrow": false,
          "text": "-0.0",
          "x": "Cluster",
          "xref": "x",
          "y": "Comment_per_Sub",
          "yref": "y"
         },
         {
          "font": {
           "color": "#000000"
          },
          "showarrow": false,
          "text": "0.0",
          "x": "CategoryID_enc",
          "xref": "x",
          "y": "Comment_per_Sub",
          "yref": "y"
         },
         {
          "font": {
           "color": "#000000"
          },
          "showarrow": false,
          "text": "0.01",
          "x": "Country_enc",
          "xref": "x",
          "y": "Comment_per_Sub",
          "yref": "y"
         },
         {
          "font": {
           "color": "#000000"
          },
          "showarrow": false,
          "text": "-0.0",
          "x": "VideoCluster",
          "xref": "x",
          "y": "Comment_per_Sub",
          "yref": "y"
         },
         {
          "font": {
           "color": "#000000"
          },
          "showarrow": false,
          "text": "-0.0",
          "x": "Channel_Cluster",
          "xref": "x",
          "y": "Comment_per_Sub",
          "yref": "y"
         },
         {
          "font": {
           "color": "#000000"
          },
          "showarrow": false,
          "text": "-0.0",
          "x": "Video_Cluster",
          "xref": "x",
          "y": "Comment_per_Sub",
          "yref": "y"
         },
         {
          "font": {
           "color": "#000000"
          },
          "showarrow": false,
          "text": "-0.0",
          "x": "Country_Cluster_x",
          "xref": "x",
          "y": "Comment_per_Sub",
          "yref": "y"
         },
         {
          "font": {
           "color": "#000000"
          },
          "showarrow": false,
          "text": "-0.02",
          "x": "Category_Cluster_x",
          "xref": "x",
          "y": "Comment_per_Sub",
          "yref": "y"
         },
         {
          "font": {
           "color": "#000000"
          },
          "showarrow": false,
          "text": "-0.0",
          "x": "Country_Cluster_y",
          "xref": "x",
          "y": "Comment_per_Sub",
          "yref": "y"
         },
         {
          "font": {
           "color": "#000000"
          },
          "showarrow": false,
          "text": "-0.02",
          "x": "Category_Cluster_y",
          "xref": "x",
          "y": "Comment_per_Sub",
          "yref": "y"
         },
         {
          "font": {
           "color": "#000000"
          },
          "showarrow": false,
          "text": "nan",
          "x": "Year",
          "xref": "x",
          "y": "Comment_per_Sub",
          "yref": "y"
         },
         {
          "font": {
           "color": "#000000"
          },
          "showarrow": false,
          "text": "0.0",
          "x": "Month",
          "xref": "x",
          "y": "Comment_per_Sub",
          "yref": "y"
         },
         {
          "font": {
           "color": "#000000"
          },
          "showarrow": false,
          "text": "-0.0",
          "x": "Day",
          "xref": "x",
          "y": "Comment_per_Sub",
          "yref": "y"
         },
         {
          "font": {
           "color": "#000000"
          },
          "showarrow": false,
          "text": "-0.01",
          "x": "DayOfWeek",
          "xref": "x",
          "y": "Comment_per_Sub",
          "yref": "y"
         },
         {
          "font": {
           "color": "#000000"
          },
          "showarrow": false,
          "text": "0.01",
          "x": "DayName",
          "xref": "x",
          "y": "Comment_per_Sub",
          "yref": "y"
         },
         {
          "font": {
           "color": "#000000"
          },
          "showarrow": false,
          "text": "0.48",
          "x": "Views_per_Sub",
          "xref": "x",
          "y": "Comment_per_Sub",
          "yref": "y"
         },
         {
          "font": {
           "color": "#000000"
          },
          "showarrow": false,
          "text": "0.02",
          "x": "Engagement",
          "xref": "x",
          "y": "Comment_per_Sub",
          "yref": "y"
         },
         {
          "font": {
           "color": "#000000"
          },
          "showarrow": false,
          "text": "0.9",
          "x": "Like_per_Sub",
          "xref": "x",
          "y": "Comment_per_Sub",
          "yref": "y"
         },
         {
          "font": {
           "color": "#000000"
          },
          "showarrow": false,
          "text": "1.0",
          "x": "Comment_per_Sub",
          "xref": "x",
          "y": "Comment_per_Sub",
          "yref": "y"
         },
         {
          "font": {
           "color": "#000000"
          },
          "showarrow": false,
          "text": "-0.0",
          "x": "Published_ts",
          "xref": "x",
          "y": "Comment_per_Sub",
          "yref": "y"
         },
         {
          "font": {
           "color": "#000000"
          },
          "showarrow": false,
          "text": "0.0",
          "x": "Unnamed: 0",
          "xref": "x",
          "y": "Published_ts",
          "yref": "y"
         },
         {
          "font": {
           "color": "#000000"
          },
          "showarrow": false,
          "text": "0.02",
          "x": "Video ID",
          "xref": "x",
          "y": "Published_ts",
          "yref": "y"
         },
         {
          "font": {
           "color": "#000000"
          },
          "showarrow": false,
          "text": "0.0",
          "x": "Video Title",
          "xref": "x",
          "y": "Published_ts",
          "yref": "y"
         },
         {
          "font": {
           "color": "#000000"
          },
          "showarrow": false,
          "text": "0.01",
          "x": "Channel",
          "xref": "x",
          "y": "Published_ts",
          "yref": "y"
         },
         {
          "font": {
           "color": "#000000"
          },
          "showarrow": false,
          "text": "1.0",
          "x": "Published Date",
          "xref": "x",
          "y": "Published_ts",
          "yref": "y"
         },
         {
          "font": {
           "color": "#000000"
          },
          "showarrow": false,
          "text": "-0.2",
          "x": "Views",
          "xref": "x",
          "y": "Published_ts",
          "yref": "y"
         },
         {
          "font": {
           "color": "#000000"
          },
          "showarrow": false,
          "text": "-0.18",
          "x": "Likes",
          "xref": "x",
          "y": "Published_ts",
          "yref": "y"
         },
         {
          "font": {
           "color": "#000000"
          },
          "showarrow": false,
          "text": "-0.06",
          "x": "Comments",
          "xref": "x",
          "y": "Published_ts",
          "yref": "y"
         },
         {
          "font": {
           "color": "#000000"
          },
          "showarrow": false,
          "text": "-0.03",
          "x": "Subscribers",
          "xref": "x",
          "y": "Published_ts",
          "yref": "y"
         },
         {
          "font": {
           "color": "#000000"
          },
          "showarrow": false,
          "text": "-0.04",
          "x": "Channel Views",
          "xref": "x",
          "y": "Published_ts",
          "yref": "y"
         },
         {
          "font": {
           "color": "#000000"
          },
          "showarrow": false,
          "text": "-0.04",
          "x": "Country",
          "xref": "x",
          "y": "Published_ts",
          "yref": "y"
         },
         {
          "font": {
           "color": "#000000"
          },
          "showarrow": false,
          "text": "-0.02",
          "x": "Region",
          "xref": "x",
          "y": "Published_ts",
          "yref": "y"
         },
         {
          "font": {
           "color": "#000000"
          },
          "showarrow": false,
          "text": "0.15",
          "x": "CategoryID",
          "xref": "x",
          "y": "Published_ts",
          "yref": "y"
         },
         {
          "font": {
           "color": "#000000"
          },
          "showarrow": false,
          "text": "-0.21",
          "x": "CategoryName",
          "xref": "x",
          "y": "Published_ts",
          "yref": "y"
         },
         {
          "font": {
           "color": "#000000"
          },
          "showarrow": false,
          "text": "-0.14",
          "x": "Cluster",
          "xref": "x",
          "y": "Published_ts",
          "yref": "y"
         },
         {
          "font": {
           "color": "#000000"
          },
          "showarrow": false,
          "text": "-0.05",
          "x": "CategoryID_enc",
          "xref": "x",
          "y": "Published_ts",
          "yref": "y"
         },
         {
          "font": {
           "color": "#000000"
          },
          "showarrow": false,
          "text": "-0.04",
          "x": "Country_enc",
          "xref": "x",
          "y": "Published_ts",
          "yref": "y"
         },
         {
          "font": {
           "color": "#000000"
          },
          "showarrow": false,
          "text": "-0.06",
          "x": "VideoCluster",
          "xref": "x",
          "y": "Published_ts",
          "yref": "y"
         },
         {
          "font": {
           "color": "#000000"
          },
          "showarrow": false,
          "text": "-0.01",
          "x": "Channel_Cluster",
          "xref": "x",
          "y": "Published_ts",
          "yref": "y"
         },
         {
          "font": {
           "color": "#000000"
          },
          "showarrow": false,
          "text": "-0.18",
          "x": "Video_Cluster",
          "xref": "x",
          "y": "Published_ts",
          "yref": "y"
         },
         {
          "font": {
           "color": "#000000"
          },
          "showarrow": false,
          "text": "0.02",
          "x": "Country_Cluster_x",
          "xref": "x",
          "y": "Published_ts",
          "yref": "y"
         },
         {
          "font": {
           "color": "#000000"
          },
          "showarrow": false,
          "text": "0.26",
          "x": "Category_Cluster_x",
          "xref": "x",
          "y": "Published_ts",
          "yref": "y"
         },
         {
          "font": {
           "color": "#000000"
          },
          "showarrow": false,
          "text": "0.02",
          "x": "Country_Cluster_y",
          "xref": "x",
          "y": "Published_ts",
          "yref": "y"
         },
         {
          "font": {
           "color": "#000000"
          },
          "showarrow": false,
          "text": "0.26",
          "x": "Category_Cluster_y",
          "xref": "x",
          "y": "Published_ts",
          "yref": "y"
         },
         {
          "font": {
           "color": "#000000"
          },
          "showarrow": false,
          "text": "nan",
          "x": "Year",
          "xref": "x",
          "y": "Published_ts",
          "yref": "y"
         },
         {
          "font": {
           "color": "#000000"
          },
          "showarrow": false,
          "text": "0.66",
          "x": "Month",
          "xref": "x",
          "y": "Published_ts",
          "yref": "y"
         },
         {
          "font": {
           "color": "#000000"
          },
          "showarrow": false,
          "text": "0.49",
          "x": "Day",
          "xref": "x",
          "y": "Published_ts",
          "yref": "y"
         },
         {
          "font": {
           "color": "#000000"
          },
          "showarrow": false,
          "text": "0.28",
          "x": "DayOfWeek",
          "xref": "x",
          "y": "Published_ts",
          "yref": "y"
         },
         {
          "font": {
           "color": "#000000"
          },
          "showarrow": false,
          "text": "-0.11",
          "x": "DayName",
          "xref": "x",
          "y": "Published_ts",
          "yref": "y"
         },
         {
          "font": {
           "color": "#000000"
          },
          "showarrow": false,
          "text": "-0.08",
          "x": "Views_per_Sub",
          "xref": "x",
          "y": "Published_ts",
          "yref": "y"
         },
         {
          "font": {
           "color": "#000000"
          },
          "showarrow": false,
          "text": "0.17",
          "x": "Engagement",
          "xref": "x",
          "y": "Published_ts",
          "yref": "y"
         },
         {
          "font": {
           "color": "#000000"
          },
          "showarrow": false,
          "text": "-0.04",
          "x": "Like_per_Sub",
          "xref": "x",
          "y": "Published_ts",
          "yref": "y"
         },
         {
          "font": {
           "color": "#000000"
          },
          "showarrow": false,
          "text": "-0.0",
          "x": "Comment_per_Sub",
          "xref": "x",
          "y": "Published_ts",
          "yref": "y"
         },
         {
          "font": {
           "color": "#000000"
          },
          "showarrow": false,
          "text": "1.0",
          "x": "Published_ts",
          "xref": "x",
          "y": "Published_ts",
          "yref": "y"
         }
        ],
        "template": {
         "data": {
          "bar": [
           {
            "error_x": {
             "color": "#2a3f5f"
            },
            "error_y": {
             "color": "#2a3f5f"
            },
            "marker": {
             "line": {
              "color": "#E5ECF6",
              "width": 0.5
             },
             "pattern": {
              "fillmode": "overlay",
              "size": 10,
              "solidity": 0.2
             }
            },
            "type": "bar"
           }
          ],
          "barpolar": [
           {
            "marker": {
             "line": {
              "color": "#E5ECF6",
              "width": 0.5
             },
             "pattern": {
              "fillmode": "overlay",
              "size": 10,
              "solidity": 0.2
             }
            },
            "type": "barpolar"
           }
          ],
          "carpet": [
           {
            "aaxis": {
             "endlinecolor": "#2a3f5f",
             "gridcolor": "white",
             "linecolor": "white",
             "minorgridcolor": "white",
             "startlinecolor": "#2a3f5f"
            },
            "baxis": {
             "endlinecolor": "#2a3f5f",
             "gridcolor": "white",
             "linecolor": "white",
             "minorgridcolor": "white",
             "startlinecolor": "#2a3f5f"
            },
            "type": "carpet"
           }
          ],
          "choropleth": [
           {
            "colorbar": {
             "outlinewidth": 0,
             "ticks": ""
            },
            "type": "choropleth"
           }
          ],
          "contour": [
           {
            "colorbar": {
             "outlinewidth": 0,
             "ticks": ""
            },
            "colorscale": [
             [
              0,
              "#0d0887"
             ],
             [
              0.1111111111111111,
              "#46039f"
             ],
             [
              0.2222222222222222,
              "#7201a8"
             ],
             [
              0.3333333333333333,
              "#9c179e"
             ],
             [
              0.4444444444444444,
              "#bd3786"
             ],
             [
              0.5555555555555556,
              "#d8576b"
             ],
             [
              0.6666666666666666,
              "#ed7953"
             ],
             [
              0.7777777777777778,
              "#fb9f3a"
             ],
             [
              0.8888888888888888,
              "#fdca26"
             ],
             [
              1,
              "#f0f921"
             ]
            ],
            "type": "contour"
           }
          ],
          "contourcarpet": [
           {
            "colorbar": {
             "outlinewidth": 0,
             "ticks": ""
            },
            "type": "contourcarpet"
           }
          ],
          "heatmap": [
           {
            "colorbar": {
             "outlinewidth": 0,
             "ticks": ""
            },
            "colorscale": [
             [
              0,
              "#0d0887"
             ],
             [
              0.1111111111111111,
              "#46039f"
             ],
             [
              0.2222222222222222,
              "#7201a8"
             ],
             [
              0.3333333333333333,
              "#9c179e"
             ],
             [
              0.4444444444444444,
              "#bd3786"
             ],
             [
              0.5555555555555556,
              "#d8576b"
             ],
             [
              0.6666666666666666,
              "#ed7953"
             ],
             [
              0.7777777777777778,
              "#fb9f3a"
             ],
             [
              0.8888888888888888,
              "#fdca26"
             ],
             [
              1,
              "#f0f921"
             ]
            ],
            "type": "heatmap"
           }
          ],
          "histogram": [
           {
            "marker": {
             "pattern": {
              "fillmode": "overlay",
              "size": 10,
              "solidity": 0.2
             }
            },
            "type": "histogram"
           }
          ],
          "histogram2d": [
           {
            "colorbar": {
             "outlinewidth": 0,
             "ticks": ""
            },
            "colorscale": [
             [
              0,
              "#0d0887"
             ],
             [
              0.1111111111111111,
              "#46039f"
             ],
             [
              0.2222222222222222,
              "#7201a8"
             ],
             [
              0.3333333333333333,
              "#9c179e"
             ],
             [
              0.4444444444444444,
              "#bd3786"
             ],
             [
              0.5555555555555556,
              "#d8576b"
             ],
             [
              0.6666666666666666,
              "#ed7953"
             ],
             [
              0.7777777777777778,
              "#fb9f3a"
             ],
             [
              0.8888888888888888,
              "#fdca26"
             ],
             [
              1,
              "#f0f921"
             ]
            ],
            "type": "histogram2d"
           }
          ],
          "histogram2dcontour": [
           {
            "colorbar": {
             "outlinewidth": 0,
             "ticks": ""
            },
            "colorscale": [
             [
              0,
              "#0d0887"
             ],
             [
              0.1111111111111111,
              "#46039f"
             ],
             [
              0.2222222222222222,
              "#7201a8"
             ],
             [
              0.3333333333333333,
              "#9c179e"
             ],
             [
              0.4444444444444444,
              "#bd3786"
             ],
             [
              0.5555555555555556,
              "#d8576b"
             ],
             [
              0.6666666666666666,
              "#ed7953"
             ],
             [
              0.7777777777777778,
              "#fb9f3a"
             ],
             [
              0.8888888888888888,
              "#fdca26"
             ],
             [
              1,
              "#f0f921"
             ]
            ],
            "type": "histogram2dcontour"
           }
          ],
          "mesh3d": [
           {
            "colorbar": {
             "outlinewidth": 0,
             "ticks": ""
            },
            "type": "mesh3d"
           }
          ],
          "parcoords": [
           {
            "line": {
             "colorbar": {
              "outlinewidth": 0,
              "ticks": ""
             }
            },
            "type": "parcoords"
           }
          ],
          "pie": [
           {
            "automargin": true,
            "type": "pie"
           }
          ],
          "scatter": [
           {
            "fillpattern": {
             "fillmode": "overlay",
             "size": 10,
             "solidity": 0.2
            },
            "type": "scatter"
           }
          ],
          "scatter3d": [
           {
            "line": {
             "colorbar": {
              "outlinewidth": 0,
              "ticks": ""
             }
            },
            "marker": {
             "colorbar": {
              "outlinewidth": 0,
              "ticks": ""
             }
            },
            "type": "scatter3d"
           }
          ],
          "scattercarpet": [
           {
            "marker": {
             "colorbar": {
              "outlinewidth": 0,
              "ticks": ""
             }
            },
            "type": "scattercarpet"
           }
          ],
          "scattergeo": [
           {
            "marker": {
             "colorbar": {
              "outlinewidth": 0,
              "ticks": ""
             }
            },
            "type": "scattergeo"
           }
          ],
          "scattergl": [
           {
            "marker": {
             "colorbar": {
              "outlinewidth": 0,
              "ticks": ""
             }
            },
            "type": "scattergl"
           }
          ],
          "scattermap": [
           {
            "marker": {
             "colorbar": {
              "outlinewidth": 0,
              "ticks": ""
             }
            },
            "type": "scattermap"
           }
          ],
          "scattermapbox": [
           {
            "marker": {
             "colorbar": {
              "outlinewidth": 0,
              "ticks": ""
             }
            },
            "type": "scattermapbox"
           }
          ],
          "scatterpolar": [
           {
            "marker": {
             "colorbar": {
              "outlinewidth": 0,
              "ticks": ""
             }
            },
            "type": "scatterpolar"
           }
          ],
          "scatterpolargl": [
           {
            "marker": {
             "colorbar": {
              "outlinewidth": 0,
              "ticks": ""
             }
            },
            "type": "scatterpolargl"
           }
          ],
          "scatterternary": [
           {
            "marker": {
             "colorbar": {
              "outlinewidth": 0,
              "ticks": ""
             }
            },
            "type": "scatterternary"
           }
          ],
          "surface": [
           {
            "colorbar": {
             "outlinewidth": 0,
             "ticks": ""
            },
            "colorscale": [
             [
              0,
              "#0d0887"
             ],
             [
              0.1111111111111111,
              "#46039f"
             ],
             [
              0.2222222222222222,
              "#7201a8"
             ],
             [
              0.3333333333333333,
              "#9c179e"
             ],
             [
              0.4444444444444444,
              "#bd3786"
             ],
             [
              0.5555555555555556,
              "#d8576b"
             ],
             [
              0.6666666666666666,
              "#ed7953"
             ],
             [
              0.7777777777777778,
              "#fb9f3a"
             ],
             [
              0.8888888888888888,
              "#fdca26"
             ],
             [
              1,
              "#f0f921"
             ]
            ],
            "type": "surface"
           }
          ],
          "table": [
           {
            "cells": {
             "fill": {
              "color": "#EBF0F8"
             },
             "line": {
              "color": "white"
             }
            },
            "header": {
             "fill": {
              "color": "#C8D4E3"
             },
             "line": {
              "color": "white"
             }
            },
            "type": "table"
           }
          ]
         },
         "layout": {
          "annotationdefaults": {
           "arrowcolor": "#2a3f5f",
           "arrowhead": 0,
           "arrowwidth": 1
          },
          "autotypenumbers": "strict",
          "coloraxis": {
           "colorbar": {
            "outlinewidth": 0,
            "ticks": ""
           }
          },
          "colorscale": {
           "diverging": [
            [
             0,
             "#8e0152"
            ],
            [
             0.1,
             "#c51b7d"
            ],
            [
             0.2,
             "#de77ae"
            ],
            [
             0.3,
             "#f1b6da"
            ],
            [
             0.4,
             "#fde0ef"
            ],
            [
             0.5,
             "#f7f7f7"
            ],
            [
             0.6,
             "#e6f5d0"
            ],
            [
             0.7,
             "#b8e186"
            ],
            [
             0.8,
             "#7fbc41"
            ],
            [
             0.9,
             "#4d9221"
            ],
            [
             1,
             "#276419"
            ]
           ],
           "sequential": [
            [
             0,
             "#0d0887"
            ],
            [
             0.1111111111111111,
             "#46039f"
            ],
            [
             0.2222222222222222,
             "#7201a8"
            ],
            [
             0.3333333333333333,
             "#9c179e"
            ],
            [
             0.4444444444444444,
             "#bd3786"
            ],
            [
             0.5555555555555556,
             "#d8576b"
            ],
            [
             0.6666666666666666,
             "#ed7953"
            ],
            [
             0.7777777777777778,
             "#fb9f3a"
            ],
            [
             0.8888888888888888,
             "#fdca26"
            ],
            [
             1,
             "#f0f921"
            ]
           ],
           "sequentialminus": [
            [
             0,
             "#0d0887"
            ],
            [
             0.1111111111111111,
             "#46039f"
            ],
            [
             0.2222222222222222,
             "#7201a8"
            ],
            [
             0.3333333333333333,
             "#9c179e"
            ],
            [
             0.4444444444444444,
             "#bd3786"
            ],
            [
             0.5555555555555556,
             "#d8576b"
            ],
            [
             0.6666666666666666,
             "#ed7953"
            ],
            [
             0.7777777777777778,
             "#fb9f3a"
            ],
            [
             0.8888888888888888,
             "#fdca26"
            ],
            [
             1,
             "#f0f921"
            ]
           ]
          },
          "colorway": [
           "#636efa",
           "#EF553B",
           "#00cc96",
           "#ab63fa",
           "#FFA15A",
           "#19d3f3",
           "#FF6692",
           "#B6E880",
           "#FF97FF",
           "#FECB52"
          ],
          "font": {
           "color": "#2a3f5f"
          },
          "geo": {
           "bgcolor": "white",
           "lakecolor": "white",
           "landcolor": "#E5ECF6",
           "showlakes": true,
           "showland": true,
           "subunitcolor": "white"
          },
          "hoverlabel": {
           "align": "left"
          },
          "hovermode": "closest",
          "mapbox": {
           "style": "light"
          },
          "paper_bgcolor": "white",
          "plot_bgcolor": "#E5ECF6",
          "polar": {
           "angularaxis": {
            "gridcolor": "white",
            "linecolor": "white",
            "ticks": ""
           },
           "bgcolor": "#E5ECF6",
           "radialaxis": {
            "gridcolor": "white",
            "linecolor": "white",
            "ticks": ""
           }
          },
          "scene": {
           "xaxis": {
            "backgroundcolor": "#E5ECF6",
            "gridcolor": "white",
            "gridwidth": 2,
            "linecolor": "white",
            "showbackground": true,
            "ticks": "",
            "zerolinecolor": "white"
           },
           "yaxis": {
            "backgroundcolor": "#E5ECF6",
            "gridcolor": "white",
            "gridwidth": 2,
            "linecolor": "white",
            "showbackground": true,
            "ticks": "",
            "zerolinecolor": "white"
           },
           "zaxis": {
            "backgroundcolor": "#E5ECF6",
            "gridcolor": "white",
            "gridwidth": 2,
            "linecolor": "white",
            "showbackground": true,
            "ticks": "",
            "zerolinecolor": "white"
           }
          },
          "shapedefaults": {
           "line": {
            "color": "#2a3f5f"
           }
          },
          "ternary": {
           "aaxis": {
            "gridcolor": "white",
            "linecolor": "white",
            "ticks": ""
           },
           "baxis": {
            "gridcolor": "white",
            "linecolor": "white",
            "ticks": ""
           },
           "bgcolor": "#E5ECF6",
           "caxis": {
            "gridcolor": "white",
            "linecolor": "white",
            "ticks": ""
           }
          },
          "title": {
           "x": 0.05
          },
          "xaxis": {
           "automargin": true,
           "gridcolor": "white",
           "linecolor": "white",
           "ticks": "",
           "title": {
            "standoff": 15
           },
           "zerolinecolor": "white",
           "zerolinewidth": 2
          },
          "yaxis": {
           "automargin": true,
           "gridcolor": "white",
           "linecolor": "white",
           "ticks": "",
           "title": {
            "standoff": 15
           },
           "zerolinecolor": "white",
           "zerolinewidth": 2
          }
         }
        },
        "title": {
         "text": "Raqamli ustunlar o'rtasidagi korrelyatsiya matritsasi"
        },
        "xaxis": {
         "dtick": 1,
         "gridcolor": "rgb(0, 0, 0)",
         "side": "top",
         "ticks": ""
        },
        "yaxis": {
         "dtick": 1,
         "ticks": "",
         "ticksuffix": "  "
        }
       }
      }
     },
     "metadata": {},
     "output_type": "display_data"
    }
   ],
   "source": [
    "import numpy as np\n",
    "import plotly.figure_factory as ff\n",
    "\n",
    "# Qiymatlarni 2 xonagacha qisqartirish\n",
    "annot_text = np.around(corr_matrix.values, decimals=2).astype(str)\n",
    "\n",
    "fig = ff.create_annotated_heatmap(\n",
    "    z=corr_matrix.values,\n",
    "    x=list(corr_matrix.columns),\n",
    "    y=list(corr_matrix.index),\n",
    "    annotation_text=annot_text,\n",
    "    colorscale='Viridis',\n",
    "    showscale=True\n",
    ")\n",
    "\n",
    "fig.update_layout(title='Raqamli ustunlar o\\'rtasidagi korrelyatsiya matritsasi')\n",
    "fig.show()"
   ]
  },
  {
   "cell_type": "markdown",
   "id": "d65fbfaf",
   "metadata": {},
   "source": [
    "# Feature Selection Filtering "
   ]
  },
  {
   "cell_type": "code",
   "execution_count": 6,
   "id": "ec4ee4a2",
   "metadata": {},
   "outputs": [
    {
     "name": "stdout",
     "output_type": "stream",
     "text": [
      "                    Unnamed: 0  Video ID  Video Title   Channel  \\\n",
      "Unnamed: 0            1.000000  0.003286     0.007227  0.009950   \n",
      "Video ID              0.003286  1.000000     0.003645  0.001701   \n",
      "Video Title           0.007227  0.003645     1.000000  0.159717   \n",
      "Channel               0.009950  0.001701     0.159717  1.000000   \n",
      "Published Date        0.002673  0.015379     0.001231  0.007830   \n",
      "Views                 0.005807  0.015091     0.028342  0.000031   \n",
      "Likes                 0.007851  0.005348     0.028292  0.001984   \n",
      "Comments              0.010224  0.001029     0.014110  0.010213   \n",
      "Subscribers           0.002241  0.001356     0.016549  0.002822   \n",
      "Channel Views         0.002554  0.002265     0.012593  0.011309   \n",
      "Country               0.024975  0.006360     0.024125  0.010894   \n",
      "Region                0.001248  0.012039     0.035045  0.014039   \n",
      "CategoryID            0.004159  0.006255     0.019482  0.007491   \n",
      "CategoryName          0.006378  0.005755     0.006783  0.021591   \n",
      "Cluster               0.008608  0.008388     0.038029  0.003722   \n",
      "CategoryID_enc        0.011170  0.010668     0.010831  0.028044   \n",
      "Country_enc           0.024975  0.006360     0.024125  0.010894   \n",
      "VideoCluster          0.015907  0.007214     0.017059  0.023669   \n",
      "Channel_Cluster       0.007409  0.003674     0.002471  0.015814   \n",
      "Video_Cluster         0.018323  0.004717     0.016417  0.009499   \n",
      "Country_Cluster_x     0.015598  0.025230     0.046931  0.036635   \n",
      "Category_Cluster_x    0.006668  0.008795     0.008424  0.001659   \n",
      "Country_Cluster_y     0.015598  0.025230     0.046931  0.036635   \n",
      "Category_Cluster_y    0.006668  0.008795     0.008424  0.001659   \n",
      "Year                       NaN       NaN          NaN       NaN   \n",
      "Month                 0.003017  0.018616     0.007968  0.004309   \n",
      "Day                   0.000355  0.002569     0.003354  0.007380   \n",
      "DayOfWeek             0.005220  0.000440     0.004751  0.002715   \n",
      "DayName               0.002239  0.009044     0.020501  0.009579   \n",
      "Views_per_Sub         0.005197  0.003496     0.009889  0.007920   \n",
      "Engagement            0.011625  0.023290     0.030248  0.037259   \n",
      "Like_per_Sub          0.009545  0.001663     0.008166  0.004755   \n",
      "Comment_per_Sub       0.010048  0.002313     0.004875  0.002164   \n",
      "Published_ts          0.002673  0.015379     0.001231  0.007830   \n",
      "\n",
      "                    Published Date     Views     Likes  Comments  Subscribers  \\\n",
      "Unnamed: 0                0.002673  0.005807  0.007851  0.010224     0.002241   \n",
      "Video ID                  0.015379  0.015091  0.005348  0.001029     0.001356   \n",
      "Video Title               0.001231  0.028342  0.028292  0.014110     0.016549   \n",
      "Channel                   0.007830  0.000031  0.001984  0.010213     0.002822   \n",
      "Published Date            1.000000  0.204588  0.177294  0.058291     0.034708   \n",
      "Views                     0.204588  1.000000  0.750480  0.105712     0.144504   \n",
      "Likes                     0.177294  0.750480  1.000000  0.209166     0.150207   \n",
      "Comments                  0.058291  0.105712  0.209166  1.000000     0.145910   \n",
      "Subscribers               0.034708  0.144504  0.150207  0.145910     1.000000   \n",
      "Channel Views             0.040609  0.146343  0.130465  0.064933     0.945844   \n",
      "Country                   0.044318  0.026170  0.031591  0.013777     0.033991   \n",
      "Region                    0.022573  0.053706  0.095293  0.032653     0.037622   \n",
      "CategoryID                0.153297  0.036286  0.053634  0.000694     0.011722   \n",
      "CategoryName              0.214752  0.142818  0.137708  0.001524     0.001479   \n",
      "Cluster                   0.137625  0.735839  0.738545  0.209687     0.163995   \n",
      "CategoryID_enc            0.049601  0.122472  0.103925  0.001151     0.002928   \n",
      "Country_enc               0.044318  0.026170  0.031591  0.013777     0.033991   \n",
      "VideoCluster              0.057494  0.406249  0.382320  0.084568     0.032184   \n",
      "Channel_Cluster           0.013402  0.205241  0.183304  0.099737     0.491896   \n",
      "Video_Cluster             0.183661  0.550441  0.478945  0.070388     0.101935   \n",
      "Country_Cluster_x         0.023322  0.222667  0.167207  0.042424     0.140660   \n",
      "Category_Cluster_x        0.258963  0.017010  0.005666  0.022925     0.015685   \n",
      "Country_Cluster_y         0.023322  0.222667  0.167207  0.042424     0.140660   \n",
      "Category_Cluster_y        0.258963  0.017010  0.005666  0.022925     0.015685   \n",
      "Year                           NaN       NaN       NaN       NaN          NaN   \n",
      "Month                     0.660666  0.071828  0.073332  0.051752     0.032889   \n",
      "Day                       0.490941  0.171775  0.138967  0.012282     0.004919   \n",
      "DayOfWeek                 0.275126  0.099027  0.076869  0.025999     0.007143   \n",
      "DayName                   0.106755  0.022030  0.015985  0.017748     0.027507   \n",
      "Views_per_Sub             0.081411  0.046168  0.036023  0.001297     0.014323   \n",
      "Engagement                0.169588  0.143315  0.025454  0.389090     0.027819   \n",
      "Like_per_Sub              0.042711  0.017040  0.026780  0.002436     0.008938   \n",
      "Comment_per_Sub           0.002159  0.003609  0.002423  0.001961     0.003219   \n",
      "Published_ts              1.000000  0.204588  0.177294  0.058291     0.034708   \n",
      "\n",
      "                    Channel Views  ...  Year     Month       Day  DayOfWeek  \\\n",
      "Unnamed: 0               0.002554  ...   NaN  0.003017  0.000355   0.005220   \n",
      "Video ID                 0.002265  ...   NaN  0.018616  0.002569   0.000440   \n",
      "Video Title              0.012593  ...   NaN  0.007968  0.003354   0.004751   \n",
      "Channel                  0.011309  ...   NaN  0.004309  0.007380   0.002715   \n",
      "Published Date           0.040609  ...   NaN  0.660666  0.490941   0.275126   \n",
      "Views                    0.146343  ...   NaN  0.071828  0.171775   0.099027   \n",
      "Likes                    0.130465  ...   NaN  0.073332  0.138967   0.076869   \n",
      "Comments                 0.064933  ...   NaN  0.051752  0.012282   0.025999   \n",
      "Subscribers              0.945844  ...   NaN  0.032889  0.004919   0.007143   \n",
      "Channel Views            1.000000  ...   NaN  0.026224  0.019480   0.002270   \n",
      "Country                  0.018940  ...   NaN  0.008403  0.040903   0.023893   \n",
      "Region                   0.028635  ...   NaN  0.013780  0.006120   0.005127   \n",
      "CategoryID               0.023023  ...   NaN  0.052194  0.133512   0.033963   \n",
      "CategoryName             0.029205  ...   NaN  0.040347  0.221955   0.155004   \n",
      "Cluster                  0.159825  ...   NaN  0.067232  0.095265   0.065214   \n",
      "CategoryID_enc           0.002346  ...   NaN  0.050096  0.005345   0.000137   \n",
      "Country_enc              0.018940  ...   NaN  0.008403  0.040903   0.023893   \n",
      "VideoCluster             0.042718  ...   NaN  0.000170  0.068781   0.041422   \n",
      "Channel_Cluster          0.443141  ...   NaN  0.005807  0.009117   0.010175   \n",
      "Video_Cluster            0.092748  ...   NaN  0.054381  0.164826   0.095391   \n",
      "Country_Cluster_x        0.121250  ...   NaN  0.021157  0.003187   0.035166   \n",
      "Category_Cluster_x       0.018009  ...   NaN  0.141727  0.161456   0.052741   \n",
      "Country_Cluster_y        0.121250  ...   NaN  0.021157  0.003187   0.035166   \n",
      "Category_Cluster_y       0.018009  ...   NaN  0.141727  0.161456   0.052741   \n",
      "Year                          NaN  ...   NaN       NaN       NaN        NaN   \n",
      "Month                    0.026224  ...   NaN  1.000000  0.327672   0.046884   \n",
      "Day                      0.019480  ...   NaN  0.327672  1.000000   0.288369   \n",
      "DayOfWeek                0.002270  ...   NaN  0.046884  0.288369   1.000000   \n",
      "DayName                  0.026097  ...   NaN  0.003847  0.141123   0.254421   \n",
      "Views_per_Sub            0.010850  ...   NaN  0.054411  0.038543   0.031862   \n",
      "Engagement               0.020310  ...   NaN  0.042729  0.157804   0.101607   \n",
      "Like_per_Sub             0.006820  ...   NaN  0.028450  0.020730   0.017980   \n",
      "Comment_per_Sub          0.002502  ...   NaN  0.000400  0.003568   0.005352   \n",
      "Published_ts             0.040609  ...   NaN  0.660666  0.490941   0.275126   \n",
      "\n",
      "                     DayName  Views_per_Sub  Engagement  Like_per_Sub  \\\n",
      "Unnamed: 0          0.002239       0.005197    0.011625      0.009545   \n",
      "Video ID            0.009044       0.003496    0.023290      0.001663   \n",
      "Video Title         0.020501       0.009889    0.030248      0.008166   \n",
      "Channel             0.009579       0.007920    0.037259      0.004755   \n",
      "Published Date      0.106755       0.081411    0.169588      0.042711   \n",
      "Views               0.022030       0.046168    0.143315      0.017040   \n",
      "Likes               0.015985       0.036023    0.025454      0.026780   \n",
      "Comments            0.017748       0.001297    0.389090      0.002436   \n",
      "Subscribers         0.027507       0.014323    0.027819      0.008938   \n",
      "Channel Views       0.026097       0.010850    0.020310      0.006820   \n",
      "Country             0.008946       0.022008    0.098839      0.014730   \n",
      "Region              0.003227       0.010781    0.110519      0.000854   \n",
      "CategoryID          0.018667       0.033643    0.101366      0.026479   \n",
      "CategoryName        0.056122       0.037282    0.291444      0.024984   \n",
      "Cluster             0.012282       0.036212    0.006517      0.021850   \n",
      "CategoryID_enc      0.020146       0.000756    0.090929      0.002446   \n",
      "Country_enc         0.008946       0.022008    0.098839      0.014730   \n",
      "VideoCluster        0.013322       0.024844    0.127243      0.012827   \n",
      "Channel_Cluster     0.011064       0.014543    0.009457      0.009075   \n",
      "Video_Cluster       0.039121       0.025779    0.140915      0.008933   \n",
      "Country_Cluster_x   0.004771       0.020677    0.130697      0.011887   \n",
      "Category_Cluster_x  0.009597       0.043460    0.107038      0.029293   \n",
      "Country_Cluster_y   0.004771       0.020677    0.130697      0.011887   \n",
      "Category_Cluster_y  0.009597       0.043460    0.107038      0.029293   \n",
      "Year                     NaN            NaN         NaN           NaN   \n",
      "Month               0.003847       0.054411    0.042729      0.028450   \n",
      "Day                 0.141123       0.038543    0.157804      0.020730   \n",
      "DayOfWeek           0.254421       0.031862    0.101607      0.017980   \n",
      "DayName             1.000000       0.021006    0.053492      0.015968   \n",
      "Views_per_Sub       0.021006       1.000000    0.016291      0.800005   \n",
      "Engagement          0.053492       0.016291    1.000000      0.007489   \n",
      "Like_per_Sub        0.015968       0.800005    0.007489      1.000000   \n",
      "Comment_per_Sub     0.008666       0.483370    0.015522      0.902231   \n",
      "Published_ts        0.106755       0.081411    0.169588      0.042711   \n",
      "\n",
      "                    Comment_per_Sub  Published_ts  \n",
      "Unnamed: 0                 0.010048      0.002673  \n",
      "Video ID                   0.002313      0.015379  \n",
      "Video Title                0.004875      0.001231  \n",
      "Channel                    0.002164      0.007830  \n",
      "Published Date             0.002159      1.000000  \n",
      "Views                      0.003609      0.204588  \n",
      "Likes                      0.002423      0.177294  \n",
      "Comments                   0.001961      0.058291  \n",
      "Subscribers                0.003219      0.034708  \n",
      "Channel Views              0.002502      0.040609  \n",
      "Country                    0.005593      0.044318  \n",
      "Region                     0.001140      0.022573  \n",
      "CategoryID                 0.011204      0.153297  \n",
      "CategoryName               0.009190      0.214752  \n",
      "Cluster                    0.001466      0.137625  \n",
      "CategoryID_enc             0.004075      0.049601  \n",
      "Country_enc                0.005593      0.044318  \n",
      "VideoCluster               0.000954      0.057494  \n",
      "Channel_Cluster            0.003251      0.013402  \n",
      "Video_Cluster              0.004359      0.183661  \n",
      "Country_Cluster_x          0.004257      0.023322  \n",
      "Category_Cluster_x         0.016065      0.258963  \n",
      "Country_Cluster_y          0.004257      0.023322  \n",
      "Category_Cluster_y         0.016065      0.258963  \n",
      "Year                            NaN           NaN  \n",
      "Month                      0.000400      0.660666  \n",
      "Day                        0.003568      0.490941  \n",
      "DayOfWeek                  0.005352      0.275126  \n",
      "DayName                    0.008666      0.106755  \n",
      "Views_per_Sub              0.483370      0.081411  \n",
      "Engagement                 0.015522      0.169588  \n",
      "Like_per_Sub               0.902231      0.042711  \n",
      "Comment_per_Sub            1.000000      0.002159  \n",
      "Published_ts               0.002159      1.000000  \n",
      "\n",
      "[34 rows x 34 columns]\n"
     ]
    }
   ],
   "source": [
    "import seaborn as sns               \n",
    "import matplotlib.pyplot as plt     \n",
    "\n",
    "\n",
    "corr_matrix = df.corr().abs()  \n",
    "\n",
    "upper = corr_matrix.where(np.triu(np.ones(corr_matrix.shape), k=1).astype(bool))  \n",
    "\n",
    "\n",
    "to_drop = [col for col in upper.columns if any(upper[col] > 0.8)]  \n",
    "corr_matrix = df.corr().abs() \n",
    "print(corr_matrix)  \n"
   ]
  },
  {
   "cell_type": "code",
   "execution_count": 7,
   "id": "a0136db8",
   "metadata": {},
   "outputs": [
    {
     "name": "stdout",
     "output_type": "stream",
     "text": [
      "\n",
      "Original shape: (8493, 34)\n",
      "Shape after dropping correlated features: (8493, 30)\n"
     ]
    }
   ],
   "source": [
    "\n",
    "import numpy as np   \n",
    "\n",
    "corr_matrix = df.corr().abs()  \n",
    "\n",
    "upper = corr_matrix.where(np.triu(np.ones(corr_matrix.shape), k=1).astype(bool))  \n",
    "\n",
    "to_drop = [col for col in upper.columns if any(upper[col] > 0.95)]  \n",
    "\n",
    "df_filtered = df.drop(columns=to_drop)  \n",
    "print(\"\\nOriginal shape:\", df.shape)  \n",
    "\n",
    "print(\"Shape after dropping correlated features:\", df_filtered.shape) \n"
   ]
  },
  {
   "cell_type": "code",
   "execution_count": 8,
   "id": "e7f7f0c7",
   "metadata": {},
   "outputs": [
    {
     "name": "stdout",
     "output_type": "stream",
     "text": [
      "<class 'pandas.core.frame.DataFrame'>\n",
      "RangeIndex: 8493 entries, 0 to 8492\n",
      "Data columns (total 30 columns):\n",
      " #   Column              Non-Null Count  Dtype  \n",
      "---  ------              --------------  -----  \n",
      " 0   Unnamed: 0          8493 non-null   int64  \n",
      " 1   Video ID            8493 non-null   float64\n",
      " 2   Video Title         8493 non-null   float64\n",
      " 3   Channel             8493 non-null   float64\n",
      " 4   Published Date      8493 non-null   float64\n",
      " 5   Views               8493 non-null   float64\n",
      " 6   Likes               8493 non-null   float64\n",
      " 7   Comments            8493 non-null   float64\n",
      " 8   Subscribers         8493 non-null   float64\n",
      " 9   Channel Views       8493 non-null   float64\n",
      " 10  Country             8493 non-null   float64\n",
      " 11  Region              8493 non-null   float64\n",
      " 12  CategoryID          8493 non-null   float64\n",
      " 13  CategoryName        8493 non-null   float64\n",
      " 14  Cluster             8493 non-null   float64\n",
      " 15  CategoryID_enc      8493 non-null   float64\n",
      " 16  VideoCluster        8493 non-null   float64\n",
      " 17  Channel_Cluster     8493 non-null   float64\n",
      " 18  Video_Cluster       8493 non-null   float64\n",
      " 19  Country_Cluster_x   8493 non-null   float64\n",
      " 20  Category_Cluster_x  8493 non-null   float64\n",
      " 21  Year                8493 non-null   float64\n",
      " 22  Month               8493 non-null   float64\n",
      " 23  Day                 8493 non-null   float64\n",
      " 24  DayOfWeek           8493 non-null   float64\n",
      " 25  DayName             8493 non-null   float64\n",
      " 26  Views_per_Sub       8493 non-null   float64\n",
      " 27  Engagement          8493 non-null   float64\n",
      " 28  Like_per_Sub        8493 non-null   float64\n",
      " 29  Comment_per_Sub     8493 non-null   float64\n",
      "dtypes: float64(29), int64(1)\n",
      "memory usage: 1.9 MB\n"
     ]
    }
   ],
   "source": [
    "df_filtered.info()"
   ]
  },
  {
   "cell_type": "code",
   "execution_count": 9,
   "id": "9afc877c",
   "metadata": {},
   "outputs": [
    {
     "name": "stdout",
     "output_type": "stream",
     "text": [
      "Highly correlated feature pairs (correlation > 0.95):\n",
      "            Feature 1           Feature 2  Correlation\n",
      "0             Country         Country_enc          1.0\n",
      "1   Country_Cluster_x   Country_Cluster_y          1.0\n",
      "2  Category_Cluster_x  Category_Cluster_y          1.0\n",
      "3      Published Date        Published_ts          1.0\n"
     ]
    }
   ],
   "source": [
    "# Yuqori korrelyatsiyaga ega juftliklarni saqlash uchun bo‘sh ro‘yxat yaratamiz\n",
    "high_corr_pairs = []\n",
    "\n",
    "\n",
    "for col in upper.columns:\n",
    "    \n",
    "    for row in upper.index:\n",
    "        \n",
    "        if upper.loc[row, col] is not np.nan and upper.loc[row, col] > 0.95:\n",
    "            \n",
    "            high_corr_pairs.append([row, col, round(upper.loc[row, col], 2)])\n",
    "\n",
    "\n",
    "corr_table = pd.DataFrame(high_corr_pairs, columns=['Feature 1', 'Feature 2', 'Correlation'])\n",
    "\n",
    "print(\"Highly correlated feature pairs (correlation > 0.95):\")\n",
    "print(corr_table)"
   ]
  },
  {
   "cell_type": "code",
   "execution_count": 10,
   "id": "034e899c",
   "metadata": {},
   "outputs": [
    {
     "data": {
      "application/vnd.plotly.v1+json": {
       "config": {
        "plotlyServerURL": "https://plot.ly"
       },
       "data": [
        {
         "coloraxis": "coloraxis",
         "hovertemplate": "x: %{x}<br>y: %{y}<br>color: %{z}<extra></extra>",
         "name": "0",
         "texttemplate": "%{z:.2f}",
         "type": "heatmap",
         "x": [
          "Unnamed: 0",
          "Video ID",
          "Video Title",
          "Channel",
          "Published Date",
          "Views",
          "Likes",
          "Comments",
          "Subscribers",
          "Channel Views",
          "Country",
          "Region",
          "CategoryID",
          "CategoryName",
          "Cluster",
          "CategoryID_enc",
          "Country_enc",
          "VideoCluster",
          "Channel_Cluster",
          "Video_Cluster",
          "Country_Cluster_x",
          "Category_Cluster_x",
          "Country_Cluster_y",
          "Category_Cluster_y",
          "Year",
          "Month",
          "Day",
          "DayOfWeek",
          "DayName",
          "Views_per_Sub",
          "Engagement",
          "Like_per_Sub",
          "Comment_per_Sub",
          "Published_ts"
         ],
         "xaxis": "x",
         "y": [
          "Unnamed: 0",
          "Video ID",
          "Video Title",
          "Channel",
          "Published Date",
          "Views",
          "Likes",
          "Comments",
          "Subscribers",
          "Channel Views",
          "Country",
          "Region",
          "CategoryID",
          "CategoryName",
          "Cluster",
          "CategoryID_enc",
          "Country_enc",
          "VideoCluster",
          "Channel_Cluster",
          "Video_Cluster",
          "Country_Cluster_x",
          "Category_Cluster_x",
          "Country_Cluster_y",
          "Category_Cluster_y",
          "Year",
          "Month",
          "Day",
          "DayOfWeek",
          "DayName",
          "Views_per_Sub",
          "Engagement",
          "Like_per_Sub",
          "Comment_per_Sub",
          "Published_ts"
         ],
         "yaxis": "y",
         "z": {
          "bdata": "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",
          "dtype": "f8",
          "shape": "34, 34"
         }
        }
       ],
       "layout": {
        "coloraxis": {
         "cmax": 1,
         "cmin": -1,
         "colorscale": [
          [
           0,
           "rgb(5,48,97)"
          ],
          [
           0.1,
           "rgb(33,102,172)"
          ],
          [
           0.2,
           "rgb(67,147,195)"
          ],
          [
           0.3,
           "rgb(146,197,222)"
          ],
          [
           0.4,
           "rgb(209,229,240)"
          ],
          [
           0.5,
           "rgb(247,247,247)"
          ],
          [
           0.6,
           "rgb(253,219,199)"
          ],
          [
           0.7,
           "rgb(244,165,130)"
          ],
          [
           0.8,
           "rgb(214,96,77)"
          ],
          [
           0.9,
           "rgb(178,24,43)"
          ],
          [
           1,
           "rgb(103,0,31)"
          ]
         ]
        },
        "height": 800,
        "template": {
         "data": {
          "bar": [
           {
            "error_x": {
             "color": "#2a3f5f"
            },
            "error_y": {
             "color": "#2a3f5f"
            },
            "marker": {
             "line": {
              "color": "#E5ECF6",
              "width": 0.5
             },
             "pattern": {
              "fillmode": "overlay",
              "size": 10,
              "solidity": 0.2
             }
            },
            "type": "bar"
           }
          ],
          "barpolar": [
           {
            "marker": {
             "line": {
              "color": "#E5ECF6",
              "width": 0.5
             },
             "pattern": {
              "fillmode": "overlay",
              "size": 10,
              "solidity": 0.2
             }
            },
            "type": "barpolar"
           }
          ],
          "carpet": [
           {
            "aaxis": {
             "endlinecolor": "#2a3f5f",
             "gridcolor": "white",
             "linecolor": "white",
             "minorgridcolor": "white",
             "startlinecolor": "#2a3f5f"
            },
            "baxis": {
             "endlinecolor": "#2a3f5f",
             "gridcolor": "white",
             "linecolor": "white",
             "minorgridcolor": "white",
             "startlinecolor": "#2a3f5f"
            },
            "type": "carpet"
           }
          ],
          "choropleth": [
           {
            "colorbar": {
             "outlinewidth": 0,
             "ticks": ""
            },
            "type": "choropleth"
           }
          ],
          "contour": [
           {
            "colorbar": {
             "outlinewidth": 0,
             "ticks": ""
            },
            "colorscale": [
             [
              0,
              "#0d0887"
             ],
             [
              0.1111111111111111,
              "#46039f"
             ],
             [
              0.2222222222222222,
              "#7201a8"
             ],
             [
              0.3333333333333333,
              "#9c179e"
             ],
             [
              0.4444444444444444,
              "#bd3786"
             ],
             [
              0.5555555555555556,
              "#d8576b"
             ],
             [
              0.6666666666666666,
              "#ed7953"
             ],
             [
              0.7777777777777778,
              "#fb9f3a"
             ],
             [
              0.8888888888888888,
              "#fdca26"
             ],
             [
              1,
              "#f0f921"
             ]
            ],
            "type": "contour"
           }
          ],
          "contourcarpet": [
           {
            "colorbar": {
             "outlinewidth": 0,
             "ticks": ""
            },
            "type": "contourcarpet"
           }
          ],
          "heatmap": [
           {
            "colorbar": {
             "outlinewidth": 0,
             "ticks": ""
            },
            "colorscale": [
             [
              0,
              "#0d0887"
             ],
             [
              0.1111111111111111,
              "#46039f"
             ],
             [
              0.2222222222222222,
              "#7201a8"
             ],
             [
              0.3333333333333333,
              "#9c179e"
             ],
             [
              0.4444444444444444,
              "#bd3786"
             ],
             [
              0.5555555555555556,
              "#d8576b"
             ],
             [
              0.6666666666666666,
              "#ed7953"
             ],
             [
              0.7777777777777778,
              "#fb9f3a"
             ],
             [
              0.8888888888888888,
              "#fdca26"
             ],
             [
              1,
              "#f0f921"
             ]
            ],
            "type": "heatmap"
           }
          ],
          "histogram": [
           {
            "marker": {
             "pattern": {
              "fillmode": "overlay",
              "size": 10,
              "solidity": 0.2
             }
            },
            "type": "histogram"
           }
          ],
          "histogram2d": [
           {
            "colorbar": {
             "outlinewidth": 0,
             "ticks": ""
            },
            "colorscale": [
             [
              0,
              "#0d0887"
             ],
             [
              0.1111111111111111,
              "#46039f"
             ],
             [
              0.2222222222222222,
              "#7201a8"
             ],
             [
              0.3333333333333333,
              "#9c179e"
             ],
             [
              0.4444444444444444,
              "#bd3786"
             ],
             [
              0.5555555555555556,
              "#d8576b"
             ],
             [
              0.6666666666666666,
              "#ed7953"
             ],
             [
              0.7777777777777778,
              "#fb9f3a"
             ],
             [
              0.8888888888888888,
              "#fdca26"
             ],
             [
              1,
              "#f0f921"
             ]
            ],
            "type": "histogram2d"
           }
          ],
          "histogram2dcontour": [
           {
            "colorbar": {
             "outlinewidth": 0,
             "ticks": ""
            },
            "colorscale": [
             [
              0,
              "#0d0887"
             ],
             [
              0.1111111111111111,
              "#46039f"
             ],
             [
              0.2222222222222222,
              "#7201a8"
             ],
             [
              0.3333333333333333,
              "#9c179e"
             ],
             [
              0.4444444444444444,
              "#bd3786"
             ],
             [
              0.5555555555555556,
              "#d8576b"
             ],
             [
              0.6666666666666666,
              "#ed7953"
             ],
             [
              0.7777777777777778,
              "#fb9f3a"
             ],
             [
              0.8888888888888888,
              "#fdca26"
             ],
             [
              1,
              "#f0f921"
             ]
            ],
            "type": "histogram2dcontour"
           }
          ],
          "mesh3d": [
           {
            "colorbar": {
             "outlinewidth": 0,
             "ticks": ""
            },
            "type": "mesh3d"
           }
          ],
          "parcoords": [
           {
            "line": {
             "colorbar": {
              "outlinewidth": 0,
              "ticks": ""
             }
            },
            "type": "parcoords"
           }
          ],
          "pie": [
           {
            "automargin": true,
            "type": "pie"
           }
          ],
          "scatter": [
           {
            "fillpattern": {
             "fillmode": "overlay",
             "size": 10,
             "solidity": 0.2
            },
            "type": "scatter"
           }
          ],
          "scatter3d": [
           {
            "line": {
             "colorbar": {
              "outlinewidth": 0,
              "ticks": ""
             }
            },
            "marker": {
             "colorbar": {
              "outlinewidth": 0,
              "ticks": ""
             }
            },
            "type": "scatter3d"
           }
          ],
          "scattercarpet": [
           {
            "marker": {
             "colorbar": {
              "outlinewidth": 0,
              "ticks": ""
             }
            },
            "type": "scattercarpet"
           }
          ],
          "scattergeo": [
           {
            "marker": {
             "colorbar": {
              "outlinewidth": 0,
              "ticks": ""
             }
            },
            "type": "scattergeo"
           }
          ],
          "scattergl": [
           {
            "marker": {
             "colorbar": {
              "outlinewidth": 0,
              "ticks": ""
             }
            },
            "type": "scattergl"
           }
          ],
          "scattermap": [
           {
            "marker": {
             "colorbar": {
              "outlinewidth": 0,
              "ticks": ""
             }
            },
            "type": "scattermap"
           }
          ],
          "scattermapbox": [
           {
            "marker": {
             "colorbar": {
              "outlinewidth": 0,
              "ticks": ""
             }
            },
            "type": "scattermapbox"
           }
          ],
          "scatterpolar": [
           {
            "marker": {
             "colorbar": {
              "outlinewidth": 0,
              "ticks": ""
             }
            },
            "type": "scatterpolar"
           }
          ],
          "scatterpolargl": [
           {
            "marker": {
             "colorbar": {
              "outlinewidth": 0,
              "ticks": ""
             }
            },
            "type": "scatterpolargl"
           }
          ],
          "scatterternary": [
           {
            "marker": {
             "colorbar": {
              "outlinewidth": 0,
              "ticks": ""
             }
            },
            "type": "scatterternary"
           }
          ],
          "surface": [
           {
            "colorbar": {
             "outlinewidth": 0,
             "ticks": ""
            },
            "colorscale": [
             [
              0,
              "#0d0887"
             ],
             [
              0.1111111111111111,
              "#46039f"
             ],
             [
              0.2222222222222222,
              "#7201a8"
             ],
             [
              0.3333333333333333,
              "#9c179e"
             ],
             [
              0.4444444444444444,
              "#bd3786"
             ],
             [
              0.5555555555555556,
              "#d8576b"
             ],
             [
              0.6666666666666666,
              "#ed7953"
             ],
             [
              0.7777777777777778,
              "#fb9f3a"
             ],
             [
              0.8888888888888888,
              "#fdca26"
             ],
             [
              1,
              "#f0f921"
             ]
            ],
            "type": "surface"
           }
          ],
          "table": [
           {
            "cells": {
             "fill": {
              "color": "#EBF0F8"
             },
             "line": {
              "color": "white"
             }
            },
            "header": {
             "fill": {
              "color": "#C8D4E3"
             },
             "line": {
              "color": "white"
             }
            },
            "type": "table"
           }
          ]
         },
         "layout": {
          "annotationdefaults": {
           "arrowcolor": "#2a3f5f",
           "arrowhead": 0,
           "arrowwidth": 1
          },
          "autotypenumbers": "strict",
          "coloraxis": {
           "colorbar": {
            "outlinewidth": 0,
            "ticks": ""
           }
          },
          "colorscale": {
           "diverging": [
            [
             0,
             "#8e0152"
            ],
            [
             0.1,
             "#c51b7d"
            ],
            [
             0.2,
             "#de77ae"
            ],
            [
             0.3,
             "#f1b6da"
            ],
            [
             0.4,
             "#fde0ef"
            ],
            [
             0.5,
             "#f7f7f7"
            ],
            [
             0.6,
             "#e6f5d0"
            ],
            [
             0.7,
             "#b8e186"
            ],
            [
             0.8,
             "#7fbc41"
            ],
            [
             0.9,
             "#4d9221"
            ],
            [
             1,
             "#276419"
            ]
           ],
           "sequential": [
            [
             0,
             "#0d0887"
            ],
            [
             0.1111111111111111,
             "#46039f"
            ],
            [
             0.2222222222222222,
             "#7201a8"
            ],
            [
             0.3333333333333333,
             "#9c179e"
            ],
            [
             0.4444444444444444,
             "#bd3786"
            ],
            [
             0.5555555555555556,
             "#d8576b"
            ],
            [
             0.6666666666666666,
             "#ed7953"
            ],
            [
             0.7777777777777778,
             "#fb9f3a"
            ],
            [
             0.8888888888888888,
             "#fdca26"
            ],
            [
             1,
             "#f0f921"
            ]
           ],
           "sequentialminus": [
            [
             0,
             "#0d0887"
            ],
            [
             0.1111111111111111,
             "#46039f"
            ],
            [
             0.2222222222222222,
             "#7201a8"
            ],
            [
             0.3333333333333333,
             "#9c179e"
            ],
            [
             0.4444444444444444,
             "#bd3786"
            ],
            [
             0.5555555555555556,
             "#d8576b"
            ],
            [
             0.6666666666666666,
             "#ed7953"
            ],
            [
             0.7777777777777778,
             "#fb9f3a"
            ],
            [
             0.8888888888888888,
             "#fdca26"
            ],
            [
             1,
             "#f0f921"
            ]
           ]
          },
          "colorway": [
           "#636efa",
           "#EF553B",
           "#00cc96",
           "#ab63fa",
           "#FFA15A",
           "#19d3f3",
           "#FF6692",
           "#B6E880",
           "#FF97FF",
           "#FECB52"
          ],
          "font": {
           "color": "#2a3f5f"
          },
          "geo": {
           "bgcolor": "white",
           "lakecolor": "white",
           "landcolor": "#E5ECF6",
           "showlakes": true,
           "showland": true,
           "subunitcolor": "white"
          },
          "hoverlabel": {
           "align": "left"
          },
          "hovermode": "closest",
          "mapbox": {
           "style": "light"
          },
          "paper_bgcolor": "white",
          "plot_bgcolor": "#E5ECF6",
          "polar": {
           "angularaxis": {
            "gridcolor": "white",
            "linecolor": "white",
            "ticks": ""
           },
           "bgcolor": "#E5ECF6",
           "radialaxis": {
            "gridcolor": "white",
            "linecolor": "white",
            "ticks": ""
           }
          },
          "scene": {
           "xaxis": {
            "backgroundcolor": "#E5ECF6",
            "gridcolor": "white",
            "gridwidth": 2,
            "linecolor": "white",
            "showbackground": true,
            "ticks": "",
            "zerolinecolor": "white"
           },
           "yaxis": {
            "backgroundcolor": "#E5ECF6",
            "gridcolor": "white",
            "gridwidth": 2,
            "linecolor": "white",
            "showbackground": true,
            "ticks": "",
            "zerolinecolor": "white"
           },
           "zaxis": {
            "backgroundcolor": "#E5ECF6",
            "gridcolor": "white",
            "gridwidth": 2,
            "linecolor": "white",
            "showbackground": true,
            "ticks": "",
            "zerolinecolor": "white"
           }
          },
          "shapedefaults": {
           "line": {
            "color": "#2a3f5f"
           }
          },
          "ternary": {
           "aaxis": {
            "gridcolor": "white",
            "linecolor": "white",
            "ticks": ""
           },
           "baxis": {
            "gridcolor": "white",
            "linecolor": "white",
            "ticks": ""
           },
           "bgcolor": "#E5ECF6",
           "caxis": {
            "gridcolor": "white",
            "linecolor": "white",
            "ticks": ""
           }
          },
          "title": {
           "x": 0.05
          },
          "xaxis": {
           "automargin": true,
           "gridcolor": "white",
           "linecolor": "white",
           "ticks": "",
           "title": {
            "standoff": 15
           },
           "zerolinecolor": "white",
           "zerolinewidth": 2
          },
          "yaxis": {
           "automargin": true,
           "gridcolor": "white",
           "linecolor": "white",
           "ticks": "",
           "title": {
            "standoff": 15
           },
           "zerolinecolor": "white",
           "zerolinewidth": 2
          }
         }
        },
        "title": {
         "text": "Correlation Matrix Heatmap (Interactive)"
        },
        "width": 900,
        "xaxis": {
         "anchor": "y",
         "domain": [
          0,
          1
         ],
         "title": {
          "text": "Features"
         }
        },
        "yaxis": {
         "anchor": "x",
         "autorange": "reversed",
         "domain": [
          0,
          1
         ],
         "title": {
          "text": "Features"
         }
        }
       }
      }
     },
     "metadata": {},
     "output_type": "display_data"
    }
   ],
   "source": [
    "import plotly.express as px  \n",
    "\n",
    "corr_long = corr_matrix.reset_index().melt(id_vars='index')  \n",
    "\n",
    "corr_long.columns = ['Feature 1', 'Feature 2', 'Correlation']  \n",
    "\n",
    "fig = px.imshow(\n",
    "    corr_matrix,                  \n",
    "    text_auto='.2f',              \n",
    "    aspect=\"auto\",                \n",
    "    color_continuous_scale='RdBu_r',  \n",
    "    zmin=-1, zmax=1,             \n",
    "    title=\"Correlation Matrix Heatmap (Interactive)\"  \n",
    ")\n",
    "\n",
    "\n",
    "fig.update_layout(\n",
    "    width=900,          \n",
    "    height=800,          \n",
    "    xaxis_title=\"Features\",  \n",
    "    yaxis_title=\"Features\"   \n",
    ")\n",
    "\n",
    "fig.show()"
   ]
  },
  {
   "cell_type": "markdown",
   "id": "24b9ff59",
   "metadata": {},
   "source": [
    "# Low Variance"
   ]
  },
  {
   "cell_type": "code",
   "execution_count": 11,
   "id": "69e8032e",
   "metadata": {},
   "outputs": [
    {
     "name": "stdout",
     "output_type": "stream",
     "text": [
      "\n",
      "Original shape: (8493, 30)\n",
      "Shape after dropping low-variance features: (8493, 28)\n"
     ]
    }
   ],
   "source": [
    "# Low Variance\n",
    "from sklearn.feature_selection import VarianceThreshold  \n",
    "threshold = 0.01  \n",
    "selector = VarianceThreshold(threshold=threshold)  \n",
    "selector.fit(df_filtered)  \n",
    "low_variance_features = df_filtered.columns[~selector.get_support()] \n",
    "df_low_variance_filtered = df_filtered.drop(columns=low_variance_features)  \n",
    "print(\"\\nOriginal shape:\", df_filtered.shape)  \n",
    "print(\"Shape after dropping low-variance features:\", df_low_variance_filtered.shape)  "
   ]
  },
  {
   "cell_type": "code",
   "execution_count": 12,
   "id": "9c707671",
   "metadata": {},
   "outputs": [
    {
     "name": "stdout",
     "output_type": "stream",
     "text": [
      "Features with low variance (to drop): ['Year', 'Engagement']\n"
     ]
    }
   ],
   "source": [
    "# Past variansli ustunlarni aniqlash:\n",
    "\n",
    "low_variance_features = df_filtered.columns[~selector.get_support()]\n",
    "print(\"Features with low variance (to drop):\", list(low_variance_features))"
   ]
  },
  {
   "cell_type": "code",
   "execution_count": 13,
   "id": "ced94407",
   "metadata": {},
   "outputs": [
    {
     "data": {
      "application/vnd.plotly.v1+json": {
       "config": {
        "plotlyServerURL": "https://plot.ly"
       },
       "data": [
        {
         "hovertemplate": "LowVariance=No<br>Feature=%{x}<br>Variance=%{text}<extra></extra>",
         "legendgroup": "No",
         "marker": {
          "color": "blue",
          "pattern": {
           "shape": ""
          }
         },
         "name": "No",
         "orientation": "v",
         "showlegend": true,
         "text": {
          "bdata": "AAAAILvuVkEvkWR6ewDwPy6RZHp7APA/L5FkensA8D/exi7mZsGOPy+RZHp7APA/L5FkensA8D8tkWR6ewDwPy+RZHp7APA/L5FkensA8D8vkWR6ewDwPzGRZHp7APA/LpFkensA8D8vkWR6ewDwPy2RZHp7APA/LZFkensA8D8vkWR6ewDwPy+RZHp7APA/LZFkensA8D8vkWR6ewDwPy+RZHp7APA/MZFkensA8D8vkWR6ewDwPzGRZHp7APA/LpFkensA8D8vkWR6ewDwPy6RZHp7APA/vYxqsErYuT+jhELGBa41QR4G2Hm8KZJA9hXyJOCRPkDXpE9npsBBQg==",
          "dtype": "f8"
         },
         "textposition": "auto",
         "type": "bar",
         "x": [
          "Unnamed: 0",
          "Video ID",
          "Video Title",
          "Channel",
          "Published Date",
          "Views",
          "Likes",
          "Comments",
          "Subscribers",
          "Channel Views",
          "Country",
          "Region",
          "CategoryID",
          "CategoryName",
          "Cluster",
          "CategoryID_enc",
          "Country_enc",
          "VideoCluster",
          "Channel_Cluster",
          "Video_Cluster",
          "Country_Cluster_x",
          "Category_Cluster_x",
          "Country_Cluster_y",
          "Category_Cluster_y",
          "Month",
          "Day",
          "DayOfWeek",
          "DayName",
          "Views_per_Sub",
          "Like_per_Sub",
          "Comment_per_Sub",
          "Published_ts"
         ],
         "xaxis": "x",
         "y": {
          "bdata": "AAAAILvuVkEvkWR6ewDwPy6RZHp7APA/L5FkensA8D/exi7mZsGOPy+RZHp7APA/L5FkensA8D8tkWR6ewDwPy+RZHp7APA/L5FkensA8D8vkWR6ewDwPzGRZHp7APA/LpFkensA8D8vkWR6ewDwPy2RZHp7APA/LZFkensA8D8vkWR6ewDwPy+RZHp7APA/LZFkensA8D8vkWR6ewDwPy+RZHp7APA/MZFkensA8D8vkWR6ewDwPzGRZHp7APA/LpFkensA8D8vkWR6ewDwPy6RZHp7APA/vYxqsErYuT+jhELGBa41QR4G2Hm8KZJA9hXyJOCRPkDXpE9npsBBQg==",
          "dtype": "f8"
         },
         "yaxis": "y"
        },
        {
         "hovertemplate": "LowVariance=Yes<br>Feature=%{x}<br>Variance=%{text}<extra></extra>",
         "legendgroup": "Yes",
         "marker": {
          "color": "red",
          "pattern": {
           "shape": ""
          }
         },
         "name": "Yes",
         "orientation": "v",
         "showlegend": true,
         "text": {
          "bdata": "AAAAAAAAAAANqcA8+DxMPw==",
          "dtype": "f8"
         },
         "textposition": "auto",
         "type": "bar",
         "x": [
          "Year",
          "Engagement"
         ],
         "xaxis": "x",
         "y": {
          "bdata": "AAAAAAAAAAANqcA8+DxMPw==",
          "dtype": "f8"
         },
         "yaxis": "y"
        }
       ],
       "layout": {
        "barmode": "relative",
        "height": 600,
        "legend": {
         "title": {
          "text": "LowVariance"
         },
         "tracegroupgap": 0
        },
        "template": {
         "data": {
          "bar": [
           {
            "error_x": {
             "color": "#2a3f5f"
            },
            "error_y": {
             "color": "#2a3f5f"
            },
            "marker": {
             "line": {
              "color": "#E5ECF6",
              "width": 0.5
             },
             "pattern": {
              "fillmode": "overlay",
              "size": 10,
              "solidity": 0.2
             }
            },
            "type": "bar"
           }
          ],
          "barpolar": [
           {
            "marker": {
             "line": {
              "color": "#E5ECF6",
              "width": 0.5
             },
             "pattern": {
              "fillmode": "overlay",
              "size": 10,
              "solidity": 0.2
             }
            },
            "type": "barpolar"
           }
          ],
          "carpet": [
           {
            "aaxis": {
             "endlinecolor": "#2a3f5f",
             "gridcolor": "white",
             "linecolor": "white",
             "minorgridcolor": "white",
             "startlinecolor": "#2a3f5f"
            },
            "baxis": {
             "endlinecolor": "#2a3f5f",
             "gridcolor": "white",
             "linecolor": "white",
             "minorgridcolor": "white",
             "startlinecolor": "#2a3f5f"
            },
            "type": "carpet"
           }
          ],
          "choropleth": [
           {
            "colorbar": {
             "outlinewidth": 0,
             "ticks": ""
            },
            "type": "choropleth"
           }
          ],
          "contour": [
           {
            "colorbar": {
             "outlinewidth": 0,
             "ticks": ""
            },
            "colorscale": [
             [
              0,
              "#0d0887"
             ],
             [
              0.1111111111111111,
              "#46039f"
             ],
             [
              0.2222222222222222,
              "#7201a8"
             ],
             [
              0.3333333333333333,
              "#9c179e"
             ],
             [
              0.4444444444444444,
              "#bd3786"
             ],
             [
              0.5555555555555556,
              "#d8576b"
             ],
             [
              0.6666666666666666,
              "#ed7953"
             ],
             [
              0.7777777777777778,
              "#fb9f3a"
             ],
             [
              0.8888888888888888,
              "#fdca26"
             ],
             [
              1,
              "#f0f921"
             ]
            ],
            "type": "contour"
           }
          ],
          "contourcarpet": [
           {
            "colorbar": {
             "outlinewidth": 0,
             "ticks": ""
            },
            "type": "contourcarpet"
           }
          ],
          "heatmap": [
           {
            "colorbar": {
             "outlinewidth": 0,
             "ticks": ""
            },
            "colorscale": [
             [
              0,
              "#0d0887"
             ],
             [
              0.1111111111111111,
              "#46039f"
             ],
             [
              0.2222222222222222,
              "#7201a8"
             ],
             [
              0.3333333333333333,
              "#9c179e"
             ],
             [
              0.4444444444444444,
              "#bd3786"
             ],
             [
              0.5555555555555556,
              "#d8576b"
             ],
             [
              0.6666666666666666,
              "#ed7953"
             ],
             [
              0.7777777777777778,
              "#fb9f3a"
             ],
             [
              0.8888888888888888,
              "#fdca26"
             ],
             [
              1,
              "#f0f921"
             ]
            ],
            "type": "heatmap"
           }
          ],
          "histogram": [
           {
            "marker": {
             "pattern": {
              "fillmode": "overlay",
              "size": 10,
              "solidity": 0.2
             }
            },
            "type": "histogram"
           }
          ],
          "histogram2d": [
           {
            "colorbar": {
             "outlinewidth": 0,
             "ticks": ""
            },
            "colorscale": [
             [
              0,
              "#0d0887"
             ],
             [
              0.1111111111111111,
              "#46039f"
             ],
             [
              0.2222222222222222,
              "#7201a8"
             ],
             [
              0.3333333333333333,
              "#9c179e"
             ],
             [
              0.4444444444444444,
              "#bd3786"
             ],
             [
              0.5555555555555556,
              "#d8576b"
             ],
             [
              0.6666666666666666,
              "#ed7953"
             ],
             [
              0.7777777777777778,
              "#fb9f3a"
             ],
             [
              0.8888888888888888,
              "#fdca26"
             ],
             [
              1,
              "#f0f921"
             ]
            ],
            "type": "histogram2d"
           }
          ],
          "histogram2dcontour": [
           {
            "colorbar": {
             "outlinewidth": 0,
             "ticks": ""
            },
            "colorscale": [
             [
              0,
              "#0d0887"
             ],
             [
              0.1111111111111111,
              "#46039f"
             ],
             [
              0.2222222222222222,
              "#7201a8"
             ],
             [
              0.3333333333333333,
              "#9c179e"
             ],
             [
              0.4444444444444444,
              "#bd3786"
             ],
             [
              0.5555555555555556,
              "#d8576b"
             ],
             [
              0.6666666666666666,
              "#ed7953"
             ],
             [
              0.7777777777777778,
              "#fb9f3a"
             ],
             [
              0.8888888888888888,
              "#fdca26"
             ],
             [
              1,
              "#f0f921"
             ]
            ],
            "type": "histogram2dcontour"
           }
          ],
          "mesh3d": [
           {
            "colorbar": {
             "outlinewidth": 0,
             "ticks": ""
            },
            "type": "mesh3d"
           }
          ],
          "parcoords": [
           {
            "line": {
             "colorbar": {
              "outlinewidth": 0,
              "ticks": ""
             }
            },
            "type": "parcoords"
           }
          ],
          "pie": [
           {
            "automargin": true,
            "type": "pie"
           }
          ],
          "scatter": [
           {
            "fillpattern": {
             "fillmode": "overlay",
             "size": 10,
             "solidity": 0.2
            },
            "type": "scatter"
           }
          ],
          "scatter3d": [
           {
            "line": {
             "colorbar": {
              "outlinewidth": 0,
              "ticks": ""
             }
            },
            "marker": {
             "colorbar": {
              "outlinewidth": 0,
              "ticks": ""
             }
            },
            "type": "scatter3d"
           }
          ],
          "scattercarpet": [
           {
            "marker": {
             "colorbar": {
              "outlinewidth": 0,
              "ticks": ""
             }
            },
            "type": "scattercarpet"
           }
          ],
          "scattergeo": [
           {
            "marker": {
             "colorbar": {
              "outlinewidth": 0,
              "ticks": ""
             }
            },
            "type": "scattergeo"
           }
          ],
          "scattergl": [
           {
            "marker": {
             "colorbar": {
              "outlinewidth": 0,
              "ticks": ""
             }
            },
            "type": "scattergl"
           }
          ],
          "scattermap": [
           {
            "marker": {
             "colorbar": {
              "outlinewidth": 0,
              "ticks": ""
             }
            },
            "type": "scattermap"
           }
          ],
          "scattermapbox": [
           {
            "marker": {
             "colorbar": {
              "outlinewidth": 0,
              "ticks": ""
             }
            },
            "type": "scattermapbox"
           }
          ],
          "scatterpolar": [
           {
            "marker": {
             "colorbar": {
              "outlinewidth": 0,
              "ticks": ""
             }
            },
            "type": "scatterpolar"
           }
          ],
          "scatterpolargl": [
           {
            "marker": {
             "colorbar": {
              "outlinewidth": 0,
              "ticks": ""
             }
            },
            "type": "scatterpolargl"
           }
          ],
          "scatterternary": [
           {
            "marker": {
             "colorbar": {
              "outlinewidth": 0,
              "ticks": ""
             }
            },
            "type": "scatterternary"
           }
          ],
          "surface": [
           {
            "colorbar": {
             "outlinewidth": 0,
             "ticks": ""
            },
            "colorscale": [
             [
              0,
              "#0d0887"
             ],
             [
              0.1111111111111111,
              "#46039f"
             ],
             [
              0.2222222222222222,
              "#7201a8"
             ],
             [
              0.3333333333333333,
              "#9c179e"
             ],
             [
              0.4444444444444444,
              "#bd3786"
             ],
             [
              0.5555555555555556,
              "#d8576b"
             ],
             [
              0.6666666666666666,
              "#ed7953"
             ],
             [
              0.7777777777777778,
              "#fb9f3a"
             ],
             [
              0.8888888888888888,
              "#fdca26"
             ],
             [
              1,
              "#f0f921"
             ]
            ],
            "type": "surface"
           }
          ],
          "table": [
           {
            "cells": {
             "fill": {
              "color": "#EBF0F8"
             },
             "line": {
              "color": "white"
             }
            },
            "header": {
             "fill": {
              "color": "#C8D4E3"
             },
             "line": {
              "color": "white"
             }
            },
            "type": "table"
           }
          ]
         },
         "layout": {
          "annotationdefaults": {
           "arrowcolor": "#2a3f5f",
           "arrowhead": 0,
           "arrowwidth": 1
          },
          "autotypenumbers": "strict",
          "coloraxis": {
           "colorbar": {
            "outlinewidth": 0,
            "ticks": ""
           }
          },
          "colorscale": {
           "diverging": [
            [
             0,
             "#8e0152"
            ],
            [
             0.1,
             "#c51b7d"
            ],
            [
             0.2,
             "#de77ae"
            ],
            [
             0.3,
             "#f1b6da"
            ],
            [
             0.4,
             "#fde0ef"
            ],
            [
             0.5,
             "#f7f7f7"
            ],
            [
             0.6,
             "#e6f5d0"
            ],
            [
             0.7,
             "#b8e186"
            ],
            [
             0.8,
             "#7fbc41"
            ],
            [
             0.9,
             "#4d9221"
            ],
            [
             1,
             "#276419"
            ]
           ],
           "sequential": [
            [
             0,
             "#0d0887"
            ],
            [
             0.1111111111111111,
             "#46039f"
            ],
            [
             0.2222222222222222,
             "#7201a8"
            ],
            [
             0.3333333333333333,
             "#9c179e"
            ],
            [
             0.4444444444444444,
             "#bd3786"
            ],
            [
             0.5555555555555556,
             "#d8576b"
            ],
            [
             0.6666666666666666,
             "#ed7953"
            ],
            [
             0.7777777777777778,
             "#fb9f3a"
            ],
            [
             0.8888888888888888,
             "#fdca26"
            ],
            [
             1,
             "#f0f921"
            ]
           ],
           "sequentialminus": [
            [
             0,
             "#0d0887"
            ],
            [
             0.1111111111111111,
             "#46039f"
            ],
            [
             0.2222222222222222,
             "#7201a8"
            ],
            [
             0.3333333333333333,
             "#9c179e"
            ],
            [
             0.4444444444444444,
             "#bd3786"
            ],
            [
             0.5555555555555556,
             "#d8576b"
            ],
            [
             0.6666666666666666,
             "#ed7953"
            ],
            [
             0.7777777777777778,
             "#fb9f3a"
            ],
            [
             0.8888888888888888,
             "#fdca26"
            ],
            [
             1,
             "#f0f921"
            ]
           ]
          },
          "colorway": [
           "#636efa",
           "#EF553B",
           "#00cc96",
           "#ab63fa",
           "#FFA15A",
           "#19d3f3",
           "#FF6692",
           "#B6E880",
           "#FF97FF",
           "#FECB52"
          ],
          "font": {
           "color": "#2a3f5f"
          },
          "geo": {
           "bgcolor": "white",
           "lakecolor": "white",
           "landcolor": "#E5ECF6",
           "showlakes": true,
           "showland": true,
           "subunitcolor": "white"
          },
          "hoverlabel": {
           "align": "left"
          },
          "hovermode": "closest",
          "mapbox": {
           "style": "light"
          },
          "paper_bgcolor": "white",
          "plot_bgcolor": "#E5ECF6",
          "polar": {
           "angularaxis": {
            "gridcolor": "white",
            "linecolor": "white",
            "ticks": ""
           },
           "bgcolor": "#E5ECF6",
           "radialaxis": {
            "gridcolor": "white",
            "linecolor": "white",
            "ticks": ""
           }
          },
          "scene": {
           "xaxis": {
            "backgroundcolor": "#E5ECF6",
            "gridcolor": "white",
            "gridwidth": 2,
            "linecolor": "white",
            "showbackground": true,
            "ticks": "",
            "zerolinecolor": "white"
           },
           "yaxis": {
            "backgroundcolor": "#E5ECF6",
            "gridcolor": "white",
            "gridwidth": 2,
            "linecolor": "white",
            "showbackground": true,
            "ticks": "",
            "zerolinecolor": "white"
           },
           "zaxis": {
            "backgroundcolor": "#E5ECF6",
            "gridcolor": "white",
            "gridwidth": 2,
            "linecolor": "white",
            "showbackground": true,
            "ticks": "",
            "zerolinecolor": "white"
           }
          },
          "shapedefaults": {
           "line": {
            "color": "#2a3f5f"
           }
          },
          "ternary": {
           "aaxis": {
            "gridcolor": "white",
            "linecolor": "white",
            "ticks": ""
           },
           "baxis": {
            "gridcolor": "white",
            "linecolor": "white",
            "ticks": ""
           },
           "bgcolor": "#E5ECF6",
           "caxis": {
            "gridcolor": "white",
            "linecolor": "white",
            "ticks": ""
           }
          },
          "title": {
           "x": 0.05
          },
          "xaxis": {
           "automargin": true,
           "gridcolor": "white",
           "linecolor": "white",
           "ticks": "",
           "title": {
            "standoff": 15
           },
           "zerolinecolor": "white",
           "zerolinewidth": 2
          },
          "yaxis": {
           "automargin": true,
           "gridcolor": "white",
           "linecolor": "white",
           "ticks": "",
           "title": {
            "standoff": 15
           },
           "zerolinecolor": "white",
           "zerolinewidth": 2
          }
         }
        },
        "title": {
         "text": "Feature Variance (Low-Variance Highlighted in Red)"
        },
        "width": 1000,
        "xaxis": {
         "anchor": "y",
         "domain": [
          0,
          1
         ],
         "tickangle": -45,
         "title": {
          "text": "Feature"
         }
        },
        "yaxis": {
         "anchor": "x",
         "domain": [
          0,
          1
         ],
         "title": {
          "text": "Variance"
         }
        }
       }
      }
     },
     "metadata": {},
     "output_type": "display_data"
    }
   ],
   "source": [
    "numeric_cols = df.select_dtypes(include=[np.number]).columns\n",
    "variances = df[numeric_cols].var()\n",
    "threshold = 0.01\n",
    "low_variance_features = variances[variances < threshold].index.tolist()\n",
    "var_df = pd.DataFrame({\n",
    "    'Feature': variances.index,\n",
    "    'Variance': variances.values,\n",
    "    'LowVariance': ['Yes' if f in low_variance_features else 'No' for f in variances.index]\n",
    "})\n",
    "\n",
    "\n",
    "fig = px.bar(\n",
    "    var_df,\n",
    "    x='Feature',        \n",
    "    y='Variance',       \n",
    "    color='LowVariance',  \n",
    "    color_discrete_map={'Yes': 'red', 'No': 'blue'},  \n",
    "    text='Variance',    \n",
    "    title='Feature Variance (Low-Variance Highlighted in Red)'  \n",
    ")\n",
    "\n",
    "\n",
    "fig.update_layout(\n",
    "    xaxis_tickangle=-45,\n",
    "    width=1000,\n",
    "    height=600\n",
    ")\n",
    "\n",
    "fig.show()"
   ]
  },
  {
   "cell_type": "code",
   "execution_count": 14,
   "id": "7ce218f6",
   "metadata": {},
   "outputs": [
    {
     "name": "stdout",
     "output_type": "stream",
     "text": [
      "<class 'pandas.core.frame.DataFrame'>\n",
      "RangeIndex: 8493 entries, 0 to 8492\n",
      "Data columns (total 30 columns):\n",
      " #   Column              Non-Null Count  Dtype  \n",
      "---  ------              --------------  -----  \n",
      " 0   Unnamed: 0          8493 non-null   int64  \n",
      " 1   Video ID            8493 non-null   float64\n",
      " 2   Video Title         8493 non-null   float64\n",
      " 3   Channel             8493 non-null   float64\n",
      " 4   Published Date      8493 non-null   float64\n",
      " 5   Views               8493 non-null   float64\n",
      " 6   Likes               8493 non-null   float64\n",
      " 7   Comments            8493 non-null   float64\n",
      " 8   Subscribers         8493 non-null   float64\n",
      " 9   Channel Views       8493 non-null   float64\n",
      " 10  Country             8493 non-null   float64\n",
      " 11  Region              8493 non-null   float64\n",
      " 12  CategoryID          8493 non-null   float64\n",
      " 13  CategoryName        8493 non-null   float64\n",
      " 14  Cluster             8493 non-null   float64\n",
      " 15  CategoryID_enc      8493 non-null   float64\n",
      " 16  VideoCluster        8493 non-null   float64\n",
      " 17  Channel_Cluster     8493 non-null   float64\n",
      " 18  Video_Cluster       8493 non-null   float64\n",
      " 19  Country_Cluster_x   8493 non-null   float64\n",
      " 20  Category_Cluster_x  8493 non-null   float64\n",
      " 21  Year                8493 non-null   float64\n",
      " 22  Month               8493 non-null   float64\n",
      " 23  Day                 8493 non-null   float64\n",
      " 24  DayOfWeek           8493 non-null   float64\n",
      " 25  DayName             8493 non-null   float64\n",
      " 26  Views_per_Sub       8493 non-null   float64\n",
      " 27  Engagement          8493 non-null   float64\n",
      " 28  Like_per_Sub        8493 non-null   float64\n",
      " 29  Comment_per_Sub     8493 non-null   float64\n",
      "dtypes: float64(29), int64(1)\n",
      "memory usage: 1.9 MB\n"
     ]
    }
   ],
   "source": [
    "df_filtered.info()"
   ]
  },
  {
   "cell_type": "code",
   "execution_count": 15,
   "id": "8749a353",
   "metadata": {},
   "outputs": [],
   "source": [
    "df_filtered.to_csv(r\"C:\\Users\\Rasulbek907\\Desktop\\Project_MP\\Data\\Feature_Selection\\Filtered_Features.csv\")"
   ]
  },
  {
   "cell_type": "markdown",
   "id": "7d6f9cf1",
   "metadata": {},
   "source": [
    "# Feature Selection Wrapper "
   ]
  },
  {
   "cell_type": "markdown",
   "id": "fa93df32",
   "metadata": {},
   "source": [
    " # RFE + Linear Regression"
   ]
  },
  {
   "cell_type": "code",
   "execution_count": 16,
   "id": "0532a6fb",
   "metadata": {},
   "outputs": [],
   "source": [
    "from sklearn.feature_selection import RFE\n",
    "from sklearn.linear_model import LinearRegression\n",
    "\n",
    "X = df.drop('CategoryName', axis=1)\n",
    "y = df['CategoryName']"
   ]
  },
  {
   "cell_type": "markdown",
   "id": "8cab9d5e",
   "metadata": {},
   "source": [
    "# RFE + Linear Regression "
   ]
  },
  {
   "cell_type": "code",
   "execution_count": 17,
   "id": "51be7b75",
   "metadata": {},
   "outputs": [
    {
     "name": "stdout",
     "output_type": "stream",
     "text": [
      "Selected features: Index(['Channel', 'Views', 'Likes', 'Comments', 'Subscribers', 'Channel Views',\n",
      "       'Country', 'CategoryID', 'Cluster', 'CategoryID_enc', 'Country_enc',\n",
      "       'VideoCluster', 'Video_Cluster', 'Country_Cluster_x',\n",
      "       'Category_Cluster_x', 'Country_Cluster_y', 'Category_Cluster_y', 'Day',\n",
      "       'DayOfWeek', 'Engagement'],\n",
      "      dtype='object')\n"
     ]
    }
   ],
   "source": [
    "# Oddiy chiziqli regressiya modelini yaratamiz (bu model RFE uchun asos bo'ladi)\n",
    "model = LinearRegression()\n",
    "rfe = RFE(model, n_features_to_select=20)\n",
    "rfe.fit(X, y)\n",
    "selected_features = X.columns[rfe.support_]\n",
    "print(\"Selected features:\", selected_features)"
   ]
  },
  {
   "cell_type": "markdown",
   "id": "33c26b20",
   "metadata": {},
   "source": [
    "# RFE + RandomForestRegressor"
   ]
  },
  {
   "cell_type": "code",
   "execution_count": 18,
   "id": "364f98ac",
   "metadata": {},
   "outputs": [
    {
     "name": "stdout",
     "output_type": "stream",
     "text": [
      "Selected features (RandomForest): Index(['Unnamed: 0', 'Video ID', 'Video Title', 'Channel', 'Published Date',\n",
      "       'Views', 'Likes', 'Comments', 'Subscribers', 'Channel Views',\n",
      "       'CategoryID', 'CategoryID_enc', 'Country_enc', 'Category_Cluster_x',\n",
      "       'Category_Cluster_y', 'Views_per_Sub', 'Engagement', 'Like_per_Sub',\n",
      "       'Comment_per_Sub', 'Published_ts'],\n",
      "      dtype='object')\n"
     ]
    }
   ],
   "source": [
    "from sklearn.ensemble import RandomForestRegressor\n",
    "from sklearn.feature_selection import RFE\n",
    "\n",
    "model = RandomForestRegressor()\n",
    "rfe = RFE(model, n_features_to_select=20)\n",
    "rfe.fit(X, y)\n",
    "\n",
    "selected_features = X.columns[rfe.support_]\n",
    "print(\"Selected features (RandomForest):\", selected_features)\n"
   ]
  },
  {
   "cell_type": "markdown",
   "id": "de559577",
   "metadata": {},
   "source": [
    "# RFE + Decision Tree Regressor "
   ]
  },
  {
   "cell_type": "code",
   "execution_count": 19,
   "id": "67517bc5",
   "metadata": {},
   "outputs": [
    {
     "name": "stdout",
     "output_type": "stream",
     "text": [
      "Selected features (DecisionTree): Index(['Unnamed: 0', 'Video ID', 'Channel', 'Published Date', 'Views', 'Likes',\n",
      "       'Comments', 'Subscribers', 'Channel Views', 'Country', 'CategoryID',\n",
      "       'CategoryID_enc', 'Country_enc', 'Category_Cluster_y', 'Day',\n",
      "       'DayOfWeek', 'Views_per_Sub', 'Engagement', 'Comment_per_Sub',\n",
      "       'Published_ts'],\n",
      "      dtype='object')\n"
     ]
    }
   ],
   "source": [
    "from sklearn.tree import DecisionTreeRegressor\n",
    "\n",
    "model = DecisionTreeRegressor()\n",
    "rfe = RFE(model, n_features_to_select=20)\n",
    "rfe.fit(X, y)\n",
    "\n",
    "selected_features = X.columns[rfe.support_]\n",
    "print(\"Selected features (DecisionTree):\", selected_features)\n"
   ]
  },
  {
   "cell_type": "markdown",
   "id": "f15ff15e",
   "metadata": {},
   "source": [
    "# Feature Selection Embedded + Lasso CV"
   ]
  },
  {
   "cell_type": "code",
   "execution_count": 20,
   "id": "40abdf66",
   "metadata": {},
   "outputs": [
    {
     "name": "stdout",
     "output_type": "stream",
     "text": [
      "Selected features using Lasso (non-zero coefficients):\n",
      "['Published_ts']\n"
     ]
    }
   ],
   "source": [
    "# Xususiyat tanlash uchun Linear Model'larda ishlatiladigan usul (LASSO regression)\n",
    "\n",
    "# LassoCV (L1-regularizatsiya) ni import qilamiz\n",
    "# CV - cross-validation, u model uchun optimal alpha (regulyarizatsiya kuchi) tanlab beradi\n",
    "from sklearn.linear_model import LassoCV\n",
    "X = df.drop('CategoryName', axis=1)\n",
    "y = df['CategoryName']\n",
    "lasso = LassoCV(cv=10, random_state=42).fit(X, y)\n",
    "importance = np.abs(lasso.coef_)\n",
    "selected_features = X.columns[importance > 0]\n",
    "print(\"Selected features using Lasso (non-zero coefficients):\")\n",
    "print(selected_features.tolist())"
   ]
  },
  {
   "cell_type": "code",
   "execution_count": 21,
   "id": "f4113dcd",
   "metadata": {},
   "outputs": [
    {
     "name": "stdout",
     "output_type": "stream",
     "text": [
      "\n",
      "Top 25% important features based on Lasso coefficients:\n",
      "['Unnamed: 0', 'Video ID', 'Video Title', 'Channel', 'Published Date', 'Views', 'Likes', 'Comments', 'Subscribers', 'Channel Views', 'Country', 'Region', 'CategoryID', 'Cluster', 'CategoryID_enc', 'Country_enc', 'VideoCluster', 'Channel_Cluster', 'Video_Cluster', 'Country_Cluster_x', 'Category_Cluster_x', 'Country_Cluster_y', 'Category_Cluster_y', 'Year', 'Month', 'Day', 'DayOfWeek', 'DayName', 'Views_per_Sub', 'Engagement', 'Like_per_Sub', 'Comment_per_Sub', 'Published_ts']\n"
     ]
    }
   ],
   "source": [
    "# Faqat muhim featurelarni saqlab qolish\n",
    "percentile_threshold = np.percentile(importance, 90) \n",
    "top_features = X.columns[importance >= percentile_threshold]\n",
    "print(\"\\nTop 25% important features based on Lasso coefficients:\")\n",
    "print(top_features.tolist())"
   ]
  },
  {
   "cell_type": "code",
   "execution_count": 22,
   "id": "57453e1d",
   "metadata": {},
   "outputs": [
    {
     "name": "stdout",
     "output_type": "stream",
     "text": [
      "Feature Importance Table:\n",
      "               Feature    Importance Top15%\n",
      "32        Published_ts  5.494183e-07    Yes\n",
      "0           Unnamed: 0  0.000000e+00    Yes\n",
      "1             Video ID  0.000000e+00    Yes\n",
      "3              Channel  0.000000e+00    Yes\n",
      "2          Video Title  0.000000e+00    Yes\n",
      "5                Views  0.000000e+00    Yes\n",
      "6                Likes  0.000000e+00    Yes\n",
      "7             Comments  0.000000e+00    Yes\n",
      "4       Published Date  0.000000e+00    Yes\n",
      "9        Channel Views  0.000000e+00    Yes\n",
      "10             Country  0.000000e+00    Yes\n",
      "11              Region  0.000000e+00    Yes\n",
      "12          CategoryID  0.000000e+00    Yes\n",
      "13             Cluster  0.000000e+00    Yes\n",
      "14      CategoryID_enc  0.000000e+00    Yes\n",
      "15         Country_enc  0.000000e+00    Yes\n",
      "8          Subscribers  0.000000e+00    Yes\n",
      "16        VideoCluster  0.000000e+00    Yes\n",
      "17     Channel_Cluster  0.000000e+00    Yes\n",
      "19   Country_Cluster_x  0.000000e+00    Yes\n",
      "18       Video_Cluster  0.000000e+00    Yes\n",
      "21   Country_Cluster_y  0.000000e+00    Yes\n",
      "22  Category_Cluster_y  0.000000e+00    Yes\n",
      "23                Year  0.000000e+00    Yes\n",
      "20  Category_Cluster_x  0.000000e+00    Yes\n",
      "24               Month  0.000000e+00    Yes\n",
      "25                 Day  0.000000e+00    Yes\n",
      "27             DayName  0.000000e+00    Yes\n",
      "26           DayOfWeek  0.000000e+00    Yes\n",
      "28       Views_per_Sub  0.000000e+00    Yes\n",
      "29          Engagement  0.000000e+00    Yes\n",
      "30        Like_per_Sub  0.000000e+00    Yes\n",
      "31     Comment_per_Sub  0.000000e+00    Yes\n"
     ]
    }
   ],
   "source": [
    "# Feature importance'ni jadval shaklida tayyorlash\n",
    "\n",
    "feat_df = pd.DataFrame({\n",
    "    'Feature': X.columns,\n",
    "    'Importance': importance\n",
    "})\n",
    "\n",
    "# Importance qiymatlariga qarab kamayish tartibida (eng muhimdan kam muhimga qarab) saralaymiz\n",
    "feat_df = feat_df.sort_values(by='Importance', ascending=False)\n",
    "percentile_threshold = np.percentile(importance, 85)\n",
    "feat_df['Top15%'] = np.where(feat_df['Importance'] >= percentile_threshold, 'Yes', 'No')\n",
    "print(\"Feature Importance Table:\")\n",
    "print(feat_df)"
   ]
  },
  {
   "cell_type": "code",
   "execution_count": 23,
   "id": "fe8fcbaf",
   "metadata": {},
   "outputs": [
    {
     "data": {
      "application/vnd.plotly.v1+json": {
       "config": {
        "plotlyServerURL": "https://plot.ly"
       },
       "data": [
        {
         "hovertemplate": "Top15%=Yes<br>Feature=%{x}<br>Importance=%{text}<extra></extra>",
         "legendgroup": "Yes",
         "marker": {
          "color": "red",
          "pattern": {
           "shape": ""
          }
         },
         "name": "Yes",
         "orientation": "v",
         "showlegend": true,
         "text": {
          "bdata": "y+6opHdvoj4AAAAAAAAAAAAAAAAAAAAAAAAAAAAAAAAAAAAAAAAAAAAAAAAAAAAAAAAAAAAAAAAAAAAAAAAAAAAAAAAAAAAAAAAAAAAAAAAAAAAAAAAAAAAAAAAAAAAAAAAAAAAAAAAAAAAAAAAAAAAAAAAAAAAAAAAAAAAAAAAAAAAAAAAAAAAAAAAAAAAAAAAAAAAAAAAAAAAAAAAAAAAAAAAAAAAAAAAAAAAAAAAAAAAAAAAAAAAAAAAAAAAAAAAAAAAAAAAAAAAAAAAAAAAAAAAAAAAAAAAAAAAAAAAAAAAAAAAAAAAAAAAAAAAAAAAAAAAAAAAAAAAAAAAAAAAAAAAAAAAA",
          "dtype": "f8"
         },
         "textposition": "auto",
         "type": "bar",
         "x": [
          "Published_ts",
          "Unnamed: 0",
          "Video ID",
          "Channel",
          "Video Title",
          "Views",
          "Likes",
          "Comments",
          "Published Date",
          "Channel Views",
          "Country",
          "Region",
          "CategoryID",
          "Cluster",
          "CategoryID_enc",
          "Country_enc",
          "Subscribers",
          "VideoCluster",
          "Channel_Cluster",
          "Country_Cluster_x",
          "Video_Cluster",
          "Country_Cluster_y",
          "Category_Cluster_y",
          "Year",
          "Category_Cluster_x",
          "Month",
          "Day",
          "DayName",
          "DayOfWeek",
          "Views_per_Sub",
          "Engagement",
          "Like_per_Sub",
          "Comment_per_Sub"
         ],
         "xaxis": "x",
         "y": {
          "bdata": "y+6opHdvoj4AAAAAAAAAAAAAAAAAAAAAAAAAAAAAAAAAAAAAAAAAAAAAAAAAAAAAAAAAAAAAAAAAAAAAAAAAAAAAAAAAAAAAAAAAAAAAAAAAAAAAAAAAAAAAAAAAAAAAAAAAAAAAAAAAAAAAAAAAAAAAAAAAAAAAAAAAAAAAAAAAAAAAAAAAAAAAAAAAAAAAAAAAAAAAAAAAAAAAAAAAAAAAAAAAAAAAAAAAAAAAAAAAAAAAAAAAAAAAAAAAAAAAAAAAAAAAAAAAAAAAAAAAAAAAAAAAAAAAAAAAAAAAAAAAAAAAAAAAAAAAAAAAAAAAAAAAAAAAAAAAAAAAAAAAAAAAAAAAAAAA",
          "dtype": "f8"
         },
         "yaxis": "y"
        }
       ],
       "layout": {
        "barmode": "relative",
        "height": 600,
        "legend": {
         "title": {
          "text": "Top15%"
         },
         "tracegroupgap": 0
        },
        "template": {
         "data": {
          "bar": [
           {
            "error_x": {
             "color": "#2a3f5f"
            },
            "error_y": {
             "color": "#2a3f5f"
            },
            "marker": {
             "line": {
              "color": "#E5ECF6",
              "width": 0.5
             },
             "pattern": {
              "fillmode": "overlay",
              "size": 10,
              "solidity": 0.2
             }
            },
            "type": "bar"
           }
          ],
          "barpolar": [
           {
            "marker": {
             "line": {
              "color": "#E5ECF6",
              "width": 0.5
             },
             "pattern": {
              "fillmode": "overlay",
              "size": 10,
              "solidity": 0.2
             }
            },
            "type": "barpolar"
           }
          ],
          "carpet": [
           {
            "aaxis": {
             "endlinecolor": "#2a3f5f",
             "gridcolor": "white",
             "linecolor": "white",
             "minorgridcolor": "white",
             "startlinecolor": "#2a3f5f"
            },
            "baxis": {
             "endlinecolor": "#2a3f5f",
             "gridcolor": "white",
             "linecolor": "white",
             "minorgridcolor": "white",
             "startlinecolor": "#2a3f5f"
            },
            "type": "carpet"
           }
          ],
          "choropleth": [
           {
            "colorbar": {
             "outlinewidth": 0,
             "ticks": ""
            },
            "type": "choropleth"
           }
          ],
          "contour": [
           {
            "colorbar": {
             "outlinewidth": 0,
             "ticks": ""
            },
            "colorscale": [
             [
              0,
              "#0d0887"
             ],
             [
              0.1111111111111111,
              "#46039f"
             ],
             [
              0.2222222222222222,
              "#7201a8"
             ],
             [
              0.3333333333333333,
              "#9c179e"
             ],
             [
              0.4444444444444444,
              "#bd3786"
             ],
             [
              0.5555555555555556,
              "#d8576b"
             ],
             [
              0.6666666666666666,
              "#ed7953"
             ],
             [
              0.7777777777777778,
              "#fb9f3a"
             ],
             [
              0.8888888888888888,
              "#fdca26"
             ],
             [
              1,
              "#f0f921"
             ]
            ],
            "type": "contour"
           }
          ],
          "contourcarpet": [
           {
            "colorbar": {
             "outlinewidth": 0,
             "ticks": ""
            },
            "type": "contourcarpet"
           }
          ],
          "heatmap": [
           {
            "colorbar": {
             "outlinewidth": 0,
             "ticks": ""
            },
            "colorscale": [
             [
              0,
              "#0d0887"
             ],
             [
              0.1111111111111111,
              "#46039f"
             ],
             [
              0.2222222222222222,
              "#7201a8"
             ],
             [
              0.3333333333333333,
              "#9c179e"
             ],
             [
              0.4444444444444444,
              "#bd3786"
             ],
             [
              0.5555555555555556,
              "#d8576b"
             ],
             [
              0.6666666666666666,
              "#ed7953"
             ],
             [
              0.7777777777777778,
              "#fb9f3a"
             ],
             [
              0.8888888888888888,
              "#fdca26"
             ],
             [
              1,
              "#f0f921"
             ]
            ],
            "type": "heatmap"
           }
          ],
          "histogram": [
           {
            "marker": {
             "pattern": {
              "fillmode": "overlay",
              "size": 10,
              "solidity": 0.2
             }
            },
            "type": "histogram"
           }
          ],
          "histogram2d": [
           {
            "colorbar": {
             "outlinewidth": 0,
             "ticks": ""
            },
            "colorscale": [
             [
              0,
              "#0d0887"
             ],
             [
              0.1111111111111111,
              "#46039f"
             ],
             [
              0.2222222222222222,
              "#7201a8"
             ],
             [
              0.3333333333333333,
              "#9c179e"
             ],
             [
              0.4444444444444444,
              "#bd3786"
             ],
             [
              0.5555555555555556,
              "#d8576b"
             ],
             [
              0.6666666666666666,
              "#ed7953"
             ],
             [
              0.7777777777777778,
              "#fb9f3a"
             ],
             [
              0.8888888888888888,
              "#fdca26"
             ],
             [
              1,
              "#f0f921"
             ]
            ],
            "type": "histogram2d"
           }
          ],
          "histogram2dcontour": [
           {
            "colorbar": {
             "outlinewidth": 0,
             "ticks": ""
            },
            "colorscale": [
             [
              0,
              "#0d0887"
             ],
             [
              0.1111111111111111,
              "#46039f"
             ],
             [
              0.2222222222222222,
              "#7201a8"
             ],
             [
              0.3333333333333333,
              "#9c179e"
             ],
             [
              0.4444444444444444,
              "#bd3786"
             ],
             [
              0.5555555555555556,
              "#d8576b"
             ],
             [
              0.6666666666666666,
              "#ed7953"
             ],
             [
              0.7777777777777778,
              "#fb9f3a"
             ],
             [
              0.8888888888888888,
              "#fdca26"
             ],
             [
              1,
              "#f0f921"
             ]
            ],
            "type": "histogram2dcontour"
           }
          ],
          "mesh3d": [
           {
            "colorbar": {
             "outlinewidth": 0,
             "ticks": ""
            },
            "type": "mesh3d"
           }
          ],
          "parcoords": [
           {
            "line": {
             "colorbar": {
              "outlinewidth": 0,
              "ticks": ""
             }
            },
            "type": "parcoords"
           }
          ],
          "pie": [
           {
            "automargin": true,
            "type": "pie"
           }
          ],
          "scatter": [
           {
            "fillpattern": {
             "fillmode": "overlay",
             "size": 10,
             "solidity": 0.2
            },
            "type": "scatter"
           }
          ],
          "scatter3d": [
           {
            "line": {
             "colorbar": {
              "outlinewidth": 0,
              "ticks": ""
             }
            },
            "marker": {
             "colorbar": {
              "outlinewidth": 0,
              "ticks": ""
             }
            },
            "type": "scatter3d"
           }
          ],
          "scattercarpet": [
           {
            "marker": {
             "colorbar": {
              "outlinewidth": 0,
              "ticks": ""
             }
            },
            "type": "scattercarpet"
           }
          ],
          "scattergeo": [
           {
            "marker": {
             "colorbar": {
              "outlinewidth": 0,
              "ticks": ""
             }
            },
            "type": "scattergeo"
           }
          ],
          "scattergl": [
           {
            "marker": {
             "colorbar": {
              "outlinewidth": 0,
              "ticks": ""
             }
            },
            "type": "scattergl"
           }
          ],
          "scattermap": [
           {
            "marker": {
             "colorbar": {
              "outlinewidth": 0,
              "ticks": ""
             }
            },
            "type": "scattermap"
           }
          ],
          "scattermapbox": [
           {
            "marker": {
             "colorbar": {
              "outlinewidth": 0,
              "ticks": ""
             }
            },
            "type": "scattermapbox"
           }
          ],
          "scatterpolar": [
           {
            "marker": {
             "colorbar": {
              "outlinewidth": 0,
              "ticks": ""
             }
            },
            "type": "scatterpolar"
           }
          ],
          "scatterpolargl": [
           {
            "marker": {
             "colorbar": {
              "outlinewidth": 0,
              "ticks": ""
             }
            },
            "type": "scatterpolargl"
           }
          ],
          "scatterternary": [
           {
            "marker": {
             "colorbar": {
              "outlinewidth": 0,
              "ticks": ""
             }
            },
            "type": "scatterternary"
           }
          ],
          "surface": [
           {
            "colorbar": {
             "outlinewidth": 0,
             "ticks": ""
            },
            "colorscale": [
             [
              0,
              "#0d0887"
             ],
             [
              0.1111111111111111,
              "#46039f"
             ],
             [
              0.2222222222222222,
              "#7201a8"
             ],
             [
              0.3333333333333333,
              "#9c179e"
             ],
             [
              0.4444444444444444,
              "#bd3786"
             ],
             [
              0.5555555555555556,
              "#d8576b"
             ],
             [
              0.6666666666666666,
              "#ed7953"
             ],
             [
              0.7777777777777778,
              "#fb9f3a"
             ],
             [
              0.8888888888888888,
              "#fdca26"
             ],
             [
              1,
              "#f0f921"
             ]
            ],
            "type": "surface"
           }
          ],
          "table": [
           {
            "cells": {
             "fill": {
              "color": "#EBF0F8"
             },
             "line": {
              "color": "white"
             }
            },
            "header": {
             "fill": {
              "color": "#C8D4E3"
             },
             "line": {
              "color": "white"
             }
            },
            "type": "table"
           }
          ]
         },
         "layout": {
          "annotationdefaults": {
           "arrowcolor": "#2a3f5f",
           "arrowhead": 0,
           "arrowwidth": 1
          },
          "autotypenumbers": "strict",
          "coloraxis": {
           "colorbar": {
            "outlinewidth": 0,
            "ticks": ""
           }
          },
          "colorscale": {
           "diverging": [
            [
             0,
             "#8e0152"
            ],
            [
             0.1,
             "#c51b7d"
            ],
            [
             0.2,
             "#de77ae"
            ],
            [
             0.3,
             "#f1b6da"
            ],
            [
             0.4,
             "#fde0ef"
            ],
            [
             0.5,
             "#f7f7f7"
            ],
            [
             0.6,
             "#e6f5d0"
            ],
            [
             0.7,
             "#b8e186"
            ],
            [
             0.8,
             "#7fbc41"
            ],
            [
             0.9,
             "#4d9221"
            ],
            [
             1,
             "#276419"
            ]
           ],
           "sequential": [
            [
             0,
             "#0d0887"
            ],
            [
             0.1111111111111111,
             "#46039f"
            ],
            [
             0.2222222222222222,
             "#7201a8"
            ],
            [
             0.3333333333333333,
             "#9c179e"
            ],
            [
             0.4444444444444444,
             "#bd3786"
            ],
            [
             0.5555555555555556,
             "#d8576b"
            ],
            [
             0.6666666666666666,
             "#ed7953"
            ],
            [
             0.7777777777777778,
             "#fb9f3a"
            ],
            [
             0.8888888888888888,
             "#fdca26"
            ],
            [
             1,
             "#f0f921"
            ]
           ],
           "sequentialminus": [
            [
             0,
             "#0d0887"
            ],
            [
             0.1111111111111111,
             "#46039f"
            ],
            [
             0.2222222222222222,
             "#7201a8"
            ],
            [
             0.3333333333333333,
             "#9c179e"
            ],
            [
             0.4444444444444444,
             "#bd3786"
            ],
            [
             0.5555555555555556,
             "#d8576b"
            ],
            [
             0.6666666666666666,
             "#ed7953"
            ],
            [
             0.7777777777777778,
             "#fb9f3a"
            ],
            [
             0.8888888888888888,
             "#fdca26"
            ],
            [
             1,
             "#f0f921"
            ]
           ]
          },
          "colorway": [
           "#636efa",
           "#EF553B",
           "#00cc96",
           "#ab63fa",
           "#FFA15A",
           "#19d3f3",
           "#FF6692",
           "#B6E880",
           "#FF97FF",
           "#FECB52"
          ],
          "font": {
           "color": "#2a3f5f"
          },
          "geo": {
           "bgcolor": "white",
           "lakecolor": "white",
           "landcolor": "#E5ECF6",
           "showlakes": true,
           "showland": true,
           "subunitcolor": "white"
          },
          "hoverlabel": {
           "align": "left"
          },
          "hovermode": "closest",
          "mapbox": {
           "style": "light"
          },
          "paper_bgcolor": "white",
          "plot_bgcolor": "#E5ECF6",
          "polar": {
           "angularaxis": {
            "gridcolor": "white",
            "linecolor": "white",
            "ticks": ""
           },
           "bgcolor": "#E5ECF6",
           "radialaxis": {
            "gridcolor": "white",
            "linecolor": "white",
            "ticks": ""
           }
          },
          "scene": {
           "xaxis": {
            "backgroundcolor": "#E5ECF6",
            "gridcolor": "white",
            "gridwidth": 2,
            "linecolor": "white",
            "showbackground": true,
            "ticks": "",
            "zerolinecolor": "white"
           },
           "yaxis": {
            "backgroundcolor": "#E5ECF6",
            "gridcolor": "white",
            "gridwidth": 2,
            "linecolor": "white",
            "showbackground": true,
            "ticks": "",
            "zerolinecolor": "white"
           },
           "zaxis": {
            "backgroundcolor": "#E5ECF6",
            "gridcolor": "white",
            "gridwidth": 2,
            "linecolor": "white",
            "showbackground": true,
            "ticks": "",
            "zerolinecolor": "white"
           }
          },
          "shapedefaults": {
           "line": {
            "color": "#2a3f5f"
           }
          },
          "ternary": {
           "aaxis": {
            "gridcolor": "white",
            "linecolor": "white",
            "ticks": ""
           },
           "baxis": {
            "gridcolor": "white",
            "linecolor": "white",
            "ticks": ""
           },
           "bgcolor": "#E5ECF6",
           "caxis": {
            "gridcolor": "white",
            "linecolor": "white",
            "ticks": ""
           }
          },
          "title": {
           "x": 0.05
          },
          "xaxis": {
           "automargin": true,
           "gridcolor": "white",
           "linecolor": "white",
           "ticks": "",
           "title": {
            "standoff": 15
           },
           "zerolinecolor": "white",
           "zerolinewidth": 2
          },
          "yaxis": {
           "automargin": true,
           "gridcolor": "white",
           "linecolor": "white",
           "ticks": "",
           "title": {
            "standoff": 15
           },
           "zerolinecolor": "white",
           "zerolinewidth": 2
          }
         }
        },
        "title": {
         "text": "Lasso Feature Importance"
        },
        "width": 1000,
        "xaxis": {
         "anchor": "y",
         "domain": [
          0,
          1
         ],
         "tickangle": -45,
         "title": {
          "text": "Feature"
         }
        },
        "yaxis": {
         "anchor": "x",
         "domain": [
          0,
          1
         ],
         "title": {
          "text": "Importance"
         }
        }
       }
      }
     },
     "metadata": {},
     "output_type": "display_data"
    }
   ],
   "source": [
    "fig = px.bar(\n",
    "    feat_df,                \n",
    "    x='Feature',            \n",
    "    y='Importance',         \n",
    "    color='Top15%',         \n",
    "    color_discrete_map={'Yes': 'red', 'No': 'blue'},  \n",
    "    text='Importance',      \n",
    "    title='Lasso Feature Importance'  \n",
    ")\n",
    "\n",
    "\n",
    "fig.update_layout(\n",
    "    xaxis_tickangle=-45,  \n",
    "    width=1000,           \n",
    "    height=600            \n",
    ")\n",
    "\n",
    "fig.show()"
   ]
  },
  {
   "cell_type": "markdown",
   "id": "c389da5f",
   "metadata": {},
   "source": [
    "# Feature Selection Embedded + Random Forest Regression "
   ]
  },
  {
   "cell_type": "code",
   "execution_count": 24,
   "id": "bb20aeed",
   "metadata": {},
   "outputs": [
    {
     "name": "stdout",
     "output_type": "stream",
     "text": [
      "Random Forest Feature Importance Table:\n",
      "               Feature    Importance Top15%\n",
      "12          CategoryID  4.992266e-01    Yes\n",
      "14      CategoryID_enc  3.679482e-01    Yes\n",
      "22  Category_Cluster_y  6.782183e-02    Yes\n",
      "20  Category_Cluster_x  6.500340e-02    Yes\n",
      "30        Like_per_Sub  9.717529e-16    Yes\n",
      "8          Subscribers  9.694972e-16     No\n",
      "2          Video Title  9.602479e-16     No\n",
      "32        Published_ts  9.596209e-16     No\n",
      "9        Channel Views  9.393516e-16     No\n",
      "1             Video ID  9.284413e-16     No\n",
      "28       Views_per_Sub  9.168453e-16     No\n",
      "0           Unnamed: 0  9.145345e-16     No\n",
      "4       Published Date  9.104732e-16     No\n",
      "3              Channel  8.703656e-16     No\n",
      "29          Engagement  8.441524e-16     No\n",
      "5                Views  8.273961e-16     No\n",
      "6                Likes  8.008994e-16     No\n",
      "31     Comment_per_Sub  7.174852e-16     No\n",
      "7             Comments  6.161732e-16     No\n",
      "15         Country_enc  4.810968e-16     No\n",
      "10             Country  3.569709e-16     No\n",
      "11              Region  3.331184e-16     No\n",
      "25                 Day  3.005298e-16     No\n",
      "27             DayName  1.071492e-16     No\n",
      "26           DayOfWeek  9.982260e-17     No\n",
      "21   Country_Cluster_y  4.743190e-17     No\n",
      "24               Month  3.160667e-17     No\n",
      "16        VideoCluster  2.353553e-17     No\n",
      "19   Country_Cluster_x  2.321449e-17     No\n",
      "17     Channel_Cluster  8.094852e-18     No\n",
      "13             Cluster  6.506575e-18     No\n",
      "18       Video_Cluster  4.812658e-18     No\n",
      "23                Year  0.000000e+00     No\n"
     ]
    }
   ],
   "source": [
    "# Random Forest Regressorni import qilamiz\n",
    "from sklearn.ensemble import RandomForestRegressor\n",
    "\n",
    "rf = RandomForestRegressor(n_estimators=500, random_state=42)\n",
    "\n",
    "rf.fit(X, y)\n",
    "\n",
    "importances = rf.feature_importances_\n",
    "feat_df = pd.DataFrame({\n",
    "    'Feature': X.columns,       \n",
    "    'Importance': importances   \n",
    "})\n",
    "feat_df = feat_df.sort_values(by='Importance', ascending=False)\n",
    "percentile_threshold = np.percentile(importances, 85)\n",
    "feat_df['Top15%'] = np.where(feat_df['Importance'] >= percentile_threshold, 'Yes', 'No')\n",
    "print(\"Random Forest Feature Importance Table:\")\n",
    "print(feat_df)"
   ]
  },
  {
   "cell_type": "code",
   "execution_count": 25,
   "id": "d4402d64",
   "metadata": {},
   "outputs": [
    {
     "data": {
      "application/vnd.plotly.v1+json": {
       "config": {
        "plotlyServerURL": "https://plot.ly"
       },
       "data": [
        {
         "hovertemplate": "Top15%=Yes<br>Feature=%{x}<br>Importance=%{text}<extra></extra>",
         "legendgroup": "Yes",
         "marker": {
          "color": "red",
          "pattern": {
           "shape": ""
          }
         },
         "name": "Yes",
         "orientation": "v",
         "showlegend": true,
         "text": {
          "bdata": "dkdV/1Pz3z+u3n+fdozXP2wcY3bFXLE/y0ZIDhCksD/zK/tKa4HRPA==",
          "dtype": "f8"
         },
         "textposition": "auto",
         "type": "bar",
         "x": [
          "CategoryID",
          "CategoryID_enc",
          "Category_Cluster_y",
          "Category_Cluster_x",
          "Like_per_Sub"
         ],
         "xaxis": "x",
         "y": {
          "bdata": "dkdV/1Pz3z+u3n+fdozXP2wcY3bFXLE/y0ZIDhCksD/zK/tKa4HRPA==",
          "dtype": "f8"
         },
         "yaxis": "y"
        },
        {
         "hovertemplate": "Top15%=No<br>Feature=%{x}<br>Importance=%{text}<extra></extra>",
         "legendgroup": "No",
         "marker": {
          "color": "blue",
          "pattern": {
           "shape": ""
          }
         },
         "name": "No",
         "orientation": "v",
         "showlegend": true,
         "text": {
          "bdata": "K4GKTwR30TymTsWSXEzRPAhIGFt4SdE85chbr/7r0Dwu3T0OrrnQPAtOV+0zhNA8pxcqzIt50DzCOGwN0WbQPGfdxaS0W888LHFime5pzjxILW/oYc/NPLIxJiP+2sw8oPZPDqLZyTzE7uzkMTPGPKx3FqJVVcE8e+hpVvO4uTykUJ838wC4PD7R4s/Lp7U8/NSGtjbinjy6Ez6cm8WcPDsq+nG2V4s8Sqy+GFI4gjzcU3tfdiJ7PLzLhvK0w3o88qD0bluqYjxoFoG0mwFePJGed8HIMVY8AAAAAAAAAAA=",
          "dtype": "f8"
         },
         "textposition": "auto",
         "type": "bar",
         "x": [
          "Subscribers",
          "Video Title",
          "Published_ts",
          "Channel Views",
          "Video ID",
          "Views_per_Sub",
          "Unnamed: 0",
          "Published Date",
          "Channel",
          "Engagement",
          "Views",
          "Likes",
          "Comment_per_Sub",
          "Comments",
          "Country_enc",
          "Country",
          "Region",
          "Day",
          "DayName",
          "DayOfWeek",
          "Country_Cluster_y",
          "Month",
          "VideoCluster",
          "Country_Cluster_x",
          "Channel_Cluster",
          "Cluster",
          "Video_Cluster",
          "Year"
         ],
         "xaxis": "x",
         "y": {
          "bdata": "K4GKTwR30TymTsWSXEzRPAhIGFt4SdE85chbr/7r0Dwu3T0OrrnQPAtOV+0zhNA8pxcqzIt50DzCOGwN0WbQPGfdxaS0W888LHFime5pzjxILW/oYc/NPLIxJiP+2sw8oPZPDqLZyTzE7uzkMTPGPKx3FqJVVcE8e+hpVvO4uTykUJ838wC4PD7R4s/Lp7U8/NSGtjbinjy6Ez6cm8WcPDsq+nG2V4s8Sqy+GFI4gjzcU3tfdiJ7PLzLhvK0w3o88qD0bluqYjxoFoG0mwFePJGed8HIMVY8AAAAAAAAAAA=",
          "dtype": "f8"
         },
         "yaxis": "y"
        }
       ],
       "layout": {
        "barmode": "relative",
        "height": 600,
        "legend": {
         "title": {
          "text": "Top15%"
         },
         "tracegroupgap": 0
        },
        "template": {
         "data": {
          "bar": [
           {
            "error_x": {
             "color": "#2a3f5f"
            },
            "error_y": {
             "color": "#2a3f5f"
            },
            "marker": {
             "line": {
              "color": "#E5ECF6",
              "width": 0.5
             },
             "pattern": {
              "fillmode": "overlay",
              "size": 10,
              "solidity": 0.2
             }
            },
            "type": "bar"
           }
          ],
          "barpolar": [
           {
            "marker": {
             "line": {
              "color": "#E5ECF6",
              "width": 0.5
             },
             "pattern": {
              "fillmode": "overlay",
              "size": 10,
              "solidity": 0.2
             }
            },
            "type": "barpolar"
           }
          ],
          "carpet": [
           {
            "aaxis": {
             "endlinecolor": "#2a3f5f",
             "gridcolor": "white",
             "linecolor": "white",
             "minorgridcolor": "white",
             "startlinecolor": "#2a3f5f"
            },
            "baxis": {
             "endlinecolor": "#2a3f5f",
             "gridcolor": "white",
             "linecolor": "white",
             "minorgridcolor": "white",
             "startlinecolor": "#2a3f5f"
            },
            "type": "carpet"
           }
          ],
          "choropleth": [
           {
            "colorbar": {
             "outlinewidth": 0,
             "ticks": ""
            },
            "type": "choropleth"
           }
          ],
          "contour": [
           {
            "colorbar": {
             "outlinewidth": 0,
             "ticks": ""
            },
            "colorscale": [
             [
              0,
              "#0d0887"
             ],
             [
              0.1111111111111111,
              "#46039f"
             ],
             [
              0.2222222222222222,
              "#7201a8"
             ],
             [
              0.3333333333333333,
              "#9c179e"
             ],
             [
              0.4444444444444444,
              "#bd3786"
             ],
             [
              0.5555555555555556,
              "#d8576b"
             ],
             [
              0.6666666666666666,
              "#ed7953"
             ],
             [
              0.7777777777777778,
              "#fb9f3a"
             ],
             [
              0.8888888888888888,
              "#fdca26"
             ],
             [
              1,
              "#f0f921"
             ]
            ],
            "type": "contour"
           }
          ],
          "contourcarpet": [
           {
            "colorbar": {
             "outlinewidth": 0,
             "ticks": ""
            },
            "type": "contourcarpet"
           }
          ],
          "heatmap": [
           {
            "colorbar": {
             "outlinewidth": 0,
             "ticks": ""
            },
            "colorscale": [
             [
              0,
              "#0d0887"
             ],
             [
              0.1111111111111111,
              "#46039f"
             ],
             [
              0.2222222222222222,
              "#7201a8"
             ],
             [
              0.3333333333333333,
              "#9c179e"
             ],
             [
              0.4444444444444444,
              "#bd3786"
             ],
             [
              0.5555555555555556,
              "#d8576b"
             ],
             [
              0.6666666666666666,
              "#ed7953"
             ],
             [
              0.7777777777777778,
              "#fb9f3a"
             ],
             [
              0.8888888888888888,
              "#fdca26"
             ],
             [
              1,
              "#f0f921"
             ]
            ],
            "type": "heatmap"
           }
          ],
          "histogram": [
           {
            "marker": {
             "pattern": {
              "fillmode": "overlay",
              "size": 10,
              "solidity": 0.2
             }
            },
            "type": "histogram"
           }
          ],
          "histogram2d": [
           {
            "colorbar": {
             "outlinewidth": 0,
             "ticks": ""
            },
            "colorscale": [
             [
              0,
              "#0d0887"
             ],
             [
              0.1111111111111111,
              "#46039f"
             ],
             [
              0.2222222222222222,
              "#7201a8"
             ],
             [
              0.3333333333333333,
              "#9c179e"
             ],
             [
              0.4444444444444444,
              "#bd3786"
             ],
             [
              0.5555555555555556,
              "#d8576b"
             ],
             [
              0.6666666666666666,
              "#ed7953"
             ],
             [
              0.7777777777777778,
              "#fb9f3a"
             ],
             [
              0.8888888888888888,
              "#fdca26"
             ],
             [
              1,
              "#f0f921"
             ]
            ],
            "type": "histogram2d"
           }
          ],
          "histogram2dcontour": [
           {
            "colorbar": {
             "outlinewidth": 0,
             "ticks": ""
            },
            "colorscale": [
             [
              0,
              "#0d0887"
             ],
             [
              0.1111111111111111,
              "#46039f"
             ],
             [
              0.2222222222222222,
              "#7201a8"
             ],
             [
              0.3333333333333333,
              "#9c179e"
             ],
             [
              0.4444444444444444,
              "#bd3786"
             ],
             [
              0.5555555555555556,
              "#d8576b"
             ],
             [
              0.6666666666666666,
              "#ed7953"
             ],
             [
              0.7777777777777778,
              "#fb9f3a"
             ],
             [
              0.8888888888888888,
              "#fdca26"
             ],
             [
              1,
              "#f0f921"
             ]
            ],
            "type": "histogram2dcontour"
           }
          ],
          "mesh3d": [
           {
            "colorbar": {
             "outlinewidth": 0,
             "ticks": ""
            },
            "type": "mesh3d"
           }
          ],
          "parcoords": [
           {
            "line": {
             "colorbar": {
              "outlinewidth": 0,
              "ticks": ""
             }
            },
            "type": "parcoords"
           }
          ],
          "pie": [
           {
            "automargin": true,
            "type": "pie"
           }
          ],
          "scatter": [
           {
            "fillpattern": {
             "fillmode": "overlay",
             "size": 10,
             "solidity": 0.2
            },
            "type": "scatter"
           }
          ],
          "scatter3d": [
           {
            "line": {
             "colorbar": {
              "outlinewidth": 0,
              "ticks": ""
             }
            },
            "marker": {
             "colorbar": {
              "outlinewidth": 0,
              "ticks": ""
             }
            },
            "type": "scatter3d"
           }
          ],
          "scattercarpet": [
           {
            "marker": {
             "colorbar": {
              "outlinewidth": 0,
              "ticks": ""
             }
            },
            "type": "scattercarpet"
           }
          ],
          "scattergeo": [
           {
            "marker": {
             "colorbar": {
              "outlinewidth": 0,
              "ticks": ""
             }
            },
            "type": "scattergeo"
           }
          ],
          "scattergl": [
           {
            "marker": {
             "colorbar": {
              "outlinewidth": 0,
              "ticks": ""
             }
            },
            "type": "scattergl"
           }
          ],
          "scattermap": [
           {
            "marker": {
             "colorbar": {
              "outlinewidth": 0,
              "ticks": ""
             }
            },
            "type": "scattermap"
           }
          ],
          "scattermapbox": [
           {
            "marker": {
             "colorbar": {
              "outlinewidth": 0,
              "ticks": ""
             }
            },
            "type": "scattermapbox"
           }
          ],
          "scatterpolar": [
           {
            "marker": {
             "colorbar": {
              "outlinewidth": 0,
              "ticks": ""
             }
            },
            "type": "scatterpolar"
           }
          ],
          "scatterpolargl": [
           {
            "marker": {
             "colorbar": {
              "outlinewidth": 0,
              "ticks": ""
             }
            },
            "type": "scatterpolargl"
           }
          ],
          "scatterternary": [
           {
            "marker": {
             "colorbar": {
              "outlinewidth": 0,
              "ticks": ""
             }
            },
            "type": "scatterternary"
           }
          ],
          "surface": [
           {
            "colorbar": {
             "outlinewidth": 0,
             "ticks": ""
            },
            "colorscale": [
             [
              0,
              "#0d0887"
             ],
             [
              0.1111111111111111,
              "#46039f"
             ],
             [
              0.2222222222222222,
              "#7201a8"
             ],
             [
              0.3333333333333333,
              "#9c179e"
             ],
             [
              0.4444444444444444,
              "#bd3786"
             ],
             [
              0.5555555555555556,
              "#d8576b"
             ],
             [
              0.6666666666666666,
              "#ed7953"
             ],
             [
              0.7777777777777778,
              "#fb9f3a"
             ],
             [
              0.8888888888888888,
              "#fdca26"
             ],
             [
              1,
              "#f0f921"
             ]
            ],
            "type": "surface"
           }
          ],
          "table": [
           {
            "cells": {
             "fill": {
              "color": "#EBF0F8"
             },
             "line": {
              "color": "white"
             }
            },
            "header": {
             "fill": {
              "color": "#C8D4E3"
             },
             "line": {
              "color": "white"
             }
            },
            "type": "table"
           }
          ]
         },
         "layout": {
          "annotationdefaults": {
           "arrowcolor": "#2a3f5f",
           "arrowhead": 0,
           "arrowwidth": 1
          },
          "autotypenumbers": "strict",
          "coloraxis": {
           "colorbar": {
            "outlinewidth": 0,
            "ticks": ""
           }
          },
          "colorscale": {
           "diverging": [
            [
             0,
             "#8e0152"
            ],
            [
             0.1,
             "#c51b7d"
            ],
            [
             0.2,
             "#de77ae"
            ],
            [
             0.3,
             "#f1b6da"
            ],
            [
             0.4,
             "#fde0ef"
            ],
            [
             0.5,
             "#f7f7f7"
            ],
            [
             0.6,
             "#e6f5d0"
            ],
            [
             0.7,
             "#b8e186"
            ],
            [
             0.8,
             "#7fbc41"
            ],
            [
             0.9,
             "#4d9221"
            ],
            [
             1,
             "#276419"
            ]
           ],
           "sequential": [
            [
             0,
             "#0d0887"
            ],
            [
             0.1111111111111111,
             "#46039f"
            ],
            [
             0.2222222222222222,
             "#7201a8"
            ],
            [
             0.3333333333333333,
             "#9c179e"
            ],
            [
             0.4444444444444444,
             "#bd3786"
            ],
            [
             0.5555555555555556,
             "#d8576b"
            ],
            [
             0.6666666666666666,
             "#ed7953"
            ],
            [
             0.7777777777777778,
             "#fb9f3a"
            ],
            [
             0.8888888888888888,
             "#fdca26"
            ],
            [
             1,
             "#f0f921"
            ]
           ],
           "sequentialminus": [
            [
             0,
             "#0d0887"
            ],
            [
             0.1111111111111111,
             "#46039f"
            ],
            [
             0.2222222222222222,
             "#7201a8"
            ],
            [
             0.3333333333333333,
             "#9c179e"
            ],
            [
             0.4444444444444444,
             "#bd3786"
            ],
            [
             0.5555555555555556,
             "#d8576b"
            ],
            [
             0.6666666666666666,
             "#ed7953"
            ],
            [
             0.7777777777777778,
             "#fb9f3a"
            ],
            [
             0.8888888888888888,
             "#fdca26"
            ],
            [
             1,
             "#f0f921"
            ]
           ]
          },
          "colorway": [
           "#636efa",
           "#EF553B",
           "#00cc96",
           "#ab63fa",
           "#FFA15A",
           "#19d3f3",
           "#FF6692",
           "#B6E880",
           "#FF97FF",
           "#FECB52"
          ],
          "font": {
           "color": "#2a3f5f"
          },
          "geo": {
           "bgcolor": "white",
           "lakecolor": "white",
           "landcolor": "#E5ECF6",
           "showlakes": true,
           "showland": true,
           "subunitcolor": "white"
          },
          "hoverlabel": {
           "align": "left"
          },
          "hovermode": "closest",
          "mapbox": {
           "style": "light"
          },
          "paper_bgcolor": "white",
          "plot_bgcolor": "#E5ECF6",
          "polar": {
           "angularaxis": {
            "gridcolor": "white",
            "linecolor": "white",
            "ticks": ""
           },
           "bgcolor": "#E5ECF6",
           "radialaxis": {
            "gridcolor": "white",
            "linecolor": "white",
            "ticks": ""
           }
          },
          "scene": {
           "xaxis": {
            "backgroundcolor": "#E5ECF6",
            "gridcolor": "white",
            "gridwidth": 2,
            "linecolor": "white",
            "showbackground": true,
            "ticks": "",
            "zerolinecolor": "white"
           },
           "yaxis": {
            "backgroundcolor": "#E5ECF6",
            "gridcolor": "white",
            "gridwidth": 2,
            "linecolor": "white",
            "showbackground": true,
            "ticks": "",
            "zerolinecolor": "white"
           },
           "zaxis": {
            "backgroundcolor": "#E5ECF6",
            "gridcolor": "white",
            "gridwidth": 2,
            "linecolor": "white",
            "showbackground": true,
            "ticks": "",
            "zerolinecolor": "white"
           }
          },
          "shapedefaults": {
           "line": {
            "color": "#2a3f5f"
           }
          },
          "ternary": {
           "aaxis": {
            "gridcolor": "white",
            "linecolor": "white",
            "ticks": ""
           },
           "baxis": {
            "gridcolor": "white",
            "linecolor": "white",
            "ticks": ""
           },
           "bgcolor": "#E5ECF6",
           "caxis": {
            "gridcolor": "white",
            "linecolor": "white",
            "ticks": ""
           }
          },
          "title": {
           "x": 0.05
          },
          "xaxis": {
           "automargin": true,
           "gridcolor": "white",
           "linecolor": "white",
           "ticks": "",
           "title": {
            "standoff": 15
           },
           "zerolinecolor": "white",
           "zerolinewidth": 2
          },
          "yaxis": {
           "automargin": true,
           "gridcolor": "white",
           "linecolor": "white",
           "ticks": "",
           "title": {
            "standoff": 15
           },
           "zerolinecolor": "white",
           "zerolinewidth": 2
          }
         }
        },
        "title": {
         "text": "Random Forest Feature Importance"
        },
        "width": 1000,
        "xaxis": {
         "anchor": "y",
         "domain": [
          0,
          1
         ],
         "tickangle": -45,
         "title": {
          "text": "Feature"
         }
        },
        "yaxis": {
         "anchor": "x",
         "domain": [
          0,
          1
         ],
         "title": {
          "text": "Importance"
         }
        }
       }
      }
     },
     "metadata": {},
     "output_type": "display_data"
    }
   ],
   "source": [
    "# Plotly Express yordamida Random Forest feature importance'ni grafik ko'rinishida chiqaramiz\n",
    "fig = px.bar(\n",
    "    feat_df,                \n",
    "    x='Feature',            \n",
    "    y='Importance',         \n",
    "    color='Top15%',         \n",
    "    color_discrete_map={'Yes': 'red', 'No': 'blue'},  \n",
    "    text='Importance',      \n",
    "    title='Random Forest Feature Importance'  \n",
    ")\n",
    "\n",
    "\n",
    "fig.update_layout(\n",
    "    xaxis_tickangle=-45,  \n",
    "    width=1000,           \n",
    "    height=600            \n",
    ")\n",
    "\n",
    "fig.show()"
   ]
  },
  {
   "cell_type": "markdown",
   "id": "d9b1c53a",
   "metadata": {},
   "source": [
    "# Feature Selection Embedded + LassoCV  "
   ]
  },
  {
   "cell_type": "code",
   "execution_count": 26,
   "id": "714dfce6",
   "metadata": {},
   "outputs": [
    {
     "name": "stdout",
     "output_type": "stream",
     "text": [
      "LassoCV Feature Importance Table:\n",
      "               Feature    Importance Top15%\n",
      "12          CategoryID  4.716190e-01    Yes\n",
      "29          Engagement  2.286910e-01    Yes\n",
      "14      CategoryID_enc  1.708794e-01    Yes\n",
      "16        VideoCluster  1.232840e-01    Yes\n",
      "26           DayOfWeek  7.071684e-02    Yes\n",
      "18       Video_Cluster  6.393421e-02     No\n",
      "25                 Day  6.066246e-02     No\n",
      "7             Comments  5.411552e-02     No\n",
      "6                Likes  5.143802e-02     No\n",
      "10             Country  4.747209e-02     No\n",
      "20  Category_Cluster_x  4.386135e-02     No\n",
      "13             Cluster  3.634538e-02     No\n",
      "19   Country_Cluster_x  1.056543e-02     No\n",
      "3              Channel  8.545476e-03     No\n",
      "8          Subscribers  6.574240e-03     No\n",
      "11              Region  4.308947e-03     No\n",
      "22  Category_Cluster_y  4.183108e-17     No\n",
      "0           Unnamed: 0  0.000000e+00     No\n",
      "9        Channel Views  0.000000e+00     No\n",
      "15         Country_enc  0.000000e+00     No\n",
      "5                Views  0.000000e+00     No\n",
      "4       Published Date  0.000000e+00     No\n",
      "2          Video Title  0.000000e+00     No\n",
      "1             Video ID  0.000000e+00     No\n",
      "17     Channel_Cluster  0.000000e+00     No\n",
      "24               Month  0.000000e+00     No\n",
      "23                Year  0.000000e+00     No\n",
      "21   Country_Cluster_y  0.000000e+00     No\n",
      "27             DayName  0.000000e+00     No\n",
      "28       Views_per_Sub  0.000000e+00     No\n",
      "30        Like_per_Sub  0.000000e+00     No\n",
      "31     Comment_per_Sub  0.000000e+00     No\n",
      "32        Published_ts  0.000000e+00     No\n"
     ]
    }
   ],
   "source": [
    "import pandas as pd\n",
    "import numpy as np\n",
    "from sklearn.linear_model import LassoCV\n",
    "from sklearn.preprocessing import StandardScaler\n",
    "\n",
    "# (1) Ma'lumotlarni standartlashtirish juda muhim (Lasso uchun shart)\n",
    "scaler = StandardScaler()\n",
    "X_scaled = scaler.fit_transform(X)\n",
    "\n",
    "# (2) LassoCV modelini yaratamiz\n",
    "lasso = LassoCV(cv=5, random_state=42)\n",
    "\n",
    "# (3) Modelni o‘qitamiz\n",
    "lasso.fit(X_scaled, y)\n",
    "\n",
    "# (4) Feature importance (koeffitsientlarning mutlaq qiymati)\n",
    "importances = np.abs(lasso.coef_)\n",
    "\n",
    "# (5) DataFrame ko‘rinishida natijalar\n",
    "feat_df = pd.DataFrame({\n",
    "    'Feature': X.columns,\n",
    "    'Importance': importances\n",
    "}).sort_values(by='Importance', ascending=False)\n",
    "\n",
    "# (6) Yuqori 15% (85-percentile dan yuqori) xususiyatlarni belgilang\n",
    "percentile_threshold = np.percentile(importances, 85)\n",
    "feat_df['Top15%'] = np.where(feat_df['Importance'] >= percentile_threshold, 'Yes', 'No')\n",
    "\n",
    "# (7) Natijani chiqaramiz\n",
    "print(\"LassoCV Feature Importance Table:\")\n",
    "print(feat_df)\n"
   ]
  },
  {
   "cell_type": "code",
   "execution_count": null,
   "id": "4a4a983f",
   "metadata": {},
   "outputs": [],
   "source": []
  }
 ],
 "metadata": {
  "kernelspec": {
   "display_name": "mpvenv",
   "language": "python",
   "name": "python3"
  },
  "language_info": {
   "codemirror_mode": {
    "name": "ipython",
    "version": 3
   },
   "file_extension": ".py",
   "mimetype": "text/x-python",
   "name": "python",
   "nbconvert_exporter": "python",
   "pygments_lexer": "ipython3",
   "version": "3.13.7"
  }
 },
 "nbformat": 4,
 "nbformat_minor": 5
}
