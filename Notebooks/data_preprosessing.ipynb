{
 "cells": [
  {
   "cell_type": "code",
   "execution_count": 1,
   "id": "bacfdd32",
   "metadata": {},
   "outputs": [],
   "source": [
    "import pandas as pd\n",
    "import logging\n",
    "\n",
    "# Log fayl manzili\n",
    "log_path = r\"C:\\Users\\Rasulbek907\\Desktop\\Project_MP\\Log\\data_loader.log\"\n",
    "\n",
    "# Log sozlamalari\n",
    "logging.basicConfig(\n",
    "    filename=log_path,\n",
    "    filemode='a',  # Append mode\n",
    "    format='%(asctime)s - %(levelname)s - %(message)s',\n",
    "    level=logging.INFO\n",
    ")\n",
    "\n",
    "try:\n",
    "    logging.info(\"CSV fayl o'qilmoqda:...\")\n",
    "    df = pd.read_csv(r\"C:\\Users\\Rasulbek907\\Desktop\\Project_MP\\Data\\Enginered_Data\\feature_enginering.csv\")\n",
    "    logging.info(f\"Fayl muvaffaqiyatli o'qildi. Satırlar soni: {len(df)} ustunlar soni: {len(df.columns)}\")\n",
    "except Exception as e:\n",
    "    logging.error(f\"CSV faylni o'qishda xatolik: {e}\")"
   ]
  },
  {
   "cell_type": "code",
   "execution_count": 2,
   "id": "1034b9c7",
   "metadata": {},
   "outputs": [
    {
     "data": {
      "text/html": [
       "<div>\n",
       "<style scoped>\n",
       "    .dataframe tbody tr th:only-of-type {\n",
       "        vertical-align: middle;\n",
       "    }\n",
       "\n",
       "    .dataframe tbody tr th {\n",
       "        vertical-align: top;\n",
       "    }\n",
       "\n",
       "    .dataframe thead th {\n",
       "        text-align: right;\n",
       "    }\n",
       "</style>\n",
       "<table border=\"1\" class=\"dataframe\">\n",
       "  <thead>\n",
       "    <tr style=\"text-align: right;\">\n",
       "      <th></th>\n",
       "      <th>Unnamed: 0</th>\n",
       "      <th>Video ID</th>\n",
       "      <th>Video Title</th>\n",
       "      <th>Channel</th>\n",
       "      <th>Published Date</th>\n",
       "      <th>Views</th>\n",
       "      <th>Likes</th>\n",
       "      <th>Comments</th>\n",
       "      <th>Subscribers</th>\n",
       "      <th>Channel Views</th>\n",
       "      <th>...</th>\n",
       "      <th>Category_Cluster_y</th>\n",
       "      <th>Year</th>\n",
       "      <th>Month</th>\n",
       "      <th>Day</th>\n",
       "      <th>DayOfWeek</th>\n",
       "      <th>DayName</th>\n",
       "      <th>Views_per_Sub</th>\n",
       "      <th>Engagement</th>\n",
       "      <th>Like_per_Sub</th>\n",
       "      <th>Comment_per_Sub</th>\n",
       "    </tr>\n",
       "  </thead>\n",
       "  <tbody>\n",
       "    <tr>\n",
       "      <th>0</th>\n",
       "      <td>0</td>\n",
       "      <td>-7yvyIvJXH0</td>\n",
       "      <td>O RELÓGIO SECRETO DO GTA 5!</td>\n",
       "      <td>GamerCosta</td>\n",
       "      <td>2025-10-20 00:05:43+00:00</td>\n",
       "      <td>34727</td>\n",
       "      <td>686</td>\n",
       "      <td>16</td>\n",
       "      <td>4190000</td>\n",
       "      <td>1909505035</td>\n",
       "      <td>...</td>\n",
       "      <td>2</td>\n",
       "      <td>2025</td>\n",
       "      <td>10</td>\n",
       "      <td>20</td>\n",
       "      <td>0</td>\n",
       "      <td>Monday</td>\n",
       "      <td>0.008288</td>\n",
       "      <td>0.020214</td>\n",
       "      <td>0.000164</td>\n",
       "      <td>0.000004</td>\n",
       "    </tr>\n",
       "    <tr>\n",
       "      <th>1</th>\n",
       "      <td>1</td>\n",
       "      <td>9h5Uv27uTwU</td>\n",
       "      <td>GIRLS TRIP 🌴✨ Traumurlaub, Yoga &amp; Surfen! 🥰</td>\n",
       "      <td>Paula Doeringer</td>\n",
       "      <td>2025-10-16 16:03:51+00:00</td>\n",
       "      <td>45151</td>\n",
       "      <td>1514</td>\n",
       "      <td>21</td>\n",
       "      <td>188000</td>\n",
       "      <td>135785655</td>\n",
       "      <td>...</td>\n",
       "      <td>2</td>\n",
       "      <td>2025</td>\n",
       "      <td>10</td>\n",
       "      <td>16</td>\n",
       "      <td>3</td>\n",
       "      <td>Thursday</td>\n",
       "      <td>0.240164</td>\n",
       "      <td>0.033996</td>\n",
       "      <td>0.008053</td>\n",
       "      <td>0.000112</td>\n",
       "    </tr>\n",
       "    <tr>\n",
       "      <th>2</th>\n",
       "      <td>2</td>\n",
       "      <td>SmF8VTWdqZU</td>\n",
       "      <td>Imran Riaz News About TLP Saad &amp; Anas Rizvi #r...</td>\n",
       "      <td>Real Muslim 100</td>\n",
       "      <td>2025-10-17 03:00:36+00:00</td>\n",
       "      <td>353713</td>\n",
       "      <td>6485</td>\n",
       "      <td>127</td>\n",
       "      <td>37300</td>\n",
       "      <td>54921887</td>\n",
       "      <td>...</td>\n",
       "      <td>2</td>\n",
       "      <td>2025</td>\n",
       "      <td>10</td>\n",
       "      <td>17</td>\n",
       "      <td>4</td>\n",
       "      <td>Friday</td>\n",
       "      <td>9.482668</td>\n",
       "      <td>0.018693</td>\n",
       "      <td>0.173856</td>\n",
       "      <td>0.003405</td>\n",
       "    </tr>\n",
       "    <tr>\n",
       "      <th>3</th>\n",
       "      <td>3</td>\n",
       "      <td>rvn2CD4h_ac</td>\n",
       "      <td>เป็นคลิปแกล้งที่ทำให้เขาเป็น Viral เลย #kornzo</td>\n",
       "      <td>Kornzo</td>\n",
       "      <td>2025-10-18 09:07:36+00:00</td>\n",
       "      <td>2171652</td>\n",
       "      <td>78431</td>\n",
       "      <td>183</td>\n",
       "      <td>43800</td>\n",
       "      <td>88085601</td>\n",
       "      <td>...</td>\n",
       "      <td>1</td>\n",
       "      <td>2025</td>\n",
       "      <td>10</td>\n",
       "      <td>18</td>\n",
       "      <td>5</td>\n",
       "      <td>Saturday</td>\n",
       "      <td>49.579964</td>\n",
       "      <td>0.036200</td>\n",
       "      <td>1.790621</td>\n",
       "      <td>0.004178</td>\n",
       "    </tr>\n",
       "    <tr>\n",
       "      <th>4</th>\n",
       "      <td>4</td>\n",
       "      <td>Efr59jKIkgU</td>\n",
       "      <td>โกงยันแอดมิน กลุ่มซื้อ-ขาย Valorant [ โกงมั้ยค...</td>\n",
       "      <td>DOM</td>\n",
       "      <td>2025-10-16 10:48:06+00:00</td>\n",
       "      <td>246429</td>\n",
       "      <td>9321</td>\n",
       "      <td>949</td>\n",
       "      <td>2490000</td>\n",
       "      <td>501089468</td>\n",
       "      <td>...</td>\n",
       "      <td>0</td>\n",
       "      <td>2025</td>\n",
       "      <td>10</td>\n",
       "      <td>16</td>\n",
       "      <td>3</td>\n",
       "      <td>Thursday</td>\n",
       "      <td>0.098967</td>\n",
       "      <td>0.041675</td>\n",
       "      <td>0.003743</td>\n",
       "      <td>0.000381</td>\n",
       "    </tr>\n",
       "  </tbody>\n",
       "</table>\n",
       "<p>5 rows × 34 columns</p>\n",
       "</div>"
      ],
      "text/plain": [
       "   Unnamed: 0     Video ID                                        Video Title  \\\n",
       "0           0  -7yvyIvJXH0                        O RELÓGIO SECRETO DO GTA 5!   \n",
       "1           1  9h5Uv27uTwU        GIRLS TRIP 🌴✨ Traumurlaub, Yoga & Surfen! 🥰   \n",
       "2           2  SmF8VTWdqZU  Imran Riaz News About TLP Saad & Anas Rizvi #r...   \n",
       "3           3  rvn2CD4h_ac     เป็นคลิปแกล้งที่ทำให้เขาเป็น Viral เลย #kornzo   \n",
       "4           4  Efr59jKIkgU  โกงยันแอดมิน กลุ่มซื้อ-ขาย Valorant [ โกงมั้ยค...   \n",
       "\n",
       "            Channel             Published Date    Views  Likes  Comments  \\\n",
       "0        GamerCosta  2025-10-20 00:05:43+00:00    34727    686        16   \n",
       "1   Paula Doeringer  2025-10-16 16:03:51+00:00    45151   1514        21   \n",
       "2  Real Muslim 100   2025-10-17 03:00:36+00:00   353713   6485       127   \n",
       "3            Kornzo  2025-10-18 09:07:36+00:00  2171652  78431       183   \n",
       "4               DOM  2025-10-16 10:48:06+00:00   246429   9321       949   \n",
       "\n",
       "   Subscribers  Channel Views  ... Category_Cluster_y  Year  Month Day  \\\n",
       "0      4190000     1909505035  ...                  2  2025     10  20   \n",
       "1       188000      135785655  ...                  2  2025     10  16   \n",
       "2        37300       54921887  ...                  2  2025     10  17   \n",
       "3        43800       88085601  ...                  1  2025     10  18   \n",
       "4      2490000      501089468  ...                  0  2025     10  16   \n",
       "\n",
       "   DayOfWeek   DayName  Views_per_Sub  Engagement Like_per_Sub  \\\n",
       "0          0    Monday       0.008288    0.020214     0.000164   \n",
       "1          3  Thursday       0.240164    0.033996     0.008053   \n",
       "2          4    Friday       9.482668    0.018693     0.173856   \n",
       "3          5  Saturday      49.579964    0.036200     1.790621   \n",
       "4          3  Thursday       0.098967    0.041675     0.003743   \n",
       "\n",
       "   Comment_per_Sub  \n",
       "0         0.000004  \n",
       "1         0.000112  \n",
       "2         0.003405  \n",
       "3         0.004178  \n",
       "4         0.000381  \n",
       "\n",
       "[5 rows x 34 columns]"
      ]
     },
     "execution_count": 2,
     "metadata": {},
     "output_type": "execute_result"
    }
   ],
   "source": [
    "df.head()"
   ]
  },
  {
   "cell_type": "code",
   "execution_count": 3,
   "id": "9393fbf0",
   "metadata": {},
   "outputs": [
    {
     "name": "stdout",
     "output_type": "stream",
     "text": [
      "<class 'pandas.core.frame.DataFrame'>\n",
      "RangeIndex: 8493 entries, 0 to 8492\n",
      "Data columns (total 34 columns):\n",
      " #   Column              Non-Null Count  Dtype  \n",
      "---  ------              --------------  -----  \n",
      " 0   Unnamed: 0          8493 non-null   int64  \n",
      " 1   Video ID            8493 non-null   object \n",
      " 2   Video Title         8493 non-null   object \n",
      " 3   Channel             8492 non-null   object \n",
      " 4   Published Date      8493 non-null   object \n",
      " 5   Views               8493 non-null   int64  \n",
      " 6   Likes               8493 non-null   int64  \n",
      " 7   Comments            8493 non-null   int64  \n",
      " 8   Subscribers         8493 non-null   int64  \n",
      " 9   Channel Views       8493 non-null   int64  \n",
      " 10  Country             8493 non-null   object \n",
      " 11  Region              8493 non-null   object \n",
      " 12  CategoryID          8493 non-null   int64  \n",
      " 13  CategoryName        8493 non-null   object \n",
      " 14  Cluster             8493 non-null   int64  \n",
      " 15  CategoryID_enc      8493 non-null   int64  \n",
      " 16  Country_enc         8493 non-null   int64  \n",
      " 17  VideoCluster        8493 non-null   int64  \n",
      " 18  Anomaly             8493 non-null   object \n",
      " 19  Channel_Cluster     8493 non-null   int64  \n",
      " 20  Video_Cluster       8493 non-null   int64  \n",
      " 21  Country_Cluster_x   8493 non-null   int64  \n",
      " 22  Category_Cluster_x  8493 non-null   int64  \n",
      " 23  Country_Cluster_y   8493 non-null   int64  \n",
      " 24  Category_Cluster_y  8493 non-null   int64  \n",
      " 25  Year                8493 non-null   int64  \n",
      " 26  Month               8493 non-null   int64  \n",
      " 27  Day                 8493 non-null   int64  \n",
      " 28  DayOfWeek           8493 non-null   int64  \n",
      " 29  DayName             8493 non-null   object \n",
      " 30  Views_per_Sub       8493 non-null   float64\n",
      " 31  Engagement          8493 non-null   float64\n",
      " 32  Like_per_Sub        8493 non-null   float64\n",
      " 33  Comment_per_Sub     8493 non-null   float64\n",
      "dtypes: float64(4), int64(21), object(9)\n",
      "memory usage: 2.2+ MB\n"
     ]
    }
   ],
   "source": [
    "df.info()"
   ]
  },
  {
   "cell_type": "code",
   "execution_count": 5,
   "id": "57e70c6f",
   "metadata": {},
   "outputs": [
    {
     "name": "stdout",
     "output_type": "stream",
     "text": [
      "Notanish yozuvli satrlar soni: 8493\n"
     ]
    },
    {
     "name": "stderr",
     "output_type": "stream",
     "text": [
      "C:\\Users\\Rasulbek907\\AppData\\Local\\Temp\\ipykernel_12452\\598365124.py:14: FutureWarning: DataFrame.applymap has been deprecated. Use DataFrame.map instead.\n",
      "  mask = df[obj_cols].applymap(has_non_latin).any(axis=1)\n"
     ]
    }
   ],
   "source": [
    "import regex as re\n",
    "\n",
    "non_latin_pattern = re.compile(r'\\P{Latin}')\n",
    "\n",
    "def has_non_latin(s):\n",
    "    if not isinstance(s, str):\n",
    "        return False\n",
    "    return bool(non_latin_pattern.search(s))\n",
    "\n",
    "# faqat object turidagi ustunlarni ajratamiz\n",
    "obj_cols = df.select_dtypes(include=['object']).columns\n",
    "\n",
    "# har bir satrda qaysi ustunlarda non-latin borligini aniqlaymiz\n",
    "mask = df[obj_cols].applymap(has_non_latin).any(axis=1)\n",
    "notanish_df = df[mask]\n",
    "\n",
    "print(f\"Notanish yozuvli satrlar soni: {mask.sum()}\")\n",
    "notanish_df.to_csv(\"nonlatin_rows.csv\", index=False)\n"
   ]
  },
  {
   "cell_type": "code",
   "execution_count": 6,
   "id": "e46a5e77",
   "metadata": {},
   "outputs": [
    {
     "name": "stdout",
     "output_type": "stream",
     "text": [
      "Video ID          7612\n",
      "Video Title       8462\n",
      "Channel           6627\n",
      "Published Date    8493\n",
      "Country           1649\n",
      "Region               0\n",
      "CategoryName      4714\n",
      "Anomaly              0\n",
      "DayName              0\n",
      "dtype: int64\n"
     ]
    }
   ],
   "source": [
    "summary = df.select_dtypes(include=['object']).apply(\n",
    "    lambda col: col.apply(has_non_latin).sum()\n",
    ")\n",
    "print(summary)\n"
   ]
  },
  {
   "cell_type": "code",
   "execution_count": 7,
   "id": "6ae96bd3",
   "metadata": {},
   "outputs": [
    {
     "data": {
      "text/plain": [
       "array(['Gaming', 'People & Blogs', 'News & Politics', 'Entertainment',\n",
       "       'Science & Technology', 'Howto & Style', 'Autos & Vehicles',\n",
       "       'Music', 'Film & Animation', 'Sports', 'Comedy'], dtype=object)"
      ]
     },
     "execution_count": 7,
     "metadata": {},
     "output_type": "execute_result"
    }
   ],
   "source": [
    "df[\"CategoryName\"].unique()"
   ]
  },
  {
   "cell_type": "code",
   "execution_count": 8,
   "id": "38aeae49",
   "metadata": {},
   "outputs": [],
   "source": [
    "category_map = {\n",
    "    'Gaming': 0,\n",
    "    'People & Blogs': 1,\n",
    "    'News & Politics': 2,\n",
    "    'Entertainment': 3,\n",
    "    'Science & Technology': 4,\n",
    "    'Howto & Style': 5,\n",
    "    'Autos & Vehicles': 6,\n",
    "    'Music': 7,\n",
    "    'Film & Animation': 8,\n",
    "    'Sports': 9,\n",
    "    'Comedy': 10\n",
    "}\n",
    "\n",
    "df['CategoryName'] = df['CategoryName'].map(category_map)\n"
   ]
  },
  {
   "cell_type": "code",
   "execution_count": 9,
   "id": "ee34d9f0",
   "metadata": {},
   "outputs": [
    {
     "name": "stdout",
     "output_type": "stream",
     "text": [
      "Video ID          7612\n",
      "Video Title       8462\n",
      "Channel           6627\n",
      "Published Date    8493\n",
      "Country           1649\n",
      "Region               0\n",
      "Anomaly              0\n",
      "DayName              0\n",
      "dtype: int64\n"
     ]
    }
   ],
   "source": [
    "summary = df.select_dtypes(include=['object']).apply(\n",
    "    lambda col: col.apply(has_non_latin).sum()\n",
    ")\n",
    "print(summary)"
   ]
  },
  {
   "cell_type": "code",
   "execution_count": 12,
   "id": "2976f8be",
   "metadata": {},
   "outputs": [
    {
     "name": "stdout",
     "output_type": "stream",
     "text": [
      "✅ Unidecode barcha belgilar lotin yozuviga o‘tkazildi!\n"
     ]
    }
   ],
   "source": [
    "from unidecode import unidecode\n",
    "\n",
    "# notanish yozuvli ustunlar ro'yxati\n",
    "cols_to_clean = ['Video ID', 'Video Title', 'Channel', 'Published Date', 'Country']\n",
    "\n",
    "# har bir ustun bo'yicha unidecode qo'llash\n",
    "for col in cols_to_clean:\n",
    "    df[col] = df[col].astype(str).apply(unidecode)\n",
    "\n",
    "print(\"✅ Unidecode barcha belgilar lotin yozuviga o‘tkazildi!\")\n"
   ]
  },
  {
   "cell_type": "code",
   "execution_count": 15,
   "id": "3ab42407",
   "metadata": {},
   "outputs": [
    {
     "data": {
      "text/html": [
       "<div>\n",
       "<style scoped>\n",
       "    .dataframe tbody tr th:only-of-type {\n",
       "        vertical-align: middle;\n",
       "    }\n",
       "\n",
       "    .dataframe tbody tr th {\n",
       "        vertical-align: top;\n",
       "    }\n",
       "\n",
       "    .dataframe thead th {\n",
       "        text-align: right;\n",
       "    }\n",
       "</style>\n",
       "<table border=\"1\" class=\"dataframe\">\n",
       "  <thead>\n",
       "    <tr style=\"text-align: right;\">\n",
       "      <th></th>\n",
       "      <th>Unnamed: 0</th>\n",
       "      <th>Video ID</th>\n",
       "      <th>Video Title</th>\n",
       "      <th>Channel</th>\n",
       "      <th>Published Date</th>\n",
       "      <th>Views</th>\n",
       "      <th>Likes</th>\n",
       "      <th>Comments</th>\n",
       "      <th>Subscribers</th>\n",
       "      <th>Channel Views</th>\n",
       "      <th>...</th>\n",
       "      <th>Category_Cluster_y</th>\n",
       "      <th>Year</th>\n",
       "      <th>Month</th>\n",
       "      <th>Day</th>\n",
       "      <th>DayOfWeek</th>\n",
       "      <th>DayName</th>\n",
       "      <th>Views_per_Sub</th>\n",
       "      <th>Engagement</th>\n",
       "      <th>Like_per_Sub</th>\n",
       "      <th>Comment_per_Sub</th>\n",
       "    </tr>\n",
       "  </thead>\n",
       "  <tbody>\n",
       "    <tr>\n",
       "      <th>0</th>\n",
       "      <td>0</td>\n",
       "      <td>-7yvyIvJXH0</td>\n",
       "      <td>O RELOGIO SECRETO DO GTA 5!</td>\n",
       "      <td>GamerCosta</td>\n",
       "      <td>2025-10-20 00:05:43+00:00</td>\n",
       "      <td>34727</td>\n",
       "      <td>686</td>\n",
       "      <td>16</td>\n",
       "      <td>4190000</td>\n",
       "      <td>1909505035</td>\n",
       "      <td>...</td>\n",
       "      <td>2</td>\n",
       "      <td>2025</td>\n",
       "      <td>10</td>\n",
       "      <td>20</td>\n",
       "      <td>0</td>\n",
       "      <td>Monday</td>\n",
       "      <td>0.008288</td>\n",
       "      <td>0.020214</td>\n",
       "      <td>0.000164</td>\n",
       "      <td>0.000004</td>\n",
       "    </tr>\n",
       "    <tr>\n",
       "      <th>1</th>\n",
       "      <td>1</td>\n",
       "      <td>9h5Uv27uTwU</td>\n",
       "      <td>GIRLS TRIP  Traumurlaub, Yoga &amp; Surfen!</td>\n",
       "      <td>Paula Doeringer</td>\n",
       "      <td>2025-10-16 16:03:51+00:00</td>\n",
       "      <td>45151</td>\n",
       "      <td>1514</td>\n",
       "      <td>21</td>\n",
       "      <td>188000</td>\n",
       "      <td>135785655</td>\n",
       "      <td>...</td>\n",
       "      <td>2</td>\n",
       "      <td>2025</td>\n",
       "      <td>10</td>\n",
       "      <td>16</td>\n",
       "      <td>3</td>\n",
       "      <td>Thursday</td>\n",
       "      <td>0.240164</td>\n",
       "      <td>0.033996</td>\n",
       "      <td>0.008053</td>\n",
       "      <td>0.000112</td>\n",
       "    </tr>\n",
       "    <tr>\n",
       "      <th>2</th>\n",
       "      <td>2</td>\n",
       "      <td>SmF8VTWdqZU</td>\n",
       "      <td>Imran Riaz News About TLP Saad &amp; Anas Rizvi #r...</td>\n",
       "      <td>Real Muslim 100</td>\n",
       "      <td>2025-10-17 03:00:36+00:00</td>\n",
       "      <td>353713</td>\n",
       "      <td>6485</td>\n",
       "      <td>127</td>\n",
       "      <td>37300</td>\n",
       "      <td>54921887</td>\n",
       "      <td>...</td>\n",
       "      <td>2</td>\n",
       "      <td>2025</td>\n",
       "      <td>10</td>\n",
       "      <td>17</td>\n",
       "      <td>4</td>\n",
       "      <td>Friday</td>\n",
       "      <td>9.482668</td>\n",
       "      <td>0.018693</td>\n",
       "      <td>0.173856</td>\n",
       "      <td>0.003405</td>\n",
       "    </tr>\n",
       "    <tr>\n",
       "      <th>3</th>\n",
       "      <td>3</td>\n",
       "      <td>rvn2CD4h_ac</td>\n",
       "      <td>epnkhlipaeklngthiithamaihekhaaepn Viral ely #k...</td>\n",
       "      <td>Kornzo</td>\n",
       "      <td>2025-10-18 09:07:36+00:00</td>\n",
       "      <td>2171652</td>\n",
       "      <td>78431</td>\n",
       "      <td>183</td>\n",
       "      <td>43800</td>\n",
       "      <td>88085601</td>\n",
       "      <td>...</td>\n",
       "      <td>1</td>\n",
       "      <td>2025</td>\n",
       "      <td>10</td>\n",
       "      <td>18</td>\n",
       "      <td>5</td>\n",
       "      <td>Saturday</td>\n",
       "      <td>49.579964</td>\n",
       "      <td>0.036200</td>\n",
       "      <td>1.790621</td>\n",
       "      <td>0.004178</td>\n",
       "    </tr>\n",
       "    <tr>\n",
       "      <th>4</th>\n",
       "      <td>4</td>\n",
       "      <td>Efr59jKIkgU</td>\n",
       "      <td>okngyanae`dmin klumchuue`-khaay Valorant [ okn...</td>\n",
       "      <td>DOM</td>\n",
       "      <td>2025-10-16 10:48:06+00:00</td>\n",
       "      <td>246429</td>\n",
       "      <td>9321</td>\n",
       "      <td>949</td>\n",
       "      <td>2490000</td>\n",
       "      <td>501089468</td>\n",
       "      <td>...</td>\n",
       "      <td>0</td>\n",
       "      <td>2025</td>\n",
       "      <td>10</td>\n",
       "      <td>16</td>\n",
       "      <td>3</td>\n",
       "      <td>Thursday</td>\n",
       "      <td>0.098967</td>\n",
       "      <td>0.041675</td>\n",
       "      <td>0.003743</td>\n",
       "      <td>0.000381</td>\n",
       "    </tr>\n",
       "  </tbody>\n",
       "</table>\n",
       "<p>5 rows × 34 columns</p>\n",
       "</div>"
      ],
      "text/plain": [
       "   Unnamed: 0     Video ID                                        Video Title  \\\n",
       "0           0  -7yvyIvJXH0                        O RELOGIO SECRETO DO GTA 5!   \n",
       "1           1  9h5Uv27uTwU           GIRLS TRIP  Traumurlaub, Yoga & Surfen!    \n",
       "2           2  SmF8VTWdqZU  Imran Riaz News About TLP Saad & Anas Rizvi #r...   \n",
       "3           3  rvn2CD4h_ac  epnkhlipaeklngthiithamaihekhaaepn Viral ely #k...   \n",
       "4           4  Efr59jKIkgU  okngyanae`dmin klumchuue`-khaay Valorant [ okn...   \n",
       "\n",
       "            Channel             Published Date    Views  Likes  Comments  \\\n",
       "0        GamerCosta  2025-10-20 00:05:43+00:00    34727    686        16   \n",
       "1   Paula Doeringer  2025-10-16 16:03:51+00:00    45151   1514        21   \n",
       "2  Real Muslim 100   2025-10-17 03:00:36+00:00   353713   6485       127   \n",
       "3            Kornzo  2025-10-18 09:07:36+00:00  2171652  78431       183   \n",
       "4               DOM  2025-10-16 10:48:06+00:00   246429   9321       949   \n",
       "\n",
       "   Subscribers  Channel Views  ... Category_Cluster_y  Year  Month  Day  \\\n",
       "0      4190000     1909505035  ...                  2  2025     10   20   \n",
       "1       188000      135785655  ...                  2  2025     10   16   \n",
       "2        37300       54921887  ...                  2  2025     10   17   \n",
       "3        43800       88085601  ...                  1  2025     10   18   \n",
       "4      2490000      501089468  ...                  0  2025     10   16   \n",
       "\n",
       "   DayOfWeek   DayName  Views_per_Sub  Engagement Like_per_Sub  \\\n",
       "0          0    Monday       0.008288    0.020214     0.000164   \n",
       "1          3  Thursday       0.240164    0.033996     0.008053   \n",
       "2          4    Friday       9.482668    0.018693     0.173856   \n",
       "3          5  Saturday      49.579964    0.036200     1.790621   \n",
       "4          3  Thursday       0.098967    0.041675     0.003743   \n",
       "\n",
       "   Comment_per_Sub  \n",
       "0         0.000004  \n",
       "1         0.000112  \n",
       "2         0.003405  \n",
       "3         0.004178  \n",
       "4         0.000381  \n",
       "\n",
       "[5 rows x 34 columns]"
      ]
     },
     "execution_count": 15,
     "metadata": {},
     "output_type": "execute_result"
    }
   ],
   "source": [
    "df.head()"
   ]
  },
  {
   "cell_type": "code",
   "execution_count": 16,
   "id": "f12affbf",
   "metadata": {},
   "outputs": [
    {
     "name": "stdout",
     "output_type": "stream",
     "text": [
      "Video ID             → 0 ta noodatiy qiymat\n",
      "Video Title          → 4240 ta noodatiy qiymat\n",
      "Channel              → 354 ta noodatiy qiymat\n",
      "Published Date       → 8493 ta noodatiy qiymat\n",
      "Country              → 0 ta noodatiy qiymat\n"
     ]
    }
   ],
   "source": [
    "import regex as re\n",
    "\n",
    "# faqat lotin harflar, raqamlar, bo‘sh joy va oddiy belgilarni ruxsat beramiz\n",
    "normal_pattern = re.compile(r'^[\\p{Latin}\\d\\s.,!?;:\\-_/()\\'\"&%]*$')\n",
    "\n",
    "def has_unusual_chars(s):\n",
    "    if not isinstance(s, str):\n",
    "        return False\n",
    "    return not bool(normal_pattern.match(s))  # agar mos kelmasa → noodatiy belgi bor\n",
    "\n",
    "# tekshiriladigan ustunlar\n",
    "cols_to_check = ['Video ID', 'Video Title', 'Channel', 'Published Date', 'Country']\n",
    "\n",
    "# har bir ustun bo‘yicha noodatiy belgilar sonini hisoblash\n",
    "for col in cols_to_check:\n",
    "    count = df[col].apply(has_unusual_chars).sum()\n",
    "    print(f\"{col:20s} → {count} ta noodatiy qiymat\")\n"
   ]
  },
  {
   "cell_type": "markdown",
   "id": "536d6dfc",
   "metadata": {},
   "source": [
    "# Video Title va Channel ustunlaridagi noodatiy belgilarni tozalash"
   ]
  },
  {
   "cell_type": "code",
   "execution_count": 17,
   "id": "c4c4c61c",
   "metadata": {},
   "outputs": [],
   "source": [
    "import re\n",
    "\n",
    "def clean_text(text):\n",
    "    if isinstance(text, str):\n",
    "        text = re.sub(r'[^\\x00-\\x7F]+', '', text)  # faqat ASCII qoldiradi\n",
    "    return text\n",
    "\n",
    "df[\"Video Title\"] = df[\"Video Title\"].apply(clean_text)\n",
    "df[\"Channel\"] = df[\"Channel\"].apply(clean_text)\n"
   ]
  },
  {
   "cell_type": "markdown",
   "id": "83df3ba8",
   "metadata": {},
   "source": [
    "# Published Date ustunini datetime formatga o‘tkazish"
   ]
  },
  {
   "cell_type": "code",
   "execution_count": 18,
   "id": "f5ae783c",
   "metadata": {},
   "outputs": [],
   "source": [
    "df[\"Published Date\"] = pd.to_datetime(df[\"Published Date\"], errors='coerce')\n"
   ]
  },
  {
   "cell_type": "code",
   "execution_count": 20,
   "id": "11871076",
   "metadata": {},
   "outputs": [],
   "source": [
    "import re\n",
    "import unicodedata\n",
    "\n",
    "def deep_clean_text(text):\n",
    "    if not isinstance(text, str):\n",
    "        return text\n",
    "\n",
    "    # 1. Normalize (unicode form)\n",
    "    text = unicodedata.normalize('NFKC', text)\n",
    "\n",
    "    # 2. Remove control characters va ko‘rinmas belgilar\n",
    "    text = re.sub(r'[\\u200b-\\u200f\\u202a-\\u202e\\u2060-\\u206f\\u00ad\\uFEFF]', '', text)\n",
    "\n",
    "    # 3. Remove HTML entities\n",
    "    text = re.sub(r'&[a-z]+;', '', text)\n",
    "\n",
    "    # 4. Remove all non-printable characters\n",
    "    text = ''.join(ch for ch in text if ch.isprintable())\n",
    "\n",
    "    # 5. Remove remaining non-ASCII characters (optional)\n",
    "    text = re.sub(r'[^\\x00-\\x7F]+', '', text)\n",
    "\n",
    "    # 6. Strip whitespaces\n",
    "    text = text.strip()\n",
    "\n",
    "    return text\n",
    "\n",
    "df[\"Video Title\"] = df[\"Video Title\"].apply(deep_clean_text)\n",
    "df[\"Channel\"] = df[\"Channel\"].apply(deep_clean_text)\n"
   ]
  },
  {
   "cell_type": "code",
   "execution_count": 21,
   "id": "f624f26a",
   "metadata": {},
   "outputs": [
    {
     "name": "stdout",
     "output_type": "stream",
     "text": [
      "Video Title          → 0 ta noodatiy qiymat\n",
      "Channel              → 0 ta noodatiy qiymat\n"
     ]
    }
   ],
   "source": [
    "def count_unusual(text):\n",
    "    if not isinstance(text, str):\n",
    "        return False\n",
    "    # Agar matnda ASCII’dan tashqari belgilar bo‘lsa, True\n",
    "    return bool(re.search(r'[^\\x00-\\x7F]', text))\n",
    "\n",
    "for col in [\"Video Title\", \"Channel\"]:\n",
    "    bad_count = df[col].apply(count_unusual).sum()\n",
    "    print(f\"{col:20} → {bad_count} ta noodatiy qiymat\")\n"
   ]
  },
  {
   "cell_type": "markdown",
   "id": "5fd7885b",
   "metadata": {},
   "source": [
    "# DF dagi noodatiy belgilarni tekshirish "
   ]
  },
  {
   "cell_type": "code",
   "execution_count": 24,
   "id": "a77ebeb8",
   "metadata": {},
   "outputs": [
    {
     "name": "stdout",
     "output_type": "stream",
     "text": [
      "Video ID             → 0 ta noodatiy qiymat\n",
      "Video Title          → 0 ta noodatiy qiymat\n",
      "Channel              → 0 ta noodatiy qiymat\n",
      "Country              → 0 ta noodatiy qiymat\n",
      "Region               → 0 ta noodatiy qiymat\n",
      "Anomaly              → 0 ta noodatiy qiymat\n",
      "DayName              → 0 ta noodatiy qiymat\n"
     ]
    }
   ],
   "source": [
    "import re\n",
    "\n",
    "def count_unusual_chars(df):\n",
    "    pattern = re.compile(r'[^\\x00-\\x7F]')  # ASCII bo'lmagan belgilarni topadi\n",
    "    result = {}\n",
    "\n",
    "    for col in df.select_dtypes(include=['object']).columns:\n",
    "        # Har bir ustun uchun noodatiy belgilar bor-yo‘qligini tekshirish\n",
    "        bad_count = df[col].astype(str).apply(lambda x: bool(pattern.search(x))).sum()\n",
    "        result[col] = bad_count\n",
    "\n",
    "    return result\n",
    "\n",
    "\n",
    "unusual_counts = count_unusual_chars(df)\n",
    "\n",
    "for col, count in unusual_counts.items():\n",
    "    print(f\"{col:20} → {count} ta noodatiy qiymat\")\n"
   ]
  },
  {
   "cell_type": "code",
   "execution_count": null,
   "id": "0297b11a",
   "metadata": {},
   "outputs": [],
   "source": []
  },
  {
   "cell_type": "code",
   "execution_count": 33,
   "id": "e943ba6a",
   "metadata": {},
   "outputs": [
    {
     "name": "stdout",
     "output_type": "stream",
     "text": [
      "Python executable: c:\\Users\\Rasulbek907\\Desktop\\Project_MP\\mpvenv\\Scripts\\python.exe\n",
      "Source path added: c:\\Users\\Rasulbek907\\Desktop\\Project_MP\\Source\n"
     ]
    }
   ],
   "source": [
    "import sys\n",
    "import os\n",
    "\n",
    "# Source papkasini yo'lga qo'shamiz\n",
    "source_path = os.path.abspath(\"../Source\")\n",
    "if source_path not in sys.path:\n",
    "    sys.path.append(source_path)\n",
    "\n",
    "print(\"Python executable:\", sys.executable)\n",
    "print(\"Source path added:\", source_path)\n",
    "\n",
    "# Endi modulni import qilamiz\n",
    "from preprosessing import Cleaner, Encoder, Scaler"
   ]
  },
  {
   "cell_type": "code",
   "execution_count": 34,
   "id": "3a56510c",
   "metadata": {},
   "outputs": [],
   "source": [
    "cleaner = Cleaner(df)\n",
    "df = cleaner.tozala().get_df()"
   ]
  },
  {
   "cell_type": "code",
   "execution_count": 35,
   "id": "e2d4662e",
   "metadata": {},
   "outputs": [
    {
     "name": "stdout",
     "output_type": "stream",
     "text": [
      "<class 'pandas.core.frame.DataFrame'>\n",
      "RangeIndex: 8493 entries, 0 to 8492\n",
      "Data columns (total 34 columns):\n",
      " #   Column              Non-Null Count  Dtype              \n",
      "---  ------              --------------  -----              \n",
      " 0   Unnamed: 0          8493 non-null   int64              \n",
      " 1   Video ID            8493 non-null   object             \n",
      " 2   Video Title         8493 non-null   object             \n",
      " 3   Channel             8493 non-null   object             \n",
      " 4   Published Date      8493 non-null   datetime64[ns, UTC]\n",
      " 5   Views               8493 non-null   int64              \n",
      " 6   Likes               8493 non-null   int64              \n",
      " 7   Comments            8493 non-null   int64              \n",
      " 8   Subscribers         8493 non-null   int64              \n",
      " 9   Channel Views       8493 non-null   int64              \n",
      " 10  Country             8493 non-null   object             \n",
      " 11  Region              8493 non-null   object             \n",
      " 12  CategoryID          8493 non-null   int64              \n",
      " 13  CategoryName        8493 non-null   int64              \n",
      " 14  Cluster             8493 non-null   int64              \n",
      " 15  CategoryID_enc      8493 non-null   int64              \n",
      " 16  Country_enc         8493 non-null   int64              \n",
      " 17  VideoCluster        8493 non-null   int64              \n",
      " 18  Anomaly             8493 non-null   object             \n",
      " 19  Channel_Cluster     8493 non-null   int64              \n",
      " 20  Video_Cluster       8493 non-null   int64              \n",
      " 21  Country_Cluster_x   8493 non-null   int64              \n",
      " 22  Category_Cluster_x  8493 non-null   int64              \n",
      " 23  Country_Cluster_y   8493 non-null   int64              \n",
      " 24  Category_Cluster_y  8493 non-null   int64              \n",
      " 25  Year                8493 non-null   int64              \n",
      " 26  Month               8493 non-null   int64              \n",
      " 27  Day                 8493 non-null   int64              \n",
      " 28  DayOfWeek           8493 non-null   int64              \n",
      " 29  DayName             8493 non-null   object             \n",
      " 30  Views_per_Sub       8493 non-null   float64            \n",
      " 31  Engagement          8493 non-null   float64            \n",
      " 32  Like_per_Sub        8493 non-null   float64            \n",
      " 33  Comment_per_Sub     8493 non-null   float64            \n",
      "dtypes: datetime64[ns, UTC](1), float64(4), int64(22), object(7)\n",
      "memory usage: 2.2+ MB\n"
     ]
    }
   ],
   "source": [
    "df.info()"
   ]
  },
  {
   "cell_type": "code",
   "execution_count": 37,
   "id": "f7efa059",
   "metadata": {},
   "outputs": [
    {
     "ename": "TypeError",
     "evalue": "Encoder.__init__() got an unexpected keyword argument 'target_col'",
     "output_type": "error",
     "traceback": [
      "\u001b[31m---------------------------------------------------------------------------\u001b[39m",
      "\u001b[31mTypeError\u001b[39m                                 Traceback (most recent call last)",
      "\u001b[36mCell\u001b[39m\u001b[36m \u001b[39m\u001b[32mIn[37]\u001b[39m\u001b[32m, line 1\u001b[39m\n\u001b[32m----> \u001b[39m\u001b[32m1\u001b[39m encoder = \u001b[43mEncoder\u001b[49m\u001b[43m(\u001b[49m\u001b[43mdf\u001b[49m\u001b[43m,\u001b[49m\u001b[43m \u001b[49m\u001b[43mtarget_col\u001b[49m\u001b[43m=\u001b[49m\u001b[33;43m\"\u001b[39;49m\u001b[33;43mCategoryName\u001b[39;49m\u001b[33;43m\"\u001b[39;49m\u001b[43m)\u001b[49m\n\u001b[32m      2\u001b[39m encoded_df = encoder.encodla().get_df()\n",
      "\u001b[31mTypeError\u001b[39m: Encoder.__init__() got an unexpected keyword argument 'target_col'"
     ]
    }
   ],
   "source": [
    "encoder = Encoder(df, target_col=\"CategoryName\")\n",
    "encoded_df = encoder.encodla().get_df()"
   ]
  },
  {
   "cell_type": "code",
   "execution_count": null,
   "id": "d6f028ad",
   "metadata": {},
   "outputs": [],
   "source": [
    "\n",
    "df.info()"
   ]
  },
  {
   "cell_type": "code",
   "execution_count": null,
   "id": "f581ad2d",
   "metadata": {},
   "outputs": [],
   "source": [
    "scaler = Scaler(df)\n",
    "df = scaler.scaling_qil().get_df()"
   ]
  },
  {
   "cell_type": "code",
   "execution_count": null,
   "id": "c014aa58",
   "metadata": {},
   "outputs": [],
   "source": [
    "\n",
    "df.head()"
   ]
  },
  {
   "cell_type": "code",
   "execution_count": null,
   "id": "71f41fd4",
   "metadata": {},
   "outputs": [],
   "source": [
    "\n",
    "df.to_csv(r\"C:\\Users\\Rasulbek907\\Desktop\\Final_Project\\Data\\Preprosessed_data\\Preprosessed.csv\")"
   ]
  }
 ],
 "metadata": {
  "kernelspec": {
   "display_name": "mpvenv",
   "language": "python",
   "name": "python3"
  },
  "language_info": {
   "codemirror_mode": {
    "name": "ipython",
    "version": 3
   },
   "file_extension": ".py",
   "mimetype": "text/x-python",
   "name": "python",
   "nbconvert_exporter": "python",
   "pygments_lexer": "ipython3",
   "version": "3.13.7"
  }
 },
 "nbformat": 4,
 "nbformat_minor": 5
}
