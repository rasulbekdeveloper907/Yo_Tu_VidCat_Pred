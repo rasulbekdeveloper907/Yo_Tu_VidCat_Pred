{
 "cells": [
  {
   "cell_type": "code",
   "execution_count": null,
   "id": "1304a913",
   "metadata": {},
   "outputs": [],
   "source": [
    "!pip install sqlalchemy pyodbc pandas"
   ]
  },
  {
   "cell_type": "code",
   "execution_count": null,
   "id": "4409cd35",
   "metadata": {},
   "outputs": [],
   "source": [
    "import pyodbc\n",
    "print(pyodbc.drivers())\n"
   ]
  },
  {
   "cell_type": "code",
   "execution_count": null,
   "id": "dc45f994",
   "metadata": {},
   "outputs": [],
   "source": [
    "server = \"DESKTOP-XXXXXX\"   # SQL Server nomi (SSMS’ning yuqorisida ko‘rsatilgan)\n",
    "database = \"MyDatabase\"      # Siz ishlatmoqchi bo‘lgan bazaning nomi\n",
    "username = \"sa\"              # Login (yoki Windows Authentication bo‘lsa, bu kerak emas)\n",
    "password = \"your_password\"   # Parol\n",
    "driver = \"ODBC Driver 17 for SQL Server\"\n"
   ]
  },
  {
   "cell_type": "code",
   "execution_count": null,
   "id": "bd9ba015",
   "metadata": {},
   "outputs": [],
   "source": [
    "import pandas as pd\n",
    "from sqlalchemy import create_engine\n",
    "\n",
    "# CSV faylni o‘qiymiz\n",
    "df = pd.read_csv(\"Clustering.csv\")\n",
    "\n",
    "# MS SQL Server'ga ulanish\n",
    "connection_string = (\n",
    "    f\"mssql+pyodbc://{username}:{password}@{server}/{database}?driver={driver}\"\n",
    ")\n",
    "engine = create_engine(connection_string)\n",
    "\n",
    "# DataFrame’ni jadval sifatida yozamiz\n",
    "df.to_sql(\"Clustering\", con=engine, if_exists=\"replace\", index=False)\n",
    "\n",
    "print(\"✅ Ma’lumotlar MS SQL bazasiga muvaffaqiyatli saqlandi!\")\n"
   ]
  },
  {
   "cell_type": "code",
   "execution_count": null,
   "id": "c8a187d3",
   "metadata": {},
   "outputs": [],
   "source": [
    "USE MyDatabase;\n",
    "SELECT TOP 10 * FROM Clustering;"
   ]
  },
  {
   "cell_type": "code",
   "execution_count": null,
   "id": "c2b27f21",
   "metadata": {},
   "outputs": [],
   "source": [
    "connection_string = (\n",
    "    f\"mssql+pyodbc://@{server}/{database}?driver={driver}&trusted_connection=yes\"\n",
    ")\n",
    "engine = create_engine(connection_string)\n"
   ]
  },
  {
   "cell_type": "code",
   "execution_count": null,
   "id": "df00372e",
   "metadata": {},
   "outputs": [],
   "source": [
    "query = \"SELECT * FROM Clustering\"\n",
    "df_sql = pd.read_sql(query, engine)\n",
    "print(df_sql.head())"
   ]
  }
 ],
 "metadata": {
  "kernelspec": {
   "display_name": "mpvenv",
   "language": "python",
   "name": "python3"
  },
  "language_info": {
   "name": "python",
   "version": "3.13.7"
  }
 },
 "nbformat": 4,
 "nbformat_minor": 5
}
